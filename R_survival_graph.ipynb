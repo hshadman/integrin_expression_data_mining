{
 "cells": [
  {
   "cell_type": "code",
   "execution_count": 1,
   "metadata": {},
   "outputs": [
    {
     "name": "stderr",
     "output_type": "stream",
     "text": [
      "Loading required package: ggplot2\n",
      "\n",
      "Loading required package: ggpubr\n",
      "\n"
     ]
    }
   ],
   "source": [
    "library(\"survival\")\n",
    "library(\"coxphMIC\")\n",
    "library(\"survminer\")"
   ]
  },
  {
   "cell_type": "code",
   "execution_count": null,
   "metadata": {},
   "outputs": [],
   "source": [
    "#urlPackage <- \"https://cran.r-project.org/src/contrib/Archive/randomForest/randomForest_4.6-12.tar.gz\""
   ]
  },
  {
   "cell_type": "code",
   "execution_count": null,
   "metadata": {},
   "outputs": [],
   "source": [
    "#install.packages(urlPackage, repos=NULL, type=\"source\",lib='/home/hshadman/R/x86_64-pc-linux-gnu-library/3.5')"
   ]
  },
  {
   "cell_type": "code",
   "execution_count": null,
   "metadata": {},
   "outputs": [],
   "source": [
    "#urlPackage <- \"https://cran.r-project.org/src/contrib/Archive/randomForestSRC/randomForestSRC_2.9.3.tar.gz\""
   ]
  },
  {
   "cell_type": "code",
   "execution_count": null,
   "metadata": {},
   "outputs": [],
   "source": [
    "#install.packages(urlPackage, repos=NULL, type=\"source\",lib='/home/hshadman/R/x86_64-pc-linux-gnu-library/3.5')"
   ]
  },
  {
   "cell_type": "code",
   "execution_count": null,
   "metadata": {},
   "outputs": [],
   "source": [
    "#urlPackage <- \"https://cran.r-project.org/src/contrib/Archive/ClusterR/ClusterR_1.2.5.tar.gz\"\n",
    "#install.packages(urlPackage, repos=NULL, type=\"source\",lib='/home/hshadman/R/x86_64-pc-linux-gnu-library/3.5')"
   ]
  },
  {
   "cell_type": "code",
   "execution_count": 2,
   "metadata": {},
   "outputs": [
    {
     "name": "stderr",
     "output_type": "stream",
     "text": [
      "randomForest 4.6-12\n",
      "\n",
      "Type rfNews() to see new features/changes/bug fixes.\n",
      "\n",
      "\n",
      "Attaching package: ‘randomForest’\n",
      "\n",
      "\n",
      "The following object is masked from ‘package:ggplot2’:\n",
      "\n",
      "    margin\n",
      "\n",
      "\n"
     ]
    }
   ],
   "source": [
    "library('randomForest')"
   ]
  },
  {
   "cell_type": "code",
   "execution_count": 3,
   "metadata": {},
   "outputs": [
    {
     "name": "stderr",
     "output_type": "stream",
     "text": [
      "\n",
      " randomForestSRC 2.9.3 \n",
      " \n",
      " Type rfsrc.news() to see new features, changes, and bug fixes. \n",
      " \n",
      "\n",
      "\n"
     ]
    }
   ],
   "source": [
    "library(\"randomForestSRC\")"
   ]
  },
  {
   "cell_type": "code",
   "execution_count": 4,
   "metadata": {},
   "outputs": [
    {
     "name": "stderr",
     "output_type": "stream",
     "text": [
      "Loading required package: gtools\n",
      "\n"
     ]
    }
   ],
   "source": [
    "library('ClusterR')"
   ]
  },
  {
   "cell_type": "code",
   "execution_count": 5,
   "metadata": {},
   "outputs": [],
   "source": [
    "library('cluster')"
   ]
  },
  {
   "cell_type": "code",
   "execution_count": 6,
   "metadata": {},
   "outputs": [],
   "source": [
    "library('scatterplot3d')"
   ]
  },
  {
   "cell_type": "code",
   "execution_count": 7,
   "metadata": {},
   "outputs": [],
   "source": [
    "integrin=read.csv(\"integrin_data_with_sample_survival_info.txt\",sep='\\t')"
   ]
  },
  {
   "cell_type": "code",
   "execution_count": 8,
   "metadata": {},
   "outputs": [
    {
     "data": {
      "text/html": [
       "<style>\n",
       ".list-inline {list-style: none; margin:0; padding: 0}\n",
       ".list-inline>li {display: inline-block}\n",
       ".list-inline>li:not(:last-child)::after {content: \"\\00b7\"; padding: 0 .5ex}\n",
       "</style>\n",
       "<ol class=list-inline><li>1218</li><li>231</li></ol>\n"
      ],
      "text/latex": [
       "\\begin{enumerate*}\n",
       "\\item 1218\n",
       "\\item 231\n",
       "\\end{enumerate*}\n"
      ],
      "text/markdown": [
       "1. 1218\n",
       "2. 231\n",
       "\n",
       "\n"
      ],
      "text/plain": [
       "[1] 1218  231"
      ]
     },
     "metadata": {},
     "output_type": "display_data"
    }
   ],
   "source": [
    "dim(integrin)"
   ]
  },
  {
   "cell_type": "code",
   "execution_count": 9,
   "metadata": {},
   "outputs": [],
   "source": [
    "integrin.ge=integrin[,2:28]"
   ]
  },
  {
   "cell_type": "code",
   "execution_count": 10,
   "metadata": {},
   "outputs": [],
   "source": [
    "clusters <- hclust(dist(t(integrin.ge)))"
   ]
  },
  {
   "cell_type": "code",
   "execution_count": 11,
   "metadata": {},
   "outputs": [
    {
     "data": {
      "image/png": "[encoded data removed]",
      "text/plain": [
       "Plot with title “Cluster Dendrogram”"
      ]
     },
     "metadata": {
      "image/png": {
       "height": 420,
       "width": 420
      }
     },
     "output_type": "display_data"
    }
   ],
   "source": [
    "p1 <- plot(clusters)\n"
   ]
  },
  {
   "cell_type": "code",
   "execution_count": 12,
   "metadata": {},
   "outputs": [],
   "source": [
    "covariates <- colnames(integrin[,2:28])"
   ]
  },
  {
   "cell_type": "code",
   "execution_count": 13,
   "metadata": {},
   "outputs": [],
   "source": [
    "univ_formulas.DSS <- sapply(covariates,function(x) as.formula(paste('Surv(DSS.time,DSS)~', x)))"
   ]
  },
  {
   "cell_type": "code",
   "execution_count": 14,
   "metadata": {},
   "outputs": [],
   "source": [
    "univ_models.DSS <- lapply(univ_formulas.DSS, function(x){coxph(x, data = integrin)})"
   ]
  },
  {
   "cell_type": "code",
   "execution_count": 15,
   "metadata": {},
   "outputs": [
    {
     "data": {
      "text/html": [
       "<table class=\"dataframe\">\n",
       "<caption>A data.frame: 27 × 4</caption>\n",
       "<thead>\n",
       "\t<tr><th></th><th scope=col>beta</th><th scope=col>HR (95% CI for HR)</th><th scope=col>wald.test</th><th scope=col>p.value</th></tr>\n",
       "\t<tr><th></th><th scope=col>&lt;fct&gt;</th><th scope=col>&lt;fct&gt;</th><th scope=col>&lt;fct&gt;</th><th scope=col>&lt;fct&gt;</th></tr>\n",
       "</thead>\n",
       "<tbody>\n",
       "\t<tr><th scope=row>ITGA8</th><td>0.054 </td><td>1.1 (0.95-1.2)  </td><td>0.91</td><td>0.34  </td></tr>\n",
       "\t<tr><th scope=row>ITGA9</th><td>0.0065</td><td>1 (0.88-1.2)    </td><td>0.01</td><td>0.92  </td></tr>\n",
       "\t<tr><th scope=row>ITGA1</th><td>0.25  </td><td>1.3 (1.1-1.5)   </td><td>6.6 </td><td>0.0099</td></tr>\n",
       "\t<tr><th scope=row>ITGA2</th><td>-0.033</td><td>0.97 (0.84-1.1) </td><td>0.22</td><td>0.64  </td></tr>\n",
       "\t<tr><th scope=row>ITGA3</th><td>-0.095</td><td>0.91 (0.76-1.1) </td><td>1.1 </td><td>0.3   </td></tr>\n",
       "\t<tr><th scope=row>ITGA4</th><td>-0.026</td><td>0.97 (0.83-1.1) </td><td>0.11</td><td>0.74  </td></tr>\n",
       "\t<tr><th scope=row>ITGA5</th><td>0.28  </td><td>1.3 (1-1.7)     </td><td>4.8 </td><td>0.028 </td></tr>\n",
       "\t<tr><th scope=row>ITGA6</th><td>0.058 </td><td>1.1 (0.9-1.2)   </td><td>0.49</td><td>0.48  </td></tr>\n",
       "\t<tr><th scope=row>ITGA7</th><td>0.073 </td><td>1.1 (0.97-1.2)  </td><td>1.9 </td><td>0.17  </td></tr>\n",
       "\t<tr><th scope=row>ITGAX</th><td>-0.17 </td><td>0.84 (0.72-1)   </td><td>4.1 </td><td>0.044 </td></tr>\n",
       "\t<tr><th scope=row>ITGAV</th><td>0.2   </td><td>1.2 (0.95-1.6)  </td><td>2.5 </td><td>0.11  </td></tr>\n",
       "\t<tr><th scope=row>ITGAL</th><td>-0.19 </td><td>0.82 (0.72-0.94)</td><td>7.9 </td><td>0.0049</td></tr>\n",
       "\t<tr><th scope=row>ITGAM</th><td>-0.15 </td><td>0.86 (0.73-1)   </td><td>3.2 </td><td>0.074 </td></tr>\n",
       "\t<tr><th scope=row>ITGA2B</th><td>-0.077</td><td>0.93 (0.81-1.1) </td><td>1.2 </td><td>0.27  </td></tr>\n",
       "\t<tr><th scope=row>ITGAD</th><td>-0.021</td><td>0.98 (0.87-1.1) </td><td>0.11</td><td>0.73  </td></tr>\n",
       "\t<tr><th scope=row>ITGAE</th><td>0.12  </td><td>1.1 (0.83-1.5)  </td><td>0.61</td><td>0.43  </td></tr>\n",
       "\t<tr><th scope=row>ITGBL1</th><td>0.031 </td><td>1 (0.9-1.2)     </td><td>0.21</td><td>0.65  </td></tr>\n",
       "\t<tr><th scope=row>ITGB1</th><td>0.42  </td><td>1.5 (1.1-2.1)   </td><td>7.5 </td><td>0.006 </td></tr>\n",
       "\t<tr><th scope=row>ITGB3</th><td>0.17  </td><td>1.2 (1-1.4)     </td><td>5.7 </td><td>0.017 </td></tr>\n",
       "\t<tr><th scope=row>ITGB5</th><td>-0.011</td><td>0.99 (0.8-1.2)  </td><td>0.01</td><td>0.92  </td></tr>\n",
       "\t<tr><th scope=row>ITGB4</th><td>-0.023</td><td>0.98 (0.85-1.1) </td><td>0.1 </td><td>0.75  </td></tr>\n",
       "\t<tr><th scope=row>ITGB7</th><td>-0.16 </td><td>0.85 (0.74-0.98)</td><td>4.9 </td><td>0.027 </td></tr>\n",
       "\t<tr><th scope=row>ITGB6</th><td>0.057 </td><td>1.1 (0.96-1.2)  </td><td>1.3 </td><td>0.25  </td></tr>\n",
       "\t<tr><th scope=row>ITGB8</th><td>-0.034</td><td>0.97 (0.87-1.1) </td><td>0.4 </td><td>0.53  </td></tr>\n",
       "\t<tr><th scope=row>ITGA10</th><td>-0.031</td><td>0.97 (0.86-1.1) </td><td>0.24</td><td>0.63  </td></tr>\n",
       "\t<tr><th scope=row>ITGA11</th><td>0.1   </td><td>1.1 (0.97-1.3)  </td><td>2.3 </td><td>0.13  </td></tr>\n",
       "\t<tr><th scope=row>ITGB2</th><td>-0.095</td><td>0.91 (0.78-1.1) </td><td>1.4 </td><td>0.24  </td></tr>\n",
       "</tbody>\n",
       "</table>\n"
      ],
      "text/latex": [
       "A data.frame: 27 × 4\n",
       "\\begin{tabular}{r|llll}\n",
       "  & beta & HR (95\\% CI for HR) & wald.test & p.value\\\\\n",
       "  & <fct> & <fct> & <fct> & <fct>\\\\\n",
       "\\hline\n",
       "\tITGA8 & 0.054  & 1.1 (0.95-1.2)   & 0.91 & 0.34  \\\\\n",
       "\tITGA9 & 0.0065 & 1 (0.88-1.2)     & 0.01 & 0.92  \\\\\n",
       "\tITGA1 & 0.25   & 1.3 (1.1-1.5)    & 6.6  & 0.0099\\\\\n",
       "\tITGA2 & -0.033 & 0.97 (0.84-1.1)  & 0.22 & 0.64  \\\\\n",
       "\tITGA3 & -0.095 & 0.91 (0.76-1.1)  & 1.1  & 0.3   \\\\\n",
       "\tITGA4 & -0.026 & 0.97 (0.83-1.1)  & 0.11 & 0.74  \\\\\n",
       "\tITGA5 & 0.28   & 1.3 (1-1.7)      & 4.8  & 0.028 \\\\\n",
       "\tITGA6 & 0.058  & 1.1 (0.9-1.2)    & 0.49 & 0.48  \\\\\n",
       "\tITGA7 & 0.073  & 1.1 (0.97-1.2)   & 1.9  & 0.17  \\\\\n",
       "\tITGAX & -0.17  & 0.84 (0.72-1)    & 4.1  & 0.044 \\\\\n",
       "\tITGAV & 0.2    & 1.2 (0.95-1.6)   & 2.5  & 0.11  \\\\\n",
       "\tITGAL & -0.19  & 0.82 (0.72-0.94) & 7.9  & 0.0049\\\\\n",
       "\tITGAM & -0.15  & 0.86 (0.73-1)    & 3.2  & 0.074 \\\\\n",
       "\tITGA2B & -0.077 & 0.93 (0.81-1.1)  & 1.2  & 0.27  \\\\\n",
       "\tITGAD & -0.021 & 0.98 (0.87-1.1)  & 0.11 & 0.73  \\\\\n",
       "\tITGAE & 0.12   & 1.1 (0.83-1.5)   & 0.61 & 0.43  \\\\\n",
       "\tITGBL1 & 0.031  & 1 (0.9-1.2)      & 0.21 & 0.65  \\\\\n",
       "\tITGB1 & 0.42   & 1.5 (1.1-2.1)    & 7.5  & 0.006 \\\\\n",
       "\tITGB3 & 0.17   & 1.2 (1-1.4)      & 5.7  & 0.017 \\\\\n",
       "\tITGB5 & -0.011 & 0.99 (0.8-1.2)   & 0.01 & 0.92  \\\\\n",
       "\tITGB4 & -0.023 & 0.98 (0.85-1.1)  & 0.1  & 0.75  \\\\\n",
       "\tITGB7 & -0.16  & 0.85 (0.74-0.98) & 4.9  & 0.027 \\\\\n",
       "\tITGB6 & 0.057  & 1.1 (0.96-1.2)   & 1.3  & 0.25  \\\\\n",
       "\tITGB8 & -0.034 & 0.97 (0.87-1.1)  & 0.4  & 0.53  \\\\\n",
       "\tITGA10 & -0.031 & 0.97 (0.86-1.1)  & 0.24 & 0.63  \\\\\n",
       "\tITGA11 & 0.1    & 1.1 (0.97-1.3)   & 2.3  & 0.13  \\\\\n",
       "\tITGB2 & -0.095 & 0.91 (0.78-1.1)  & 1.4  & 0.24  \\\\\n",
       "\\end{tabular}\n"
      ],
      "text/markdown": [
       "\n",
       "A data.frame: 27 × 4\n",
       "\n",
       "| <!--/--> | beta &lt;fct&gt; | HR (95% CI for HR) &lt;fct&gt; | wald.test &lt;fct&gt; | p.value &lt;fct&gt; |\n",
       "|---|---|---|---|---|\n",
       "| ITGA8 | 0.054  | 1.1 (0.95-1.2)   | 0.91 | 0.34   |\n",
       "| ITGA9 | 0.0065 | 1 (0.88-1.2)     | 0.01 | 0.92   |\n",
       "| ITGA1 | 0.25   | 1.3 (1.1-1.5)    | 6.6  | 0.0099 |\n",
       "| ITGA2 | -0.033 | 0.97 (0.84-1.1)  | 0.22 | 0.64   |\n",
       "| ITGA3 | -0.095 | 0.91 (0.76-1.1)  | 1.1  | 0.3    |\n",
       "| ITGA4 | -0.026 | 0.97 (0.83-1.1)  | 0.11 | 0.74   |\n",
       "| ITGA5 | 0.28   | 1.3 (1-1.7)      | 4.8  | 0.028  |\n",
       "| ITGA6 | 0.058  | 1.1 (0.9-1.2)    | 0.49 | 0.48   |\n",
       "| ITGA7 | 0.073  | 1.1 (0.97-1.2)   | 1.9  | 0.17   |\n",
       "| ITGAX | -0.17  | 0.84 (0.72-1)    | 4.1  | 0.044  |\n",
       "| ITGAV | 0.2    | 1.2 (0.95-1.6)   | 2.5  | 0.11   |\n",
       "| ITGAL | -0.19  | 0.82 (0.72-0.94) | 7.9  | 0.0049 |\n",
       "| ITGAM | -0.15  | 0.86 (0.73-1)    | 3.2  | 0.074  |\n",
       "| ITGA2B | -0.077 | 0.93 (0.81-1.1)  | 1.2  | 0.27   |\n",
       "| ITGAD | -0.021 | 0.98 (0.87-1.1)  | 0.11 | 0.73   |\n",
       "| ITGAE | 0.12   | 1.1 (0.83-1.5)   | 0.61 | 0.43   |\n",
       "| ITGBL1 | 0.031  | 1 (0.9-1.2)      | 0.21 | 0.65   |\n",
       "| ITGB1 | 0.42   | 1.5 (1.1-2.1)    | 7.5  | 0.006  |\n",
       "| ITGB3 | 0.17   | 1.2 (1-1.4)      | 5.7  | 0.017  |\n",
       "| ITGB5 | -0.011 | 0.99 (0.8-1.2)   | 0.01 | 0.92   |\n",
       "| ITGB4 | -0.023 | 0.98 (0.85-1.1)  | 0.1  | 0.75   |\n",
       "| ITGB7 | -0.16  | 0.85 (0.74-0.98) | 4.9  | 0.027  |\n",
       "| ITGB6 | 0.057  | 1.1 (0.96-1.2)   | 1.3  | 0.25   |\n",
       "| ITGB8 | -0.034 | 0.97 (0.87-1.1)  | 0.4  | 0.53   |\n",
       "| ITGA10 | -0.031 | 0.97 (0.86-1.1)  | 0.24 | 0.63   |\n",
       "| ITGA11 | 0.1    | 1.1 (0.97-1.3)   | 2.3  | 0.13   |\n",
       "| ITGB2 | -0.095 | 0.91 (0.78-1.1)  | 1.4  | 0.24   |\n",
       "\n"
      ],
      "text/plain": [
       "       beta   HR (95% CI for HR) wald.test p.value\n",
       "ITGA8  0.054  1.1 (0.95-1.2)     0.91      0.34   \n",
       "ITGA9  0.0065 1 (0.88-1.2)       0.01      0.92   \n",
       "ITGA1  0.25   1.3 (1.1-1.5)      6.6       0.0099 \n",
       "ITGA2  -0.033 0.97 (0.84-1.1)    0.22      0.64   \n",
       "ITGA3  -0.095 0.91 (0.76-1.1)    1.1       0.3    \n",
       "ITGA4  -0.026 0.97 (0.83-1.1)    0.11      0.74   \n",
       "ITGA5  0.28   1.3 (1-1.7)        4.8       0.028  \n",
       "ITGA6  0.058  1.1 (0.9-1.2)      0.49      0.48   \n",
       "ITGA7  0.073  1.1 (0.97-1.2)     1.9       0.17   \n",
       "ITGAX  -0.17  0.84 (0.72-1)      4.1       0.044  \n",
       "ITGAV  0.2    1.2 (0.95-1.6)     2.5       0.11   \n",
       "ITGAL  -0.19  0.82 (0.72-0.94)   7.9       0.0049 \n",
       "ITGAM  -0.15  0.86 (0.73-1)      3.2       0.074  \n",
       "ITGA2B -0.077 0.93 (0.81-1.1)    1.2       0.27   \n",
       "ITGAD  -0.021 0.98 (0.87-1.1)    0.11      0.73   \n",
       "ITGAE  0.12   1.1 (0.83-1.5)     0.61      0.43   \n",
       "ITGBL1 0.031  1 (0.9-1.2)        0.21      0.65   \n",
       "ITGB1  0.42   1.5 (1.1-2.1)      7.5       0.006  \n",
       "ITGB3  0.17   1.2 (1-1.4)        5.7       0.017  \n",
       "ITGB5  -0.011 0.99 (0.8-1.2)     0.01      0.92   \n",
       "ITGB4  -0.023 0.98 (0.85-1.1)    0.1       0.75   \n",
       "ITGB7  -0.16  0.85 (0.74-0.98)   4.9       0.027  \n",
       "ITGB6  0.057  1.1 (0.96-1.2)     1.3       0.25   \n",
       "ITGB8  -0.034 0.97 (0.87-1.1)    0.4       0.53   \n",
       "ITGA10 -0.031 0.97 (0.86-1.1)    0.24      0.63   \n",
       "ITGA11 0.1    1.1 (0.97-1.3)     2.3       0.13   \n",
       "ITGB2  -0.095 0.91 (0.78-1.1)    1.4       0.24   "
      ]
     },
     "metadata": {},
     "output_type": "display_data"
    }
   ],
   "source": [
    "univ_results.DSS <- lapply(univ_models.DSS, \n",
    "                       function(x){  \n",
    "                          x <- summary(x) \n",
    "                          p.value<-signif(x$wald[\"pvalue\"], digits=2) \n",
    "                          wald.test<-signif(x$wald[\"test\"], digits=2) \n",
    "                          beta<-signif(x$coef[1], digits=2);#coeficient beta \n",
    "                          HR <-signif(x$coef[2], digits=2);#exp(beta) \n",
    "                          HR.confint.lower <- signif(x$conf.int[,\"lower .95\"], 2) \n",
    "                          HR.confint.upper <- signif(x$conf.int[,\"upper .95\"],2) \n",
    "                          HR <- paste0(HR, \" (\",  \n",
    "                                       HR.confint.lower, \"-\", HR.confint.upper, \")\") \n",
    "                          res<-c(beta, HR, wald.test, p.value) \n",
    "                          names(res)<-c(\"beta\", \"HR (95% CI for HR)\", \"wald.test\",  \n",
    "                                        \"p.value\") \n",
    "                          return(res) \n",
    "                          #return(exp(cbind(coef(x),confint(x)))) \n",
    "                         }) \n",
    "res.DSS <- t(as.data.frame(univ_results.DSS, check.names = FALSE)) \n",
    "as.data.frame(res.DSS)"
   ]
  },
  {
   "cell_type": "code",
   "execution_count": 16,
   "metadata": {},
   "outputs": [],
   "source": [
    "covariates <- colnames(integrin[,2:28]) \n",
    " \n",
    " \n",
    "univ_formulas.OS <- sapply(covariates, \n",
    "                        function(x) as.formula(paste('Surv(OS.time,OS)~', x))) \n",
    "                         \n",
    "univ_models.OS <- lapply( univ_formulas.OS, function(x){coxph(x, data = integrin)})"
   ]
  },
  {
   "cell_type": "code",
   "execution_count": 17,
   "metadata": {},
   "outputs": [
    {
     "data": {
      "text/html": [
       "<table class=\"dataframe\">\n",
       "<caption>A data.frame: 27 × 4</caption>\n",
       "<thead>\n",
       "\t<tr><th></th><th scope=col>beta</th><th scope=col>HR (95% CI for HR)</th><th scope=col>wald.test</th><th scope=col>p.value</th></tr>\n",
       "\t<tr><th></th><th scope=col>&lt;fct&gt;</th><th scope=col>&lt;fct&gt;</th><th scope=col>&lt;fct&gt;</th><th scope=col>&lt;fct&gt;</th></tr>\n",
       "</thead>\n",
       "<tbody>\n",
       "\t<tr><th scope=row>ITGA8</th><td>0.091  </td><td>1.1 (1-1.2)     </td><td>4.8 </td><td>0.028  </td></tr>\n",
       "\t<tr><th scope=row>ITGA9</th><td>0.077  </td><td>1.1 (0.98-1.2)  </td><td>2.2 </td><td>0.14   </td></tr>\n",
       "\t<tr><th scope=row>ITGA1</th><td>0.22   </td><td>1.2 (1.1-1.4)   </td><td>10  </td><td>0.0013 </td></tr>\n",
       "\t<tr><th scope=row>ITGA2</th><td>0.015  </td><td>1 (0.92-1.1)    </td><td>0.08</td><td>0.77   </td></tr>\n",
       "\t<tr><th scope=row>ITGA3</th><td>-0.058 </td><td>0.94 (0.83-1.1) </td><td>0.73</td><td>0.39   </td></tr>\n",
       "\t<tr><th scope=row>ITGA4</th><td>-0.018 </td><td>0.98 (0.88-1.1) </td><td>0.1 </td><td>0.75   </td></tr>\n",
       "\t<tr><th scope=row>ITGA5</th><td>0.12   </td><td>1.1 (0.94-1.4)  </td><td>1.6 </td><td>0.21   </td></tr>\n",
       "\t<tr><th scope=row>ITGA6</th><td>0.056  </td><td>1.1 (0.94-1.2)  </td><td>0.89</td><td>0.34   </td></tr>\n",
       "\t<tr><th scope=row>ITGA7</th><td>0.12   </td><td>1.1 (1-1.2)     </td><td>9.9 </td><td>0.0016 </td></tr>\n",
       "\t<tr><th scope=row>ITGAX</th><td>-0.17  </td><td>0.84 (0.75-0.95)</td><td>7.9 </td><td>0.0051 </td></tr>\n",
       "\t<tr><th scope=row>ITGAV</th><td>0.19   </td><td>1.2 (1-1.4)     </td><td>3.9 </td><td>0.049  </td></tr>\n",
       "\t<tr><th scope=row>ITGAL</th><td>-0.13  </td><td>0.88 (0.79-0.97)</td><td>6.5 </td><td>0.011  </td></tr>\n",
       "\t<tr><th scope=row>ITGAM</th><td>-0.067 </td><td>0.94 (0.83-1.1) </td><td>1.2 </td><td>0.27   </td></tr>\n",
       "\t<tr><th scope=row>ITGA2B</th><td>-0.075 </td><td>0.93 (0.84-1)   </td><td>2.2 </td><td>0.14   </td></tr>\n",
       "\t<tr><th scope=row>ITGAD</th><td>-0.029 </td><td>0.97 (0.89-1.1) </td><td>0.38</td><td>0.54   </td></tr>\n",
       "\t<tr><th scope=row>ITGAE</th><td>0.024  </td><td>1 (0.81-1.3)    </td><td>0.04</td><td>0.84   </td></tr>\n",
       "\t<tr><th scope=row>ITGBL1</th><td>-0.0014</td><td>1 (0.91-1.1)    </td><td>0   </td><td>0.98   </td></tr>\n",
       "\t<tr><th scope=row>ITGB1</th><td>0.38   </td><td>1.5 (1.2-1.8)   </td><td>11  </td><td>0.00076</td></tr>\n",
       "\t<tr><th scope=row>ITGB3</th><td>0.2    </td><td>1.2 (1.1-1.3)   </td><td>14  </td><td>0.00015</td></tr>\n",
       "\t<tr><th scope=row>ITGB5</th><td>-0.013 </td><td>0.99 (0.84-1.2) </td><td>0.03</td><td>0.87   </td></tr>\n",
       "\t<tr><th scope=row>ITGB4</th><td>-0.025 </td><td>0.97 (0.88-1.1) </td><td>0.24</td><td>0.62   </td></tr>\n",
       "\t<tr><th scope=row>ITGB7</th><td>-0.13  </td><td>0.88 (0.79-0.96)</td><td>7.2 </td><td>0.0074 </td></tr>\n",
       "\t<tr><th scope=row>ITGB6</th><td>0.033  </td><td>1 (0.96-1.1)    </td><td>0.85</td><td>0.36   </td></tr>\n",
       "\t<tr><th scope=row>ITGB8</th><td>0.0033 </td><td>1 (0.93-1.1)    </td><td>0.01</td><td>0.93   </td></tr>\n",
       "\t<tr><th scope=row>ITGA10</th><td>-0.033 </td><td>0.97 (0.88-1.1) </td><td>0.53</td><td>0.47   </td></tr>\n",
       "\t<tr><th scope=row>ITGA11</th><td>0.036  </td><td>1 (0.94-1.1)    </td><td>0.56</td><td>0.46   </td></tr>\n",
       "\t<tr><th scope=row>ITGB2</th><td>-0.12  </td><td>0.89 (0.79-1)   </td><td>4.1 </td><td>0.044  </td></tr>\n",
       "</tbody>\n",
       "</table>\n"
      ],
      "text/latex": [
       "A data.frame: 27 × 4\n",
       "\\begin{tabular}{r|llll}\n",
       "  & beta & HR (95\\% CI for HR) & wald.test & p.value\\\\\n",
       "  & <fct> & <fct> & <fct> & <fct>\\\\\n",
       "\\hline\n",
       "\tITGA8 & 0.091   & 1.1 (1-1.2)      & 4.8  & 0.028  \\\\\n",
       "\tITGA9 & 0.077   & 1.1 (0.98-1.2)   & 2.2  & 0.14   \\\\\n",
       "\tITGA1 & 0.22    & 1.2 (1.1-1.4)    & 10   & 0.0013 \\\\\n",
       "\tITGA2 & 0.015   & 1 (0.92-1.1)     & 0.08 & 0.77   \\\\\n",
       "\tITGA3 & -0.058  & 0.94 (0.83-1.1)  & 0.73 & 0.39   \\\\\n",
       "\tITGA4 & -0.018  & 0.98 (0.88-1.1)  & 0.1  & 0.75   \\\\\n",
       "\tITGA5 & 0.12    & 1.1 (0.94-1.4)   & 1.6  & 0.21   \\\\\n",
       "\tITGA6 & 0.056   & 1.1 (0.94-1.2)   & 0.89 & 0.34   \\\\\n",
       "\tITGA7 & 0.12    & 1.1 (1-1.2)      & 9.9  & 0.0016 \\\\\n",
       "\tITGAX & -0.17   & 0.84 (0.75-0.95) & 7.9  & 0.0051 \\\\\n",
       "\tITGAV & 0.19    & 1.2 (1-1.4)      & 3.9  & 0.049  \\\\\n",
       "\tITGAL & -0.13   & 0.88 (0.79-0.97) & 6.5  & 0.011  \\\\\n",
       "\tITGAM & -0.067  & 0.94 (0.83-1.1)  & 1.2  & 0.27   \\\\\n",
       "\tITGA2B & -0.075  & 0.93 (0.84-1)    & 2.2  & 0.14   \\\\\n",
       "\tITGAD & -0.029  & 0.97 (0.89-1.1)  & 0.38 & 0.54   \\\\\n",
       "\tITGAE & 0.024   & 1 (0.81-1.3)     & 0.04 & 0.84   \\\\\n",
       "\tITGBL1 & -0.0014 & 1 (0.91-1.1)     & 0    & 0.98   \\\\\n",
       "\tITGB1 & 0.38    & 1.5 (1.2-1.8)    & 11   & 0.00076\\\\\n",
       "\tITGB3 & 0.2     & 1.2 (1.1-1.3)    & 14   & 0.00015\\\\\n",
       "\tITGB5 & -0.013  & 0.99 (0.84-1.2)  & 0.03 & 0.87   \\\\\n",
       "\tITGB4 & -0.025  & 0.97 (0.88-1.1)  & 0.24 & 0.62   \\\\\n",
       "\tITGB7 & -0.13   & 0.88 (0.79-0.96) & 7.2  & 0.0074 \\\\\n",
       "\tITGB6 & 0.033   & 1 (0.96-1.1)     & 0.85 & 0.36   \\\\\n",
       "\tITGB8 & 0.0033  & 1 (0.93-1.1)     & 0.01 & 0.93   \\\\\n",
       "\tITGA10 & -0.033  & 0.97 (0.88-1.1)  & 0.53 & 0.47   \\\\\n",
       "\tITGA11 & 0.036   & 1 (0.94-1.1)     & 0.56 & 0.46   \\\\\n",
       "\tITGB2 & -0.12   & 0.89 (0.79-1)    & 4.1  & 0.044  \\\\\n",
       "\\end{tabular}\n"
      ],
      "text/markdown": [
       "\n",
       "A data.frame: 27 × 4\n",
       "\n",
       "| <!--/--> | beta &lt;fct&gt; | HR (95% CI for HR) &lt;fct&gt; | wald.test &lt;fct&gt; | p.value &lt;fct&gt; |\n",
       "|---|---|---|---|---|\n",
       "| ITGA8 | 0.091   | 1.1 (1-1.2)      | 4.8  | 0.028   |\n",
       "| ITGA9 | 0.077   | 1.1 (0.98-1.2)   | 2.2  | 0.14    |\n",
       "| ITGA1 | 0.22    | 1.2 (1.1-1.4)    | 10   | 0.0013  |\n",
       "| ITGA2 | 0.015   | 1 (0.92-1.1)     | 0.08 | 0.77    |\n",
       "| ITGA3 | -0.058  | 0.94 (0.83-1.1)  | 0.73 | 0.39    |\n",
       "| ITGA4 | -0.018  | 0.98 (0.88-1.1)  | 0.1  | 0.75    |\n",
       "| ITGA5 | 0.12    | 1.1 (0.94-1.4)   | 1.6  | 0.21    |\n",
       "| ITGA6 | 0.056   | 1.1 (0.94-1.2)   | 0.89 | 0.34    |\n",
       "| ITGA7 | 0.12    | 1.1 (1-1.2)      | 9.9  | 0.0016  |\n",
       "| ITGAX | -0.17   | 0.84 (0.75-0.95) | 7.9  | 0.0051  |\n",
       "| ITGAV | 0.19    | 1.2 (1-1.4)      | 3.9  | 0.049   |\n",
       "| ITGAL | -0.13   | 0.88 (0.79-0.97) | 6.5  | 0.011   |\n",
       "| ITGAM | -0.067  | 0.94 (0.83-1.1)  | 1.2  | 0.27    |\n",
       "| ITGA2B | -0.075  | 0.93 (0.84-1)    | 2.2  | 0.14    |\n",
       "| ITGAD | -0.029  | 0.97 (0.89-1.1)  | 0.38 | 0.54    |\n",
       "| ITGAE | 0.024   | 1 (0.81-1.3)     | 0.04 | 0.84    |\n",
       "| ITGBL1 | -0.0014 | 1 (0.91-1.1)     | 0    | 0.98    |\n",
       "| ITGB1 | 0.38    | 1.5 (1.2-1.8)    | 11   | 0.00076 |\n",
       "| ITGB3 | 0.2     | 1.2 (1.1-1.3)    | 14   | 0.00015 |\n",
       "| ITGB5 | -0.013  | 0.99 (0.84-1.2)  | 0.03 | 0.87    |\n",
       "| ITGB4 | -0.025  | 0.97 (0.88-1.1)  | 0.24 | 0.62    |\n",
       "| ITGB7 | -0.13   | 0.88 (0.79-0.96) | 7.2  | 0.0074  |\n",
       "| ITGB6 | 0.033   | 1 (0.96-1.1)     | 0.85 | 0.36    |\n",
       "| ITGB8 | 0.0033  | 1 (0.93-1.1)     | 0.01 | 0.93    |\n",
       "| ITGA10 | -0.033  | 0.97 (0.88-1.1)  | 0.53 | 0.47    |\n",
       "| ITGA11 | 0.036   | 1 (0.94-1.1)     | 0.56 | 0.46    |\n",
       "| ITGB2 | -0.12   | 0.89 (0.79-1)    | 4.1  | 0.044   |\n",
       "\n"
      ],
      "text/plain": [
       "       beta    HR (95% CI for HR) wald.test p.value\n",
       "ITGA8  0.091   1.1 (1-1.2)        4.8       0.028  \n",
       "ITGA9  0.077   1.1 (0.98-1.2)     2.2       0.14   \n",
       "ITGA1  0.22    1.2 (1.1-1.4)      10        0.0013 \n",
       "ITGA2  0.015   1 (0.92-1.1)       0.08      0.77   \n",
       "ITGA3  -0.058  0.94 (0.83-1.1)    0.73      0.39   \n",
       "ITGA4  -0.018  0.98 (0.88-1.1)    0.1       0.75   \n",
       "ITGA5  0.12    1.1 (0.94-1.4)     1.6       0.21   \n",
       "ITGA6  0.056   1.1 (0.94-1.2)     0.89      0.34   \n",
       "ITGA7  0.12    1.1 (1-1.2)        9.9       0.0016 \n",
       "ITGAX  -0.17   0.84 (0.75-0.95)   7.9       0.0051 \n",
       "ITGAV  0.19    1.2 (1-1.4)        3.9       0.049  \n",
       "ITGAL  -0.13   0.88 (0.79-0.97)   6.5       0.011  \n",
       "ITGAM  -0.067  0.94 (0.83-1.1)    1.2       0.27   \n",
       "ITGA2B -0.075  0.93 (0.84-1)      2.2       0.14   \n",
       "ITGAD  -0.029  0.97 (0.89-1.1)    0.38      0.54   \n",
       "ITGAE  0.024   1 (0.81-1.3)       0.04      0.84   \n",
       "ITGBL1 -0.0014 1 (0.91-1.1)       0         0.98   \n",
       "ITGB1  0.38    1.5 (1.2-1.8)      11        0.00076\n",
       "ITGB3  0.2     1.2 (1.1-1.3)      14        0.00015\n",
       "ITGB5  -0.013  0.99 (0.84-1.2)    0.03      0.87   \n",
       "ITGB4  -0.025  0.97 (0.88-1.1)    0.24      0.62   \n",
       "ITGB7  -0.13   0.88 (0.79-0.96)   7.2       0.0074 \n",
       "ITGB6  0.033   1 (0.96-1.1)       0.85      0.36   \n",
       "ITGB8  0.0033  1 (0.93-1.1)       0.01      0.93   \n",
       "ITGA10 -0.033  0.97 (0.88-1.1)    0.53      0.47   \n",
       "ITGA11 0.036   1 (0.94-1.1)       0.56      0.46   \n",
       "ITGB2  -0.12   0.89 (0.79-1)      4.1       0.044  "
      ]
     },
     "metadata": {},
     "output_type": "display_data"
    }
   ],
   "source": [
    "univ_results.OS <- lapply(univ_models.OS, \n",
    "                       function(x){  \n",
    "                          x <- summary(x) \n",
    "                          p.value<-signif(x$wald[\"pvalue\"], digits=2) \n",
    "                          wald.test<-signif(x$wald[\"test\"], digits=2) \n",
    "                          beta<-signif(x$coef[1], digits=2);#coeficient beta \n",
    "                          HR <-signif(x$coef[2], digits=2);#exp(beta) \n",
    "                          HR.confint.lower <- signif(x$conf.int[,\"lower .95\"], 2) \n",
    "                          HR.confint.upper <- signif(x$conf.int[,\"upper .95\"],2) \n",
    "                          HR <- paste0(HR, \" (\",  \n",
    "                                       HR.confint.lower, \"-\", HR.confint.upper, \")\") \n",
    "                          res<-c(beta, HR, wald.test, p.value) \n",
    "                          names(res)<-c(\"beta\", \"HR (95% CI for HR)\", \"wald.test\",  \n",
    "                                        \"p.value\") \n",
    "                          return(res) \n",
    "                          #return(exp(cbind(coef(x),confint(x)))) \n",
    "                         }) \n",
    "res.OS <- t(as.data.frame(univ_results.OS, check.names = FALSE)) \n",
    "as.data.frame(res.OS)"
   ]
  },
  {
   "cell_type": "code",
   "execution_count": 18,
   "metadata": {},
   "outputs": [
    {
     "name": "stdout",
     "output_type": "stream",
     "text": [
      "\n",
      "Call:\n",
      "coxphMIC(formula = Surv(DSS.time, DSS) ~ ., data = dat, CI.gamma = FALSE)\n",
      "\n",
      "Table of Estimated Coefficients via MIC:\n",
      "\n",
      "         beta0   gamma se.gamma  z.stat p.value beta.MIC se.beta.MIC\n",
      "ITGA8  -0.0696  0.0000   0.1647 -0.0001  0.9999   0.0000          NA\n",
      "ITGA9  -0.2771  0.0000   0.1557 -0.0002  0.9998   0.0000          NA\n",
      "ITGA1   0.1929  0.0000   0.2168  0.0001  0.9999   0.0000          NA\n",
      "ITGA2  -0.1490  0.0000   0.1449 -0.0001  0.9999   0.0000          NA\n",
      "ITGA3  -0.1925  0.0000   0.1276 -0.0002  0.9998   0.0000          NA\n",
      "ITGA4   0.0039  0.0000   0.1693  0.0002  0.9998   0.0000          NA\n",
      "ITGA5   0.1277  0.0000   0.1491 -0.0003  0.9998   0.0000          NA\n",
      "ITGA6  -0.1433  0.0000   0.1400 -0.0001  0.9999   0.0000          NA\n",
      "ITGA7   0.1392 -0.0001   0.1459 -0.0006  0.9995   0.0000          NA\n",
      "ITGAX  -0.4088  0.0000   0.2192 -0.0002  0.9999   0.0000          NA\n",
      "ITGAV   0.0654  0.0000   0.1907  0.0000  1.0000   0.0000          NA\n",
      "ITGAL  -0.2112 -0.2549   0.1584 -1.6096  0.1075  -0.2549      0.0925\n",
      "ITGAM  -0.2587  0.0000   0.1737 -0.0002  0.9999   0.0000          NA\n",
      "ITGA2B -0.0583  0.0000   0.1154  0.0000  1.0000   0.0000          NA\n",
      "ITGAD   0.2191  0.0000   0.1401  0.0000  1.0000   0.0000          NA\n",
      "ITGAE   0.1463 -0.0001   0.1298 -0.0005  0.9996   0.0000          NA\n",
      "ITGBL1 -0.0088  0.0000   0.1707 -0.0001  0.9999   0.0000          NA\n",
      "ITGB1   0.0058  0.0000   0.1725 -0.0001  1.0000   0.0000          NA\n",
      "ITGB3   0.3330  0.2246   0.1544  1.4545  0.1458   0.2246      0.0967\n",
      "ITGB5  -0.1826  0.0000   0.1443  0.0000  1.0000   0.0000          NA\n",
      "ITGB4   0.0326  0.0000   0.1367 -0.0002  0.9998   0.0000          NA\n",
      "ITGB7  -0.0765  0.0000   0.1642 -0.0002  0.9998   0.0000          NA\n",
      "ITGB6   0.2674  0.0000   0.1302  0.0000  1.0000   0.0000          NA\n",
      "ITGB8   0.0177  0.0000   0.1523  0.0001  0.9999   0.0000          NA\n",
      "ITGA10 -0.0101  0.0000   0.1249 -0.0002  0.9999   0.0000          NA\n",
      "ITGA11  0.1377  0.0000   0.1933  0.0000  1.0000   0.0000          NA\n",
      "ITGB2   0.3260  0.0000   0.2455 -0.0002  0.9999   0.0000          NA\n",
      "\n"
     ]
    },
    {
     "data": {
      "text/html": [
       "<style>\n",
       ".list-inline {list-style: none; margin:0; padding: 0}\n",
       ".list-inline>li {display: inline-block}\n",
       ".list-inline>li:not(:last-child)::after {content: \"\\00b7\"; padding: 0 .5ex}\n",
       "</style>\n",
       "<ol class=list-inline><li>1245.42196277051</li><li>1249.05126859862</li></ol>\n"
      ],
      "text/latex": [
       "\\begin{enumerate*}\n",
       "\\item 1245.42196277051\n",
       "\\item 1249.05126859862\n",
       "\\end{enumerate*}\n"
      ],
      "text/markdown": [
       "1. 1245.42196277051\n",
       "2. 1249.05126859862\n",
       "\n",
       "\n"
      ],
      "text/plain": [
       "[1] 1245.422 1249.051"
      ]
     },
     "metadata": {},
     "output_type": "display_data"
    }
   ],
   "source": [
    "dat=cbind(integrin.ge,DSS.time=integrin$DSS.time,DSS=integrin$DSS)\n",
    "dat = stats::na.omit(dat); \n",
    "fit.mic <- coxphMIC(formula = Surv(DSS.time, DSS)~., data=dat, CI.gamma = FALSE) \n",
    "print(fit.mic) \n",
    " \n",
    "fit0.mic <- coxphMIC(formula = Surv(DSS.time, DSS)~., data = dat, \n",
    "method = \"BIC\", scale.x = TRUE, method.beta0 = \"zero\") \n",
    " c(fit.mic$min.Q, fit0.mic$min.Q)"
   ]
  },
  {
   "cell_type": "code",
   "execution_count": 19,
   "metadata": {},
   "outputs": [
    {
     "name": "stdout",
     "output_type": "stream",
     "text": [
      "\n",
      "Call:\n",
      "coxphMIC(formula = Surv(OS.time, OS) ~ ., data = dat.OS, CI.gamma = FALSE)\n",
      "\n",
      "Table of Estimated Coefficients via MIC:\n",
      "\n",
      "         beta0   gamma se.gamma  z.stat p.value beta.MIC se.beta.MIC\n",
      "ITGA8   0.0752  0.0000   0.1218  0.0000  1.0000   0.0000          NA\n",
      "ITGA9  -0.1166  0.0000   0.1144  0.0001  0.9999   0.0000          NA\n",
      "ITGA1  -0.0066  0.0000   0.1608  0.0000  1.0000   0.0000          NA\n",
      "ITGA2  -0.0659  0.0000   0.1044 -0.0003  0.9998   0.0000          NA\n",
      "ITGA3  -0.1393  0.0000   0.0946  0.0000  1.0000   0.0000          NA\n",
      "ITGA4  -0.0459  0.0000   0.1250 -0.0001  0.9999   0.0000          NA\n",
      "ITGA5  -0.0020  0.0000   0.1128  0.0000  1.0000   0.0000          NA\n",
      "ITGA6  -0.1468  0.0000   0.1045  0.0001  0.9999   0.0000          NA\n",
      "ITGA7   0.2198  0.0000   0.1110  0.0001  0.9999   0.0000          NA\n",
      "ITGAX  -0.2288  0.0000   0.1573 -0.0001  0.9999   0.0000          NA\n",
      "ITGAV   0.0421  0.0000   0.1376  0.0000  1.0000   0.0000          NA\n",
      "ITGAL  -0.0720  0.0000   0.1179  0.0000  1.0000   0.0000          NA\n",
      "ITGAM  -0.0749  0.0000   0.1201  0.0000  1.0000   0.0000          NA\n",
      "ITGA2B -0.0405  0.0000   0.0835 -0.0002  0.9998   0.0000          NA\n",
      "ITGAD   0.1455  0.0000   0.1017  0.0000  1.0000   0.0000          NA\n",
      "ITGAE   0.0566  0.0000   0.0966  0.0001  1.0000   0.0000          NA\n",
      "ITGBL1 -0.0848  0.0000   0.1256  0.0000  1.0000   0.0000          NA\n",
      "ITGB1   0.0089  0.0000   0.1228  0.0001  0.9999   0.0000          NA\n",
      "ITGB3   0.3312  0.3375   0.1079  3.1285  0.0018   0.3375      0.0731\n",
      "ITGB5  -0.1108  0.0000   0.1063 -0.0001  0.9999   0.0000          NA\n",
      "ITGB4  -0.0043  0.0000   0.0991  0.0000  1.0000   0.0000          NA\n",
      "ITGB7  -0.0821  0.0000   0.1164 -0.0001  0.9999   0.0000          NA\n",
      "ITGB6   0.1773  0.0000   0.0958  0.0000  1.0000   0.0000          NA\n",
      "ITGB8   0.0390  0.0000   0.1143  0.0001  0.9999   0.0000          NA\n",
      "ITGA10 -0.1095 -0.1585   0.0988 -1.6040  0.1087  -0.1585      0.0736\n",
      "ITGA11  0.1330  0.0000   0.1430  0.0001  1.0000   0.0000          NA\n",
      "ITGB2   0.0657 -0.2024   0.1800 -1.1244  0.2608  -0.2024      0.0708\n",
      "\n"
     ]
    }
   ],
   "source": [
    "dat.OS=cbind(integrin.ge,OS.time=integrin$OS.time,OS=integrin$OS) \n",
    " dat.OS <- stats::na.omit(dat.OS); \n",
    "fit.mic.OS <- coxphMIC(formula = Surv(OS.time, OS)~., data=dat.OS, CI.gamma = FALSE) \n",
    "print(fit.mic.OS)"
   ]
  },
  {
   "cell_type": "code",
   "execution_count": 20,
   "metadata": {},
   "outputs": [],
   "source": [
    "dat=cbind(integrin.ge,DSS.time=integrin$DSS.time,DSS=integrin$DSS) \n",
    "dat.OS=cbind(integrin.ge,OS.time=integrin$OS.time,OS=integrin$OS) \n",
    " \n",
    "pbc_rf <- rfsrc( Surv(DSS.time, DSS) ~ ., data = dat, nsplit = 10, na.action = \"na.impute\",importance=TRUE) \n",
    "pbc_rf_IMP=vimp(pbc_rf)$importance\n",
    "pbc_rf_OS <- rfsrc( Surv(OS.time, OS) ~ ., data = dat.OS, nsplit = 10, na.action = \"na.impute\",importance=TRUE) \n",
    "pbc_rf_IMP_OS=vimp(pbc_rf_OS)$importance \n",
    " \n",
    "IMP=cbind(pbc_rf_IMP,pbc_rf_IMP_OS)"
   ]
  },
  {
   "cell_type": "code",
   "execution_count": 21,
   "metadata": {
    "scrolled": false
   },
   "outputs": [
    {
     "data": {
      "text/plain": [
       "K-means clustering with 2 clusters of sizes 524, 694\n",
       "\n",
       "Cluster means:\n",
       "     ITGB1    ITGA5    ITGAL\n",
       "1 13.63756 10.87948 7.526481\n",
       "2 13.51023 11.10520 9.576451\n",
       "\n",
       "Clustering vector:\n",
       "   [1] 2 1 2 2 2 2 2 1 2 2 2 1 1 2 2 2 2 1 2 1 1 2 2 2 2 1 2 2 1 2 2 2 2 1 1 2 1\n",
       "  [38] 2 1 1 2 1 2 2 1 2 2 2 2 2 2 1 2 2 1 2 1 1 1 2 1 1 2 2 2 1 1 1 1 1 1 1 2 2\n",
       "  [75] 1 1 1 1 2 2 2 2 2 2 1 1 2 2 1 2 2 1 2 2 1 2 2 2 1 1 1 2 1 2 2 2 1 2 2 1 1\n",
       " [112] 2 2 1 2 2 1 1 1 1 2 2 1 2 2 2 2 1 2 1 1 2 1 2 2 2 1 1 1 2 1 1 2 1 2 1 2 1\n",
       " [149] 2 2 2 2 1 2 2 2 2 1 2 1 2 2 2 1 1 1 1 2 1 2 1 2 1 2 2 1 1 2 2 1 1 2 2 1 1\n",
       " [186] 2 1 1 2 2 2 2 2 1 1 1 2 1 2 1 2 2 1 1 2 1 2 2 1 2 1 1 2 2 1 1 1 1 2 1 1 1\n",
       " [223] 1 2 2 2 2 2 2 1 1 2 2 1 2 2 2 1 2 1 2 1 1 1 1 2 2 2 1 1 1 2 2 2 1 1 1 2 1\n",
       " [260] 2 1 2 1 2 1 1 2 2 2 2 2 2 2 2 2 2 2 2 2 2 2 2 2 2 1 2 2 1 2 1 1 2 1 1 1 1\n",
       " [297] 2 2 2 2 1 1 1 1 2 2 1 2 2 1 2 2 1 1 2 2 2 1 2 1 1 1 2 2 2 2 1 1 2 2 1 1 2\n",
       " [334] 2 2 2 2 1 2 1 2 2 2 2 1 2 2 2 2 2 2 1 2 1 2 1 2 2 2 2 2 1 1 2 1 2 1 2 2 1\n",
       " [371] 2 2 2 1 1 1 1 2 1 2 2 1 1 1 2 2 1 2 1 2 2 1 2 2 1 2 1 2 1 2 1 1 1 2 1 2 1\n",
       " [408] 2 1 2 1 1 2 2 1 2 2 2 2 2 1 1 1 2 2 2 2 1 2 2 1 2 1 1 2 1 2 2 2 2 2 2 2 2\n",
       " [445] 1 2 2 1 2 2 2 2 1 2 2 2 2 2 1 2 2 1 1 2 1 2 1 1 2 2 1 2 2 1 2 2 1 2 2 1 1\n",
       " [482] 1 2 2 2 2 2 2 2 1 2 1 1 1 2 1 2 2 2 2 2 1 2 2 2 1 1 2 2 2 1 2 2 1 1 2 1 2\n",
       " [519] 1 1 2 1 2 2 2 1 2 1 2 2 2 1 2 1 2 2 2 2 1 2 1 1 2 1 1 1 2 1 1 1 2 1 2 1 1\n",
       " [556] 1 2 2 2 2 1 1 2 1 2 2 2 2 2 2 1 2 2 1 1 1 1 1 1 2 1 2 1 1 1 2 2 1 2 1 2 2\n",
       " [593] 2 2 1 2 1 2 1 1 2 2 1 1 1 2 2 2 1 2 2 1 2 2 2 1 1 2 2 1 2 2 1 2 1 1 1 2 1\n",
       " [630] 2 1 1 2 2 2 2 2 1 1 2 1 2 2 1 2 2 2 2 1 2 1 1 1 2 2 1 2 2 2 1 2 2 2 2 2 1\n",
       " [667] 2 1 1 2 1 1 1 1 2 1 1 2 1 2 1 1 1 1 2 1 1 1 2 2 2 2 1 1 2 2 2 1 2 2 2 2 1\n",
       " [704] 1 1 2 1 2 2 1 2 1 1 2 1 2 2 2 2 2 2 1 2 2 1 1 1 1 2 2 1 2 2 2 2 1 1 1 2 1\n",
       " [741] 2 1 1 1 2 2 1 1 1 2 2 2 2 2 2 2 2 2 1 2 2 1 1 2 2 2 1 1 2 1 1 1 2 2 2 2 2\n",
       " [778] 1 2 1 2 2 1 2 2 2 2 1 1 2 1 1 1 1 2 1 2 1 2 1 2 2 2 1 1 1 1 1 1 1 2 1 2 2\n",
       " [815] 1 2 2 2 1 1 1 1 2 2 1 1 1 1 1 2 1 2 1 1 2 2 2 1 2 1 2 2 1 2 1 1 1 1 2 2 2\n",
       " [852] 2 2 2 2 2 2 2 1 2 2 1 1 1 2 1 2 2 2 1 1 2 2 2 2 2 1 2 1 2 2 1 2 2 1 2 2 2\n",
       " [889] 2 2 1 2 1 2 2 2 2 1 1 1 2 2 2 2 2 2 1 1 2 1 1 2 1 2 1 2 2 2 2 1 2 2 1 2 2\n",
       " [926] 1 2 2 1 1 1 1 2 1 2 1 1 1 1 2 1 2 1 2 1 2 2 1 2 1 2 1 1 2 1 1 1 1 2 1 2 1\n",
       " [963] 1 2 2 2 2 2 1 1 1 2 2 2 2 1 2 1 2 1 2 2 2 1 2 2 2 2 2 1 1 1 2 2 2 1 2 1 1\n",
       "[1000] 1 2 2 2 1 1 2 2 1 1 2 2 2 2 1 2 1 2 2 1 1 2 1 2 2 1 2 1 2 1 2 1 2 2 1 2 1\n",
       "[1037] 2 2 2 2 2 2 2 1 1 2 2 1 1 1 1 2 1 1 2 2 1 2 2 2 1 2 2 2 2 2 2 1 2 2 2 2 1\n",
       "[1074] 2 1 2 2 2 2 1 2 2 2 2 1 1 1 1 1 2 2 1 1 2 1 2 1 2 2 1 2 2 2 2 2 2 2 2 2 1\n",
       "[1111] 1 1 1 2 2 1 2 1 2 1 2 1 2 1 2 2 2 2 2 2 2 2 2 2 2 1 2 1 1 1 1 2 2 2 1 2 2\n",
       "[1148] 2 1 2 1 1 2 1 2 1 2 2 2 1 2 1 1 1 2 1 1 2 2 1 1 1 1 2 2 1 1 2 1 2 1 1 1 2\n",
       "[1185] 2 1 2 2 2 2 2 1 1 1 1 2 2 2 1 2 1 1 2 1 1 1 2 2 1 2 1 2 1 2 1 1 2 2\n",
       "\n",
       "Within cluster sum of squares by cluster:\n",
       "[1] 1061.631 1006.731\n",
       " (between_SS / total_SS =  38.1 %)\n",
       "\n",
       "Available components:\n",
       "\n",
       "[1] \"cluster\"      \"centers\"      \"totss\"        \"withinss\"     \"tot.withinss\"\n",
       "[6] \"betweenss\"    \"size\"         \"iter\"         \"ifault\"      "
      ]
     },
     "metadata": {},
     "output_type": "display_data"
    },
    {
     "data": {
      "text/plain": [
       "K-means clustering with 3 clusters of sizes 259, 473, 486\n",
       "\n",
       "Cluster means:\n",
       "     ITGB1    ITGA5    ITGAL\n",
       "1 13.36177 10.39060 7.029237\n",
       "2 13.31723 10.85693 9.866135\n",
       "3 13.91447 11.48429 8.441725\n",
       "\n",
       "Clustering vector:\n",
       "   [1] 3 3 3 2 3 3 3 3 2 2 2 1 3 2 2 2 3 3 3 1 3 3 2 3 2 1 2 3 1 3 2 2 2 1 3 2 3\n",
       "  [38] 2 3 3 3 1 3 2 1 2 2 2 3 3 3 3 2 2 3 3 3 1 3 2 1 1 2 3 2 3 3 1 1 1 1 1 2 3\n",
       "  [75] 1 1 1 3 2 2 3 2 2 3 1 1 2 2 3 2 2 3 2 3 1 2 2 2 3 1 1 2 1 3 3 2 3 2 3 3 3\n",
       " [112] 2 2 3 2 3 1 3 3 1 2 2 1 2 3 2 3 1 2 1 3 2 1 2 3 2 1 1 1 2 1 1 3 1 2 3 2 3\n",
       " [149] 3 2 2 2 3 2 3 2 3 1 3 1 3 2 2 1 3 1 3 3 3 2 1 2 3 2 2 1 1 2 3 1 3 3 3 3 3\n",
       " [186] 2 1 3 3 2 3 2 3 1 3 1 2 3 2 3 2 2 3 1 3 3 3 2 3 2 3 3 2 2 1 1 1 1 3 1 1 1\n",
       " [223] 3 2 2 2 3 3 2 1 1 2 2 3 3 2 3 3 2 3 2 3 1 1 1 2 2 2 1 3 3 2 3 2 1 1 3 2 3\n",
       " [260] 2 1 3 3 2 3 1 3 2 2 2 2 2 3 2 2 2 3 2 2 3 3 2 2 2 3 2 2 1 2 1 3 3 1 1 3 1\n",
       " [297] 2 2 2 2 1 3 3 3 3 2 3 2 2 1 2 2 3 1 2 2 2 1 2 3 3 3 2 2 2 2 3 3 3 2 3 1 3\n",
       " [334] 2 3 3 2 1 2 3 3 2 3 3 3 2 2 2 3 2 3 3 3 1 3 3 3 3 2 2 2 3 3 3 3 2 1 2 3 1\n",
       " [371] 2 2 2 1 3 1 1 2 3 3 2 3 3 1 2 3 3 2 3 2 2 1 2 2 1 3 1 2 1 2 3 1 1 2 3 2 3\n",
       " [408] 2 3 2 3 3 3 3 1 2 2 2 3 2 1 3 3 2 2 2 2 3 3 2 3 3 1 1 2 3 2 2 3 2 2 2 2 3\n",
       " [445] 1 2 2 1 2 2 2 3 3 2 2 3 2 3 1 2 2 1 1 2 1 2 3 3 3 3 3 2 3 1 3 2 3 2 3 3 1\n",
       " [482] 3 2 3 2 2 3 2 2 3 2 1 1 3 2 1 2 3 3 3 3 3 2 2 2 1 1 3 2 2 1 2 2 1 1 2 1 3\n",
       " [519] 3 1 2 1 2 2 3 1 2 1 3 2 3 3 2 1 2 2 3 3 1 2 3 1 2 3 3 3 2 3 1 3 2 1 2 1 1\n",
       " [556] 3 2 2 3 2 1 3 2 3 3 2 2 3 2 2 3 3 2 3 1 3 1 1 2 2 1 3 3 1 3 2 2 3 3 1 2 3\n",
       " [593] 2 2 1 2 1 2 1 1 3 2 3 3 3 2 2 2 1 3 3 1 3 2 2 1 3 2 3 3 2 2 3 2 1 1 1 2 1\n",
       " [630] 2 3 3 3 3 2 2 2 1 3 2 1 3 2 1 3 2 2 2 1 2 3 3 3 3 3 3 2 3 3 1 3 2 2 2 2 1\n",
       " [667] 3 1 1 2 3 3 1 3 2 1 1 3 3 3 3 3 1 1 2 1 3 1 2 2 2 2 3 1 2 2 2 1 3 2 2 2 1\n",
       " [704] 1 3 2 1 3 2 3 2 3 3 3 1 2 2 2 2 2 3 1 2 2 1 1 3 1 3 2 3 2 3 2 3 3 3 1 2 3\n",
       " [741] 2 1 1 1 2 2 3 3 3 2 2 2 3 2 2 2 2 2 1 2 2 3 3 2 2 3 3 1 2 1 1 1 3 2 2 2 3\n",
       " [778] 1 3 3 2 2 3 2 2 3 2 3 3 2 1 3 3 1 2 3 3 1 2 3 2 2 3 3 3 3 3 1 1 1 3 1 2 2\n",
       " [815] 1 2 2 3 2 3 1 1 2 2 1 1 1 3 1 3 3 2 3 3 2 2 2 1 2 3 3 2 3 3 1 3 3 1 2 3 3\n",
       " [852] 3 3 2 2 2 3 3 1 3 2 1 1 3 2 1 3 3 2 3 1 2 2 2 2 3 3 3 1 3 2 1 2 3 3 2 2 2\n",
       " [889] 2 2 3 2 3 2 3 2 3 3 1 3 2 2 2 2 3 3 3 3 2 1 3 2 3 2 1 3 3 2 2 2 2 3 3 2 2\n",
       " [926] 3 3 3 3 1 3 1 3 3 2 1 1 1 1 3 1 2 3 2 1 3 2 3 2 3 2 1 3 2 3 1 3 3 3 3 2 3\n",
       " [963] 3 2 2 2 2 2 3 1 1 3 3 2 3 3 2 1 3 3 2 2 3 3 3 3 2 3 2 3 3 1 2 2 2 3 2 3 1\n",
       "[1000] 1 2 2 2 2 1 2 2 3 1 2 3 2 3 3 2 3 2 2 3 3 3 3 2 3 1 3 2 2 3 3 2 2 2 1 2 3\n",
       "[1037] 2 2 3 2 3 2 2 1 3 2 2 1 1 3 1 2 1 1 3 2 1 3 2 2 1 2 3 2 3 2 3 3 3 2 2 2 2\n",
       "[1074] 2 1 2 2 2 3 1 3 3 2 2 3 3 1 3 1 2 2 3 3 3 3 3 3 2 2 1 2 3 2 2 2 3 3 2 2 3\n",
       "[1111] 3 1 1 2 2 1 2 1 2 3 2 1 2 1 3 2 3 3 2 3 3 2 2 3 2 3 2 3 3 3 3 3 2 2 1 3 3\n",
       "[1148] 3 1 2 1 3 3 3 2 1 3 3 2 1 2 1 1 3 3 1 3 2 3 3 3 1 1 2 2 1 1 2 3 3 3 1 3 2\n",
       "[1185] 2 1 2 3 2 3 2 3 3 3 3 2 2 3 1 2 1 3 3 3 3 3 3 3 3 2 1 3 3 2 1 1 3 2\n",
       "\n",
       "Within cluster sum of squares by cluster:\n",
       "[1] 483.9422 609.6913 532.0292\n",
       " (between_SS / total_SS =  51.4 %)\n",
       "\n",
       "Available components:\n",
       "\n",
       "[1] \"cluster\"      \"centers\"      \"totss\"        \"withinss\"     \"tot.withinss\"\n",
       "[6] \"betweenss\"    \"size\"         \"iter\"         \"ifault\"      "
      ]
     },
     "metadata": {},
     "output_type": "display_data"
    },
    {
     "data": {
      "image/png": "[encoded data removed]",
      "text/plain": [
       "Plot with title “ITGAL”"
      ]
     },
     "metadata": {
      "image/png": {
       "height": 420,
       "width": 420
      }
     },
     "output_type": "display_data"
    }
   ],
   "source": [
    "integrin.select=integrin[,c(\"ITGB1\", \"ITGA5\", \"ITGAL\")] \n",
    " \n",
    "set.seed(240) # Setting seed \n",
    "kmeans.re2 <- kmeans(integrin.select, centers = 2, nstart = 20) \n",
    "kmeans.re2 # 38.1% \n",
    "set.seed(240) \n",
    "kmeans.re3 <- kmeans(integrin.select, centers = 3, nstart = 20) \n",
    "kmeans.re3 # 51.4% \n",
    "GEdata=cbind(integrin.select,cluster=kmeans.re3$cluster) \n",
    "par(mfrow=c(1,3)) \n",
    "boxplot(GEdata$ITGB1 ~ GEdata$cluster, \n",
    "         col='blue', \n",
    "         xlab='cluster', \n",
    "         ylab='GE experssion', \n",
    "         main='ITGB1')  \n",
    " \n",
    "boxplot(GEdata$ITGA5 ~ GEdata$cluster,\n",
    "        col='red', \n",
    "        xlab='cluster', \n",
    "        ylab='GE experssion', \n",
    "        main='ITGA5')  \n",
    " \n",
    "boxplot(GEdata$ITGAL ~ GEdata$cluster, \n",
    "         col='green', \n",
    "         xlab='cluster', \n",
    "         ylab='GE experssion', \n",
    "         main='ITGAL')"
   ]
  },
  {
   "cell_type": "code",
   "execution_count": 22,
   "metadata": {},
   "outputs": [
    {
     "name": "stderr",
     "output_type": "stream",
     "text": [
      "Loading required package: MASS\n",
      "\n",
      "Loading required package: rgl\n",
      "\n"
     ]
    },
    {
     "data": {
      "text/plain": [
       "K-means clustering with 4 clusters of sizes 186, 364, 332, 336\n",
       "\n",
       "Cluster means:\n",
       "     ITGB1    ITGA5     ITGAL\n",
       "1 13.52199 10.63961  6.593914\n",
       "2 14.03961 11.68779  8.487608\n",
       "3 13.43268 11.08145 10.188618\n",
       "4 13.20544 10.40326  8.605221\n",
       "\n",
       "Clustering vector:\n",
       "   [1] 2 2 2 3 4 2 2 2 3 3 4 1 2 3 3 3 2 2 2 1 4 2 3 2 3 1 3 4 1 2 4 4 4 1 2 4 2\n",
       "  [38] 3 2 2 2 1 2 4 4 3 3 3 2 4 2 2 3 3 4 2 2 1 2 4 1 4 3 2 3 4 4 1 1 1 1 4 3 2\n",
       "  [75] 1 1 1 2 3 4 2 3 4 2 1 1 4 3 4 4 4 2 4 2 1 3 3 4 2 4 4 3 1 2 4 3 4 3 2 2 4\n",
       " [112] 3 4 4 4 2 4 2 4 1 3 4 1 3 2 3 2 1 3 4 2 3 4 3 2 3 1 4 4 3 4 4 2 4 3 4 3 1\n",
       " [149] 2 4 4 3 4 4 2 2 2 1 2 1 4 3 3 1 4 4 2 2 2 3 1 3 4 3 3 1 1 3 2 1 2 4 2 4 1\n",
       " [186] 3 1 2 4 3 2 3 4 4 2 1 4 2 3 4 3 3 2 1 2 4 2 3 4 3 2 2 3 3 1 4 4 4 2 1 4 1\n",
       " [223] 4 4 3 4 2 2 3 1 1 3 4 2 2 4 2 2 3 2 3 2 1 1 1 4 3 3 1 2 4 3 2 3 1 1 2 3 2\n",
       " [260] 4 1 4 4 3 4 1 2 3 3 3 4 4 4 3 3 4 2 4 3 2 2 3 3 3 2 4 3 4 3 1 2 2 1 4 2 4\n",
       " [297] 4 3 3 3 1 2 2 2 2 4 4 4 3 1 3 3 2 4 4 3 3 1 4 2 4 4 4 3 3 4 2 2 2 4 2 4 2\n",
       " [334] 4 2 2 4 1 4 2 2 3 2 2 2 3 3 3 2 3 2 2 4 1 2 2 4 4 4 3 4 2 2 4 4 3 4 4 2 1\n",
       " [371] 3 4 3 4 2 4 1 3 4 4 3 1 2 4 4 2 2 3 4 4 3 1 3 4 1 2 4 4 1 4 2 4 4 3 2 3 4\n",
       " [408] 4 2 3 2 4 2 4 1 4 3 3 2 3 1 2 2 3 3 3 3 2 2 4 2 2 4 1 4 2 3 4 2 3 3 3 3 2\n",
       " [445] 1 3 4 1 4 3 3 2 4 3 3 2 3 4 4 3 3 1 1 3 4 3 2 4 2 2 2 3 4 1 2 3 2 3 2 2 4\n",
       " [482] 2 4 2 4 3 2 3 3 4 4 1 1 4 3 1 4 2 2 2 2 4 4 3 3 4 1 2 3 3 1 3 3 1 4 3 4 2\n",
       " [519] 2 4 3 1 3 3 2 1 3 1 2 4 2 2 3 4 3 3 2 2 1 3 1 1 4 2 4 2 4 2 1 2 4 1 3 1 1\n",
       " [556] 4 3 3 2 4 1 2 3 2 2 3 3 2 4 3 2 2 3 2 1 2 1 4 4 3 4 2 4 1 2 3 3 1 4 1 3 2\n",
       " [593] 4 3 4 3 1 3 1 4 4 3 2 2 2 3 3 3 1 2 2 1 2 3 3 4 2 3 2 2 4 3 2 3 1 4 1 3 1\n",
       " [630] 3 2 4 2 2 3 4 4 1 4 4 1 4 3 1 4 4 3 3 1 4 4 4 4 2 4 1 3 2 4 1 2 3 4 3 3 1\n",
       " [667] 2 4 1 3 4 1 1 2 4 1 1 2 4 2 4 2 1 1 4 4 2 1 3 3 3 3 2 1 3 3 3 4 2 3 3 4 1\n",
       " [704] 1 2 3 1 2 3 2 3 2 4 2 1 3 3 3 4 3 2 1 3 4 4 4 2 4 2 3 2 3 2 3 2 4 4 1 4 2\n",
       " [741] 3 1 4 1 3 3 2 2 2 3 4 3 2 3 3 4 4 4 1 3 4 4 2 3 3 2 4 1 3 1 1 1 2 3 3 3 4\n",
       " [778] 4 2 2 3 4 2 3 3 4 3 2 2 4 1 4 2 1 3 2 2 4 3 2 3 3 2 2 2 2 1 1 1 1 2 1 3 3\n",
       " [815] 1 3 3 2 4 2 1 4 3 3 1 1 4 2 1 2 4 4 4 4 3 3 4 4 3 4 2 3 2 2 4 2 2 1 4 2 4\n",
       " [852] 2 4 3 3 4 4 4 4 2 3 1 1 2 3 1 2 2 3 4 1 3 4 3 4 2 2 2 4 2 3 4 3 4 2 3 4 4\n",
       " [889] 4 4 2 4 4 4 4 3 2 2 4 2 3 3 4 4 2 2 4 2 3 1 2 4 4 3 1 2 4 3 3 4 3 4 4 3 2\n",
       " [926] 2 2 2 4 4 4 1 2 2 3 4 1 1 4 4 1 3 2 4 1 2 3 4 3 2 3 1 2 4 2 1 2 2 2 2 3 2\n",
       " [963] 1 3 4 3 3 3 2 1 1 2 2 4 2 2 4 1 2 2 3 3 2 2 2 2 3 2 3 2 2 4 3 3 4 2 3 2 4\n",
       "[1000] 1 3 3 3 4 1 4 3 2 1 3 2 3 2 2 3 2 3 3 2 4 2 4 3 2 1 2 4 3 2 2 4 3 4 1 4 2\n",
       "[1037] 3 3 2 3 2 3 4 4 2 4 3 4 1 2 1 3 4 1 2 4 1 2 4 3 1 3 2 4 4 3 2 2 2 3 4 3 4\n",
       "[1074] 3 1 3 3 3 2 4 2 3 3 4 2 2 4 2 1 4 3 4 4 2 2 2 4 4 3 1 3 2 4 3 3 2 2 3 3 2\n",
       "[1111] 2 4 4 3 3 4 2 4 3 2 3 1 3 1 4 3 2 2 3 2 4 3 3 2 3 2 4 4 2 2 2 2 3 3 1 2 4\n",
       "[1148] 4 1 4 1 2 2 2 3 4 2 2 3 1 3 1 4 4 2 1 4 3 2 4 2 1 1 3 3 4 1 3 4 2 2 1 4 4\n",
       "[1185] 3 1 3 2 3 2 2 2 2 2 4 3 4 2 4 3 1 2 2 2 2 2 2 2 2 3 1 2 4 4 1 4 2 4\n",
       "\n",
       "Within cluster sum of squares by cluster:\n",
       "[1] 352.8845 336.3039 325.9431 298.1415\n",
       " (between_SS / total_SS =  60.7 %)\n",
       "\n",
       "Available components:\n",
       "\n",
       "[1] \"cluster\"      \"centers\"      \"totss\"        \"withinss\"     \"tot.withinss\"\n",
       "[6] \"betweenss\"    \"size\"         \"iter\"         \"ifault\"      "
      ]
     },
     "metadata": {},
     "output_type": "display_data"
    }
   ],
   "source": [
    "require(MASS)\n",
    "GEdata=cbind(integrin.select,cluster=kmeans.re3$cluster) \n",
    "require(rgl) \n",
    "options(jupyter.plot_mimetypes = 'image/png')\n",
    "#plot3d(df$X1, df$X2, df$X3, col=as.numeric(df$fac)) \n",
    "print(plot3d(GEdata$ITGB1,GEdata$ITGA5,GEdata$ITGAL,col=as.numeric(GEdata$cluster), col.axis = \"blue\",col.grid = \"lightblue\", main = \"\", pch = 20))\n",
    "set.seed(240)   \n",
    "kmeans.re4 <- kmeans(integrin.select, centers = 4, nstart = 20) \n",
    "kmeans.re4 # 60.7%"
   ]
  },
  {
   "cell_type": "code",
   "execution_count": 22,
   "metadata": {},
   "outputs": [
    {
     "data": {
      "text/plain": [
       "Call:\n",
       "survdiff(formula = km ~ cluster, data = survdata)\n",
       "\n",
       "n=1184, 34 observations deleted due to missingness.\n",
       "\n",
       "            N Observed Expected (O-E)^2/E (O-E)^2/V\n",
       "cluster=1 253       25     22.6     0.263     0.338\n",
       "cluster=2 460       19     42.7    13.140    22.244\n",
       "cluster=3 471       61     39.8    11.354    18.385\n",
       "\n",
       " Chisq= 24.9  on 2 degrees of freedom, p= 4e-06 "
      ]
     },
     "metadata": {},
     "output_type": "display_data"
    },
    {
     "data": {
      "image/png": "[encoded data removed]",
      "text/plain": [
       "plot without title"
      ]
     },
     "metadata": {
      "image/png": {
       "height": 420,
       "width": 420
      }
     },
     "output_type": "display_data"
    }
   ],
   "source": [
    "#png(\"normal_data_ggsurvplot_clusters.png\", units=\"in\", width=4.5,height=4, res=400,type='cairo')\n",
    "\n",
    "\n",
    "survdata=cbind(dat,cluster=kmeans.re3$cluster) #First setup survival object\n",
    "km <- Surv(time = survdata[,\"DSS.time\"], event = survdata[,\"DSS\"]) \n",
    "km_treatment<-survfit(km~cluster,data=survdata,type='kaplan-meier',conf.type='log')\n",
    "survdiff(km ~ cluster,data=survdata)\n",
    "p <- ggsurvplot(km_treatment,conf.int = 'FALSE', censor.size=8,size = 2)+guides(colour = guide_legend(nrow = 2))\n",
    "\n",
    "ggpar(p,\n",
    "      font.x = c(22),\n",
    "      font.y = c(22), \n",
    "      legend=c(0.53,0.2),\n",
    "      font.legend = c(17), \n",
    "      font.tickslab = c(17))\n",
    "#dev.off()"
   ]
  },
  {
   "cell_type": "code",
   "execution_count": null,
   "metadata": {},
   "outputs": [],
   "source": []
  }
 ],
 "metadata": {
  "kernelspec": {
   "display_name": "R",
   "language": "R",
   "name": "ir"
  },
  "language_info": {
   "codemirror_mode": "r",
   "file_extension": ".r",
   "mimetype": "text/x-r-source",
   "name": "R",
   "pygments_lexer": "r",
   "version": "3.5.2"
  }
 },
 "nbformat": 4,
 "nbformat_minor": 2
}
