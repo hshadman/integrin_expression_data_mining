{
 "cells": [
  {
   "cell_type": "code",
   "execution_count": 1,
   "metadata": {},
   "outputs": [],
   "source": [
    "from numpy import *\n",
    "import pandas as pd\n",
    "import matplotlib.pyplot as plt\n",
    "from sklearn.preprocessing import StandardScaler, normalize\n",
    "from sklearn.decomposition import PCA\n",
    "import scipy.cluster.hierarchy as hc\n"
   ]
  },
  {
   "cell_type": "code",
   "execution_count": 2,
   "metadata": {},
   "outputs": [],
   "source": [
    "#https://stackoverflow.com/questions/17211078/how-to-temporarily-modify-sys-path-in-python\n",
    "#the above link is where i got this code.\n",
    "#sys.path is restored to original state, after execution of the with statement\n",
    "#importing sklearn from my directory INSTEAD of /public/apps/etc.etc. because mine is recent version\n",
    "#apparently, this is called a context manager, visit above link for more explanation\n",
    "import sys\n",
    "\n",
    "class add_path():\n",
    "    def __init__(self, path):\n",
    "        self.path = path\n",
    "\n",
    "    def __enter__(self):\n",
    "        sys.path.insert(0, self.path)\n",
    "\n",
    "    def __exit__(self, exc_type, exc_value, traceback):\n",
    "        try:\n",
    "            sys.path.remove(self.path)\n",
    "        except ValueError:\n",
    "            pass\n",
    "with add_path('/home/hshadman/.local/lib/python3.7/site-packages'):\n",
    "    sklearn = __import__('sklearn')"
   ]
  },
  {
   "cell_type": "code",
   "execution_count": 3,
   "metadata": {},
   "outputs": [],
   "source": [
    "from sklearn.cluster import AgglomerativeClustering\n",
    "from sklearn.model_selection import train_test_split\n",
    "from sklearn.ensemble import RandomForestClassifier\n",
    "from sklearn.metrics import accuracy_score\n",
    "from sklearn.metrics import RocCurveDisplay\n",
    "from sklearn.svm import SVC\n",
    "\n",
    "\n",
    "dgene = pd.read_csv('CCLE_integrins_expression_classification.csv', sep=r'\\t',engine='python')\n",
    "dgene.fillna(method='ffill',inplace=True)\n",
    "dinfo = pd.read_csv('sample_info.csv',engine='python')\n",
    "\n",
    "#Get rid of integrin binding proteins\n",
    "dgene = dgene.drop([\"ITGB1BP2 (26548)\",\"ITGB1BP1 (9270)\",\"ITGB3BP (23421)\"],axis=1)\n"
   ]
  },
  {
   "cell_type": "code",
   "execution_count": 7,
   "metadata": {},
   "outputs": [],
   "source": [
    "dinfo['Class'] = where((dinfo['lineage']=='breast')&(dinfo['primary_or_metastasis']=='Primary'),True,False)"
   ]
  },
  {
   "cell_type": "code",
   "execution_count": 48,
   "metadata": {},
   "outputs": [],
   "source": [
    "#pd.set_option('display.max_rows', None)\n",
    "#pd.set_option('display.max_columns', None)\n",
    "#pd.set_option('display.max_rows', pd_max_rows)\n",
    "#pd.set_option('display.max_columns', pd_max_columns)\n",
    "#pd_max_rows=pd.options.display.max_rows\n",
    "#pd_max_columns=pd.options.display.max_columns"
   ]
  },
  {
   "cell_type": "code",
   "execution_count": 57,
   "metadata": {},
   "outputs": [
    {
     "data": {
      "text/plain": [
       "Index(['ITGAL (3683)', 'ITGA3 (3675)', 'ITGA2B (3674)', 'ITGA8 (8516)',\n",
       "       'ITGB5 (3693)', 'ITGAE (3682)', 'ITGA6 (3655)', 'ITGB8 (3696)',\n",
       "       'ITGB6 (3694)', 'ITGA4 (3676)', 'ITGB4 (3691)', 'ITGA7 (3679)',\n",
       "       'ITGA11 (22801)', 'ITGAV (3685)', 'ITGB7 (3695)', 'ITGAX (3687)',\n",
       "       'ITGA10 (8515)', 'ITGA9 (3680)', 'ITGB1 (3688)', 'ITGAD (3681)',\n",
       "       'ITGB2 (3689)', 'ITGA5 (3678)', 'ITGA2 (3673)', 'ITGAM (3684)',\n",
       "       'ITGBL1 (9358)', 'ITGA1 (3672)', 'ITGB3 (3690)'],\n",
       "      dtype='object')"
      ]
     },
     "execution_count": 57,
     "metadata": {},
     "output_type": "execute_result"
    }
   ],
   "source": [
    "dgene.columns[1:]\n",
    "#dinfo[['lineage','primary_or_metastasis','Class']]\n",
    "#pd.merge(dgene,dinfo,how=\"left\",on=[\"DepMap_ID\"])"
   ]
  },
  {
   "cell_type": "code",
   "execution_count": 32,
   "metadata": {},
   "outputs": [],
   "source": [
    "##This is the original classifier from Dr. Cheng.\n",
    "## It creates a new 'Class' composed of a lineage and primary/metastasis combination\n",
    "##  and predicts if a cell type will be a member of this class.\n",
    "##  It uses all ~1400 cancer cells to make a prediction.\n",
    "def rf_classifier(dgene,dinfo,sel='lineage',lineage_sel='breast',ptype='Primary'):\n",
    "    gene_id = dgene.columns[1:]\n",
    "    dinfo['Class'] = where((dinfo[sel]==lineage_sel)&(dinfo['primary_or_metastasis']==ptype),True,False)\n",
    "    df = pd.merge(dgene,dinfo,how=\"left\",on=[\"DepMap_ID\"])\n",
    "    #if lineage_sel == 'engineered_lung':\n",
    "    #    print(df)\n",
    "    X = df[gene_id]\n",
    "    y = df['Class']\n",
    "    #scaler = StandardScaler()\n",
    "    #X_scaled = scaler.fit_transform(X)\n",
    "    \n",
    "    X_train, X_test, y_train, y_test = train_test_split(X, y, test_size=0.33, random_state=42) #stratify=y have error\n",
    "    ### Random Forest Classifier ###\n",
    "    classifier = RandomForestClassifier(n_estimators=100)\n",
    "    classifier.fit(X_train,y_train)\n",
    "    y_pred = classifier.predict(X_test)\n",
    "    #print(y_pred,y_test)\n",
    "    print(\"Total number of cases in positive class:\",df.query(\"Class\").shape[0])\n",
    "    print(\"For %s %s rfc classifier Accuracy: \"%(lineage_sel,ptype), accuracy_score(y_test,y_pred))\n",
    "    feature_importances_df = pd.DataFrame({\"feature\": list(X.columns),\"importance\": classifier.feature_importances_}).sort_values(\"importance\",ascending=False)\n",
    "    print(feature_importances_df)\n",
    "    ax = plt.gca()\n",
    "    RocCurveDisplay.from_estimator(classifier, X_test, y_test, ax=ax, alpha=0.8)\n",
    "    plt.plot([0, 1], [0, 1], color='orange', lw=2, linestyle='--')\n",
    "    plt.show()   \n"
   ]
  },
  {
   "cell_type": "code",
   "execution_count": 33,
   "metadata": {},
   "outputs": [
    {
     "name": "stdout",
     "output_type": "stream",
     "text": [
      "Total number of cases in positive class: 28\n",
      "For breast Primary rfc classifier Accuracy:  0.9736263736263736\n",
      "           feature  importance\n",
      "8     ITGB6 (3694)    0.137048\n",
      "5     ITGAE (3682)    0.061622\n",
      "25    ITGA1 (3672)    0.050619\n",
      "10    ITGB4 (3691)    0.048620\n",
      "2    ITGA2B (3674)    0.048447\n",
      "6     ITGA6 (3655)    0.048188\n",
      "23    ITGAM (3684)    0.043698\n",
      "0     ITGAL (3683)    0.043161\n",
      "13    ITGAV (3685)    0.040839\n",
      "22    ITGA2 (3673)    0.038056\n",
      "14    ITGB7 (3695)    0.035419\n",
      "21    ITGA5 (3678)    0.035038\n",
      "1     ITGA3 (3675)    0.032370\n",
      "9     ITGA4 (3676)    0.032352\n",
      "17    ITGA9 (3680)    0.032234\n",
      "4     ITGB5 (3693)    0.030944\n",
      "26    ITGB3 (3690)    0.030689\n",
      "18    ITGB1 (3688)    0.030518\n",
      "20    ITGB2 (3689)    0.029972\n",
      "16   ITGA10 (8515)    0.026707\n",
      "24   ITGBL1 (9358)    0.025426\n",
      "7     ITGB8 (3696)    0.025279\n",
      "12  ITGA11 (22801)    0.022939\n",
      "11    ITGA7 (3679)    0.022744\n",
      "15    ITGAX (3687)    0.017960\n",
      "3     ITGA8 (8516)    0.006153\n",
      "19    ITGAD (3681)    0.002956\n"
     ]
    },
    {
     "data": {
      "image/png": "[encoded data removed]",
      "text/plain": [
       "<Figure size 432x288 with 1 Axes>"
      ]
     },
     "metadata": {
      "needs_background": "light"
     },
     "output_type": "display_data"
    },
    {
     "name": "stdout",
     "output_type": "stream",
     "text": [
      "Total number of cases in positive class: 33\n",
      "For breast Metastasis rfc classifier Accuracy:  0.989010989010989\n",
      "           feature  importance\n",
      "10    ITGB4 (3691)    0.089812\n",
      "0     ITGAL (3683)    0.076893\n",
      "4     ITGB5 (3693)    0.062110\n",
      "7     ITGB8 (3696)    0.061294\n",
      "9     ITGA4 (3676)    0.054012\n",
      "16   ITGA10 (8515)    0.051862\n",
      "21    ITGA5 (3678)    0.048822\n",
      "25    ITGA1 (3672)    0.047677\n",
      "18    ITGB1 (3688)    0.045888\n",
      "1     ITGA3 (3675)    0.040605\n",
      "22    ITGA2 (3673)    0.039451\n",
      "26    ITGB3 (3690)    0.038182\n",
      "8     ITGB6 (3694)    0.036493\n",
      "6     ITGA6 (3655)    0.031987\n",
      "20    ITGB2 (3689)    0.031189\n",
      "13    ITGAV (3685)    0.030840\n",
      "14    ITGB7 (3695)    0.028961\n",
      "2    ITGA2B (3674)    0.027178\n",
      "15    ITGAX (3687)    0.025786\n",
      "24   ITGBL1 (9358)    0.023372\n",
      "11    ITGA7 (3679)    0.022594\n",
      "12  ITGA11 (22801)    0.019115\n",
      "23    ITGAM (3684)    0.018815\n",
      "17    ITGA9 (3680)    0.014949\n",
      "5     ITGAE (3682)    0.014863\n",
      "3     ITGA8 (8516)    0.011560\n",
      "19    ITGAD (3681)    0.005688\n"
     ]
    },
    {
     "data": {
      "image/png": "[encoded data removed]",
      "text/plain": [
       "<Figure size 432x288 with 1 Axes>"
      ]
     },
     "metadata": {
      "needs_background": "light"
     },
     "output_type": "display_data"
    }
   ],
   "source": [
    "rf_classifier(dgene,dinfo,sel='lineage',lineage_sel='breast',ptype='Primary')\n",
    "rf_classifier(dgene,dinfo,sel='lineage',lineage_sel='breast',ptype='Metastasis')"
   ]
  },
  {
   "cell_type": "code",
   "execution_count": 10,
   "metadata": {},
   "outputs": [],
   "source": [
    "##This is the original classifier, but without using a test and training set.\n",
    "##The model is learned from the entire data set, and the predictions are made for the same data.\n",
    "##This might be useful to look for identifying the most relevant features.\n",
    "## It creates a new 'Class' composed of a lineage and primary/metastasis combination\n",
    "##  and predicts if a cell type will be a member of this class.\n",
    "##  It uses all ~1400 cancer cells to make a prediction.\n",
    "def rf_classifier_no_test_train(dgene,dinfo,sel='lineage',lineage_sel='breast',ptype='Primary'):\n",
    "    gene_id = dgene.columns[1:]\n",
    "    dinfo['Class'] = where((dinfo[sel]==lineage_sel)&(dinfo['primary_or_metastasis']==ptype),True,False)\n",
    "    df = pd.merge(dgene,dinfo,how=\"left\",on=[\"DepMap_ID\"])\n",
    "    #if lineage_sel == 'engineered_lung':\n",
    "    #    print(df)\n",
    "    X = df[gene_id]\n",
    "    y = df['Class']\n",
    "    #scaler = StandardScaler()\n",
    "    #X_scaled = scaler.fit_transform(X)\n",
    "    \n",
    "    #X_train, X_test, y_train, y_test = train_test_split(X, y, test_size=0.33, random_state=42) #stratify=y have error\n",
    "    ### Random Forest Classifier ###\n",
    "    classifier = RandomForestClassifier(n_estimators=100)\n",
    "    classifier.fit(X,y)\n",
    "    y_pred = classifier.predict(X)\n",
    "    print()\n",
    "    #print(y_pred,y_test)\n",
    "    print(\"Total number of cases in positive class:\",df.query(\"Class\").shape[0])\n",
    "    print(\"For %s %s rfc classifier Accuracy: \"%(lineage_sel,ptype), accuracy_score(y,y_pred))\n",
    "    feature_importances_df = pd.DataFrame({\"feature\": list(X.columns),\"importance\": classifier.feature_importances_}).sort_values(\"importance\",ascending=False)\n",
    "    print(feature_importances_df)\n",
    "    ax = plt.gca()\n",
    "    RocCurveDisplay.from_estimator(classifier, X, y, ax=ax, alpha=0.8)\n",
    "    plt.plot([0, 1], [0, 1], color='orange', lw=2, linestyle='--')\n",
    "    plt.show()   "
   ]
  },
  {
   "cell_type": "code",
   "execution_count": 11,
   "metadata": {},
   "outputs": [
    {
     "name": "stdout",
     "output_type": "stream",
     "text": [
      "\n",
      "Total number of cases in positive class: 28\n",
      "For breast Primary rfc classifier Accuracy:  1.0\n",
      "           feature  importance\n",
      "8     ITGB6 (3694)    0.105460\n",
      "22    ITGA2 (3673)    0.052398\n",
      "5     ITGAE (3682)    0.051366\n",
      "10    ITGB4 (3691)    0.047001\n",
      "2    ITGA2B (3674)    0.045793\n",
      "21    ITGA5 (3678)    0.045487\n",
      "25    ITGA1 (3672)    0.044709\n",
      "0     ITGAL (3683)    0.043643\n",
      "9     ITGA4 (3676)    0.042496\n",
      "17    ITGA9 (3680)    0.039629\n",
      "24   ITGBL1 (9358)    0.038222\n",
      "4     ITGB5 (3693)    0.038049\n",
      "16   ITGA10 (8515)    0.034533\n",
      "13    ITGAV (3685)    0.033632\n",
      "26    ITGB3 (3690)    0.032341\n",
      "18    ITGB1 (3688)    0.032258\n",
      "11    ITGA7 (3679)    0.031033\n",
      "14    ITGB7 (3695)    0.030487\n",
      "6     ITGA6 (3655)    0.029960\n",
      "1     ITGA3 (3675)    0.028857\n",
      "23    ITGAM (3684)    0.028682\n",
      "20    ITGB2 (3689)    0.028651\n",
      "12  ITGA11 (22801)    0.028216\n",
      "7     ITGB8 (3696)    0.027870\n",
      "15    ITGAX (3687)    0.018208\n",
      "3     ITGA8 (8516)    0.016819\n",
      "19    ITGAD (3681)    0.004200\n"
     ]
    },
    {
     "data": {
      "image/png": "[encoded data removed]",
      "text/plain": [
       "<Figure size 432x288 with 1 Axes>"
      ]
     },
     "metadata": {
      "needs_background": "light"
     },
     "output_type": "display_data"
    },
    {
     "name": "stdout",
     "output_type": "stream",
     "text": [
      "\n",
      "Total number of cases in positive class: 33\n",
      "For breast Metastasis rfc classifier Accuracy:  1.0\n",
      "           feature  importance\n",
      "10    ITGB4 (3691)    0.074093\n",
      "4     ITGB5 (3693)    0.072082\n",
      "7     ITGB8 (3696)    0.060921\n",
      "0     ITGAL (3683)    0.055358\n",
      "18    ITGB1 (3688)    0.053978\n",
      "8     ITGB6 (3694)    0.053859\n",
      "25    ITGA1 (3672)    0.051429\n",
      "21    ITGA5 (3678)    0.048381\n",
      "9     ITGA4 (3676)    0.047397\n",
      "1     ITGA3 (3675)    0.045816\n",
      "16   ITGA10 (8515)    0.043839\n",
      "6     ITGA6 (3655)    0.038023\n",
      "2    ITGA2B (3674)    0.035195\n",
      "26    ITGB3 (3690)    0.031623\n",
      "20    ITGB2 (3689)    0.030890\n",
      "11    ITGA7 (3679)    0.028718\n",
      "13    ITGAV (3685)    0.026569\n",
      "14    ITGB7 (3695)    0.026246\n",
      "12  ITGA11 (22801)    0.026156\n",
      "15    ITGAX (3687)    0.025343\n",
      "22    ITGA2 (3673)    0.023001\n",
      "24   ITGBL1 (9358)    0.022156\n",
      "23    ITGAM (3684)    0.021473\n",
      "17    ITGA9 (3680)    0.017996\n",
      "5     ITGAE (3682)    0.017127\n",
      "3     ITGA8 (8516)    0.011792\n",
      "19    ITGAD (3681)    0.010538\n"
     ]
    },
    {
     "data": {
      "image/png": "[encoded data removed]",
      "text/plain": [
       "<Figure size 432x288 with 1 Axes>"
      ]
     },
     "metadata": {
      "needs_background": "light"
     },
     "output_type": "display_data"
    }
   ],
   "source": [
    "rf_classifier_no_test_train(dgene,dinfo,sel='lineage',lineage_sel='breast',ptype='Primary')\n",
    "rf_classifier_no_test_train(dgene,dinfo,sel='lineage',lineage_sel='breast',ptype='Metastasis')"
   ]
  },
  {
   "cell_type": "code",
   "execution_count": null,
   "metadata": {},
   "outputs": [],
   "source": [
    "##This looks at one tissue and tries to classify the cell types as primary or metastasis\n",
    "def rf_classifier_single_tissue(dgene,dinfo,sel='lineage',lineage_sel='breast'):\n",
    "    gene_id = dgene.columns[1:]\n",
    "    df = pd.merge(dgene,dinfo,how=\"left\",on=[\"DepMap_ID\"])\n",
    "    df = df[df[sel]==lineage_sel]\n",
    "    df = df[df[\"primary_or_metastasis\"].notna()]\n",
    "    X = df[gene_id]\n",
    "    y = df['primary_or_metastasis']\n",
    "    #scaler = StandardScaler()\n",
    "    #X_scaled = scaler.fit_transform(X)\n",
    "    \n",
    "    X_train, X_test, y_train, y_test = train_test_split(X, y, test_size=0.33, random_state=42) #stratify=y have error\n",
    "    ### Random Forest Classifier ###\n",
    "    classifier = RandomForestClassifier(n_estimators=100)\n",
    "    classifier.fit(X_train,y_train)\n",
    "    y_pred = classifier.predict(X_test)\n",
    "    #print(y_pred,y_test)\n",
    "    print(\"Total number of cell types for tissue:\",df.shape[0])\n",
    "    print(\"For %s rfc classifier Accuracy: \"%lineage_sel, accuracy_score(y_test,y_pred))\n",
    "    feature_importances_df = pd.DataFrame({\"feature\": list(X.columns),\"importance\": classifier.feature_importances_}).sort_values(\"importance\",ascending=False)\n",
    "    print(feature_importances_df)\n",
    "    ax = plt.gca()\n",
    "    RocCurveDisplay.from_estimator(classifier, X_test, y_test, ax=ax, alpha=0.8)\n",
    "    plt.plot([0, 1], [0, 1], color='orange', lw=2, linestyle='--')\n",
    "    plt.show()     "
   ]
  },
  {
   "cell_type": "code",
   "execution_count": null,
   "metadata": {},
   "outputs": [],
   "source": [
    "rf_classifier_single_tissue(dgene,dinfo,sel='lineage',lineage_sel='breast')"
   ]
  },
  {
   "cell_type": "code",
   "execution_count": null,
   "metadata": {},
   "outputs": [],
   "source": [
    "def rf_classifier_single_tissue_no_test_train(dgene,dinfo,sel='lineage',lineage_sel='breast'):\n",
    "    gene_id = dgene.columns[1:]\n",
    "    df = pd.merge(dgene,dinfo,how=\"left\",on=[\"DepMap_ID\"])\n",
    "    df = df[df[sel]==lineage_sel]\n",
    "    df = df[df[\"primary_or_metastasis\"].notna()]\n",
    "    X = df[gene_id]\n",
    "    y = df['primary_or_metastasis']\n",
    "    #scaler = StandardScaler()\n",
    "    #X_scaled = scaler.fit_transform(X)\n",
    "    \n",
    "    #X_train, X_test, y_train, y_test = train_test_split(X, y, test_size=0.33, random_state=42) #stratify=y have error\n",
    "    ### Random Forest Classifier ###\n",
    "    classifier = RandomForestClassifier(n_estimators=100)\n",
    "    classifier.fit(X,y)\n",
    "    y_pred = classifier.predict(X)\n",
    "    #print(y_pred,y_test)\n",
    "    print(\"Total number of cell types for tissue:\",df.shape[0])\n",
    "    print(\"For %s rfc classifier Accuracy: \"%lineage_sel, accuracy_score(y,y_pred))\n",
    "    feature_importances_df = pd.DataFrame({\"feature\": list(X.columns),\"importance\": classifier.feature_importances_}).sort_values(\"importance\",ascending=False)\n",
    "    print(feature_importances_df)\n",
    "    ax = plt.gca()\n",
    "    RocCurveDisplay.from_estimator(classifier, X, y, ax=ax, alpha=0.8)\n",
    "    plt.plot([0, 1], [0, 1], color='orange', lw=2, linestyle='--')\n",
    "    plt.show()  "
   ]
  },
  {
   "cell_type": "code",
   "execution_count": null,
   "metadata": {},
   "outputs": [],
   "source": [
    "rf_classifier_single_tissue_no_test_train(dgene,dinfo,sel='lineage',lineage_sel='breast')\n"
   ]
  },
  {
   "cell_type": "code",
   "execution_count": null,
   "metadata": {},
   "outputs": [],
   "source": [
    "##This looks at one tissue and tries to classify the cell types as primary or metastasis\n",
    "def rf_classifier_all_cells(dgene,dinfo):\n",
    "    gene_id = dgene.columns[1:]\n",
    "    df = pd.merge(dgene,dinfo,how=\"left\",on=[\"DepMap_ID\"])\n",
    "#    df = df[df[sel]==lineage_sel]\n",
    "    df = df[df[\"primary_or_metastasis\"].notna()]\n",
    "    X = df[gene_id]\n",
    "    y = df['primary_or_metastasis']\n",
    "    #scaler = StandardScaler()\n",
    "    #X_scaled = scaler.fit_transform(X)\n",
    "    \n",
    "    X_train, X_test, y_train, y_test = train_test_split(X, y, test_size=0.33, random_state=42) #stratify=y have error\n",
    "    ### Random Forest Classifier ###\n",
    "    classifier = RandomForestClassifier(n_estimators=100)\n",
    "    classifier.fit(X_train,y_train)\n",
    "    y_pred = classifier.predict(X_test)\n",
    "    #print(y_pred,y_test)\n",
    "    print(\"Total number of cell types for tissue:\",df.shape[0])\n",
    "    print(\"For all cells, rfc classifier Accuracy: \", accuracy_score(y_test,y_pred))\n",
    "    feature_importances_df = pd.DataFrame({\"feature\": list(X.columns),\"importance\": classifier.feature_importances_}).sort_values(\"importance\",ascending=False)\n",
    "    print(feature_importances_df)\n",
    "    ax = plt.gca()\n",
    "    RocCurveDisplay.from_estimator(classifier, X_test, y_test, ax=ax, alpha=0.8)\n",
    "    plt.plot([0, 1], [0, 1], color='orange', lw=2, linestyle='--')\n",
    "    plt.show()   "
   ]
  },
  {
   "cell_type": "code",
   "execution_count": null,
   "metadata": {},
   "outputs": [],
   "source": [
    "rf_classifier_all_cells(dgene,dinfo)"
   ]
  },
  {
   "cell_type": "code",
   "execution_count": null,
   "metadata": {},
   "outputs": [],
   "source": [
    "##This uses all of the data and tries to classify based on the lineage\n",
    "## It ignores primary or metastasis\n",
    "def rf_classifier_tissue(dgene,dinfo,sel='lineage',lineage_sel='breast'):\n",
    "    gene_id = dgene.columns[1:]\n",
    "    dinfo['Class'] = where((dinfo[sel]==lineage_sel),True,False)\n",
    "    df = pd.merge(dgene,dinfo,how=\"left\",on=[\"DepMap_ID\"])\n",
    "    #if lineage_sel == 'engineered_lung':\n",
    "    #    print(df)\n",
    "    X = df[gene_id]\n",
    "    y = df['Class']\n",
    "    #scaler = StandardScaler()\n",
    "    #X_scaled = scaler.fit_transform(X)\n",
    "    \n",
    "    X_train, X_test, y_train, y_test = train_test_split(X, y, test_size=0.33, random_state=42) #stratify=y have error\n",
    "    ### Random Forest Classifier ###\n",
    "    classifier = RandomForestClassifier(n_estimators=100)\n",
    "    classifier.fit(X_train,y_train)\n",
    "    y_pred = classifier.predict(X_test)\n",
    "    #print(y_pred,y_test)\n",
    "    print(\"Total number of cases in positive class:\",df.query(\"Class\").shape[0])\n",
    "    print(\"For %s rfc classifier Accuracy: \"%lineage_sel, accuracy_score(y_test,y_pred))\n",
    "    feature_importances_df = pd.DataFrame({\"feature\": list(X.columns),\"importance\": classifier.feature_importances_}).sort_values(\"importance\",ascending=False)\n",
    "    print(feature_importances_df)\n",
    "    ax = plt.gca()\n",
    "    RocCurveDisplay.from_estimator(classifier, X_test, y_test, ax=ax, alpha=0.8)\n",
    "    plt.plot([0, 1], [0, 1], color='orange', lw=2, linestyle='--')\n",
    "    plt.show()   "
   ]
  },
  {
   "cell_type": "code",
   "execution_count": null,
   "metadata": {},
   "outputs": [],
   "source": [
    "rf_classifier_tissue(dgene,dinfo,sel='lineage',lineage_sel='breast')"
   ]
  },
  {
   "cell_type": "code",
   "execution_count": null,
   "metadata": {},
   "outputs": [],
   "source": [
    "##This tries to classify based on the lineage\n",
    "## It looks at only a single ptype. Either only the primary cells are used or only the metastatic cells are used.\n",
    "def rf_classifier_single_ptype(dgene,dinfo,sel='lineage',lineage_sel='breast',ptype='Primary'):\n",
    "    gene_id = dgene.columns[1:]\n",
    "    dinfo['Class'] = where((dinfo[sel]==lineage_sel),True,False)\n",
    "    df = pd.merge(dgene,dinfo,how=\"left\",on=[\"DepMap_ID\"])\n",
    "    df = df[df[\"primary_or_metastasis\"]==ptype]\n",
    "    #if lineage_sel == 'engineered_lung':\n",
    "    #    print(df)\n",
    "    X = df[gene_id]\n",
    "    y = df['Class']\n",
    "    #scaler = StandardScaler()\n",
    "    #X_scaled = scaler.fit_transform(X)\n",
    "    \n",
    "    X_train, X_test, y_train, y_test = train_test_split(X, y, test_size=0.33, random_state=42) #stratify=y have error\n",
    "    ### Random Forest Classifier ###\n",
    "    classifier = RandomForestClassifier(n_estimators=100)\n",
    "    classifier.fit(X_train,y_train)\n",
    "    y_pred = classifier.predict(X_test)\n",
    "    #print(y_pred,y_test)\n",
    "    print(\"Total number of cases in positive class:\",df.query(\"Class\").shape[0])\n",
    "    print(\"For %s %s rfc classifier Accuracy: \"%(lineage_sel,ptype), accuracy_score(y_test,y_pred))\n",
    "    feature_importances_df = pd.DataFrame({\"feature\": list(X.columns),\"importance\": classifier.feature_importances_}).sort_values(\"importance\",ascending=False)\n",
    "    print(feature_importances_df)\n",
    "    ax = plt.gca()\n",
    "    RocCurveDisplay.from_estimator(classifier, X_test, y_test, ax=ax, alpha=0.8)\n",
    "    plt.plot([0, 1], [0, 1], color='orange', lw=2, linestyle='--')\n",
    "    plt.show()   "
   ]
  },
  {
   "cell_type": "code",
   "execution_count": null,
   "metadata": {},
   "outputs": [],
   "source": [
    "rf_classifier_single_ptype(dgene,dinfo,sel='lineage',lineage_sel='breast',ptype='Primary')\n",
    "rf_classifier_single_ptype(dgene,dinfo,sel='lineage',lineage_sel='breast',ptype='Metastasis')"
   ]
  },
  {
   "cell_type": "code",
   "execution_count": null,
   "metadata": {},
   "outputs": [],
   "source": []
  }
 ],
 "metadata": {
  "kernelspec": {
   "display_name": "Python 3",
   "language": "python",
   "name": "python3"
  },
  "language_info": {
   "codemirror_mode": {
    "name": "ipython",
    "version": 3
   },
   "file_extension": ".py",
   "mimetype": "text/x-python",
   "name": "python",
   "nbconvert_exporter": "python",
   "pygments_lexer": "ipython3",
   "version": "3.7.0"
  }
 },
 "nbformat": 4,
 "nbformat_minor": 4
}
