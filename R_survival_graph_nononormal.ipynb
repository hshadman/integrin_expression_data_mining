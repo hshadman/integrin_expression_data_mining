{
 "cells": [
  {
   "cell_type": "code",
   "execution_count": 1,
   "metadata": {},
   "outputs": [
    {
     "name": "stderr",
     "output_type": "stream",
     "text": [
      "Loading required package: ggplot2\n",
      "\n",
      "Loading required package: ggpubr\n",
      "\n"
     ]
    }
   ],
   "source": [
    "library(\"survival\")\n",
    "library(\"coxphMIC\")\n",
    "library(\"survminer\")"
   ]
  },
  {
   "cell_type": "code",
   "execution_count": 2,
   "metadata": {},
   "outputs": [],
   "source": [
    "#urlPackage <- \"https://cran.r-project.org/src/contrib/Archive/randomForest/randomForest_4.6-12.tar.gz\""
   ]
  },
  {
   "cell_type": "code",
   "execution_count": null,
   "metadata": {},
   "outputs": [],
   "source": [
    "#install.packages(urlPackage, repos=NULL, type=\"source\",lib='/home/hshadman/R/x86_64-pc-linux-gnu-library/3.5')"
   ]
  },
  {
   "cell_type": "code",
   "execution_count": null,
   "metadata": {},
   "outputs": [],
   "source": [
    "#urlPackage <- \"https://cran.r-project.org/src/contrib/Archive/randomForestSRC/randomForestSRC_2.9.3.tar.gz\""
   ]
  },
  {
   "cell_type": "code",
   "execution_count": null,
   "metadata": {},
   "outputs": [],
   "source": [
    "#install.packages(urlPackage, repos=NULL, type=\"source\",lib='/home/hshadman/R/x86_64-pc-linux-gnu-library/3.5')"
   ]
  },
  {
   "cell_type": "code",
   "execution_count": null,
   "metadata": {},
   "outputs": [],
   "source": [
    "#urlPackage <- \"https://cran.r-project.org/src/contrib/Archive/ClusterR/ClusterR_1.2.5.tar.gz\"\n",
    "#install.packages(urlPackage, repos=NULL, type=\"source\",lib='/home/hshadman/R/x86_64-pc-linux-gnu-library/3.5')"
   ]
  },
  {
   "cell_type": "code",
   "execution_count": 2,
   "metadata": {},
   "outputs": [
    {
     "name": "stderr",
     "output_type": "stream",
     "text": [
      "randomForest 4.6-12\n",
      "\n",
      "Type rfNews() to see new features/changes/bug fixes.\n",
      "\n",
      "\n",
      "Attaching package: ‘randomForest’\n",
      "\n",
      "\n",
      "The following object is masked from ‘package:ggplot2’:\n",
      "\n",
      "    margin\n",
      "\n",
      "\n"
     ]
    }
   ],
   "source": [
    "library('randomForest')"
   ]
  },
  {
   "cell_type": "code",
   "execution_count": 3,
   "metadata": {},
   "outputs": [
    {
     "name": "stderr",
     "output_type": "stream",
     "text": [
      "\n",
      " randomForestSRC 2.9.3 \n",
      " \n",
      " Type rfsrc.news() to see new features, changes, and bug fixes. \n",
      " \n",
      "\n",
      "\n"
     ]
    }
   ],
   "source": [
    "library(\"randomForestSRC\")"
   ]
  },
  {
   "cell_type": "code",
   "execution_count": 4,
   "metadata": {},
   "outputs": [
    {
     "name": "stderr",
     "output_type": "stream",
     "text": [
      "Loading required package: gtools\n",
      "\n"
     ]
    }
   ],
   "source": [
    "library('ClusterR')"
   ]
  },
  {
   "cell_type": "code",
   "execution_count": 5,
   "metadata": {},
   "outputs": [],
   "source": [
    "library('cluster')"
   ]
  },
  {
   "cell_type": "code",
   "execution_count": 6,
   "metadata": {},
   "outputs": [],
   "source": [
    "library('scatterplot3d')"
   ]
  },
  {
   "cell_type": "code",
   "execution_count": 7,
   "metadata": {},
   "outputs": [],
   "source": [
    "integrin=read.csv(\"integrin_data_with_sample_survival_info.txt\",sep='\\t')"
   ]
  },
  {
   "cell_type": "code",
   "execution_count": 8,
   "metadata": {},
   "outputs": [
    {
     "data": {
      "text/html": [
       "<style>\n",
       ".list-inline {list-style: none; margin:0; padding: 0}\n",
       ".list-inline>li {display: inline-block}\n",
       ".list-inline>li:not(:last-child)::after {content: \"\\00b7\"; padding: 0 .5ex}\n",
       "</style>\n",
       "<ol class=list-inline><li>1218</li><li>231</li></ol>\n"
      ],
      "text/latex": [
       "\\begin{enumerate*}\n",
       "\\item 1218\n",
       "\\item 231\n",
       "\\end{enumerate*}\n"
      ],
      "text/markdown": [
       "1. 1218\n",
       "2. 231\n",
       "\n",
       "\n"
      ],
      "text/plain": [
       "[1] 1218  231"
      ]
     },
     "metadata": {},
     "output_type": "display_data"
    }
   ],
   "source": [
    "dim(integrin)"
   ]
  },
  {
   "cell_type": "code",
   "execution_count": 9,
   "metadata": {},
   "outputs": [],
   "source": [
    "integrin_nonormal<-integrin[!(integrin$sample_type==\"Solid Tissue Normal\"),]\n"
   ]
  },
  {
   "cell_type": "code",
   "execution_count": 10,
   "metadata": {},
   "outputs": [],
   "source": [
    "integrin<- integrin_nonormal"
   ]
  },
  {
   "cell_type": "code",
   "execution_count": 11,
   "metadata": {},
   "outputs": [
    {
     "data": {
      "text/html": [
       "<style>\n",
       ".list-inline {list-style: none; margin:0; padding: 0}\n",
       ".list-inline>li {display: inline-block}\n",
       ".list-inline>li:not(:last-child)::after {content: \"\\00b7\"; padding: 0 .5ex}\n",
       "</style>\n",
       "<ol class=list-inline><li>1104</li><li>231</li></ol>\n"
      ],
      "text/latex": [
       "\\begin{enumerate*}\n",
       "\\item 1104\n",
       "\\item 231\n",
       "\\end{enumerate*}\n"
      ],
      "text/markdown": [
       "1. 1104\n",
       "2. 231\n",
       "\n",
       "\n"
      ],
      "text/plain": [
       "[1] 1104  231"
      ]
     },
     "metadata": {},
     "output_type": "display_data"
    }
   ],
   "source": [
    "dim(integrin)"
   ]
  },
  {
   "cell_type": "code",
   "execution_count": 12,
   "metadata": {},
   "outputs": [],
   "source": [
    "integrin.ge=integrin[,2:28]"
   ]
  },
  {
   "cell_type": "code",
   "execution_count": 13,
   "metadata": {},
   "outputs": [],
   "source": [
    "clusters <- hclust(dist(t(integrin.ge)))"
   ]
  },
  {
   "cell_type": "code",
   "execution_count": 14,
   "metadata": {},
   "outputs": [
    {
     "data": {
      "image/png": "[encoded data removed]",
      "text/plain": [
       "Plot with title “Cluster Dendrogram”"
      ]
     },
     "metadata": {
      "image/png": {
       "height": 420,
       "width": 420
      }
     },
     "output_type": "display_data"
    }
   ],
   "source": [
    "p1 <- plot(clusters)\n"
   ]
  },
  {
   "cell_type": "code",
   "execution_count": 15,
   "metadata": {},
   "outputs": [],
   "source": [
    "covariates <- colnames(integrin[,2:28])"
   ]
  },
  {
   "cell_type": "code",
   "execution_count": 16,
   "metadata": {},
   "outputs": [],
   "source": [
    "univ_formulas.DSS <- sapply(covariates,function(x) as.formula(paste('Surv(DSS.time,DSS)~', x)))"
   ]
  },
  {
   "cell_type": "code",
   "execution_count": 17,
   "metadata": {},
   "outputs": [],
   "source": [
    "univ_models.DSS <- lapply(univ_formulas.DSS, function(x){coxph(x, data = integrin)})"
   ]
  },
  {
   "cell_type": "code",
   "execution_count": 18,
   "metadata": {},
   "outputs": [
    {
     "data": {
      "text/html": [
       "<table class=\"dataframe\">\n",
       "<caption>A data.frame: 27 × 4</caption>\n",
       "<thead>\n",
       "\t<tr><th></th><th scope=col>beta</th><th scope=col>HR (95% CI for HR)</th><th scope=col>wald.test</th><th scope=col>p.value</th></tr>\n",
       "\t<tr><th></th><th scope=col>&lt;fct&gt;</th><th scope=col>&lt;fct&gt;</th><th scope=col>&lt;fct&gt;</th><th scope=col>&lt;fct&gt;</th></tr>\n",
       "</thead>\n",
       "<tbody>\n",
       "\t<tr><th scope=row>ITGA8</th><td>0.028 </td><td>1 (0.91-1.2)    </td><td>0.2 </td><td>0.66  </td></tr>\n",
       "\t<tr><th scope=row>ITGA9</th><td>-0.086</td><td>0.92 (0.79-1.1) </td><td>1.3 </td><td>0.26  </td></tr>\n",
       "\t<tr><th scope=row>ITGA1</th><td>0.21  </td><td>1.2 (0.99-1.5)  </td><td>3.5 </td><td>0.063 </td></tr>\n",
       "\t<tr><th scope=row>ITGA2</th><td>-0.11 </td><td>0.9 (0.77-1)    </td><td>2   </td><td>0.15  </td></tr>\n",
       "\t<tr><th scope=row>ITGA3</th><td>-0.18 </td><td>0.84 (0.69-1)   </td><td>3   </td><td>0.081 </td></tr>\n",
       "\t<tr><th scope=row>ITGA4</th><td>-0.031</td><td>0.97 (0.82-1.1) </td><td>0.13</td><td>0.72  </td></tr>\n",
       "\t<tr><th scope=row>ITGA5</th><td>0.39  </td><td>1.5 (1.1-2)     </td><td>7.6 </td><td>0.0059</td></tr>\n",
       "\t<tr><th scope=row>ITGA6</th><td>-0.034</td><td>0.97 (0.8-1.2)  </td><td>0.13</td><td>0.72  </td></tr>\n",
       "\t<tr><th scope=row>ITGA7</th><td>-0.041</td><td>0.96 (0.83-1.1) </td><td>0.31</td><td>0.58  </td></tr>\n",
       "\t<tr><th scope=row>ITGAX</th><td>-0.15 </td><td>0.86 (0.71-1)   </td><td>2.4 </td><td>0.12  </td></tr>\n",
       "\t<tr><th scope=row>ITGAV</th><td>0.18  </td><td>1.2 (0.91-1.6)  </td><td>1.7 </td><td>0.19  </td></tr>\n",
       "\t<tr><th scope=row>ITGAL</th><td>-0.19 </td><td>0.82 (0.71-0.95)</td><td>6.7 </td><td>0.0098</td></tr>\n",
       "\t<tr><th scope=row>ITGAM</th><td>-0.18 </td><td>0.84 (0.7-1)    </td><td>3.8 </td><td>0.051 </td></tr>\n",
       "\t<tr><th scope=row>ITGA2B</th><td>-0.033</td><td>0.97 (0.84-1.1) </td><td>0.2 </td><td>0.66  </td></tr>\n",
       "\t<tr><th scope=row>ITGAD</th><td>-0.013</td><td>0.99 (0.86-1.1) </td><td>0.03</td><td>0.86  </td></tr>\n",
       "\t<tr><th scope=row>ITGAE</th><td>0.11  </td><td>1.1 (0.8-1.6)   </td><td>0.39</td><td>0.53  </td></tr>\n",
       "\t<tr><th scope=row>ITGBL1</th><td>0.043 </td><td>1 (0.9-1.2)     </td><td>0.34</td><td>0.56  </td></tr>\n",
       "\t<tr><th scope=row>ITGB1</th><td>0.37  </td><td>1.5 (1-2.1)     </td><td>4.2 </td><td>0.041 </td></tr>\n",
       "\t<tr><th scope=row>ITGB3</th><td>0.13  </td><td>1.1 (0.97-1.3)  </td><td>2.6 </td><td>0.1   </td></tr>\n",
       "\t<tr><th scope=row>ITGB5</th><td>0.02  </td><td>1 (0.81-1.3)    </td><td>0.03</td><td>0.86  </td></tr>\n",
       "\t<tr><th scope=row>ITGB4</th><td>-0.078</td><td>0.92 (0.8-1.1)  </td><td>1   </td><td>0.31  </td></tr>\n",
       "\t<tr><th scope=row>ITGB7</th><td>-0.13 </td><td>0.87 (0.75-1)   </td><td>3.2 </td><td>0.075 </td></tr>\n",
       "\t<tr><th scope=row>ITGB6</th><td>0.035 </td><td>1 (0.93-1.2)    </td><td>0.4 </td><td>0.53  </td></tr>\n",
       "\t<tr><th scope=row>ITGB8</th><td>-0.11 </td><td>0.89 (0.79-1)   </td><td>3.5 </td><td>0.063 </td></tr>\n",
       "\t<tr><th scope=row>ITGA10</th><td>-0.11 </td><td>0.9 (0.78-1)    </td><td>2.2 </td><td>0.14  </td></tr>\n",
       "\t<tr><th scope=row>ITGA11</th><td>0.16  </td><td>1.2 (1-1.3)     </td><td>4.7 </td><td>0.03  </td></tr>\n",
       "\t<tr><th scope=row>ITGB2</th><td>-0.067</td><td>0.94 (0.79-1.1) </td><td>0.57</td><td>0.45  </td></tr>\n",
       "</tbody>\n",
       "</table>\n"
      ],
      "text/latex": [
       "A data.frame: 27 × 4\n",
       "\\begin{tabular}{r|llll}\n",
       "  & beta & HR (95\\% CI for HR) & wald.test & p.value\\\\\n",
       "  & <fct> & <fct> & <fct> & <fct>\\\\\n",
       "\\hline\n",
       "\tITGA8 & 0.028  & 1 (0.91-1.2)     & 0.2  & 0.66  \\\\\n",
       "\tITGA9 & -0.086 & 0.92 (0.79-1.1)  & 1.3  & 0.26  \\\\\n",
       "\tITGA1 & 0.21   & 1.2 (0.99-1.5)   & 3.5  & 0.063 \\\\\n",
       "\tITGA2 & -0.11  & 0.9 (0.77-1)     & 2    & 0.15  \\\\\n",
       "\tITGA3 & -0.18  & 0.84 (0.69-1)    & 3    & 0.081 \\\\\n",
       "\tITGA4 & -0.031 & 0.97 (0.82-1.1)  & 0.13 & 0.72  \\\\\n",
       "\tITGA5 & 0.39   & 1.5 (1.1-2)      & 7.6  & 0.0059\\\\\n",
       "\tITGA6 & -0.034 & 0.97 (0.8-1.2)   & 0.13 & 0.72  \\\\\n",
       "\tITGA7 & -0.041 & 0.96 (0.83-1.1)  & 0.31 & 0.58  \\\\\n",
       "\tITGAX & -0.15  & 0.86 (0.71-1)    & 2.4  & 0.12  \\\\\n",
       "\tITGAV & 0.18   & 1.2 (0.91-1.6)   & 1.7  & 0.19  \\\\\n",
       "\tITGAL & -0.19  & 0.82 (0.71-0.95) & 6.7  & 0.0098\\\\\n",
       "\tITGAM & -0.18  & 0.84 (0.7-1)     & 3.8  & 0.051 \\\\\n",
       "\tITGA2B & -0.033 & 0.97 (0.84-1.1)  & 0.2  & 0.66  \\\\\n",
       "\tITGAD & -0.013 & 0.99 (0.86-1.1)  & 0.03 & 0.86  \\\\\n",
       "\tITGAE & 0.11   & 1.1 (0.8-1.6)    & 0.39 & 0.53  \\\\\n",
       "\tITGBL1 & 0.043  & 1 (0.9-1.2)      & 0.34 & 0.56  \\\\\n",
       "\tITGB1 & 0.37   & 1.5 (1-2.1)      & 4.2  & 0.041 \\\\\n",
       "\tITGB3 & 0.13   & 1.1 (0.97-1.3)   & 2.6  & 0.1   \\\\\n",
       "\tITGB5 & 0.02   & 1 (0.81-1.3)     & 0.03 & 0.86  \\\\\n",
       "\tITGB4 & -0.078 & 0.92 (0.8-1.1)   & 1    & 0.31  \\\\\n",
       "\tITGB7 & -0.13  & 0.87 (0.75-1)    & 3.2  & 0.075 \\\\\n",
       "\tITGB6 & 0.035  & 1 (0.93-1.2)     & 0.4  & 0.53  \\\\\n",
       "\tITGB8 & -0.11  & 0.89 (0.79-1)    & 3.5  & 0.063 \\\\\n",
       "\tITGA10 & -0.11  & 0.9 (0.78-1)     & 2.2  & 0.14  \\\\\n",
       "\tITGA11 & 0.16   & 1.2 (1-1.3)      & 4.7  & 0.03  \\\\\n",
       "\tITGB2 & -0.067 & 0.94 (0.79-1.1)  & 0.57 & 0.45  \\\\\n",
       "\\end{tabular}\n"
      ],
      "text/markdown": [
       "\n",
       "A data.frame: 27 × 4\n",
       "\n",
       "| <!--/--> | beta &lt;fct&gt; | HR (95% CI for HR) &lt;fct&gt; | wald.test &lt;fct&gt; | p.value &lt;fct&gt; |\n",
       "|---|---|---|---|---|\n",
       "| ITGA8 | 0.028  | 1 (0.91-1.2)     | 0.2  | 0.66   |\n",
       "| ITGA9 | -0.086 | 0.92 (0.79-1.1)  | 1.3  | 0.26   |\n",
       "| ITGA1 | 0.21   | 1.2 (0.99-1.5)   | 3.5  | 0.063  |\n",
       "| ITGA2 | -0.11  | 0.9 (0.77-1)     | 2    | 0.15   |\n",
       "| ITGA3 | -0.18  | 0.84 (0.69-1)    | 3    | 0.081  |\n",
       "| ITGA4 | -0.031 | 0.97 (0.82-1.1)  | 0.13 | 0.72   |\n",
       "| ITGA5 | 0.39   | 1.5 (1.1-2)      | 7.6  | 0.0059 |\n",
       "| ITGA6 | -0.034 | 0.97 (0.8-1.2)   | 0.13 | 0.72   |\n",
       "| ITGA7 | -0.041 | 0.96 (0.83-1.1)  | 0.31 | 0.58   |\n",
       "| ITGAX | -0.15  | 0.86 (0.71-1)    | 2.4  | 0.12   |\n",
       "| ITGAV | 0.18   | 1.2 (0.91-1.6)   | 1.7  | 0.19   |\n",
       "| ITGAL | -0.19  | 0.82 (0.71-0.95) | 6.7  | 0.0098 |\n",
       "| ITGAM | -0.18  | 0.84 (0.7-1)     | 3.8  | 0.051  |\n",
       "| ITGA2B | -0.033 | 0.97 (0.84-1.1)  | 0.2  | 0.66   |\n",
       "| ITGAD | -0.013 | 0.99 (0.86-1.1)  | 0.03 | 0.86   |\n",
       "| ITGAE | 0.11   | 1.1 (0.8-1.6)    | 0.39 | 0.53   |\n",
       "| ITGBL1 | 0.043  | 1 (0.9-1.2)      | 0.34 | 0.56   |\n",
       "| ITGB1 | 0.37   | 1.5 (1-2.1)      | 4.2  | 0.041  |\n",
       "| ITGB3 | 0.13   | 1.1 (0.97-1.3)   | 2.6  | 0.1    |\n",
       "| ITGB5 | 0.02   | 1 (0.81-1.3)     | 0.03 | 0.86   |\n",
       "| ITGB4 | -0.078 | 0.92 (0.8-1.1)   | 1    | 0.31   |\n",
       "| ITGB7 | -0.13  | 0.87 (0.75-1)    | 3.2  | 0.075  |\n",
       "| ITGB6 | 0.035  | 1 (0.93-1.2)     | 0.4  | 0.53   |\n",
       "| ITGB8 | -0.11  | 0.89 (0.79-1)    | 3.5  | 0.063  |\n",
       "| ITGA10 | -0.11  | 0.9 (0.78-1)     | 2.2  | 0.14   |\n",
       "| ITGA11 | 0.16   | 1.2 (1-1.3)      | 4.7  | 0.03   |\n",
       "| ITGB2 | -0.067 | 0.94 (0.79-1.1)  | 0.57 | 0.45   |\n",
       "\n"
      ],
      "text/plain": [
       "       beta   HR (95% CI for HR) wald.test p.value\n",
       "ITGA8  0.028  1 (0.91-1.2)       0.2       0.66   \n",
       "ITGA9  -0.086 0.92 (0.79-1.1)    1.3       0.26   \n",
       "ITGA1  0.21   1.2 (0.99-1.5)     3.5       0.063  \n",
       "ITGA2  -0.11  0.9 (0.77-1)       2         0.15   \n",
       "ITGA3  -0.18  0.84 (0.69-1)      3         0.081  \n",
       "ITGA4  -0.031 0.97 (0.82-1.1)    0.13      0.72   \n",
       "ITGA5  0.39   1.5 (1.1-2)        7.6       0.0059 \n",
       "ITGA6  -0.034 0.97 (0.8-1.2)     0.13      0.72   \n",
       "ITGA7  -0.041 0.96 (0.83-1.1)    0.31      0.58   \n",
       "ITGAX  -0.15  0.86 (0.71-1)      2.4       0.12   \n",
       "ITGAV  0.18   1.2 (0.91-1.6)     1.7       0.19   \n",
       "ITGAL  -0.19  0.82 (0.71-0.95)   6.7       0.0098 \n",
       "ITGAM  -0.18  0.84 (0.7-1)       3.8       0.051  \n",
       "ITGA2B -0.033 0.97 (0.84-1.1)    0.2       0.66   \n",
       "ITGAD  -0.013 0.99 (0.86-1.1)    0.03      0.86   \n",
       "ITGAE  0.11   1.1 (0.8-1.6)      0.39      0.53   \n",
       "ITGBL1 0.043  1 (0.9-1.2)        0.34      0.56   \n",
       "ITGB1  0.37   1.5 (1-2.1)        4.2       0.041  \n",
       "ITGB3  0.13   1.1 (0.97-1.3)     2.6       0.1    \n",
       "ITGB5  0.02   1 (0.81-1.3)       0.03      0.86   \n",
       "ITGB4  -0.078 0.92 (0.8-1.1)     1         0.31   \n",
       "ITGB7  -0.13  0.87 (0.75-1)      3.2       0.075  \n",
       "ITGB6  0.035  1 (0.93-1.2)       0.4       0.53   \n",
       "ITGB8  -0.11  0.89 (0.79-1)      3.5       0.063  \n",
       "ITGA10 -0.11  0.9 (0.78-1)       2.2       0.14   \n",
       "ITGA11 0.16   1.2 (1-1.3)        4.7       0.03   \n",
       "ITGB2  -0.067 0.94 (0.79-1.1)    0.57      0.45   "
      ]
     },
     "metadata": {},
     "output_type": "display_data"
    }
   ],
   "source": [
    "univ_results.DSS <- lapply(univ_models.DSS, \n",
    "                       function(x){  \n",
    "                          x <- summary(x) \n",
    "                          p.value<-signif(x$wald[\"pvalue\"], digits=2) \n",
    "                          wald.test<-signif(x$wald[\"test\"], digits=2) \n",
    "                          beta<-signif(x$coef[1], digits=2);#coeficient beta \n",
    "                          HR <-signif(x$coef[2], digits=2);#exp(beta) \n",
    "                          HR.confint.lower <- signif(x$conf.int[,\"lower .95\"], 2) \n",
    "                          HR.confint.upper <- signif(x$conf.int[,\"upper .95\"],2) \n",
    "                          HR <- paste0(HR, \" (\",  \n",
    "                                       HR.confint.lower, \"-\", HR.confint.upper, \")\") \n",
    "                          res<-c(beta, HR, wald.test, p.value) \n",
    "                          names(res)<-c(\"beta\", \"HR (95% CI for HR)\", \"wald.test\",  \n",
    "                                        \"p.value\") \n",
    "                          return(res) \n",
    "                          #return(exp(cbind(coef(x),confint(x)))) \n",
    "                         }) \n",
    "res.DSS <- t(as.data.frame(univ_results.DSS, check.names = FALSE)) \n",
    "as.data.frame(res.DSS)"
   ]
  },
  {
   "cell_type": "code",
   "execution_count": 19,
   "metadata": {},
   "outputs": [],
   "source": [
    "covariates <- colnames(integrin[,2:28]) \n",
    " \n",
    " \n",
    "univ_formulas.OS <- sapply(covariates, \n",
    "                        function(x) as.formula(paste('Surv(OS.time,OS)~', x))) \n",
    "                         \n",
    "univ_models.OS <- lapply( univ_formulas.OS, function(x){coxph(x, data = integrin)})"
   ]
  },
  {
   "cell_type": "code",
   "execution_count": 20,
   "metadata": {},
   "outputs": [
    {
     "data": {
      "text/html": [
       "<table class=\"dataframe\">\n",
       "<caption>A data.frame: 27 × 4</caption>\n",
       "<thead>\n",
       "\t<tr><th></th><th scope=col>beta</th><th scope=col>HR (95% CI for HR)</th><th scope=col>wald.test</th><th scope=col>p.value</th></tr>\n",
       "\t<tr><th></th><th scope=col>&lt;fct&gt;</th><th scope=col>&lt;fct&gt;</th><th scope=col>&lt;fct&gt;</th><th scope=col>&lt;fct&gt;</th></tr>\n",
       "</thead>\n",
       "<tbody>\n",
       "\t<tr><th scope=row>ITGA8</th><td>0.039  </td><td>1 (0.95-1.1)    </td><td>0.71</td><td>0.4  </td></tr>\n",
       "\t<tr><th scope=row>ITGA9</th><td>-0.036 </td><td>0.97 (0.86-1.1) </td><td>0.39</td><td>0.53 </td></tr>\n",
       "\t<tr><th scope=row>ITGA1</th><td>0.12   </td><td>1.1 (0.96-1.3)  </td><td>2.1 </td><td>0.15 </td></tr>\n",
       "\t<tr><th scope=row>ITGA2</th><td>-0.056 </td><td>0.95 (0.84-1.1) </td><td>0.9 </td><td>0.34 </td></tr>\n",
       "\t<tr><th scope=row>ITGA3</th><td>-0.13  </td><td>0.88 (0.76-1)   </td><td>3.1 </td><td>0.08 </td></tr>\n",
       "\t<tr><th scope=row>ITGA4</th><td>-0.021 </td><td>0.98 (0.86-1.1) </td><td>0.11</td><td>0.74 </td></tr>\n",
       "\t<tr><th scope=row>ITGA5</th><td>0.12   </td><td>1.1 (0.91-1.4)  </td><td>1.2 </td><td>0.27 </td></tr>\n",
       "\t<tr><th scope=row>ITGA6</th><td>-0.063 </td><td>0.94 (0.82-1.1) </td><td>0.83</td><td>0.36 </td></tr>\n",
       "\t<tr><th scope=row>ITGA7</th><td>-0.033 </td><td>0.97 (0.87-1.1) </td><td>0.36</td><td>0.55 </td></tr>\n",
       "\t<tr><th scope=row>ITGAX</th><td>-0.13  </td><td>0.88 (0.76-1)   </td><td>3.5 </td><td>0.063</td></tr>\n",
       "\t<tr><th scope=row>ITGAV</th><td>0.16   </td><td>1.2 (0.96-1.4)  </td><td>2.5 </td><td>0.12 </td></tr>\n",
       "\t<tr><th scope=row>ITGAL</th><td>-0.11  </td><td>0.89 (0.8-1)    </td><td>4   </td><td>0.046</td></tr>\n",
       "\t<tr><th scope=row>ITGAM</th><td>-0.09  </td><td>0.91 (0.8-1)    </td><td>1.8 </td><td>0.19 </td></tr>\n",
       "\t<tr><th scope=row>ITGA2B</th><td>-0.052 </td><td>0.95 (0.85-1.1) </td><td>0.9 </td><td>0.34 </td></tr>\n",
       "\t<tr><th scope=row>ITGAD</th><td>-0.0082</td><td>0.99 (0.9-1.1)  </td><td>0.03</td><td>0.87 </td></tr>\n",
       "\t<tr><th scope=row>ITGAE</th><td>-0.0046</td><td>1 (0.77-1.3)    </td><td>0   </td><td>0.97 </td></tr>\n",
       "\t<tr><th scope=row>ITGBL1</th><td>-0.0033</td><td>1 (0.9-1.1)     </td><td>0   </td><td>0.95 </td></tr>\n",
       "\t<tr><th scope=row>ITGB1</th><td>0.22   </td><td>1.2 (0.95-1.6)  </td><td>2.6 </td><td>0.11 </td></tr>\n",
       "\t<tr><th scope=row>ITGB3</th><td>0.11   </td><td>1.1 (0.99-1.3)  </td><td>3.3 </td><td>0.071</td></tr>\n",
       "\t<tr><th scope=row>ITGB5</th><td>-0.011 </td><td>0.99 (0.83-1.2) </td><td>0.02</td><td>0.9  </td></tr>\n",
       "\t<tr><th scope=row>ITGB4</th><td>-0.093 </td><td>0.91 (0.82-1)   </td><td>2.8 </td><td>0.096</td></tr>\n",
       "\t<tr><th scope=row>ITGB7</th><td>-0.12  </td><td>0.89 (0.79-0.99)</td><td>4.7 </td><td>0.03 </td></tr>\n",
       "\t<tr><th scope=row>ITGB6</th><td>0.0069 </td><td>1 (0.93-1.1)    </td><td>0.03</td><td>0.87 </td></tr>\n",
       "\t<tr><th scope=row>ITGB8</th><td>-0.066 </td><td>0.94 (0.86-1)   </td><td>2.1 </td><td>0.15 </td></tr>\n",
       "\t<tr><th scope=row>ITGA10</th><td>-0.13  </td><td>0.88 (0.79-0.98)</td><td>5.6 </td><td>0.018</td></tr>\n",
       "\t<tr><th scope=row>ITGA11</th><td>0.078  </td><td>1.1 (0.97-1.2)  </td><td>2.2 </td><td>0.14 </td></tr>\n",
       "\t<tr><th scope=row>ITGB2</th><td>-0.088 </td><td>0.92 (0.8-1)    </td><td>1.8 </td><td>0.18 </td></tr>\n",
       "</tbody>\n",
       "</table>\n"
      ],
      "text/latex": [
       "A data.frame: 27 × 4\n",
       "\\begin{tabular}{r|llll}\n",
       "  & beta & HR (95\\% CI for HR) & wald.test & p.value\\\\\n",
       "  & <fct> & <fct> & <fct> & <fct>\\\\\n",
       "\\hline\n",
       "\tITGA8 & 0.039   & 1 (0.95-1.1)     & 0.71 & 0.4  \\\\\n",
       "\tITGA9 & -0.036  & 0.97 (0.86-1.1)  & 0.39 & 0.53 \\\\\n",
       "\tITGA1 & 0.12    & 1.1 (0.96-1.3)   & 2.1  & 0.15 \\\\\n",
       "\tITGA2 & -0.056  & 0.95 (0.84-1.1)  & 0.9  & 0.34 \\\\\n",
       "\tITGA3 & -0.13   & 0.88 (0.76-1)    & 3.1  & 0.08 \\\\\n",
       "\tITGA4 & -0.021  & 0.98 (0.86-1.1)  & 0.11 & 0.74 \\\\\n",
       "\tITGA5 & 0.12    & 1.1 (0.91-1.4)   & 1.2  & 0.27 \\\\\n",
       "\tITGA6 & -0.063  & 0.94 (0.82-1.1)  & 0.83 & 0.36 \\\\\n",
       "\tITGA7 & -0.033  & 0.97 (0.87-1.1)  & 0.36 & 0.55 \\\\\n",
       "\tITGAX & -0.13   & 0.88 (0.76-1)    & 3.5  & 0.063\\\\\n",
       "\tITGAV & 0.16    & 1.2 (0.96-1.4)   & 2.5  & 0.12 \\\\\n",
       "\tITGAL & -0.11   & 0.89 (0.8-1)     & 4    & 0.046\\\\\n",
       "\tITGAM & -0.09   & 0.91 (0.8-1)     & 1.8  & 0.19 \\\\\n",
       "\tITGA2B & -0.052  & 0.95 (0.85-1.1)  & 0.9  & 0.34 \\\\\n",
       "\tITGAD & -0.0082 & 0.99 (0.9-1.1)   & 0.03 & 0.87 \\\\\n",
       "\tITGAE & -0.0046 & 1 (0.77-1.3)     & 0    & 0.97 \\\\\n",
       "\tITGBL1 & -0.0033 & 1 (0.9-1.1)      & 0    & 0.95 \\\\\n",
       "\tITGB1 & 0.22    & 1.2 (0.95-1.6)   & 2.6  & 0.11 \\\\\n",
       "\tITGB3 & 0.11    & 1.1 (0.99-1.3)   & 3.3  & 0.071\\\\\n",
       "\tITGB5 & -0.011  & 0.99 (0.83-1.2)  & 0.02 & 0.9  \\\\\n",
       "\tITGB4 & -0.093  & 0.91 (0.82-1)    & 2.8  & 0.096\\\\\n",
       "\tITGB7 & -0.12   & 0.89 (0.79-0.99) & 4.7  & 0.03 \\\\\n",
       "\tITGB6 & 0.0069  & 1 (0.93-1.1)     & 0.03 & 0.87 \\\\\n",
       "\tITGB8 & -0.066  & 0.94 (0.86-1)    & 2.1  & 0.15 \\\\\n",
       "\tITGA10 & -0.13   & 0.88 (0.79-0.98) & 5.6  & 0.018\\\\\n",
       "\tITGA11 & 0.078   & 1.1 (0.97-1.2)   & 2.2  & 0.14 \\\\\n",
       "\tITGB2 & -0.088  & 0.92 (0.8-1)     & 1.8  & 0.18 \\\\\n",
       "\\end{tabular}\n"
      ],
      "text/markdown": [
       "\n",
       "A data.frame: 27 × 4\n",
       "\n",
       "| <!--/--> | beta &lt;fct&gt; | HR (95% CI for HR) &lt;fct&gt; | wald.test &lt;fct&gt; | p.value &lt;fct&gt; |\n",
       "|---|---|---|---|---|\n",
       "| ITGA8 | 0.039   | 1 (0.95-1.1)     | 0.71 | 0.4   |\n",
       "| ITGA9 | -0.036  | 0.97 (0.86-1.1)  | 0.39 | 0.53  |\n",
       "| ITGA1 | 0.12    | 1.1 (0.96-1.3)   | 2.1  | 0.15  |\n",
       "| ITGA2 | -0.056  | 0.95 (0.84-1.1)  | 0.9  | 0.34  |\n",
       "| ITGA3 | -0.13   | 0.88 (0.76-1)    | 3.1  | 0.08  |\n",
       "| ITGA4 | -0.021  | 0.98 (0.86-1.1)  | 0.11 | 0.74  |\n",
       "| ITGA5 | 0.12    | 1.1 (0.91-1.4)   | 1.2  | 0.27  |\n",
       "| ITGA6 | -0.063  | 0.94 (0.82-1.1)  | 0.83 | 0.36  |\n",
       "| ITGA7 | -0.033  | 0.97 (0.87-1.1)  | 0.36 | 0.55  |\n",
       "| ITGAX | -0.13   | 0.88 (0.76-1)    | 3.5  | 0.063 |\n",
       "| ITGAV | 0.16    | 1.2 (0.96-1.4)   | 2.5  | 0.12  |\n",
       "| ITGAL | -0.11   | 0.89 (0.8-1)     | 4    | 0.046 |\n",
       "| ITGAM | -0.09   | 0.91 (0.8-1)     | 1.8  | 0.19  |\n",
       "| ITGA2B | -0.052  | 0.95 (0.85-1.1)  | 0.9  | 0.34  |\n",
       "| ITGAD | -0.0082 | 0.99 (0.9-1.1)   | 0.03 | 0.87  |\n",
       "| ITGAE | -0.0046 | 1 (0.77-1.3)     | 0    | 0.97  |\n",
       "| ITGBL1 | -0.0033 | 1 (0.9-1.1)      | 0    | 0.95  |\n",
       "| ITGB1 | 0.22    | 1.2 (0.95-1.6)   | 2.6  | 0.11  |\n",
       "| ITGB3 | 0.11    | 1.1 (0.99-1.3)   | 3.3  | 0.071 |\n",
       "| ITGB5 | -0.011  | 0.99 (0.83-1.2)  | 0.02 | 0.9   |\n",
       "| ITGB4 | -0.093  | 0.91 (0.82-1)    | 2.8  | 0.096 |\n",
       "| ITGB7 | -0.12   | 0.89 (0.79-0.99) | 4.7  | 0.03  |\n",
       "| ITGB6 | 0.0069  | 1 (0.93-1.1)     | 0.03 | 0.87  |\n",
       "| ITGB8 | -0.066  | 0.94 (0.86-1)    | 2.1  | 0.15  |\n",
       "| ITGA10 | -0.13   | 0.88 (0.79-0.98) | 5.6  | 0.018 |\n",
       "| ITGA11 | 0.078   | 1.1 (0.97-1.2)   | 2.2  | 0.14  |\n",
       "| ITGB2 | -0.088  | 0.92 (0.8-1)     | 1.8  | 0.18  |\n",
       "\n"
      ],
      "text/plain": [
       "       beta    HR (95% CI for HR) wald.test p.value\n",
       "ITGA8  0.039   1 (0.95-1.1)       0.71      0.4    \n",
       "ITGA9  -0.036  0.97 (0.86-1.1)    0.39      0.53   \n",
       "ITGA1  0.12    1.1 (0.96-1.3)     2.1       0.15   \n",
       "ITGA2  -0.056  0.95 (0.84-1.1)    0.9       0.34   \n",
       "ITGA3  -0.13   0.88 (0.76-1)      3.1       0.08   \n",
       "ITGA4  -0.021  0.98 (0.86-1.1)    0.11      0.74   \n",
       "ITGA5  0.12    1.1 (0.91-1.4)     1.2       0.27   \n",
       "ITGA6  -0.063  0.94 (0.82-1.1)    0.83      0.36   \n",
       "ITGA7  -0.033  0.97 (0.87-1.1)    0.36      0.55   \n",
       "ITGAX  -0.13   0.88 (0.76-1)      3.5       0.063  \n",
       "ITGAV  0.16    1.2 (0.96-1.4)     2.5       0.12   \n",
       "ITGAL  -0.11   0.89 (0.8-1)       4         0.046  \n",
       "ITGAM  -0.09   0.91 (0.8-1)       1.8       0.19   \n",
       "ITGA2B -0.052  0.95 (0.85-1.1)    0.9       0.34   \n",
       "ITGAD  -0.0082 0.99 (0.9-1.1)     0.03      0.87   \n",
       "ITGAE  -0.0046 1 (0.77-1.3)       0         0.97   \n",
       "ITGBL1 -0.0033 1 (0.9-1.1)        0         0.95   \n",
       "ITGB1  0.22    1.2 (0.95-1.6)     2.6       0.11   \n",
       "ITGB3  0.11    1.1 (0.99-1.3)     3.3       0.071  \n",
       "ITGB5  -0.011  0.99 (0.83-1.2)    0.02      0.9    \n",
       "ITGB4  -0.093  0.91 (0.82-1)      2.8       0.096  \n",
       "ITGB7  -0.12   0.89 (0.79-0.99)   4.7       0.03   \n",
       "ITGB6  0.0069  1 (0.93-1.1)       0.03      0.87   \n",
       "ITGB8  -0.066  0.94 (0.86-1)      2.1       0.15   \n",
       "ITGA10 -0.13   0.88 (0.79-0.98)   5.6       0.018  \n",
       "ITGA11 0.078   1.1 (0.97-1.2)     2.2       0.14   \n",
       "ITGB2  -0.088  0.92 (0.8-1)       1.8       0.18   "
      ]
     },
     "metadata": {},
     "output_type": "display_data"
    }
   ],
   "source": [
    "univ_results.OS <- lapply(univ_models.OS, \n",
    "                       function(x){  \n",
    "                          x <- summary(x) \n",
    "                          p.value<-signif(x$wald[\"pvalue\"], digits=2) \n",
    "                          wald.test<-signif(x$wald[\"test\"], digits=2) \n",
    "                          beta<-signif(x$coef[1], digits=2);#coeficient beta \n",
    "                          HR <-signif(x$coef[2], digits=2);#exp(beta) \n",
    "                          HR.confint.lower <- signif(x$conf.int[,\"lower .95\"], 2) \n",
    "                          HR.confint.upper <- signif(x$conf.int[,\"upper .95\"],2) \n",
    "                          HR <- paste0(HR, \" (\",  \n",
    "                                       HR.confint.lower, \"-\", HR.confint.upper, \")\") \n",
    "                          res<-c(beta, HR, wald.test, p.value) \n",
    "                          names(res)<-c(\"beta\", \"HR (95% CI for HR)\", \"wald.test\",  \n",
    "                                        \"p.value\") \n",
    "                          return(res) \n",
    "                          #return(exp(cbind(coef(x),confint(x)))) \n",
    "                         }) \n",
    "res.OS <- t(as.data.frame(univ_results.OS, check.names = FALSE)) \n",
    "as.data.frame(res.OS)"
   ]
  },
  {
   "cell_type": "code",
   "execution_count": 21,
   "metadata": {},
   "outputs": [
    {
     "name": "stdout",
     "output_type": "stream",
     "text": [
      "\n",
      "Call:\n",
      "coxphMIC(formula = Surv(DSS.time, DSS) ~ ., data = dat, CI.gamma = FALSE)\n",
      "\n",
      "Table of Estimated Coefficients via MIC:\n",
      "\n",
      "         beta0   gamma se.gamma  z.stat p.value beta.MIC se.beta.MIC\n",
      "ITGA8  -0.0450  0.0000   0.1823 -0.0002  0.9999   0.0000          NA\n",
      "ITGA9  -0.3074 -0.3333   0.1659 -2.0093  0.0445  -0.3333      0.1227\n",
      "ITGA1   0.0779  0.0000   0.2227  0.0000  1.0000   0.0000          NA\n",
      "ITGA2  -0.2419 -0.2623   0.1515 -1.7310  0.0834  -0.2623      0.1293\n",
      "ITGA3  -0.3080 -0.3071   0.1357 -2.2635  0.0236  -0.3071      0.1194\n",
      "ITGA4   0.0273  0.0000   0.1914 -0.0001  0.9999   0.0000          NA\n",
      "ITGA5   0.2805  0.4322   0.1734  2.4925  0.0127   0.4322      0.1335\n",
      "ITGA6  -0.1656  0.0000   0.1422 -0.0001  1.0000   0.0000          NA\n",
      "ITGA7   0.0238  0.0000   0.1406 -0.0001  0.9999   0.0000          NA\n",
      "ITGAX  -0.5086 -0.5756   0.2284 -2.5201  0.0117  -0.5756      0.2012\n",
      "ITGAV   0.1262  0.0000   0.2117  0.0000  1.0000   0.0000          NA\n",
      "ITGAL  -0.2093 -0.2196   0.1678 -1.3088  0.1906  -0.2195      0.1351\n",
      "ITGAM  -0.3184  0.0000   0.2040  0.0000  1.0000   0.0000          NA\n",
      "ITGA2B -0.0067  0.0000   0.1292  0.0002  0.9998   0.0000          NA\n",
      "ITGAD   0.2539  0.3199   0.1558  2.0531  0.0401   0.3199      0.1394\n",
      "ITGAE   0.1037  0.0000   0.1376  0.0000  1.0000   0.0000          NA\n",
      "ITGBL1 -0.0233  0.0000   0.1807  0.0002  0.9999   0.0000          NA\n",
      "ITGB1   0.0280  0.0000   0.1793  0.0002  0.9998   0.0000          NA\n",
      "ITGB3   0.3777  0.3668   0.1678  2.1859  0.0288   0.3668      0.1442\n",
      "ITGB5  -0.1026  0.0000   0.1572  0.0000  1.0000   0.0000          NA\n",
      "ITGB4   0.0432  0.0000   0.1439 -0.0001  0.9999   0.0000          NA\n",
      "ITGB7  -0.0214  0.0000   0.1762 -0.0001  0.9999   0.0000          NA\n",
      "ITGB6   0.1543  0.0000   0.1267  0.0001  0.9999   0.0000          NA\n",
      "ITGB8  -0.0530  0.0000   0.1576 -0.0001  0.9999   0.0000          NA\n",
      "ITGA10 -0.0947  0.0000   0.1341 -0.0001  0.9999   0.0000          NA\n",
      "ITGA11  0.1656  0.0000   0.2184  0.0001  0.9999   0.0000          NA\n",
      "ITGB2   0.3696  0.2106   0.2596  0.8113  0.4172   0.2104      0.2055\n",
      "\n"
     ]
    },
    {
     "data": {
      "text/html": [
       "<style>\n",
       ".list-inline {list-style: none; margin:0; padding: 0}\n",
       ".list-inline>li {display: inline-block}\n",
       ".list-inline>li:not(:last-child)::after {content: \"\\00b7\"; padding: 0 .5ex}\n",
       "</style>\n",
       "<ol class=list-inline><li>989.791751115673</li><li>990.092107987508</li></ol>\n"
      ],
      "text/latex": [
       "\\begin{enumerate*}\n",
       "\\item 989.791751115673\n",
       "\\item 990.092107987508\n",
       "\\end{enumerate*}\n"
      ],
      "text/markdown": [
       "1. 989.791751115673\n",
       "2. 990.092107987508\n",
       "\n",
       "\n"
      ],
      "text/plain": [
       "[1] 989.7918 990.0921"
      ]
     },
     "metadata": {},
     "output_type": "display_data"
    }
   ],
   "source": [
    "dat=cbind(integrin.ge,DSS.time=integrin$DSS.time,DSS=integrin$DSS)\n",
    "dat = stats::na.omit(dat); \n",
    "fit.mic <- coxphMIC(formula = Surv(DSS.time, DSS)~., data=dat, CI.gamma = FALSE) \n",
    "print(fit.mic) \n",
    " \n",
    "fit0.mic <- coxphMIC(formula = Surv(DSS.time, DSS)~., data = dat, \n",
    "method = \"BIC\", scale.x = TRUE, method.beta0 = \"zero\") \n",
    " c(fit.mic$min.Q, fit0.mic$min.Q)"
   ]
  },
  {
   "cell_type": "code",
   "execution_count": 22,
   "metadata": {},
   "outputs": [
    {
     "name": "stdout",
     "output_type": "stream",
     "text": [
      "\n",
      "Call:\n",
      "coxphMIC(formula = Surv(OS.time, OS) ~ ., data = dat.OS, CI.gamma = FALSE)\n",
      "\n",
      "Table of Estimated Coefficients via MIC:\n",
      "\n",
      "         beta0   gamma se.gamma  z.stat p.value beta.MIC se.beta.MIC\n",
      "ITGA8  -0.0113  0.0000   0.1377  0.0000  1.0000   0.0000          NA\n",
      "ITGA9  -0.1026  0.0000   0.1133  0.0000  1.0000   0.0000          NA\n",
      "ITGA1  -0.0484  0.0000   0.1748  0.0000  1.0000   0.0000          NA\n",
      "ITGA2  -0.1566  0.0000   0.1095  0.0000  1.0000   0.0000          NA\n",
      "ITGA3  -0.2356 -0.1924   0.1012 -1.9002  0.0574  -0.1924      0.0830\n",
      "ITGA4  -0.0411  0.0000   0.1488  0.0000  1.0000   0.0000          NA\n",
      "ITGA5   0.0556  0.0000   0.1397  0.0000  1.0000   0.0000          NA\n",
      "ITGA6  -0.1379  0.0000   0.1071  0.0000  1.0000   0.0000          NA\n",
      "ITGA7   0.0835  0.0000   0.1074  0.0000  1.0000   0.0000          NA\n",
      "ITGAX  -0.3025 -0.2055   0.1691 -1.2152  0.2243  -0.2055      0.0756\n",
      "ITGAV   0.1361  0.0000   0.1479  0.0001  0.9999   0.0000          NA\n",
      "ITGAL  -0.0482  0.0000   0.1280 -0.0001  0.9999   0.0000          NA\n",
      "ITGAM  -0.0970  0.0000   0.1385  0.0000  1.0000   0.0000          NA\n",
      "ITGA2B -0.0371  0.0000   0.0922  0.0000  1.0000   0.0000          NA\n",
      "ITGAD   0.2176  0.0000   0.1180  0.0001  0.9999   0.0000          NA\n",
      "ITGAE   0.0304  0.0000   0.1087  0.0000  1.0000   0.0000          NA\n",
      "ITGBL1 -0.1187  0.0000   0.1432  0.0001  0.9999   0.0000          NA\n",
      "ITGB1   0.0261  0.0000   0.1253  0.0000  1.0000   0.0000          NA\n",
      "ITGB3   0.3258  0.2921   0.1215  2.4044  0.0162   0.2921      0.0858\n",
      "ITGB5  -0.0274  0.0000   0.1156  0.0000  1.0000   0.0000          NA\n",
      "ITGB4  -0.0196  0.0000   0.1024 -0.0001  1.0000   0.0000          NA\n",
      "ITGB7  -0.0936  0.0000   0.1319  0.0000  1.0000   0.0000          NA\n",
      "ITGB6   0.0742  0.0000   0.1017  0.0000  1.0000   0.0000          NA\n",
      "ITGB8  -0.0091  0.0000   0.1194 -0.0001  1.0000   0.0000          NA\n",
      "ITGA10 -0.1901 -0.2518   0.1089 -2.3128  0.0207  -0.2518      0.0833\n",
      "ITGA11  0.2032  0.0000   0.1630  0.0001  1.0000   0.0000          NA\n",
      "ITGB2   0.0787  0.0000   0.1992 -0.0001  1.0000   0.0000          NA\n",
      "\n"
     ]
    }
   ],
   "source": [
    "dat.OS=cbind(integrin.ge,OS.time=integrin$OS.time,OS=integrin$OS) \n",
    " dat.OS <- stats::na.omit(dat.OS); \n",
    "fit.mic.OS <- coxphMIC(formula = Surv(OS.time, OS)~., data=dat.OS, CI.gamma = FALSE) \n",
    "print(fit.mic.OS)"
   ]
  },
  {
   "cell_type": "code",
   "execution_count": 23,
   "metadata": {},
   "outputs": [],
   "source": [
    "dat=cbind(integrin.ge,DSS.time=integrin$DSS.time,DSS=integrin$DSS) \n",
    "dat.OS=cbind(integrin.ge,OS.time=integrin$OS.time,OS=integrin$OS) \n",
    " \n",
    "pbc_rf <- rfsrc( Surv(DSS.time, DSS) ~ ., data = dat, nsplit = 10, na.action = \"na.impute\",importance=TRUE) \n",
    "pbc_rf_IMP=vimp(pbc_rf)$importance\n",
    "pbc_rf_OS <- rfsrc( Surv(OS.time, OS) ~ ., data = dat.OS, nsplit = 10, na.action = \"na.impute\",importance=TRUE) \n",
    "pbc_rf_IMP_OS=vimp(pbc_rf_OS)$importance \n",
    " \n",
    "IMP=cbind(pbc_rf_IMP,pbc_rf_IMP_OS)"
   ]
  },
  {
   "cell_type": "code",
   "execution_count": 24,
   "metadata": {
    "scrolled": false
   },
   "outputs": [
    {
     "data": {
      "text/plain": [
       "K-means clustering with 2 clusters of sizes 673, 431\n",
       "\n",
       "Cluster means:\n",
       "     ITGB1    ITGA5    ITGAL\n",
       "1 13.50558 11.12001 9.588094\n",
       "2 13.49532 10.87510 7.464662\n",
       "\n",
       "Clustering vector:\n",
       "   1    2    3    4    5    6    7    8    9   10   11   12   13   14   15   16 \n",
       "   1    2    1    1    1    1    1    2    1    1    1    2    2    1    1    1 \n",
       "  17   18   20   21   22   23   24   25   26   27   28   29   30   31   32   33 \n",
       "   1    2    2    2    1    1    1    1    2    1    1    2    1    1    1    1 \n",
       "  34   35   36   37   38   41   43   44   45   46   47   48   49   50   51   52 \n",
       "   2    2    1    2    1    1    1    1    2    1    1    1    1    1    1    2 \n",
       "  53   54   55   56   57   59   63   64   65   66   68   69   70   73   74   75 \n",
       "   1    1    2    1    2    2    1    1    1    2    2    2    2    1    1    2 \n",
       "  76   77   79   80   81   82   83   84   85   86   87   88   89   90   91   92 \n",
       "   2    2    1    1    1    1    1    1    2    2    1    1    2    1    1    2 \n",
       "  94   95   96   97   98   99  100  101  102  103  104  105  106  107  108  109 \n",
       "   1    2    1    1    1    2    2    2    1    2    1    1    1    2    1    1 \n",
       " 110  111  112  113  114  115  116  117  118  119  120  121  122  123  124  125 \n",
       "   2    2    1    1    2    1    1    2    2    2    2    1    1    2    1    1 \n",
       " 126  127  128  129  130  131  132  134  135  136  137  138  139  140  141  143 \n",
       "   1    1    2    1    2    2    1    1    1    1    2    2    2    1    2    1 \n",
       " 145  146  147  148  149  150  151  152  153  154  155  156  157  159  160  162 \n",
       "   1    2    1    2    1    1    1    1    2    1    1    1    1    1    2    1 \n",
       " 163  164  165  168  170  171  172  173  174  175  176  178  179  180  182  183 \n",
       "   1    2    2    1    1    2    1    2    1    1    2    1    1    2    1    1 \n",
       " 184  185  186  189  190  191  192  193  194  195  196  197  198  199  200  201 \n",
       "   2    2    1    1    1    1    1    1    2    2    2    1    2    1    2    1 \n",
       " 202  203  204  205  206  208  210  211  213  214  215  216  217  218  219  220 \n",
       "   1    2    2    1    2    1    1    2    1    1    2    2    2    2    1    2 \n",
       " 221  222  223  224  225  226  227  228  229  230  231  232  233  235  236  237 \n",
       "   2    2    2    1    1    1    1    1    1    2    2    1    1    1    1    1 \n",
       " 238  239  240  241  242  243  244  245  246  247  248  249  252  253  254  255 \n",
       "   2    1    2    1    2    2    2    2    1    1    1    2    1    1    1    2 \n",
       " 256  258  259  260  261  262  263  264  265  266  267  268  269  270  271  272 \n",
       "   2    1    2    1    2    1    2    1    2    2    1    1    1    1    1    1 \n",
       " 273  275  276  277  278  279  280  281  282  283  284  285  286  287  288  289 \n",
       "   2    1    1    1    1    1    1    1    1    1    1    2    1    1    2    1 \n",
       " 290  291  292  293  294  295  296  297  298  299  300  301  304  305  306  307 \n",
       "   2    2    1    2    2    2    2    1    1    1    1    2    2    1    1    2 \n",
       " 308  309  310  311  312  314  315  316  317  318  319  320  321  322  323  324 \n",
       "   1    1    2    1    1    2    1    1    1    2    1    2    2    2    1    1 \n",
       " 325  326  327  329  330  331  332  333  335  336  337  338  339  340  341  342 \n",
       "   1    1    2    1    1    2    2    1    1    1    1    2    1    2    1    1 \n",
       " 344  345  346  347  348  349  350  351  352  353  354  355  356  357  359  360 \n",
       "   1    2    1    1    1    1    1    1    2    1    2    1    2    2    1    1 \n",
       " 361  362  363  364  365  366  367  368  369  370  371  372  373  374  375  378 \n",
       "   1    2    2    1    2    1    2    1    1    2    1    1    1    2    2    1 \n",
       " 379  380  381  382  383  384  385  387  388  389  390  391  392  393  394  395 \n",
       "   1    1    1    2    2    2    1    2    1    2    1    1    2    1    1    2 \n",
       " 397  398  399  400  402  403  404  406  407  408  409  410  411  413  414  415 \n",
       "   2    1    2    1    2    2    1    1    2    1    2    1    2    1    1    2 \n",
       " 416  417  418  419  420  421  422  423  424  425  426  427  428  429  430  431 \n",
       "   1    1    1    1    1    2    2    2    1    1    1    1    2    1    1    2 \n",
       " 432  434  435  437  438  439  440  441  442  443  444  446  447  448  449  450 \n",
       "   1    2    1    1    1    1    1    1    1    1    1    1    1    2    1    1 \n",
       " 451  452  453  454  455  456  457  458  459  460  461  462  463  464  465  466 \n",
       "   1    1    2    1    1    1    1    1    2    1    1    2    2    1    2    1 \n",
       " 467  468  469  470  471  472  473  474  475  476  477  478  479  480  481  482 \n",
       "   2    2    1    1    2    1    1    2    1    1    2    1    1    2    2    1 \n",
       " 483  484  485  486  487  488  489  490  491  492  493  494  495  496  497  498 \n",
       "   1    1    1    1    1    1    1    2    1    2    2    2    1    2    1    1 \n",
       " 499  500  501  502  503  504  505  506  507  508  509  510  511  512  513  514 \n",
       "   1    1    1    2    1    1    1    2    2    1    1    1    2    1    1    2 \n",
       " 515  516  517  518  519  520  521  523  524  525  527  528  529  530  533  534 \n",
       "   2    1    2    1    2    2    1    1    1    1    1    2    1    1    1    2 \n",
       " 535  536  537  538  539  540  541  542  543  544  547  548  549  550  551  552 \n",
       "   1    1    1    1    2    1    2    2    1    2    1    2    2    2    1    2 \n",
       " 553  554  555  556  557  558  559  560  561  563  564  565  566  567  568  569 \n",
       "   1    2    2    2    1    1    1    1    2    1    2    1    1    1    1    1 \n",
       " 570  571  572  573  574  575  577  578  579  580  581  582  583  585  586  587 \n",
       "   1    2    1    1    2    2    2    2    2    1    2    1    2    2    1    1 \n",
       " 588  589  590  591  592  593  594  595  596  597  598  599  600  602  603  604 \n",
       "   2    1    2    1    1    1    1    2    1    2    1    2    2    1    2    2 \n",
       " 605  606  607  608  609  610  611  612  613  614  615  616  617  618  619  621 \n",
       "   2    1    1    1    2    1    1    2    1    1    1    2    2    1    1    1 \n",
       " 622  623  624  625  627  628  629  630  632  633  634  635  636  637  638  639 \n",
       "   1    2    1    2    2    1    2    1    2    1    1    1    1    1    2    2 \n",
       " 642  643  644  645  646  647  648  649  650  651  652  653  654  655  657  658 \n",
       "   1    1    2    1    1    1    1    2    1    2    2    2    1    1    1    1 \n",
       " 660  661  662  663  664  665  666  667  668  669  670  671  672  673  674  675 \n",
       "   2    1    1    1    1    1    2    1    2    2    1    2    2    2    2    1 \n",
       " 676  677  678  679  680  681  682  683  684  685  686  687  688  689  690  691 \n",
       "   2    2    1    2    1    2    2    2    2    1    2    2    2    1    1    1 \n",
       " 692  694  695  696  697  698  699  700  701  702  703  704  706  707  708  709 \n",
       "   1    2    1    1    1    2    1    1    1    1    2    2    1    2    1    1 \n",
       " 710  711  712  713  714  715  716  717  718  719  720  721  722  723  724  725 \n",
       "   2    1    2    2    1    2    1    1    1    1    1    1    2    1    1    2 \n",
       " 726  728  729  730  731  732  733  734  735  737  738  739  741  742  743  744 \n",
       "   2    2    1    1    1    1    1    1    1    2    2    1    1    2    2    2 \n",
       " 745  746  747  748  749  750  751  752  754  755  756  757  758  759  760  761 \n",
       "   1    1    1    2    2    1    1    1    1    1    1    1    2    2    1    1 \n",
       " 762  763  764  765  766  767  768  769  771  772  773  774  775  776  779  780 \n",
       "   2    2    1    1    1    2    2    1    2    2    1    1    1    1    1    2 \n",
       " 781  782  784  786  787  788  789  790  791  793  794  795  796  798  799  800 \n",
       "   1    1    1    1    1    2    2    1    2    2    2    1    2    2    1    2 \n",
       " 801  802  803  804  806  807  808  809  810  811  812  813  814  815  816  817 \n",
       "   1    1    1    2    1    2    2    2    2    1    2    1    1    2    1    1 \n",
       " 818  819  820  821  822  823  824  825  826  827  828  829  830  832  833  835 \n",
       "   1    2    2    2    2    1    1    2    2    2    2    2    1    1    2    1 \n",
       " 836  837  838  839  840  841  842  843  844  845  846  847  848  849  850  852 \n",
       "   1    1    2    1    2    1    1    2    1    2    2    2    2    1    1    1 \n",
       " 853  854  855  856  857  858  861  862  863  865  866  867  868  869  870  871 \n",
       "   1    1    1    1    1    1    1    2    2    1    2    1    1    1    2    2 \n",
       " 872  873  874  875  876  877  878  879  880  881  882  883  884  885  886  887 \n",
       "   1    1    1    1    1    2    1    2    1    1    2    1    1    1    1    1 \n",
       " 888  889  890  894  895  896  897  898  899  900  901  902  903  904  905  906 \n",
       "   1    1    1    1    1    1    1    2    2    2    1    1    1    1    1    1 \n",
       " 907  908  909  910  911  912  913  914  916  917  918  919  920  921  922  923 \n",
       "   2    2    1    2    2    1    2    1    1    1    1    1    2    1    1    2 \n",
       " 924  925  926  927  928  929  931  932  933  934  935  936  937  938  939  940 \n",
       "   1    1    2    1    1    2    2    2    1    2    1    2    2    2    2    1 \n",
       " 942  943  944  945  946  947  948  949  950  951  952  954  955  956  957  958 \n",
       "   1    2    1    2    1    1    2    1    2    1    2    1    2    2    2    2 \n",
       " 959  960  961  962  963  964  965  966  967  968  969  970  971  972  973  974 \n",
       "   1    2    1    2    2    1    1    1    1    1    2    2    2    1    1    1 \n",
       " 975  976  977  978  979  981  982  983  984  985  986  987  988  989  991  992 \n",
       "   1    2    1    2    1    1    1    1    2    1    1    1    1    1    2    2 \n",
       " 993  994  995  996  997  998  999 1000 1001 1002 1003 1004 1005 1006 1007 1008 \n",
       "   1    1    1    2    1    2    2    2    1    1    1    2    2    1    1    2 \n",
       "1009 1010 1011 1012 1013 1014 1015 1017 1018 1019 1021 1022 1023 1024 1025 1026 \n",
       "   2    1    1    1    1    2    1    1    1    2    1    2    1    1    2    1 \n",
       "1027 1028 1029 1030 1031 1032 1033 1034 1035 1036 1037 1038 1039 1040 1042 1043 \n",
       "   1    1    2    1    2    1    1    2    1    2    1    1    1    1    1    1 \n",
       "1044 1046 1047 1048 1049 1050 1051 1052 1053 1054 1055 1056 1057 1058 1059 1060 \n",
       "   2    1    1    2    2    2    2    1    2    2    1    1    2    1    1    1 \n",
       "1061 1062 1063 1064 1065 1066 1067 1068 1069 1070 1071 1072 1074 1075 1076 1077 \n",
       "   2    1    1    1    1    1    1    2    1    1    1    1    1    2    1    1 \n",
       "1078 1079 1080 1081 1082 1083 1084 1086 1087 1088 1089 1090 1091 1092 1093 1094 \n",
       "   1    1    2    1    1    1    1    2    2    2    2    1    1    2    2    1 \n",
       "1095 1096 1097 1098 1099 1100 1101 1102 1103 1104 1105 1106 1107 1108 1109 1110 \n",
       "   2    1    2    1    1    2    1    1    1    1    1    1    1    1    1    2 \n",
       "1112 1113 1114 1115 1116 1118 1119 1120 1121 1122 1123 1125 1126 1127 1128 1129 \n",
       "   2    2    1    1    2    2    1    2    1    2    1    1    1    1    1    1 \n",
       "1130 1131 1132 1133 1134 1135 1136 1137 1138 1140 1141 1142 1143 1144 1145 1146 \n",
       "   1    1    1    1    1    1    2    1    2    2    2    1    1    1    2    1 \n",
       "1147 1148 1149 1150 1151 1153 1154 1155 1156 1157 1158 1159 1160 1161 1162 1163 \n",
       "   1    1    2    1    2    1    2    1    2    1    1    1    2    1    2    2 \n",
       "1164 1165 1166 1167 1168 1169 1170 1171 1173 1174 1175 1176 1177 1178 1179 1180 \n",
       "   2    1    2    2    1    1    2    2    2    1    1    2    2    1    2    1 \n",
       "1181 1182 1183 1184 1185 1186 1187 1188 1189 1190 1191 1192 1194 1195 1196 1197 \n",
       "   2    2    2    1    1    2    1    1    1    1    1    2    2    2    1    1 \n",
       "1198 1199 1200 1202 1203 1204 1205 1207 1208 1210 1211 1213 1214 1215 1217 1218 \n",
       "   1    2    1    2    1    2    2    1    1    1    2    2    1    2    1    1 \n",
       "\n",
       "Within cluster sum of squares by cluster:\n",
       "[1] 991.2787 883.9204\n",
       " (between_SS / total_SS =  39.0 %)\n",
       "\n",
       "Available components:\n",
       "\n",
       "[1] \"cluster\"      \"centers\"      \"totss\"        \"withinss\"     \"tot.withinss\"\n",
       "[6] \"betweenss\"    \"size\"         \"iter\"         \"ifault\"      "
      ]
     },
     "metadata": {},
     "output_type": "display_data"
    },
    {
     "data": {
      "text/plain": [
       "K-means clustering with 3 clusters of sizes 444, 223, 437\n",
       "\n",
       "Cluster means:\n",
       "     ITGB1    ITGA5    ITGAL\n",
       "1 13.80611 11.48890 8.501688\n",
       "2 13.27009 10.39958 6.968302\n",
       "3 13.31029 10.87130 9.934497\n",
       "\n",
       "Clustering vector:\n",
       "   1    2    3    4    5    6    7    8    9   10   11   12   13   14   15   16 \n",
       "   1    1    1    3    1    1    1    1    3    1    3    2    1    3    3    3 \n",
       "  17   18   20   21   22   23   24   25   26   27   28   29   30   31   32   33 \n",
       "   1    1    2    1    1    3    1    3    2    3    1    2    1    3    3    3 \n",
       "  34   35   36   37   38   41   43   44   45   46   47   48   49   50   51   52 \n",
       "   2    1    3    1    3    1    1    1    2    3    3    3    1    1    1    1 \n",
       "  53   54   55   56   57   59   63   64   65   66   68   69   70   73   74   75 \n",
       "   3    3    1    1    1    1    3    1    3    1    2    2    2    3    1    2 \n",
       "  76   77   79   80   81   82   83   84   85   86   87   88   89   90   91   92 \n",
       "   2    2    3    3    1    3    3    1    2    2    3    3    1    3    3    1 \n",
       "  94   95   96   97   98   99  100  101  102  103  104  105  106  107  108  109 \n",
       "   1    2    3    3    3    1    2    1    3    2    1    1    3    1    3    1 \n",
       " 110  111  112  113  114  115  116  117  118  119  120  121  122  123  124  125 \n",
       "   1    1    3    3    1    3    1    2    1    1    2    3    3    2    3    1 \n",
       " 126  127  128  129  130  131  132  134  135  136  137  138  139  140  141  143 \n",
       "   3    1    2    3    2    1    3    3    1    3    2    2    2    3    2    1 \n",
       " 145  146  147  148  149  150  151  152  153  154  155  156  157  159  160  162 \n",
       "   3    1    3    1    1    1    3    3    1    3    1    1    1    1    2    3 \n",
       " 163  164  165  168  170  171  172  173  174  175  176  178  179  180  182  183 \n",
       "   3    2    1    1    3    2    3    1    3    3    2    3    1    2    1    1 \n",
       " 184  185  186  189  190  191  192  193  194  195  196  197  198  199  200  201 \n",
       "   1    1    3    1    3    1    3    1    2    1    2    3    1    3    1    3 \n",
       " 202  203  204  205  206  208  210  211  213  214  215  216  217  218  219  220 \n",
       "   3    1    2    1    1    3    3    1    3    3    2    2    2    2    1    2 \n",
       " 221  222  223  224  225  226  227  228  229  230  231  232  233  235  236  237 \n",
       "   2    2    1    1    3    3    1    1    3    2    2    3    3    1    3    1 \n",
       " 238  239  240  241  242  243  244  245  246  247  248  249  252  253  254  255 \n",
       "   1    3    1    3    1    2    2    2    3    3    3    2    3    1    3    2 \n",
       " 256  258  259  260  261  262  263  264  265  266  267  268  269  270  271  272 \n",
       "   2    3    1    3    2    1    1    3    1    2    1    3    3    3    3    3 \n",
       " 273  275  276  277  278  279  280  281  282  283  284  285  286  287  288  289 \n",
       "   1    3    3    1    3    3    1    1    3    3    3    1    3    3    2    3 \n",
       " 290  291  292  293  294  295  296  297  298  299  300  301  304  305  306  307 \n",
       "   2    1    1    2    2    1    2    3    3    3    3    2    1    1    3    1 \n",
       " 308  309  310  311  312  314  315  316  317  318  319  320  321  322  323  324 \n",
       "   3    3    2    3    3    2    1    3    3    2    1    1    1    1    3    3 \n",
       " 325  326  327  329  330  331  332  333  335  336  337  338  339  340  341  342 \n",
       "   3    1    1    1    3    1    2    1    1    1    3    2    3    1    1    3 \n",
       " 344  345  346  347  348  349  350  351  352  353  354  355  356  357  359  360 \n",
       "   1    1    3    3    3    1    3    1    1    1    2    1    1    1    1    3 \n",
       " 361  362  363  364  365  366  367  368  369  370  371  372  373  374  375  378 \n",
       "   1    1    1    1    1    3    2    3    1    2    3    3    3    2    1    3 \n",
       " 379  380  381  382  383  384  385  387  388  389  390  391  392  393  394  395 \n",
       "   1    1    3    1    1    2    3    1    3    1    3    3    2    3    3    2 \n",
       " 397  398  399  400  402  403  404  406  407  408  409  410  411  413  414  415 \n",
       "   2    3    2    3    2    2    3    3    1    3    1    3    1    1    1    2 \n",
       " 416  417  418  419  420  421  422  423  424  425  426  427  428  429  430  431 \n",
       "   3    3    3    1    3    2    1    1    3    3    3    3    1    1    3    1 \n",
       " 432  434  435  437  438  439  440  441  442  443  444  446  447  448  449  450 \n",
       "   1    2    3    3    3    1    3    3    1    1    1    3    3    2    3    3 \n",
       " 451  452  453  454  455  456  457  458  459  460  461  462  463  464  465  466 \n",
       "   3    1    1    3    3    1    3    1    2    3    3    2    2    3    2    3 \n",
       " 467  468  469  470  471  472  473  474  475  476  477  478  479  480  481  482 \n",
       "   1    1    1    1    1    3    1    2    1    3    1    3    1    1    2    1 \n",
       " 483  484  485  486  487  488  489  490  491  492  493  494  495  496  497  498 \n",
       "   3    1    3    3    1    3    3    1    3    2    2    1    3    2    3    1 \n",
       " 499  500  501  502  503  504  505  506  507  508  509  510  511  512  513  514 \n",
       "   1    1    1    1    1    3    3    2    2    1    3    3    2    3    3    2 \n",
       " 515  516  517  518  519  520  521  523  524  525  527  528  529  530  533  534 \n",
       "   2    3    1    1    1    2    3    3    3    1    3    2    1    3    3    2 \n",
       " 535  536  537  538  539  540  541  542  543  544  547  548  549  550  551  552 \n",
       "   3    3    1    1    2    3    1    2    3    1    3    1    2    1    3    2 \n",
       " 553  554  555  556  557  558  559  560  561  563  564  565  566  567  568  569 \n",
       "   3    2    2    1    3    3    1    3    2    3    1    1    3    3    1    3 \n",
       " 570  571  572  573  574  575  577  578  579  580  581  582  583  585  586  587 \n",
       "   3    1    1    3    1    2    2    2    3    3    2    1    1    1    3    3 \n",
       " 588  589  590  591  592  593  594  595  596  597  598  599  600  602  603  604 \n",
       "   1    1    2    3    1    3    3    2    3    2    3    2    2    3    1    1 \n",
       " 605  606  607  608  609  610  611  612  613  614  615  616  617  618  619  621 \n",
       "   1    3    3    3    2    1    1    2    1    3    3    2    1    3    1    3 \n",
       " 622  623  624  625  627  628  629  630  632  633  634  635  636  637  638  639 \n",
       "   3    1    3    2    2    3    2    3    1    1    1    3    3    1    2    1 \n",
       " 642  643  644  645  646  647  648  649  650  651  652  653  654  655  657  658 \n",
       "   1    3    2    1    3    3    3    2    3    1    1    1    1    1    3    1 \n",
       " 660  661  662  663  664  665  666  667  668  669  670  671  672  673  674  675 \n",
       "   2    1    3    3    3    3    2    1    2    2    3    1    1    2    1    1 \n",
       " 676  677  678  679  680  681  682  683  684  685  686  687  688  689  690  691 \n",
       "   2    2    1    1    1    1    1    2    2    3    1    1    2    3    3    3 \n",
       " 692  694  695  696  697  698  699  700  701  702  703  704  706  707  708  709 \n",
       "   3    2    3    3    3    2    1    3    3    3    2    2    3    2    1    3 \n",
       " 710  711  712  713  714  715  716  717  718  719  720  721  722  723  724  725 \n",
       "   1    3    1    1    1    2    3    3    3    3    3    1    2    3    3    2 \n",
       " 726  728  729  730  731  732  733  734  735  737  738  739  741  742  743  744 \n",
       "   2    2    1    3    1    3    1    3    1    1    2    1    3    2    2    2 \n",
       " 745  746  747  748  749  750  751  752  754  755  756  757  758  759  760  761 \n",
       "   3    3    1    1    1    3    3    3    3    3    3    3    3    2    3    3 \n",
       " 762  763  764  765  766  767  768  769  771  772  773  774  775  776  779  780 \n",
       "   1    1    3    3    1    1    2    3    2    2    1    3    3    3    1    1 \n",
       " 781  782  784  786  787  788  789  790  791  793  794  795  796  798  799  800 \n",
       "   3    3    3    1    3    1    1    3    2    1    2    3    1    2    3    1 \n",
       " 801  802  803  804  806  807  808  809  810  811  812  813  814  815  816  817 \n",
       "   3    3    1    1    1    1    2    2    2    1    2    3    3    2    3    3 \n",
       " 818  819  820  821  822  823  824  825  826  827  828  829  830  832  833  835 \n",
       "   1    2    1    2    2    3    3    2    2    2    1    2    1    1    1    3 \n",
       " 836  837  838  839  840  841  842  843  844  845  846  847  848  849  850  852 \n",
       "   3    3    1    3    1    1    3    1    1    2    1    1    2    3    1    1 \n",
       " 853  854  855  856  857  858  861  862  863  865  866  867  868  869  870  871 \n",
       "   1    3    3    3    1    1    3    2    2    3    2    1    1    3    1    2 \n",
       " 872  873  874  875  876  877  878  879  880  881  882  883  884  885  886  887 \n",
       "   3    3    3    3    1    1    1    2    1    3    2    3    1    1    3    3 \n",
       " 888  889  890  894  895  896  897  898  899  900  901  902  903  904  905  906 \n",
       "   1    3    3    1    1    3    1    1    2    1    3    3    3    3    1    1 \n",
       " 907  908  909  910  911  912  913  914  916  917  918  919  920  921  922  923 \n",
       "   1    1    3    2    1    3    1    3    1    1    3    3    3    3    1    1 \n",
       " 924  925  926  927  928  929  931  932  933  934  935  936  937  938  939  940 \n",
       "   3    1    1    1    1    1    1    2    1    1    3    1    2    2    2    1 \n",
       " 942  943  944  945  946  947  948  949  950  951  952  954  955  956  957  958 \n",
       "   3    1    1    2    1    3    1    3    1    3    2    3    1    2    1    1 \n",
       " 959  960  961  962  963  964  965  966  967  968  969  970  971  972  973  974 \n",
       "   1    1    3    1    1    3    3    3    3    3    1    2    2    1    1    3 \n",
       " 975  976  977  978  979  981  982  983  984  985  986  987  988  989  991  992 \n",
       "   1    1    3    2    1    3    3    1    1    1    1    3    1    3    1    2 \n",
       " 993  994  995  996  997  998  999 1000 1001 1002 1003 1004 1005 1006 1007 1008 \n",
       "   3    3    3    1    3    1    2    2    3    3    3    1    2    3    3    1 \n",
       "1009 1010 1011 1012 1013 1014 1015 1017 1018 1019 1021 1022 1023 1024 1025 1026 \n",
       "   2    3    1    3    1    1    3    3    3    1    1    1    3    1    2    1 \n",
       "1027 1028 1029 1030 1031 1032 1033 1034 1035 1036 1037 1038 1039 1040 1042 1043 \n",
       "   1    3    1    1    1    3    3    2    3    1    3    3    1    3    3    3 \n",
       "1044 1046 1047 1048 1049 1050 1051 1052 1053 1054 1055 1056 1057 1058 1059 1060 \n",
       "   2    3    3    2    2    1    2    3    2    2    1    3    2    1    3    3 \n",
       "1061 1062 1063 1064 1065 1066 1067 1068 1069 1070 1071 1072 1074 1075 1076 1077 \n",
       "   2    3    1    3    1    3    1    1    1    3    3    3    3    2    3    3 \n",
       "1078 1079 1080 1081 1082 1083 1084 1086 1087 1088 1089 1090 1091 1092 1093 1094 \n",
       "   3    1    2    1    1    3    3    1    2    1    2    3    3    1    1    1 \n",
       "1095 1096 1097 1098 1099 1100 1101 1102 1103 1104 1105 1106 1107 1108 1109 1110 \n",
       "   1    1    1    3    3    2    3    1    3    3    3    1    1    3    3    1 \n",
       "1112 1113 1114 1115 1116 1118 1119 1120 1121 1122 1123 1125 1126 1127 1128 1129 \n",
       "   2    2    3    3    2    2    3    1    3    2    3    1    3    1    1    3 \n",
       "1130 1131 1132 1133 1134 1135 1136 1137 1138 1140 1141 1142 1143 1144 1145 1146 \n",
       "   1    1    3    3    1    3    1    1    1    1    1    1    3    3    2    1 \n",
       "1147 1148 1149 1150 1151 1153 1154 1155 1156 1157 1158 1159 1160 1161 1162 1163 \n",
       "   1    1    2    3    2    1    1    3    2    1    1    3    2    3    2    2 \n",
       "1164 1165 1166 1167 1168 1169 1170 1171 1173 1174 1175 1176 1177 1178 1179 1180 \n",
       "   1    1    2    1    3    1    1    1    2    3    3    2    2    3    1    1 \n",
       "1181 1182 1183 1184 1185 1186 1187 1188 1189 1190 1191 1192 1194 1195 1196 1197 \n",
       "   1    2    1    3    3    2    3    1    3    1    1    1    1    1    3    3 \n",
       "1198 1199 1200 1202 1203 1204 1205 1207 1208 1210 1211 1213 1214 1215 1217 1218 \n",
       "   1    2    3    1    1    1    1    1    1    3    2    1    3    2    1    3 \n",
       "\n",
       "Within cluster sum of squares by cluster:\n",
       "[1] 489.7686 422.7869 552.5811\n",
       " (between_SS / total_SS =  52.4 %)\n",
       "\n",
       "Available components:\n",
       "\n",
       "[1] \"cluster\"      \"centers\"      \"totss\"        \"withinss\"     \"tot.withinss\"\n",
       "[6] \"betweenss\"    \"size\"         \"iter\"         \"ifault\"      "
      ]
     },
     "metadata": {},
     "output_type": "display_data"
    },
    {
     "data": {
      "image/png": "[encoded data removed]",
      "text/plain": [
       "Plot with title “ITGAL”"
      ]
     },
     "metadata": {
      "image/png": {
       "height": 420,
       "width": 420
      }
     },
     "output_type": "display_data"
    }
   ],
   "source": [
    "integrin.select=integrin[,c(\"ITGB1\", \"ITGA5\", \"ITGAL\")] \n",
    " \n",
    "set.seed(300) # Setting seed \n",
    "kmeans.re2 <- kmeans(integrin.select, centers = 2, nstart = 20) \n",
    "kmeans.re2 # 38.1% \n",
    "set.seed(300) \n",
    "kmeans.re3 <- kmeans(integrin.select, centers = 3, nstart = 20) \n",
    "kmeans.re3 # 51.4% \n",
    "GEdata=cbind(integrin.select,cluster=kmeans.re3$cluster) \n",
    "par(mfrow=c(1,3)) \n",
    "boxplot(GEdata$ITGB1 ~ GEdata$cluster, \n",
    "         col='blue', \n",
    "         xlab='cluster', \n",
    "         ylab='GE experssion', \n",
    "         main='ITGB1')  \n",
    " \n",
    "boxplot(GEdata$ITGA5 ~ GEdata$cluster,\n",
    "        col='red', \n",
    "        xlab='cluster', \n",
    "        ylab='GE experssion', \n",
    "        main='ITGA5')  \n",
    " \n",
    "boxplot(GEdata$ITGAL ~ GEdata$cluster, \n",
    "         col='green', \n",
    "         xlab='cluster', \n",
    "         ylab='GE experssion', \n",
    "         main='ITGAL')"
   ]
  },
  {
   "cell_type": "code",
   "execution_count": 25,
   "metadata": {
    "scrolled": false
   },
   "outputs": [
    {
     "name": "stderr",
     "output_type": "stream",
     "text": [
      "Loading required package: MASS\n",
      "\n",
      "Loading required package: rgl\n",
      "\n"
     ]
    },
    {
     "data": {
      "text/plain": [
       "K-means clustering with 4 clusters of sizes 319, 169, 320, 296\n",
       "\n",
       "Cluster means:\n",
       "     ITGB1    ITGA5     ITGAL\n",
       "1 13.95705 11.73070  8.544066\n",
       "2 13.42522 10.63998  6.577827\n",
       "3 13.43589 11.07824 10.209394\n",
       "4 13.12531 10.42449  8.668380\n",
       "\n",
       "Clustering vector:\n",
       "   1    2    3    4    5    6    7    8    9   10   11   12   13   14   15   16 \n",
       "   1    1    1    3    4    1    1    1    3    1    4    2    1    3    3    3 \n",
       "  17   18   20   21   22   23   24   25   26   27   28   29   30   31   32   33 \n",
       "   1    1    2    4    1    3    1    3    2    3    4    2    1    4    4    4 \n",
       "  34   35   36   37   38   41   43   44   45   46   47   48   49   50   51   52 \n",
       "   2    1    4    1    3    1    1    4    4    3    3    3    1    4    1    1 \n",
       "  53   54   55   56   57   59   63   64   65   66   68   69   70   73   74   75 \n",
       "   3    3    4    1    1    1    3    1    3    4    2    2    2    3    1    2 \n",
       "  76   77   79   80   81   82   83   84   85   86   87   88   89   90   91   92 \n",
       "   2    2    3    4    1    3    4    1    2    2    4    3    4    4    4    1 \n",
       "  94   95   96   97   98   99  100  101  102  103  104  105  106  107  108  109 \n",
       "   1    2    3    3    4    1    4    4    3    2    1    4    3    4    3    1 \n",
       " 110  111  112  113  114  115  116  117  118  119  120  121  122  123  124  125 \n",
       "   1    4    3    4    4    4    1    4    1    4    2    3    4    2    3    1 \n",
       " 126  127  128  129  130  131  132  134  135  136  137  138  139  140  141  143 \n",
       "   3    1    2    3    4    1    3    3    1    3    2    4    4    3    4    1 \n",
       " 145  146  147  148  149  150  151  152  153  154  155  156  157  159  160  162 \n",
       "   3    4    3    2    1    4    4    3    4    4    1    1    1    1    2    3 \n",
       " 163  164  165  168  170  171  172  173  174  175  176  178  179  180  182  183 \n",
       "   3    2    4    1    3    2    3    4    3    3    2    3    1    2    4    1 \n",
       " 184  185  186  189  190  191  192  193  194  195  196  197  198  199  200  201 \n",
       "   4    2    3    4    3    1    3    4    4    1    2    4    1    3    4    3 \n",
       " 202  203  204  205  206  208  210  211  213  214  215  216  217  218  219  220 \n",
       "   3    1    2    1    4    3    3    1    3    3    2    4    4    4    1    2 \n",
       " 221  222  223  224  225  226  227  228  229  230  231  232  233  235  236  237 \n",
       "   4    2    4    4    3    4    1    1    3    2    2    3    4    1    4    1 \n",
       " 238  239  240  241  242  243  244  245  246  247  248  249  252  253  254  255 \n",
       "   1    3    1    3    1    2    2    2    4    3    3    2    3    1    3    2 \n",
       " 256  258  259  260  261  262  263  264  265  266  267  268  269  270  271  272 \n",
       "   2    3    1    4    2    4    4    3    4    2    1    3    3    3    4    4 \n",
       " 273  275  276  277  278  279  280  281  282  283  284  285  286  287  288  289 \n",
       "   4    3    4    1    4    3    1    1    3    3    3    1    4    3    4    3 \n",
       " 290  291  292  293  294  295  296  297  298  299  300  301  304  305  306  307 \n",
       "   2    1    1    2    4    1    4    4    3    3    3    2    1    1    4    4 \n",
       " 308  309  310  311  312  314  315  316  317  318  319  320  321  322  323  324 \n",
       "   4    3    2    3    3    4    4    3    3    2    4    1    4    4    4    3 \n",
       " 325  326  327  329  330  331  332  333  335  336  337  338  339  340  341  342 \n",
       "   3    4    1    1    4    1    4    1    1    1    4    2    4    1    1    3 \n",
       " 344  345  346  347  348  349  350  351  352  353  354  355  356  357  359  360 \n",
       "   1    1    3    3    3    1    3    1    1    4    2    1    1    4    4    3 \n",
       " 361  362  363  364  365  366  367  368  369  370  371  372  373  374  375  378 \n",
       "   4    1    1    4    4    3    4    4    1    2    3    4    3    4    1    3 \n",
       " 379  380  381  382  383  384  385  387  388  389  390  391  392  393  394  395 \n",
       "   4    4    3    2    1    4    4    1    3    4    4    3    2    3    4    2 \n",
       " 397  398  399  400  402  403  404  406  407  408  409  410  411  413  414  415 \n",
       "   4    4    2    4    4    4    3    3    4    4    1    3    1    1    4    2 \n",
       " 416  417  418  419  420  421  422  423  424  425  426  427  428  429  430  431 \n",
       "   4    3    3    1    3    2    1    1    3    3    3    3    1    1    4    1 \n",
       " 432  434  435  437  438  439  440  441  442  443  444  446  447  448  449  450 \n",
       "   1    2    4    3    4    1    3    3    1    1    1    3    4    2    4    3 \n",
       " 451  452  453  454  455  456  457  458  459  460  461  462  463  464  465  466 \n",
       "   3    1    4    4    3    1    3    1    4    3    3    2    2    3    4    3 \n",
       " 467  468  469  470  471  472  473  474  475  476  477  478  479  480  481  482 \n",
       "   1    4    1    1    1    3    4    2    1    3    1    3    1    1    4    1 \n",
       " 483  484  485  486  487  488  489  490  491  492  493  494  495  496  497  498 \n",
       "   4    1    4    3    1    3    3    1    4    2    2    4    3    2    4    1 \n",
       " 499  500  501  502  503  504  505  506  507  508  509  510  511  512  513  514 \n",
       "   1    1    1    4    4    3    3    4    2    1    3    3    2    3    3    2 \n",
       " 515  516  517  518  519  520  521  523  524  525  527  528  529  530  533  534 \n",
       "   4    3    4    1    1    4    3    3    3    1    3    2    1    4    3    4 \n",
       " 535  536  537  538  539  540  541  542  543  544  547  548  549  550  551  552 \n",
       "   3    3    1    1    2    3    2    2    4    1    4    1    2    1    4    2 \n",
       " 553  554  555  556  557  558  559  560  561  563  564  565  566  567  568  569 \n",
       "   3    2    2    4    3    3    1    4    2    3    1    1    1    3    1    4 \n",
       " 570  571  572  573  574  575  577  578  579  580  581  582  583  585  586  587 \n",
       "   3    1    1    3    1    2    2    4    4    3    4    1    4    1    3    3 \n",
       " 588  589  590  591  592  593  594  595  596  597  598  599  600  602  603  604 \n",
       "   2    4    2    3    1    4    4    4    3    2    3    2    4    4    1    1 \n",
       " 605  606  607  608  609  610  611  612  613  614  615  616  617  618  619  621 \n",
       "   1    3    3    3    2    1    1    2    1    3    3    4    1    3    1    4 \n",
       " 622  623  624  625  627  628  629  630  632  633  634  635  636  637  638  639 \n",
       "   3    1    3    2    2    3    2    3    4    1    1    3    4    4    2    4 \n",
       " 642  643  644  645  646  647  648  649  650  651  652  653  654  655  657  658 \n",
       "   4    3    2    4    4    3    3    2    4    4    4    4    1    4    3    1 \n",
       " 660  661  662  663  664  665  666  667  668  669  670  671  672  673  674  675 \n",
       "   2    1    3    4    3    3    2    1    4    2    3    1    2    2    1    4 \n",
       " 676  677  678  679  680  681  682  683  684  685  686  687  688  689  690  691 \n",
       "   2    2    1    4    1    4    1    2    2    4    4    1    2    3    3    3 \n",
       " 692  694  695  696  697  698  699  700  701  702  703  704  706  707  708  709 \n",
       "   3    2    3    3    3    4    1    3    3    4    2    2    3    2    1    3 \n",
       " 710  711  712  713  714  715  716  717  718  719  720  721  722  723  724  725 \n",
       "   1    3    1    4    1    2    3    3    4    4    3    1    2    3    4    2 \n",
       " 726  728  729  730  731  732  733  734  735  737  738  739  741  742  743  744 \n",
       "   4    4    1    3    1    3    1    3    1    1    2    4    3    2    2    2 \n",
       " 745  746  747  748  749  750  751  752  754  755  756  757  758  759  760  761 \n",
       "   3    3    1    1    1    3    4    3    3    3    4    4    4    2    3    4 \n",
       " 762  763  764  765  766  767  768  769  771  772  773  774  775  776  779  780 \n",
       "   4    1    3    3    1    4    2    3    2    2    1    3    3    3    1    1 \n",
       " 781  782  784  786  787  788  789  790  791  793  794  795  796  798  799  800 \n",
       "   3    4    3    4    3    1    1    4    2    1    2    3    1    4    3    1 \n",
       " 801  802  803  804  806  807  808  809  810  811  812  813  814  815  816  817 \n",
       "   3    3    1    1    1    2    2    2    2    1    2    3    3    2    3    3 \n",
       " 818  819  820  821  822  823  824  825  826  827  828  829  830  832  833  835 \n",
       "   1    4    1    2    2    3    3    2    2    4    1    2    1    4    4    3 \n",
       " 836  837  838  839  840  841  842  843  844  845  846  847  848  849  850  852 \n",
       "   3    4    4    3    4    1    3    1    1    4    1    1    2    4    1    1 \n",
       " 853  854  855  856  857  858  861  862  863  865  866  867  868  869  870  871 \n",
       "   4    3    3    4    4    4    3    2    2    3    2    1    1    3    4    2 \n",
       " 872  873  874  875  876  877  878  879  880  881  882  883  884  885  886  887 \n",
       "   3    4    3    4    1    1    1    4    1    3    4    3    4    1    3    4 \n",
       " 888  889  890  894  895  896  897  898  899  900  901  902  903  904  905  906 \n",
       "   4    4    4    4    4    3    1    1    4    1    3    3    4    4    1    1 \n",
       " 907  908  909  910  911  912  913  914  916  917  918  919  920  921  922  923 \n",
       "   4    1    3    2    1    4    4    3    1    4    3    3    4    3    4    4 \n",
       " 924  925  926  927  928  929  931  932  933  934  935  936  937  938  939  940 \n",
       "   3    1    1    1    1    4    4    2    1    1    3    4    2    2    4    4 \n",
       " 942  943  944  945  946  947  948  949  950  951  952  954  955  956  957  958 \n",
       "   3    1    4    2    1    3    4    3    1    3    2    4    1    2    1    1 \n",
       " 959  960  961  962  963  964  965  966  967  968  969  970  971  972  973  974 \n",
       "   1    1    3    1    2    3    4    3    3    3    1    2    2    1    1    4 \n",
       " 975  976  977  978  979  981  982  983  984  985  986  987  988  989  991  992 \n",
       "   1    1    4    2    1    3    3    1    1    1    1    3    1    3    1    4 \n",
       " 993  994  995  996  997  998  999 1000 1001 1002 1003 1004 1005 1006 1007 1008 \n",
       "   3    3    4    1    3    1    4    2    3    3    3    4    2    4    3    1 \n",
       "1009 1010 1011 1012 1013 1014 1015 1017 1018 1019 1021 1022 1023 1024 1025 1026 \n",
       "   2    3    1    3    1    1    3    3    3    1    1    4    3    1    2    1 \n",
       "1027 1028 1029 1030 1031 1032 1033 1034 1035 1036 1037 1038 1039 1040 1042 1043 \n",
       "   4    3    1    1    4    3    4    2    4    1    3    3    1    3    3    4 \n",
       "1044 1046 1047 1048 1049 1050 1051 1052 1053 1054 1055 1056 1057 1058 1059 1060 \n",
       "   4    4    3    4    2    1    2    3    4    2    1    4    2    1    4    3 \n",
       "1061 1062 1063 1064 1065 1066 1067 1068 1069 1070 1071 1072 1074 1075 1076 1077 \n",
       "   2    3    1    4    4    3    1    1    1    3    4    3    3    2    3    4 \n",
       "1078 1079 1080 1081 1082 1083 1084 1086 1087 1088 1089 1090 1091 1092 1093 1094 \n",
       "   3    1    4    1    1    3    4    1    4    1    2    4    3    4    4    1 \n",
       "1095 1096 1097 1098 1099 1100 1101 1102 1103 1104 1105 1106 1107 1108 1109 1110 \n",
       "   1    1    4    4    3    2    3    1    4    3    3    1    1    3    3    1 \n",
       "1112 1113 1114 1115 1116 1118 1119 1120 1121 1122 1123 1125 1126 1127 1128 1129 \n",
       "   4    4    3    3    4    4    3    1    3    2    3    4    3    1    1    3 \n",
       "1130 1131 1132 1133 1134 1135 1136 1137 1138 1140 1141 1142 1143 1144 1145 1146 \n",
       "   1    4    3    3    1    3    1    4    4    1    1    1    3    3    2    1 \n",
       "1147 1148 1149 1150 1151 1153 1154 1155 1156 1157 1158 1159 1160 1161 1162 1163 \n",
       "   1    4    2    4    2    1    1    3    4    1    1    3    2    3    2    4 \n",
       "1164 1165 1166 1167 1168 1169 1170 1171 1173 1174 1175 1176 1177 1178 1179 1180 \n",
       "   4    1    2    4    3    1    4    1    2    3    3    4    2    3    1    1 \n",
       "1181 1182 1183 1184 1185 1186 1187 1188 1189 1190 1191 1192 1194 1195 1196 1197 \n",
       "   1    2    4    4    3    2    3    1    3    1    1    1    1    4    3    4 \n",
       "1198 1199 1200 1202 1203 1204 1205 1207 1208 1210 1211 1213 1214 1215 1217 1218 \n",
       "   1    4    3    1    1    1    1    1    1    3    2    4    4    2    1    4 \n",
       "\n",
       "Within cluster sum of squares by cluster:\n",
       "[1] 289.3233 321.3877 312.2892 256.2917\n",
       " (between_SS / total_SS =  61.7 %)\n",
       "\n",
       "Available components:\n",
       "\n",
       "[1] \"cluster\"      \"centers\"      \"totss\"        \"withinss\"     \"tot.withinss\"\n",
       "[6] \"betweenss\"    \"size\"         \"iter\"         \"ifault\"      "
      ]
     },
     "metadata": {},
     "output_type": "display_data"
    }
   ],
   "source": [
    "require(MASS)\n",
    "GEdata=cbind(integrin.select,cluster=kmeans.re3$cluster) \n",
    "require(rgl) \n",
    "options(jupyter.plot_mimetypes = 'image/png')\n",
    "#plot3d(df$X1, df$X2, df$X3, col=as.numeric(df$fac)) \n",
    "plot3d(GEdata$ITGB1,GEdata$ITGA5,GEdata$ITGAL,col=as.numeric(GEdata$cluster), col.axis = \"blue\",col.grid = \"lightblue\", main = \"\", pch = 20)\n",
    "set.seed(240)   \n",
    "kmeans.re4 <- kmeans(integrin.select, centers = 4, nstart = 20) \n",
    "kmeans.re4 # 60.7%"
   ]
  },
  {
   "cell_type": "code",
   "execution_count": 28,
   "metadata": {},
   "outputs": [
    {
     "data": {
      "text/plain": [
       "Call:\n",
       "survdiff(formula = km ~ cluster, data = survdata)\n",
       "\n",
       "n=1081, 23 observations deleted due to missingness.\n",
       "\n",
       "            N Observed Expected (O-E)^2/E (O-E)^2/V\n",
       "cluster=1 438       45     32.5     4.830     7.849\n",
       "cluster=2 219       21     17.5     0.694     0.881\n",
       "cluster=3 424       19     35.0     7.322    12.501\n",
       "\n",
       " Chisq= 12.9  on 2 degrees of freedom, p= 0.002 "
      ]
     },
     "metadata": {},
     "output_type": "display_data"
    },
    {
     "data": {
      "text/html": [
       "<strong>PNG:</strong> 2"
      ],
      "text/latex": [
       "\\textbf{PNG:} 2"
      ],
      "text/markdown": [
       "**PNG:** 2"
      ],
      "text/plain": [
       "PNG \n",
       "  2 "
      ]
     },
     "metadata": {},
     "output_type": "display_data"
    }
   ],
   "source": [
    "png(\"not_normal_data_ggsurvplot_clusters.png\", units=\"in\", width=4.5,height=4, res=400,type='cairo')\n",
    "\n",
    "\n",
    "survdata=cbind(dat,cluster=kmeans.re3$cluster) #First setup survival object\n",
    "km <- Surv(time = survdata[,\"DSS.time\"], event = survdata[,\"DSS\"]) \n",
    "km_treatment<-survfit(km~cluster,data=survdata,type='kaplan-meier',conf.type='log')\n",
    "survdiff(km ~ cluster,data=survdata)\n",
    "p <- ggsurvplot(km_treatment,conf.int = 'FALSE', censor.size=4,size = 1,ylim=c(0.4,1))#+guides(colour = guide_legend(nrow = 2))\n",
    "\n",
    "ggpar(p,\n",
    "      font.x = c(22),\n",
    "      font.y = c(22), \n",
    "      legend=c(0.26,0.2),\n",
    "      font.legend = c(17), \n",
    "      font.tickslab = c(17))\n",
    "dev.off()"
   ]
  },
  {
   "cell_type": "code",
   "execution_count": null,
   "metadata": {},
   "outputs": [],
   "source": []
  }
 ],
 "metadata": {
  "kernelspec": {
   "display_name": "R",
   "language": "R",
   "name": "ir"
  },
  "language_info": {
   "codemirror_mode": "r",
   "file_extension": ".r",
   "mimetype": "text/x-r-source",
   "name": "R",
   "pygments_lexer": "r",
   "version": "3.5.2"
  }
 },
 "nbformat": 4,
 "nbformat_minor": 2
}
