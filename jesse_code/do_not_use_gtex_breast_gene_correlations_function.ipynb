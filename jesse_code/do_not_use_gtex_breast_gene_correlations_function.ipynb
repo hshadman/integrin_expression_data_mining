{
 "cells": [
  {
   "cell_type": "code",
   "execution_count": 1,
   "metadata": {},
   "outputs": [
    {
     "name": "stderr",
     "output_type": "stream",
     "text": [
      "/public/apps/python/3.7.0/lib/python3.7/site-packages/statsmodels/tools/_testing.py:19: FutureWarning: pandas.util.testing is deprecated. Use the functions in the public API at pandas.testing instead.\n",
      "  import pandas.util.testing as tm\n"
     ]
    }
   ],
   "source": [
    "import matplotlib.pyplot as plt\n",
    "import numpy as np\n",
    "import matplotlib.pyplot as plt\n",
    "import numpy as np\n",
    "import pandas as pd\n",
    "import sys\n",
    "from os import system\n",
    "from IPython.display import clear_output\n",
    "from scipy.stats import pearsonr\n",
    "from scipy.stats import spearmanr\n",
    "import phik \n",
    "import seaborn as sns\n",
    "from phik import resources, report\n",
    "from phik.report import plot_correlation_matrix\n",
    "from itertools import combinations\n",
    "import random\n",
    "from tabulate import tabulate\n",
    "from IPython.display import display, HTML"
   ]
  },
  {
   "cell_type": "markdown",
   "metadata": {},
   "source": [
    "# dividing big function into smaller functions"
   ]
  },
  {
   "cell_type": "code",
   "execution_count": 2,
   "metadata": {},
   "outputs": [],
   "source": [
    "def gtex_data_processing(gtex_gct_dataset):\n",
    "    gtex_breast_data_all=pd.read_csv(gtex_gct_dataset,sep='\\t')\n",
    "    gtex_breast_data_all=gtex_breast_data_all.T.copy()\n",
    "    gtex_breast_data_all.columns=gtex_breast_data_all.iloc[2]\n",
    "    df_int=gtex_breast_data_all.loc[(gtex_breast_data_all.index!='id')&(gtex_breast_data_all.index!='Name')&(gtex_breast_data_all.index!='Description')].astype('float').copy()\n",
    "    return df_int\n",
    "\n",
    "def tcga_data_processing(tcga_hiseq_dataset,tcga_hiseq_corresponding_sample_info):\n",
    "    tcga_brca_df = pd.read_csv(tcga_hiseq_dataset, sep = '\\t', index_col=0)\n",
    "    tcga_brca_sample_info = pd.read_csv(tcga_hiseq_corresponding_sample_info,sep=\"\\t\",index_col=0)\n",
    "    #drop metastatic from main sample type data frame\n",
    "    tcga_brca_sample_info = tcga_brca_sample_info[~(tcga_brca_sample_info.sample_type=='Metastatic')]\n",
    "\n",
    "    #separate normal and primtum\n",
    "    tcga_brca_normal_patients = tcga_brca_sample_info[tcga_brca_sample_info.sample_type=='Solid Tissue Normal']\n",
    "    tcga_brca_primtum_patients = tcga_brca_sample_info[tcga_brca_sample_info.sample_type=='Primary Tumor']\n",
    "\n",
    "    #drop index of samples not in tcga_brca_df\n",
    "    tcga_brca_normal_patients=  tcga_brca_normal_patients.drop(non_match for non_match in tcga_brca_normal_patients.index.values if non_match not in tcga_brca_df.columns)\n",
    "    tcga_brca_primtum_patients =tcga_brca_primtum_patients.drop(non_match for non_match in tcga_brca_primtum_patients.index.values if non_match not in tcga_brca_df.columns) \n",
    "\n",
    "    #make sure both normal and tumor patients match, and drop patients not in tcga_brca_df\n",
    "    matched_patient_index_list=[]\n",
    "    for patient in tcga_brca_primtum_patients.patient_id.values:\n",
    "        if patient in tcga_brca_normal_patients.patient_id.values and patient in [patient_id.split('-')[2] for patient_id in tcga_brca_df.columns]:\n",
    "            matched_patient_index_list.append(tcga_brca_sample_info[tcga_brca_sample_info.patient_id==patient].index.values)\n",
    "    matched_patient_list=tcga_brca_sample_info.loc[[x for l in matched_patient_index_list for x in l]].copy()\n",
    "\n",
    "\n",
    "    #separate normal and primary tumor\n",
    "    normal_matched_patient_list=matched_patient_list[matched_patient_list.sample_type=='Solid Tissue Normal']\n",
    "    primtum_matched_patient_list = matched_patient_list[matched_patient_list.sample_type=='Primary Tumor']\n",
    "\n",
    "    #matched normal and primary tumor samples\n",
    "    tcga_brca_df_normal_matched=tcga_brca_df[tcga_brca_df.columns[tcga_brca_df.columns.isin(normal_matched_patient_list.index.values)]]\n",
    "    tcga_brca_df_primtum_matched=tcga_brca_df[tcga_brca_df.columns[tcga_brca_df.columns.isin(primtum_matched_patient_list.index.values)]]\n",
    "\n",
    "    #test to see if normal and primary tumor patient IDs are a match\n",
    "    for i in [patient_id.split('-')[2] for patient_id in tcga_brca_df_normal_matched.columns]:\n",
    "        if i not in [patient_id.split('-')[2] for patient_id in tcga_brca_df_primtum_matched.columns]:\n",
    "            print('trouble')\n",
    "            \n",
    "    #TCGA brca normal ALL\n",
    "    tcga_brca_df_normal_all = tcga_brca_df.T.loc[tcga_brca_normal_patients.index.values].copy()\n",
    "    # dataframe with all TCGA primary tumor samples (not necessarily matched)\n",
    "    tcga_brca_df_primtum_all= tcga_brca_df.T.loc[tcga_brca_primtum_patients.index.values].copy()\n",
    "    \n",
    "    return {'tcga_brca_df_normal_matched':tcga_brca_df_normal_matched,\n",
    "           'tcga_brca_df_primtum_matched':tcga_brca_df_primtum_matched,\n",
    "           'tcga_brca_df_normal_all':tcga_brca_df_normal_all,\n",
    "           'tcga_brca_df_primtum_all':tcga_brca_df_primtum_all}\n",
    "\n",
    "    "
   ]
  },
  {
   "cell_type": "code",
   "execution_count": 3,
   "metadata": {},
   "outputs": [],
   "source": [
    "def correlation_selected_gene(provided_dataset,interest_gene,correlation_method):\n",
    "    dataset_corr = provided_dataset.corrwith(provided_dataset[interest_gene],method=correlation_method)\n",
    "    dataset_corr = dataset_corr.dropna(axis=0,how='any')\n",
    "    idx = dataset_corr.index.drop_duplicates(keep=False)\n",
    "    dataset_corr = dataset_corr.loc[idx]\n",
    "    return dataset_corr\n",
    "\n",
    "def count_high_corr_genes_no_overlap(interest_gene,correlation_method,correlation_cutoff,*processed_datasets):\n",
    "#make sure to preprocess dataset\n",
    "#dictionary only takes unique values, careful about this\n",
    "    print('no overlap between datasets')\n",
    "    dict_empty={}\n",
    "    j=0\n",
    "    for dataset in processed_datasets:\n",
    "        dataset=correlation_selected_gene(dataset,interest_gene,correlation_method)\n",
    "        dict_empty[input(f'insert name for {j+1}th dataset')]=dataset[dataset>=correlation_cutoff].shape[0]\n",
    "        \n",
    "        j+=1\n",
    "    \n",
    "    dict_pd_df = pd.DataFrame(dict_empty,index=[f'HIGHLY_correlated_with_{interest_gene}'])\n",
    "    #return display(HTML(dict_pd_df.to_html()))\n",
    "    return dict_pd_df\n",
    "\n",
    "def count_high_corr_genes_with_overlap(interest_gene,correlation_method,correlation_cutoff,dataset1,dataset2):\n",
    "#make sure to preprocess dataset\n",
    "#dictionary only takes unique values, careful about this\n",
    "    dataset1=correlation_selected_gene(dataset1,interest_gene,correlation_method)\n",
    "    dataset2=correlation_selected_gene(dataset2,interest_gene,correlation_method)\n",
    "    common_gene_list= dataset1.index.intersection(dataset2.index)\n",
    "    print(\"1st: overlapping genes identified\\n2nd: each dataset subset with overlapping genes\\n3rd: cutoff applied\")\n",
    "    dict_empty={}\n",
    "    j=0\n",
    "    for dataset in [dataset1,dataset2]:\n",
    "        dataset=dataset[common_gene_list]\n",
    "        dict_empty[input(f'insert name for {j+1}th dataset')]=dataset[dataset>=correlation_cutoff].shape[0]\n",
    "        j+=1\n",
    "    dict_pd_df = pd.DataFrame(dict_empty,index=[f'HIGHLY_correlated_with_{interest_gene}'])\n",
    "    \n",
    "    return display(HTML(dict_pd_df.to_html()))\n",
    "\n",
    "def cutoff_applied_togtex_2_high_both(interest_gene,correlation_method,correlation_cutoff,gtex_dataset,other_dataset):\n",
    "#make sure to preprocess dataset\n",
    "#dictionary only takes unique values, careful about this\n",
    "    gtex_dataset=correlation_selected_gene(gtex_dataset,interest_gene,correlation_method)\n",
    "    gtex_dataset = gtex_dataset[gtex_dataset>=correlation_cutoff]\n",
    "    dataset2=correlation_selected_gene(other_dataset,interest_gene,correlation_method)\n",
    "    common_gene_list= gtex_dataset.index.intersection(dataset2.index)\n",
    "    global new_dataset    \n",
    "    new_dataset = pd.concat([gtex_dataset[common_gene_list],dataset2[common_gene_list]],axis=1)\n",
    "    first_dataset_name = 'gtex_cutoffmet'\n",
    "    other_dataset_name=input('insert name for other dataset')\n",
    "    new_dataset.columns=[first_dataset_name,other_dataset_name]\n",
    "    print(\"1st: high cutoff applied to gtex dataset\\n2nd: common genes identified with other dataset\\n3rd: both datasets combined\\n4th: High cutoff applied to non-gtex dataset\")\n",
    "    \n",
    "    new_dataset = new_dataset[new_dataset[other_dataset_name]>=correlation_cutoff]\n",
    "    dict_pd_df = pd.DataFrame(data=[[new_dataset.shape[0],new_dataset.shape[0]]],\n",
    "                             index=[f'high_corr_with_{interest_gene}_both_same_genes'],\n",
    "                             columns=[first_dataset_name,other_dataset_name])\n",
    "    return dict_pd_df\n",
    "\n",
    "def cutoff_applied_togtex_2_high_low(interest_gene,correlation_method,correlation_cutoff,opposing_corr_cutoff,gtex_dataset,other_dataset):\n",
    "#make sure to preprocess dataset\n",
    "#dictionary only takes unique values, careful about this\n",
    "    gtex_dataset=correlation_selected_gene(gtex_dataset,interest_gene,correlation_method)\n",
    "    gtex_dataset = gtex_dataset[gtex_dataset>=correlation_cutoff]\n",
    "    dataset2=correlation_selected_gene(other_dataset,interest_gene,correlation_method)\n",
    "    common_gene_list= gtex_dataset.index.intersection(dataset2.index)\n",
    "    global new_dataset    \n",
    "    new_dataset = pd.concat([gtex_dataset[common_gene_list],dataset2[common_gene_list]],axis=1)\n",
    "    first_dataset_name = 'gtex_cutoffmet'\n",
    "    other_dataset_name=input('insert name for other dataset')\n",
    "    new_dataset.columns=[first_dataset_name,other_dataset_name]\n",
    "    print(\"1st: high cutoff applied to gtex dataset\\n2nd: common genes identified with other dataset\\n3rd: both datasets combined\\n4th: low cutoff applied to non-gtex dataset\")\n",
    "    \n",
    "    new_dataset = new_dataset[new_dataset[other_dataset_name]<=opposing_corr_cutoff]\n",
    "    dict_pd_df = pd.DataFrame(data=[[new_dataset.shape[0],new_dataset.shape[0]]],\n",
    "                             index=[f'corr_with_{interest_gene}_highgtex_low_other'],\n",
    "                             columns=[first_dataset_name,other_dataset_name])\n",
    "    return display(HTML(dict_pd_df.to_html()))\n",
    "    \n",
    "def cutoff_applied_totcga_2_high_both(interest_gene,correlation_method,correlation_cutoff,gtex_dataset,other_dataset):\n",
    "#make sure to preprocess dataset\n",
    "#dictionary only takes unique values, careful about this\n",
    "    gtex_dataset=correlation_selected_gene(gtex_dataset,interest_gene,correlation_method)\n",
    "    dataset2=correlation_selected_gene(other_dataset,interest_gene,correlation_method)\n",
    "    dataset2 = dataset2[dataset2>=correlation_cutoff]\n",
    "    common_gene_list= gtex_dataset.index.intersection(dataset2.index)\n",
    "    global new_dataset    \n",
    "    new_dataset = pd.concat([gtex_dataset[common_gene_list],dataset2[common_gene_list]],axis=1)\n",
    "    first_dataset_name = 'gtex_all'\n",
    "    other_dataset_name='tcga_primtum_all_cutoffmet'\n",
    "    new_dataset.columns=[first_dataset_name,other_dataset_name]\n",
    "    print(\"1st: high cutoff applied to tcga dataset\\n2nd: common genes identified with gtex dataset\\n3rd: both datasets combined\\n4th: High cutoff applied to gtex dataset\")\n",
    "\n",
    "    new_dataset = new_dataset[new_dataset[first_dataset_name]>=correlation_cutoff]\n",
    "    dict_pd_df = pd.DataFrame(data=[[new_dataset.shape[0],new_dataset.shape[0]]],\n",
    "                             index=[f'high_corr_with_{interest_gene}_both_same_genes'],\n",
    "                             columns=[first_dataset_name,other_dataset_name])\n",
    "    return display(HTML(dict_pd_df.to_html()))\n",
    "\n",
    "def cutoff_applied_totcga_2_high_low(interest_gene,correlation_method,correlation_cutoff,opposing_corr_cutoff,gtex_dataset,other_dataset):\n",
    "#make sure to preprocess dataset\n",
    "#dictionary only takes unique values, careful about this\n",
    "    gtex_dataset=correlation_selected_gene(gtex_dataset,interest_gene,correlation_method)\n",
    "    dataset2=correlation_selected_gene(other_dataset,interest_gene,correlation_method)\n",
    "    dataset2 = dataset2[dataset2>=correlation_cutoff]\n",
    "    common_gene_list= gtex_dataset.index.intersection(dataset2.index)\n",
    "    global new_dataset    \n",
    "    new_dataset = pd.concat([gtex_dataset[common_gene_list],dataset2[common_gene_list]],axis=1)\n",
    "    first_dataset_name = 'gtex_all'\n",
    "    other_dataset_name='tcga_primtum_all_cutoffmet'\n",
    "    new_dataset.columns=[first_dataset_name,other_dataset_name]\n",
    "    print(\"1st: high cutoff applied to tcga dataset\\n2nd: common genes identified with gtex dataset\\n3rd: both datasets combined\\n4th: low cutoff applied to gtex dataset\")\n",
    "\n",
    "    new_dataset = new_dataset[new_dataset[first_dataset_name]<=opposing_corr_cutoff]\n",
    "    dict_pd_df = pd.DataFrame(data=[[new_dataset.shape[0],new_dataset.shape[0]]],\n",
    "                             index=[f'corr_with_{interest_gene}_both_same_genes'],\n",
    "                             columns=[first_dataset_name,other_dataset_name])\n",
    "    return display(HTML(dict_pd_df.to_html()))\n",
    "\n",
    "def count_genes_same_3(interest_gene,correlation_method,gtex_dataset,dataset2,dataset3):\n",
    "#make sure to preprocess dataset\n",
    "#dictionary only takes unique values, careful about this\n",
    "    gtex_dataset=correlation_selected_gene(gtex_dataset,interest_gene,correlation_method)\n",
    "    dataset2=correlation_selected_gene(dataset2,interest_gene,correlation_method)\n",
    "    dataset3=correlation_selected_gene(dataset3,interest_gene,correlation_method)\n",
    "    common_gene_list= gtex_dataset.index.intersection(dataset2.index).intersection(dataset3.index)\n",
    "    global new_dataset\n",
    "    new_dataset = pd.concat([gtex_dataset[common_gene_list],\n",
    "                             dataset2[common_gene_list],\n",
    "                             dataset3[common_gene_list]],axis=1)\n",
    "    first_dataset_name = 'gtex_all'\n",
    "    second_dataset_name= 'tcga_normal_all'\n",
    "    third_dataset_name= 'tcga_primtum_all'\n",
    "    new_dataset.columns=[first_dataset_name,second_dataset_name,third_dataset_name]\n",
    "    print(\"1st: common genes identified for all 3 datasets\\n2nd: they were counted\")\n",
    "    dict_pd_df = pd.DataFrame(data=[[new_dataset.shape[0],new_dataset.shape[0],new_dataset.shape[0]]],\n",
    "                             index=[f'corr_with_{interest_gene}_all_same_genes'],\n",
    "                             columns=[first_dataset_name,second_dataset_name,third_dataset_name])\n",
    "    return display(HTML(dict_pd_df.to_html()))\n",
    "\n",
    "def count_genes_3_no_overlap(interest_gene,correlation_method,gtex_dataset,dataset2,dataset3):\n",
    "#make sure to preprocess dataset\n",
    "#dictionary only takes unique values, careful about this\n",
    "    print('no overlap between datasets')\n",
    "    dict_empty={}\n",
    "    first_dataset_name = 'gtex_all'\n",
    "    second_dataset_name= 'tcga_normal_all'\n",
    "    third_dataset_name= 'tcga_primtum_all'\n",
    "    names = [first_dataset_name,second_dataset_name,third_dataset_name]\n",
    "    j=0\n",
    "    for dataset in [gtex_dataset,dataset2,dataset3]:\n",
    "        dataset=correlation_selected_gene(dataset,interest_gene,correlation_method)\n",
    "        dict_empty[names[j]]=dataset.shape[0]\n",
    "        j+=1\n",
    "    dict_pd_df = pd.DataFrame(dict_empty,index=[f'corr_with_{interest_gene}'])\n",
    "    return display(HTML(dict_pd_df.to_html()))\n",
    "\n",
    "def cutoff_applied_togtex_3_high_all(interest_gene,correlation_method,correlation_cutoff,gtex_dataset,other_dataset,\n",
    "                                    dataset3):\n",
    "#dataset3 MUST BE tcga primtum all\n",
    "#make sure to preprocess dataset\n",
    "#dictionary only takes unique values, careful about this\n",
    "    gtex_dataset=correlation_selected_gene(gtex_dataset,interest_gene,correlation_method)\n",
    "    gtex_dataset = gtex_dataset[gtex_dataset>=correlation_cutoff]\n",
    "    dataset2=correlation_selected_gene(other_dataset,interest_gene,correlation_method)\n",
    "    dataset3=correlation_selected_gene(dataset3,interest_gene,correlation_method)\n",
    "    common_gene_list= (gtex_dataset.index.intersection(dataset2.index)).intersection(dataset3.index)\n",
    "    global new_dataset    \n",
    "    new_dataset = pd.concat([gtex_dataset[common_gene_list],\n",
    "                             dataset2[common_gene_list],\n",
    "                            dataset3[common_gene_list]],axis=1)\n",
    "    first_dataset_name = 'gtex_cutoffmet'\n",
    "    other_dataset_name='tcga_normal_all'\n",
    "    dataset3_name = 'tcga_primtum_all'\n",
    "    new_dataset.columns=[first_dataset_name,other_dataset_name,dataset3_name]\n",
    "    print(\"1st: high cutoff applied to gtex dataset\\n2nd: common genes identified with other datasets\\n3rd: all datasets combined\\n4th: High cutoff applied to non-gtex datasets\")\n",
    "    \n",
    "    new_dataset = new_dataset[(new_dataset[other_dataset_name]>=correlation_cutoff) & (new_dataset[dataset3_name]>=correlation_cutoff)]\n",
    "    dict_pd_df = pd.DataFrame(data=[[new_dataset.shape[0],new_dataset.shape[0],new_dataset.shape[0]]],\n",
    "                             index=[f'high_corr_with_{interest_gene}_all_same_genes'],\n",
    "                             columns=[first_dataset_name,other_dataset_name,dataset3_name])\n",
    "    return dict_pd_df\n",
    "\n"
   ]
  },
  {
   "cell_type": "code",
   "execution_count": 4,
   "metadata": {},
   "outputs": [
    {
     "ename": "NameError",
     "evalue": "name 'df_int' is not defined",
     "output_type": "error",
     "traceback": [
      "\u001b[0;31m---------------------------------------------------------------------------\u001b[0m",
      "\u001b[0;31mNameError\u001b[0m                                 Traceback (most recent call last)",
      "\u001b[0;32m<ipython-input-4-9a64b61bab25>\u001b[0m in \u001b[0;36m<module>\u001b[0;34m()\u001b[0m\n\u001b[1;32m      1\u001b[0m \u001b[0;31m#1\u001b[0m\u001b[0;34m\u001b[0m\u001b[0;34m\u001b[0m\u001b[0m\n\u001b[0;32m----> 2\u001b[0;31m \u001b[0mcount_genes_3_no_overlap\u001b[0m\u001b[0;34m(\u001b[0m\u001b[0;34m'ITGA7'\u001b[0m\u001b[0;34m,\u001b[0m\u001b[0;34m'pearson'\u001b[0m\u001b[0;34m,\u001b[0m\u001b[0mdf_int\u001b[0m\u001b[0;34m,\u001b[0m\u001b[0mtcga_brca_df_normal_all\u001b[0m\u001b[0;34m,\u001b[0m\u001b[0mtcga_brca_df_primtum_all\u001b[0m\u001b[0;34m)\u001b[0m\u001b[0;34m\u001b[0m\u001b[0m\n\u001b[0m",
      "\u001b[0;31mNameError\u001b[0m: name 'df_int' is not defined"
     ]
    }
   ],
   "source": [
    "#1\n",
    "count_genes_3_no_overlap('ITGA7','pearson',df_int,tcga_brca_df_normal_all,tcga_brca_df_primtum_all)\n"
   ]
  },
  {
   "cell_type": "code",
   "execution_count": 272,
   "metadata": {},
   "outputs": [
    {
     "name": "stdout",
     "output_type": "stream",
     "text": [
      "1st: common genes identified for all 3 datasets\n",
      "2nd: they were counted\n"
     ]
    },
    {
     "data": {
      "text/html": [
       "<table border=\"1\" class=\"dataframe\">\n",
       "  <thead>\n",
       "    <tr style=\"text-align: right;\">\n",
       "      <th></th>\n",
       "      <th>gtex_all</th>\n",
       "      <th>tcga_normal_all</th>\n",
       "      <th>tcga_primtum_all</th>\n",
       "    </tr>\n",
       "  </thead>\n",
       "  <tbody>\n",
       "    <tr>\n",
       "      <th>corr_with_ITGA7_all_same_genes</th>\n",
       "      <td>17313</td>\n",
       "      <td>17313</td>\n",
       "      <td>17313</td>\n",
       "    </tr>\n",
       "  </tbody>\n",
       "</table>"
      ],
      "text/plain": [
       "<IPython.core.display.HTML object>"
      ]
     },
     "metadata": {},
     "output_type": "display_data"
    }
   ],
   "source": [
    "#2\n",
    "count_genes_same_3('ITGA7','pearson',df_int,tcga_brca_df_normal_all,tcga_brca_df_primtum_all)"
   ]
  },
  {
   "cell_type": "code",
   "execution_count": 248,
   "metadata": {},
   "outputs": [
    {
     "name": "stdout",
     "output_type": "stream",
     "text": [
      "no overlap between datasets\n",
      "insert name for 1th datasetgtex_all\n",
      "insert name for 2th datasettcga_normal_all\n"
     ]
    },
    {
     "data": {
      "text/html": [
       "<table border=\"1\" class=\"dataframe\">\n",
       "  <thead>\n",
       "    <tr style=\"text-align: right;\">\n",
       "      <th></th>\n",
       "      <th>gtex_all</th>\n",
       "      <th>tcga_normal_all</th>\n",
       "    </tr>\n",
       "  </thead>\n",
       "  <tbody>\n",
       "    <tr>\n",
       "      <th>HIGHLY_correlated_with_ITGA7</th>\n",
       "      <td>319</td>\n",
       "      <td>1469</td>\n",
       "    </tr>\n",
       "  </tbody>\n",
       "</table>"
      ],
      "text/plain": [
       "<IPython.core.display.HTML object>"
      ]
     },
     "metadata": {},
     "output_type": "display_data"
    }
   ],
   "source": [
    "#3\n",
    "#tabulate(gtex_cutoffmet_other_correlations.iloc[1:10,:],headers='keys',tablefmt='pretty')\n",
    "#display(HTML(gtex_cutoffmet_other_correlations.to_html()))\n",
    "#display(HTML(tcga_normal_cutoffmet_other_corr.to_html()))\n",
    "count_high_corr_genes_no_overlap('ITGA7','pearson',0.6,df_int,tcga_brca_df_normal_all)"
   ]
  },
  {
   "cell_type": "code",
   "execution_count": 249,
   "metadata": {},
   "outputs": [
    {
     "name": "stdout",
     "output_type": "stream",
     "text": [
      "1st: overlapping genes identified\n",
      "2nd: each dataset subset with overlapping genes\n",
      "3rd: cutoff applied\n",
      "insert name for 1th datasetgtex_all\n",
      "insert name for 2th datasettcga_normal_all\n"
     ]
    },
    {
     "data": {
      "text/html": [
       "<table border=\"1\" class=\"dataframe\">\n",
       "  <thead>\n",
       "    <tr style=\"text-align: right;\">\n",
       "      <th></th>\n",
       "      <th>gtex_all</th>\n",
       "      <th>tcga_normal_all</th>\n",
       "    </tr>\n",
       "  </thead>\n",
       "  <tbody>\n",
       "    <tr>\n",
       "      <th>HIGHLY_correlated_with_ITGA7</th>\n",
       "      <td>255</td>\n",
       "      <td>1332</td>\n",
       "    </tr>\n",
       "  </tbody>\n",
       "</table>"
      ],
      "text/plain": [
       "<IPython.core.display.HTML object>"
      ]
     },
     "metadata": {},
     "output_type": "display_data"
    }
   ],
   "source": [
    "#4\n",
    "#this one probably not very meaningful\n",
    "count_high_corr_genes_with_overlap('ITGA7','pearson',0.6,df_int,tcga_brca_df_normal_all)"
   ]
  },
  {
   "cell_type": "code",
   "execution_count": 40,
   "metadata": {},
   "outputs": [
    {
     "data": {
      "text/html": [
       "<table border=\"1\" class=\"dataframe\">\n",
       "  <thead>\n",
       "    <tr style=\"text-align: right;\">\n",
       "      <th></th>\n",
       "      <th>gtex_cutoffmet</th>\n",
       "      <th>tcga_normal_all</th>\n",
       "    </tr>\n",
       "  </thead>\n",
       "  <tbody>\n",
       "    <tr>\n",
       "      <th>high_corr_with_ITGA7_both_same_genes</th>\n",
       "      <td>247</td>\n",
       "      <td>247</td>\n",
       "    </tr>\n",
       "  </tbody>\n",
       "</table>"
      ],
      "text/plain": [
       "<IPython.core.display.HTML object>"
      ]
     },
     "metadata": {},
     "output_type": "display_data"
    }
   ],
   "source": [
    "#5\n",
    "cutoff_applied_togtex_2_high_both('ITGA7','pearson',0.6,df_int,tcga_brca_df_normal_all)\n",
    "#dataset1=correlation_selected_gene(tcga_brca_df_normal_all,'ITGA7','pearson')\n",
    "#dataset2=correlation_selected_gene(tcga_brca_df_primtum_all,'ITGA7','pearson')"
   ]
  },
  {
   "cell_type": "code",
   "execution_count": 274,
   "metadata": {},
   "outputs": [
    {
     "name": "stdout",
     "output_type": "stream",
     "text": [
      "insert name for other datasettcga_normal_all\n",
      "1st: high cutoff applied to gtex dataset\n",
      "2nd: common genes identified with other dataset\n",
      "3rd: both datasets combined\n",
      "4th: low cutoff applied to non-gtex dataset\n"
     ]
    },
    {
     "data": {
      "text/html": [
       "<table border=\"1\" class=\"dataframe\">\n",
       "  <thead>\n",
       "    <tr style=\"text-align: right;\">\n",
       "      <th></th>\n",
       "      <th>gtex_cutoffmet</th>\n",
       "      <th>tcga_normal_all</th>\n",
       "    </tr>\n",
       "  </thead>\n",
       "  <tbody>\n",
       "    <tr>\n",
       "      <th>corr_with_ITGA7_highgtex_low_other</th>\n",
       "      <td>0</td>\n",
       "      <td>0</td>\n",
       "    </tr>\n",
       "  </tbody>\n",
       "</table>"
      ],
      "text/plain": [
       "<IPython.core.display.HTML object>"
      ]
     },
     "metadata": {},
     "output_type": "display_data"
    }
   ],
   "source": [
    "#6\n",
    "cutoff_applied_togtex_2_high_low('ITGA7','pearson',0.6,0.1,df_int,tcga_brca_df_normal_all)"
   ]
  },
  {
   "cell_type": "code",
   "execution_count": 46,
   "metadata": {},
   "outputs": [
    {
     "data": {
      "text/html": [
       "<table border=\"1\" class=\"dataframe\">\n",
       "  <thead>\n",
       "    <tr style=\"text-align: right;\">\n",
       "      <th></th>\n",
       "      <th>gtex_cutoffmet</th>\n",
       "      <th>tcga_primtum_all</th>\n",
       "    </tr>\n",
       "  </thead>\n",
       "  <tbody>\n",
       "    <tr>\n",
       "      <th>high_corr_with_ITGA7_both_same_genes</th>\n",
       "      <td>26</td>\n",
       "      <td>26</td>\n",
       "    </tr>\n",
       "  </tbody>\n",
       "</table>"
      ],
      "text/plain": [
       "<IPython.core.display.HTML object>"
      ]
     },
     "metadata": {},
     "output_type": "display_data"
    }
   ],
   "source": [
    "#7\n",
    "cutoff_applied_togtex_2_high_both('ITGA7','pearson',0.6,df_int,tcga_brca_df_primtum_all)"
   ]
  },
  {
   "cell_type": "code",
   "execution_count": 254,
   "metadata": {},
   "outputs": [
    {
     "name": "stdout",
     "output_type": "stream",
     "text": [
      "insert name for other datasettcga_primtum_all\n",
      "1st: high cutoff applied to gtex dataset\n",
      "2nd: common genes identified with other dataset\n",
      "3rd: both datasets combined\n",
      "4th: low cutoff applied to non-gtex dataset\n"
     ]
    },
    {
     "data": {
      "text/html": [
       "<table border=\"1\" class=\"dataframe\">\n",
       "  <thead>\n",
       "    <tr style=\"text-align: right;\">\n",
       "      <th></th>\n",
       "      <th>gtex_cutoffmet</th>\n",
       "      <th>tcga_primtum_all</th>\n",
       "    </tr>\n",
       "  </thead>\n",
       "  <tbody>\n",
       "    <tr>\n",
       "      <th>corr_with_ITGA7_highgtex_low_other</th>\n",
       "      <td>69</td>\n",
       "      <td>69</td>\n",
       "    </tr>\n",
       "  </tbody>\n",
       "</table>"
      ],
      "text/plain": [
       "<IPython.core.display.HTML object>"
      ]
     },
     "metadata": {},
     "output_type": "display_data"
    }
   ],
   "source": [
    "#8\n",
    "cutoff_applied_togtex_2_high_low('ITGA7','pearson',0.6,0.1,df_int,tcga_brca_df_primtum_all)\n",
    "    "
   ]
  },
  {
   "cell_type": "code",
   "execution_count": 243,
   "metadata": {},
   "outputs": [
    {
     "name": "stdout",
     "output_type": "stream",
     "text": [
      "1st: high cutoff applied to tcga dataset\n",
      "2nd: common genes identified with gtex dataset\n",
      "3rd: both datasets combined\n",
      "4th: High cutoff applied to gtex dataset\n"
     ]
    },
    {
     "data": {
      "text/html": [
       "<table border=\"1\" class=\"dataframe\">\n",
       "  <thead>\n",
       "    <tr style=\"text-align: right;\">\n",
       "      <th></th>\n",
       "      <th>gtex_all</th>\n",
       "      <th>tcga_primtum_all_cutoffmet</th>\n",
       "    </tr>\n",
       "  </thead>\n",
       "  <tbody>\n",
       "    <tr>\n",
       "      <th>high_corr_with_ITGA7_both_same_genes</th>\n",
       "      <td>26</td>\n",
       "      <td>26</td>\n",
       "    </tr>\n",
       "  </tbody>\n",
       "</table>"
      ],
      "text/plain": [
       "<IPython.core.display.HTML object>"
      ]
     },
     "metadata": {},
     "output_type": "display_data"
    }
   ],
   "source": [
    "#9\n",
    "cutoff_applied_totcga_2_high_both('ITGA7','pearson',0.6,df_int,tcga_brca_df_primtum_all)"
   ]
  },
  {
   "cell_type": "code",
   "execution_count": 255,
   "metadata": {},
   "outputs": [
    {
     "name": "stdout",
     "output_type": "stream",
     "text": [
      "1st: high cutoff applied to tcga dataset\n",
      "2nd: common genes identified with gtex dataset\n",
      "3rd: both datasets combined\n",
      "4th: low cutoff applied to gtex dataset\n"
     ]
    },
    {
     "data": {
      "text/html": [
       "<table border=\"1\" class=\"dataframe\">\n",
       "  <thead>\n",
       "    <tr style=\"text-align: right;\">\n",
       "      <th></th>\n",
       "      <th>gtex_all</th>\n",
       "      <th>tcga_primtum_all_cutoffmet</th>\n",
       "    </tr>\n",
       "  </thead>\n",
       "  <tbody>\n",
       "    <tr>\n",
       "      <th>corr_with_ITGA7_both_same_genes</th>\n",
       "      <td>27</td>\n",
       "      <td>27</td>\n",
       "    </tr>\n",
       "  </tbody>\n",
       "</table>"
      ],
      "text/plain": [
       "<IPython.core.display.HTML object>"
      ]
     },
     "metadata": {},
     "output_type": "display_data"
    }
   ],
   "source": [
    "#10\n",
    "cutoff_applied_totcga_2_high_low('ITGA7','pearson',0.6,0.1,df_int,tcga_brca_df_primtum_all)\n",
    "\n"
   ]
  },
  {
   "cell_type": "markdown",
   "metadata": {},
   "source": [
    "# making the information presentable with the smaller functions"
   ]
  },
  {
   "cell_type": "code",
   "execution_count": 6,
   "metadata": {},
   "outputs": [],
   "source": [
    "def make_data_presentable(interest_gene,correlation_method, correlation_cutoff,opposing_corr_cutoff,gtex_gct_dataset,\n",
    "                         tcga_hiseq_dataset,tcga_hiseq_corresponding_sample_info):\n",
    "    df_int=gtex_data_processing(gtex_gct_dataset)\n",
    "    tcga_data=tcga_data_processing(tcga_hiseq_dataset,tcga_hiseq_corresponding_sample_info)\n",
    "    tcga_brca_df_normal_all=tcga_data['tcga_brca_df_normal_all']\n",
    "    tcga_brca_df_primtum_all=tcga_data['tcga_brca_df_primtum_all']\n",
    "    #1\n",
    "    count_genes_3_no_overlap(interest_gene,correlation_method,df_int,tcga_brca_df_normal_all,tcga_brca_df_primtum_all)\n",
    "    #2\n",
    "    count_genes_same_3(interest_gene,correlation_method,df_int,tcga_brca_df_normal_all,tcga_brca_df_primtum_all)\n",
    "    #3\n",
    "    print('for 1th dataset ENTER: gtex_all')\n",
    "    print('for 2th dataset ENTER: tcga_normal_all')\n",
    "    count_high_corr_genes_no_overlap(interest_gene,correlation_method,correlation_cutoff,df_int,tcga_brca_df_normal_all)\n",
    "    #4\n",
    "    #print('for 1th dataset ENTER: gtex_all')\n",
    "    #print('for 2th dataset ENTER: tcga_normal_all')    \n",
    "    #4 is not very meaningful\n",
    "    #count_high_corr_genes_with_overlap(interest_gene,correlation_method,correlation_cutoff,df_int,tcga_brca_df_normal_all)\n",
    "    #5\n",
    "    print('for dataset ENTER: tcga_normal_all')    \n",
    "    cutoff_applied_togtex_2_high_both(interest_gene,correlation_method,correlation_cutoff,df_int,tcga_brca_df_normal_all)\n",
    "    #6\n",
    "    print('for dataset ENTER: tcga_normal_all')        \n",
    "    cutoff_applied_togtex_2_high_low(interest_gene,correlation_method,correlation_cutoff,opposing_corr_cutoff,df_int,tcga_brca_df_normal_all)\n",
    "    #7\n",
    "    print('for dataset ENTER: tcga_primtum_all')            \n",
    "    cutoff_applied_togtex_2_high_both(interest_gene,correlation_method,correlation_cutoff,df_int,tcga_brca_df_primtum_all)\n",
    "    #8\n",
    "    print('for dataset ENTER: tcga_primtum_all')                \n",
    "    cutoff_applied_togtex_2_high_low(interest_gene,correlation_method,correlation_cutoff,opposing_corr_cutoff,df_int,tcga_brca_df_primtum_all)\n",
    "    #9\n",
    "    cutoff_applied_totcga_2_high_both(interest_gene,correlation_method,correlation_cutoff,df_int,tcga_brca_df_primtum_all)\n",
    "    #10\n",
    "    cutoff_applied_totcga_2_high_low(interest_gene,correlation_method,correlation_cutoff,opposing_corr_cutoff,df_int,tcga_brca_df_primtum_all)\n",
    "    return"
   ]
  },
  {
   "cell_type": "code",
   "execution_count": 7,
   "metadata": {},
   "outputs": [],
   "source": [
    "def organize_gtex_tcga(interest_gene,correlation_method, correlation_cutoff,opposing_corr_cutoff,gtex_gct_dataset,\n",
    "                         tcga_hiseq_dataset,tcga_hiseq_corresponding_sample_info):\n",
    "    df_int=gtex_data_processing(gtex_gct_dataset)\n",
    "    tcga_data=tcga_data_processing(tcga_hiseq_dataset,tcga_hiseq_corresponding_sample_info)\n",
    "    tcga_brca_df_normal_all=tcga_data['tcga_brca_df_normal_all']\n",
    "    tcga_brca_df_primtum_all=tcga_data['tcga_brca_df_primtum_all']\n",
    "    #3\n",
    "    print('for 1th dataset ENTER: gtex_all')\n",
    "    print('for 2th dataset ENTER: tcga_normal_all')\n",
    "    number_3=count_high_corr_genes_no_overlap(interest_gene,correlation_method,correlation_cutoff,df_int,tcga_brca_df_normal_all)\n",
    "    #4\n",
    "    #print('for 1th dataset ENTER: gtex_all')\n",
    "    #print('for 2th dataset ENTER: tcga_normal_all')    \n",
    "    #4 is not very meaningful\n",
    "    #count_high_corr_genes_with_overlap(interest_gene,correlation_method,correlation_cutoff,df_int,tcga_brca_df_normal_all)\n",
    "    #5\n",
    "    print('for dataset ENTER: tcga_normal_all')    \n",
    "    number_5=cutoff_applied_togtex_2_high_both(interest_gene,correlation_method,correlation_cutoff,df_int,tcga_brca_df_normal_all)\n",
    "    #7\n",
    "    print('for dataset ENTER: tcga_primtum_all')            \n",
    "    number_7=cutoff_applied_togtex_2_high_both(interest_gene,correlation_method,correlation_cutoff,df_int,tcga_brca_df_primtum_all)\n",
    "    #10\n",
    "    number_10=cutoff_applied_togtex_3_high_all(interest_gene,correlation_method,correlation_cutoff,df_int,tcga_brca_df_normal_all,\n",
    "                                    tcga_brca_df_primtum_all)\n",
    "    first_column_name='Integrin' #index\n",
    "    second_column_name='GTEX_highly_correlated'\n",
    "    third_column_name='%also_highly_correlated_in_TCGA_normal'\n",
    "    fourth_column_name='%also_highly_correlated_in_TCGA_primtum'\n",
    "    fifth_column_name='%also_highly_correlated_in_all_three'\n",
    "    #ignoring first column name. setting index as integrin name (first column name)\n",
    "    dict_pd_df = pd.DataFrame(data=[[number_3.iloc[0,0],\n",
    "                                     str(format((number_5.iloc[0,0]/number_3.iloc[0,0])*100,'2f'))+f'({str(number_5.iloc[0,0])})',\n",
    "                                     str(format((number_7.iloc[0,0]/number_3.iloc[0,0])*100,'2f'))+f'({str(number_7.iloc[0,0])})',\n",
    "                                     str(format((number_10.iloc[0,0]/number_3.iloc[0,0])*100,'2f'))+f'({str(number_10.iloc[0,0])})',\n",
    "                                    ]],\n",
    "                              columns=[second_column_name,third_column_name,\n",
    "                                      fourth_column_name,fifth_column_name],\n",
    "                              index=[interest_gene])\n",
    "    return display(HTML(dict_pd_df.to_html()))\n"
   ]
  },
  {
   "cell_type": "code",
   "execution_count": 8,
   "metadata": {},
   "outputs": [],
   "source": [
    "def organize_no_overlap(interest_gene,correlation_method, correlation_cutoff,opposing_corr_cutoff,gtex_gct_dataset,\n",
    "                         tcga_hiseq_dataset,tcga_hiseq_corresponding_sample_info):\n",
    "    df_int=gtex_data_processing(gtex_gct_dataset)\n",
    "    tcga_data=tcga_data_processing(tcga_hiseq_dataset,tcga_hiseq_corresponding_sample_info)\n",
    "    tcga_brca_df_normal_all=tcga_data['tcga_brca_df_normal_all']\n",
    "    tcga_brca_df_primtum_all=tcga_data['tcga_brca_df_primtum_all']\n",
    "    \n",
    "    gtex_expression_mean = df_int[interest_gene].mean()\n",
    "    gtex_expression_stdev= df_int[interest_gene].std()\n",
    "    \n",
    "    #3\n",
    "    print('for 1th dataset ENTER: gtex_all')\n",
    "    print('for 2th dataset ENTER: tcga_normal_all')\n",
    "    number_3_tcga_normal=count_high_corr_genes_no_overlap(interest_gene,correlation_method,correlation_cutoff,df_int,tcga_brca_df_normal_all)\n",
    "    #3\n",
    "    print('for 1th dataset ENTER: gtex_all')\n",
    "    print('for 2th dataset ENTER: tcga_primtum_all')\n",
    "    number_3_tcga_primtum=count_high_corr_genes_no_overlap(interest_gene,correlation_method,correlation_cutoff,df_int,tcga_brca_df_primtum_all)\n",
    "    \n",
    "\n",
    "    first_column_name='Integrin' #index\n",
    "    second_column_name='GTEX_expression_mean_&_stdev'\n",
    "    third_column_name='GTEX_highly_correlated'\n",
    "    fourth_column_name='highly_correlated_in_TCGA_normal'\n",
    "    fifth_column_name='highly_corelated_in_TCGA_primtum'\n",
    "    #ignoring first column name. setting index as integrin name (first column name)\n",
    "    dict_pd_df = pd.DataFrame(data=[[f'{format(gtex_expression_mean,\"0.2f\")} + {format(gtex_expression_stdev,\"0.2f\")}',\n",
    "                                     str(number_3_tcga_normal.iloc[0,0]),\n",
    "                                     str(number_3_tcga_normal.iloc[0,1]),\n",
    "                                     str(number_3_tcga_primtum.iloc[0,1])]],\n",
    "                              columns=[second_column_name,third_column_name,\n",
    "                                      fourth_column_name,fifth_column_name],\n",
    "                              index=[interest_gene])\n",
    "    return display(HTML(dict_pd_df.to_html()))\n",
    "    \n",
    "    "
   ]
  },
  {
   "cell_type": "code",
   "execution_count": 9,
   "metadata": {},
   "outputs": [
    {
     "name": "stdout",
     "output_type": "stream",
     "text": [
      "for 1th dataset ENTER: gtex_all\n",
      "for 2th dataset ENTER: tcga_normal_all\n",
      "no overlap between datasets\n"
     ]
    },
    {
     "ename": "KeyboardInterrupt",
     "evalue": "",
     "output_type": "error",
     "traceback": [
      "\u001b[0;31m---------------------------------------------------------------------------\u001b[0m",
      "\u001b[0;31mKeyboardInterrupt\u001b[0m                         Traceback (most recent call last)",
      "\u001b[0;32m/public/apps/python/3.7.0/lib/python3.7/site-packages/ipykernel/kernelbase.py\u001b[0m in \u001b[0;36m_input_request\u001b[0;34m(self, prompt, ident, parent, password)\u001b[0m\n\u001b[1;32m    728\u001b[0m             \u001b[0;32mtry\u001b[0m\u001b[0;34m:\u001b[0m\u001b[0;34m\u001b[0m\u001b[0m\n\u001b[0;32m--> 729\u001b[0;31m                 \u001b[0mident\u001b[0m\u001b[0;34m,\u001b[0m \u001b[0mreply\u001b[0m \u001b[0;34m=\u001b[0m \u001b[0mself\u001b[0m\u001b[0;34m.\u001b[0m\u001b[0msession\u001b[0m\u001b[0;34m.\u001b[0m\u001b[0mrecv\u001b[0m\u001b[0;34m(\u001b[0m\u001b[0mself\u001b[0m\u001b[0;34m.\u001b[0m\u001b[0mstdin_socket\u001b[0m\u001b[0;34m,\u001b[0m \u001b[0;36m0\u001b[0m\u001b[0;34m)\u001b[0m\u001b[0;34m\u001b[0m\u001b[0m\n\u001b[0m\u001b[1;32m    730\u001b[0m             \u001b[0;32mexcept\u001b[0m \u001b[0mException\u001b[0m\u001b[0;34m:\u001b[0m\u001b[0;34m\u001b[0m\u001b[0m\n",
      "\u001b[0;32m/public/apps/python/3.7.0/lib/python3.7/site-packages/jupyter_client/session.py\u001b[0m in \u001b[0;36mrecv\u001b[0;34m(self, socket, mode, content, copy)\u001b[0m\n\u001b[1;32m    802\u001b[0m         \u001b[0;32mtry\u001b[0m\u001b[0;34m:\u001b[0m\u001b[0;34m\u001b[0m\u001b[0m\n\u001b[0;32m--> 803\u001b[0;31m             \u001b[0mmsg_list\u001b[0m \u001b[0;34m=\u001b[0m \u001b[0msocket\u001b[0m\u001b[0;34m.\u001b[0m\u001b[0mrecv_multipart\u001b[0m\u001b[0;34m(\u001b[0m\u001b[0mmode\u001b[0m\u001b[0;34m,\u001b[0m \u001b[0mcopy\u001b[0m\u001b[0;34m=\u001b[0m\u001b[0mcopy\u001b[0m\u001b[0;34m)\u001b[0m\u001b[0;34m\u001b[0m\u001b[0m\n\u001b[0m\u001b[1;32m    804\u001b[0m         \u001b[0;32mexcept\u001b[0m \u001b[0mzmq\u001b[0m\u001b[0;34m.\u001b[0m\u001b[0mZMQError\u001b[0m \u001b[0;32mas\u001b[0m \u001b[0me\u001b[0m\u001b[0;34m:\u001b[0m\u001b[0;34m\u001b[0m\u001b[0m\n",
      "\u001b[0;32m/public/apps/python/3.7.0/lib/python3.7/site-packages/zmq/sugar/socket.py\u001b[0m in \u001b[0;36mrecv_multipart\u001b[0;34m(self, flags, copy, track)\u001b[0m\n\u001b[1;32m    466\u001b[0m         \"\"\"\n\u001b[0;32m--> 467\u001b[0;31m         \u001b[0mparts\u001b[0m \u001b[0;34m=\u001b[0m \u001b[0;34m[\u001b[0m\u001b[0mself\u001b[0m\u001b[0;34m.\u001b[0m\u001b[0mrecv\u001b[0m\u001b[0;34m(\u001b[0m\u001b[0mflags\u001b[0m\u001b[0;34m,\u001b[0m \u001b[0mcopy\u001b[0m\u001b[0;34m=\u001b[0m\u001b[0mcopy\u001b[0m\u001b[0;34m,\u001b[0m \u001b[0mtrack\u001b[0m\u001b[0;34m=\u001b[0m\u001b[0mtrack\u001b[0m\u001b[0;34m)\u001b[0m\u001b[0;34m]\u001b[0m\u001b[0;34m\u001b[0m\u001b[0m\n\u001b[0m\u001b[1;32m    468\u001b[0m         \u001b[0;31m# have first part already, only loop while more to receive\u001b[0m\u001b[0;34m\u001b[0m\u001b[0;34m\u001b[0m\u001b[0m\n",
      "\u001b[0;32mzmq/backend/cython/socket.pyx\u001b[0m in \u001b[0;36mzmq.backend.cython.socket.Socket.recv\u001b[0;34m()\u001b[0m\n",
      "\u001b[0;32mzmq/backend/cython/socket.pyx\u001b[0m in \u001b[0;36mzmq.backend.cython.socket.Socket.recv\u001b[0;34m()\u001b[0m\n",
      "\u001b[0;32mzmq/backend/cython/socket.pyx\u001b[0m in \u001b[0;36mzmq.backend.cython.socket._recv_copy\u001b[0;34m()\u001b[0m\n",
      "\u001b[0;32m/public/apps/python/3.7.0/lib/python3.7/site-packages/zmq/backend/cython/checkrc.pxd\u001b[0m in \u001b[0;36mzmq.backend.cython.checkrc._check_rc\u001b[0;34m()\u001b[0m\n",
      "\u001b[0;31mKeyboardInterrupt\u001b[0m: ",
      "\nDuring handling of the above exception, another exception occurred:\n",
      "\u001b[0;31mKeyboardInterrupt\u001b[0m                         Traceback (most recent call last)",
      "\u001b[0;32m<ipython-input-9-db3c508283d6>\u001b[0m in \u001b[0;36m<module>\u001b[0;34m()\u001b[0m\n\u001b[1;32m     12\u001b[0m \u001b[0;34m\u001b[0m\u001b[0m\n\u001b[1;32m     13\u001b[0m organize_gtex_tcga(interest_gene,correlation_method, correlation_cutoff,opposing_corr_cutoff,gtex_gct_dataset,\n\u001b[0;32m---> 14\u001b[0;31m                          tcga_hiseq_dataset,tcga_hiseq_corresponding_sample_info)\n\u001b[0m",
      "\u001b[0;32m<ipython-input-7-dde95eaa3c22>\u001b[0m in \u001b[0;36morganize_gtex_tcga\u001b[0;34m(interest_gene, correlation_method, correlation_cutoff, opposing_corr_cutoff, gtex_gct_dataset, tcga_hiseq_dataset, tcga_hiseq_corresponding_sample_info)\u001b[0m\n\u001b[1;32m      8\u001b[0m     \u001b[0mprint\u001b[0m\u001b[0;34m(\u001b[0m\u001b[0;34m'for 1th dataset ENTER: gtex_all'\u001b[0m\u001b[0;34m)\u001b[0m\u001b[0;34m\u001b[0m\u001b[0m\n\u001b[1;32m      9\u001b[0m     \u001b[0mprint\u001b[0m\u001b[0;34m(\u001b[0m\u001b[0;34m'for 2th dataset ENTER: tcga_normal_all'\u001b[0m\u001b[0;34m)\u001b[0m\u001b[0;34m\u001b[0m\u001b[0m\n\u001b[0;32m---> 10\u001b[0;31m     \u001b[0mnumber_3\u001b[0m\u001b[0;34m=\u001b[0m\u001b[0mcount_high_corr_genes_no_overlap\u001b[0m\u001b[0;34m(\u001b[0m\u001b[0minterest_gene\u001b[0m\u001b[0;34m,\u001b[0m\u001b[0mcorrelation_method\u001b[0m\u001b[0;34m,\u001b[0m\u001b[0mcorrelation_cutoff\u001b[0m\u001b[0;34m,\u001b[0m\u001b[0mdf_int\u001b[0m\u001b[0;34m,\u001b[0m\u001b[0mtcga_brca_df_normal_all\u001b[0m\u001b[0;34m)\u001b[0m\u001b[0;34m\u001b[0m\u001b[0m\n\u001b[0m\u001b[1;32m     11\u001b[0m     \u001b[0;31m#4\u001b[0m\u001b[0;34m\u001b[0m\u001b[0;34m\u001b[0m\u001b[0m\n\u001b[1;32m     12\u001b[0m     \u001b[0;31m#print('for 1th dataset ENTER: gtex_all')\u001b[0m\u001b[0;34m\u001b[0m\u001b[0;34m\u001b[0m\u001b[0m\n",
      "\u001b[0;32m<ipython-input-3-3631158982e6>\u001b[0m in \u001b[0;36mcount_high_corr_genes_no_overlap\u001b[0;34m(interest_gene, correlation_method, correlation_cutoff, *processed_datasets)\u001b[0m\n\u001b[1;32m     14\u001b[0m     \u001b[0;32mfor\u001b[0m \u001b[0mdataset\u001b[0m \u001b[0;32min\u001b[0m \u001b[0mprocessed_datasets\u001b[0m\u001b[0;34m:\u001b[0m\u001b[0;34m\u001b[0m\u001b[0m\n\u001b[1;32m     15\u001b[0m         \u001b[0mdataset\u001b[0m\u001b[0;34m=\u001b[0m\u001b[0mcorrelation_selected_gene\u001b[0m\u001b[0;34m(\u001b[0m\u001b[0mdataset\u001b[0m\u001b[0;34m,\u001b[0m\u001b[0minterest_gene\u001b[0m\u001b[0;34m,\u001b[0m\u001b[0mcorrelation_method\u001b[0m\u001b[0;34m)\u001b[0m\u001b[0;34m\u001b[0m\u001b[0m\n\u001b[0;32m---> 16\u001b[0;31m         \u001b[0mdict_empty\u001b[0m\u001b[0;34m[\u001b[0m\u001b[0minput\u001b[0m\u001b[0;34m(\u001b[0m\u001b[0;34mf'insert name for {j+1}th dataset'\u001b[0m\u001b[0;34m)\u001b[0m\u001b[0;34m]\u001b[0m\u001b[0;34m=\u001b[0m\u001b[0mdataset\u001b[0m\u001b[0;34m[\u001b[0m\u001b[0mdataset\u001b[0m\u001b[0;34m>=\u001b[0m\u001b[0mcorrelation_cutoff\u001b[0m\u001b[0;34m]\u001b[0m\u001b[0;34m.\u001b[0m\u001b[0mshape\u001b[0m\u001b[0;34m[\u001b[0m\u001b[0;36m0\u001b[0m\u001b[0;34m]\u001b[0m\u001b[0;34m\u001b[0m\u001b[0m\n\u001b[0m\u001b[1;32m     17\u001b[0m \u001b[0;34m\u001b[0m\u001b[0m\n\u001b[1;32m     18\u001b[0m         \u001b[0mj\u001b[0m\u001b[0;34m+=\u001b[0m\u001b[0;36m1\u001b[0m\u001b[0;34m\u001b[0m\u001b[0m\n",
      "\u001b[0;32m/public/apps/python/3.7.0/lib/python3.7/site-packages/ipykernel/kernelbase.py\u001b[0m in \u001b[0;36mraw_input\u001b[0;34m(self, prompt)\u001b[0m\n\u001b[1;32m    702\u001b[0m             \u001b[0mself\u001b[0m\u001b[0;34m.\u001b[0m\u001b[0m_parent_ident\u001b[0m\u001b[0;34m,\u001b[0m\u001b[0;34m\u001b[0m\u001b[0m\n\u001b[1;32m    703\u001b[0m             \u001b[0mself\u001b[0m\u001b[0;34m.\u001b[0m\u001b[0m_parent_header\u001b[0m\u001b[0;34m,\u001b[0m\u001b[0;34m\u001b[0m\u001b[0m\n\u001b[0;32m--> 704\u001b[0;31m             \u001b[0mpassword\u001b[0m\u001b[0;34m=\u001b[0m\u001b[0;32mFalse\u001b[0m\u001b[0;34m,\u001b[0m\u001b[0;34m\u001b[0m\u001b[0m\n\u001b[0m\u001b[1;32m    705\u001b[0m         )\n\u001b[1;32m    706\u001b[0m \u001b[0;34m\u001b[0m\u001b[0m\n",
      "\u001b[0;32m/public/apps/python/3.7.0/lib/python3.7/site-packages/ipykernel/kernelbase.py\u001b[0m in \u001b[0;36m_input_request\u001b[0;34m(self, prompt, ident, parent, password)\u001b[0m\n\u001b[1;32m    732\u001b[0m             \u001b[0;32mexcept\u001b[0m \u001b[0mKeyboardInterrupt\u001b[0m\u001b[0;34m:\u001b[0m\u001b[0;34m\u001b[0m\u001b[0m\n\u001b[1;32m    733\u001b[0m                 \u001b[0;31m# re-raise KeyboardInterrupt, to truncate traceback\u001b[0m\u001b[0;34m\u001b[0m\u001b[0;34m\u001b[0m\u001b[0m\n\u001b[0;32m--> 734\u001b[0;31m                 \u001b[0;32mraise\u001b[0m \u001b[0mKeyboardInterrupt\u001b[0m\u001b[0;34m\u001b[0m\u001b[0m\n\u001b[0m\u001b[1;32m    735\u001b[0m             \u001b[0;32melse\u001b[0m\u001b[0;34m:\u001b[0m\u001b[0;34m\u001b[0m\u001b[0m\n\u001b[1;32m    736\u001b[0m                 \u001b[0;32mbreak\u001b[0m\u001b[0;34m\u001b[0m\u001b[0m\n",
      "\u001b[0;31mKeyboardInterrupt\u001b[0m: "
     ]
    }
   ],
   "source": [
    "interest_gene='ITGA7'\n",
    "gtex_gct_dataset = 'gene_tpm_2017-06-05_v8_breast_mammary_tissue.gct_2'\n",
    "correlation_method ='pearson'\n",
    "correlation_cutoff = 0.6\n",
    "tcga_hiseq_dataset = '/home/hshadman/integrins_expression/saghar_TCGA_Breast/TCGA_BRCA_HiSeqV2' \n",
    "tcga_hiseq_corresponding_sample_info = '/home/hshadman/integrins_expression/saghar_TCGA_Breast/TCGA.BRCA.sampleMap_BRCA_clinicalMatrix'\n",
    "opposing_corr_cutoff = 0.1\n",
    "\n",
    "# make_data_presentable(interest_gene,correlation_method, correlation_cutoff,opposing_corr_cutoff,gtex_gct_dataset,\n",
    "#                          tcga_hiseq_dataset,tcga_hiseq_corresponding_sample_info)\n",
    "\n",
    "\n",
    "organize_gtex_tcga(interest_gene,correlation_method, correlation_cutoff,opposing_corr_cutoff,gtex_gct_dataset,\n",
    "                         tcga_hiseq_dataset,tcga_hiseq_corresponding_sample_info)"
   ]
  },
  {
   "cell_type": "markdown",
   "metadata": {},
   "source": [
    "# organize as a table (table 1)"
   ]
  },
  {
   "cell_type": "code",
   "execution_count": 58,
   "metadata": {
    "scrolled": true
   },
   "outputs": [
    {
     "name": "stdout",
     "output_type": "stream",
     "text": [
      "for 1th dataset ENTER: gtex_all\n",
      "for 2th dataset ENTER: tcga_normal_all\n",
      "no overlap between datasets\n",
      "insert name for 1th datasetgtex_all\n",
      "insert name for 2th datasettcga_normal_all\n",
      "for dataset ENTER: tcga_normal_all\n",
      "insert name for other datasettcga_normal_all\n",
      "1st: high cutoff applied to gtex dataset\n",
      "2nd: common genes identified with other dataset\n",
      "3rd: both datasets combined\n",
      "4th: High cutoff applied to non-gtex dataset\n",
      "for dataset ENTER: tcga_primtum_all\n",
      "insert name for other datasettcga_primtum_all\n",
      "1st: high cutoff applied to gtex dataset\n",
      "2nd: common genes identified with other dataset\n",
      "3rd: both datasets combined\n",
      "4th: High cutoff applied to non-gtex dataset\n",
      "1st: high cutoff applied to gtex dataset\n",
      "2nd: common genes identified with other datasets\n",
      "3rd: all datasets combined\n",
      "4th: High cutoff applied to non-gtex datasets\n"
     ]
    },
    {
     "data": {
      "text/html": [
       "<table border=\"1\" class=\"dataframe\">\n",
       "  <thead>\n",
       "    <tr style=\"text-align: right;\">\n",
       "      <th></th>\n",
       "      <th>GTEX_highly_correlated</th>\n",
       "      <th>%also_highly_correlated_in_TCGA_normal</th>\n",
       "      <th>%also_highly_correlated_in_TCGA_primtum</th>\n",
       "      <th>%also_highly_correlated_in_all_three</th>\n",
       "    </tr>\n",
       "  </thead>\n",
       "  <tbody>\n",
       "    <tr>\n",
       "      <th>ITGA7</th>\n",
       "      <td>319</td>\n",
       "      <td>77.429467(247)</td>\n",
       "      <td>8.150470(26)</td>\n",
       "      <td>8.150470(26)</td>\n",
       "    </tr>\n",
       "  </tbody>\n",
       "</table>"
      ],
      "text/plain": [
       "<IPython.core.display.HTML object>"
      ]
     },
     "metadata": {},
     "output_type": "display_data"
    },
    {
     "name": "stdout",
     "output_type": "stream",
     "text": [
      "for 1th dataset ENTER: gtex_all\n",
      "for 2th dataset ENTER: tcga_normal_all\n",
      "no overlap between datasets\n",
      "insert name for 1th datasetgtex_all\n",
      "insert name for 2th datasettcga_normal_all\n",
      "for dataset ENTER: tcga_normal_all\n",
      "insert name for other datasettcga_normal_all\n",
      "1st: high cutoff applied to gtex dataset\n",
      "2nd: common genes identified with other dataset\n",
      "3rd: both datasets combined\n",
      "4th: High cutoff applied to non-gtex dataset\n",
      "for dataset ENTER: tcga_primtum_all\n",
      "insert name for other datasettcga_primtum_all\n",
      "1st: high cutoff applied to gtex dataset\n",
      "2nd: common genes identified with other dataset\n",
      "3rd: both datasets combined\n",
      "4th: High cutoff applied to non-gtex dataset\n",
      "1st: high cutoff applied to gtex dataset\n",
      "2nd: common genes identified with other datasets\n",
      "3rd: all datasets combined\n",
      "4th: High cutoff applied to non-gtex datasets\n"
     ]
    },
    {
     "data": {
      "text/html": [
       "<table border=\"1\" class=\"dataframe\">\n",
       "  <thead>\n",
       "    <tr style=\"text-align: right;\">\n",
       "      <th></th>\n",
       "      <th>GTEX_highly_correlated</th>\n",
       "      <th>%also_highly_correlated_in_TCGA_normal</th>\n",
       "      <th>%also_highly_correlated_in_TCGA_primtum</th>\n",
       "      <th>%also_highly_correlated_in_all_three</th>\n",
       "    </tr>\n",
       "  </thead>\n",
       "  <tbody>\n",
       "    <tr>\n",
       "      <th>ITGB8</th>\n",
       "      <td>2783</td>\n",
       "      <td>40.675530(1132)</td>\n",
       "      <td>0.035932(1)</td>\n",
       "      <td>0.035932(1)</td>\n",
       "    </tr>\n",
       "  </tbody>\n",
       "</table>"
      ],
      "text/plain": [
       "<IPython.core.display.HTML object>"
      ]
     },
     "metadata": {},
     "output_type": "display_data"
    },
    {
     "name": "stdout",
     "output_type": "stream",
     "text": [
      "for 1th dataset ENTER: gtex_all\n",
      "for 2th dataset ENTER: tcga_normal_all\n",
      "no overlap between datasets\n",
      "insert name for 1th datasetgtex_all\n",
      "insert name for 2th datasettcga_normal_all\n",
      "for dataset ENTER: tcga_normal_all\n",
      "insert name for other datasettcga_normal_all\n",
      "1st: high cutoff applied to gtex dataset\n",
      "2nd: common genes identified with other dataset\n",
      "3rd: both datasets combined\n",
      "4th: High cutoff applied to non-gtex dataset\n",
      "for dataset ENTER: tcga_primtum_all\n",
      "insert name for other datasettcga_primtum_all\n",
      "1st: high cutoff applied to gtex dataset\n",
      "2nd: common genes identified with other dataset\n",
      "3rd: both datasets combined\n",
      "4th: High cutoff applied to non-gtex dataset\n",
      "1st: high cutoff applied to gtex dataset\n",
      "2nd: common genes identified with other datasets\n",
      "3rd: all datasets combined\n",
      "4th: High cutoff applied to non-gtex datasets\n"
     ]
    },
    {
     "data": {
      "text/html": [
       "<table border=\"1\" class=\"dataframe\">\n",
       "  <thead>\n",
       "    <tr style=\"text-align: right;\">\n",
       "      <th></th>\n",
       "      <th>GTEX_highly_correlated</th>\n",
       "      <th>%also_highly_correlated_in_TCGA_normal</th>\n",
       "      <th>%also_highly_correlated_in_TCGA_primtum</th>\n",
       "      <th>%also_highly_correlated_in_all_three</th>\n",
       "    </tr>\n",
       "  </thead>\n",
       "  <tbody>\n",
       "    <tr>\n",
       "      <th>ITGB6</th>\n",
       "      <td>1613</td>\n",
       "      <td>40.235586(649)</td>\n",
       "      <td>0.061996(1)</td>\n",
       "      <td>0.061996(1)</td>\n",
       "    </tr>\n",
       "  </tbody>\n",
       "</table>"
      ],
      "text/plain": [
       "<IPython.core.display.HTML object>"
      ]
     },
     "metadata": {},
     "output_type": "display_data"
    },
    {
     "name": "stdout",
     "output_type": "stream",
     "text": [
      "for 1th dataset ENTER: gtex_all\n",
      "for 2th dataset ENTER: tcga_normal_all\n",
      "no overlap between datasets\n",
      "insert name for 1th datasetgtex_all\n",
      "insert name for 2th datasettcga_normal_all\n",
      "for dataset ENTER: tcga_normal_all\n",
      "insert name for other datasettcga_normal_all\n",
      "1st: high cutoff applied to gtex dataset\n",
      "2nd: common genes identified with other dataset\n",
      "3rd: both datasets combined\n",
      "4th: High cutoff applied to non-gtex dataset\n",
      "for dataset ENTER: tcga_primtum_all\n",
      "insert name for other datasettcga_primtum_all\n",
      "1st: high cutoff applied to gtex dataset\n",
      "2nd: common genes identified with other dataset\n",
      "3rd: both datasets combined\n",
      "4th: High cutoff applied to non-gtex dataset\n",
      "1st: high cutoff applied to gtex dataset\n",
      "2nd: common genes identified with other datasets\n",
      "3rd: all datasets combined\n",
      "4th: High cutoff applied to non-gtex datasets\n"
     ]
    },
    {
     "data": {
      "text/html": [
       "<table border=\"1\" class=\"dataframe\">\n",
       "  <thead>\n",
       "    <tr style=\"text-align: right;\">\n",
       "      <th></th>\n",
       "      <th>GTEX_highly_correlated</th>\n",
       "      <th>%also_highly_correlated_in_TCGA_normal</th>\n",
       "      <th>%also_highly_correlated_in_TCGA_primtum</th>\n",
       "      <th>%also_highly_correlated_in_all_three</th>\n",
       "    </tr>\n",
       "  </thead>\n",
       "  <tbody>\n",
       "    <tr>\n",
       "      <th>ITGA10</th>\n",
       "      <td>379</td>\n",
       "      <td>38.258575(145)</td>\n",
       "      <td>0.263852(1)</td>\n",
       "      <td>0.263852(1)</td>\n",
       "    </tr>\n",
       "  </tbody>\n",
       "</table>"
      ],
      "text/plain": [
       "<IPython.core.display.HTML object>"
      ]
     },
     "metadata": {},
     "output_type": "display_data"
    },
    {
     "name": "stdout",
     "output_type": "stream",
     "text": [
      "for 1th dataset ENTER: gtex_all\n",
      "for 2th dataset ENTER: tcga_normal_all\n",
      "no overlap between datasets\n",
      "insert name for 1th datasetgtex_all\n",
      "insert name for 2th datasettcga_normal_all\n",
      "for dataset ENTER: tcga_normal_all\n",
      "insert name for other datasettcga_normal_all\n",
      "1st: high cutoff applied to gtex dataset\n",
      "2nd: common genes identified with other dataset\n",
      "3rd: both datasets combined\n",
      "4th: High cutoff applied to non-gtex dataset\n",
      "for dataset ENTER: tcga_primtum_all\n",
      "insert name for other datasettcga_primtum_all\n",
      "1st: high cutoff applied to gtex dataset\n",
      "2nd: common genes identified with other dataset\n",
      "3rd: both datasets combined\n",
      "4th: High cutoff applied to non-gtex dataset\n",
      "1st: high cutoff applied to gtex dataset\n",
      "2nd: common genes identified with other datasets\n",
      "3rd: all datasets combined\n",
      "4th: High cutoff applied to non-gtex datasets\n"
     ]
    },
    {
     "data": {
      "text/html": [
       "<table border=\"1\" class=\"dataframe\">\n",
       "  <thead>\n",
       "    <tr style=\"text-align: right;\">\n",
       "      <th></th>\n",
       "      <th>GTEX_highly_correlated</th>\n",
       "      <th>%also_highly_correlated_in_TCGA_normal</th>\n",
       "      <th>%also_highly_correlated_in_TCGA_primtum</th>\n",
       "      <th>%also_highly_correlated_in_all_three</th>\n",
       "    </tr>\n",
       "  </thead>\n",
       "  <tbody>\n",
       "    <tr>\n",
       "      <th>ITGA6</th>\n",
       "      <td>44</td>\n",
       "      <td>18.181818(8)</td>\n",
       "      <td>2.272727(1)</td>\n",
       "      <td>2.272727(1)</td>\n",
       "    </tr>\n",
       "  </tbody>\n",
       "</table>"
      ],
      "text/plain": [
       "<IPython.core.display.HTML object>"
      ]
     },
     "metadata": {},
     "output_type": "display_data"
    },
    {
     "name": "stdout",
     "output_type": "stream",
     "text": [
      "for 1th dataset ENTER: gtex_all\n",
      "for 2th dataset ENTER: tcga_normal_all\n",
      "no overlap between datasets\n",
      "insert name for 1th datasetgtex_all\n",
      "insert name for 2th datasettcga_normal_all\n",
      "for dataset ENTER: tcga_normal_all\n",
      "insert name for other datasettcga_normal_all\n",
      "1st: high cutoff applied to gtex dataset\n",
      "2nd: common genes identified with other dataset\n",
      "3rd: both datasets combined\n",
      "4th: High cutoff applied to non-gtex dataset\n",
      "for dataset ENTER: tcga_primtum_all\n",
      "insert name for other datasettcga_primtum_all\n",
      "1st: high cutoff applied to gtex dataset\n",
      "2nd: common genes identified with other dataset\n",
      "3rd: both datasets combined\n",
      "4th: High cutoff applied to non-gtex dataset\n",
      "1st: high cutoff applied to gtex dataset\n",
      "2nd: common genes identified with other datasets\n",
      "3rd: all datasets combined\n",
      "4th: High cutoff applied to non-gtex datasets\n"
     ]
    },
    {
     "data": {
      "text/html": [
       "<table border=\"1\" class=\"dataframe\">\n",
       "  <thead>\n",
       "    <tr style=\"text-align: right;\">\n",
       "      <th></th>\n",
       "      <th>GTEX_highly_correlated</th>\n",
       "      <th>%also_highly_correlated_in_TCGA_normal</th>\n",
       "      <th>%also_highly_correlated_in_TCGA_primtum</th>\n",
       "      <th>%also_highly_correlated_in_all_three</th>\n",
       "    </tr>\n",
       "  </thead>\n",
       "  <tbody>\n",
       "    <tr>\n",
       "      <th>ITGA4</th>\n",
       "      <td>116</td>\n",
       "      <td>37.931034(44)</td>\n",
       "      <td>20.689655(24)</td>\n",
       "      <td>18.103448(21)</td>\n",
       "    </tr>\n",
       "  </tbody>\n",
       "</table>"
      ],
      "text/plain": [
       "<IPython.core.display.HTML object>"
      ]
     },
     "metadata": {},
     "output_type": "display_data"
    },
    {
     "name": "stdout",
     "output_type": "stream",
     "text": [
      "for 1th dataset ENTER: gtex_all\n",
      "for 2th dataset ENTER: tcga_normal_all\n",
      "no overlap between datasets\n",
      "insert name for 1th datasetgtex_all\n",
      "insert name for 2th datasettcga_normal_all\n",
      "for dataset ENTER: tcga_normal_all\n",
      "insert name for other datasettcga_normal_all\n",
      "1st: high cutoff applied to gtex dataset\n",
      "2nd: common genes identified with other dataset\n",
      "3rd: both datasets combined\n",
      "4th: High cutoff applied to non-gtex dataset\n",
      "for dataset ENTER: tcga_primtum_all\n",
      "insert name for other datasettcga_primtum_all\n",
      "1st: high cutoff applied to gtex dataset\n",
      "2nd: common genes identified with other dataset\n",
      "3rd: both datasets combined\n",
      "4th: High cutoff applied to non-gtex dataset\n",
      "1st: high cutoff applied to gtex dataset\n",
      "2nd: common genes identified with other datasets\n",
      "3rd: all datasets combined\n",
      "4th: High cutoff applied to non-gtex datasets\n"
     ]
    },
    {
     "data": {
      "text/html": [
       "<table border=\"1\" class=\"dataframe\">\n",
       "  <thead>\n",
       "    <tr style=\"text-align: right;\">\n",
       "      <th></th>\n",
       "      <th>GTEX_highly_correlated</th>\n",
       "      <th>%also_highly_correlated_in_TCGA_normal</th>\n",
       "      <th>%also_highly_correlated_in_TCGA_primtum</th>\n",
       "      <th>%also_highly_correlated_in_all_three</th>\n",
       "    </tr>\n",
       "  </thead>\n",
       "  <tbody>\n",
       "    <tr>\n",
       "      <th>ITGAV</th>\n",
       "      <td>162</td>\n",
       "      <td>73.456790(119)</td>\n",
       "      <td>2.469136(4)</td>\n",
       "      <td>2.469136(4)</td>\n",
       "    </tr>\n",
       "  </tbody>\n",
       "</table>"
      ],
      "text/plain": [
       "<IPython.core.display.HTML object>"
      ]
     },
     "metadata": {},
     "output_type": "display_data"
    },
    {
     "name": "stdout",
     "output_type": "stream",
     "text": [
      "for 1th dataset ENTER: gtex_all\n",
      "for 2th dataset ENTER: tcga_normal_all\n",
      "no overlap between datasets\n",
      "insert name for 1th datasetgtex_all\n",
      "insert name for 2th datasettcga_normal_all\n",
      "for dataset ENTER: tcga_normal_all\n",
      "insert name for other datasettcga_normal_all\n",
      "1st: high cutoff applied to gtex dataset\n",
      "2nd: common genes identified with other dataset\n",
      "3rd: both datasets combined\n",
      "4th: High cutoff applied to non-gtex dataset\n",
      "for dataset ENTER: tcga_primtum_all\n",
      "insert name for other datasettcga_primtum_all\n",
      "1st: high cutoff applied to gtex dataset\n",
      "2nd: common genes identified with other dataset\n",
      "3rd: both datasets combined\n",
      "4th: High cutoff applied to non-gtex dataset\n",
      "1st: high cutoff applied to gtex dataset\n",
      "2nd: common genes identified with other datasets\n",
      "3rd: all datasets combined\n",
      "4th: High cutoff applied to non-gtex datasets\n"
     ]
    },
    {
     "data": {
      "text/html": [
       "<table border=\"1\" class=\"dataframe\">\n",
       "  <thead>\n",
       "    <tr style=\"text-align: right;\">\n",
       "      <th></th>\n",
       "      <th>GTEX_highly_correlated</th>\n",
       "      <th>%also_highly_correlated_in_TCGA_normal</th>\n",
       "      <th>%also_highly_correlated_in_TCGA_primtum</th>\n",
       "      <th>%also_highly_correlated_in_all_three</th>\n",
       "    </tr>\n",
       "  </thead>\n",
       "  <tbody>\n",
       "    <tr>\n",
       "      <th>ITGA9</th>\n",
       "      <td>4</td>\n",
       "      <td>50.000000(2)</td>\n",
       "      <td>25.000000(1)</td>\n",
       "      <td>25.000000(1)</td>\n",
       "    </tr>\n",
       "  </tbody>\n",
       "</table>"
      ],
      "text/plain": [
       "<IPython.core.display.HTML object>"
      ]
     },
     "metadata": {},
     "output_type": "display_data"
    },
    {
     "name": "stdout",
     "output_type": "stream",
     "text": [
      "for 1th dataset ENTER: gtex_all\n",
      "for 2th dataset ENTER: tcga_normal_all\n",
      "no overlap between datasets\n",
      "insert name for 1th datasetgtex_all\n",
      "insert name for 2th datasettcga_normal_all\n",
      "for dataset ENTER: tcga_normal_all\n",
      "insert name for other datasettcga_normal_all\n",
      "1st: high cutoff applied to gtex dataset\n",
      "2nd: common genes identified with other dataset\n",
      "3rd: both datasets combined\n",
      "4th: High cutoff applied to non-gtex dataset\n",
      "for dataset ENTER: tcga_primtum_all\n",
      "insert name for other datasettcga_primtum_all\n",
      "1st: high cutoff applied to gtex dataset\n",
      "2nd: common genes identified with other dataset\n",
      "3rd: both datasets combined\n",
      "4th: High cutoff applied to non-gtex dataset\n",
      "1st: high cutoff applied to gtex dataset\n",
      "2nd: common genes identified with other datasets\n",
      "3rd: all datasets combined\n",
      "4th: High cutoff applied to non-gtex datasets\n"
     ]
    },
    {
     "data": {
      "text/html": [
       "<table border=\"1\" class=\"dataframe\">\n",
       "  <thead>\n",
       "    <tr style=\"text-align: right;\">\n",
       "      <th></th>\n",
       "      <th>GTEX_highly_correlated</th>\n",
       "      <th>%also_highly_correlated_in_TCGA_normal</th>\n",
       "      <th>%also_highly_correlated_in_TCGA_primtum</th>\n",
       "      <th>%also_highly_correlated_in_all_three</th>\n",
       "    </tr>\n",
       "  </thead>\n",
       "  <tbody>\n",
       "    <tr>\n",
       "      <th>ITGB5</th>\n",
       "      <td>24</td>\n",
       "      <td>70.833333(17)</td>\n",
       "      <td>4.166667(1)</td>\n",
       "      <td>4.166667(1)</td>\n",
       "    </tr>\n",
       "  </tbody>\n",
       "</table>"
      ],
      "text/plain": [
       "<IPython.core.display.HTML object>"
      ]
     },
     "metadata": {},
     "output_type": "display_data"
    },
    {
     "name": "stdout",
     "output_type": "stream",
     "text": [
      "for 1th dataset ENTER: gtex_all\n",
      "for 2th dataset ENTER: tcga_normal_all\n",
      "no overlap between datasets\n",
      "insert name for 1th datasetgtex_all\n",
      "insert name for 2th datasettcga_normal_all\n",
      "for dataset ENTER: tcga_normal_all\n",
      "insert name for other datasettcga_normal_all\n",
      "1st: high cutoff applied to gtex dataset\n",
      "2nd: common genes identified with other dataset\n",
      "3rd: both datasets combined\n",
      "4th: High cutoff applied to non-gtex dataset\n",
      "for dataset ENTER: tcga_primtum_all\n",
      "insert name for other datasettcga_primtum_all\n",
      "1st: high cutoff applied to gtex dataset\n",
      "2nd: common genes identified with other dataset\n",
      "3rd: both datasets combined\n",
      "4th: High cutoff applied to non-gtex dataset\n",
      "1st: high cutoff applied to gtex dataset\n",
      "2nd: common genes identified with other datasets\n",
      "3rd: all datasets combined\n",
      "4th: High cutoff applied to non-gtex datasets\n"
     ]
    },
    {
     "data": {
      "text/html": [
       "<table border=\"1\" class=\"dataframe\">\n",
       "  <thead>\n",
       "    <tr style=\"text-align: right;\">\n",
       "      <th></th>\n",
       "      <th>GTEX_highly_correlated</th>\n",
       "      <th>%also_highly_correlated_in_TCGA_normal</th>\n",
       "      <th>%also_highly_correlated_in_TCGA_primtum</th>\n",
       "      <th>%also_highly_correlated_in_all_three</th>\n",
       "    </tr>\n",
       "  </thead>\n",
       "  <tbody>\n",
       "    <tr>\n",
       "      <th>ITGA1</th>\n",
       "      <td>68</td>\n",
       "      <td>72.058824(49)</td>\n",
       "      <td>35.294118(24)</td>\n",
       "      <td>35.294118(24)</td>\n",
       "    </tr>\n",
       "  </tbody>\n",
       "</table>"
      ],
      "text/plain": [
       "<IPython.core.display.HTML object>"
      ]
     },
     "metadata": {},
     "output_type": "display_data"
    },
    {
     "name": "stdout",
     "output_type": "stream",
     "text": [
      "for 1th dataset ENTER: gtex_all\n",
      "for 2th dataset ENTER: tcga_normal_all\n",
      "no overlap between datasets\n",
      "insert name for 1th datasetgtex_all\n",
      "insert name for 2th datasettcga_normal_all\n",
      "for dataset ENTER: tcga_normal_all\n",
      "insert name for other datasettcga_normal_all\n",
      "1st: high cutoff applied to gtex dataset\n",
      "2nd: common genes identified with other dataset\n",
      "3rd: both datasets combined\n",
      "4th: High cutoff applied to non-gtex dataset\n",
      "for dataset ENTER: tcga_primtum_all\n",
      "insert name for other datasettcga_primtum_all\n",
      "1st: high cutoff applied to gtex dataset\n",
      "2nd: common genes identified with other dataset\n",
      "3rd: both datasets combined\n",
      "4th: High cutoff applied to non-gtex dataset\n",
      "1st: high cutoff applied to gtex dataset\n",
      "2nd: common genes identified with other datasets\n",
      "3rd: all datasets combined\n",
      "4th: High cutoff applied to non-gtex datasets\n"
     ]
    },
    {
     "data": {
      "text/html": [
       "<table border=\"1\" class=\"dataframe\">\n",
       "  <thead>\n",
       "    <tr style=\"text-align: right;\">\n",
       "      <th></th>\n",
       "      <th>GTEX_highly_correlated</th>\n",
       "      <th>%also_highly_correlated_in_TCGA_normal</th>\n",
       "      <th>%also_highly_correlated_in_TCGA_primtum</th>\n",
       "      <th>%also_highly_correlated_in_all_three</th>\n",
       "    </tr>\n",
       "  </thead>\n",
       "  <tbody>\n",
       "    <tr>\n",
       "      <th>ITGA2</th>\n",
       "      <td>4047</td>\n",
       "      <td>37.361008(1512)</td>\n",
       "      <td>0.024710(1)</td>\n",
       "      <td>0.024710(1)</td>\n",
       "    </tr>\n",
       "  </tbody>\n",
       "</table>"
      ],
      "text/plain": [
       "<IPython.core.display.HTML object>"
      ]
     },
     "metadata": {},
     "output_type": "display_data"
    },
    {
     "name": "stdout",
     "output_type": "stream",
     "text": [
      "for 1th dataset ENTER: gtex_all\n",
      "for 2th dataset ENTER: tcga_normal_all\n",
      "no overlap between datasets\n",
      "insert name for 1th datasetgtex_all\n",
      "insert name for 2th datasettcga_normal_all\n",
      "for dataset ENTER: tcga_normal_all\n",
      "insert name for other datasettcga_normal_all\n",
      "1st: high cutoff applied to gtex dataset\n",
      "2nd: common genes identified with other dataset\n",
      "3rd: both datasets combined\n",
      "4th: High cutoff applied to non-gtex dataset\n",
      "for dataset ENTER: tcga_primtum_all\n",
      "insert name for other datasettcga_primtum_all\n",
      "1st: high cutoff applied to gtex dataset\n",
      "2nd: common genes identified with other dataset\n",
      "3rd: both datasets combined\n",
      "4th: High cutoff applied to non-gtex dataset\n",
      "1st: high cutoff applied to gtex dataset\n",
      "2nd: common genes identified with other datasets\n",
      "3rd: all datasets combined\n",
      "4th: High cutoff applied to non-gtex datasets\n"
     ]
    },
    {
     "data": {
      "text/html": [
       "<table border=\"1\" class=\"dataframe\">\n",
       "  <thead>\n",
       "    <tr style=\"text-align: right;\">\n",
       "      <th></th>\n",
       "      <th>GTEX_highly_correlated</th>\n",
       "      <th>%also_highly_correlated_in_TCGA_normal</th>\n",
       "      <th>%also_highly_correlated_in_TCGA_primtum</th>\n",
       "      <th>%also_highly_correlated_in_all_three</th>\n",
       "    </tr>\n",
       "  </thead>\n",
       "  <tbody>\n",
       "    <tr>\n",
       "      <th>ITGA8</th>\n",
       "      <td>32</td>\n",
       "      <td>9.375000(3)</td>\n",
       "      <td>3.125000(1)</td>\n",
       "      <td>3.125000(1)</td>\n",
       "    </tr>\n",
       "  </tbody>\n",
       "</table>"
      ],
      "text/plain": [
       "<IPython.core.display.HTML object>"
      ]
     },
     "metadata": {},
     "output_type": "display_data"
    },
    {
     "name": "stdout",
     "output_type": "stream",
     "text": [
      "for 1th dataset ENTER: gtex_all\n",
      "for 2th dataset ENTER: tcga_normal_all\n",
      "no overlap between datasets\n",
      "insert name for 1th datasetgtex_all\n",
      "insert name for 2th datasettcga_normal_all\n",
      "for dataset ENTER: tcga_normal_all\n",
      "insert name for other datasettcga_normal_all\n",
      "1st: high cutoff applied to gtex dataset\n",
      "2nd: common genes identified with other dataset\n",
      "3rd: both datasets combined\n",
      "4th: High cutoff applied to non-gtex dataset\n",
      "for dataset ENTER: tcga_primtum_all\n",
      "insert name for other datasettcga_primtum_all\n",
      "1st: high cutoff applied to gtex dataset\n",
      "2nd: common genes identified with other dataset\n",
      "3rd: both datasets combined\n",
      "4th: High cutoff applied to non-gtex dataset\n",
      "1st: high cutoff applied to gtex dataset\n",
      "2nd: common genes identified with other datasets\n",
      "3rd: all datasets combined\n",
      "4th: High cutoff applied to non-gtex datasets\n"
     ]
    },
    {
     "data": {
      "text/html": [
       "<table border=\"1\" class=\"dataframe\">\n",
       "  <thead>\n",
       "    <tr style=\"text-align: right;\">\n",
       "      <th></th>\n",
       "      <th>GTEX_highly_correlated</th>\n",
       "      <th>%also_highly_correlated_in_TCGA_normal</th>\n",
       "      <th>%also_highly_correlated_in_TCGA_primtum</th>\n",
       "      <th>%also_highly_correlated_in_all_three</th>\n",
       "    </tr>\n",
       "  </thead>\n",
       "  <tbody>\n",
       "    <tr>\n",
       "      <th>ITGB1</th>\n",
       "      <td>71</td>\n",
       "      <td>91.549296(65)</td>\n",
       "      <td>4.225352(3)</td>\n",
       "      <td>4.225352(3)</td>\n",
       "    </tr>\n",
       "  </tbody>\n",
       "</table>"
      ],
      "text/plain": [
       "<IPython.core.display.HTML object>"
      ]
     },
     "metadata": {},
     "output_type": "display_data"
    },
    {
     "name": "stdout",
     "output_type": "stream",
     "text": [
      "for 1th dataset ENTER: gtex_all\n",
      "for 2th dataset ENTER: tcga_normal_all\n",
      "no overlap between datasets\n",
      "insert name for 1th datasetgtex_all\n",
      "insert name for 2th datasettcga_normal_all\n",
      "for dataset ENTER: tcga_normal_all\n",
      "insert name for other datasettcga_normal_all\n",
      "1st: high cutoff applied to gtex dataset\n",
      "2nd: common genes identified with other dataset\n",
      "3rd: both datasets combined\n",
      "4th: High cutoff applied to non-gtex dataset\n",
      "for dataset ENTER: tcga_primtum_all\n",
      "insert name for other datasettcga_primtum_all\n",
      "1st: high cutoff applied to gtex dataset\n",
      "2nd: common genes identified with other dataset\n",
      "3rd: both datasets combined\n",
      "4th: High cutoff applied to non-gtex dataset\n",
      "1st: high cutoff applied to gtex dataset\n",
      "2nd: common genes identified with other datasets\n",
      "3rd: all datasets combined\n",
      "4th: High cutoff applied to non-gtex datasets\n"
     ]
    },
    {
     "data": {
      "text/html": [
       "<table border=\"1\" class=\"dataframe\">\n",
       "  <thead>\n",
       "    <tr style=\"text-align: right;\">\n",
       "      <th></th>\n",
       "      <th>GTEX_highly_correlated</th>\n",
       "      <th>%also_highly_correlated_in_TCGA_normal</th>\n",
       "      <th>%also_highly_correlated_in_TCGA_primtum</th>\n",
       "      <th>%also_highly_correlated_in_all_three</th>\n",
       "    </tr>\n",
       "  </thead>\n",
       "  <tbody>\n",
       "    <tr>\n",
       "      <th>ITGB7</th>\n",
       "      <td>84</td>\n",
       "      <td>34.523810(29)</td>\n",
       "      <td>48.809524(41)</td>\n",
       "      <td>32.142857(27)</td>\n",
       "    </tr>\n",
       "  </tbody>\n",
       "</table>"
      ],
      "text/plain": [
       "<IPython.core.display.HTML object>"
      ]
     },
     "metadata": {},
     "output_type": "display_data"
    },
    {
     "name": "stdout",
     "output_type": "stream",
     "text": [
      "for 1th dataset ENTER: gtex_all\n",
      "for 2th dataset ENTER: tcga_normal_all\n",
      "no overlap between datasets\n",
      "insert name for 1th datasetgtex_all\n",
      "insert name for 2th datasettcga_normal_all\n",
      "for dataset ENTER: tcga_normal_all\n",
      "insert name for other datasettcga_normal_all\n",
      "1st: high cutoff applied to gtex dataset\n",
      "2nd: common genes identified with other dataset\n",
      "3rd: both datasets combined\n",
      "4th: High cutoff applied to non-gtex dataset\n",
      "for dataset ENTER: tcga_primtum_all\n",
      "insert name for other datasettcga_primtum_all\n",
      "1st: high cutoff applied to gtex dataset\n",
      "2nd: common genes identified with other dataset\n",
      "3rd: both datasets combined\n",
      "4th: High cutoff applied to non-gtex dataset\n",
      "1st: high cutoff applied to gtex dataset\n",
      "2nd: common genes identified with other datasets\n",
      "3rd: all datasets combined\n",
      "4th: High cutoff applied to non-gtex datasets\n"
     ]
    },
    {
     "data": {
      "text/html": [
       "<table border=\"1\" class=\"dataframe\">\n",
       "  <thead>\n",
       "    <tr style=\"text-align: right;\">\n",
       "      <th></th>\n",
       "      <th>GTEX_highly_correlated</th>\n",
       "      <th>%also_highly_correlated_in_TCGA_normal</th>\n",
       "      <th>%also_highly_correlated_in_TCGA_primtum</th>\n",
       "      <th>%also_highly_correlated_in_all_three</th>\n",
       "    </tr>\n",
       "  </thead>\n",
       "  <tbody>\n",
       "    <tr>\n",
       "      <th>ITGA5</th>\n",
       "      <td>60</td>\n",
       "      <td>20.000000(12)</td>\n",
       "      <td>5.000000(3)</td>\n",
       "      <td>3.333333(2)</td>\n",
       "    </tr>\n",
       "  </tbody>\n",
       "</table>"
      ],
      "text/plain": [
       "<IPython.core.display.HTML object>"
      ]
     },
     "metadata": {},
     "output_type": "display_data"
    },
    {
     "name": "stdout",
     "output_type": "stream",
     "text": [
      "for 1th dataset ENTER: gtex_all\n",
      "for 2th dataset ENTER: tcga_normal_all\n",
      "no overlap between datasets\n",
      "insert name for 1th datasetgtex_all\n",
      "insert name for 2th datasettcga_normal_all\n",
      "for dataset ENTER: tcga_normal_all\n",
      "insert name for other datasettcga_normal_all\n",
      "1st: high cutoff applied to gtex dataset\n",
      "2nd: common genes identified with other dataset\n",
      "3rd: both datasets combined\n",
      "4th: High cutoff applied to non-gtex dataset\n",
      "for dataset ENTER: tcga_primtum_all\n",
      "insert name for other datasettcga_primtum_all\n",
      "1st: high cutoff applied to gtex dataset\n",
      "2nd: common genes identified with other dataset\n",
      "3rd: both datasets combined\n",
      "4th: High cutoff applied to non-gtex dataset\n",
      "1st: high cutoff applied to gtex dataset\n",
      "2nd: common genes identified with other datasets\n",
      "3rd: all datasets combined\n",
      "4th: High cutoff applied to non-gtex datasets\n"
     ]
    },
    {
     "data": {
      "text/html": [
       "<table border=\"1\" class=\"dataframe\">\n",
       "  <thead>\n",
       "    <tr style=\"text-align: right;\">\n",
       "      <th></th>\n",
       "      <th>GTEX_highly_correlated</th>\n",
       "      <th>%also_highly_correlated_in_TCGA_normal</th>\n",
       "      <th>%also_highly_correlated_in_TCGA_primtum</th>\n",
       "      <th>%also_highly_correlated_in_all_three</th>\n",
       "    </tr>\n",
       "  </thead>\n",
       "  <tbody>\n",
       "    <tr>\n",
       "      <th>ITGBL1</th>\n",
       "      <td>8</td>\n",
       "      <td>25.000000(2)</td>\n",
       "      <td>62.500000(5)</td>\n",
       "      <td>25.000000(2)</td>\n",
       "    </tr>\n",
       "  </tbody>\n",
       "</table>"
      ],
      "text/plain": [
       "<IPython.core.display.HTML object>"
      ]
     },
     "metadata": {},
     "output_type": "display_data"
    },
    {
     "name": "stdout",
     "output_type": "stream",
     "text": [
      "for 1th dataset ENTER: gtex_all\n",
      "for 2th dataset ENTER: tcga_normal_all\n",
      "no overlap between datasets\n",
      "insert name for 1th datasetgtex_all\n",
      "insert name for 2th datasettcga_normal_all\n",
      "for dataset ENTER: tcga_normal_all\n",
      "insert name for other datasettcga_normal_all\n",
      "1st: high cutoff applied to gtex dataset\n",
      "2nd: common genes identified with other dataset\n",
      "3rd: both datasets combined\n",
      "4th: High cutoff applied to non-gtex dataset\n",
      "for dataset ENTER: tcga_primtum_all\n",
      "insert name for other datasettcga_primtum_all\n",
      "1st: high cutoff applied to gtex dataset\n",
      "2nd: common genes identified with other dataset\n",
      "3rd: both datasets combined\n",
      "4th: High cutoff applied to non-gtex dataset\n",
      "1st: high cutoff applied to gtex dataset\n",
      "2nd: common genes identified with other datasets\n",
      "3rd: all datasets combined\n",
      "4th: High cutoff applied to non-gtex datasets\n"
     ]
    },
    {
     "data": {
      "text/html": [
       "<table border=\"1\" class=\"dataframe\">\n",
       "  <thead>\n",
       "    <tr style=\"text-align: right;\">\n",
       "      <th></th>\n",
       "      <th>GTEX_highly_correlated</th>\n",
       "      <th>%also_highly_correlated_in_TCGA_normal</th>\n",
       "      <th>%also_highly_correlated_in_TCGA_primtum</th>\n",
       "      <th>%also_highly_correlated_in_all_three</th>\n",
       "    </tr>\n",
       "  </thead>\n",
       "  <tbody>\n",
       "    <tr>\n",
       "      <th>ITGA11</th>\n",
       "      <td>28</td>\n",
       "      <td>21.428571(6)</td>\n",
       "      <td>17.857143(5)</td>\n",
       "      <td>7.142857(2)</td>\n",
       "    </tr>\n",
       "  </tbody>\n",
       "</table>"
      ],
      "text/plain": [
       "<IPython.core.display.HTML object>"
      ]
     },
     "metadata": {},
     "output_type": "display_data"
    },
    {
     "name": "stdout",
     "output_type": "stream",
     "text": [
      "for 1th dataset ENTER: gtex_all\n",
      "for 2th dataset ENTER: tcga_normal_all\n",
      "no overlap between datasets\n",
      "insert name for 1th datasetgtex_all\n",
      "insert name for 2th datasettcga_normal_all\n",
      "for dataset ENTER: tcga_normal_all\n",
      "insert name for other datasettcga_normal_all\n",
      "1st: high cutoff applied to gtex dataset\n",
      "2nd: common genes identified with other dataset\n",
      "3rd: both datasets combined\n",
      "4th: High cutoff applied to non-gtex dataset\n",
      "for dataset ENTER: tcga_primtum_all\n",
      "insert name for other datasettcga_primtum_all\n",
      "1st: high cutoff applied to gtex dataset\n",
      "2nd: common genes identified with other dataset\n",
      "3rd: both datasets combined\n",
      "4th: High cutoff applied to non-gtex dataset\n",
      "1st: high cutoff applied to gtex dataset\n",
      "2nd: common genes identified with other datasets\n",
      "3rd: all datasets combined\n",
      "4th: High cutoff applied to non-gtex datasets\n"
     ]
    },
    {
     "data": {
      "text/html": [
       "<table border=\"1\" class=\"dataframe\">\n",
       "  <thead>\n",
       "    <tr style=\"text-align: right;\">\n",
       "      <th></th>\n",
       "      <th>GTEX_highly_correlated</th>\n",
       "      <th>%also_highly_correlated_in_TCGA_normal</th>\n",
       "      <th>%also_highly_correlated_in_TCGA_primtum</th>\n",
       "      <th>%also_highly_correlated_in_all_three</th>\n",
       "    </tr>\n",
       "  </thead>\n",
       "  <tbody>\n",
       "    <tr>\n",
       "      <th>ITGAL</th>\n",
       "      <td>103</td>\n",
       "      <td>76.699029(79)</td>\n",
       "      <td>74.757282(77)</td>\n",
       "      <td>66.019417(68)</td>\n",
       "    </tr>\n",
       "  </tbody>\n",
       "</table>"
      ],
      "text/plain": [
       "<IPython.core.display.HTML object>"
      ]
     },
     "metadata": {},
     "output_type": "display_data"
    },
    {
     "name": "stdout",
     "output_type": "stream",
     "text": [
      "for 1th dataset ENTER: gtex_all\n",
      "for 2th dataset ENTER: tcga_normal_all\n",
      "no overlap between datasets\n",
      "insert name for 1th datasetgtex_all\n",
      "insert name for 2th datasettcga_normal_all\n",
      "for dataset ENTER: tcga_normal_all\n",
      "insert name for other datasettcga_normal_all\n",
      "1st: high cutoff applied to gtex dataset\n",
      "2nd: common genes identified with other dataset\n",
      "3rd: both datasets combined\n",
      "4th: High cutoff applied to non-gtex dataset\n",
      "for dataset ENTER: tcga_primtum_all\n",
      "insert name for other datasettcga_primtum_all\n",
      "1st: high cutoff applied to gtex dataset\n",
      "2nd: common genes identified with other dataset\n",
      "3rd: both datasets combined\n",
      "4th: High cutoff applied to non-gtex dataset\n",
      "1st: high cutoff applied to gtex dataset\n",
      "2nd: common genes identified with other datasets\n",
      "3rd: all datasets combined\n",
      "4th: High cutoff applied to non-gtex datasets\n"
     ]
    },
    {
     "data": {
      "text/html": [
       "<table border=\"1\" class=\"dataframe\">\n",
       "  <thead>\n",
       "    <tr style=\"text-align: right;\">\n",
       "      <th></th>\n",
       "      <th>GTEX_highly_correlated</th>\n",
       "      <th>%also_highly_correlated_in_TCGA_normal</th>\n",
       "      <th>%also_highly_correlated_in_TCGA_primtum</th>\n",
       "      <th>%also_highly_correlated_in_all_three</th>\n",
       "    </tr>\n",
       "  </thead>\n",
       "  <tbody>\n",
       "    <tr>\n",
       "      <th>ITGAM</th>\n",
       "      <td>315</td>\n",
       "      <td>43.809524(138)</td>\n",
       "      <td>24.444444(77)</td>\n",
       "      <td>21.587302(68)</td>\n",
       "    </tr>\n",
       "  </tbody>\n",
       "</table>"
      ],
      "text/plain": [
       "<IPython.core.display.HTML object>"
      ]
     },
     "metadata": {},
     "output_type": "display_data"
    },
    {
     "name": "stdout",
     "output_type": "stream",
     "text": [
      "for 1th dataset ENTER: gtex_all\n",
      "for 2th dataset ENTER: tcga_normal_all\n",
      "no overlap between datasets\n",
      "insert name for 1th datasetgtex_all\n",
      "insert name for 2th datasettcga_normal_all\n",
      "for dataset ENTER: tcga_normal_all\n",
      "insert name for other datasettcga_normal_all\n",
      "1st: high cutoff applied to gtex dataset\n",
      "2nd: common genes identified with other dataset\n",
      "3rd: both datasets combined\n",
      "4th: High cutoff applied to non-gtex dataset\n",
      "for dataset ENTER: tcga_primtum_all\n",
      "insert name for other datasettcga_primtum_all\n",
      "1st: high cutoff applied to gtex dataset\n",
      "2nd: common genes identified with other dataset\n",
      "3rd: both datasets combined\n",
      "4th: High cutoff applied to non-gtex dataset\n",
      "1st: high cutoff applied to gtex dataset\n",
      "2nd: common genes identified with other datasets\n",
      "3rd: all datasets combined\n",
      "4th: High cutoff applied to non-gtex datasets\n"
     ]
    },
    {
     "data": {
      "text/html": [
       "<table border=\"1\" class=\"dataframe\">\n",
       "  <thead>\n",
       "    <tr style=\"text-align: right;\">\n",
       "      <th></th>\n",
       "      <th>GTEX_highly_correlated</th>\n",
       "      <th>%also_highly_correlated_in_TCGA_normal</th>\n",
       "      <th>%also_highly_correlated_in_TCGA_primtum</th>\n",
       "      <th>%also_highly_correlated_in_all_three</th>\n",
       "    </tr>\n",
       "  </thead>\n",
       "  <tbody>\n",
       "    <tr>\n",
       "      <th>ITGAX</th>\n",
       "      <td>258</td>\n",
       "      <td>40.310078(104)</td>\n",
       "      <td>37.209302(96)</td>\n",
       "      <td>30.620155(79)</td>\n",
       "    </tr>\n",
       "  </tbody>\n",
       "</table>"
      ],
      "text/plain": [
       "<IPython.core.display.HTML object>"
      ]
     },
     "metadata": {},
     "output_type": "display_data"
    },
    {
     "name": "stdout",
     "output_type": "stream",
     "text": [
      "for 1th dataset ENTER: gtex_all\n",
      "for 2th dataset ENTER: tcga_normal_all\n",
      "no overlap between datasets\n",
      "insert name for 1th datasetgtex_all\n",
      "insert name for 2th datasettcga_normal_all\n",
      "for dataset ENTER: tcga_normal_all\n",
      "insert name for other datasettcga_normal_all\n",
      "1st: high cutoff applied to gtex dataset\n",
      "2nd: common genes identified with other dataset\n",
      "3rd: both datasets combined\n",
      "4th: High cutoff applied to non-gtex dataset\n",
      "for dataset ENTER: tcga_primtum_all\n",
      "insert name for other datasettcga_primtum_all\n",
      "1st: high cutoff applied to gtex dataset\n",
      "2nd: common genes identified with other dataset\n",
      "3rd: both datasets combined\n",
      "4th: High cutoff applied to non-gtex dataset\n",
      "1st: high cutoff applied to gtex dataset\n",
      "2nd: common genes identified with other datasets\n",
      "3rd: all datasets combined\n",
      "4th: High cutoff applied to non-gtex datasets\n"
     ]
    },
    {
     "data": {
      "text/html": [
       "<table border=\"1\" class=\"dataframe\">\n",
       "  <thead>\n",
       "    <tr style=\"text-align: right;\">\n",
       "      <th></th>\n",
       "      <th>GTEX_highly_correlated</th>\n",
       "      <th>%also_highly_correlated_in_TCGA_normal</th>\n",
       "      <th>%also_highly_correlated_in_TCGA_primtum</th>\n",
       "      <th>%also_highly_correlated_in_all_three</th>\n",
       "    </tr>\n",
       "  </thead>\n",
       "  <tbody>\n",
       "    <tr>\n",
       "      <th>ITGAD</th>\n",
       "      <td>4</td>\n",
       "      <td>25.000000(1)</td>\n",
       "      <td>25.000000(1)</td>\n",
       "      <td>25.000000(1)</td>\n",
       "    </tr>\n",
       "  </tbody>\n",
       "</table>"
      ],
      "text/plain": [
       "<IPython.core.display.HTML object>"
      ]
     },
     "metadata": {},
     "output_type": "display_data"
    },
    {
     "name": "stdout",
     "output_type": "stream",
     "text": [
      "for 1th dataset ENTER: gtex_all\n",
      "for 2th dataset ENTER: tcga_normal_all\n",
      "no overlap between datasets\n",
      "insert name for 1th datasetgtex_all\n",
      "insert name for 2th datasettcga_normal_all\n",
      "for dataset ENTER: tcga_normal_all\n",
      "insert name for other datasettcga_normal_all\n",
      "1st: high cutoff applied to gtex dataset\n",
      "2nd: common genes identified with other dataset\n",
      "3rd: both datasets combined\n",
      "4th: High cutoff applied to non-gtex dataset\n",
      "for dataset ENTER: tcga_primtum_all\n",
      "insert name for other datasettcga_primtum_all\n",
      "1st: high cutoff applied to gtex dataset\n",
      "2nd: common genes identified with other dataset\n",
      "3rd: both datasets combined\n",
      "4th: High cutoff applied to non-gtex dataset\n",
      "1st: high cutoff applied to gtex dataset\n",
      "2nd: common genes identified with other datasets\n",
      "3rd: all datasets combined\n",
      "4th: High cutoff applied to non-gtex datasets\n"
     ]
    },
    {
     "data": {
      "text/html": [
       "<table border=\"1\" class=\"dataframe\">\n",
       "  <thead>\n",
       "    <tr style=\"text-align: right;\">\n",
       "      <th></th>\n",
       "      <th>GTEX_highly_correlated</th>\n",
       "      <th>%also_highly_correlated_in_TCGA_normal</th>\n",
       "      <th>%also_highly_correlated_in_TCGA_primtum</th>\n",
       "      <th>%also_highly_correlated_in_all_three</th>\n",
       "    </tr>\n",
       "  </thead>\n",
       "  <tbody>\n",
       "    <tr>\n",
       "      <th>ITGAE</th>\n",
       "      <td>25</td>\n",
       "      <td>12.000000(3)</td>\n",
       "      <td>4.000000(1)</td>\n",
       "      <td>4.000000(1)</td>\n",
       "    </tr>\n",
       "  </tbody>\n",
       "</table>"
      ],
      "text/plain": [
       "<IPython.core.display.HTML object>"
      ]
     },
     "metadata": {},
     "output_type": "display_data"
    },
    {
     "name": "stdout",
     "output_type": "stream",
     "text": [
      "for 1th dataset ENTER: gtex_all\n",
      "for 2th dataset ENTER: tcga_normal_all\n",
      "no overlap between datasets\n",
      "insert name for 1th datasetgtex_all\n",
      "insert name for 2th datasettcga_normal_all\n",
      "for dataset ENTER: tcga_normal_all\n",
      "insert name for other datasettcga_normal_all\n",
      "1st: high cutoff applied to gtex dataset\n",
      "2nd: common genes identified with other dataset\n",
      "3rd: both datasets combined\n",
      "4th: High cutoff applied to non-gtex dataset\n",
      "for dataset ENTER: tcga_primtum_all\n",
      "insert name for other datasettcga_primtum_all\n",
      "1st: high cutoff applied to gtex dataset\n",
      "2nd: common genes identified with other dataset\n",
      "3rd: both datasets combined\n",
      "4th: High cutoff applied to non-gtex dataset\n",
      "1st: high cutoff applied to gtex dataset\n",
      "2nd: common genes identified with other datasets\n",
      "3rd: all datasets combined\n",
      "4th: High cutoff applied to non-gtex datasets\n"
     ]
    },
    {
     "data": {
      "text/html": [
       "<table border=\"1\" class=\"dataframe\">\n",
       "  <thead>\n",
       "    <tr style=\"text-align: right;\">\n",
       "      <th></th>\n",
       "      <th>GTEX_highly_correlated</th>\n",
       "      <th>%also_highly_correlated_in_TCGA_normal</th>\n",
       "      <th>%also_highly_correlated_in_TCGA_primtum</th>\n",
       "      <th>%also_highly_correlated_in_all_three</th>\n",
       "    </tr>\n",
       "  </thead>\n",
       "  <tbody>\n",
       "    <tr>\n",
       "      <th>ITGA2B</th>\n",
       "      <td>6</td>\n",
       "      <td>16.666667(1)</td>\n",
       "      <td>16.666667(1)</td>\n",
       "      <td>16.666667(1)</td>\n",
       "    </tr>\n",
       "  </tbody>\n",
       "</table>"
      ],
      "text/plain": [
       "<IPython.core.display.HTML object>"
      ]
     },
     "metadata": {},
     "output_type": "display_data"
    },
    {
     "name": "stdout",
     "output_type": "stream",
     "text": [
      "for 1th dataset ENTER: gtex_all\n",
      "for 2th dataset ENTER: tcga_normal_all\n",
      "no overlap between datasets\n",
      "insert name for 1th datasetgtex_all\n",
      "insert name for 2th datasettcga_normal_all\n",
      "for dataset ENTER: tcga_normal_all\n",
      "insert name for other datasettcga_normal_all\n",
      "1st: high cutoff applied to gtex dataset\n",
      "2nd: common genes identified with other dataset\n",
      "3rd: both datasets combined\n",
      "4th: High cutoff applied to non-gtex dataset\n",
      "for dataset ENTER: tcga_primtum_all\n",
      "insert name for other datasettcga_primtum_all\n",
      "1st: high cutoff applied to gtex dataset\n",
      "2nd: common genes identified with other dataset\n",
      "3rd: both datasets combined\n",
      "4th: High cutoff applied to non-gtex dataset\n",
      "1st: high cutoff applied to gtex dataset\n",
      "2nd: common genes identified with other datasets\n",
      "3rd: all datasets combined\n",
      "4th: High cutoff applied to non-gtex datasets\n"
     ]
    },
    {
     "data": {
      "text/html": [
       "<table border=\"1\" class=\"dataframe\">\n",
       "  <thead>\n",
       "    <tr style=\"text-align: right;\">\n",
       "      <th></th>\n",
       "      <th>GTEX_highly_correlated</th>\n",
       "      <th>%also_highly_correlated_in_TCGA_normal</th>\n",
       "      <th>%also_highly_correlated_in_TCGA_primtum</th>\n",
       "      <th>%also_highly_correlated_in_all_three</th>\n",
       "    </tr>\n",
       "  </thead>\n",
       "  <tbody>\n",
       "    <tr>\n",
       "      <th>ITGB3</th>\n",
       "      <td>58</td>\n",
       "      <td>12.068966(7)</td>\n",
       "      <td>1.724138(1)</td>\n",
       "      <td>1.724138(1)</td>\n",
       "    </tr>\n",
       "  </tbody>\n",
       "</table>"
      ],
      "text/plain": [
       "<IPython.core.display.HTML object>"
      ]
     },
     "metadata": {},
     "output_type": "display_data"
    },
    {
     "name": "stdout",
     "output_type": "stream",
     "text": [
      "for 1th dataset ENTER: gtex_all\n",
      "for 2th dataset ENTER: tcga_normal_all\n",
      "no overlap between datasets\n",
      "insert name for 1th datasetgtex_all\n",
      "insert name for 2th datasettcga_normal_all\n",
      "for dataset ENTER: tcga_normal_all\n",
      "insert name for other datasettcga_normal_all\n",
      "1st: high cutoff applied to gtex dataset\n",
      "2nd: common genes identified with other dataset\n",
      "3rd: both datasets combined\n",
      "4th: High cutoff applied to non-gtex dataset\n",
      "for dataset ENTER: tcga_primtum_all\n",
      "insert name for other datasettcga_primtum_all\n",
      "1st: high cutoff applied to gtex dataset\n",
      "2nd: common genes identified with other dataset\n",
      "3rd: both datasets combined\n",
      "4th: High cutoff applied to non-gtex dataset\n",
      "1st: high cutoff applied to gtex dataset\n",
      "2nd: common genes identified with other datasets\n",
      "3rd: all datasets combined\n",
      "4th: High cutoff applied to non-gtex datasets\n"
     ]
    },
    {
     "data": {
      "text/html": [
       "<table border=\"1\" class=\"dataframe\">\n",
       "  <thead>\n",
       "    <tr style=\"text-align: right;\">\n",
       "      <th></th>\n",
       "      <th>GTEX_highly_correlated</th>\n",
       "      <th>%also_highly_correlated_in_TCGA_normal</th>\n",
       "      <th>%also_highly_correlated_in_TCGA_primtum</th>\n",
       "      <th>%also_highly_correlated_in_all_three</th>\n",
       "    </tr>\n",
       "  </thead>\n",
       "  <tbody>\n",
       "    <tr>\n",
       "      <th>ITGA3</th>\n",
       "      <td>1431</td>\n",
       "      <td>48.916841(700)</td>\n",
       "      <td>0.069881(1)</td>\n",
       "      <td>0.069881(1)</td>\n",
       "    </tr>\n",
       "  </tbody>\n",
       "</table>"
      ],
      "text/plain": [
       "<IPython.core.display.HTML object>"
      ]
     },
     "metadata": {},
     "output_type": "display_data"
    },
    {
     "name": "stdout",
     "output_type": "stream",
     "text": [
      "for 1th dataset ENTER: gtex_all\n",
      "for 2th dataset ENTER: tcga_normal_all\n",
      "no overlap between datasets\n",
      "insert name for 1th datasetgtex_all\n",
      "insert name for 2th datasettcga_normal_all\n",
      "for dataset ENTER: tcga_normal_all\n",
      "insert name for other datasettcga_normal_all\n",
      "1st: high cutoff applied to gtex dataset\n",
      "2nd: common genes identified with other dataset\n",
      "3rd: both datasets combined\n",
      "4th: High cutoff applied to non-gtex dataset\n",
      "for dataset ENTER: tcga_primtum_all\n",
      "insert name for other datasettcga_primtum_all\n",
      "1st: high cutoff applied to gtex dataset\n",
      "2nd: common genes identified with other dataset\n",
      "3rd: both datasets combined\n",
      "4th: High cutoff applied to non-gtex dataset\n",
      "1st: high cutoff applied to gtex dataset\n",
      "2nd: common genes identified with other datasets\n",
      "3rd: all datasets combined\n",
      "4th: High cutoff applied to non-gtex datasets\n"
     ]
    },
    {
     "data": {
      "text/html": [
       "<table border=\"1\" class=\"dataframe\">\n",
       "  <thead>\n",
       "    <tr style=\"text-align: right;\">\n",
       "      <th></th>\n",
       "      <th>GTEX_highly_correlated</th>\n",
       "      <th>%also_highly_correlated_in_TCGA_normal</th>\n",
       "      <th>%also_highly_correlated_in_TCGA_primtum</th>\n",
       "      <th>%also_highly_correlated_in_all_three</th>\n",
       "    </tr>\n",
       "  </thead>\n",
       "  <tbody>\n",
       "    <tr>\n",
       "      <th>ITGB4</th>\n",
       "      <td>1619</td>\n",
       "      <td>47.621989(771)</td>\n",
       "      <td>0.061767(1)</td>\n",
       "      <td>0.061767(1)</td>\n",
       "    </tr>\n",
       "  </tbody>\n",
       "</table>"
      ],
      "text/plain": [
       "<IPython.core.display.HTML object>"
      ]
     },
     "metadata": {},
     "output_type": "display_data"
    },
    {
     "name": "stdout",
     "output_type": "stream",
     "text": [
      "for 1th dataset ENTER: gtex_all\n",
      "for 2th dataset ENTER: tcga_normal_all\n",
      "no overlap between datasets\n",
      "insert name for 1th datasetgtex_all\n",
      "insert name for 2th datasettcga_normal_all\n",
      "for dataset ENTER: tcga_normal_all\n",
      "insert name for other datasettcga_normal_all\n",
      "1st: high cutoff applied to gtex dataset\n",
      "2nd: common genes identified with other dataset\n",
      "3rd: both datasets combined\n",
      "4th: High cutoff applied to non-gtex dataset\n",
      "for dataset ENTER: tcga_primtum_all\n",
      "insert name for other datasettcga_primtum_all\n",
      "1st: high cutoff applied to gtex dataset\n",
      "2nd: common genes identified with other dataset\n",
      "3rd: both datasets combined\n",
      "4th: High cutoff applied to non-gtex dataset\n",
      "1st: high cutoff applied to gtex dataset\n",
      "2nd: common genes identified with other datasets\n",
      "3rd: all datasets combined\n",
      "4th: High cutoff applied to non-gtex datasets\n"
     ]
    },
    {
     "data": {
      "text/html": [
       "<table border=\"1\" class=\"dataframe\">\n",
       "  <thead>\n",
       "    <tr style=\"text-align: right;\">\n",
       "      <th></th>\n",
       "      <th>GTEX_highly_correlated</th>\n",
       "      <th>%also_highly_correlated_in_TCGA_normal</th>\n",
       "      <th>%also_highly_correlated_in_TCGA_primtum</th>\n",
       "      <th>%also_highly_correlated_in_all_three</th>\n",
       "    </tr>\n",
       "  </thead>\n",
       "  <tbody>\n",
       "    <tr>\n",
       "      <th>ITGB2</th>\n",
       "      <td>294</td>\n",
       "      <td>45.918367(135)</td>\n",
       "      <td>40.816327(120)</td>\n",
       "      <td>32.993197(97)</td>\n",
       "    </tr>\n",
       "  </tbody>\n",
       "</table>"
      ],
      "text/plain": [
       "<IPython.core.display.HTML object>"
      ]
     },
     "metadata": {},
     "output_type": "display_data"
    }
   ],
   "source": [
    "integrins_list=['ITGA7','ITGB8','ITGB6','ITGA10','ITGA6','ITGA4','ITGAV','ITGA9','ITGB5','ITGA1','ITGA2','ITGA8',\n",
    "'ITGB1','ITGB7','ITGA5','ITGBL1','ITGA11','ITGAL','ITGAM','ITGAX','ITGAD','ITGAE','ITGA2B','ITGB3','ITGA3',\n",
    "                'ITGB4','ITGB2']\n",
    "\n",
    "gtex_gct_dataset = 'gene_tpm_2017-06-05_v8_breast_mammary_tissue.gct_2'\n",
    "correlation_method ='pearson'\n",
    "correlation_cutoff = 0.6\n",
    "tcga_hiseq_dataset = '/home/hshadman/integrins_expression/saghar_TCGA_Breast/TCGA_BRCA_HiSeqV2' \n",
    "tcga_hiseq_corresponding_sample_info = '/home/hshadman/integrins_expression/saghar_TCGA_Breast/TCGA.BRCA.sampleMap_BRCA_clinicalMatrix'\n",
    "opposing_corr_cutoff = 0.1\n",
    "\n",
    "# make_data_presentable(interest_gene,correlation_method, correlation_cutoff,opposing_corr_cutoff,gtex_gct_dataset,\n",
    "#                          tcga_hiseq_dataset,tcga_hiseq_corresponding_sample_info)\n",
    "\n",
    "for interest_gene in integrins_list:\n",
    "    organize_gtex_tcga(interest_gene,correlation_method, correlation_cutoff,opposing_corr_cutoff,gtex_gct_dataset,\n",
    "                             tcga_hiseq_dataset,tcga_hiseq_corresponding_sample_info)\n",
    "\n",
    "\n"
   ]
  },
  {
   "cell_type": "markdown",
   "metadata": {},
   "source": [
    "# organize as a table (table 3)"
   ]
  },
  {
   "cell_type": "code",
   "execution_count": 72,
   "metadata": {
    "scrolled": false
   },
   "outputs": [
    {
     "name": "stdout",
     "output_type": "stream",
     "text": [
      "for 1th dataset ENTER: gtex_all\n",
      "for 2th dataset ENTER: tcga_normal_all\n",
      "no overlap between datasets\n",
      "insert name for 1th datasetgtex_all\n",
      "insert name for 2th datasettcga_normal_all\n",
      "for 1th dataset ENTER: gtex_all\n",
      "for 2th dataset ENTER: tcga_primtum_all\n",
      "no overlap between datasets\n",
      "insert name for 1th datasetgtex_all\n",
      "insert name for 2th datasettcga_primtum_all\n"
     ]
    },
    {
     "data": {
      "text/html": [
       "<table border=\"1\" class=\"dataframe\">\n",
       "  <thead>\n",
       "    <tr style=\"text-align: right;\">\n",
       "      <th></th>\n",
       "      <th>GTEX_expression_mean_&amp;_stdev</th>\n",
       "      <th>GTEX_highly_correlated</th>\n",
       "      <th>highly_correlated_in_TCGA_normal</th>\n",
       "      <th>highly_corelated_in_TCGA_primtum</th>\n",
       "    </tr>\n",
       "  </thead>\n",
       "  <tbody>\n",
       "    <tr>\n",
       "      <th>ITGA7</th>\n",
       "      <td>152.55 + 102.06</td>\n",
       "      <td>319</td>\n",
       "      <td>1469</td>\n",
       "      <td>119</td>\n",
       "    </tr>\n",
       "  </tbody>\n",
       "</table>"
      ],
      "text/plain": [
       "<IPython.core.display.HTML object>"
      ]
     },
     "metadata": {},
     "output_type": "display_data"
    },
    {
     "name": "stdout",
     "output_type": "stream",
     "text": [
      "for 1th dataset ENTER: gtex_all\n",
      "for 2th dataset ENTER: tcga_normal_all\n",
      "no overlap between datasets\n",
      "insert name for 1th datasetgtex_all\n",
      "insert name for 2th datasettcga_normal_all\n",
      "for 1th dataset ENTER: gtex_all\n",
      "for 2th dataset ENTER: tcga_primtum_all\n",
      "no overlap between datasets\n",
      "insert name for 1th datasetgtex_all\n",
      "insert name for 2th datasettcga_primtum_all\n"
     ]
    },
    {
     "data": {
      "text/html": [
       "<table border=\"1\" class=\"dataframe\">\n",
       "  <thead>\n",
       "    <tr style=\"text-align: right;\">\n",
       "      <th></th>\n",
       "      <th>GTEX_expression_mean_&amp;_stdev</th>\n",
       "      <th>GTEX_highly_correlated</th>\n",
       "      <th>highly_correlated_in_TCGA_normal</th>\n",
       "      <th>highly_corelated_in_TCGA_primtum</th>\n",
       "    </tr>\n",
       "  </thead>\n",
       "  <tbody>\n",
       "    <tr>\n",
       "      <th>ITGB8</th>\n",
       "      <td>8.35 + 8.82</td>\n",
       "      <td>2783</td>\n",
       "      <td>2773</td>\n",
       "      <td>1</td>\n",
       "    </tr>\n",
       "  </tbody>\n",
       "</table>"
      ],
      "text/plain": [
       "<IPython.core.display.HTML object>"
      ]
     },
     "metadata": {},
     "output_type": "display_data"
    },
    {
     "name": "stdout",
     "output_type": "stream",
     "text": [
      "for 1th dataset ENTER: gtex_all\n",
      "for 2th dataset ENTER: tcga_normal_all\n",
      "no overlap between datasets\n",
      "insert name for 1th datasetgtex_all\n",
      "insert name for 2th datasettcga_normal_all\n",
      "for 1th dataset ENTER: gtex_all\n",
      "for 2th dataset ENTER: tcga_primtum_all\n",
      "no overlap between datasets\n",
      "insert name for 1th datasetgtex_all\n",
      "insert name for 2th datasettcga_primtum_all\n"
     ]
    },
    {
     "data": {
      "text/html": [
       "<table border=\"1\" class=\"dataframe\">\n",
       "  <thead>\n",
       "    <tr style=\"text-align: right;\">\n",
       "      <th></th>\n",
       "      <th>GTEX_expression_mean_&amp;_stdev</th>\n",
       "      <th>GTEX_highly_correlated</th>\n",
       "      <th>highly_correlated_in_TCGA_normal</th>\n",
       "      <th>highly_corelated_in_TCGA_primtum</th>\n",
       "    </tr>\n",
       "  </thead>\n",
       "  <tbody>\n",
       "    <tr>\n",
       "      <th>ITGB6</th>\n",
       "      <td>8.01 + 10.91</td>\n",
       "      <td>1613</td>\n",
       "      <td>1906</td>\n",
       "      <td>1</td>\n",
       "    </tr>\n",
       "  </tbody>\n",
       "</table>"
      ],
      "text/plain": [
       "<IPython.core.display.HTML object>"
      ]
     },
     "metadata": {},
     "output_type": "display_data"
    },
    {
     "name": "stdout",
     "output_type": "stream",
     "text": [
      "for 1th dataset ENTER: gtex_all\n",
      "for 2th dataset ENTER: tcga_normal_all\n",
      "no overlap between datasets\n",
      "insert name for 1th datasetgtex_all\n",
      "insert name for 2th datasettcga_normal_all\n",
      "for 1th dataset ENTER: gtex_all\n",
      "for 2th dataset ENTER: tcga_primtum_all\n",
      "no overlap between datasets\n",
      "insert name for 1th datasetgtex_all\n",
      "insert name for 2th datasettcga_primtum_all\n"
     ]
    },
    {
     "data": {
      "text/html": [
       "<table border=\"1\" class=\"dataframe\">\n",
       "  <thead>\n",
       "    <tr style=\"text-align: right;\">\n",
       "      <th></th>\n",
       "      <th>GTEX_expression_mean_&amp;_stdev</th>\n",
       "      <th>GTEX_highly_correlated</th>\n",
       "      <th>highly_correlated_in_TCGA_normal</th>\n",
       "      <th>highly_corelated_in_TCGA_primtum</th>\n",
       "    </tr>\n",
       "  </thead>\n",
       "  <tbody>\n",
       "    <tr>\n",
       "      <th>ITGA10</th>\n",
       "      <td>18.64 + 21.48</td>\n",
       "      <td>379</td>\n",
       "      <td>2256</td>\n",
       "      <td>1</td>\n",
       "    </tr>\n",
       "  </tbody>\n",
       "</table>"
      ],
      "text/plain": [
       "<IPython.core.display.HTML object>"
      ]
     },
     "metadata": {},
     "output_type": "display_data"
    },
    {
     "name": "stdout",
     "output_type": "stream",
     "text": [
      "for 1th dataset ENTER: gtex_all\n",
      "for 2th dataset ENTER: tcga_normal_all\n",
      "no overlap between datasets\n",
      "insert name for 1th datasetgtex_all\n",
      "insert name for 2th datasettcga_normal_all\n",
      "for 1th dataset ENTER: gtex_all\n",
      "for 2th dataset ENTER: tcga_primtum_all\n",
      "no overlap between datasets\n",
      "insert name for 1th datasetgtex_all\n",
      "insert name for 2th datasettcga_primtum_all\n"
     ]
    },
    {
     "data": {
      "text/html": [
       "<table border=\"1\" class=\"dataframe\">\n",
       "  <thead>\n",
       "    <tr style=\"text-align: right;\">\n",
       "      <th></th>\n",
       "      <th>GTEX_expression_mean_&amp;_stdev</th>\n",
       "      <th>GTEX_highly_correlated</th>\n",
       "      <th>highly_correlated_in_TCGA_normal</th>\n",
       "      <th>highly_corelated_in_TCGA_primtum</th>\n",
       "    </tr>\n",
       "  </thead>\n",
       "  <tbody>\n",
       "    <tr>\n",
       "      <th>ITGA6</th>\n",
       "      <td>74.20 + 27.93</td>\n",
       "      <td>44</td>\n",
       "      <td>946</td>\n",
       "      <td>1</td>\n",
       "    </tr>\n",
       "  </tbody>\n",
       "</table>"
      ],
      "text/plain": [
       "<IPython.core.display.HTML object>"
      ]
     },
     "metadata": {},
     "output_type": "display_data"
    },
    {
     "name": "stdout",
     "output_type": "stream",
     "text": [
      "for 1th dataset ENTER: gtex_all\n",
      "for 2th dataset ENTER: tcga_normal_all\n",
      "no overlap between datasets\n",
      "insert name for 1th datasetgtex_all\n",
      "insert name for 2th datasettcga_normal_all\n",
      "for 1th dataset ENTER: gtex_all\n",
      "for 2th dataset ENTER: tcga_primtum_all\n",
      "no overlap between datasets\n",
      "insert name for 1th datasetgtex_all\n",
      "insert name for 2th datasettcga_primtum_all\n"
     ]
    },
    {
     "data": {
      "text/html": [
       "<table border=\"1\" class=\"dataframe\">\n",
       "  <thead>\n",
       "    <tr style=\"text-align: right;\">\n",
       "      <th></th>\n",
       "      <th>GTEX_expression_mean_&amp;_stdev</th>\n",
       "      <th>GTEX_highly_correlated</th>\n",
       "      <th>highly_correlated_in_TCGA_normal</th>\n",
       "      <th>highly_corelated_in_TCGA_primtum</th>\n",
       "    </tr>\n",
       "  </thead>\n",
       "  <tbody>\n",
       "    <tr>\n",
       "      <th>ITGA4</th>\n",
       "      <td>2.54 + 1.81</td>\n",
       "      <td>116</td>\n",
       "      <td>416</td>\n",
       "      <td>187</td>\n",
       "    </tr>\n",
       "  </tbody>\n",
       "</table>"
      ],
      "text/plain": [
       "<IPython.core.display.HTML object>"
      ]
     },
     "metadata": {},
     "output_type": "display_data"
    },
    {
     "name": "stdout",
     "output_type": "stream",
     "text": [
      "for 1th dataset ENTER: gtex_all\n",
      "for 2th dataset ENTER: tcga_normal_all\n",
      "no overlap between datasets\n",
      "insert name for 1th datasetgtex_all\n",
      "insert name for 2th datasettcga_normal_all\n",
      "for 1th dataset ENTER: gtex_all\n",
      "for 2th dataset ENTER: tcga_primtum_all\n",
      "no overlap between datasets\n",
      "insert name for 1th datasetgtex_all\n",
      "insert name for 2th datasettcga_primtum_all\n"
     ]
    },
    {
     "data": {
      "text/html": [
       "<table border=\"1\" class=\"dataframe\">\n",
       "  <thead>\n",
       "    <tr style=\"text-align: right;\">\n",
       "      <th></th>\n",
       "      <th>GTEX_expression_mean_&amp;_stdev</th>\n",
       "      <th>GTEX_highly_correlated</th>\n",
       "      <th>highly_correlated_in_TCGA_normal</th>\n",
       "      <th>highly_corelated_in_TCGA_primtum</th>\n",
       "    </tr>\n",
       "  </thead>\n",
       "  <tbody>\n",
       "    <tr>\n",
       "      <th>ITGAV</th>\n",
       "      <td>33.55 + 10.38</td>\n",
       "      <td>162</td>\n",
       "      <td>943</td>\n",
       "      <td>82</td>\n",
       "    </tr>\n",
       "  </tbody>\n",
       "</table>"
      ],
      "text/plain": [
       "<IPython.core.display.HTML object>"
      ]
     },
     "metadata": {},
     "output_type": "display_data"
    },
    {
     "name": "stdout",
     "output_type": "stream",
     "text": [
      "for 1th dataset ENTER: gtex_all\n",
      "for 2th dataset ENTER: tcga_normal_all\n",
      "no overlap between datasets\n",
      "insert name for 1th datasetgtex_all\n",
      "insert name for 2th datasettcga_normal_all\n",
      "for 1th dataset ENTER: gtex_all\n",
      "for 2th dataset ENTER: tcga_primtum_all\n",
      "no overlap between datasets\n",
      "insert name for 1th datasetgtex_all\n",
      "insert name for 2th datasettcga_primtum_all\n"
     ]
    },
    {
     "data": {
      "text/html": [
       "<table border=\"1\" class=\"dataframe\">\n",
       "  <thead>\n",
       "    <tr style=\"text-align: right;\">\n",
       "      <th></th>\n",
       "      <th>GTEX_expression_mean_&amp;_stdev</th>\n",
       "      <th>GTEX_highly_correlated</th>\n",
       "      <th>highly_correlated_in_TCGA_normal</th>\n",
       "      <th>highly_corelated_in_TCGA_primtum</th>\n",
       "    </tr>\n",
       "  </thead>\n",
       "  <tbody>\n",
       "    <tr>\n",
       "      <th>ITGA9</th>\n",
       "      <td>10.79 + 4.00</td>\n",
       "      <td>4</td>\n",
       "      <td>667</td>\n",
       "      <td>10</td>\n",
       "    </tr>\n",
       "  </tbody>\n",
       "</table>"
      ],
      "text/plain": [
       "<IPython.core.display.HTML object>"
      ]
     },
     "metadata": {},
     "output_type": "display_data"
    },
    {
     "name": "stdout",
     "output_type": "stream",
     "text": [
      "for 1th dataset ENTER: gtex_all\n",
      "for 2th dataset ENTER: tcga_normal_all\n",
      "no overlap between datasets\n",
      "insert name for 1th datasetgtex_all\n",
      "insert name for 2th datasettcga_normal_all\n",
      "for 1th dataset ENTER: gtex_all\n",
      "for 2th dataset ENTER: tcga_primtum_all\n",
      "no overlap between datasets\n",
      "insert name for 1th datasetgtex_all\n",
      "insert name for 2th datasettcga_primtum_all\n"
     ]
    },
    {
     "data": {
      "text/html": [
       "<table border=\"1\" class=\"dataframe\">\n",
       "  <thead>\n",
       "    <tr style=\"text-align: right;\">\n",
       "      <th></th>\n",
       "      <th>GTEX_expression_mean_&amp;_stdev</th>\n",
       "      <th>GTEX_highly_correlated</th>\n",
       "      <th>highly_correlated_in_TCGA_normal</th>\n",
       "      <th>highly_corelated_in_TCGA_primtum</th>\n",
       "    </tr>\n",
       "  </thead>\n",
       "  <tbody>\n",
       "    <tr>\n",
       "      <th>ITGB5</th>\n",
       "      <td>105.48 + 37.79</td>\n",
       "      <td>24</td>\n",
       "      <td>529</td>\n",
       "      <td>4</td>\n",
       "    </tr>\n",
       "  </tbody>\n",
       "</table>"
      ],
      "text/plain": [
       "<IPython.core.display.HTML object>"
      ]
     },
     "metadata": {},
     "output_type": "display_data"
    },
    {
     "name": "stdout",
     "output_type": "stream",
     "text": [
      "for 1th dataset ENTER: gtex_all\n",
      "for 2th dataset ENTER: tcga_normal_all\n",
      "no overlap between datasets\n",
      "insert name for 1th datasetgtex_all\n",
      "insert name for 2th datasettcga_normal_all\n",
      "for 1th dataset ENTER: gtex_all\n",
      "for 2th dataset ENTER: tcga_primtum_all\n",
      "no overlap between datasets\n",
      "insert name for 1th datasetgtex_all\n",
      "insert name for 2th datasettcga_primtum_all\n"
     ]
    },
    {
     "data": {
      "text/html": [
       "<table border=\"1\" class=\"dataframe\">\n",
       "  <thead>\n",
       "    <tr style=\"text-align: right;\">\n",
       "      <th></th>\n",
       "      <th>GTEX_expression_mean_&amp;_stdev</th>\n",
       "      <th>GTEX_highly_correlated</th>\n",
       "      <th>highly_correlated_in_TCGA_normal</th>\n",
       "      <th>highly_corelated_in_TCGA_primtum</th>\n",
       "    </tr>\n",
       "  </thead>\n",
       "  <tbody>\n",
       "    <tr>\n",
       "      <th>ITGA1</th>\n",
       "      <td>25.24 + 11.05</td>\n",
       "      <td>68</td>\n",
       "      <td>1194</td>\n",
       "      <td>177</td>\n",
       "    </tr>\n",
       "  </tbody>\n",
       "</table>"
      ],
      "text/plain": [
       "<IPython.core.display.HTML object>"
      ]
     },
     "metadata": {},
     "output_type": "display_data"
    },
    {
     "name": "stdout",
     "output_type": "stream",
     "text": [
      "for 1th dataset ENTER: gtex_all\n",
      "for 2th dataset ENTER: tcga_normal_all\n",
      "no overlap between datasets\n",
      "insert name for 1th datasetgtex_all\n",
      "insert name for 2th datasettcga_normal_all\n",
      "for 1th dataset ENTER: gtex_all\n",
      "for 2th dataset ENTER: tcga_primtum_all\n",
      "no overlap between datasets\n",
      "insert name for 1th datasetgtex_all\n",
      "insert name for 2th datasettcga_primtum_all\n"
     ]
    },
    {
     "data": {
      "text/html": [
       "<table border=\"1\" class=\"dataframe\">\n",
       "  <thead>\n",
       "    <tr style=\"text-align: right;\">\n",
       "      <th></th>\n",
       "      <th>GTEX_expression_mean_&amp;_stdev</th>\n",
       "      <th>GTEX_highly_correlated</th>\n",
       "      <th>highly_correlated_in_TCGA_normal</th>\n",
       "      <th>highly_corelated_in_TCGA_primtum</th>\n",
       "    </tr>\n",
       "  </thead>\n",
       "  <tbody>\n",
       "    <tr>\n",
       "      <th>ITGA2</th>\n",
       "      <td>6.58 + 6.18</td>\n",
       "      <td>4047</td>\n",
       "      <td>2960</td>\n",
       "      <td>1</td>\n",
       "    </tr>\n",
       "  </tbody>\n",
       "</table>"
      ],
      "text/plain": [
       "<IPython.core.display.HTML object>"
      ]
     },
     "metadata": {},
     "output_type": "display_data"
    },
    {
     "name": "stdout",
     "output_type": "stream",
     "text": [
      "for 1th dataset ENTER: gtex_all\n",
      "for 2th dataset ENTER: tcga_normal_all\n",
      "no overlap between datasets\n",
      "insert name for 1th datasetgtex_all\n",
      "insert name for 2th datasettcga_normal_all\n",
      "for 1th dataset ENTER: gtex_all\n",
      "for 2th dataset ENTER: tcga_primtum_all\n",
      "no overlap between datasets\n",
      "insert name for 1th datasetgtex_all\n",
      "insert name for 2th datasettcga_primtum_all\n"
     ]
    },
    {
     "data": {
      "text/html": [
       "<table border=\"1\" class=\"dataframe\">\n",
       "  <thead>\n",
       "    <tr style=\"text-align: right;\">\n",
       "      <th></th>\n",
       "      <th>GTEX_expression_mean_&amp;_stdev</th>\n",
       "      <th>GTEX_highly_correlated</th>\n",
       "      <th>highly_correlated_in_TCGA_normal</th>\n",
       "      <th>highly_corelated_in_TCGA_primtum</th>\n",
       "    </tr>\n",
       "  </thead>\n",
       "  <tbody>\n",
       "    <tr>\n",
       "      <th>ITGA8</th>\n",
       "      <td>5.36 + 10.32</td>\n",
       "      <td>32</td>\n",
       "      <td>234</td>\n",
       "      <td>94</td>\n",
       "    </tr>\n",
       "  </tbody>\n",
       "</table>"
      ],
      "text/plain": [
       "<IPython.core.display.HTML object>"
      ]
     },
     "metadata": {},
     "output_type": "display_data"
    },
    {
     "name": "stdout",
     "output_type": "stream",
     "text": [
      "for 1th dataset ENTER: gtex_all\n",
      "for 2th dataset ENTER: tcga_normal_all\n",
      "no overlap between datasets\n",
      "insert name for 1th datasetgtex_all\n",
      "insert name for 2th datasettcga_normal_all\n",
      "for 1th dataset ENTER: gtex_all\n",
      "for 2th dataset ENTER: tcga_primtum_all\n",
      "no overlap between datasets\n",
      "insert name for 1th datasetgtex_all\n",
      "insert name for 2th datasettcga_primtum_all\n"
     ]
    },
    {
     "data": {
      "text/html": [
       "<table border=\"1\" class=\"dataframe\">\n",
       "  <thead>\n",
       "    <tr style=\"text-align: right;\">\n",
       "      <th></th>\n",
       "      <th>GTEX_expression_mean_&amp;_stdev</th>\n",
       "      <th>GTEX_highly_correlated</th>\n",
       "      <th>highly_correlated_in_TCGA_normal</th>\n",
       "      <th>highly_corelated_in_TCGA_primtum</th>\n",
       "    </tr>\n",
       "  </thead>\n",
       "  <tbody>\n",
       "    <tr>\n",
       "      <th>ITGB1</th>\n",
       "      <td>165.20 + 60.53</td>\n",
       "      <td>71</td>\n",
       "      <td>1365</td>\n",
       "      <td>59</td>\n",
       "    </tr>\n",
       "  </tbody>\n",
       "</table>"
      ],
      "text/plain": [
       "<IPython.core.display.HTML object>"
      ]
     },
     "metadata": {},
     "output_type": "display_data"
    },
    {
     "name": "stdout",
     "output_type": "stream",
     "text": [
      "for 1th dataset ENTER: gtex_all\n",
      "for 2th dataset ENTER: tcga_normal_all\n",
      "no overlap between datasets\n",
      "insert name for 1th datasetgtex_all\n",
      "insert name for 2th datasettcga_normal_all\n",
      "for 1th dataset ENTER: gtex_all\n",
      "for 2th dataset ENTER: tcga_primtum_all\n",
      "no overlap between datasets\n",
      "insert name for 1th datasetgtex_all\n",
      "insert name for 2th datasettcga_primtum_all\n"
     ]
    },
    {
     "data": {
      "text/html": [
       "<table border=\"1\" class=\"dataframe\">\n",
       "  <thead>\n",
       "    <tr style=\"text-align: right;\">\n",
       "      <th></th>\n",
       "      <th>GTEX_expression_mean_&amp;_stdev</th>\n",
       "      <th>GTEX_highly_correlated</th>\n",
       "      <th>highly_correlated_in_TCGA_normal</th>\n",
       "      <th>highly_corelated_in_TCGA_primtum</th>\n",
       "    </tr>\n",
       "  </thead>\n",
       "  <tbody>\n",
       "    <tr>\n",
       "      <th>ITGB7</th>\n",
       "      <td>1.77 + 1.30</td>\n",
       "      <td>84</td>\n",
       "      <td>124</td>\n",
       "      <td>370</td>\n",
       "    </tr>\n",
       "  </tbody>\n",
       "</table>"
      ],
      "text/plain": [
       "<IPython.core.display.HTML object>"
      ]
     },
     "metadata": {},
     "output_type": "display_data"
    },
    {
     "name": "stdout",
     "output_type": "stream",
     "text": [
      "for 1th dataset ENTER: gtex_all\n",
      "for 2th dataset ENTER: tcga_normal_all\n",
      "no overlap between datasets\n",
      "insert name for 1th datasetgtex_all\n",
      "insert name for 2th datasettcga_normal_all\n",
      "for 1th dataset ENTER: gtex_all\n",
      "for 2th dataset ENTER: tcga_primtum_all\n",
      "no overlap between datasets\n",
      "insert name for 1th datasetgtex_all\n",
      "insert name for 2th datasettcga_primtum_all\n"
     ]
    },
    {
     "data": {
      "text/html": [
       "<table border=\"1\" class=\"dataframe\">\n",
       "  <thead>\n",
       "    <tr style=\"text-align: right;\">\n",
       "      <th></th>\n",
       "      <th>GTEX_expression_mean_&amp;_stdev</th>\n",
       "      <th>GTEX_highly_correlated</th>\n",
       "      <th>highly_correlated_in_TCGA_normal</th>\n",
       "      <th>highly_corelated_in_TCGA_primtum</th>\n",
       "    </tr>\n",
       "  </thead>\n",
       "  <tbody>\n",
       "    <tr>\n",
       "      <th>ITGA5</th>\n",
       "      <td>101.97 + 69.01</td>\n",
       "      <td>60</td>\n",
       "      <td>772</td>\n",
       "      <td>123</td>\n",
       "    </tr>\n",
       "  </tbody>\n",
       "</table>"
      ],
      "text/plain": [
       "<IPython.core.display.HTML object>"
      ]
     },
     "metadata": {},
     "output_type": "display_data"
    },
    {
     "name": "stdout",
     "output_type": "stream",
     "text": [
      "for 1th dataset ENTER: gtex_all\n",
      "for 2th dataset ENTER: tcga_normal_all\n",
      "no overlap between datasets\n",
      "insert name for 1th datasetgtex_all\n",
      "insert name for 2th datasettcga_normal_all\n",
      "for 1th dataset ENTER: gtex_all\n",
      "for 2th dataset ENTER: tcga_primtum_all\n",
      "no overlap between datasets\n",
      "insert name for 1th datasetgtex_all\n",
      "insert name for 2th datasettcga_primtum_all\n"
     ]
    },
    {
     "data": {
      "text/html": [
       "<table border=\"1\" class=\"dataframe\">\n",
       "  <thead>\n",
       "    <tr style=\"text-align: right;\">\n",
       "      <th></th>\n",
       "      <th>GTEX_expression_mean_&amp;_stdev</th>\n",
       "      <th>GTEX_highly_correlated</th>\n",
       "      <th>highly_correlated_in_TCGA_normal</th>\n",
       "      <th>highly_corelated_in_TCGA_primtum</th>\n",
       "    </tr>\n",
       "  </thead>\n",
       "  <tbody>\n",
       "    <tr>\n",
       "      <th>ITGBL1</th>\n",
       "      <td>12.98 + 10.20</td>\n",
       "      <td>8</td>\n",
       "      <td>2</td>\n",
       "      <td>191</td>\n",
       "    </tr>\n",
       "  </tbody>\n",
       "</table>"
      ],
      "text/plain": [
       "<IPython.core.display.HTML object>"
      ]
     },
     "metadata": {},
     "output_type": "display_data"
    },
    {
     "name": "stdout",
     "output_type": "stream",
     "text": [
      "for 1th dataset ENTER: gtex_all\n",
      "for 2th dataset ENTER: tcga_normal_all\n",
      "no overlap between datasets\n",
      "insert name for 1th datasetgtex_all\n",
      "insert name for 2th datasettcga_normal_all\n",
      "for 1th dataset ENTER: gtex_all\n",
      "for 2th dataset ENTER: tcga_primtum_all\n",
      "no overlap between datasets\n",
      "insert name for 1th datasetgtex_all\n",
      "insert name for 2th datasettcga_primtum_all\n"
     ]
    },
    {
     "data": {
      "text/html": [
       "<table border=\"1\" class=\"dataframe\">\n",
       "  <thead>\n",
       "    <tr style=\"text-align: right;\">\n",
       "      <th></th>\n",
       "      <th>GTEX_expression_mean_&amp;_stdev</th>\n",
       "      <th>GTEX_highly_correlated</th>\n",
       "      <th>highly_correlated_in_TCGA_normal</th>\n",
       "      <th>highly_corelated_in_TCGA_primtum</th>\n",
       "    </tr>\n",
       "  </thead>\n",
       "  <tbody>\n",
       "    <tr>\n",
       "      <th>ITGA11</th>\n",
       "      <td>4.76 + 4.56</td>\n",
       "      <td>28</td>\n",
       "      <td>13</td>\n",
       "      <td>188</td>\n",
       "    </tr>\n",
       "  </tbody>\n",
       "</table>"
      ],
      "text/plain": [
       "<IPython.core.display.HTML object>"
      ]
     },
     "metadata": {},
     "output_type": "display_data"
    },
    {
     "name": "stdout",
     "output_type": "stream",
     "text": [
      "for 1th dataset ENTER: gtex_all\n",
      "for 2th dataset ENTER: tcga_normal_all\n",
      "no overlap between datasets\n",
      "insert name for 1th datasetgtex_all\n",
      "insert name for 2th datasettcga_normal_all\n",
      "for 1th dataset ENTER: gtex_all\n",
      "for 2th dataset ENTER: tcga_primtum_all\n",
      "no overlap between datasets\n",
      "insert name for 1th datasetgtex_all\n",
      "insert name for 2th datasetgtex_all\n"
     ]
    },
    {
     "ename": "IndexError",
     "evalue": "single positional indexer is out-of-bounds",
     "output_type": "error",
     "traceback": [
      "\u001b[0;31m---------------------------------------------------------------------------\u001b[0m",
      "\u001b[0;31mIndexError\u001b[0m                                Traceback (most recent call last)",
      "\u001b[0;32m<ipython-input-72-5476844e44fe>\u001b[0m in \u001b[0;36m<module>\u001b[0;34m()\u001b[0m\n\u001b[1;32m     15\u001b[0m \u001b[0;32mfor\u001b[0m \u001b[0minterest_gene\u001b[0m \u001b[0;32min\u001b[0m \u001b[0mintegrins_list\u001b[0m\u001b[0;34m:\u001b[0m\u001b[0;34m\u001b[0m\u001b[0m\n\u001b[1;32m     16\u001b[0m     organize_no_overlap(interest_gene,correlation_method, correlation_cutoff,opposing_corr_cutoff,gtex_gct_dataset,\n\u001b[0;32m---> 17\u001b[0;31m                              tcga_hiseq_dataset,tcga_hiseq_corresponding_sample_info)\n\u001b[0m\u001b[1;32m     18\u001b[0m \u001b[0;34m\u001b[0m\u001b[0m\n",
      "\u001b[0;32m<ipython-input-71-810d03675cb4>\u001b[0m in \u001b[0;36morganize_no_overlap\u001b[0;34m(interest_gene, correlation_method, correlation_cutoff, opposing_corr_cutoff, gtex_gct_dataset, tcga_hiseq_dataset, tcga_hiseq_corresponding_sample_info)\u001b[0m\n\u001b[1;32m     28\u001b[0m                                      \u001b[0mstr\u001b[0m\u001b[0;34m(\u001b[0m\u001b[0mnumber_3_tcga_normal\u001b[0m\u001b[0;34m.\u001b[0m\u001b[0miloc\u001b[0m\u001b[0;34m[\u001b[0m\u001b[0;36m0\u001b[0m\u001b[0;34m,\u001b[0m\u001b[0;36m0\u001b[0m\u001b[0;34m]\u001b[0m\u001b[0;34m)\u001b[0m\u001b[0;34m,\u001b[0m\u001b[0;34m\u001b[0m\u001b[0m\n\u001b[1;32m     29\u001b[0m                                      \u001b[0mstr\u001b[0m\u001b[0;34m(\u001b[0m\u001b[0mnumber_3_tcga_normal\u001b[0m\u001b[0;34m.\u001b[0m\u001b[0miloc\u001b[0m\u001b[0;34m[\u001b[0m\u001b[0;36m0\u001b[0m\u001b[0;34m,\u001b[0m\u001b[0;36m1\u001b[0m\u001b[0;34m]\u001b[0m\u001b[0;34m)\u001b[0m\u001b[0;34m,\u001b[0m\u001b[0;34m\u001b[0m\u001b[0m\n\u001b[0;32m---> 30\u001b[0;31m                                      str(number_3_tcga_primtum.iloc[0,1])]],\n\u001b[0m\u001b[1;32m     31\u001b[0m                               columns=[second_column_name,third_column_name,\n\u001b[1;32m     32\u001b[0m                                       fourth_column_name,fifth_column_name],\n",
      "\u001b[0;32m/public/apps/python/3.7.0/lib/python3.7/site-packages/pandas/core/indexing.py\u001b[0m in \u001b[0;36m__getitem__\u001b[0;34m(self, key)\u001b[0m\n\u001b[1;32m    871\u001b[0m                     \u001b[0;31m# AttributeError for IntervalTree get_value\u001b[0m\u001b[0;34m\u001b[0m\u001b[0;34m\u001b[0m\u001b[0m\n\u001b[1;32m    872\u001b[0m                     \u001b[0;32mpass\u001b[0m\u001b[0;34m\u001b[0m\u001b[0m\n\u001b[0;32m--> 873\u001b[0;31m             \u001b[0;32mreturn\u001b[0m \u001b[0mself\u001b[0m\u001b[0;34m.\u001b[0m\u001b[0m_getitem_tuple\u001b[0m\u001b[0;34m(\u001b[0m\u001b[0mkey\u001b[0m\u001b[0;34m)\u001b[0m\u001b[0;34m\u001b[0m\u001b[0m\n\u001b[0m\u001b[1;32m    874\u001b[0m         \u001b[0;32melse\u001b[0m\u001b[0;34m:\u001b[0m\u001b[0;34m\u001b[0m\u001b[0m\n\u001b[1;32m    875\u001b[0m             \u001b[0;31m# we by definition only have the 0th axis\u001b[0m\u001b[0;34m\u001b[0m\u001b[0;34m\u001b[0m\u001b[0m\n",
      "\u001b[0;32m/public/apps/python/3.7.0/lib/python3.7/site-packages/pandas/core/indexing.py\u001b[0m in \u001b[0;36m_getitem_tuple\u001b[0;34m(self, tup)\u001b[0m\n\u001b[1;32m   1441\u001b[0m     \u001b[0;32mdef\u001b[0m \u001b[0m_getitem_tuple\u001b[0m\u001b[0;34m(\u001b[0m\u001b[0mself\u001b[0m\u001b[0;34m,\u001b[0m \u001b[0mtup\u001b[0m\u001b[0;34m:\u001b[0m \u001b[0mTuple\u001b[0m\u001b[0;34m)\u001b[0m\u001b[0;34m:\u001b[0m\u001b[0;34m\u001b[0m\u001b[0m\n\u001b[1;32m   1442\u001b[0m \u001b[0;34m\u001b[0m\u001b[0m\n\u001b[0;32m-> 1443\u001b[0;31m         \u001b[0mself\u001b[0m\u001b[0;34m.\u001b[0m\u001b[0m_has_valid_tuple\u001b[0m\u001b[0;34m(\u001b[0m\u001b[0mtup\u001b[0m\u001b[0;34m)\u001b[0m\u001b[0;34m\u001b[0m\u001b[0m\n\u001b[0m\u001b[1;32m   1444\u001b[0m         \u001b[0;32mtry\u001b[0m\u001b[0;34m:\u001b[0m\u001b[0;34m\u001b[0m\u001b[0m\n\u001b[1;32m   1445\u001b[0m             \u001b[0;32mreturn\u001b[0m \u001b[0mself\u001b[0m\u001b[0;34m.\u001b[0m\u001b[0m_getitem_lowerdim\u001b[0m\u001b[0;34m(\u001b[0m\u001b[0mtup\u001b[0m\u001b[0;34m)\u001b[0m\u001b[0;34m\u001b[0m\u001b[0m\n",
      "\u001b[0;32m/public/apps/python/3.7.0/lib/python3.7/site-packages/pandas/core/indexing.py\u001b[0m in \u001b[0;36m_has_valid_tuple\u001b[0;34m(self, key)\u001b[0m\n\u001b[1;32m    700\u001b[0m                 \u001b[0;32mraise\u001b[0m \u001b[0mIndexingError\u001b[0m\u001b[0;34m(\u001b[0m\u001b[0;34m\"Too many indexers\"\u001b[0m\u001b[0;34m)\u001b[0m\u001b[0;34m\u001b[0m\u001b[0m\n\u001b[1;32m    701\u001b[0m             \u001b[0;32mtry\u001b[0m\u001b[0;34m:\u001b[0m\u001b[0;34m\u001b[0m\u001b[0m\n\u001b[0;32m--> 702\u001b[0;31m                 \u001b[0mself\u001b[0m\u001b[0;34m.\u001b[0m\u001b[0m_validate_key\u001b[0m\u001b[0;34m(\u001b[0m\u001b[0mk\u001b[0m\u001b[0;34m,\u001b[0m \u001b[0mi\u001b[0m\u001b[0;34m)\u001b[0m\u001b[0;34m\u001b[0m\u001b[0m\n\u001b[0m\u001b[1;32m    703\u001b[0m             \u001b[0;32mexcept\u001b[0m \u001b[0mValueError\u001b[0m \u001b[0;32mas\u001b[0m \u001b[0merr\u001b[0m\u001b[0;34m:\u001b[0m\u001b[0;34m\u001b[0m\u001b[0m\n\u001b[1;32m    704\u001b[0m                 raise ValueError(\n",
      "\u001b[0;32m/public/apps/python/3.7.0/lib/python3.7/site-packages/pandas/core/indexing.py\u001b[0m in \u001b[0;36m_validate_key\u001b[0;34m(self, key, axis)\u001b[0m\n\u001b[1;32m   1350\u001b[0m             \u001b[0;32mreturn\u001b[0m\u001b[0;34m\u001b[0m\u001b[0m\n\u001b[1;32m   1351\u001b[0m         \u001b[0;32melif\u001b[0m \u001b[0mis_integer\u001b[0m\u001b[0;34m(\u001b[0m\u001b[0mkey\u001b[0m\u001b[0;34m)\u001b[0m\u001b[0;34m:\u001b[0m\u001b[0;34m\u001b[0m\u001b[0m\n\u001b[0;32m-> 1352\u001b[0;31m             \u001b[0mself\u001b[0m\u001b[0;34m.\u001b[0m\u001b[0m_validate_integer\u001b[0m\u001b[0;34m(\u001b[0m\u001b[0mkey\u001b[0m\u001b[0;34m,\u001b[0m \u001b[0maxis\u001b[0m\u001b[0;34m)\u001b[0m\u001b[0;34m\u001b[0m\u001b[0m\n\u001b[0m\u001b[1;32m   1353\u001b[0m         \u001b[0;32melif\u001b[0m \u001b[0misinstance\u001b[0m\u001b[0;34m(\u001b[0m\u001b[0mkey\u001b[0m\u001b[0;34m,\u001b[0m \u001b[0mtuple\u001b[0m\u001b[0;34m)\u001b[0m\u001b[0;34m:\u001b[0m\u001b[0;34m\u001b[0m\u001b[0m\n\u001b[1;32m   1354\u001b[0m             \u001b[0;31m# a tuple should already have been caught by this point\u001b[0m\u001b[0;34m\u001b[0m\u001b[0;34m\u001b[0m\u001b[0m\n",
      "\u001b[0;32m/public/apps/python/3.7.0/lib/python3.7/site-packages/pandas/core/indexing.py\u001b[0m in \u001b[0;36m_validate_integer\u001b[0;34m(self, key, axis)\u001b[0m\n\u001b[1;32m   1435\u001b[0m         \u001b[0mlen_axis\u001b[0m \u001b[0;34m=\u001b[0m \u001b[0mlen\u001b[0m\u001b[0;34m(\u001b[0m\u001b[0mself\u001b[0m\u001b[0;34m.\u001b[0m\u001b[0mobj\u001b[0m\u001b[0;34m.\u001b[0m\u001b[0m_get_axis\u001b[0m\u001b[0;34m(\u001b[0m\u001b[0maxis\u001b[0m\u001b[0;34m)\u001b[0m\u001b[0;34m)\u001b[0m\u001b[0;34m\u001b[0m\u001b[0m\n\u001b[1;32m   1436\u001b[0m         \u001b[0;32mif\u001b[0m \u001b[0mkey\u001b[0m \u001b[0;34m>=\u001b[0m \u001b[0mlen_axis\u001b[0m \u001b[0;32mor\u001b[0m \u001b[0mkey\u001b[0m \u001b[0;34m<\u001b[0m \u001b[0;34m-\u001b[0m\u001b[0mlen_axis\u001b[0m\u001b[0;34m:\u001b[0m\u001b[0;34m\u001b[0m\u001b[0m\n\u001b[0;32m-> 1437\u001b[0;31m             \u001b[0;32mraise\u001b[0m \u001b[0mIndexError\u001b[0m\u001b[0;34m(\u001b[0m\u001b[0;34m\"single positional indexer is out-of-bounds\"\u001b[0m\u001b[0;34m)\u001b[0m\u001b[0;34m\u001b[0m\u001b[0m\n\u001b[0m\u001b[1;32m   1438\u001b[0m \u001b[0;34m\u001b[0m\u001b[0m\n\u001b[1;32m   1439\u001b[0m     \u001b[0;31m# -------------------------------------------------------------------\u001b[0m\u001b[0;34m\u001b[0m\u001b[0;34m\u001b[0m\u001b[0m\n",
      "\u001b[0;31mIndexError\u001b[0m: single positional indexer is out-of-bounds"
     ]
    }
   ],
   "source": [
    "integrins_list=['ITGA7','ITGB8','ITGB6','ITGA10','ITGA6','ITGA4','ITGAV','ITGA9','ITGB5','ITGA1','ITGA2','ITGA8',\n",
    "'ITGB1','ITGB7','ITGA5','ITGBL1','ITGA11','ITGAL','ITGAM','ITGAX','ITGAD','ITGAE','ITGA2B','ITGB3','ITGA3',\n",
    "                'ITGB4','ITGB2']\n",
    "\n",
    "gtex_gct_dataset = 'gene_tpm_2017-06-05_v8_breast_mammary_tissue.gct_2'\n",
    "correlation_method ='pearson'\n",
    "correlation_cutoff = 0.6\n",
    "tcga_hiseq_dataset = '/home/hshadman/integrins_expression/saghar_TCGA_Breast/TCGA_BRCA_HiSeqV2' \n",
    "tcga_hiseq_corresponding_sample_info = '/home/hshadman/integrins_expression/saghar_TCGA_Breast/TCGA.BRCA.sampleMap_BRCA_clinicalMatrix'\n",
    "opposing_corr_cutoff = 0.1\n",
    "\n",
    "# make_data_presentable(interest_gene,correlation_method, correlation_cutoff,opposing_corr_cutoff,gtex_gct_dataset,\n",
    "#                          tcga_hiseq_dataset,tcga_hiseq_corresponding_sample_info)\n",
    "\n",
    "for interest_gene in integrins_list:\n",
    "    organize_no_overlap(interest_gene,correlation_method, correlation_cutoff,opposing_corr_cutoff,gtex_gct_dataset,\n",
    "                             tcga_hiseq_dataset,tcga_hiseq_corresponding_sample_info)\n",
    "\n",
    "\n"
   ]
  },
  {
   "cell_type": "code",
   "execution_count": 73,
   "metadata": {},
   "outputs": [
    {
     "name": "stdout",
     "output_type": "stream",
     "text": [
      "for 1th dataset ENTER: gtex_all\n",
      "for 2th dataset ENTER: tcga_normal_all\n",
      "no overlap between datasets\n",
      "insert name for 1th datasetgtex_all\n",
      "insert name for 2th datasettcga_normal_all\n",
      "for 1th dataset ENTER: gtex_all\n",
      "for 2th dataset ENTER: tcga_primtum_all\n",
      "no overlap between datasets\n",
      "insert name for 1th datasetgtex_all\n",
      "insert name for 2th datasettcga_primtum_all\n"
     ]
    },
    {
     "data": {
      "text/html": [
       "<table border=\"1\" class=\"dataframe\">\n",
       "  <thead>\n",
       "    <tr style=\"text-align: right;\">\n",
       "      <th></th>\n",
       "      <th>GTEX_expression_mean_&amp;_stdev</th>\n",
       "      <th>GTEX_highly_correlated</th>\n",
       "      <th>highly_correlated_in_TCGA_normal</th>\n",
       "      <th>highly_corelated_in_TCGA_primtum</th>\n",
       "    </tr>\n",
       "  </thead>\n",
       "  <tbody>\n",
       "    <tr>\n",
       "      <th>ITGAL</th>\n",
       "      <td>4.35 + 3.46</td>\n",
       "      <td>103</td>\n",
       "      <td>285</td>\n",
       "      <td>280</td>\n",
       "    </tr>\n",
       "  </tbody>\n",
       "</table>"
      ],
      "text/plain": [
       "<IPython.core.display.HTML object>"
      ]
     },
     "metadata": {},
     "output_type": "display_data"
    },
    {
     "name": "stdout",
     "output_type": "stream",
     "text": [
      "for 1th dataset ENTER: gtex_all\n",
      "for 2th dataset ENTER: tcga_normal_all\n",
      "no overlap between datasets\n",
      "insert name for 1th datasetgtex_all\n",
      "insert name for 2th datasettcga_normal_all\n",
      "for 1th dataset ENTER: gtex_all\n",
      "for 2th dataset ENTER: tcga_primtum_all\n",
      "no overlap between datasets\n",
      "insert name for 1th datasetgtex_all\n",
      "insert name for 2th datasettcga_primtum_all\n"
     ]
    },
    {
     "data": {
      "text/html": [
       "<table border=\"1\" class=\"dataframe\">\n",
       "  <thead>\n",
       "    <tr style=\"text-align: right;\">\n",
       "      <th></th>\n",
       "      <th>GTEX_expression_mean_&amp;_stdev</th>\n",
       "      <th>GTEX_highly_correlated</th>\n",
       "      <th>highly_correlated_in_TCGA_normal</th>\n",
       "      <th>highly_corelated_in_TCGA_primtum</th>\n",
       "    </tr>\n",
       "  </thead>\n",
       "  <tbody>\n",
       "    <tr>\n",
       "      <th>ITGAM</th>\n",
       "      <td>6.86 + 8.57</td>\n",
       "      <td>315</td>\n",
       "      <td>498</td>\n",
       "      <td>125</td>\n",
       "    </tr>\n",
       "  </tbody>\n",
       "</table>"
      ],
      "text/plain": [
       "<IPython.core.display.HTML object>"
      ]
     },
     "metadata": {},
     "output_type": "display_data"
    },
    {
     "name": "stdout",
     "output_type": "stream",
     "text": [
      "for 1th dataset ENTER: gtex_all\n",
      "for 2th dataset ENTER: tcga_normal_all\n",
      "no overlap between datasets\n",
      "insert name for 1th datasetgtex_all\n",
      "insert name for 2th datasetgtex_all\n",
      "for 1th dataset ENTER: gtex_all\n",
      "for 2th dataset ENTER: tcga_primtum_all\n",
      "no overlap between datasets\n",
      "insert name for 1th datasetgtex_all\n",
      "insert name for 2th datasettcga_primtum_all\n"
     ]
    },
    {
     "ename": "IndexError",
     "evalue": "single positional indexer is out-of-bounds",
     "output_type": "error",
     "traceback": [
      "\u001b[0;31m---------------------------------------------------------------------------\u001b[0m",
      "\u001b[0;31mIndexError\u001b[0m                                Traceback (most recent call last)",
      "\u001b[0;32m<ipython-input-73-abc90b8331b6>\u001b[0m in \u001b[0;36m<module>\u001b[0;34m()\u001b[0m\n\u001b[1;32m     17\u001b[0m \u001b[0;32mfor\u001b[0m \u001b[0minterest_gene\u001b[0m \u001b[0;32min\u001b[0m \u001b[0mintegrins_list\u001b[0m\u001b[0;34m:\u001b[0m\u001b[0;34m\u001b[0m\u001b[0m\n\u001b[1;32m     18\u001b[0m     organize_no_overlap(interest_gene,correlation_method, correlation_cutoff,opposing_corr_cutoff,gtex_gct_dataset,\n\u001b[0;32m---> 19\u001b[0;31m                              tcga_hiseq_dataset,tcga_hiseq_corresponding_sample_info)\n\u001b[0m\u001b[1;32m     20\u001b[0m \u001b[0;34m\u001b[0m\u001b[0m\n",
      "\u001b[0;32m<ipython-input-71-810d03675cb4>\u001b[0m in \u001b[0;36morganize_no_overlap\u001b[0;34m(interest_gene, correlation_method, correlation_cutoff, opposing_corr_cutoff, gtex_gct_dataset, tcga_hiseq_dataset, tcga_hiseq_corresponding_sample_info)\u001b[0m\n\u001b[1;32m     27\u001b[0m     dict_pd_df = pd.DataFrame(data=[[f'{format(gtex_expression_mean,\"0.2f\")} + {format(gtex_expression_stdev,\"0.2f\")}',\n\u001b[1;32m     28\u001b[0m                                      \u001b[0mstr\u001b[0m\u001b[0;34m(\u001b[0m\u001b[0mnumber_3_tcga_normal\u001b[0m\u001b[0;34m.\u001b[0m\u001b[0miloc\u001b[0m\u001b[0;34m[\u001b[0m\u001b[0;36m0\u001b[0m\u001b[0;34m,\u001b[0m\u001b[0;36m0\u001b[0m\u001b[0;34m]\u001b[0m\u001b[0;34m)\u001b[0m\u001b[0;34m,\u001b[0m\u001b[0;34m\u001b[0m\u001b[0m\n\u001b[0;32m---> 29\u001b[0;31m                                      \u001b[0mstr\u001b[0m\u001b[0;34m(\u001b[0m\u001b[0mnumber_3_tcga_normal\u001b[0m\u001b[0;34m.\u001b[0m\u001b[0miloc\u001b[0m\u001b[0;34m[\u001b[0m\u001b[0;36m0\u001b[0m\u001b[0;34m,\u001b[0m\u001b[0;36m1\u001b[0m\u001b[0;34m]\u001b[0m\u001b[0;34m)\u001b[0m\u001b[0;34m,\u001b[0m\u001b[0;34m\u001b[0m\u001b[0m\n\u001b[0m\u001b[1;32m     30\u001b[0m                                      str(number_3_tcga_primtum.iloc[0,1])]],\n\u001b[1;32m     31\u001b[0m                               columns=[second_column_name,third_column_name,\n",
      "\u001b[0;32m/public/apps/python/3.7.0/lib/python3.7/site-packages/pandas/core/indexing.py\u001b[0m in \u001b[0;36m__getitem__\u001b[0;34m(self, key)\u001b[0m\n\u001b[1;32m    871\u001b[0m                     \u001b[0;31m# AttributeError for IntervalTree get_value\u001b[0m\u001b[0;34m\u001b[0m\u001b[0;34m\u001b[0m\u001b[0m\n\u001b[1;32m    872\u001b[0m                     \u001b[0;32mpass\u001b[0m\u001b[0;34m\u001b[0m\u001b[0m\n\u001b[0;32m--> 873\u001b[0;31m             \u001b[0;32mreturn\u001b[0m \u001b[0mself\u001b[0m\u001b[0;34m.\u001b[0m\u001b[0m_getitem_tuple\u001b[0m\u001b[0;34m(\u001b[0m\u001b[0mkey\u001b[0m\u001b[0;34m)\u001b[0m\u001b[0;34m\u001b[0m\u001b[0m\n\u001b[0m\u001b[1;32m    874\u001b[0m         \u001b[0;32melse\u001b[0m\u001b[0;34m:\u001b[0m\u001b[0;34m\u001b[0m\u001b[0m\n\u001b[1;32m    875\u001b[0m             \u001b[0;31m# we by definition only have the 0th axis\u001b[0m\u001b[0;34m\u001b[0m\u001b[0;34m\u001b[0m\u001b[0m\n",
      "\u001b[0;32m/public/apps/python/3.7.0/lib/python3.7/site-packages/pandas/core/indexing.py\u001b[0m in \u001b[0;36m_getitem_tuple\u001b[0;34m(self, tup)\u001b[0m\n\u001b[1;32m   1441\u001b[0m     \u001b[0;32mdef\u001b[0m \u001b[0m_getitem_tuple\u001b[0m\u001b[0;34m(\u001b[0m\u001b[0mself\u001b[0m\u001b[0;34m,\u001b[0m \u001b[0mtup\u001b[0m\u001b[0;34m:\u001b[0m \u001b[0mTuple\u001b[0m\u001b[0;34m)\u001b[0m\u001b[0;34m:\u001b[0m\u001b[0;34m\u001b[0m\u001b[0m\n\u001b[1;32m   1442\u001b[0m \u001b[0;34m\u001b[0m\u001b[0m\n\u001b[0;32m-> 1443\u001b[0;31m         \u001b[0mself\u001b[0m\u001b[0;34m.\u001b[0m\u001b[0m_has_valid_tuple\u001b[0m\u001b[0;34m(\u001b[0m\u001b[0mtup\u001b[0m\u001b[0;34m)\u001b[0m\u001b[0;34m\u001b[0m\u001b[0m\n\u001b[0m\u001b[1;32m   1444\u001b[0m         \u001b[0;32mtry\u001b[0m\u001b[0;34m:\u001b[0m\u001b[0;34m\u001b[0m\u001b[0m\n\u001b[1;32m   1445\u001b[0m             \u001b[0;32mreturn\u001b[0m \u001b[0mself\u001b[0m\u001b[0;34m.\u001b[0m\u001b[0m_getitem_lowerdim\u001b[0m\u001b[0;34m(\u001b[0m\u001b[0mtup\u001b[0m\u001b[0;34m)\u001b[0m\u001b[0;34m\u001b[0m\u001b[0m\n",
      "\u001b[0;32m/public/apps/python/3.7.0/lib/python3.7/site-packages/pandas/core/indexing.py\u001b[0m in \u001b[0;36m_has_valid_tuple\u001b[0;34m(self, key)\u001b[0m\n\u001b[1;32m    700\u001b[0m                 \u001b[0;32mraise\u001b[0m \u001b[0mIndexingError\u001b[0m\u001b[0;34m(\u001b[0m\u001b[0;34m\"Too many indexers\"\u001b[0m\u001b[0;34m)\u001b[0m\u001b[0;34m\u001b[0m\u001b[0m\n\u001b[1;32m    701\u001b[0m             \u001b[0;32mtry\u001b[0m\u001b[0;34m:\u001b[0m\u001b[0;34m\u001b[0m\u001b[0m\n\u001b[0;32m--> 702\u001b[0;31m                 \u001b[0mself\u001b[0m\u001b[0;34m.\u001b[0m\u001b[0m_validate_key\u001b[0m\u001b[0;34m(\u001b[0m\u001b[0mk\u001b[0m\u001b[0;34m,\u001b[0m \u001b[0mi\u001b[0m\u001b[0;34m)\u001b[0m\u001b[0;34m\u001b[0m\u001b[0m\n\u001b[0m\u001b[1;32m    703\u001b[0m             \u001b[0;32mexcept\u001b[0m \u001b[0mValueError\u001b[0m \u001b[0;32mas\u001b[0m \u001b[0merr\u001b[0m\u001b[0;34m:\u001b[0m\u001b[0;34m\u001b[0m\u001b[0m\n\u001b[1;32m    704\u001b[0m                 raise ValueError(\n",
      "\u001b[0;32m/public/apps/python/3.7.0/lib/python3.7/site-packages/pandas/core/indexing.py\u001b[0m in \u001b[0;36m_validate_key\u001b[0;34m(self, key, axis)\u001b[0m\n\u001b[1;32m   1350\u001b[0m             \u001b[0;32mreturn\u001b[0m\u001b[0;34m\u001b[0m\u001b[0m\n\u001b[1;32m   1351\u001b[0m         \u001b[0;32melif\u001b[0m \u001b[0mis_integer\u001b[0m\u001b[0;34m(\u001b[0m\u001b[0mkey\u001b[0m\u001b[0;34m)\u001b[0m\u001b[0;34m:\u001b[0m\u001b[0;34m\u001b[0m\u001b[0m\n\u001b[0;32m-> 1352\u001b[0;31m             \u001b[0mself\u001b[0m\u001b[0;34m.\u001b[0m\u001b[0m_validate_integer\u001b[0m\u001b[0;34m(\u001b[0m\u001b[0mkey\u001b[0m\u001b[0;34m,\u001b[0m \u001b[0maxis\u001b[0m\u001b[0;34m)\u001b[0m\u001b[0;34m\u001b[0m\u001b[0m\n\u001b[0m\u001b[1;32m   1353\u001b[0m         \u001b[0;32melif\u001b[0m \u001b[0misinstance\u001b[0m\u001b[0;34m(\u001b[0m\u001b[0mkey\u001b[0m\u001b[0;34m,\u001b[0m \u001b[0mtuple\u001b[0m\u001b[0;34m)\u001b[0m\u001b[0;34m:\u001b[0m\u001b[0;34m\u001b[0m\u001b[0m\n\u001b[1;32m   1354\u001b[0m             \u001b[0;31m# a tuple should already have been caught by this point\u001b[0m\u001b[0;34m\u001b[0m\u001b[0;34m\u001b[0m\u001b[0m\n",
      "\u001b[0;32m/public/apps/python/3.7.0/lib/python3.7/site-packages/pandas/core/indexing.py\u001b[0m in \u001b[0;36m_validate_integer\u001b[0;34m(self, key, axis)\u001b[0m\n\u001b[1;32m   1435\u001b[0m         \u001b[0mlen_axis\u001b[0m \u001b[0;34m=\u001b[0m \u001b[0mlen\u001b[0m\u001b[0;34m(\u001b[0m\u001b[0mself\u001b[0m\u001b[0;34m.\u001b[0m\u001b[0mobj\u001b[0m\u001b[0;34m.\u001b[0m\u001b[0m_get_axis\u001b[0m\u001b[0;34m(\u001b[0m\u001b[0maxis\u001b[0m\u001b[0;34m)\u001b[0m\u001b[0;34m)\u001b[0m\u001b[0;34m\u001b[0m\u001b[0m\n\u001b[1;32m   1436\u001b[0m         \u001b[0;32mif\u001b[0m \u001b[0mkey\u001b[0m \u001b[0;34m>=\u001b[0m \u001b[0mlen_axis\u001b[0m \u001b[0;32mor\u001b[0m \u001b[0mkey\u001b[0m \u001b[0;34m<\u001b[0m \u001b[0;34m-\u001b[0m\u001b[0mlen_axis\u001b[0m\u001b[0;34m:\u001b[0m\u001b[0;34m\u001b[0m\u001b[0m\n\u001b[0;32m-> 1437\u001b[0;31m             \u001b[0;32mraise\u001b[0m \u001b[0mIndexError\u001b[0m\u001b[0;34m(\u001b[0m\u001b[0;34m\"single positional indexer is out-of-bounds\"\u001b[0m\u001b[0;34m)\u001b[0m\u001b[0;34m\u001b[0m\u001b[0m\n\u001b[0m\u001b[1;32m   1438\u001b[0m \u001b[0;34m\u001b[0m\u001b[0m\n\u001b[1;32m   1439\u001b[0m     \u001b[0;31m# -------------------------------------------------------------------\u001b[0m\u001b[0;34m\u001b[0m\u001b[0;34m\u001b[0m\u001b[0m\n",
      "\u001b[0;31mIndexError\u001b[0m: single positional indexer is out-of-bounds"
     ]
    }
   ],
   "source": [
    "#ERROR in above cell so continuing here from above cell\n",
    "#'ITGA7','ITGB8','ITGB6','ITGA10','ITGA6','ITGA4','ITGAV','ITGA9','ITGB5','ITGA1','ITGA2','ITGA8',\n",
    "#'ITGB1','ITGB7','ITGA5','ITGBL1','ITGA11',\n",
    "integrins_list= ['ITGAL','ITGAM','ITGAX','ITGAD','ITGAE','ITGA2B','ITGB3','ITGA3',\n",
    "                'ITGB4','ITGB2']\n",
    "\n",
    "gtex_gct_dataset = 'gene_tpm_2017-06-05_v8_breast_mammary_tissue.gct_2'\n",
    "correlation_method ='pearson'\n",
    "correlation_cutoff = 0.6\n",
    "tcga_hiseq_dataset = '/home/hshadman/integrins_expression/saghar_TCGA_Breast/TCGA_BRCA_HiSeqV2' \n",
    "tcga_hiseq_corresponding_sample_info = '/home/hshadman/integrins_expression/saghar_TCGA_Breast/TCGA.BRCA.sampleMap_BRCA_clinicalMatrix'\n",
    "opposing_corr_cutoff = 0.1\n",
    "\n",
    "# make_data_presentable(interest_gene,correlation_method, correlation_cutoff,opposing_corr_cutoff,gtex_gct_dataset,\n",
    "#                          tcga_hiseq_dataset,tcga_hiseq_corresponding_sample_info)\n",
    "\n",
    "for interest_gene in integrins_list:\n",
    "    organize_no_overlap(interest_gene,correlation_method, correlation_cutoff,opposing_corr_cutoff,gtex_gct_dataset,\n",
    "                             tcga_hiseq_dataset,tcga_hiseq_corresponding_sample_info)\n",
    "\n",
    "\n"
   ]
  },
  {
   "cell_type": "code",
   "execution_count": null,
   "metadata": {
    "scrolled": false
   },
   "outputs": [
    {
     "name": "stdout",
     "output_type": "stream",
     "text": [
      "for 1th dataset ENTER: gtex_all\n",
      "for 2th dataset ENTER: tcga_normal_all\n",
      "no overlap between datasets\n",
      "insert name for 1th datasetgtex_all\n",
      "insert name for 2th datasettcga_normal_all\n",
      "for 1th dataset ENTER: gtex_all\n",
      "for 2th dataset ENTER: tcga_primtum_all\n",
      "no overlap between datasets\n",
      "insert name for 1th datasetgtex_all\n",
      "insert name for 2th datasettcga_primtum_all\n"
     ]
    },
    {
     "data": {
      "text/html": [
       "<table border=\"1\" class=\"dataframe\">\n",
       "  <thead>\n",
       "    <tr style=\"text-align: right;\">\n",
       "      <th></th>\n",
       "      <th>GTEX_expression_mean_&amp;_stdev</th>\n",
       "      <th>GTEX_highly_correlated</th>\n",
       "      <th>highly_correlated_in_TCGA_normal</th>\n",
       "      <th>highly_corelated_in_TCGA_primtum</th>\n",
       "    </tr>\n",
       "  </thead>\n",
       "  <tbody>\n",
       "    <tr>\n",
       "      <th>ITGAX</th>\n",
       "      <td>8.94 + 23.17</td>\n",
       "      <td>258</td>\n",
       "      <td>197</td>\n",
       "      <td>343</td>\n",
       "    </tr>\n",
       "  </tbody>\n",
       "</table>"
      ],
      "text/plain": [
       "<IPython.core.display.HTML object>"
      ]
     },
     "metadata": {},
     "output_type": "display_data"
    },
    {
     "name": "stdout",
     "output_type": "stream",
     "text": [
      "for 1th dataset ENTER: gtex_all\n",
      "for 2th dataset ENTER: tcga_normal_all\n",
      "no overlap between datasets\n",
      "insert name for 1th datasetgtex_all\n",
      "insert name for 2th datasettcga_normal_all\n",
      "for 1th dataset ENTER: gtex_all\n",
      "for 2th dataset ENTER: tcga_primtum_all\n",
      "no overlap between datasets\n",
      "insert name for 1th datasetgtex_all\n",
      "insert name for 2th datasettcga_primtum_all\n"
     ]
    },
    {
     "data": {
      "text/html": [
       "<table border=\"1\" class=\"dataframe\">\n",
       "  <thead>\n",
       "    <tr style=\"text-align: right;\">\n",
       "      <th></th>\n",
       "      <th>GTEX_expression_mean_&amp;_stdev</th>\n",
       "      <th>GTEX_highly_correlated</th>\n",
       "      <th>highly_correlated_in_TCGA_normal</th>\n",
       "      <th>highly_corelated_in_TCGA_primtum</th>\n",
       "    </tr>\n",
       "  </thead>\n",
       "  <tbody>\n",
       "    <tr>\n",
       "      <th>ITGAD</th>\n",
       "      <td>0.19 + 0.25</td>\n",
       "      <td>4</td>\n",
       "      <td>17</td>\n",
       "      <td>10</td>\n",
       "    </tr>\n",
       "  </tbody>\n",
       "</table>"
      ],
      "text/plain": [
       "<IPython.core.display.HTML object>"
      ]
     },
     "metadata": {},
     "output_type": "display_data"
    },
    {
     "name": "stdout",
     "output_type": "stream",
     "text": [
      "for 1th dataset ENTER: gtex_all\n",
      "for 2th dataset ENTER: tcga_normal_all\n",
      "no overlap between datasets\n",
      "insert name for 1th datasetgtex_all\n",
      "insert name for 2th datasettcga_normal_all\n",
      "for 1th dataset ENTER: gtex_all\n",
      "for 2th dataset ENTER: tcga_primtum_all\n",
      "no overlap between datasets\n",
      "insert name for 1th datasetgtex_all\n",
      "insert name for 2th datasettcga_primtum_all\n"
     ]
    },
    {
     "data": {
      "text/html": [
       "<table border=\"1\" class=\"dataframe\">\n",
       "  <thead>\n",
       "    <tr style=\"text-align: right;\">\n",
       "      <th></th>\n",
       "      <th>GTEX_expression_mean_&amp;_stdev</th>\n",
       "      <th>GTEX_highly_correlated</th>\n",
       "      <th>highly_correlated_in_TCGA_normal</th>\n",
       "      <th>highly_corelated_in_TCGA_primtum</th>\n",
       "    </tr>\n",
       "  </thead>\n",
       "  <tbody>\n",
       "    <tr>\n",
       "      <th>ITGAE</th>\n",
       "      <td>8.23 + 2.10</td>\n",
       "      <td>25</td>\n",
       "      <td>142</td>\n",
       "      <td>1</td>\n",
       "    </tr>\n",
       "  </tbody>\n",
       "</table>"
      ],
      "text/plain": [
       "<IPython.core.display.HTML object>"
      ]
     },
     "metadata": {},
     "output_type": "display_data"
    },
    {
     "name": "stdout",
     "output_type": "stream",
     "text": [
      "for 1th dataset ENTER: gtex_all\n",
      "for 2th dataset ENTER: tcga_normal_all\n",
      "no overlap between datasets\n",
      "insert name for 1th datasetgtex_all\n",
      "insert name for 2th datasettcga_normal_all\n",
      "for 1th dataset ENTER: gtex_all\n",
      "for 2th dataset ENTER: tcga_primtum_all\n",
      "no overlap between datasets\n",
      "insert name for 1th datasetgtex_all\n",
      "insert name for 2th datasettcga_primtum_all\n"
     ]
    },
    {
     "data": {
      "text/html": [
       "<table border=\"1\" class=\"dataframe\">\n",
       "  <thead>\n",
       "    <tr style=\"text-align: right;\">\n",
       "      <th></th>\n",
       "      <th>GTEX_expression_mean_&amp;_stdev</th>\n",
       "      <th>GTEX_highly_correlated</th>\n",
       "      <th>highly_correlated_in_TCGA_normal</th>\n",
       "      <th>highly_corelated_in_TCGA_primtum</th>\n",
       "    </tr>\n",
       "  </thead>\n",
       "  <tbody>\n",
       "    <tr>\n",
       "      <th>ITGA2B</th>\n",
       "      <td>1.35 + 0.72</td>\n",
       "      <td>6</td>\n",
       "      <td>1</td>\n",
       "      <td>1</td>\n",
       "    </tr>\n",
       "  </tbody>\n",
       "</table>"
      ],
      "text/plain": [
       "<IPython.core.display.HTML object>"
      ]
     },
     "metadata": {},
     "output_type": "display_data"
    },
    {
     "name": "stdout",
     "output_type": "stream",
     "text": [
      "for 1th dataset ENTER: gtex_all\n",
      "for 2th dataset ENTER: tcga_normal_all\n",
      "no overlap between datasets\n",
      "insert name for 1th datasetgtex_all\n",
      "insert name for 2th datasettcga_normal_all\n",
      "for 1th dataset ENTER: gtex_all\n",
      "for 2th dataset ENTER: tcga_primtum_all\n",
      "no overlap between datasets\n",
      "insert name for 1th datasetgtex_all\n",
      "insert name for 2th datasettcga_primtum_all\n"
     ]
    },
    {
     "data": {
      "text/html": [
       "<table border=\"1\" class=\"dataframe\">\n",
       "  <thead>\n",
       "    <tr style=\"text-align: right;\">\n",
       "      <th></th>\n",
       "      <th>GTEX_expression_mean_&amp;_stdev</th>\n",
       "      <th>GTEX_highly_correlated</th>\n",
       "      <th>highly_correlated_in_TCGA_normal</th>\n",
       "      <th>highly_corelated_in_TCGA_primtum</th>\n",
       "    </tr>\n",
       "  </thead>\n",
       "  <tbody>\n",
       "    <tr>\n",
       "      <th>ITGB3</th>\n",
       "      <td>9.45 + 7.85</td>\n",
       "      <td>58</td>\n",
       "      <td>551</td>\n",
       "      <td>34</td>\n",
       "    </tr>\n",
       "  </tbody>\n",
       "</table>"
      ],
      "text/plain": [
       "<IPython.core.display.HTML object>"
      ]
     },
     "metadata": {},
     "output_type": "display_data"
    },
    {
     "name": "stdout",
     "output_type": "stream",
     "text": [
      "for 1th dataset ENTER: gtex_all\n",
      "for 2th dataset ENTER: tcga_normal_all\n",
      "no overlap between datasets\n",
      "insert name for 1th datasetgtex_all\n",
      "insert name for 2th datasettcga_normal_all\n",
      "for 1th dataset ENTER: gtex_all\n",
      "for 2th dataset ENTER: tcga_primtum_all\n",
      "no overlap between datasets\n",
      "insert name for 1th datasetgtex_all\n",
      "insert name for 2th datasettcga_primtum_all\n"
     ]
    },
    {
     "data": {
      "text/html": [
       "<table border=\"1\" class=\"dataframe\">\n",
       "  <thead>\n",
       "    <tr style=\"text-align: right;\">\n",
       "      <th></th>\n",
       "      <th>GTEX_expression_mean_&amp;_stdev</th>\n",
       "      <th>GTEX_highly_correlated</th>\n",
       "      <th>highly_correlated_in_TCGA_normal</th>\n",
       "      <th>highly_corelated_in_TCGA_primtum</th>\n",
       "    </tr>\n",
       "  </thead>\n",
       "  <tbody>\n",
       "    <tr>\n",
       "      <th>ITGA3</th>\n",
       "      <td>42.66 + 23.39</td>\n",
       "      <td>1431</td>\n",
       "      <td>2739</td>\n",
       "      <td>1</td>\n",
       "    </tr>\n",
       "  </tbody>\n",
       "</table>"
      ],
      "text/plain": [
       "<IPython.core.display.HTML object>"
      ]
     },
     "metadata": {},
     "output_type": "display_data"
    },
    {
     "name": "stdout",
     "output_type": "stream",
     "text": [
      "for 1th dataset ENTER: gtex_all\n",
      "for 2th dataset ENTER: tcga_normal_all\n",
      "no overlap between datasets\n",
      "insert name for 1th datasetgtex_all\n",
      "insert name for 2th datasettcga_normal_all\n",
      "for 1th dataset ENTER: gtex_all\n",
      "for 2th dataset ENTER: tcga_primtum_all\n",
      "no overlap between datasets\n",
      "insert name for 1th datasetgtex_all\n",
      "insert name for 2th datasettcga_primtum_all\n"
     ]
    },
    {
     "data": {
      "text/html": [
       "<table border=\"1\" class=\"dataframe\">\n",
       "  <thead>\n",
       "    <tr style=\"text-align: right;\">\n",
       "      <th></th>\n",
       "      <th>GTEX_expression_mean_&amp;_stdev</th>\n",
       "      <th>GTEX_highly_correlated</th>\n",
       "      <th>highly_correlated_in_TCGA_normal</th>\n",
       "      <th>highly_corelated_in_TCGA_primtum</th>\n",
       "    </tr>\n",
       "  </thead>\n",
       "  <tbody>\n",
       "    <tr>\n",
       "      <th>ITGB4</th>\n",
       "      <td>79.55 + 62.63</td>\n",
       "      <td>1619</td>\n",
       "      <td>2732</td>\n",
       "      <td>1</td>\n",
       "    </tr>\n",
       "  </tbody>\n",
       "</table>"
      ],
      "text/plain": [
       "<IPython.core.display.HTML object>"
      ]
     },
     "metadata": {},
     "output_type": "display_data"
    },
    {
     "name": "stdout",
     "output_type": "stream",
     "text": [
      "for 1th dataset ENTER: gtex_all\n",
      "for 2th dataset ENTER: tcga_normal_all\n",
      "no overlap between datasets\n",
      "insert name for 1th datasetgtex_all\n",
      "insert name for 2th datasettcga_normal_all\n",
      "for 1th dataset ENTER: gtex_all\n",
      "for 2th dataset ENTER: tcga_primtum_all\n",
      "no overlap between datasets\n",
      "insert name for 1th datasetgtex_all\n",
      "insert name for 2th datasettcga_primtum_all\n"
     ]
    }
   ],
   "source": [
    "# ERROR in above cell so continuing here from above cell\n",
    "#'ITGA7','ITGB8','ITGB6','ITGA10','ITGA6','ITGA4','ITGAV','ITGA9','ITGB5','ITGA1','ITGA2','ITGA8',\n",
    "#'ITGB1','ITGB7','ITGA5','ITGBL1','ITGA11','ITGAL','ITGAM',\n",
    "integrins_list= ['ITGAX','ITGAD','ITGAE','ITGA2B','ITGB3','ITGA3',\n",
    "                'ITGB4','ITGB2']\n",
    "\n",
    "gtex_gct_dataset = 'gene_tpm_2017-06-05_v8_breast_mammary_tissue.gct_2'\n",
    "correlation_method ='pearson'\n",
    "correlation_cutoff = 0.6\n",
    "tcga_hiseq_dataset = '/home/hshadman/integrins_expression/saghar_TCGA_Breast/TCGA_BRCA_HiSeqV2' \n",
    "tcga_hiseq_corresponding_sample_info = '/home/hshadman/integrins_expression/saghar_TCGA_Breast/TCGA.BRCA.sampleMap_BRCA_clinicalMatrix'\n",
    "opposing_corr_cutoff = 0.1\n",
    "\n",
    "# make_data_presentable(interest_gene,correlation_method, correlation_cutoff,opposing_corr_cutoff,gtex_gct_dataset,\n",
    "#                          tcga_hiseq_dataset,tcga_hiseq_corresponding_sample_info)\n",
    "\n",
    "for interest_gene in integrins_list:\n",
    "    organize_no_overlap(interest_gene,correlation_method, correlation_cutoff,opposing_corr_cutoff,gtex_gct_dataset,\n",
    "                             tcga_hiseq_dataset,tcga_hiseq_corresponding_sample_info)\n",
    "\n",
    "\n"
   ]
  },
  {
   "cell_type": "markdown",
   "metadata": {},
   "source": [
    "# doing it for every integrin"
   ]
  },
  {
   "cell_type": "code",
   "execution_count": 52,
   "metadata": {},
   "outputs": [
    {
     "name": "stdout",
     "output_type": "stream",
     "text": [
      "no overlap between datasets\n"
     ]
    },
    {
     "data": {
      "text/html": [
       "<table border=\"1\" class=\"dataframe\">\n",
       "  <thead>\n",
       "    <tr style=\"text-align: right;\">\n",
       "      <th></th>\n",
       "      <th>gtex_all</th>\n",
       "      <th>tcga_normal_all</th>\n",
       "      <th>tcga_primtum_all</th>\n",
       "    </tr>\n",
       "  </thead>\n",
       "  <tbody>\n",
       "    <tr>\n",
       "      <th>corr_with_ITGA7</th>\n",
       "      <td>52502</td>\n",
       "      <td>19929</td>\n",
       "      <td>20248</td>\n",
       "    </tr>\n",
       "  </tbody>\n",
       "</table>"
      ],
      "text/plain": [
       "<IPython.core.display.HTML object>"
      ]
     },
     "metadata": {},
     "output_type": "display_data"
    },
    {
     "name": "stdout",
     "output_type": "stream",
     "text": [
      "1st: common genes identified for all 3 datasets\n",
      "2nd: they were counted\n"
     ]
    },
    {
     "data": {
      "text/html": [
       "<table border=\"1\" class=\"dataframe\">\n",
       "  <thead>\n",
       "    <tr style=\"text-align: right;\">\n",
       "      <th></th>\n",
       "      <th>gtex_all</th>\n",
       "      <th>tcga_normal_all</th>\n",
       "      <th>tcga_primtum_all</th>\n",
       "    </tr>\n",
       "  </thead>\n",
       "  <tbody>\n",
       "    <tr>\n",
       "      <th>corr_with_ITGA7_all_same_genes</th>\n",
       "      <td>17313</td>\n",
       "      <td>17313</td>\n",
       "      <td>17313</td>\n",
       "    </tr>\n",
       "  </tbody>\n",
       "</table>"
      ],
      "text/plain": [
       "<IPython.core.display.HTML object>"
      ]
     },
     "metadata": {},
     "output_type": "display_data"
    },
    {
     "name": "stdout",
     "output_type": "stream",
     "text": [
      "for 1th dataset ENTER: gtex_all\n",
      "for 2th dataset ENTER: tcga_normal_all\n",
      "no overlap between datasets\n",
      "insert name for 1th datasetgtex_all\n",
      "insert name for 2th datasettcga_normal_all\n"
     ]
    },
    {
     "data": {
      "text/html": [
       "<table border=\"1\" class=\"dataframe\">\n",
       "  <thead>\n",
       "    <tr style=\"text-align: right;\">\n",
       "      <th></th>\n",
       "      <th>gtex_all</th>\n",
       "      <th>tcga_normal_all</th>\n",
       "    </tr>\n",
       "  </thead>\n",
       "  <tbody>\n",
       "    <tr>\n",
       "      <th>HIGHLY_correlated_with_ITGA7</th>\n",
       "      <td>319</td>\n",
       "      <td>1469</td>\n",
       "    </tr>\n",
       "  </tbody>\n",
       "</table>"
      ],
      "text/plain": [
       "<IPython.core.display.HTML object>"
      ]
     },
     "metadata": {},
     "output_type": "display_data"
    },
    {
     "name": "stdout",
     "output_type": "stream",
     "text": [
      "for dataset ENTER: tcga_normal_all\n",
      "insert name for other datasettcga_normall_all\n",
      "1st: high cutoff applied to gtex dataset\n",
      "2nd: common genes identified with other dataset\n",
      "3rd: both datasets combined\n",
      "4th: High cutoff applied to non-gtex dataset\n"
     ]
    },
    {
     "data": {
      "text/html": [
       "<table border=\"1\" class=\"dataframe\">\n",
       "  <thead>\n",
       "    <tr style=\"text-align: right;\">\n",
       "      <th></th>\n",
       "      <th>gtex_cutoffmet</th>\n",
       "      <th>tcga_normall_all</th>\n",
       "    </tr>\n",
       "  </thead>\n",
       "  <tbody>\n",
       "    <tr>\n",
       "      <th>high_corr_with_ITGA7_both_same_genes</th>\n",
       "      <td>247</td>\n",
       "      <td>247</td>\n",
       "    </tr>\n",
       "  </tbody>\n",
       "</table>"
      ],
      "text/plain": [
       "<IPython.core.display.HTML object>"
      ]
     },
     "metadata": {},
     "output_type": "display_data"
    },
    {
     "name": "stdout",
     "output_type": "stream",
     "text": [
      "for dataset ENTER: tcga_normal_all\n",
      "insert name for other datasettcga_normal_all\n",
      "1st: high cutoff applied to gtex dataset\n",
      "2nd: common genes identified with other dataset\n",
      "3rd: both datasets combined\n",
      "4th: low cutoff applied to non-gtex dataset\n"
     ]
    },
    {
     "data": {
      "text/html": [
       "<table border=\"1\" class=\"dataframe\">\n",
       "  <thead>\n",
       "    <tr style=\"text-align: right;\">\n",
       "      <th></th>\n",
       "      <th>gtex_cutoffmet</th>\n",
       "      <th>tcga_normal_all</th>\n",
       "    </tr>\n",
       "  </thead>\n",
       "  <tbody>\n",
       "    <tr>\n",
       "      <th>corr_with_ITGA7_highgtex_low_other</th>\n",
       "      <td>0</td>\n",
       "      <td>0</td>\n",
       "    </tr>\n",
       "  </tbody>\n",
       "</table>"
      ],
      "text/plain": [
       "<IPython.core.display.HTML object>"
      ]
     },
     "metadata": {},
     "output_type": "display_data"
    },
    {
     "name": "stdout",
     "output_type": "stream",
     "text": [
      "for dataset ENTER: tcga_primtum_all\n",
      "insert name for other datasettcga_primtum_all\n",
      "1st: high cutoff applied to gtex dataset\n",
      "2nd: common genes identified with other dataset\n",
      "3rd: both datasets combined\n",
      "4th: High cutoff applied to non-gtex dataset\n"
     ]
    },
    {
     "data": {
      "text/html": [
       "<table border=\"1\" class=\"dataframe\">\n",
       "  <thead>\n",
       "    <tr style=\"text-align: right;\">\n",
       "      <th></th>\n",
       "      <th>gtex_cutoffmet</th>\n",
       "      <th>tcga_primtum_all</th>\n",
       "    </tr>\n",
       "  </thead>\n",
       "  <tbody>\n",
       "    <tr>\n",
       "      <th>high_corr_with_ITGA7_both_same_genes</th>\n",
       "      <td>26</td>\n",
       "      <td>26</td>\n",
       "    </tr>\n",
       "  </tbody>\n",
       "</table>"
      ],
      "text/plain": [
       "<IPython.core.display.HTML object>"
      ]
     },
     "metadata": {},
     "output_type": "display_data"
    },
    {
     "name": "stdout",
     "output_type": "stream",
     "text": [
      "for dataset ENTER: tcga_primtum_all\n",
      "insert name for other datasettcga_primtum_all\n",
      "1st: high cutoff applied to gtex dataset\n",
      "2nd: common genes identified with other dataset\n",
      "3rd: both datasets combined\n",
      "4th: low cutoff applied to non-gtex dataset\n"
     ]
    },
    {
     "data": {
      "text/html": [
       "<table border=\"1\" class=\"dataframe\">\n",
       "  <thead>\n",
       "    <tr style=\"text-align: right;\">\n",
       "      <th></th>\n",
       "      <th>gtex_cutoffmet</th>\n",
       "      <th>tcga_primtum_all</th>\n",
       "    </tr>\n",
       "  </thead>\n",
       "  <tbody>\n",
       "    <tr>\n",
       "      <th>corr_with_ITGA7_highgtex_low_other</th>\n",
       "      <td>69</td>\n",
       "      <td>69</td>\n",
       "    </tr>\n",
       "  </tbody>\n",
       "</table>"
      ],
      "text/plain": [
       "<IPython.core.display.HTML object>"
      ]
     },
     "metadata": {},
     "output_type": "display_data"
    },
    {
     "name": "stdout",
     "output_type": "stream",
     "text": [
      "1st: high cutoff applied to tcga dataset\n",
      "2nd: common genes identified with gtex dataset\n",
      "3rd: both datasets combined\n",
      "4th: High cutoff applied to gtex dataset\n"
     ]
    },
    {
     "data": {
      "text/html": [
       "<table border=\"1\" class=\"dataframe\">\n",
       "  <thead>\n",
       "    <tr style=\"text-align: right;\">\n",
       "      <th></th>\n",
       "      <th>gtex_all</th>\n",
       "      <th>tcga_primtum_all_cutoffmet</th>\n",
       "    </tr>\n",
       "  </thead>\n",
       "  <tbody>\n",
       "    <tr>\n",
       "      <th>high_corr_with_ITGA7_both_same_genes</th>\n",
       "      <td>26</td>\n",
       "      <td>26</td>\n",
       "    </tr>\n",
       "  </tbody>\n",
       "</table>"
      ],
      "text/plain": [
       "<IPython.core.display.HTML object>"
      ]
     },
     "metadata": {},
     "output_type": "display_data"
    },
    {
     "name": "stdout",
     "output_type": "stream",
     "text": [
      "1st: high cutoff applied to tcga dataset\n",
      "2nd: common genes identified with gtex dataset\n",
      "3rd: both datasets combined\n",
      "4th: low cutoff applied to gtex dataset\n"
     ]
    },
    {
     "data": {
      "text/html": [
       "<table border=\"1\" class=\"dataframe\">\n",
       "  <thead>\n",
       "    <tr style=\"text-align: right;\">\n",
       "      <th></th>\n",
       "      <th>gtex_all</th>\n",
       "      <th>tcga_primtum_all_cutoffmet</th>\n",
       "    </tr>\n",
       "  </thead>\n",
       "  <tbody>\n",
       "    <tr>\n",
       "      <th>corr_with_ITGA7_both_same_genes</th>\n",
       "      <td>27</td>\n",
       "      <td>27</td>\n",
       "    </tr>\n",
       "  </tbody>\n",
       "</table>"
      ],
      "text/plain": [
       "<IPython.core.display.HTML object>"
      ]
     },
     "metadata": {},
     "output_type": "display_data"
    }
   ],
   "source": [
    "gtex_gct_dataset = 'gene_tpm_2017-06-05_v8_breast_mammary_tissue.gct_2'\n",
    "interest_gene = 'ITGA7'\n",
    "correlation_method ='pearson'\n",
    "correlation_cutoff = 0.6\n",
    "tcga_hiseq_dataset = '/home/hshadman/integrins_expression/saghar_TCGA_Breast/TCGA_BRCA_HiSeqV2' \n",
    "tcga_hiseq_corresponding_sample_info = '/home/hshadman/integrins_expression/saghar_TCGA_Breast/TCGA.BRCA.sampleMap_BRCA_clinicalMatrix'\n",
    "opposing_corr_cutoff = 0.1\n",
    "\n",
    "make_data_presentable(interest_gene,correlation_method, correlation_cutoff,opposing_corr_cutoff,gtex_gct_dataset,\n",
    "                         tcga_hiseq_dataset,tcga_hiseq_corresponding_sample_info)\n",
    "    \n"
   ]
  },
  {
   "cell_type": "code",
   "execution_count": 53,
   "metadata": {},
   "outputs": [
    {
     "name": "stdout",
     "output_type": "stream",
     "text": [
      "no overlap between datasets\n"
     ]
    },
    {
     "data": {
      "text/html": [
       "<table border=\"1\" class=\"dataframe\">\n",
       "  <thead>\n",
       "    <tr style=\"text-align: right;\">\n",
       "      <th></th>\n",
       "      <th>gtex_all</th>\n",
       "      <th>tcga_normal_all</th>\n",
       "      <th>tcga_primtum_all</th>\n",
       "    </tr>\n",
       "  </thead>\n",
       "  <tbody>\n",
       "    <tr>\n",
       "      <th>corr_with_ITGB8</th>\n",
       "      <td>52502</td>\n",
       "      <td>19929</td>\n",
       "      <td>20248</td>\n",
       "    </tr>\n",
       "  </tbody>\n",
       "</table>"
      ],
      "text/plain": [
       "<IPython.core.display.HTML object>"
      ]
     },
     "metadata": {},
     "output_type": "display_data"
    },
    {
     "name": "stdout",
     "output_type": "stream",
     "text": [
      "1st: common genes identified for all 3 datasets\n",
      "2nd: they were counted\n"
     ]
    },
    {
     "data": {
      "text/html": [
       "<table border=\"1\" class=\"dataframe\">\n",
       "  <thead>\n",
       "    <tr style=\"text-align: right;\">\n",
       "      <th></th>\n",
       "      <th>gtex_all</th>\n",
       "      <th>tcga_normal_all</th>\n",
       "      <th>tcga_primtum_all</th>\n",
       "    </tr>\n",
       "  </thead>\n",
       "  <tbody>\n",
       "    <tr>\n",
       "      <th>corr_with_ITGB8_all_same_genes</th>\n",
       "      <td>17313</td>\n",
       "      <td>17313</td>\n",
       "      <td>17313</td>\n",
       "    </tr>\n",
       "  </tbody>\n",
       "</table>"
      ],
      "text/plain": [
       "<IPython.core.display.HTML object>"
      ]
     },
     "metadata": {},
     "output_type": "display_data"
    },
    {
     "name": "stdout",
     "output_type": "stream",
     "text": [
      "for 1th dataset ENTER: gtex_all\n",
      "for 2th dataset ENTER: tcga_normal_all\n",
      "no overlap between datasets\n",
      "insert name for 1th datasetgtex_all\n",
      "insert name for 2th datasettcga_normal_all\n"
     ]
    },
    {
     "data": {
      "text/html": [
       "<table border=\"1\" class=\"dataframe\">\n",
       "  <thead>\n",
       "    <tr style=\"text-align: right;\">\n",
       "      <th></th>\n",
       "      <th>gtex_all</th>\n",
       "      <th>tcga_normal_all</th>\n",
       "    </tr>\n",
       "  </thead>\n",
       "  <tbody>\n",
       "    <tr>\n",
       "      <th>HIGHLY_correlated_with_ITGB8</th>\n",
       "      <td>2783</td>\n",
       "      <td>2773</td>\n",
       "    </tr>\n",
       "  </tbody>\n",
       "</table>"
      ],
      "text/plain": [
       "<IPython.core.display.HTML object>"
      ]
     },
     "metadata": {},
     "output_type": "display_data"
    },
    {
     "name": "stdout",
     "output_type": "stream",
     "text": [
      "for dataset ENTER: tcga_normal_all\n",
      "insert name for other datasettcga_normal_all\n",
      "1st: high cutoff applied to gtex dataset\n",
      "2nd: common genes identified with other dataset\n",
      "3rd: both datasets combined\n",
      "4th: High cutoff applied to non-gtex dataset\n"
     ]
    },
    {
     "data": {
      "text/html": [
       "<table border=\"1\" class=\"dataframe\">\n",
       "  <thead>\n",
       "    <tr style=\"text-align: right;\">\n",
       "      <th></th>\n",
       "      <th>gtex_cutoffmet</th>\n",
       "      <th>tcga_normal_all</th>\n",
       "    </tr>\n",
       "  </thead>\n",
       "  <tbody>\n",
       "    <tr>\n",
       "      <th>high_corr_with_ITGB8_both_same_genes</th>\n",
       "      <td>1132</td>\n",
       "      <td>1132</td>\n",
       "    </tr>\n",
       "  </tbody>\n",
       "</table>"
      ],
      "text/plain": [
       "<IPython.core.display.HTML object>"
      ]
     },
     "metadata": {},
     "output_type": "display_data"
    },
    {
     "name": "stdout",
     "output_type": "stream",
     "text": [
      "for dataset ENTER: tcga_normal_all\n",
      "insert name for other datasettcga_normal_all\n",
      "1st: high cutoff applied to gtex dataset\n",
      "2nd: common genes identified with other dataset\n",
      "3rd: both datasets combined\n",
      "4th: low cutoff applied to non-gtex dataset\n"
     ]
    },
    {
     "data": {
      "text/html": [
       "<table border=\"1\" class=\"dataframe\">\n",
       "  <thead>\n",
       "    <tr style=\"text-align: right;\">\n",
       "      <th></th>\n",
       "      <th>gtex_cutoffmet</th>\n",
       "      <th>tcga_normal_all</th>\n",
       "    </tr>\n",
       "  </thead>\n",
       "  <tbody>\n",
       "    <tr>\n",
       "      <th>corr_with_ITGB8_highgtex_low_other</th>\n",
       "      <td>91</td>\n",
       "      <td>91</td>\n",
       "    </tr>\n",
       "  </tbody>\n",
       "</table>"
      ],
      "text/plain": [
       "<IPython.core.display.HTML object>"
      ]
     },
     "metadata": {},
     "output_type": "display_data"
    },
    {
     "name": "stdout",
     "output_type": "stream",
     "text": [
      "for dataset ENTER: tcga_primtum_all\n",
      "insert name for other datasettcga_primtum_all\n",
      "1st: high cutoff applied to gtex dataset\n",
      "2nd: common genes identified with other dataset\n",
      "3rd: both datasets combined\n",
      "4th: High cutoff applied to non-gtex dataset\n"
     ]
    },
    {
     "data": {
      "text/html": [
       "<table border=\"1\" class=\"dataframe\">\n",
       "  <thead>\n",
       "    <tr style=\"text-align: right;\">\n",
       "      <th></th>\n",
       "      <th>gtex_cutoffmet</th>\n",
       "      <th>tcga_primtum_all</th>\n",
       "    </tr>\n",
       "  </thead>\n",
       "  <tbody>\n",
       "    <tr>\n",
       "      <th>high_corr_with_ITGB8_both_same_genes</th>\n",
       "      <td>1</td>\n",
       "      <td>1</td>\n",
       "    </tr>\n",
       "  </tbody>\n",
       "</table>"
      ],
      "text/plain": [
       "<IPython.core.display.HTML object>"
      ]
     },
     "metadata": {},
     "output_type": "display_data"
    },
    {
     "name": "stdout",
     "output_type": "stream",
     "text": [
      "for dataset ENTER: tcga_primtum_all\n",
      "insert name for other datasettcga_primtum_all\n",
      "1st: high cutoff applied to gtex dataset\n",
      "2nd: common genes identified with other dataset\n",
      "3rd: both datasets combined\n",
      "4th: low cutoff applied to non-gtex dataset\n"
     ]
    },
    {
     "data": {
      "text/html": [
       "<table border=\"1\" class=\"dataframe\">\n",
       "  <thead>\n",
       "    <tr style=\"text-align: right;\">\n",
       "      <th></th>\n",
       "      <th>gtex_cutoffmet</th>\n",
       "      <th>tcga_primtum_all</th>\n",
       "    </tr>\n",
       "  </thead>\n",
       "  <tbody>\n",
       "    <tr>\n",
       "      <th>corr_with_ITGB8_highgtex_low_other</th>\n",
       "      <td>1089</td>\n",
       "      <td>1089</td>\n",
       "    </tr>\n",
       "  </tbody>\n",
       "</table>"
      ],
      "text/plain": [
       "<IPython.core.display.HTML object>"
      ]
     },
     "metadata": {},
     "output_type": "display_data"
    },
    {
     "name": "stdout",
     "output_type": "stream",
     "text": [
      "1st: high cutoff applied to tcga dataset\n",
      "2nd: common genes identified with gtex dataset\n",
      "3rd: both datasets combined\n",
      "4th: High cutoff applied to gtex dataset\n"
     ]
    },
    {
     "data": {
      "text/html": [
       "<table border=\"1\" class=\"dataframe\">\n",
       "  <thead>\n",
       "    <tr style=\"text-align: right;\">\n",
       "      <th></th>\n",
       "      <th>gtex_all</th>\n",
       "      <th>tcga_primtum_all_cutoffmet</th>\n",
       "    </tr>\n",
       "  </thead>\n",
       "  <tbody>\n",
       "    <tr>\n",
       "      <th>high_corr_with_ITGB8_both_same_genes</th>\n",
       "      <td>1</td>\n",
       "      <td>1</td>\n",
       "    </tr>\n",
       "  </tbody>\n",
       "</table>"
      ],
      "text/plain": [
       "<IPython.core.display.HTML object>"
      ]
     },
     "metadata": {},
     "output_type": "display_data"
    },
    {
     "name": "stdout",
     "output_type": "stream",
     "text": [
      "1st: high cutoff applied to tcga dataset\n",
      "2nd: common genes identified with gtex dataset\n",
      "3rd: both datasets combined\n",
      "4th: low cutoff applied to gtex dataset\n"
     ]
    },
    {
     "data": {
      "text/html": [
       "<table border=\"1\" class=\"dataframe\">\n",
       "  <thead>\n",
       "    <tr style=\"text-align: right;\">\n",
       "      <th></th>\n",
       "      <th>gtex_all</th>\n",
       "      <th>tcga_primtum_all_cutoffmet</th>\n",
       "    </tr>\n",
       "  </thead>\n",
       "  <tbody>\n",
       "    <tr>\n",
       "      <th>corr_with_ITGB8_both_same_genes</th>\n",
       "      <td>0</td>\n",
       "      <td>0</td>\n",
       "    </tr>\n",
       "  </tbody>\n",
       "</table>"
      ],
      "text/plain": [
       "<IPython.core.display.HTML object>"
      ]
     },
     "metadata": {},
     "output_type": "display_data"
    }
   ],
   "source": [
    "gtex_gct_dataset = 'gene_tpm_2017-06-05_v8_breast_mammary_tissue.gct_2'\n",
    "interest_gene = 'ITGB8'\n",
    "correlation_method ='pearson'\n",
    "correlation_cutoff = 0.6\n",
    "tcga_hiseq_dataset = '/home/hshadman/integrins_expression/saghar_TCGA_Breast/TCGA_BRCA_HiSeqV2' \n",
    "tcga_hiseq_corresponding_sample_info = '/home/hshadman/integrins_expression/saghar_TCGA_Breast/TCGA.BRCA.sampleMap_BRCA_clinicalMatrix'\n",
    "opposing_corr_cutoff = 0.1\n",
    "\n",
    "make_data_presentable(interest_gene,correlation_method, correlation_cutoff,opposing_corr_cutoff,gtex_gct_dataset,\n",
    "                         tcga_hiseq_dataset,tcga_hiseq_corresponding_sample_info)\n",
    "    \n"
   ]
  },
  {
   "cell_type": "code",
   "execution_count": 54,
   "metadata": {},
   "outputs": [
    {
     "name": "stdout",
     "output_type": "stream",
     "text": [
      "no overlap between datasets\n"
     ]
    },
    {
     "data": {
      "text/html": [
       "<table border=\"1\" class=\"dataframe\">\n",
       "  <thead>\n",
       "    <tr style=\"text-align: right;\">\n",
       "      <th></th>\n",
       "      <th>gtex_all</th>\n",
       "      <th>tcga_normal_all</th>\n",
       "      <th>tcga_primtum_all</th>\n",
       "    </tr>\n",
       "  </thead>\n",
       "  <tbody>\n",
       "    <tr>\n",
       "      <th>corr_with_ITGB6</th>\n",
       "      <td>52502</td>\n",
       "      <td>19929</td>\n",
       "      <td>20248</td>\n",
       "    </tr>\n",
       "  </tbody>\n",
       "</table>"
      ],
      "text/plain": [
       "<IPython.core.display.HTML object>"
      ]
     },
     "metadata": {},
     "output_type": "display_data"
    },
    {
     "name": "stdout",
     "output_type": "stream",
     "text": [
      "1st: common genes identified for all 3 datasets\n",
      "2nd: they were counted\n"
     ]
    },
    {
     "data": {
      "text/html": [
       "<table border=\"1\" class=\"dataframe\">\n",
       "  <thead>\n",
       "    <tr style=\"text-align: right;\">\n",
       "      <th></th>\n",
       "      <th>gtex_all</th>\n",
       "      <th>tcga_normal_all</th>\n",
       "      <th>tcga_primtum_all</th>\n",
       "    </tr>\n",
       "  </thead>\n",
       "  <tbody>\n",
       "    <tr>\n",
       "      <th>corr_with_ITGB6_all_same_genes</th>\n",
       "      <td>17313</td>\n",
       "      <td>17313</td>\n",
       "      <td>17313</td>\n",
       "    </tr>\n",
       "  </tbody>\n",
       "</table>"
      ],
      "text/plain": [
       "<IPython.core.display.HTML object>"
      ]
     },
     "metadata": {},
     "output_type": "display_data"
    },
    {
     "name": "stdout",
     "output_type": "stream",
     "text": [
      "for 1th dataset ENTER: gtex_all\n",
      "for 2th dataset ENTER: tcga_normal_all\n",
      "no overlap between datasets\n",
      "insert name for 1th datasetgtex_all\n",
      "insert name for 2th datasettcga_normal_all\n"
     ]
    },
    {
     "data": {
      "text/html": [
       "<table border=\"1\" class=\"dataframe\">\n",
       "  <thead>\n",
       "    <tr style=\"text-align: right;\">\n",
       "      <th></th>\n",
       "      <th>gtex_all</th>\n",
       "      <th>tcga_normal_all</th>\n",
       "    </tr>\n",
       "  </thead>\n",
       "  <tbody>\n",
       "    <tr>\n",
       "      <th>HIGHLY_correlated_with_ITGB6</th>\n",
       "      <td>1613</td>\n",
       "      <td>1906</td>\n",
       "    </tr>\n",
       "  </tbody>\n",
       "</table>"
      ],
      "text/plain": [
       "<IPython.core.display.HTML object>"
      ]
     },
     "metadata": {},
     "output_type": "display_data"
    },
    {
     "name": "stdout",
     "output_type": "stream",
     "text": [
      "for dataset ENTER: tcga_normal_all\n",
      "insert name for other datasettcga_normal_all\n",
      "1st: high cutoff applied to gtex dataset\n",
      "2nd: common genes identified with other dataset\n",
      "3rd: both datasets combined\n",
      "4th: High cutoff applied to non-gtex dataset\n"
     ]
    },
    {
     "data": {
      "text/html": [
       "<table border=\"1\" class=\"dataframe\">\n",
       "  <thead>\n",
       "    <tr style=\"text-align: right;\">\n",
       "      <th></th>\n",
       "      <th>gtex_cutoffmet</th>\n",
       "      <th>tcga_normal_all</th>\n",
       "    </tr>\n",
       "  </thead>\n",
       "  <tbody>\n",
       "    <tr>\n",
       "      <th>high_corr_with_ITGB6_both_same_genes</th>\n",
       "      <td>649</td>\n",
       "      <td>649</td>\n",
       "    </tr>\n",
       "  </tbody>\n",
       "</table>"
      ],
      "text/plain": [
       "<IPython.core.display.HTML object>"
      ]
     },
     "metadata": {},
     "output_type": "display_data"
    },
    {
     "name": "stdout",
     "output_type": "stream",
     "text": [
      "for dataset ENTER: tcga_normal_all\n",
      "insert name for other datasettcga_normal_all\n",
      "1st: high cutoff applied to gtex dataset\n",
      "2nd: common genes identified with other dataset\n",
      "3rd: both datasets combined\n",
      "4th: low cutoff applied to non-gtex dataset\n"
     ]
    },
    {
     "data": {
      "text/html": [
       "<table border=\"1\" class=\"dataframe\">\n",
       "  <thead>\n",
       "    <tr style=\"text-align: right;\">\n",
       "      <th></th>\n",
       "      <th>gtex_cutoffmet</th>\n",
       "      <th>tcga_normal_all</th>\n",
       "    </tr>\n",
       "  </thead>\n",
       "  <tbody>\n",
       "    <tr>\n",
       "      <th>corr_with_ITGB6_highgtex_low_other</th>\n",
       "      <td>18</td>\n",
       "      <td>18</td>\n",
       "    </tr>\n",
       "  </tbody>\n",
       "</table>"
      ],
      "text/plain": [
       "<IPython.core.display.HTML object>"
      ]
     },
     "metadata": {},
     "output_type": "display_data"
    },
    {
     "name": "stdout",
     "output_type": "stream",
     "text": [
      "for dataset ENTER: tcga_primtum_all\n",
      "insert name for other datasettcga_primtum_all\n",
      "1st: high cutoff applied to gtex dataset\n",
      "2nd: common genes identified with other dataset\n",
      "3rd: both datasets combined\n",
      "4th: High cutoff applied to non-gtex dataset\n"
     ]
    },
    {
     "data": {
      "text/html": [
       "<table border=\"1\" class=\"dataframe\">\n",
       "  <thead>\n",
       "    <tr style=\"text-align: right;\">\n",
       "      <th></th>\n",
       "      <th>gtex_cutoffmet</th>\n",
       "      <th>tcga_primtum_all</th>\n",
       "    </tr>\n",
       "  </thead>\n",
       "  <tbody>\n",
       "    <tr>\n",
       "      <th>high_corr_with_ITGB6_both_same_genes</th>\n",
       "      <td>1</td>\n",
       "      <td>1</td>\n",
       "    </tr>\n",
       "  </tbody>\n",
       "</table>"
      ],
      "text/plain": [
       "<IPython.core.display.HTML object>"
      ]
     },
     "metadata": {},
     "output_type": "display_data"
    },
    {
     "name": "stdout",
     "output_type": "stream",
     "text": [
      "for dataset ENTER: tcga_primtum_all\n",
      "insert name for other datasettcga_primtum_all\n",
      "1st: high cutoff applied to gtex dataset\n",
      "2nd: common genes identified with other dataset\n",
      "3rd: both datasets combined\n",
      "4th: low cutoff applied to non-gtex dataset\n"
     ]
    },
    {
     "data": {
      "text/html": [
       "<table border=\"1\" class=\"dataframe\">\n",
       "  <thead>\n",
       "    <tr style=\"text-align: right;\">\n",
       "      <th></th>\n",
       "      <th>gtex_cutoffmet</th>\n",
       "      <th>tcga_primtum_all</th>\n",
       "    </tr>\n",
       "  </thead>\n",
       "  <tbody>\n",
       "    <tr>\n",
       "      <th>corr_with_ITGB6_highgtex_low_other</th>\n",
       "      <td>709</td>\n",
       "      <td>709</td>\n",
       "    </tr>\n",
       "  </tbody>\n",
       "</table>"
      ],
      "text/plain": [
       "<IPython.core.display.HTML object>"
      ]
     },
     "metadata": {},
     "output_type": "display_data"
    },
    {
     "name": "stdout",
     "output_type": "stream",
     "text": [
      "1st: high cutoff applied to tcga dataset\n",
      "2nd: common genes identified with gtex dataset\n",
      "3rd: both datasets combined\n",
      "4th: High cutoff applied to gtex dataset\n"
     ]
    },
    {
     "data": {
      "text/html": [
       "<table border=\"1\" class=\"dataframe\">\n",
       "  <thead>\n",
       "    <tr style=\"text-align: right;\">\n",
       "      <th></th>\n",
       "      <th>gtex_all</th>\n",
       "      <th>tcga_primtum_all_cutoffmet</th>\n",
       "    </tr>\n",
       "  </thead>\n",
       "  <tbody>\n",
       "    <tr>\n",
       "      <th>high_corr_with_ITGB6_both_same_genes</th>\n",
       "      <td>1</td>\n",
       "      <td>1</td>\n",
       "    </tr>\n",
       "  </tbody>\n",
       "</table>"
      ],
      "text/plain": [
       "<IPython.core.display.HTML object>"
      ]
     },
     "metadata": {},
     "output_type": "display_data"
    },
    {
     "name": "stdout",
     "output_type": "stream",
     "text": [
      "1st: high cutoff applied to tcga dataset\n",
      "2nd: common genes identified with gtex dataset\n",
      "3rd: both datasets combined\n",
      "4th: low cutoff applied to gtex dataset\n"
     ]
    },
    {
     "data": {
      "text/html": [
       "<table border=\"1\" class=\"dataframe\">\n",
       "  <thead>\n",
       "    <tr style=\"text-align: right;\">\n",
       "      <th></th>\n",
       "      <th>gtex_all</th>\n",
       "      <th>tcga_primtum_all_cutoffmet</th>\n",
       "    </tr>\n",
       "  </thead>\n",
       "  <tbody>\n",
       "    <tr>\n",
       "      <th>corr_with_ITGB6_both_same_genes</th>\n",
       "      <td>0</td>\n",
       "      <td>0</td>\n",
       "    </tr>\n",
       "  </tbody>\n",
       "</table>"
      ],
      "text/plain": [
       "<IPython.core.display.HTML object>"
      ]
     },
     "metadata": {},
     "output_type": "display_data"
    }
   ],
   "source": [
    "gtex_gct_dataset = 'gene_tpm_2017-06-05_v8_breast_mammary_tissue.gct_2'\n",
    "interest_gene = 'ITGB6'\n",
    "correlation_method ='pearson'\n",
    "correlation_cutoff = 0.6\n",
    "tcga_hiseq_dataset = '/home/hshadman/integrins_expression/saghar_TCGA_Breast/TCGA_BRCA_HiSeqV2' \n",
    "tcga_hiseq_corresponding_sample_info = '/home/hshadman/integrins_expression/saghar_TCGA_Breast/TCGA.BRCA.sampleMap_BRCA_clinicalMatrix'\n",
    "opposing_corr_cutoff = 0.1\n",
    "\n",
    "make_data_presentable(interest_gene,correlation_method, correlation_cutoff,opposing_corr_cutoff,gtex_gct_dataset,\n",
    "                         tcga_hiseq_dataset,tcga_hiseq_corresponding_sample_info)\n",
    "    \n"
   ]
  },
  {
   "cell_type": "code",
   "execution_count": 55,
   "metadata": {},
   "outputs": [
    {
     "name": "stdout",
     "output_type": "stream",
     "text": [
      "no overlap between datasets\n"
     ]
    },
    {
     "data": {
      "text/html": [
       "<table border=\"1\" class=\"dataframe\">\n",
       "  <thead>\n",
       "    <tr style=\"text-align: right;\">\n",
       "      <th></th>\n",
       "      <th>gtex_all</th>\n",
       "      <th>tcga_normal_all</th>\n",
       "      <th>tcga_primtum_all</th>\n",
       "    </tr>\n",
       "  </thead>\n",
       "  <tbody>\n",
       "    <tr>\n",
       "      <th>corr_with_ITGA10</th>\n",
       "      <td>52502</td>\n",
       "      <td>19929</td>\n",
       "      <td>20248</td>\n",
       "    </tr>\n",
       "  </tbody>\n",
       "</table>"
      ],
      "text/plain": [
       "<IPython.core.display.HTML object>"
      ]
     },
     "metadata": {},
     "output_type": "display_data"
    },
    {
     "name": "stdout",
     "output_type": "stream",
     "text": [
      "1st: common genes identified for all 3 datasets\n",
      "2nd: they were counted\n"
     ]
    },
    {
     "data": {
      "text/html": [
       "<table border=\"1\" class=\"dataframe\">\n",
       "  <thead>\n",
       "    <tr style=\"text-align: right;\">\n",
       "      <th></th>\n",
       "      <th>gtex_all</th>\n",
       "      <th>tcga_normal_all</th>\n",
       "      <th>tcga_primtum_all</th>\n",
       "    </tr>\n",
       "  </thead>\n",
       "  <tbody>\n",
       "    <tr>\n",
       "      <th>corr_with_ITGA10_all_same_genes</th>\n",
       "      <td>17313</td>\n",
       "      <td>17313</td>\n",
       "      <td>17313</td>\n",
       "    </tr>\n",
       "  </tbody>\n",
       "</table>"
      ],
      "text/plain": [
       "<IPython.core.display.HTML object>"
      ]
     },
     "metadata": {},
     "output_type": "display_data"
    },
    {
     "name": "stdout",
     "output_type": "stream",
     "text": [
      "for 1th dataset ENTER: gtex_all\n",
      "for 2th dataset ENTER: tcga_normal_all\n",
      "no overlap between datasets\n",
      "insert name for 1th datasetgtex_all\n",
      "insert name for 2th datasettcga_normal_all\n"
     ]
    },
    {
     "data": {
      "text/html": [
       "<table border=\"1\" class=\"dataframe\">\n",
       "  <thead>\n",
       "    <tr style=\"text-align: right;\">\n",
       "      <th></th>\n",
       "      <th>gtex_all</th>\n",
       "      <th>tcga_normal_all</th>\n",
       "    </tr>\n",
       "  </thead>\n",
       "  <tbody>\n",
       "    <tr>\n",
       "      <th>HIGHLY_correlated_with_ITGA10</th>\n",
       "      <td>379</td>\n",
       "      <td>2256</td>\n",
       "    </tr>\n",
       "  </tbody>\n",
       "</table>"
      ],
      "text/plain": [
       "<IPython.core.display.HTML object>"
      ]
     },
     "metadata": {},
     "output_type": "display_data"
    },
    {
     "name": "stdout",
     "output_type": "stream",
     "text": [
      "for dataset ENTER: tcga_normal_all\n",
      "insert name for other datasettcga_normal_all\n",
      "1st: high cutoff applied to gtex dataset\n",
      "2nd: common genes identified with other dataset\n",
      "3rd: both datasets combined\n",
      "4th: High cutoff applied to non-gtex dataset\n"
     ]
    },
    {
     "data": {
      "text/html": [
       "<table border=\"1\" class=\"dataframe\">\n",
       "  <thead>\n",
       "    <tr style=\"text-align: right;\">\n",
       "      <th></th>\n",
       "      <th>gtex_cutoffmet</th>\n",
       "      <th>tcga_normal_all</th>\n",
       "    </tr>\n",
       "  </thead>\n",
       "  <tbody>\n",
       "    <tr>\n",
       "      <th>high_corr_with_ITGA10_both_same_genes</th>\n",
       "      <td>145</td>\n",
       "      <td>145</td>\n",
       "    </tr>\n",
       "  </tbody>\n",
       "</table>"
      ],
      "text/plain": [
       "<IPython.core.display.HTML object>"
      ]
     },
     "metadata": {},
     "output_type": "display_data"
    },
    {
     "name": "stdout",
     "output_type": "stream",
     "text": [
      "for dataset ENTER: tcga_normal_all\n",
      "insert name for other datasettcga_normal_all\n",
      "1st: high cutoff applied to gtex dataset\n",
      "2nd: common genes identified with other dataset\n",
      "3rd: both datasets combined\n",
      "4th: low cutoff applied to non-gtex dataset\n"
     ]
    },
    {
     "data": {
      "text/html": [
       "<table border=\"1\" class=\"dataframe\">\n",
       "  <thead>\n",
       "    <tr style=\"text-align: right;\">\n",
       "      <th></th>\n",
       "      <th>gtex_cutoffmet</th>\n",
       "      <th>tcga_normal_all</th>\n",
       "    </tr>\n",
       "  </thead>\n",
       "  <tbody>\n",
       "    <tr>\n",
       "      <th>corr_with_ITGA10_highgtex_low_other</th>\n",
       "      <td>3</td>\n",
       "      <td>3</td>\n",
       "    </tr>\n",
       "  </tbody>\n",
       "</table>"
      ],
      "text/plain": [
       "<IPython.core.display.HTML object>"
      ]
     },
     "metadata": {},
     "output_type": "display_data"
    },
    {
     "name": "stdout",
     "output_type": "stream",
     "text": [
      "for dataset ENTER: tcga_primtum_all\n",
      "insert name for other datasettcga_primtum_all\n",
      "1st: high cutoff applied to gtex dataset\n",
      "2nd: common genes identified with other dataset\n",
      "3rd: both datasets combined\n",
      "4th: High cutoff applied to non-gtex dataset\n"
     ]
    },
    {
     "data": {
      "text/html": [
       "<table border=\"1\" class=\"dataframe\">\n",
       "  <thead>\n",
       "    <tr style=\"text-align: right;\">\n",
       "      <th></th>\n",
       "      <th>gtex_cutoffmet</th>\n",
       "      <th>tcga_primtum_all</th>\n",
       "    </tr>\n",
       "  </thead>\n",
       "  <tbody>\n",
       "    <tr>\n",
       "      <th>high_corr_with_ITGA10_both_same_genes</th>\n",
       "      <td>1</td>\n",
       "      <td>1</td>\n",
       "    </tr>\n",
       "  </tbody>\n",
       "</table>"
      ],
      "text/plain": [
       "<IPython.core.display.HTML object>"
      ]
     },
     "metadata": {},
     "output_type": "display_data"
    },
    {
     "name": "stdout",
     "output_type": "stream",
     "text": [
      "for dataset ENTER: tcga_primtum_all\n",
      "insert name for other datasettcga_primtum_all\n",
      "1st: high cutoff applied to gtex dataset\n",
      "2nd: common genes identified with other dataset\n",
      "3rd: both datasets combined\n",
      "4th: low cutoff applied to non-gtex dataset\n"
     ]
    },
    {
     "data": {
      "text/html": [
       "<table border=\"1\" class=\"dataframe\">\n",
       "  <thead>\n",
       "    <tr style=\"text-align: right;\">\n",
       "      <th></th>\n",
       "      <th>gtex_cutoffmet</th>\n",
       "      <th>tcga_primtum_all</th>\n",
       "    </tr>\n",
       "  </thead>\n",
       "  <tbody>\n",
       "    <tr>\n",
       "      <th>corr_with_ITGA10_highgtex_low_other</th>\n",
       "      <td>153</td>\n",
       "      <td>153</td>\n",
       "    </tr>\n",
       "  </tbody>\n",
       "</table>"
      ],
      "text/plain": [
       "<IPython.core.display.HTML object>"
      ]
     },
     "metadata": {},
     "output_type": "display_data"
    },
    {
     "name": "stdout",
     "output_type": "stream",
     "text": [
      "1st: high cutoff applied to tcga dataset\n",
      "2nd: common genes identified with gtex dataset\n",
      "3rd: both datasets combined\n",
      "4th: High cutoff applied to gtex dataset\n"
     ]
    },
    {
     "data": {
      "text/html": [
       "<table border=\"1\" class=\"dataframe\">\n",
       "  <thead>\n",
       "    <tr style=\"text-align: right;\">\n",
       "      <th></th>\n",
       "      <th>gtex_all</th>\n",
       "      <th>tcga_primtum_all_cutoffmet</th>\n",
       "    </tr>\n",
       "  </thead>\n",
       "  <tbody>\n",
       "    <tr>\n",
       "      <th>high_corr_with_ITGA10_both_same_genes</th>\n",
       "      <td>1</td>\n",
       "      <td>1</td>\n",
       "    </tr>\n",
       "  </tbody>\n",
       "</table>"
      ],
      "text/plain": [
       "<IPython.core.display.HTML object>"
      ]
     },
     "metadata": {},
     "output_type": "display_data"
    },
    {
     "name": "stdout",
     "output_type": "stream",
     "text": [
      "1st: high cutoff applied to tcga dataset\n",
      "2nd: common genes identified with gtex dataset\n",
      "3rd: both datasets combined\n",
      "4th: low cutoff applied to gtex dataset\n"
     ]
    },
    {
     "data": {
      "text/html": [
       "<table border=\"1\" class=\"dataframe\">\n",
       "  <thead>\n",
       "    <tr style=\"text-align: right;\">\n",
       "      <th></th>\n",
       "      <th>gtex_all</th>\n",
       "      <th>tcga_primtum_all_cutoffmet</th>\n",
       "    </tr>\n",
       "  </thead>\n",
       "  <tbody>\n",
       "    <tr>\n",
       "      <th>corr_with_ITGA10_both_same_genes</th>\n",
       "      <td>0</td>\n",
       "      <td>0</td>\n",
       "    </tr>\n",
       "  </tbody>\n",
       "</table>"
      ],
      "text/plain": [
       "<IPython.core.display.HTML object>"
      ]
     },
     "metadata": {},
     "output_type": "display_data"
    }
   ],
   "source": [
    "gtex_gct_dataset = 'gene_tpm_2017-06-05_v8_breast_mammary_tissue.gct_2'\n",
    "interest_gene = 'ITGA10'\n",
    "correlation_method ='pearson'\n",
    "correlation_cutoff = 0.6\n",
    "tcga_hiseq_dataset = '/home/hshadman/integrins_expression/saghar_TCGA_Breast/TCGA_BRCA_HiSeqV2' \n",
    "tcga_hiseq_corresponding_sample_info = '/home/hshadman/integrins_expression/saghar_TCGA_Breast/TCGA.BRCA.sampleMap_BRCA_clinicalMatrix'\n",
    "opposing_corr_cutoff = 0.1\n",
    "\n",
    "make_data_presentable(interest_gene,correlation_method, correlation_cutoff,opposing_corr_cutoff,gtex_gct_dataset,\n",
    "                         tcga_hiseq_dataset,tcga_hiseq_corresponding_sample_info)\n",
    "    \n"
   ]
  },
  {
   "cell_type": "code",
   "execution_count": 57,
   "metadata": {},
   "outputs": [
    {
     "name": "stdout",
     "output_type": "stream",
     "text": [
      "no overlap between datasets\n"
     ]
    },
    {
     "data": {
      "text/html": [
       "<table border=\"1\" class=\"dataframe\">\n",
       "  <thead>\n",
       "    <tr style=\"text-align: right;\">\n",
       "      <th></th>\n",
       "      <th>gtex_all</th>\n",
       "      <th>tcga_normal_all</th>\n",
       "      <th>tcga_primtum_all</th>\n",
       "    </tr>\n",
       "  </thead>\n",
       "  <tbody>\n",
       "    <tr>\n",
       "      <th>corr_with_ITGA6</th>\n",
       "      <td>52502</td>\n",
       "      <td>19929</td>\n",
       "      <td>20248</td>\n",
       "    </tr>\n",
       "  </tbody>\n",
       "</table>"
      ],
      "text/plain": [
       "<IPython.core.display.HTML object>"
      ]
     },
     "metadata": {},
     "output_type": "display_data"
    },
    {
     "name": "stdout",
     "output_type": "stream",
     "text": [
      "1st: common genes identified for all 3 datasets\n",
      "2nd: they were counted\n"
     ]
    },
    {
     "data": {
      "text/html": [
       "<table border=\"1\" class=\"dataframe\">\n",
       "  <thead>\n",
       "    <tr style=\"text-align: right;\">\n",
       "      <th></th>\n",
       "      <th>gtex_all</th>\n",
       "      <th>tcga_normal_all</th>\n",
       "      <th>tcga_primtum_all</th>\n",
       "    </tr>\n",
       "  </thead>\n",
       "  <tbody>\n",
       "    <tr>\n",
       "      <th>corr_with_ITGA6_all_same_genes</th>\n",
       "      <td>17313</td>\n",
       "      <td>17313</td>\n",
       "      <td>17313</td>\n",
       "    </tr>\n",
       "  </tbody>\n",
       "</table>"
      ],
      "text/plain": [
       "<IPython.core.display.HTML object>"
      ]
     },
     "metadata": {},
     "output_type": "display_data"
    },
    {
     "name": "stdout",
     "output_type": "stream",
     "text": [
      "for 1th dataset ENTER: gtex_all\n",
      "for 2th dataset ENTER: tcga_normal_all\n",
      "no overlap between datasets\n",
      "insert name for 1th datasetgtex_all\n",
      "insert name for 2th datasettcga_normal_all\n"
     ]
    },
    {
     "data": {
      "text/html": [
       "<table border=\"1\" class=\"dataframe\">\n",
       "  <thead>\n",
       "    <tr style=\"text-align: right;\">\n",
       "      <th></th>\n",
       "      <th>gtex_all</th>\n",
       "      <th>tcga_normal_all</th>\n",
       "    </tr>\n",
       "  </thead>\n",
       "  <tbody>\n",
       "    <tr>\n",
       "      <th>HIGHLY_correlated_with_ITGA6</th>\n",
       "      <td>44</td>\n",
       "      <td>946</td>\n",
       "    </tr>\n",
       "  </tbody>\n",
       "</table>"
      ],
      "text/plain": [
       "<IPython.core.display.HTML object>"
      ]
     },
     "metadata": {},
     "output_type": "display_data"
    },
    {
     "name": "stdout",
     "output_type": "stream",
     "text": [
      "for dataset ENTER: tcga_normal_all\n",
      "insert name for other datasettcga_normal_all\n",
      "1st: high cutoff applied to gtex dataset\n",
      "2nd: common genes identified with other dataset\n",
      "3rd: both datasets combined\n",
      "4th: High cutoff applied to non-gtex dataset\n"
     ]
    },
    {
     "data": {
      "text/html": [
       "<table border=\"1\" class=\"dataframe\">\n",
       "  <thead>\n",
       "    <tr style=\"text-align: right;\">\n",
       "      <th></th>\n",
       "      <th>gtex_cutoffmet</th>\n",
       "      <th>tcga_normal_all</th>\n",
       "    </tr>\n",
       "  </thead>\n",
       "  <tbody>\n",
       "    <tr>\n",
       "      <th>high_corr_with_ITGA6_both_same_genes</th>\n",
       "      <td>8</td>\n",
       "      <td>8</td>\n",
       "    </tr>\n",
       "  </tbody>\n",
       "</table>"
      ],
      "text/plain": [
       "<IPython.core.display.HTML object>"
      ]
     },
     "metadata": {},
     "output_type": "display_data"
    },
    {
     "name": "stdout",
     "output_type": "stream",
     "text": [
      "for dataset ENTER: tcga_normal_all\n",
      "insert name for other datasettcga_normal_all\n",
      "1st: high cutoff applied to gtex dataset\n",
      "2nd: common genes identified with other dataset\n",
      "3rd: both datasets combined\n",
      "4th: low cutoff applied to non-gtex dataset\n"
     ]
    },
    {
     "data": {
      "text/html": [
       "<table border=\"1\" class=\"dataframe\">\n",
       "  <thead>\n",
       "    <tr style=\"text-align: right;\">\n",
       "      <th></th>\n",
       "      <th>gtex_cutoffmet</th>\n",
       "      <th>tcga_normal_all</th>\n",
       "    </tr>\n",
       "  </thead>\n",
       "  <tbody>\n",
       "    <tr>\n",
       "      <th>corr_with_ITGA6_highgtex_low_other</th>\n",
       "      <td>7</td>\n",
       "      <td>7</td>\n",
       "    </tr>\n",
       "  </tbody>\n",
       "</table>"
      ],
      "text/plain": [
       "<IPython.core.display.HTML object>"
      ]
     },
     "metadata": {},
     "output_type": "display_data"
    },
    {
     "name": "stdout",
     "output_type": "stream",
     "text": [
      "for dataset ENTER: tcga_primtum_all\n",
      "insert name for other datasettcga_primtum_all\n",
      "1st: high cutoff applied to gtex dataset\n",
      "2nd: common genes identified with other dataset\n",
      "3rd: both datasets combined\n",
      "4th: High cutoff applied to non-gtex dataset\n"
     ]
    },
    {
     "data": {
      "text/html": [
       "<table border=\"1\" class=\"dataframe\">\n",
       "  <thead>\n",
       "    <tr style=\"text-align: right;\">\n",
       "      <th></th>\n",
       "      <th>gtex_cutoffmet</th>\n",
       "      <th>tcga_primtum_all</th>\n",
       "    </tr>\n",
       "  </thead>\n",
       "  <tbody>\n",
       "    <tr>\n",
       "      <th>high_corr_with_ITGA6_both_same_genes</th>\n",
       "      <td>1</td>\n",
       "      <td>1</td>\n",
       "    </tr>\n",
       "  </tbody>\n",
       "</table>"
      ],
      "text/plain": [
       "<IPython.core.display.HTML object>"
      ]
     },
     "metadata": {},
     "output_type": "display_data"
    },
    {
     "name": "stdout",
     "output_type": "stream",
     "text": [
      "for dataset ENTER: tcga_primtum_all\n",
      "insert name for other datasettcga_primtum_all\n",
      "1st: high cutoff applied to gtex dataset\n",
      "2nd: common genes identified with other dataset\n",
      "3rd: both datasets combined\n",
      "4th: low cutoff applied to non-gtex dataset\n"
     ]
    },
    {
     "data": {
      "text/html": [
       "<table border=\"1\" class=\"dataframe\">\n",
       "  <thead>\n",
       "    <tr style=\"text-align: right;\">\n",
       "      <th></th>\n",
       "      <th>gtex_cutoffmet</th>\n",
       "      <th>tcga_primtum_all</th>\n",
       "    </tr>\n",
       "  </thead>\n",
       "  <tbody>\n",
       "    <tr>\n",
       "      <th>corr_with_ITGA6_highgtex_low_other</th>\n",
       "      <td>5</td>\n",
       "      <td>5</td>\n",
       "    </tr>\n",
       "  </tbody>\n",
       "</table>"
      ],
      "text/plain": [
       "<IPython.core.display.HTML object>"
      ]
     },
     "metadata": {},
     "output_type": "display_data"
    },
    {
     "name": "stdout",
     "output_type": "stream",
     "text": [
      "1st: high cutoff applied to tcga dataset\n",
      "2nd: common genes identified with gtex dataset\n",
      "3rd: both datasets combined\n",
      "4th: High cutoff applied to gtex dataset\n"
     ]
    },
    {
     "data": {
      "text/html": [
       "<table border=\"1\" class=\"dataframe\">\n",
       "  <thead>\n",
       "    <tr style=\"text-align: right;\">\n",
       "      <th></th>\n",
       "      <th>gtex_all</th>\n",
       "      <th>tcga_primtum_all_cutoffmet</th>\n",
       "    </tr>\n",
       "  </thead>\n",
       "  <tbody>\n",
       "    <tr>\n",
       "      <th>high_corr_with_ITGA6_both_same_genes</th>\n",
       "      <td>1</td>\n",
       "      <td>1</td>\n",
       "    </tr>\n",
       "  </tbody>\n",
       "</table>"
      ],
      "text/plain": [
       "<IPython.core.display.HTML object>"
      ]
     },
     "metadata": {},
     "output_type": "display_data"
    },
    {
     "name": "stdout",
     "output_type": "stream",
     "text": [
      "1st: high cutoff applied to tcga dataset\n",
      "2nd: common genes identified with gtex dataset\n",
      "3rd: both datasets combined\n",
      "4th: low cutoff applied to gtex dataset\n"
     ]
    },
    {
     "data": {
      "text/html": [
       "<table border=\"1\" class=\"dataframe\">\n",
       "  <thead>\n",
       "    <tr style=\"text-align: right;\">\n",
       "      <th></th>\n",
       "      <th>gtex_all</th>\n",
       "      <th>tcga_primtum_all_cutoffmet</th>\n",
       "    </tr>\n",
       "  </thead>\n",
       "  <tbody>\n",
       "    <tr>\n",
       "      <th>corr_with_ITGA6_both_same_genes</th>\n",
       "      <td>0</td>\n",
       "      <td>0</td>\n",
       "    </tr>\n",
       "  </tbody>\n",
       "</table>"
      ],
      "text/plain": [
       "<IPython.core.display.HTML object>"
      ]
     },
     "metadata": {},
     "output_type": "display_data"
    }
   ],
   "source": [
    "gtex_gct_dataset = 'gene_tpm_2017-06-05_v8_breast_mammary_tissue.gct_2'\n",
    "interest_gene = 'ITGA6'\n",
    "correlation_method ='pearson'\n",
    "correlation_cutoff = 0.6\n",
    "tcga_hiseq_dataset = '/home/hshadman/integrins_expression/saghar_TCGA_Breast/TCGA_BRCA_HiSeqV2' \n",
    "tcga_hiseq_corresponding_sample_info = '/home/hshadman/integrins_expression/saghar_TCGA_Breast/TCGA.BRCA.sampleMap_BRCA_clinicalMatrix'\n",
    "opposing_corr_cutoff = 0.1\n",
    "\n",
    "make_data_presentable(interest_gene,correlation_method, correlation_cutoff,opposing_corr_cutoff,gtex_gct_dataset,\n",
    "                         tcga_hiseq_dataset,tcga_hiseq_corresponding_sample_info)\n",
    "    \n"
   ]
  },
  {
   "cell_type": "code",
   "execution_count": 58,
   "metadata": {},
   "outputs": [
    {
     "name": "stdout",
     "output_type": "stream",
     "text": [
      "no overlap between datasets\n"
     ]
    },
    {
     "data": {
      "text/html": [
       "<table border=\"1\" class=\"dataframe\">\n",
       "  <thead>\n",
       "    <tr style=\"text-align: right;\">\n",
       "      <th></th>\n",
       "      <th>gtex_all</th>\n",
       "      <th>tcga_normal_all</th>\n",
       "      <th>tcga_primtum_all</th>\n",
       "    </tr>\n",
       "  </thead>\n",
       "  <tbody>\n",
       "    <tr>\n",
       "      <th>corr_with_ITGA4</th>\n",
       "      <td>52502</td>\n",
       "      <td>19929</td>\n",
       "      <td>20248</td>\n",
       "    </tr>\n",
       "  </tbody>\n",
       "</table>"
      ],
      "text/plain": [
       "<IPython.core.display.HTML object>"
      ]
     },
     "metadata": {},
     "output_type": "display_data"
    },
    {
     "name": "stdout",
     "output_type": "stream",
     "text": [
      "1st: common genes identified for all 3 datasets\n",
      "2nd: they were counted\n"
     ]
    },
    {
     "data": {
      "text/html": [
       "<table border=\"1\" class=\"dataframe\">\n",
       "  <thead>\n",
       "    <tr style=\"text-align: right;\">\n",
       "      <th></th>\n",
       "      <th>gtex_all</th>\n",
       "      <th>tcga_normal_all</th>\n",
       "      <th>tcga_primtum_all</th>\n",
       "    </tr>\n",
       "  </thead>\n",
       "  <tbody>\n",
       "    <tr>\n",
       "      <th>corr_with_ITGA4_all_same_genes</th>\n",
       "      <td>17313</td>\n",
       "      <td>17313</td>\n",
       "      <td>17313</td>\n",
       "    </tr>\n",
       "  </tbody>\n",
       "</table>"
      ],
      "text/plain": [
       "<IPython.core.display.HTML object>"
      ]
     },
     "metadata": {},
     "output_type": "display_data"
    },
    {
     "name": "stdout",
     "output_type": "stream",
     "text": [
      "for 1th dataset ENTER: gtex_all\n",
      "for 2th dataset ENTER: tcga_normal_all\n",
      "no overlap between datasets\n",
      "insert name for 1th datasetgtex_all\n",
      "insert name for 2th datasettcga_normal_all\n"
     ]
    },
    {
     "data": {
      "text/html": [
       "<table border=\"1\" class=\"dataframe\">\n",
       "  <thead>\n",
       "    <tr style=\"text-align: right;\">\n",
       "      <th></th>\n",
       "      <th>gtex_all</th>\n",
       "      <th>tcga_normal_all</th>\n",
       "    </tr>\n",
       "  </thead>\n",
       "  <tbody>\n",
       "    <tr>\n",
       "      <th>HIGHLY_correlated_with_ITGA4</th>\n",
       "      <td>116</td>\n",
       "      <td>416</td>\n",
       "    </tr>\n",
       "  </tbody>\n",
       "</table>"
      ],
      "text/plain": [
       "<IPython.core.display.HTML object>"
      ]
     },
     "metadata": {},
     "output_type": "display_data"
    },
    {
     "name": "stdout",
     "output_type": "stream",
     "text": [
      "for dataset ENTER: tcga_normal_all\n",
      "insert name for other datasettcga_normal_all\n",
      "1st: high cutoff applied to gtex dataset\n",
      "2nd: common genes identified with other dataset\n",
      "3rd: both datasets combined\n",
      "4th: High cutoff applied to non-gtex dataset\n"
     ]
    },
    {
     "data": {
      "text/html": [
       "<table border=\"1\" class=\"dataframe\">\n",
       "  <thead>\n",
       "    <tr style=\"text-align: right;\">\n",
       "      <th></th>\n",
       "      <th>gtex_cutoffmet</th>\n",
       "      <th>tcga_normal_all</th>\n",
       "    </tr>\n",
       "  </thead>\n",
       "  <tbody>\n",
       "    <tr>\n",
       "      <th>high_corr_with_ITGA4_both_same_genes</th>\n",
       "      <td>44</td>\n",
       "      <td>44</td>\n",
       "    </tr>\n",
       "  </tbody>\n",
       "</table>"
      ],
      "text/plain": [
       "<IPython.core.display.HTML object>"
      ]
     },
     "metadata": {},
     "output_type": "display_data"
    },
    {
     "name": "stdout",
     "output_type": "stream",
     "text": [
      "for dataset ENTER: tcga_normal_all\n",
      "insert name for other datasettcga_normal_all\n",
      "1st: high cutoff applied to gtex dataset\n",
      "2nd: common genes identified with other dataset\n",
      "3rd: both datasets combined\n",
      "4th: low cutoff applied to non-gtex dataset\n"
     ]
    },
    {
     "data": {
      "text/html": [
       "<table border=\"1\" class=\"dataframe\">\n",
       "  <thead>\n",
       "    <tr style=\"text-align: right;\">\n",
       "      <th></th>\n",
       "      <th>gtex_cutoffmet</th>\n",
       "      <th>tcga_normal_all</th>\n",
       "    </tr>\n",
       "  </thead>\n",
       "  <tbody>\n",
       "    <tr>\n",
       "      <th>corr_with_ITGA4_highgtex_low_other</th>\n",
       "      <td>1</td>\n",
       "      <td>1</td>\n",
       "    </tr>\n",
       "  </tbody>\n",
       "</table>"
      ],
      "text/plain": [
       "<IPython.core.display.HTML object>"
      ]
     },
     "metadata": {},
     "output_type": "display_data"
    },
    {
     "name": "stdout",
     "output_type": "stream",
     "text": [
      "for dataset ENTER: tcga_primtum_all\n",
      "insert name for other datasettcga_primtum_all\n",
      "1st: high cutoff applied to gtex dataset\n",
      "2nd: common genes identified with other dataset\n",
      "3rd: both datasets combined\n",
      "4th: High cutoff applied to non-gtex dataset\n"
     ]
    },
    {
     "data": {
      "text/html": [
       "<table border=\"1\" class=\"dataframe\">\n",
       "  <thead>\n",
       "    <tr style=\"text-align: right;\">\n",
       "      <th></th>\n",
       "      <th>gtex_cutoffmet</th>\n",
       "      <th>tcga_primtum_all</th>\n",
       "    </tr>\n",
       "  </thead>\n",
       "  <tbody>\n",
       "    <tr>\n",
       "      <th>high_corr_with_ITGA4_both_same_genes</th>\n",
       "      <td>24</td>\n",
       "      <td>24</td>\n",
       "    </tr>\n",
       "  </tbody>\n",
       "</table>"
      ],
      "text/plain": [
       "<IPython.core.display.HTML object>"
      ]
     },
     "metadata": {},
     "output_type": "display_data"
    },
    {
     "name": "stdout",
     "output_type": "stream",
     "text": [
      "for dataset ENTER: tcga_primtum_all\n",
      "insert name for other datasettcga_primtum_all\n",
      "1st: high cutoff applied to gtex dataset\n",
      "2nd: common genes identified with other dataset\n",
      "3rd: both datasets combined\n",
      "4th: low cutoff applied to non-gtex dataset\n"
     ]
    },
    {
     "data": {
      "text/html": [
       "<table border=\"1\" class=\"dataframe\">\n",
       "  <thead>\n",
       "    <tr style=\"text-align: right;\">\n",
       "      <th></th>\n",
       "      <th>gtex_cutoffmet</th>\n",
       "      <th>tcga_primtum_all</th>\n",
       "    </tr>\n",
       "  </thead>\n",
       "  <tbody>\n",
       "    <tr>\n",
       "      <th>corr_with_ITGA4_highgtex_low_other</th>\n",
       "      <td>1</td>\n",
       "      <td>1</td>\n",
       "    </tr>\n",
       "  </tbody>\n",
       "</table>"
      ],
      "text/plain": [
       "<IPython.core.display.HTML object>"
      ]
     },
     "metadata": {},
     "output_type": "display_data"
    },
    {
     "name": "stdout",
     "output_type": "stream",
     "text": [
      "1st: high cutoff applied to tcga dataset\n",
      "2nd: common genes identified with gtex dataset\n",
      "3rd: both datasets combined\n",
      "4th: High cutoff applied to gtex dataset\n"
     ]
    },
    {
     "data": {
      "text/html": [
       "<table border=\"1\" class=\"dataframe\">\n",
       "  <thead>\n",
       "    <tr style=\"text-align: right;\">\n",
       "      <th></th>\n",
       "      <th>gtex_all</th>\n",
       "      <th>tcga_primtum_all_cutoffmet</th>\n",
       "    </tr>\n",
       "  </thead>\n",
       "  <tbody>\n",
       "    <tr>\n",
       "      <th>high_corr_with_ITGA4_both_same_genes</th>\n",
       "      <td>24</td>\n",
       "      <td>24</td>\n",
       "    </tr>\n",
       "  </tbody>\n",
       "</table>"
      ],
      "text/plain": [
       "<IPython.core.display.HTML object>"
      ]
     },
     "metadata": {},
     "output_type": "display_data"
    },
    {
     "name": "stdout",
     "output_type": "stream",
     "text": [
      "1st: high cutoff applied to tcga dataset\n",
      "2nd: common genes identified with gtex dataset\n",
      "3rd: both datasets combined\n",
      "4th: low cutoff applied to gtex dataset\n"
     ]
    },
    {
     "data": {
      "text/html": [
       "<table border=\"1\" class=\"dataframe\">\n",
       "  <thead>\n",
       "    <tr style=\"text-align: right;\">\n",
       "      <th></th>\n",
       "      <th>gtex_all</th>\n",
       "      <th>tcga_primtum_all_cutoffmet</th>\n",
       "    </tr>\n",
       "  </thead>\n",
       "  <tbody>\n",
       "    <tr>\n",
       "      <th>corr_with_ITGA4_both_same_genes</th>\n",
       "      <td>38</td>\n",
       "      <td>38</td>\n",
       "    </tr>\n",
       "  </tbody>\n",
       "</table>"
      ],
      "text/plain": [
       "<IPython.core.display.HTML object>"
      ]
     },
     "metadata": {},
     "output_type": "display_data"
    }
   ],
   "source": [
    "gtex_gct_dataset = 'gene_tpm_2017-06-05_v8_breast_mammary_tissue.gct_2'\n",
    "interest_gene = 'ITGA4'\n",
    "correlation_method ='pearson'\n",
    "correlation_cutoff = 0.6\n",
    "tcga_hiseq_dataset = '/home/hshadman/integrins_expression/saghar_TCGA_Breast/TCGA_BRCA_HiSeqV2' \n",
    "tcga_hiseq_corresponding_sample_info = '/home/hshadman/integrins_expression/saghar_TCGA_Breast/TCGA.BRCA.sampleMap_BRCA_clinicalMatrix'\n",
    "opposing_corr_cutoff = 0.1\n",
    "\n",
    "make_data_presentable(interest_gene,correlation_method, correlation_cutoff,opposing_corr_cutoff,gtex_gct_dataset,\n",
    "                         tcga_hiseq_dataset,tcga_hiseq_corresponding_sample_info)\n",
    "    \n"
   ]
  },
  {
   "cell_type": "code",
   "execution_count": 59,
   "metadata": {},
   "outputs": [
    {
     "name": "stdout",
     "output_type": "stream",
     "text": [
      "no overlap between datasets\n"
     ]
    },
    {
     "data": {
      "text/html": [
       "<table border=\"1\" class=\"dataframe\">\n",
       "  <thead>\n",
       "    <tr style=\"text-align: right;\">\n",
       "      <th></th>\n",
       "      <th>gtex_all</th>\n",
       "      <th>tcga_normal_all</th>\n",
       "      <th>tcga_primtum_all</th>\n",
       "    </tr>\n",
       "  </thead>\n",
       "  <tbody>\n",
       "    <tr>\n",
       "      <th>corr_with_ITGAV</th>\n",
       "      <td>52502</td>\n",
       "      <td>19929</td>\n",
       "      <td>20248</td>\n",
       "    </tr>\n",
       "  </tbody>\n",
       "</table>"
      ],
      "text/plain": [
       "<IPython.core.display.HTML object>"
      ]
     },
     "metadata": {},
     "output_type": "display_data"
    },
    {
     "name": "stdout",
     "output_type": "stream",
     "text": [
      "1st: common genes identified for all 3 datasets\n",
      "2nd: they were counted\n"
     ]
    },
    {
     "data": {
      "text/html": [
       "<table border=\"1\" class=\"dataframe\">\n",
       "  <thead>\n",
       "    <tr style=\"text-align: right;\">\n",
       "      <th></th>\n",
       "      <th>gtex_all</th>\n",
       "      <th>tcga_normal_all</th>\n",
       "      <th>tcga_primtum_all</th>\n",
       "    </tr>\n",
       "  </thead>\n",
       "  <tbody>\n",
       "    <tr>\n",
       "      <th>corr_with_ITGAV_all_same_genes</th>\n",
       "      <td>17313</td>\n",
       "      <td>17313</td>\n",
       "      <td>17313</td>\n",
       "    </tr>\n",
       "  </tbody>\n",
       "</table>"
      ],
      "text/plain": [
       "<IPython.core.display.HTML object>"
      ]
     },
     "metadata": {},
     "output_type": "display_data"
    },
    {
     "name": "stdout",
     "output_type": "stream",
     "text": [
      "for 1th dataset ENTER: gtex_all\n",
      "for 2th dataset ENTER: tcga_normal_all\n",
      "no overlap between datasets\n",
      "insert name for 1th datasetgtex_all\n",
      "insert name for 2th datasettcga_normal_all\n"
     ]
    },
    {
     "data": {
      "text/html": [
       "<table border=\"1\" class=\"dataframe\">\n",
       "  <thead>\n",
       "    <tr style=\"text-align: right;\">\n",
       "      <th></th>\n",
       "      <th>gtex_all</th>\n",
       "      <th>tcga_normal_all</th>\n",
       "    </tr>\n",
       "  </thead>\n",
       "  <tbody>\n",
       "    <tr>\n",
       "      <th>HIGHLY_correlated_with_ITGAV</th>\n",
       "      <td>162</td>\n",
       "      <td>943</td>\n",
       "    </tr>\n",
       "  </tbody>\n",
       "</table>"
      ],
      "text/plain": [
       "<IPython.core.display.HTML object>"
      ]
     },
     "metadata": {},
     "output_type": "display_data"
    },
    {
     "name": "stdout",
     "output_type": "stream",
     "text": [
      "for dataset ENTER: tcga_normal_all\n",
      "insert name for other datasettcga_normal_all\n",
      "1st: high cutoff applied to gtex dataset\n",
      "2nd: common genes identified with other dataset\n",
      "3rd: both datasets combined\n",
      "4th: High cutoff applied to non-gtex dataset\n"
     ]
    },
    {
     "data": {
      "text/html": [
       "<table border=\"1\" class=\"dataframe\">\n",
       "  <thead>\n",
       "    <tr style=\"text-align: right;\">\n",
       "      <th></th>\n",
       "      <th>gtex_cutoffmet</th>\n",
       "      <th>tcga_normal_all</th>\n",
       "    </tr>\n",
       "  </thead>\n",
       "  <tbody>\n",
       "    <tr>\n",
       "      <th>high_corr_with_ITGAV_both_same_genes</th>\n",
       "      <td>119</td>\n",
       "      <td>119</td>\n",
       "    </tr>\n",
       "  </tbody>\n",
       "</table>"
      ],
      "text/plain": [
       "<IPython.core.display.HTML object>"
      ]
     },
     "metadata": {},
     "output_type": "display_data"
    },
    {
     "name": "stdout",
     "output_type": "stream",
     "text": [
      "for dataset ENTER: tcga_normal_all\n",
      "insert name for other datasettcga_normal_all\n",
      "1st: high cutoff applied to gtex dataset\n",
      "2nd: common genes identified with other dataset\n",
      "3rd: both datasets combined\n",
      "4th: low cutoff applied to non-gtex dataset\n"
     ]
    },
    {
     "data": {
      "text/html": [
       "<table border=\"1\" class=\"dataframe\">\n",
       "  <thead>\n",
       "    <tr style=\"text-align: right;\">\n",
       "      <th></th>\n",
       "      <th>gtex_cutoffmet</th>\n",
       "      <th>tcga_normal_all</th>\n",
       "    </tr>\n",
       "  </thead>\n",
       "  <tbody>\n",
       "    <tr>\n",
       "      <th>corr_with_ITGAV_highgtex_low_other</th>\n",
       "      <td>0</td>\n",
       "      <td>0</td>\n",
       "    </tr>\n",
       "  </tbody>\n",
       "</table>"
      ],
      "text/plain": [
       "<IPython.core.display.HTML object>"
      ]
     },
     "metadata": {},
     "output_type": "display_data"
    },
    {
     "name": "stdout",
     "output_type": "stream",
     "text": [
      "for dataset ENTER: tcga_primtum_all\n",
      "insert name for other datasettcga_primtum_all\n",
      "1st: high cutoff applied to gtex dataset\n",
      "2nd: common genes identified with other dataset\n",
      "3rd: both datasets combined\n",
      "4th: High cutoff applied to non-gtex dataset\n"
     ]
    },
    {
     "data": {
      "text/html": [
       "<table border=\"1\" class=\"dataframe\">\n",
       "  <thead>\n",
       "    <tr style=\"text-align: right;\">\n",
       "      <th></th>\n",
       "      <th>gtex_cutoffmet</th>\n",
       "      <th>tcga_primtum_all</th>\n",
       "    </tr>\n",
       "  </thead>\n",
       "  <tbody>\n",
       "    <tr>\n",
       "      <th>high_corr_with_ITGAV_both_same_genes</th>\n",
       "      <td>4</td>\n",
       "      <td>4</td>\n",
       "    </tr>\n",
       "  </tbody>\n",
       "</table>"
      ],
      "text/plain": [
       "<IPython.core.display.HTML object>"
      ]
     },
     "metadata": {},
     "output_type": "display_data"
    },
    {
     "name": "stdout",
     "output_type": "stream",
     "text": [
      "for dataset ENTER: tcga_primtum_all\n",
      "insert name for other datasettcga_primtum_all\n",
      "1st: high cutoff applied to gtex dataset\n",
      "2nd: common genes identified with other dataset\n",
      "3rd: both datasets combined\n",
      "4th: low cutoff applied to non-gtex dataset\n"
     ]
    },
    {
     "data": {
      "text/html": [
       "<table border=\"1\" class=\"dataframe\">\n",
       "  <thead>\n",
       "    <tr style=\"text-align: right;\">\n",
       "      <th></th>\n",
       "      <th>gtex_cutoffmet</th>\n",
       "      <th>tcga_primtum_all</th>\n",
       "    </tr>\n",
       "  </thead>\n",
       "  <tbody>\n",
       "    <tr>\n",
       "      <th>corr_with_ITGAV_highgtex_low_other</th>\n",
       "      <td>0</td>\n",
       "      <td>0</td>\n",
       "    </tr>\n",
       "  </tbody>\n",
       "</table>"
      ],
      "text/plain": [
       "<IPython.core.display.HTML object>"
      ]
     },
     "metadata": {},
     "output_type": "display_data"
    },
    {
     "name": "stdout",
     "output_type": "stream",
     "text": [
      "1st: high cutoff applied to tcga dataset\n",
      "2nd: common genes identified with gtex dataset\n",
      "3rd: both datasets combined\n",
      "4th: High cutoff applied to gtex dataset\n"
     ]
    },
    {
     "data": {
      "text/html": [
       "<table border=\"1\" class=\"dataframe\">\n",
       "  <thead>\n",
       "    <tr style=\"text-align: right;\">\n",
       "      <th></th>\n",
       "      <th>gtex_all</th>\n",
       "      <th>tcga_primtum_all_cutoffmet</th>\n",
       "    </tr>\n",
       "  </thead>\n",
       "  <tbody>\n",
       "    <tr>\n",
       "      <th>high_corr_with_ITGAV_both_same_genes</th>\n",
       "      <td>4</td>\n",
       "      <td>4</td>\n",
       "    </tr>\n",
       "  </tbody>\n",
       "</table>"
      ],
      "text/plain": [
       "<IPython.core.display.HTML object>"
      ]
     },
     "metadata": {},
     "output_type": "display_data"
    },
    {
     "name": "stdout",
     "output_type": "stream",
     "text": [
      "1st: high cutoff applied to tcga dataset\n",
      "2nd: common genes identified with gtex dataset\n",
      "3rd: both datasets combined\n",
      "4th: low cutoff applied to gtex dataset\n"
     ]
    },
    {
     "data": {
      "text/html": [
       "<table border=\"1\" class=\"dataframe\">\n",
       "  <thead>\n",
       "    <tr style=\"text-align: right;\">\n",
       "      <th></th>\n",
       "      <th>gtex_all</th>\n",
       "      <th>tcga_primtum_all_cutoffmet</th>\n",
       "    </tr>\n",
       "  </thead>\n",
       "  <tbody>\n",
       "    <tr>\n",
       "      <th>corr_with_ITGAV_both_same_genes</th>\n",
       "      <td>0</td>\n",
       "      <td>0</td>\n",
       "    </tr>\n",
       "  </tbody>\n",
       "</table>"
      ],
      "text/plain": [
       "<IPython.core.display.HTML object>"
      ]
     },
     "metadata": {},
     "output_type": "display_data"
    }
   ],
   "source": [
    "gtex_gct_dataset = 'gene_tpm_2017-06-05_v8_breast_mammary_tissue.gct_2'\n",
    "interest_gene = 'ITGAV'\n",
    "correlation_method ='pearson'\n",
    "correlation_cutoff = 0.6\n",
    "tcga_hiseq_dataset = '/home/hshadman/integrins_expression/saghar_TCGA_Breast/TCGA_BRCA_HiSeqV2' \n",
    "tcga_hiseq_corresponding_sample_info = '/home/hshadman/integrins_expression/saghar_TCGA_Breast/TCGA.BRCA.sampleMap_BRCA_clinicalMatrix'\n",
    "opposing_corr_cutoff = 0.1\n",
    "\n",
    "make_data_presentable(interest_gene,correlation_method, correlation_cutoff,opposing_corr_cutoff,gtex_gct_dataset,\n",
    "                         tcga_hiseq_dataset,tcga_hiseq_corresponding_sample_info)\n",
    "    \n"
   ]
  },
  {
   "cell_type": "code",
   "execution_count": 61,
   "metadata": {},
   "outputs": [
    {
     "name": "stdout",
     "output_type": "stream",
     "text": [
      "no overlap between datasets\n"
     ]
    },
    {
     "data": {
      "text/html": [
       "<table border=\"1\" class=\"dataframe\">\n",
       "  <thead>\n",
       "    <tr style=\"text-align: right;\">\n",
       "      <th></th>\n",
       "      <th>gtex_all</th>\n",
       "      <th>tcga_normal_all</th>\n",
       "      <th>tcga_primtum_all</th>\n",
       "    </tr>\n",
       "  </thead>\n",
       "  <tbody>\n",
       "    <tr>\n",
       "      <th>corr_with_ITGA9</th>\n",
       "      <td>52502</td>\n",
       "      <td>19929</td>\n",
       "      <td>20248</td>\n",
       "    </tr>\n",
       "  </tbody>\n",
       "</table>"
      ],
      "text/plain": [
       "<IPython.core.display.HTML object>"
      ]
     },
     "metadata": {},
     "output_type": "display_data"
    },
    {
     "name": "stdout",
     "output_type": "stream",
     "text": [
      "1st: common genes identified for all 3 datasets\n",
      "2nd: they were counted\n"
     ]
    },
    {
     "data": {
      "text/html": [
       "<table border=\"1\" class=\"dataframe\">\n",
       "  <thead>\n",
       "    <tr style=\"text-align: right;\">\n",
       "      <th></th>\n",
       "      <th>gtex_all</th>\n",
       "      <th>tcga_normal_all</th>\n",
       "      <th>tcga_primtum_all</th>\n",
       "    </tr>\n",
       "  </thead>\n",
       "  <tbody>\n",
       "    <tr>\n",
       "      <th>corr_with_ITGA9_all_same_genes</th>\n",
       "      <td>17313</td>\n",
       "      <td>17313</td>\n",
       "      <td>17313</td>\n",
       "    </tr>\n",
       "  </tbody>\n",
       "</table>"
      ],
      "text/plain": [
       "<IPython.core.display.HTML object>"
      ]
     },
     "metadata": {},
     "output_type": "display_data"
    },
    {
     "name": "stdout",
     "output_type": "stream",
     "text": [
      "for 1th dataset ENTER: gtex_all\n",
      "for 2th dataset ENTER: tcga_normal_all\n",
      "no overlap between datasets\n",
      "insert name for 1th datasetgtex_all\n",
      "insert name for 2th datasettcga_normal_all\n"
     ]
    },
    {
     "data": {
      "text/html": [
       "<table border=\"1\" class=\"dataframe\">\n",
       "  <thead>\n",
       "    <tr style=\"text-align: right;\">\n",
       "      <th></th>\n",
       "      <th>gtex_all</th>\n",
       "      <th>tcga_normal_all</th>\n",
       "    </tr>\n",
       "  </thead>\n",
       "  <tbody>\n",
       "    <tr>\n",
       "      <th>HIGHLY_correlated_with_ITGA9</th>\n",
       "      <td>4</td>\n",
       "      <td>667</td>\n",
       "    </tr>\n",
       "  </tbody>\n",
       "</table>"
      ],
      "text/plain": [
       "<IPython.core.display.HTML object>"
      ]
     },
     "metadata": {},
     "output_type": "display_data"
    },
    {
     "name": "stdout",
     "output_type": "stream",
     "text": [
      "for dataset ENTER: tcga_normal_all\n",
      "insert name for other datasettcga_normal_all\n",
      "1st: high cutoff applied to gtex dataset\n",
      "2nd: common genes identified with other dataset\n",
      "3rd: both datasets combined\n",
      "4th: High cutoff applied to non-gtex dataset\n"
     ]
    },
    {
     "data": {
      "text/html": [
       "<table border=\"1\" class=\"dataframe\">\n",
       "  <thead>\n",
       "    <tr style=\"text-align: right;\">\n",
       "      <th></th>\n",
       "      <th>gtex_cutoffmet</th>\n",
       "      <th>tcga_normal_all</th>\n",
       "    </tr>\n",
       "  </thead>\n",
       "  <tbody>\n",
       "    <tr>\n",
       "      <th>high_corr_with_ITGA9_both_same_genes</th>\n",
       "      <td>2</td>\n",
       "      <td>2</td>\n",
       "    </tr>\n",
       "  </tbody>\n",
       "</table>"
      ],
      "text/plain": [
       "<IPython.core.display.HTML object>"
      ]
     },
     "metadata": {},
     "output_type": "display_data"
    },
    {
     "name": "stdout",
     "output_type": "stream",
     "text": [
      "for dataset ENTER: tcga_normal_all\n",
      "insert name for other datasettcga_normal_all\n",
      "1st: high cutoff applied to gtex dataset\n",
      "2nd: common genes identified with other dataset\n",
      "3rd: both datasets combined\n",
      "4th: low cutoff applied to non-gtex dataset\n"
     ]
    },
    {
     "data": {
      "text/html": [
       "<table border=\"1\" class=\"dataframe\">\n",
       "  <thead>\n",
       "    <tr style=\"text-align: right;\">\n",
       "      <th></th>\n",
       "      <th>gtex_cutoffmet</th>\n",
       "      <th>tcga_normal_all</th>\n",
       "    </tr>\n",
       "  </thead>\n",
       "  <tbody>\n",
       "    <tr>\n",
       "      <th>corr_with_ITGA9_highgtex_low_other</th>\n",
       "      <td>0</td>\n",
       "      <td>0</td>\n",
       "    </tr>\n",
       "  </tbody>\n",
       "</table>"
      ],
      "text/plain": [
       "<IPython.core.display.HTML object>"
      ]
     },
     "metadata": {},
     "output_type": "display_data"
    },
    {
     "name": "stdout",
     "output_type": "stream",
     "text": [
      "for dataset ENTER: tcga_primtum_all\n",
      "insert name for other datasettcga_primtum_all\n",
      "1st: high cutoff applied to gtex dataset\n",
      "2nd: common genes identified with other dataset\n",
      "3rd: both datasets combined\n",
      "4th: High cutoff applied to non-gtex dataset\n"
     ]
    },
    {
     "data": {
      "text/html": [
       "<table border=\"1\" class=\"dataframe\">\n",
       "  <thead>\n",
       "    <tr style=\"text-align: right;\">\n",
       "      <th></th>\n",
       "      <th>gtex_cutoffmet</th>\n",
       "      <th>tcga_primtum_all</th>\n",
       "    </tr>\n",
       "  </thead>\n",
       "  <tbody>\n",
       "    <tr>\n",
       "      <th>high_corr_with_ITGA9_both_same_genes</th>\n",
       "      <td>1</td>\n",
       "      <td>1</td>\n",
       "    </tr>\n",
       "  </tbody>\n",
       "</table>"
      ],
      "text/plain": [
       "<IPython.core.display.HTML object>"
      ]
     },
     "metadata": {},
     "output_type": "display_data"
    },
    {
     "name": "stdout",
     "output_type": "stream",
     "text": [
      "for dataset ENTER: tcga_primtum_all\n",
      "insert name for other datasettcga_primtum_all\n",
      "1st: high cutoff applied to gtex dataset\n",
      "2nd: common genes identified with other dataset\n",
      "3rd: both datasets combined\n",
      "4th: low cutoff applied to non-gtex dataset\n"
     ]
    },
    {
     "data": {
      "text/html": [
       "<table border=\"1\" class=\"dataframe\">\n",
       "  <thead>\n",
       "    <tr style=\"text-align: right;\">\n",
       "      <th></th>\n",
       "      <th>gtex_cutoffmet</th>\n",
       "      <th>tcga_primtum_all</th>\n",
       "    </tr>\n",
       "  </thead>\n",
       "  <tbody>\n",
       "    <tr>\n",
       "      <th>corr_with_ITGA9_highgtex_low_other</th>\n",
       "      <td>0</td>\n",
       "      <td>0</td>\n",
       "    </tr>\n",
       "  </tbody>\n",
       "</table>"
      ],
      "text/plain": [
       "<IPython.core.display.HTML object>"
      ]
     },
     "metadata": {},
     "output_type": "display_data"
    },
    {
     "name": "stdout",
     "output_type": "stream",
     "text": [
      "1st: high cutoff applied to tcga dataset\n",
      "2nd: common genes identified with gtex dataset\n",
      "3rd: both datasets combined\n",
      "4th: High cutoff applied to gtex dataset\n"
     ]
    },
    {
     "data": {
      "text/html": [
       "<table border=\"1\" class=\"dataframe\">\n",
       "  <thead>\n",
       "    <tr style=\"text-align: right;\">\n",
       "      <th></th>\n",
       "      <th>gtex_all</th>\n",
       "      <th>tcga_primtum_all_cutoffmet</th>\n",
       "    </tr>\n",
       "  </thead>\n",
       "  <tbody>\n",
       "    <tr>\n",
       "      <th>high_corr_with_ITGA9_both_same_genes</th>\n",
       "      <td>1</td>\n",
       "      <td>1</td>\n",
       "    </tr>\n",
       "  </tbody>\n",
       "</table>"
      ],
      "text/plain": [
       "<IPython.core.display.HTML object>"
      ]
     },
     "metadata": {},
     "output_type": "display_data"
    },
    {
     "name": "stdout",
     "output_type": "stream",
     "text": [
      "1st: high cutoff applied to tcga dataset\n",
      "2nd: common genes identified with gtex dataset\n",
      "3rd: both datasets combined\n",
      "4th: low cutoff applied to gtex dataset\n"
     ]
    },
    {
     "data": {
      "text/html": [
       "<table border=\"1\" class=\"dataframe\">\n",
       "  <thead>\n",
       "    <tr style=\"text-align: right;\">\n",
       "      <th></th>\n",
       "      <th>gtex_all</th>\n",
       "      <th>tcga_primtum_all_cutoffmet</th>\n",
       "    </tr>\n",
       "  </thead>\n",
       "  <tbody>\n",
       "    <tr>\n",
       "      <th>corr_with_ITGA9_both_same_genes</th>\n",
       "      <td>1</td>\n",
       "      <td>1</td>\n",
       "    </tr>\n",
       "  </tbody>\n",
       "</table>"
      ],
      "text/plain": [
       "<IPython.core.display.HTML object>"
      ]
     },
     "metadata": {},
     "output_type": "display_data"
    }
   ],
   "source": [
    "gtex_gct_dataset = 'gene_tpm_2017-06-05_v8_breast_mammary_tissue.gct_2'\n",
    "interest_gene = 'ITGA9'\n",
    "correlation_method ='pearson'\n",
    "correlation_cutoff = 0.6\n",
    "tcga_hiseq_dataset = '/home/hshadman/integrins_expression/saghar_TCGA_Breast/TCGA_BRCA_HiSeqV2' \n",
    "tcga_hiseq_corresponding_sample_info = '/home/hshadman/integrins_expression/saghar_TCGA_Breast/TCGA.BRCA.sampleMap_BRCA_clinicalMatrix'\n",
    "opposing_corr_cutoff = 0.1\n",
    "\n",
    "make_data_presentable(interest_gene,correlation_method, correlation_cutoff,opposing_corr_cutoff,gtex_gct_dataset,\n",
    "                         tcga_hiseq_dataset,tcga_hiseq_corresponding_sample_info)\n",
    "    \n"
   ]
  },
  {
   "cell_type": "code",
   "execution_count": 62,
   "metadata": {},
   "outputs": [
    {
     "name": "stdout",
     "output_type": "stream",
     "text": [
      "no overlap between datasets\n"
     ]
    },
    {
     "data": {
      "text/html": [
       "<table border=\"1\" class=\"dataframe\">\n",
       "  <thead>\n",
       "    <tr style=\"text-align: right;\">\n",
       "      <th></th>\n",
       "      <th>gtex_all</th>\n",
       "      <th>tcga_normal_all</th>\n",
       "      <th>tcga_primtum_all</th>\n",
       "    </tr>\n",
       "  </thead>\n",
       "  <tbody>\n",
       "    <tr>\n",
       "      <th>corr_with_ITGB5</th>\n",
       "      <td>52502</td>\n",
       "      <td>19929</td>\n",
       "      <td>20248</td>\n",
       "    </tr>\n",
       "  </tbody>\n",
       "</table>"
      ],
      "text/plain": [
       "<IPython.core.display.HTML object>"
      ]
     },
     "metadata": {},
     "output_type": "display_data"
    },
    {
     "name": "stdout",
     "output_type": "stream",
     "text": [
      "1st: common genes identified for all 3 datasets\n",
      "2nd: they were counted\n"
     ]
    },
    {
     "data": {
      "text/html": [
       "<table border=\"1\" class=\"dataframe\">\n",
       "  <thead>\n",
       "    <tr style=\"text-align: right;\">\n",
       "      <th></th>\n",
       "      <th>gtex_all</th>\n",
       "      <th>tcga_normal_all</th>\n",
       "      <th>tcga_primtum_all</th>\n",
       "    </tr>\n",
       "  </thead>\n",
       "  <tbody>\n",
       "    <tr>\n",
       "      <th>corr_with_ITGB5_all_same_genes</th>\n",
       "      <td>17313</td>\n",
       "      <td>17313</td>\n",
       "      <td>17313</td>\n",
       "    </tr>\n",
       "  </tbody>\n",
       "</table>"
      ],
      "text/plain": [
       "<IPython.core.display.HTML object>"
      ]
     },
     "metadata": {},
     "output_type": "display_data"
    },
    {
     "name": "stdout",
     "output_type": "stream",
     "text": [
      "for 1th dataset ENTER: gtex_all\n",
      "for 2th dataset ENTER: tcga_normal_all\n",
      "no overlap between datasets\n",
      "insert name for 1th datasetgtex_all\n",
      "insert name for 2th datasettcga_normal_all\n"
     ]
    },
    {
     "data": {
      "text/html": [
       "<table border=\"1\" class=\"dataframe\">\n",
       "  <thead>\n",
       "    <tr style=\"text-align: right;\">\n",
       "      <th></th>\n",
       "      <th>gtex_all</th>\n",
       "      <th>tcga_normal_all</th>\n",
       "    </tr>\n",
       "  </thead>\n",
       "  <tbody>\n",
       "    <tr>\n",
       "      <th>HIGHLY_correlated_with_ITGB5</th>\n",
       "      <td>24</td>\n",
       "      <td>529</td>\n",
       "    </tr>\n",
       "  </tbody>\n",
       "</table>"
      ],
      "text/plain": [
       "<IPython.core.display.HTML object>"
      ]
     },
     "metadata": {},
     "output_type": "display_data"
    },
    {
     "name": "stdout",
     "output_type": "stream",
     "text": [
      "for dataset ENTER: tcga_normal_all\n",
      "insert name for other datasettcga_normal_all\n",
      "1st: high cutoff applied to gtex dataset\n",
      "2nd: common genes identified with other dataset\n",
      "3rd: both datasets combined\n",
      "4th: High cutoff applied to non-gtex dataset\n"
     ]
    },
    {
     "data": {
      "text/html": [
       "<table border=\"1\" class=\"dataframe\">\n",
       "  <thead>\n",
       "    <tr style=\"text-align: right;\">\n",
       "      <th></th>\n",
       "      <th>gtex_cutoffmet</th>\n",
       "      <th>tcga_normal_all</th>\n",
       "    </tr>\n",
       "  </thead>\n",
       "  <tbody>\n",
       "    <tr>\n",
       "      <th>high_corr_with_ITGB5_both_same_genes</th>\n",
       "      <td>17</td>\n",
       "      <td>17</td>\n",
       "    </tr>\n",
       "  </tbody>\n",
       "</table>"
      ],
      "text/plain": [
       "<IPython.core.display.HTML object>"
      ]
     },
     "metadata": {},
     "output_type": "display_data"
    },
    {
     "name": "stdout",
     "output_type": "stream",
     "text": [
      "for dataset ENTER: tcga_normal_all\n",
      "insert name for other datasettcga_normal_all\n",
      "1st: high cutoff applied to gtex dataset\n",
      "2nd: common genes identified with other dataset\n",
      "3rd: both datasets combined\n",
      "4th: low cutoff applied to non-gtex dataset\n"
     ]
    },
    {
     "data": {
      "text/html": [
       "<table border=\"1\" class=\"dataframe\">\n",
       "  <thead>\n",
       "    <tr style=\"text-align: right;\">\n",
       "      <th></th>\n",
       "      <th>gtex_cutoffmet</th>\n",
       "      <th>tcga_normal_all</th>\n",
       "    </tr>\n",
       "  </thead>\n",
       "  <tbody>\n",
       "    <tr>\n",
       "      <th>corr_with_ITGB5_highgtex_low_other</th>\n",
       "      <td>0</td>\n",
       "      <td>0</td>\n",
       "    </tr>\n",
       "  </tbody>\n",
       "</table>"
      ],
      "text/plain": [
       "<IPython.core.display.HTML object>"
      ]
     },
     "metadata": {},
     "output_type": "display_data"
    },
    {
     "name": "stdout",
     "output_type": "stream",
     "text": [
      "for dataset ENTER: tcga_primtum_all\n",
      "insert name for other datasettcga_primtum_all\n",
      "1st: high cutoff applied to gtex dataset\n",
      "2nd: common genes identified with other dataset\n",
      "3rd: both datasets combined\n",
      "4th: High cutoff applied to non-gtex dataset\n"
     ]
    },
    {
     "data": {
      "text/html": [
       "<table border=\"1\" class=\"dataframe\">\n",
       "  <thead>\n",
       "    <tr style=\"text-align: right;\">\n",
       "      <th></th>\n",
       "      <th>gtex_cutoffmet</th>\n",
       "      <th>tcga_primtum_all</th>\n",
       "    </tr>\n",
       "  </thead>\n",
       "  <tbody>\n",
       "    <tr>\n",
       "      <th>high_corr_with_ITGB5_both_same_genes</th>\n",
       "      <td>1</td>\n",
       "      <td>1</td>\n",
       "    </tr>\n",
       "  </tbody>\n",
       "</table>"
      ],
      "text/plain": [
       "<IPython.core.display.HTML object>"
      ]
     },
     "metadata": {},
     "output_type": "display_data"
    },
    {
     "name": "stdout",
     "output_type": "stream",
     "text": [
      "for dataset ENTER: tcga_primtum_all\n",
      "insert name for other datasettcga_primtum_all\n",
      "1st: high cutoff applied to gtex dataset\n",
      "2nd: common genes identified with other dataset\n",
      "3rd: both datasets combined\n",
      "4th: low cutoff applied to non-gtex dataset\n"
     ]
    },
    {
     "data": {
      "text/html": [
       "<table border=\"1\" class=\"dataframe\">\n",
       "  <thead>\n",
       "    <tr style=\"text-align: right;\">\n",
       "      <th></th>\n",
       "      <th>gtex_cutoffmet</th>\n",
       "      <th>tcga_primtum_all</th>\n",
       "    </tr>\n",
       "  </thead>\n",
       "  <tbody>\n",
       "    <tr>\n",
       "      <th>corr_with_ITGB5_highgtex_low_other</th>\n",
       "      <td>6</td>\n",
       "      <td>6</td>\n",
       "    </tr>\n",
       "  </tbody>\n",
       "</table>"
      ],
      "text/plain": [
       "<IPython.core.display.HTML object>"
      ]
     },
     "metadata": {},
     "output_type": "display_data"
    },
    {
     "name": "stdout",
     "output_type": "stream",
     "text": [
      "1st: high cutoff applied to tcga dataset\n",
      "2nd: common genes identified with gtex dataset\n",
      "3rd: both datasets combined\n",
      "4th: High cutoff applied to gtex dataset\n"
     ]
    },
    {
     "data": {
      "text/html": [
       "<table border=\"1\" class=\"dataframe\">\n",
       "  <thead>\n",
       "    <tr style=\"text-align: right;\">\n",
       "      <th></th>\n",
       "      <th>gtex_all</th>\n",
       "      <th>tcga_primtum_all_cutoffmet</th>\n",
       "    </tr>\n",
       "  </thead>\n",
       "  <tbody>\n",
       "    <tr>\n",
       "      <th>high_corr_with_ITGB5_both_same_genes</th>\n",
       "      <td>1</td>\n",
       "      <td>1</td>\n",
       "    </tr>\n",
       "  </tbody>\n",
       "</table>"
      ],
      "text/plain": [
       "<IPython.core.display.HTML object>"
      ]
     },
     "metadata": {},
     "output_type": "display_data"
    },
    {
     "name": "stdout",
     "output_type": "stream",
     "text": [
      "1st: high cutoff applied to tcga dataset\n",
      "2nd: common genes identified with gtex dataset\n",
      "3rd: both datasets combined\n",
      "4th: low cutoff applied to gtex dataset\n"
     ]
    },
    {
     "data": {
      "text/html": [
       "<table border=\"1\" class=\"dataframe\">\n",
       "  <thead>\n",
       "    <tr style=\"text-align: right;\">\n",
       "      <th></th>\n",
       "      <th>gtex_all</th>\n",
       "      <th>tcga_primtum_all_cutoffmet</th>\n",
       "    </tr>\n",
       "  </thead>\n",
       "  <tbody>\n",
       "    <tr>\n",
       "      <th>corr_with_ITGB5_both_same_genes</th>\n",
       "      <td>1</td>\n",
       "      <td>1</td>\n",
       "    </tr>\n",
       "  </tbody>\n",
       "</table>"
      ],
      "text/plain": [
       "<IPython.core.display.HTML object>"
      ]
     },
     "metadata": {},
     "output_type": "display_data"
    }
   ],
   "source": [
    "gtex_gct_dataset = 'gene_tpm_2017-06-05_v8_breast_mammary_tissue.gct_2'\n",
    "interest_gene = 'ITGB5'\n",
    "correlation_method ='pearson'\n",
    "correlation_cutoff = 0.6\n",
    "tcga_hiseq_dataset = '/home/hshadman/integrins_expression/saghar_TCGA_Breast/TCGA_BRCA_HiSeqV2' \n",
    "tcga_hiseq_corresponding_sample_info = '/home/hshadman/integrins_expression/saghar_TCGA_Breast/TCGA.BRCA.sampleMap_BRCA_clinicalMatrix'\n",
    "opposing_corr_cutoff = 0.1\n",
    "\n",
    "make_data_presentable(interest_gene,correlation_method, correlation_cutoff,opposing_corr_cutoff,gtex_gct_dataset,\n",
    "                         tcga_hiseq_dataset,tcga_hiseq_corresponding_sample_info)\n",
    "    \n"
   ]
  },
  {
   "cell_type": "code",
   "execution_count": 63,
   "metadata": {},
   "outputs": [
    {
     "name": "stdout",
     "output_type": "stream",
     "text": [
      "no overlap between datasets\n"
     ]
    },
    {
     "data": {
      "text/html": [
       "<table border=\"1\" class=\"dataframe\">\n",
       "  <thead>\n",
       "    <tr style=\"text-align: right;\">\n",
       "      <th></th>\n",
       "      <th>gtex_all</th>\n",
       "      <th>tcga_normal_all</th>\n",
       "      <th>tcga_primtum_all</th>\n",
       "    </tr>\n",
       "  </thead>\n",
       "  <tbody>\n",
       "    <tr>\n",
       "      <th>corr_with_ITGA1</th>\n",
       "      <td>52502</td>\n",
       "      <td>19929</td>\n",
       "      <td>20248</td>\n",
       "    </tr>\n",
       "  </tbody>\n",
       "</table>"
      ],
      "text/plain": [
       "<IPython.core.display.HTML object>"
      ]
     },
     "metadata": {},
     "output_type": "display_data"
    },
    {
     "name": "stdout",
     "output_type": "stream",
     "text": [
      "1st: common genes identified for all 3 datasets\n",
      "2nd: they were counted\n"
     ]
    },
    {
     "data": {
      "text/html": [
       "<table border=\"1\" class=\"dataframe\">\n",
       "  <thead>\n",
       "    <tr style=\"text-align: right;\">\n",
       "      <th></th>\n",
       "      <th>gtex_all</th>\n",
       "      <th>tcga_normal_all</th>\n",
       "      <th>tcga_primtum_all</th>\n",
       "    </tr>\n",
       "  </thead>\n",
       "  <tbody>\n",
       "    <tr>\n",
       "      <th>corr_with_ITGA1_all_same_genes</th>\n",
       "      <td>17313</td>\n",
       "      <td>17313</td>\n",
       "      <td>17313</td>\n",
       "    </tr>\n",
       "  </tbody>\n",
       "</table>"
      ],
      "text/plain": [
       "<IPython.core.display.HTML object>"
      ]
     },
     "metadata": {},
     "output_type": "display_data"
    },
    {
     "name": "stdout",
     "output_type": "stream",
     "text": [
      "for 1th dataset ENTER: gtex_all\n",
      "for 2th dataset ENTER: tcga_normal_all\n",
      "no overlap between datasets\n",
      "insert name for 1th datasetgtex_all\n",
      "insert name for 2th datasettcga_normal_all\n"
     ]
    },
    {
     "data": {
      "text/html": [
       "<table border=\"1\" class=\"dataframe\">\n",
       "  <thead>\n",
       "    <tr style=\"text-align: right;\">\n",
       "      <th></th>\n",
       "      <th>gtex_all</th>\n",
       "      <th>tcga_normal_all</th>\n",
       "    </tr>\n",
       "  </thead>\n",
       "  <tbody>\n",
       "    <tr>\n",
       "      <th>HIGHLY_correlated_with_ITGA1</th>\n",
       "      <td>68</td>\n",
       "      <td>1194</td>\n",
       "    </tr>\n",
       "  </tbody>\n",
       "</table>"
      ],
      "text/plain": [
       "<IPython.core.display.HTML object>"
      ]
     },
     "metadata": {},
     "output_type": "display_data"
    },
    {
     "name": "stdout",
     "output_type": "stream",
     "text": [
      "for dataset ENTER: tcga_normal_all\n",
      "insert name for other datasettcga_normal_all\n",
      "1st: high cutoff applied to gtex dataset\n",
      "2nd: common genes identified with other dataset\n",
      "3rd: both datasets combined\n",
      "4th: High cutoff applied to non-gtex dataset\n"
     ]
    },
    {
     "data": {
      "text/html": [
       "<table border=\"1\" class=\"dataframe\">\n",
       "  <thead>\n",
       "    <tr style=\"text-align: right;\">\n",
       "      <th></th>\n",
       "      <th>gtex_cutoffmet</th>\n",
       "      <th>tcga_normal_all</th>\n",
       "    </tr>\n",
       "  </thead>\n",
       "  <tbody>\n",
       "    <tr>\n",
       "      <th>high_corr_with_ITGA1_both_same_genes</th>\n",
       "      <td>49</td>\n",
       "      <td>49</td>\n",
       "    </tr>\n",
       "  </tbody>\n",
       "</table>"
      ],
      "text/plain": [
       "<IPython.core.display.HTML object>"
      ]
     },
     "metadata": {},
     "output_type": "display_data"
    },
    {
     "name": "stdout",
     "output_type": "stream",
     "text": [
      "for dataset ENTER: tcga_normal_all\n",
      "insert name for other datasettcga_normal_all\n",
      "1st: high cutoff applied to gtex dataset\n",
      "2nd: common genes identified with other dataset\n",
      "3rd: both datasets combined\n",
      "4th: low cutoff applied to non-gtex dataset\n"
     ]
    },
    {
     "data": {
      "text/html": [
       "<table border=\"1\" class=\"dataframe\">\n",
       "  <thead>\n",
       "    <tr style=\"text-align: right;\">\n",
       "      <th></th>\n",
       "      <th>gtex_cutoffmet</th>\n",
       "      <th>tcga_normal_all</th>\n",
       "    </tr>\n",
       "  </thead>\n",
       "  <tbody>\n",
       "    <tr>\n",
       "      <th>corr_with_ITGA1_highgtex_low_other</th>\n",
       "      <td>0</td>\n",
       "      <td>0</td>\n",
       "    </tr>\n",
       "  </tbody>\n",
       "</table>"
      ],
      "text/plain": [
       "<IPython.core.display.HTML object>"
      ]
     },
     "metadata": {},
     "output_type": "display_data"
    },
    {
     "name": "stdout",
     "output_type": "stream",
     "text": [
      "for dataset ENTER: tcga_primtum_all\n",
      "insert name for other datasettcga_primtum_all\n",
      "1st: high cutoff applied to gtex dataset\n",
      "2nd: common genes identified with other dataset\n",
      "3rd: both datasets combined\n",
      "4th: High cutoff applied to non-gtex dataset\n"
     ]
    },
    {
     "data": {
      "text/html": [
       "<table border=\"1\" class=\"dataframe\">\n",
       "  <thead>\n",
       "    <tr style=\"text-align: right;\">\n",
       "      <th></th>\n",
       "      <th>gtex_cutoffmet</th>\n",
       "      <th>tcga_primtum_all</th>\n",
       "    </tr>\n",
       "  </thead>\n",
       "  <tbody>\n",
       "    <tr>\n",
       "      <th>high_corr_with_ITGA1_both_same_genes</th>\n",
       "      <td>24</td>\n",
       "      <td>24</td>\n",
       "    </tr>\n",
       "  </tbody>\n",
       "</table>"
      ],
      "text/plain": [
       "<IPython.core.display.HTML object>"
      ]
     },
     "metadata": {},
     "output_type": "display_data"
    },
    {
     "name": "stdout",
     "output_type": "stream",
     "text": [
      "for dataset ENTER: tcga_primtum_all\n",
      "insert name for other datasettcga_primtum_all\n",
      "1st: high cutoff applied to gtex dataset\n",
      "2nd: common genes identified with other dataset\n",
      "3rd: both datasets combined\n",
      "4th: low cutoff applied to non-gtex dataset\n"
     ]
    },
    {
     "data": {
      "text/html": [
       "<table border=\"1\" class=\"dataframe\">\n",
       "  <thead>\n",
       "    <tr style=\"text-align: right;\">\n",
       "      <th></th>\n",
       "      <th>gtex_cutoffmet</th>\n",
       "      <th>tcga_primtum_all</th>\n",
       "    </tr>\n",
       "  </thead>\n",
       "  <tbody>\n",
       "    <tr>\n",
       "      <th>corr_with_ITGA1_highgtex_low_other</th>\n",
       "      <td>0</td>\n",
       "      <td>0</td>\n",
       "    </tr>\n",
       "  </tbody>\n",
       "</table>"
      ],
      "text/plain": [
       "<IPython.core.display.HTML object>"
      ]
     },
     "metadata": {},
     "output_type": "display_data"
    },
    {
     "name": "stdout",
     "output_type": "stream",
     "text": [
      "1st: high cutoff applied to tcga dataset\n",
      "2nd: common genes identified with gtex dataset\n",
      "3rd: both datasets combined\n",
      "4th: High cutoff applied to gtex dataset\n"
     ]
    },
    {
     "data": {
      "text/html": [
       "<table border=\"1\" class=\"dataframe\">\n",
       "  <thead>\n",
       "    <tr style=\"text-align: right;\">\n",
       "      <th></th>\n",
       "      <th>gtex_all</th>\n",
       "      <th>tcga_primtum_all_cutoffmet</th>\n",
       "    </tr>\n",
       "  </thead>\n",
       "  <tbody>\n",
       "    <tr>\n",
       "      <th>high_corr_with_ITGA1_both_same_genes</th>\n",
       "      <td>24</td>\n",
       "      <td>24</td>\n",
       "    </tr>\n",
       "  </tbody>\n",
       "</table>"
      ],
      "text/plain": [
       "<IPython.core.display.HTML object>"
      ]
     },
     "metadata": {},
     "output_type": "display_data"
    },
    {
     "name": "stdout",
     "output_type": "stream",
     "text": [
      "1st: high cutoff applied to tcga dataset\n",
      "2nd: common genes identified with gtex dataset\n",
      "3rd: both datasets combined\n",
      "4th: low cutoff applied to gtex dataset\n"
     ]
    },
    {
     "data": {
      "text/html": [
       "<table border=\"1\" class=\"dataframe\">\n",
       "  <thead>\n",
       "    <tr style=\"text-align: right;\">\n",
       "      <th></th>\n",
       "      <th>gtex_all</th>\n",
       "      <th>tcga_primtum_all_cutoffmet</th>\n",
       "    </tr>\n",
       "  </thead>\n",
       "  <tbody>\n",
       "    <tr>\n",
       "      <th>corr_with_ITGA1_both_same_genes</th>\n",
       "      <td>37</td>\n",
       "      <td>37</td>\n",
       "    </tr>\n",
       "  </tbody>\n",
       "</table>"
      ],
      "text/plain": [
       "<IPython.core.display.HTML object>"
      ]
     },
     "metadata": {},
     "output_type": "display_data"
    }
   ],
   "source": [
    "gtex_gct_dataset = 'gene_tpm_2017-06-05_v8_breast_mammary_tissue.gct_2'\n",
    "interest_gene = 'ITGA1'\n",
    "correlation_method ='pearson'\n",
    "correlation_cutoff = 0.6\n",
    "tcga_hiseq_dataset = '/home/hshadman/integrins_expression/saghar_TCGA_Breast/TCGA_BRCA_HiSeqV2' \n",
    "tcga_hiseq_corresponding_sample_info = '/home/hshadman/integrins_expression/saghar_TCGA_Breast/TCGA.BRCA.sampleMap_BRCA_clinicalMatrix'\n",
    "opposing_corr_cutoff = 0.1\n",
    "\n",
    "make_data_presentable(interest_gene,correlation_method, correlation_cutoff,opposing_corr_cutoff,gtex_gct_dataset,\n",
    "                         tcga_hiseq_dataset,tcga_hiseq_corresponding_sample_info)\n",
    "    \n"
   ]
  },
  {
   "cell_type": "code",
   "execution_count": 64,
   "metadata": {},
   "outputs": [
    {
     "name": "stdout",
     "output_type": "stream",
     "text": [
      "no overlap between datasets\n"
     ]
    },
    {
     "data": {
      "text/html": [
       "<table border=\"1\" class=\"dataframe\">\n",
       "  <thead>\n",
       "    <tr style=\"text-align: right;\">\n",
       "      <th></th>\n",
       "      <th>gtex_all</th>\n",
       "      <th>tcga_normal_all</th>\n",
       "      <th>tcga_primtum_all</th>\n",
       "    </tr>\n",
       "  </thead>\n",
       "  <tbody>\n",
       "    <tr>\n",
       "      <th>corr_with_ITGA2</th>\n",
       "      <td>52502</td>\n",
       "      <td>19929</td>\n",
       "      <td>20248</td>\n",
       "    </tr>\n",
       "  </tbody>\n",
       "</table>"
      ],
      "text/plain": [
       "<IPython.core.display.HTML object>"
      ]
     },
     "metadata": {},
     "output_type": "display_data"
    },
    {
     "name": "stdout",
     "output_type": "stream",
     "text": [
      "1st: common genes identified for all 3 datasets\n",
      "2nd: they were counted\n"
     ]
    },
    {
     "data": {
      "text/html": [
       "<table border=\"1\" class=\"dataframe\">\n",
       "  <thead>\n",
       "    <tr style=\"text-align: right;\">\n",
       "      <th></th>\n",
       "      <th>gtex_all</th>\n",
       "      <th>tcga_normal_all</th>\n",
       "      <th>tcga_primtum_all</th>\n",
       "    </tr>\n",
       "  </thead>\n",
       "  <tbody>\n",
       "    <tr>\n",
       "      <th>corr_with_ITGA2_all_same_genes</th>\n",
       "      <td>17313</td>\n",
       "      <td>17313</td>\n",
       "      <td>17313</td>\n",
       "    </tr>\n",
       "  </tbody>\n",
       "</table>"
      ],
      "text/plain": [
       "<IPython.core.display.HTML object>"
      ]
     },
     "metadata": {},
     "output_type": "display_data"
    },
    {
     "name": "stdout",
     "output_type": "stream",
     "text": [
      "for 1th dataset ENTER: gtex_all\n",
      "for 2th dataset ENTER: tcga_normal_all\n",
      "no overlap between datasets\n",
      "insert name for 1th datasetgtex_all\n",
      "insert name for 2th datasettcga_normal_all'\n"
     ]
    },
    {
     "data": {
      "text/html": [
       "<table border=\"1\" class=\"dataframe\">\n",
       "  <thead>\n",
       "    <tr style=\"text-align: right;\">\n",
       "      <th></th>\n",
       "      <th>gtex_all</th>\n",
       "      <th>tcga_normal_all'</th>\n",
       "    </tr>\n",
       "  </thead>\n",
       "  <tbody>\n",
       "    <tr>\n",
       "      <th>HIGHLY_correlated_with_ITGA2</th>\n",
       "      <td>4047</td>\n",
       "      <td>2960</td>\n",
       "    </tr>\n",
       "  </tbody>\n",
       "</table>"
      ],
      "text/plain": [
       "<IPython.core.display.HTML object>"
      ]
     },
     "metadata": {},
     "output_type": "display_data"
    },
    {
     "name": "stdout",
     "output_type": "stream",
     "text": [
      "for dataset ENTER: tcga_normal_all\n",
      "insert name for other datasettcga_normal_all\n",
      "1st: high cutoff applied to gtex dataset\n",
      "2nd: common genes identified with other dataset\n",
      "3rd: both datasets combined\n",
      "4th: High cutoff applied to non-gtex dataset\n"
     ]
    },
    {
     "data": {
      "text/html": [
       "<table border=\"1\" class=\"dataframe\">\n",
       "  <thead>\n",
       "    <tr style=\"text-align: right;\">\n",
       "      <th></th>\n",
       "      <th>gtex_cutoffmet</th>\n",
       "      <th>tcga_normal_all</th>\n",
       "    </tr>\n",
       "  </thead>\n",
       "  <tbody>\n",
       "    <tr>\n",
       "      <th>high_corr_with_ITGA2_both_same_genes</th>\n",
       "      <td>1512</td>\n",
       "      <td>1512</td>\n",
       "    </tr>\n",
       "  </tbody>\n",
       "</table>"
      ],
      "text/plain": [
       "<IPython.core.display.HTML object>"
      ]
     },
     "metadata": {},
     "output_type": "display_data"
    },
    {
     "name": "stdout",
     "output_type": "stream",
     "text": [
      "for dataset ENTER: tcga_normal_all\n",
      "insert name for other datasettcga_normal_all\n",
      "1st: high cutoff applied to gtex dataset\n",
      "2nd: common genes identified with other dataset\n",
      "3rd: both datasets combined\n",
      "4th: low cutoff applied to non-gtex dataset\n"
     ]
    },
    {
     "data": {
      "text/html": [
       "<table border=\"1\" class=\"dataframe\">\n",
       "  <thead>\n",
       "    <tr style=\"text-align: right;\">\n",
       "      <th></th>\n",
       "      <th>gtex_cutoffmet</th>\n",
       "      <th>tcga_normal_all</th>\n",
       "    </tr>\n",
       "  </thead>\n",
       "  <tbody>\n",
       "    <tr>\n",
       "      <th>corr_with_ITGA2_highgtex_low_other</th>\n",
       "      <td>129</td>\n",
       "      <td>129</td>\n",
       "    </tr>\n",
       "  </tbody>\n",
       "</table>"
      ],
      "text/plain": [
       "<IPython.core.display.HTML object>"
      ]
     },
     "metadata": {},
     "output_type": "display_data"
    },
    {
     "name": "stdout",
     "output_type": "stream",
     "text": [
      "for dataset ENTER: tcga_primtum_all\n",
      "insert name for other datasettcga_primtum_all\n",
      "1st: high cutoff applied to gtex dataset\n",
      "2nd: common genes identified with other dataset\n",
      "3rd: both datasets combined\n",
      "4th: High cutoff applied to non-gtex dataset\n"
     ]
    },
    {
     "data": {
      "text/html": [
       "<table border=\"1\" class=\"dataframe\">\n",
       "  <thead>\n",
       "    <tr style=\"text-align: right;\">\n",
       "      <th></th>\n",
       "      <th>gtex_cutoffmet</th>\n",
       "      <th>tcga_primtum_all</th>\n",
       "    </tr>\n",
       "  </thead>\n",
       "  <tbody>\n",
       "    <tr>\n",
       "      <th>high_corr_with_ITGA2_both_same_genes</th>\n",
       "      <td>1</td>\n",
       "      <td>1</td>\n",
       "    </tr>\n",
       "  </tbody>\n",
       "</table>"
      ],
      "text/plain": [
       "<IPython.core.display.HTML object>"
      ]
     },
     "metadata": {},
     "output_type": "display_data"
    },
    {
     "name": "stdout",
     "output_type": "stream",
     "text": [
      "for dataset ENTER: tcga_primtum_all\n",
      "insert name for other datasettcga_primtum_all\n",
      "1st: high cutoff applied to gtex dataset\n",
      "2nd: common genes identified with other dataset\n",
      "3rd: both datasets combined\n",
      "4th: low cutoff applied to non-gtex dataset\n"
     ]
    },
    {
     "data": {
      "text/html": [
       "<table border=\"1\" class=\"dataframe\">\n",
       "  <thead>\n",
       "    <tr style=\"text-align: right;\">\n",
       "      <th></th>\n",
       "      <th>gtex_cutoffmet</th>\n",
       "      <th>tcga_primtum_all</th>\n",
       "    </tr>\n",
       "  </thead>\n",
       "  <tbody>\n",
       "    <tr>\n",
       "      <th>corr_with_ITGA2_highgtex_low_other</th>\n",
       "      <td>1425</td>\n",
       "      <td>1425</td>\n",
       "    </tr>\n",
       "  </tbody>\n",
       "</table>"
      ],
      "text/plain": [
       "<IPython.core.display.HTML object>"
      ]
     },
     "metadata": {},
     "output_type": "display_data"
    },
    {
     "name": "stdout",
     "output_type": "stream",
     "text": [
      "1st: high cutoff applied to tcga dataset\n",
      "2nd: common genes identified with gtex dataset\n",
      "3rd: both datasets combined\n",
      "4th: High cutoff applied to gtex dataset\n"
     ]
    },
    {
     "data": {
      "text/html": [
       "<table border=\"1\" class=\"dataframe\">\n",
       "  <thead>\n",
       "    <tr style=\"text-align: right;\">\n",
       "      <th></th>\n",
       "      <th>gtex_all</th>\n",
       "      <th>tcga_primtum_all_cutoffmet</th>\n",
       "    </tr>\n",
       "  </thead>\n",
       "  <tbody>\n",
       "    <tr>\n",
       "      <th>high_corr_with_ITGA2_both_same_genes</th>\n",
       "      <td>1</td>\n",
       "      <td>1</td>\n",
       "    </tr>\n",
       "  </tbody>\n",
       "</table>"
      ],
      "text/plain": [
       "<IPython.core.display.HTML object>"
      ]
     },
     "metadata": {},
     "output_type": "display_data"
    },
    {
     "name": "stdout",
     "output_type": "stream",
     "text": [
      "1st: high cutoff applied to tcga dataset\n",
      "2nd: common genes identified with gtex dataset\n",
      "3rd: both datasets combined\n",
      "4th: low cutoff applied to gtex dataset\n"
     ]
    },
    {
     "data": {
      "text/html": [
       "<table border=\"1\" class=\"dataframe\">\n",
       "  <thead>\n",
       "    <tr style=\"text-align: right;\">\n",
       "      <th></th>\n",
       "      <th>gtex_all</th>\n",
       "      <th>tcga_primtum_all_cutoffmet</th>\n",
       "    </tr>\n",
       "  </thead>\n",
       "  <tbody>\n",
       "    <tr>\n",
       "      <th>corr_with_ITGA2_both_same_genes</th>\n",
       "      <td>0</td>\n",
       "      <td>0</td>\n",
       "    </tr>\n",
       "  </tbody>\n",
       "</table>"
      ],
      "text/plain": [
       "<IPython.core.display.HTML object>"
      ]
     },
     "metadata": {},
     "output_type": "display_data"
    }
   ],
   "source": [
    "gtex_gct_dataset = 'gene_tpm_2017-06-05_v8_breast_mammary_tissue.gct_2'\n",
    "interest_gene = 'ITGA2'\n",
    "correlation_method ='pearson'\n",
    "correlation_cutoff = 0.6\n",
    "tcga_hiseq_dataset = '/home/hshadman/integrins_expression/saghar_TCGA_Breast/TCGA_BRCA_HiSeqV2' \n",
    "tcga_hiseq_corresponding_sample_info = '/home/hshadman/integrins_expression/saghar_TCGA_Breast/TCGA.BRCA.sampleMap_BRCA_clinicalMatrix'\n",
    "opposing_corr_cutoff = 0.1\n",
    "\n",
    "make_data_presentable(interest_gene,correlation_method, correlation_cutoff,opposing_corr_cutoff,gtex_gct_dataset,\n",
    "                         tcga_hiseq_dataset,tcga_hiseq_corresponding_sample_info)\n",
    "    \n"
   ]
  },
  {
   "cell_type": "code",
   "execution_count": 65,
   "metadata": {},
   "outputs": [
    {
     "name": "stdout",
     "output_type": "stream",
     "text": [
      "no overlap between datasets\n"
     ]
    },
    {
     "data": {
      "text/html": [
       "<table border=\"1\" class=\"dataframe\">\n",
       "  <thead>\n",
       "    <tr style=\"text-align: right;\">\n",
       "      <th></th>\n",
       "      <th>gtex_all</th>\n",
       "      <th>tcga_normal_all</th>\n",
       "      <th>tcga_primtum_all</th>\n",
       "    </tr>\n",
       "  </thead>\n",
       "  <tbody>\n",
       "    <tr>\n",
       "      <th>corr_with_ITGA8</th>\n",
       "      <td>52502</td>\n",
       "      <td>19929</td>\n",
       "      <td>20248</td>\n",
       "    </tr>\n",
       "  </tbody>\n",
       "</table>"
      ],
      "text/plain": [
       "<IPython.core.display.HTML object>"
      ]
     },
     "metadata": {},
     "output_type": "display_data"
    },
    {
     "name": "stdout",
     "output_type": "stream",
     "text": [
      "1st: common genes identified for all 3 datasets\n",
      "2nd: they were counted\n"
     ]
    },
    {
     "data": {
      "text/html": [
       "<table border=\"1\" class=\"dataframe\">\n",
       "  <thead>\n",
       "    <tr style=\"text-align: right;\">\n",
       "      <th></th>\n",
       "      <th>gtex_all</th>\n",
       "      <th>tcga_normal_all</th>\n",
       "      <th>tcga_primtum_all</th>\n",
       "    </tr>\n",
       "  </thead>\n",
       "  <tbody>\n",
       "    <tr>\n",
       "      <th>corr_with_ITGA8_all_same_genes</th>\n",
       "      <td>17313</td>\n",
       "      <td>17313</td>\n",
       "      <td>17313</td>\n",
       "    </tr>\n",
       "  </tbody>\n",
       "</table>"
      ],
      "text/plain": [
       "<IPython.core.display.HTML object>"
      ]
     },
     "metadata": {},
     "output_type": "display_data"
    },
    {
     "name": "stdout",
     "output_type": "stream",
     "text": [
      "for 1th dataset ENTER: gtex_all\n",
      "for 2th dataset ENTER: tcga_normal_all\n",
      "no overlap between datasets\n",
      "insert name for 1th datasetgtex_all\n",
      "insert name for 2th datasettcga_normal_all\n"
     ]
    },
    {
     "data": {
      "text/html": [
       "<table border=\"1\" class=\"dataframe\">\n",
       "  <thead>\n",
       "    <tr style=\"text-align: right;\">\n",
       "      <th></th>\n",
       "      <th>gtex_all</th>\n",
       "      <th>tcga_normal_all</th>\n",
       "    </tr>\n",
       "  </thead>\n",
       "  <tbody>\n",
       "    <tr>\n",
       "      <th>HIGHLY_correlated_with_ITGA8</th>\n",
       "      <td>32</td>\n",
       "      <td>234</td>\n",
       "    </tr>\n",
       "  </tbody>\n",
       "</table>"
      ],
      "text/plain": [
       "<IPython.core.display.HTML object>"
      ]
     },
     "metadata": {},
     "output_type": "display_data"
    },
    {
     "name": "stdout",
     "output_type": "stream",
     "text": [
      "for dataset ENTER: tcga_normal_all\n",
      "insert name for other datasettcga_normal_all\n",
      "1st: high cutoff applied to gtex dataset\n",
      "2nd: common genes identified with other dataset\n",
      "3rd: both datasets combined\n",
      "4th: High cutoff applied to non-gtex dataset\n"
     ]
    },
    {
     "data": {
      "text/html": [
       "<table border=\"1\" class=\"dataframe\">\n",
       "  <thead>\n",
       "    <tr style=\"text-align: right;\">\n",
       "      <th></th>\n",
       "      <th>gtex_cutoffmet</th>\n",
       "      <th>tcga_normal_all</th>\n",
       "    </tr>\n",
       "  </thead>\n",
       "  <tbody>\n",
       "    <tr>\n",
       "      <th>high_corr_with_ITGA8_both_same_genes</th>\n",
       "      <td>3</td>\n",
       "      <td>3</td>\n",
       "    </tr>\n",
       "  </tbody>\n",
       "</table>"
      ],
      "text/plain": [
       "<IPython.core.display.HTML object>"
      ]
     },
     "metadata": {},
     "output_type": "display_data"
    },
    {
     "name": "stdout",
     "output_type": "stream",
     "text": [
      "for dataset ENTER: tcga_normal_all\n",
      "insert name for other datasettcga_normal_all\n",
      "1st: high cutoff applied to gtex dataset\n",
      "2nd: common genes identified with other dataset\n",
      "3rd: both datasets combined\n",
      "4th: low cutoff applied to non-gtex dataset\n"
     ]
    },
    {
     "data": {
      "text/html": [
       "<table border=\"1\" class=\"dataframe\">\n",
       "  <thead>\n",
       "    <tr style=\"text-align: right;\">\n",
       "      <th></th>\n",
       "      <th>gtex_cutoffmet</th>\n",
       "      <th>tcga_normal_all</th>\n",
       "    </tr>\n",
       "  </thead>\n",
       "  <tbody>\n",
       "    <tr>\n",
       "      <th>corr_with_ITGA8_highgtex_low_other</th>\n",
       "      <td>10</td>\n",
       "      <td>10</td>\n",
       "    </tr>\n",
       "  </tbody>\n",
       "</table>"
      ],
      "text/plain": [
       "<IPython.core.display.HTML object>"
      ]
     },
     "metadata": {},
     "output_type": "display_data"
    },
    {
     "name": "stdout",
     "output_type": "stream",
     "text": [
      "for dataset ENTER: tcga_primtum_all\n",
      "insert name for other datasettcga_primtum_all\n",
      "1st: high cutoff applied to gtex dataset\n",
      "2nd: common genes identified with other dataset\n",
      "3rd: both datasets combined\n",
      "4th: High cutoff applied to non-gtex dataset\n"
     ]
    },
    {
     "data": {
      "text/html": [
       "<table border=\"1\" class=\"dataframe\">\n",
       "  <thead>\n",
       "    <tr style=\"text-align: right;\">\n",
       "      <th></th>\n",
       "      <th>gtex_cutoffmet</th>\n",
       "      <th>tcga_primtum_all</th>\n",
       "    </tr>\n",
       "  </thead>\n",
       "  <tbody>\n",
       "    <tr>\n",
       "      <th>high_corr_with_ITGA8_both_same_genes</th>\n",
       "      <td>1</td>\n",
       "      <td>1</td>\n",
       "    </tr>\n",
       "  </tbody>\n",
       "</table>"
      ],
      "text/plain": [
       "<IPython.core.display.HTML object>"
      ]
     },
     "metadata": {},
     "output_type": "display_data"
    },
    {
     "name": "stdout",
     "output_type": "stream",
     "text": [
      "for dataset ENTER: tcga_primtum_all\n",
      "insert name for other datasettcga_primtum_all\n",
      "1st: high cutoff applied to gtex dataset\n",
      "2nd: common genes identified with other dataset\n",
      "3rd: both datasets combined\n",
      "4th: low cutoff applied to non-gtex dataset\n"
     ]
    },
    {
     "data": {
      "text/html": [
       "<table border=\"1\" class=\"dataframe\">\n",
       "  <thead>\n",
       "    <tr style=\"text-align: right;\">\n",
       "      <th></th>\n",
       "      <th>gtex_cutoffmet</th>\n",
       "      <th>tcga_primtum_all</th>\n",
       "    </tr>\n",
       "  </thead>\n",
       "  <tbody>\n",
       "    <tr>\n",
       "      <th>corr_with_ITGA8_highgtex_low_other</th>\n",
       "      <td>10</td>\n",
       "      <td>10</td>\n",
       "    </tr>\n",
       "  </tbody>\n",
       "</table>"
      ],
      "text/plain": [
       "<IPython.core.display.HTML object>"
      ]
     },
     "metadata": {},
     "output_type": "display_data"
    },
    {
     "name": "stdout",
     "output_type": "stream",
     "text": [
      "1st: high cutoff applied to tcga dataset\n",
      "2nd: common genes identified with gtex dataset\n",
      "3rd: both datasets combined\n",
      "4th: High cutoff applied to gtex dataset\n"
     ]
    },
    {
     "data": {
      "text/html": [
       "<table border=\"1\" class=\"dataframe\">\n",
       "  <thead>\n",
       "    <tr style=\"text-align: right;\">\n",
       "      <th></th>\n",
       "      <th>gtex_all</th>\n",
       "      <th>tcga_primtum_all_cutoffmet</th>\n",
       "    </tr>\n",
       "  </thead>\n",
       "  <tbody>\n",
       "    <tr>\n",
       "      <th>high_corr_with_ITGA8_both_same_genes</th>\n",
       "      <td>1</td>\n",
       "      <td>1</td>\n",
       "    </tr>\n",
       "  </tbody>\n",
       "</table>"
      ],
      "text/plain": [
       "<IPython.core.display.HTML object>"
      ]
     },
     "metadata": {},
     "output_type": "display_data"
    },
    {
     "name": "stdout",
     "output_type": "stream",
     "text": [
      "1st: high cutoff applied to tcga dataset\n",
      "2nd: common genes identified with gtex dataset\n",
      "3rd: both datasets combined\n",
      "4th: low cutoff applied to gtex dataset\n"
     ]
    },
    {
     "data": {
      "text/html": [
       "<table border=\"1\" class=\"dataframe\">\n",
       "  <thead>\n",
       "    <tr style=\"text-align: right;\">\n",
       "      <th></th>\n",
       "      <th>gtex_all</th>\n",
       "      <th>tcga_primtum_all_cutoffmet</th>\n",
       "    </tr>\n",
       "  </thead>\n",
       "  <tbody>\n",
       "    <tr>\n",
       "      <th>corr_with_ITGA8_both_same_genes</th>\n",
       "      <td>38</td>\n",
       "      <td>38</td>\n",
       "    </tr>\n",
       "  </tbody>\n",
       "</table>"
      ],
      "text/plain": [
       "<IPython.core.display.HTML object>"
      ]
     },
     "metadata": {},
     "output_type": "display_data"
    }
   ],
   "source": [
    "gtex_gct_dataset = 'gene_tpm_2017-06-05_v8_breast_mammary_tissue.gct_2'\n",
    "interest_gene = 'ITGA8'\n",
    "correlation_method ='pearson'\n",
    "correlation_cutoff = 0.6\n",
    "tcga_hiseq_dataset = '/home/hshadman/integrins_expression/saghar_TCGA_Breast/TCGA_BRCA_HiSeqV2' \n",
    "tcga_hiseq_corresponding_sample_info = '/home/hshadman/integrins_expression/saghar_TCGA_Breast/TCGA.BRCA.sampleMap_BRCA_clinicalMatrix'\n",
    "opposing_corr_cutoff = 0.1\n",
    "\n",
    "make_data_presentable(interest_gene,correlation_method, correlation_cutoff,opposing_corr_cutoff,gtex_gct_dataset,\n",
    "                         tcga_hiseq_dataset,tcga_hiseq_corresponding_sample_info)\n",
    "    \n"
   ]
  },
  {
   "cell_type": "code",
   "execution_count": 5,
   "metadata": {},
   "outputs": [
    {
     "ename": "NameError",
     "evalue": "name 'make_data_presentable' is not defined",
     "output_type": "error",
     "traceback": [
      "\u001b[0;31m---------------------------------------------------------------------------\u001b[0m",
      "\u001b[0;31mNameError\u001b[0m                                 Traceback (most recent call last)",
      "\u001b[0;32m<ipython-input-5-457d394500da>\u001b[0m in \u001b[0;36m<module>\u001b[0;34m()\u001b[0m\n\u001b[1;32m      7\u001b[0m \u001b[0mopposing_corr_cutoff\u001b[0m \u001b[0;34m=\u001b[0m \u001b[0;36m0.1\u001b[0m\u001b[0;34m\u001b[0m\u001b[0m\n\u001b[1;32m      8\u001b[0m \u001b[0;34m\u001b[0m\u001b[0m\n\u001b[0;32m----> 9\u001b[0;31m make_data_presentable(interest_gene,correlation_method, correlation_cutoff,opposing_corr_cutoff,gtex_gct_dataset,\n\u001b[0m\u001b[1;32m     10\u001b[0m                          tcga_hiseq_dataset,tcga_hiseq_corresponding_sample_info)\n\u001b[1;32m     11\u001b[0m \u001b[0;34m\u001b[0m\u001b[0m\n",
      "\u001b[0;31mNameError\u001b[0m: name 'make_data_presentable' is not defined"
     ]
    }
   ],
   "source": [
    "gtex_gct_dataset = 'gene_tpm_2017-06-05_v8_breast_mammary_tissue.gct_2'\n",
    "interest_gene = 'ITGB1'\n",
    "correlation_method ='pearson'\n",
    "correlation_cutoff = 0.6\n",
    "tcga_hiseq_dataset = '/home/hshadman/integrins_expression/saghar_TCGA_Breast/TCGA_BRCA_HiSeqV2' \n",
    "tcga_hiseq_corresponding_sample_info = '/home/hshadman/integrins_expression/saghar_TCGA_Breast/TCGA.BRCA.sampleMap_BRCA_clinicalMatrix'\n",
    "opposing_corr_cutoff = 0.1\n",
    "\n",
    "make_data_presentable(interest_gene,correlation_method, correlation_cutoff,opposing_corr_cutoff,gtex_gct_dataset,\n",
    "                         tcga_hiseq_dataset,tcga_hiseq_corresponding_sample_info)\n",
    "    \n"
   ]
  },
  {
   "cell_type": "code",
   "execution_count": 67,
   "metadata": {},
   "outputs": [
    {
     "data": {
      "text/plain": [
       "Index(['ITGB3BP', 'ITGA10', 'ITGB1BP1', 'ITGB6', 'ITGA6', 'ITGA4', 'ITGAV',\n",
       "       'ITGA9', 'ITGA9-AS1', 'ITGB5', 'ITGB5-AS1', 'ITGA1', 'ITGA2', 'ITGB8',\n",
       "       'ITGA8', 'ITGB1', 'ITGB7', 'ITGA5', 'ITGA7', 'ITGBL1', 'ITGA11',\n",
       "       'ITGAL', 'ITGAM', 'ITGAX', 'ITGAD', 'ITGAE', 'ITGA2B', 'ITGB3', 'ITGA3',\n",
       "       'ITGB4', 'ITGB1P1', 'ITGB2', 'ITGB2-AS1', 'ITGB1BP2'],\n",
       "      dtype='object', name='Description')"
      ]
     },
     "execution_count": 67,
     "metadata": {},
     "output_type": "execute_result"
    }
   ],
   "source": [
    "df_int[df_int.columns[df_int.columns.str.contains(\"ITG\")]].columns"
   ]
  },
  {
   "cell_type": "code",
   "execution_count": 68,
   "metadata": {},
   "outputs": [
    {
     "name": "stdout",
     "output_type": "stream",
     "text": [
      "no overlap between datasets\n"
     ]
    },
    {
     "data": {
      "text/html": [
       "<table border=\"1\" class=\"dataframe\">\n",
       "  <thead>\n",
       "    <tr style=\"text-align: right;\">\n",
       "      <th></th>\n",
       "      <th>gtex_all</th>\n",
       "      <th>tcga_normal_all</th>\n",
       "      <th>tcga_primtum_all</th>\n",
       "    </tr>\n",
       "  </thead>\n",
       "  <tbody>\n",
       "    <tr>\n",
       "      <th>corr_with_ITGB7</th>\n",
       "      <td>52502</td>\n",
       "      <td>19929</td>\n",
       "      <td>20248</td>\n",
       "    </tr>\n",
       "  </tbody>\n",
       "</table>"
      ],
      "text/plain": [
       "<IPython.core.display.HTML object>"
      ]
     },
     "metadata": {},
     "output_type": "display_data"
    },
    {
     "name": "stdout",
     "output_type": "stream",
     "text": [
      "1st: common genes identified for all 3 datasets\n",
      "2nd: they were counted\n"
     ]
    },
    {
     "data": {
      "text/html": [
       "<table border=\"1\" class=\"dataframe\">\n",
       "  <thead>\n",
       "    <tr style=\"text-align: right;\">\n",
       "      <th></th>\n",
       "      <th>gtex_all</th>\n",
       "      <th>tcga_normal_all</th>\n",
       "      <th>tcga_primtum_all</th>\n",
       "    </tr>\n",
       "  </thead>\n",
       "  <tbody>\n",
       "    <tr>\n",
       "      <th>corr_with_ITGB7_all_same_genes</th>\n",
       "      <td>17313</td>\n",
       "      <td>17313</td>\n",
       "      <td>17313</td>\n",
       "    </tr>\n",
       "  </tbody>\n",
       "</table>"
      ],
      "text/plain": [
       "<IPython.core.display.HTML object>"
      ]
     },
     "metadata": {},
     "output_type": "display_data"
    },
    {
     "name": "stdout",
     "output_type": "stream",
     "text": [
      "for 1th dataset ENTER: gtex_all\n",
      "for 2th dataset ENTER: tcga_normal_all\n",
      "no overlap between datasets\n",
      "insert name for 1th datasetgtex_all\n",
      "insert name for 2th datasettcga_normal_all\n"
     ]
    },
    {
     "data": {
      "text/html": [
       "<table border=\"1\" class=\"dataframe\">\n",
       "  <thead>\n",
       "    <tr style=\"text-align: right;\">\n",
       "      <th></th>\n",
       "      <th>gtex_all</th>\n",
       "      <th>tcga_normal_all</th>\n",
       "    </tr>\n",
       "  </thead>\n",
       "  <tbody>\n",
       "    <tr>\n",
       "      <th>HIGHLY_correlated_with_ITGB7</th>\n",
       "      <td>84</td>\n",
       "      <td>124</td>\n",
       "    </tr>\n",
       "  </tbody>\n",
       "</table>"
      ],
      "text/plain": [
       "<IPython.core.display.HTML object>"
      ]
     },
     "metadata": {},
     "output_type": "display_data"
    },
    {
     "name": "stdout",
     "output_type": "stream",
     "text": [
      "for dataset ENTER: tcga_normal_all\n",
      "insert name for other datasettcga_normal_all\n",
      "1st: high cutoff applied to gtex dataset\n",
      "2nd: common genes identified with other dataset\n",
      "3rd: both datasets combined\n",
      "4th: High cutoff applied to non-gtex dataset\n"
     ]
    },
    {
     "data": {
      "text/html": [
       "<table border=\"1\" class=\"dataframe\">\n",
       "  <thead>\n",
       "    <tr style=\"text-align: right;\">\n",
       "      <th></th>\n",
       "      <th>gtex_cutoffmet</th>\n",
       "      <th>tcga_normal_all</th>\n",
       "    </tr>\n",
       "  </thead>\n",
       "  <tbody>\n",
       "    <tr>\n",
       "      <th>high_corr_with_ITGB7_both_same_genes</th>\n",
       "      <td>29</td>\n",
       "      <td>29</td>\n",
       "    </tr>\n",
       "  </tbody>\n",
       "</table>"
      ],
      "text/plain": [
       "<IPython.core.display.HTML object>"
      ]
     },
     "metadata": {},
     "output_type": "display_data"
    },
    {
     "name": "stdout",
     "output_type": "stream",
     "text": [
      "for dataset ENTER: tcga_normal_all\n",
      "insert name for other datasettcga_normal_all\n",
      "1st: high cutoff applied to gtex dataset\n",
      "2nd: common genes identified with other dataset\n",
      "3rd: both datasets combined\n",
      "4th: low cutoff applied to non-gtex dataset\n"
     ]
    },
    {
     "data": {
      "text/html": [
       "<table border=\"1\" class=\"dataframe\">\n",
       "  <thead>\n",
       "    <tr style=\"text-align: right;\">\n",
       "      <th></th>\n",
       "      <th>gtex_cutoffmet</th>\n",
       "      <th>tcga_normal_all</th>\n",
       "    </tr>\n",
       "  </thead>\n",
       "  <tbody>\n",
       "    <tr>\n",
       "      <th>corr_with_ITGB7_highgtex_low_other</th>\n",
       "      <td>1</td>\n",
       "      <td>1</td>\n",
       "    </tr>\n",
       "  </tbody>\n",
       "</table>"
      ],
      "text/plain": [
       "<IPython.core.display.HTML object>"
      ]
     },
     "metadata": {},
     "output_type": "display_data"
    },
    {
     "name": "stdout",
     "output_type": "stream",
     "text": [
      "for dataset ENTER: tcga_primtum_all\n",
      "insert name for other datasettcga_primtum_all\n",
      "1st: high cutoff applied to gtex dataset\n",
      "2nd: common genes identified with other dataset\n",
      "3rd: both datasets combined\n",
      "4th: High cutoff applied to non-gtex dataset\n"
     ]
    },
    {
     "data": {
      "text/html": [
       "<table border=\"1\" class=\"dataframe\">\n",
       "  <thead>\n",
       "    <tr style=\"text-align: right;\">\n",
       "      <th></th>\n",
       "      <th>gtex_cutoffmet</th>\n",
       "      <th>tcga_primtum_all</th>\n",
       "    </tr>\n",
       "  </thead>\n",
       "  <tbody>\n",
       "    <tr>\n",
       "      <th>high_corr_with_ITGB7_both_same_genes</th>\n",
       "      <td>41</td>\n",
       "      <td>41</td>\n",
       "    </tr>\n",
       "  </tbody>\n",
       "</table>"
      ],
      "text/plain": [
       "<IPython.core.display.HTML object>"
      ]
     },
     "metadata": {},
     "output_type": "display_data"
    },
    {
     "name": "stdout",
     "output_type": "stream",
     "text": [
      "for dataset ENTER: tcga_primtum_all\n",
      "insert name for other datasettcga_primtum_all\n",
      "1st: high cutoff applied to gtex dataset\n",
      "2nd: common genes identified with other dataset\n",
      "3rd: both datasets combined\n",
      "4th: low cutoff applied to non-gtex dataset\n"
     ]
    },
    {
     "data": {
      "text/html": [
       "<table border=\"1\" class=\"dataframe\">\n",
       "  <thead>\n",
       "    <tr style=\"text-align: right;\">\n",
       "      <th></th>\n",
       "      <th>gtex_cutoffmet</th>\n",
       "      <th>tcga_primtum_all</th>\n",
       "    </tr>\n",
       "  </thead>\n",
       "  <tbody>\n",
       "    <tr>\n",
       "      <th>corr_with_ITGB7_highgtex_low_other</th>\n",
       "      <td>6</td>\n",
       "      <td>6</td>\n",
       "    </tr>\n",
       "  </tbody>\n",
       "</table>"
      ],
      "text/plain": [
       "<IPython.core.display.HTML object>"
      ]
     },
     "metadata": {},
     "output_type": "display_data"
    },
    {
     "name": "stdout",
     "output_type": "stream",
     "text": [
      "1st: high cutoff applied to tcga dataset\n",
      "2nd: common genes identified with gtex dataset\n",
      "3rd: both datasets combined\n",
      "4th: High cutoff applied to gtex dataset\n"
     ]
    },
    {
     "data": {
      "text/html": [
       "<table border=\"1\" class=\"dataframe\">\n",
       "  <thead>\n",
       "    <tr style=\"text-align: right;\">\n",
       "      <th></th>\n",
       "      <th>gtex_all</th>\n",
       "      <th>tcga_primtum_all_cutoffmet</th>\n",
       "    </tr>\n",
       "  </thead>\n",
       "  <tbody>\n",
       "    <tr>\n",
       "      <th>high_corr_with_ITGB7_both_same_genes</th>\n",
       "      <td>41</td>\n",
       "      <td>41</td>\n",
       "    </tr>\n",
       "  </tbody>\n",
       "</table>"
      ],
      "text/plain": [
       "<IPython.core.display.HTML object>"
      ]
     },
     "metadata": {},
     "output_type": "display_data"
    },
    {
     "name": "stdout",
     "output_type": "stream",
     "text": [
      "1st: high cutoff applied to tcga dataset\n",
      "2nd: common genes identified with gtex dataset\n",
      "3rd: both datasets combined\n",
      "4th: low cutoff applied to gtex dataset\n"
     ]
    },
    {
     "data": {
      "text/html": [
       "<table border=\"1\" class=\"dataframe\">\n",
       "  <thead>\n",
       "    <tr style=\"text-align: right;\">\n",
       "      <th></th>\n",
       "      <th>gtex_all</th>\n",
       "      <th>tcga_primtum_all_cutoffmet</th>\n",
       "    </tr>\n",
       "  </thead>\n",
       "  <tbody>\n",
       "    <tr>\n",
       "      <th>corr_with_ITGB7_both_same_genes</th>\n",
       "      <td>68</td>\n",
       "      <td>68</td>\n",
       "    </tr>\n",
       "  </tbody>\n",
       "</table>"
      ],
      "text/plain": [
       "<IPython.core.display.HTML object>"
      ]
     },
     "metadata": {},
     "output_type": "display_data"
    }
   ],
   "source": [
    "gtex_gct_dataset = 'gene_tpm_2017-06-05_v8_breast_mammary_tissue.gct_2'\n",
    "interest_gene = 'ITGB7'\n",
    "correlation_method ='pearson'\n",
    "correlation_cutoff = 0.6\n",
    "tcga_hiseq_dataset = '/home/hshadman/integrins_expression/saghar_TCGA_Breast/TCGA_BRCA_HiSeqV2' \n",
    "tcga_hiseq_corresponding_sample_info = '/home/hshadman/integrins_expression/saghar_TCGA_Breast/TCGA.BRCA.sampleMap_BRCA_clinicalMatrix'\n",
    "opposing_corr_cutoff = 0.1\n",
    "\n",
    "make_data_presentable(interest_gene,correlation_method, correlation_cutoff,opposing_corr_cutoff,gtex_gct_dataset,\n",
    "                         tcga_hiseq_dataset,tcga_hiseq_corresponding_sample_info)\n",
    "    \n"
   ]
  },
  {
   "cell_type": "code",
   "execution_count": 69,
   "metadata": {},
   "outputs": [
    {
     "name": "stdout",
     "output_type": "stream",
     "text": [
      "no overlap between datasets\n"
     ]
    },
    {
     "data": {
      "text/html": [
       "<table border=\"1\" class=\"dataframe\">\n",
       "  <thead>\n",
       "    <tr style=\"text-align: right;\">\n",
       "      <th></th>\n",
       "      <th>gtex_all</th>\n",
       "      <th>tcga_normal_all</th>\n",
       "      <th>tcga_primtum_all</th>\n",
       "    </tr>\n",
       "  </thead>\n",
       "  <tbody>\n",
       "    <tr>\n",
       "      <th>corr_with_ITGA5</th>\n",
       "      <td>52502</td>\n",
       "      <td>19929</td>\n",
       "      <td>20248</td>\n",
       "    </tr>\n",
       "  </tbody>\n",
       "</table>"
      ],
      "text/plain": [
       "<IPython.core.display.HTML object>"
      ]
     },
     "metadata": {},
     "output_type": "display_data"
    },
    {
     "name": "stdout",
     "output_type": "stream",
     "text": [
      "1st: common genes identified for all 3 datasets\n",
      "2nd: they were counted\n"
     ]
    },
    {
     "data": {
      "text/html": [
       "<table border=\"1\" class=\"dataframe\">\n",
       "  <thead>\n",
       "    <tr style=\"text-align: right;\">\n",
       "      <th></th>\n",
       "      <th>gtex_all</th>\n",
       "      <th>tcga_normal_all</th>\n",
       "      <th>tcga_primtum_all</th>\n",
       "    </tr>\n",
       "  </thead>\n",
       "  <tbody>\n",
       "    <tr>\n",
       "      <th>corr_with_ITGA5_all_same_genes</th>\n",
       "      <td>17313</td>\n",
       "      <td>17313</td>\n",
       "      <td>17313</td>\n",
       "    </tr>\n",
       "  </tbody>\n",
       "</table>"
      ],
      "text/plain": [
       "<IPython.core.display.HTML object>"
      ]
     },
     "metadata": {},
     "output_type": "display_data"
    },
    {
     "name": "stdout",
     "output_type": "stream",
     "text": [
      "for 1th dataset ENTER: gtex_all\n",
      "for 2th dataset ENTER: tcga_normal_all\n",
      "no overlap between datasets\n",
      "insert name for 1th datasetgtex_all\n",
      "insert name for 2th datasettcga_normal_all\n"
     ]
    },
    {
     "data": {
      "text/html": [
       "<table border=\"1\" class=\"dataframe\">\n",
       "  <thead>\n",
       "    <tr style=\"text-align: right;\">\n",
       "      <th></th>\n",
       "      <th>gtex_all</th>\n",
       "      <th>tcga_normal_all</th>\n",
       "    </tr>\n",
       "  </thead>\n",
       "  <tbody>\n",
       "    <tr>\n",
       "      <th>HIGHLY_correlated_with_ITGA5</th>\n",
       "      <td>60</td>\n",
       "      <td>772</td>\n",
       "    </tr>\n",
       "  </tbody>\n",
       "</table>"
      ],
      "text/plain": [
       "<IPython.core.display.HTML object>"
      ]
     },
     "metadata": {},
     "output_type": "display_data"
    },
    {
     "name": "stdout",
     "output_type": "stream",
     "text": [
      "for dataset ENTER: tcga_normal_all\n",
      "insert name for other datasettcga_normal_all\n",
      "1st: high cutoff applied to gtex dataset\n",
      "2nd: common genes identified with other dataset\n",
      "3rd: both datasets combined\n",
      "4th: High cutoff applied to non-gtex dataset\n"
     ]
    },
    {
     "data": {
      "text/html": [
       "<table border=\"1\" class=\"dataframe\">\n",
       "  <thead>\n",
       "    <tr style=\"text-align: right;\">\n",
       "      <th></th>\n",
       "      <th>gtex_cutoffmet</th>\n",
       "      <th>tcga_normal_all</th>\n",
       "    </tr>\n",
       "  </thead>\n",
       "  <tbody>\n",
       "    <tr>\n",
       "      <th>high_corr_with_ITGA5_both_same_genes</th>\n",
       "      <td>12</td>\n",
       "      <td>12</td>\n",
       "    </tr>\n",
       "  </tbody>\n",
       "</table>"
      ],
      "text/plain": [
       "<IPython.core.display.HTML object>"
      ]
     },
     "metadata": {},
     "output_type": "display_data"
    },
    {
     "name": "stdout",
     "output_type": "stream",
     "text": [
      "for dataset ENTER: tcga_normal_all\n",
      "insert name for other datasettcga_normal_all\n",
      "1st: high cutoff applied to gtex dataset\n",
      "2nd: common genes identified with other dataset\n",
      "3rd: both datasets combined\n",
      "4th: low cutoff applied to non-gtex dataset\n"
     ]
    },
    {
     "data": {
      "text/html": [
       "<table border=\"1\" class=\"dataframe\">\n",
       "  <thead>\n",
       "    <tr style=\"text-align: right;\">\n",
       "      <th></th>\n",
       "      <th>gtex_cutoffmet</th>\n",
       "      <th>tcga_normal_all</th>\n",
       "    </tr>\n",
       "  </thead>\n",
       "  <tbody>\n",
       "    <tr>\n",
       "      <th>corr_with_ITGA5_highgtex_low_other</th>\n",
       "      <td>7</td>\n",
       "      <td>7</td>\n",
       "    </tr>\n",
       "  </tbody>\n",
       "</table>"
      ],
      "text/plain": [
       "<IPython.core.display.HTML object>"
      ]
     },
     "metadata": {},
     "output_type": "display_data"
    },
    {
     "name": "stdout",
     "output_type": "stream",
     "text": [
      "for dataset ENTER: tcga_primtum_all\n",
      "insert name for other datasettcga_primtum_all\n",
      "1st: high cutoff applied to gtex dataset\n",
      "2nd: common genes identified with other dataset\n",
      "3rd: both datasets combined\n",
      "4th: High cutoff applied to non-gtex dataset\n"
     ]
    },
    {
     "data": {
      "text/html": [
       "<table border=\"1\" class=\"dataframe\">\n",
       "  <thead>\n",
       "    <tr style=\"text-align: right;\">\n",
       "      <th></th>\n",
       "      <th>gtex_cutoffmet</th>\n",
       "      <th>tcga_primtum_all</th>\n",
       "    </tr>\n",
       "  </thead>\n",
       "  <tbody>\n",
       "    <tr>\n",
       "      <th>high_corr_with_ITGA5_both_same_genes</th>\n",
       "      <td>3</td>\n",
       "      <td>3</td>\n",
       "    </tr>\n",
       "  </tbody>\n",
       "</table>"
      ],
      "text/plain": [
       "<IPython.core.display.HTML object>"
      ]
     },
     "metadata": {},
     "output_type": "display_data"
    },
    {
     "name": "stdout",
     "output_type": "stream",
     "text": [
      "for dataset ENTER: tcga_primtum_all\n",
      "insert name for other datasettcga_primtum_all\n",
      "1st: high cutoff applied to gtex dataset\n",
      "2nd: common genes identified with other dataset\n",
      "3rd: both datasets combined\n",
      "4th: low cutoff applied to non-gtex dataset\n"
     ]
    },
    {
     "data": {
      "text/html": [
       "<table border=\"1\" class=\"dataframe\">\n",
       "  <thead>\n",
       "    <tr style=\"text-align: right;\">\n",
       "      <th></th>\n",
       "      <th>gtex_cutoffmet</th>\n",
       "      <th>tcga_primtum_all</th>\n",
       "    </tr>\n",
       "  </thead>\n",
       "  <tbody>\n",
       "    <tr>\n",
       "      <th>corr_with_ITGA5_highgtex_low_other</th>\n",
       "      <td>2</td>\n",
       "      <td>2</td>\n",
       "    </tr>\n",
       "  </tbody>\n",
       "</table>"
      ],
      "text/plain": [
       "<IPython.core.display.HTML object>"
      ]
     },
     "metadata": {},
     "output_type": "display_data"
    },
    {
     "name": "stdout",
     "output_type": "stream",
     "text": [
      "1st: high cutoff applied to tcga dataset\n",
      "2nd: common genes identified with gtex dataset\n",
      "3rd: both datasets combined\n",
      "4th: High cutoff applied to gtex dataset\n"
     ]
    },
    {
     "data": {
      "text/html": [
       "<table border=\"1\" class=\"dataframe\">\n",
       "  <thead>\n",
       "    <tr style=\"text-align: right;\">\n",
       "      <th></th>\n",
       "      <th>gtex_all</th>\n",
       "      <th>tcga_primtum_all_cutoffmet</th>\n",
       "    </tr>\n",
       "  </thead>\n",
       "  <tbody>\n",
       "    <tr>\n",
       "      <th>high_corr_with_ITGA5_both_same_genes</th>\n",
       "      <td>3</td>\n",
       "      <td>3</td>\n",
       "    </tr>\n",
       "  </tbody>\n",
       "</table>"
      ],
      "text/plain": [
       "<IPython.core.display.HTML object>"
      ]
     },
     "metadata": {},
     "output_type": "display_data"
    },
    {
     "name": "stdout",
     "output_type": "stream",
     "text": [
      "1st: high cutoff applied to tcga dataset\n",
      "2nd: common genes identified with gtex dataset\n",
      "3rd: both datasets combined\n",
      "4th: low cutoff applied to gtex dataset\n"
     ]
    },
    {
     "data": {
      "text/html": [
       "<table border=\"1\" class=\"dataframe\">\n",
       "  <thead>\n",
       "    <tr style=\"text-align: right;\">\n",
       "      <th></th>\n",
       "      <th>gtex_all</th>\n",
       "      <th>tcga_primtum_all_cutoffmet</th>\n",
       "    </tr>\n",
       "  </thead>\n",
       "  <tbody>\n",
       "    <tr>\n",
       "      <th>corr_with_ITGA5_both_same_genes</th>\n",
       "      <td>24</td>\n",
       "      <td>24</td>\n",
       "    </tr>\n",
       "  </tbody>\n",
       "</table>"
      ],
      "text/plain": [
       "<IPython.core.display.HTML object>"
      ]
     },
     "metadata": {},
     "output_type": "display_data"
    }
   ],
   "source": [
    "gtex_gct_dataset = 'gene_tpm_2017-06-05_v8_breast_mammary_tissue.gct_2'\n",
    "interest_gene = 'ITGA5'\n",
    "correlation_method ='pearson'\n",
    "correlation_cutoff = 0.6\n",
    "tcga_hiseq_dataset = '/home/hshadman/integrins_expression/saghar_TCGA_Breast/TCGA_BRCA_HiSeqV2' \n",
    "tcga_hiseq_corresponding_sample_info = '/home/hshadman/integrins_expression/saghar_TCGA_Breast/TCGA.BRCA.sampleMap_BRCA_clinicalMatrix'\n",
    "opposing_corr_cutoff = 0.1\n",
    "\n",
    "make_data_presentable(interest_gene,correlation_method, correlation_cutoff,opposing_corr_cutoff,gtex_gct_dataset,\n",
    "                         tcga_hiseq_dataset,tcga_hiseq_corresponding_sample_info)\n",
    "    \n"
   ]
  },
  {
   "cell_type": "code",
   "execution_count": 71,
   "metadata": {},
   "outputs": [
    {
     "name": "stdout",
     "output_type": "stream",
     "text": [
      "no overlap between datasets\n"
     ]
    },
    {
     "data": {
      "text/html": [
       "<table border=\"1\" class=\"dataframe\">\n",
       "  <thead>\n",
       "    <tr style=\"text-align: right;\">\n",
       "      <th></th>\n",
       "      <th>gtex_all</th>\n",
       "      <th>tcga_normal_all</th>\n",
       "      <th>tcga_primtum_all</th>\n",
       "    </tr>\n",
       "  </thead>\n",
       "  <tbody>\n",
       "    <tr>\n",
       "      <th>corr_with_ITGBL1</th>\n",
       "      <td>52502</td>\n",
       "      <td>19929</td>\n",
       "      <td>20248</td>\n",
       "    </tr>\n",
       "  </tbody>\n",
       "</table>"
      ],
      "text/plain": [
       "<IPython.core.display.HTML object>"
      ]
     },
     "metadata": {},
     "output_type": "display_data"
    },
    {
     "name": "stdout",
     "output_type": "stream",
     "text": [
      "1st: common genes identified for all 3 datasets\n",
      "2nd: they were counted\n"
     ]
    },
    {
     "data": {
      "text/html": [
       "<table border=\"1\" class=\"dataframe\">\n",
       "  <thead>\n",
       "    <tr style=\"text-align: right;\">\n",
       "      <th></th>\n",
       "      <th>gtex_all</th>\n",
       "      <th>tcga_normal_all</th>\n",
       "      <th>tcga_primtum_all</th>\n",
       "    </tr>\n",
       "  </thead>\n",
       "  <tbody>\n",
       "    <tr>\n",
       "      <th>corr_with_ITGBL1_all_same_genes</th>\n",
       "      <td>17313</td>\n",
       "      <td>17313</td>\n",
       "      <td>17313</td>\n",
       "    </tr>\n",
       "  </tbody>\n",
       "</table>"
      ],
      "text/plain": [
       "<IPython.core.display.HTML object>"
      ]
     },
     "metadata": {},
     "output_type": "display_data"
    },
    {
     "name": "stdout",
     "output_type": "stream",
     "text": [
      "for 1th dataset ENTER: gtex_all\n",
      "for 2th dataset ENTER: tcga_normal_all\n",
      "no overlap between datasets\n",
      "insert name for 1th datasetgtex_all\n",
      "insert name for 2th datasettcga_normal_all\n"
     ]
    },
    {
     "data": {
      "text/html": [
       "<table border=\"1\" class=\"dataframe\">\n",
       "  <thead>\n",
       "    <tr style=\"text-align: right;\">\n",
       "      <th></th>\n",
       "      <th>gtex_all</th>\n",
       "      <th>tcga_normal_all</th>\n",
       "    </tr>\n",
       "  </thead>\n",
       "  <tbody>\n",
       "    <tr>\n",
       "      <th>HIGHLY_correlated_with_ITGBL1</th>\n",
       "      <td>8</td>\n",
       "      <td>2</td>\n",
       "    </tr>\n",
       "  </tbody>\n",
       "</table>"
      ],
      "text/plain": [
       "<IPython.core.display.HTML object>"
      ]
     },
     "metadata": {},
     "output_type": "display_data"
    },
    {
     "name": "stdout",
     "output_type": "stream",
     "text": [
      "for dataset ENTER: tcga_normal_all\n",
      "insert name for other datasettcga_normal_all\n",
      "1st: high cutoff applied to gtex dataset\n",
      "2nd: common genes identified with other dataset\n",
      "3rd: both datasets combined\n",
      "4th: High cutoff applied to non-gtex dataset\n"
     ]
    },
    {
     "data": {
      "text/html": [
       "<table border=\"1\" class=\"dataframe\">\n",
       "  <thead>\n",
       "    <tr style=\"text-align: right;\">\n",
       "      <th></th>\n",
       "      <th>gtex_cutoffmet</th>\n",
       "      <th>tcga_normal_all</th>\n",
       "    </tr>\n",
       "  </thead>\n",
       "  <tbody>\n",
       "    <tr>\n",
       "      <th>high_corr_with_ITGBL1_both_same_genes</th>\n",
       "      <td>2</td>\n",
       "      <td>2</td>\n",
       "    </tr>\n",
       "  </tbody>\n",
       "</table>"
      ],
      "text/plain": [
       "<IPython.core.display.HTML object>"
      ]
     },
     "metadata": {},
     "output_type": "display_data"
    },
    {
     "name": "stdout",
     "output_type": "stream",
     "text": [
      "for dataset ENTER: tcga_normal_all\n",
      "insert name for other datasettcga_normal_all\n",
      "1st: high cutoff applied to gtex dataset\n",
      "2nd: common genes identified with other dataset\n",
      "3rd: both datasets combined\n",
      "4th: low cutoff applied to non-gtex dataset\n"
     ]
    },
    {
     "data": {
      "text/html": [
       "<table border=\"1\" class=\"dataframe\">\n",
       "  <thead>\n",
       "    <tr style=\"text-align: right;\">\n",
       "      <th></th>\n",
       "      <th>gtex_cutoffmet</th>\n",
       "      <th>tcga_normal_all</th>\n",
       "    </tr>\n",
       "  </thead>\n",
       "  <tbody>\n",
       "    <tr>\n",
       "      <th>corr_with_ITGBL1_highgtex_low_other</th>\n",
       "      <td>0</td>\n",
       "      <td>0</td>\n",
       "    </tr>\n",
       "  </tbody>\n",
       "</table>"
      ],
      "text/plain": [
       "<IPython.core.display.HTML object>"
      ]
     },
     "metadata": {},
     "output_type": "display_data"
    },
    {
     "name": "stdout",
     "output_type": "stream",
     "text": [
      "for dataset ENTER: tcga_primtum_all\n",
      "insert name for other datasettcga_primtum_all\n",
      "1st: high cutoff applied to gtex dataset\n",
      "2nd: common genes identified with other dataset\n",
      "3rd: both datasets combined\n",
      "4th: High cutoff applied to non-gtex dataset\n"
     ]
    },
    {
     "data": {
      "text/html": [
       "<table border=\"1\" class=\"dataframe\">\n",
       "  <thead>\n",
       "    <tr style=\"text-align: right;\">\n",
       "      <th></th>\n",
       "      <th>gtex_cutoffmet</th>\n",
       "      <th>tcga_primtum_all</th>\n",
       "    </tr>\n",
       "  </thead>\n",
       "  <tbody>\n",
       "    <tr>\n",
       "      <th>high_corr_with_ITGBL1_both_same_genes</th>\n",
       "      <td>5</td>\n",
       "      <td>5</td>\n",
       "    </tr>\n",
       "  </tbody>\n",
       "</table>"
      ],
      "text/plain": [
       "<IPython.core.display.HTML object>"
      ]
     },
     "metadata": {},
     "output_type": "display_data"
    },
    {
     "name": "stdout",
     "output_type": "stream",
     "text": [
      "for dataset ENTER: tcga_primtum_all\n",
      "insert name for other datasettcga_primtum_all\n",
      "1st: high cutoff applied to gtex dataset\n",
      "2nd: common genes identified with other dataset\n",
      "3rd: both datasets combined\n",
      "4th: low cutoff applied to non-gtex dataset\n"
     ]
    },
    {
     "data": {
      "text/html": [
       "<table border=\"1\" class=\"dataframe\">\n",
       "  <thead>\n",
       "    <tr style=\"text-align: right;\">\n",
       "      <th></th>\n",
       "      <th>gtex_cutoffmet</th>\n",
       "      <th>tcga_primtum_all</th>\n",
       "    </tr>\n",
       "  </thead>\n",
       "  <tbody>\n",
       "    <tr>\n",
       "      <th>corr_with_ITGBL1_highgtex_low_other</th>\n",
       "      <td>0</td>\n",
       "      <td>0</td>\n",
       "    </tr>\n",
       "  </tbody>\n",
       "</table>"
      ],
      "text/plain": [
       "<IPython.core.display.HTML object>"
      ]
     },
     "metadata": {},
     "output_type": "display_data"
    },
    {
     "name": "stdout",
     "output_type": "stream",
     "text": [
      "1st: high cutoff applied to tcga dataset\n",
      "2nd: common genes identified with gtex dataset\n",
      "3rd: both datasets combined\n",
      "4th: High cutoff applied to gtex dataset\n"
     ]
    },
    {
     "data": {
      "text/html": [
       "<table border=\"1\" class=\"dataframe\">\n",
       "  <thead>\n",
       "    <tr style=\"text-align: right;\">\n",
       "      <th></th>\n",
       "      <th>gtex_all</th>\n",
       "      <th>tcga_primtum_all_cutoffmet</th>\n",
       "    </tr>\n",
       "  </thead>\n",
       "  <tbody>\n",
       "    <tr>\n",
       "      <th>high_corr_with_ITGBL1_both_same_genes</th>\n",
       "      <td>5</td>\n",
       "      <td>5</td>\n",
       "    </tr>\n",
       "  </tbody>\n",
       "</table>"
      ],
      "text/plain": [
       "<IPython.core.display.HTML object>"
      ]
     },
     "metadata": {},
     "output_type": "display_data"
    },
    {
     "name": "stdout",
     "output_type": "stream",
     "text": [
      "1st: high cutoff applied to tcga dataset\n",
      "2nd: common genes identified with gtex dataset\n",
      "3rd: both datasets combined\n",
      "4th: low cutoff applied to gtex dataset\n"
     ]
    },
    {
     "data": {
      "text/html": [
       "<table border=\"1\" class=\"dataframe\">\n",
       "  <thead>\n",
       "    <tr style=\"text-align: right;\">\n",
       "      <th></th>\n",
       "      <th>gtex_all</th>\n",
       "      <th>tcga_primtum_all_cutoffmet</th>\n",
       "    </tr>\n",
       "  </thead>\n",
       "  <tbody>\n",
       "    <tr>\n",
       "      <th>corr_with_ITGBL1_both_same_genes</th>\n",
       "      <td>20</td>\n",
       "      <td>20</td>\n",
       "    </tr>\n",
       "  </tbody>\n",
       "</table>"
      ],
      "text/plain": [
       "<IPython.core.display.HTML object>"
      ]
     },
     "metadata": {},
     "output_type": "display_data"
    }
   ],
   "source": [
    "gtex_gct_dataset = 'gene_tpm_2017-06-05_v8_breast_mammary_tissue.gct_2'\n",
    "interest_gene = 'ITGBL1'\n",
    "correlation_method ='pearson'\n",
    "correlation_cutoff = 0.6\n",
    "tcga_hiseq_dataset = '/home/hshadman/integrins_expression/saghar_TCGA_Breast/TCGA_BRCA_HiSeqV2' \n",
    "tcga_hiseq_corresponding_sample_info = '/home/hshadman/integrins_expression/saghar_TCGA_Breast/TCGA.BRCA.sampleMap_BRCA_clinicalMatrix'\n",
    "opposing_corr_cutoff = 0.1\n",
    "\n",
    "make_data_presentable(interest_gene,correlation_method, correlation_cutoff,opposing_corr_cutoff,gtex_gct_dataset,\n",
    "                         tcga_hiseq_dataset,tcga_hiseq_corresponding_sample_info)\n",
    "    \n"
   ]
  },
  {
   "cell_type": "code",
   "execution_count": 72,
   "metadata": {},
   "outputs": [
    {
     "name": "stdout",
     "output_type": "stream",
     "text": [
      "no overlap between datasets\n"
     ]
    },
    {
     "data": {
      "text/html": [
       "<table border=\"1\" class=\"dataframe\">\n",
       "  <thead>\n",
       "    <tr style=\"text-align: right;\">\n",
       "      <th></th>\n",
       "      <th>gtex_all</th>\n",
       "      <th>tcga_normal_all</th>\n",
       "      <th>tcga_primtum_all</th>\n",
       "    </tr>\n",
       "  </thead>\n",
       "  <tbody>\n",
       "    <tr>\n",
       "      <th>corr_with_ITGA11</th>\n",
       "      <td>52502</td>\n",
       "      <td>19929</td>\n",
       "      <td>20248</td>\n",
       "    </tr>\n",
       "  </tbody>\n",
       "</table>"
      ],
      "text/plain": [
       "<IPython.core.display.HTML object>"
      ]
     },
     "metadata": {},
     "output_type": "display_data"
    },
    {
     "name": "stdout",
     "output_type": "stream",
     "text": [
      "1st: common genes identified for all 3 datasets\n",
      "2nd: they were counted\n"
     ]
    },
    {
     "data": {
      "text/html": [
       "<table border=\"1\" class=\"dataframe\">\n",
       "  <thead>\n",
       "    <tr style=\"text-align: right;\">\n",
       "      <th></th>\n",
       "      <th>gtex_all</th>\n",
       "      <th>tcga_normal_all</th>\n",
       "      <th>tcga_primtum_all</th>\n",
       "    </tr>\n",
       "  </thead>\n",
       "  <tbody>\n",
       "    <tr>\n",
       "      <th>corr_with_ITGA11_all_same_genes</th>\n",
       "      <td>17313</td>\n",
       "      <td>17313</td>\n",
       "      <td>17313</td>\n",
       "    </tr>\n",
       "  </tbody>\n",
       "</table>"
      ],
      "text/plain": [
       "<IPython.core.display.HTML object>"
      ]
     },
     "metadata": {},
     "output_type": "display_data"
    },
    {
     "name": "stdout",
     "output_type": "stream",
     "text": [
      "for 1th dataset ENTER: gtex_all\n",
      "for 2th dataset ENTER: tcga_normal_all\n",
      "no overlap between datasets\n",
      "insert name for 1th datasetgtex_all\n",
      "insert name for 2th datasettcga_normal_all\n"
     ]
    },
    {
     "data": {
      "text/html": [
       "<table border=\"1\" class=\"dataframe\">\n",
       "  <thead>\n",
       "    <tr style=\"text-align: right;\">\n",
       "      <th></th>\n",
       "      <th>gtex_all</th>\n",
       "      <th>tcga_normal_all</th>\n",
       "    </tr>\n",
       "  </thead>\n",
       "  <tbody>\n",
       "    <tr>\n",
       "      <th>HIGHLY_correlated_with_ITGA11</th>\n",
       "      <td>28</td>\n",
       "      <td>13</td>\n",
       "    </tr>\n",
       "  </tbody>\n",
       "</table>"
      ],
      "text/plain": [
       "<IPython.core.display.HTML object>"
      ]
     },
     "metadata": {},
     "output_type": "display_data"
    },
    {
     "name": "stdout",
     "output_type": "stream",
     "text": [
      "for dataset ENTER: tcga_normal_all\n",
      "insert name for other datasettcga_normal_all\n",
      "1st: high cutoff applied to gtex dataset\n",
      "2nd: common genes identified with other dataset\n",
      "3rd: both datasets combined\n",
      "4th: High cutoff applied to non-gtex dataset\n"
     ]
    },
    {
     "data": {
      "text/html": [
       "<table border=\"1\" class=\"dataframe\">\n",
       "  <thead>\n",
       "    <tr style=\"text-align: right;\">\n",
       "      <th></th>\n",
       "      <th>gtex_cutoffmet</th>\n",
       "      <th>tcga_normal_all</th>\n",
       "    </tr>\n",
       "  </thead>\n",
       "  <tbody>\n",
       "    <tr>\n",
       "      <th>high_corr_with_ITGA11_both_same_genes</th>\n",
       "      <td>6</td>\n",
       "      <td>6</td>\n",
       "    </tr>\n",
       "  </tbody>\n",
       "</table>"
      ],
      "text/plain": [
       "<IPython.core.display.HTML object>"
      ]
     },
     "metadata": {},
     "output_type": "display_data"
    },
    {
     "name": "stdout",
     "output_type": "stream",
     "text": [
      "for dataset ENTER: tcga_normal_all\n",
      "insert name for other datasettcga_normal_all\n",
      "1st: high cutoff applied to gtex dataset\n",
      "2nd: common genes identified with other dataset\n",
      "3rd: both datasets combined\n",
      "4th: low cutoff applied to non-gtex dataset\n"
     ]
    },
    {
     "data": {
      "text/html": [
       "<table border=\"1\" class=\"dataframe\">\n",
       "  <thead>\n",
       "    <tr style=\"text-align: right;\">\n",
       "      <th></th>\n",
       "      <th>gtex_cutoffmet</th>\n",
       "      <th>tcga_normal_all</th>\n",
       "    </tr>\n",
       "  </thead>\n",
       "  <tbody>\n",
       "    <tr>\n",
       "      <th>corr_with_ITGA11_highgtex_low_other</th>\n",
       "      <td>0</td>\n",
       "      <td>0</td>\n",
       "    </tr>\n",
       "  </tbody>\n",
       "</table>"
      ],
      "text/plain": [
       "<IPython.core.display.HTML object>"
      ]
     },
     "metadata": {},
     "output_type": "display_data"
    },
    {
     "name": "stdout",
     "output_type": "stream",
     "text": [
      "for dataset ENTER: tcga_primtum_all\n",
      "insert name for other datasettcga_normal_all\n",
      "1st: high cutoff applied to gtex dataset\n",
      "2nd: common genes identified with other dataset\n",
      "3rd: both datasets combined\n",
      "4th: High cutoff applied to non-gtex dataset\n"
     ]
    },
    {
     "data": {
      "text/html": [
       "<table border=\"1\" class=\"dataframe\">\n",
       "  <thead>\n",
       "    <tr style=\"text-align: right;\">\n",
       "      <th></th>\n",
       "      <th>gtex_cutoffmet</th>\n",
       "      <th>tcga_normal_all</th>\n",
       "    </tr>\n",
       "  </thead>\n",
       "  <tbody>\n",
       "    <tr>\n",
       "      <th>high_corr_with_ITGA11_both_same_genes</th>\n",
       "      <td>5</td>\n",
       "      <td>5</td>\n",
       "    </tr>\n",
       "  </tbody>\n",
       "</table>"
      ],
      "text/plain": [
       "<IPython.core.display.HTML object>"
      ]
     },
     "metadata": {},
     "output_type": "display_data"
    },
    {
     "name": "stdout",
     "output_type": "stream",
     "text": [
      "for dataset ENTER: tcga_primtum_all\n",
      "insert name for other datasettcga_normal_all\n",
      "1st: high cutoff applied to gtex dataset\n",
      "2nd: common genes identified with other dataset\n",
      "3rd: both datasets combined\n",
      "4th: low cutoff applied to non-gtex dataset\n"
     ]
    },
    {
     "data": {
      "text/html": [
       "<table border=\"1\" class=\"dataframe\">\n",
       "  <thead>\n",
       "    <tr style=\"text-align: right;\">\n",
       "      <th></th>\n",
       "      <th>gtex_cutoffmet</th>\n",
       "      <th>tcga_normal_all</th>\n",
       "    </tr>\n",
       "  </thead>\n",
       "  <tbody>\n",
       "    <tr>\n",
       "      <th>corr_with_ITGA11_highgtex_low_other</th>\n",
       "      <td>3</td>\n",
       "      <td>3</td>\n",
       "    </tr>\n",
       "  </tbody>\n",
       "</table>"
      ],
      "text/plain": [
       "<IPython.core.display.HTML object>"
      ]
     },
     "metadata": {},
     "output_type": "display_data"
    },
    {
     "name": "stdout",
     "output_type": "stream",
     "text": [
      "1st: high cutoff applied to tcga dataset\n",
      "2nd: common genes identified with gtex dataset\n",
      "3rd: both datasets combined\n",
      "4th: High cutoff applied to gtex dataset\n"
     ]
    },
    {
     "data": {
      "text/html": [
       "<table border=\"1\" class=\"dataframe\">\n",
       "  <thead>\n",
       "    <tr style=\"text-align: right;\">\n",
       "      <th></th>\n",
       "      <th>gtex_all</th>\n",
       "      <th>tcga_primtum_all_cutoffmet</th>\n",
       "    </tr>\n",
       "  </thead>\n",
       "  <tbody>\n",
       "    <tr>\n",
       "      <th>high_corr_with_ITGA11_both_same_genes</th>\n",
       "      <td>5</td>\n",
       "      <td>5</td>\n",
       "    </tr>\n",
       "  </tbody>\n",
       "</table>"
      ],
      "text/plain": [
       "<IPython.core.display.HTML object>"
      ]
     },
     "metadata": {},
     "output_type": "display_data"
    },
    {
     "name": "stdout",
     "output_type": "stream",
     "text": [
      "1st: high cutoff applied to tcga dataset\n",
      "2nd: common genes identified with gtex dataset\n",
      "3rd: both datasets combined\n",
      "4th: low cutoff applied to gtex dataset\n"
     ]
    },
    {
     "data": {
      "text/html": [
       "<table border=\"1\" class=\"dataframe\">\n",
       "  <thead>\n",
       "    <tr style=\"text-align: right;\">\n",
       "      <th></th>\n",
       "      <th>gtex_all</th>\n",
       "      <th>tcga_primtum_all_cutoffmet</th>\n",
       "    </tr>\n",
       "  </thead>\n",
       "  <tbody>\n",
       "    <tr>\n",
       "      <th>corr_with_ITGA11_both_same_genes</th>\n",
       "      <td>30</td>\n",
       "      <td>30</td>\n",
       "    </tr>\n",
       "  </tbody>\n",
       "</table>"
      ],
      "text/plain": [
       "<IPython.core.display.HTML object>"
      ]
     },
     "metadata": {},
     "output_type": "display_data"
    }
   ],
   "source": [
    "gtex_gct_dataset = 'gene_tpm_2017-06-05_v8_breast_mammary_tissue.gct_2'\n",
    "interest_gene = 'ITGA11'\n",
    "correlation_method ='pearson'\n",
    "correlation_cutoff = 0.6\n",
    "tcga_hiseq_dataset = '/home/hshadman/integrins_expression/saghar_TCGA_Breast/TCGA_BRCA_HiSeqV2' \n",
    "tcga_hiseq_corresponding_sample_info = '/home/hshadman/integrins_expression/saghar_TCGA_Breast/TCGA.BRCA.sampleMap_BRCA_clinicalMatrix'\n",
    "opposing_corr_cutoff = 0.1\n",
    "\n",
    "make_data_presentable(interest_gene,correlation_method, correlation_cutoff,opposing_corr_cutoff,gtex_gct_dataset,\n",
    "                         tcga_hiseq_dataset,tcga_hiseq_corresponding_sample_info)\n",
    "    \n"
   ]
  },
  {
   "cell_type": "code",
   "execution_count": 73,
   "metadata": {},
   "outputs": [
    {
     "name": "stdout",
     "output_type": "stream",
     "text": [
      "no overlap between datasets\n"
     ]
    },
    {
     "data": {
      "text/html": [
       "<table border=\"1\" class=\"dataframe\">\n",
       "  <thead>\n",
       "    <tr style=\"text-align: right;\">\n",
       "      <th></th>\n",
       "      <th>gtex_all</th>\n",
       "      <th>tcga_normal_all</th>\n",
       "      <th>tcga_primtum_all</th>\n",
       "    </tr>\n",
       "  </thead>\n",
       "  <tbody>\n",
       "    <tr>\n",
       "      <th>corr_with_ITGAL</th>\n",
       "      <td>52502</td>\n",
       "      <td>19929</td>\n",
       "      <td>20248</td>\n",
       "    </tr>\n",
       "  </tbody>\n",
       "</table>"
      ],
      "text/plain": [
       "<IPython.core.display.HTML object>"
      ]
     },
     "metadata": {},
     "output_type": "display_data"
    },
    {
     "name": "stdout",
     "output_type": "stream",
     "text": [
      "1st: common genes identified for all 3 datasets\n",
      "2nd: they were counted\n"
     ]
    },
    {
     "data": {
      "text/html": [
       "<table border=\"1\" class=\"dataframe\">\n",
       "  <thead>\n",
       "    <tr style=\"text-align: right;\">\n",
       "      <th></th>\n",
       "      <th>gtex_all</th>\n",
       "      <th>tcga_normal_all</th>\n",
       "      <th>tcga_primtum_all</th>\n",
       "    </tr>\n",
       "  </thead>\n",
       "  <tbody>\n",
       "    <tr>\n",
       "      <th>corr_with_ITGAL_all_same_genes</th>\n",
       "      <td>17313</td>\n",
       "      <td>17313</td>\n",
       "      <td>17313</td>\n",
       "    </tr>\n",
       "  </tbody>\n",
       "</table>"
      ],
      "text/plain": [
       "<IPython.core.display.HTML object>"
      ]
     },
     "metadata": {},
     "output_type": "display_data"
    },
    {
     "name": "stdout",
     "output_type": "stream",
     "text": [
      "for 1th dataset ENTER: gtex_all\n",
      "for 2th dataset ENTER: tcga_normal_all\n",
      "no overlap between datasets\n",
      "insert name for 1th datasetgtex_all\n",
      "insert name for 2th datasettcga_normal_all\n"
     ]
    },
    {
     "data": {
      "text/html": [
       "<table border=\"1\" class=\"dataframe\">\n",
       "  <thead>\n",
       "    <tr style=\"text-align: right;\">\n",
       "      <th></th>\n",
       "      <th>gtex_all</th>\n",
       "      <th>tcga_normal_all</th>\n",
       "    </tr>\n",
       "  </thead>\n",
       "  <tbody>\n",
       "    <tr>\n",
       "      <th>HIGHLY_correlated_with_ITGAL</th>\n",
       "      <td>103</td>\n",
       "      <td>285</td>\n",
       "    </tr>\n",
       "  </tbody>\n",
       "</table>"
      ],
      "text/plain": [
       "<IPython.core.display.HTML object>"
      ]
     },
     "metadata": {},
     "output_type": "display_data"
    },
    {
     "name": "stdout",
     "output_type": "stream",
     "text": [
      "for dataset ENTER: tcga_normal_all\n",
      "insert name for other datasettcga_normal_all\n",
      "1st: high cutoff applied to gtex dataset\n",
      "2nd: common genes identified with other dataset\n",
      "3rd: both datasets combined\n",
      "4th: High cutoff applied to non-gtex dataset\n"
     ]
    },
    {
     "data": {
      "text/html": [
       "<table border=\"1\" class=\"dataframe\">\n",
       "  <thead>\n",
       "    <tr style=\"text-align: right;\">\n",
       "      <th></th>\n",
       "      <th>gtex_cutoffmet</th>\n",
       "      <th>tcga_normal_all</th>\n",
       "    </tr>\n",
       "  </thead>\n",
       "  <tbody>\n",
       "    <tr>\n",
       "      <th>high_corr_with_ITGAL_both_same_genes</th>\n",
       "      <td>79</td>\n",
       "      <td>79</td>\n",
       "    </tr>\n",
       "  </tbody>\n",
       "</table>"
      ],
      "text/plain": [
       "<IPython.core.display.HTML object>"
      ]
     },
     "metadata": {},
     "output_type": "display_data"
    },
    {
     "name": "stdout",
     "output_type": "stream",
     "text": [
      "for dataset ENTER: tcga_normal_all\n",
      "insert name for other datasettcga_normal_all\n",
      "1st: high cutoff applied to gtex dataset\n",
      "2nd: common genes identified with other dataset\n",
      "3rd: both datasets combined\n",
      "4th: low cutoff applied to non-gtex dataset\n"
     ]
    },
    {
     "data": {
      "text/html": [
       "<table border=\"1\" class=\"dataframe\">\n",
       "  <thead>\n",
       "    <tr style=\"text-align: right;\">\n",
       "      <th></th>\n",
       "      <th>gtex_cutoffmet</th>\n",
       "      <th>tcga_normal_all</th>\n",
       "    </tr>\n",
       "  </thead>\n",
       "  <tbody>\n",
       "    <tr>\n",
       "      <th>corr_with_ITGAL_highgtex_low_other</th>\n",
       "      <td>0</td>\n",
       "      <td>0</td>\n",
       "    </tr>\n",
       "  </tbody>\n",
       "</table>"
      ],
      "text/plain": [
       "<IPython.core.display.HTML object>"
      ]
     },
     "metadata": {},
     "output_type": "display_data"
    },
    {
     "name": "stdout",
     "output_type": "stream",
     "text": [
      "for dataset ENTER: tcga_primtum_all\n",
      "insert name for other datasettcga_primtum_all\n",
      "1st: high cutoff applied to gtex dataset\n",
      "2nd: common genes identified with other dataset\n",
      "3rd: both datasets combined\n",
      "4th: High cutoff applied to non-gtex dataset\n"
     ]
    },
    {
     "data": {
      "text/html": [
       "<table border=\"1\" class=\"dataframe\">\n",
       "  <thead>\n",
       "    <tr style=\"text-align: right;\">\n",
       "      <th></th>\n",
       "      <th>gtex_cutoffmet</th>\n",
       "      <th>tcga_primtum_all</th>\n",
       "    </tr>\n",
       "  </thead>\n",
       "  <tbody>\n",
       "    <tr>\n",
       "      <th>high_corr_with_ITGAL_both_same_genes</th>\n",
       "      <td>77</td>\n",
       "      <td>77</td>\n",
       "    </tr>\n",
       "  </tbody>\n",
       "</table>"
      ],
      "text/plain": [
       "<IPython.core.display.HTML object>"
      ]
     },
     "metadata": {},
     "output_type": "display_data"
    },
    {
     "name": "stdout",
     "output_type": "stream",
     "text": [
      "for dataset ENTER: tcga_primtum_all\n",
      "insert name for other datasettcga_primtum_all\n",
      "1st: high cutoff applied to gtex dataset\n",
      "2nd: common genes identified with other dataset\n",
      "3rd: both datasets combined\n",
      "4th: low cutoff applied to non-gtex dataset\n"
     ]
    },
    {
     "data": {
      "text/html": [
       "<table border=\"1\" class=\"dataframe\">\n",
       "  <thead>\n",
       "    <tr style=\"text-align: right;\">\n",
       "      <th></th>\n",
       "      <th>gtex_cutoffmet</th>\n",
       "      <th>tcga_primtum_all</th>\n",
       "    </tr>\n",
       "  </thead>\n",
       "  <tbody>\n",
       "    <tr>\n",
       "      <th>corr_with_ITGAL_highgtex_low_other</th>\n",
       "      <td>0</td>\n",
       "      <td>0</td>\n",
       "    </tr>\n",
       "  </tbody>\n",
       "</table>"
      ],
      "text/plain": [
       "<IPython.core.display.HTML object>"
      ]
     },
     "metadata": {},
     "output_type": "display_data"
    },
    {
     "name": "stdout",
     "output_type": "stream",
     "text": [
      "1st: high cutoff applied to tcga dataset\n",
      "2nd: common genes identified with gtex dataset\n",
      "3rd: both datasets combined\n",
      "4th: High cutoff applied to gtex dataset\n"
     ]
    },
    {
     "data": {
      "text/html": [
       "<table border=\"1\" class=\"dataframe\">\n",
       "  <thead>\n",
       "    <tr style=\"text-align: right;\">\n",
       "      <th></th>\n",
       "      <th>gtex_all</th>\n",
       "      <th>tcga_primtum_all_cutoffmet</th>\n",
       "    </tr>\n",
       "  </thead>\n",
       "  <tbody>\n",
       "    <tr>\n",
       "      <th>high_corr_with_ITGAL_both_same_genes</th>\n",
       "      <td>77</td>\n",
       "      <td>77</td>\n",
       "    </tr>\n",
       "  </tbody>\n",
       "</table>"
      ],
      "text/plain": [
       "<IPython.core.display.HTML object>"
      ]
     },
     "metadata": {},
     "output_type": "display_data"
    },
    {
     "name": "stdout",
     "output_type": "stream",
     "text": [
      "1st: high cutoff applied to tcga dataset\n",
      "2nd: common genes identified with gtex dataset\n",
      "3rd: both datasets combined\n",
      "4th: low cutoff applied to gtex dataset\n"
     ]
    },
    {
     "data": {
      "text/html": [
       "<table border=\"1\" class=\"dataframe\">\n",
       "  <thead>\n",
       "    <tr style=\"text-align: right;\">\n",
       "      <th></th>\n",
       "      <th>gtex_all</th>\n",
       "      <th>tcga_primtum_all_cutoffmet</th>\n",
       "    </tr>\n",
       "  </thead>\n",
       "  <tbody>\n",
       "    <tr>\n",
       "      <th>corr_with_ITGAL_both_same_genes</th>\n",
       "      <td>26</td>\n",
       "      <td>26</td>\n",
       "    </tr>\n",
       "  </tbody>\n",
       "</table>"
      ],
      "text/plain": [
       "<IPython.core.display.HTML object>"
      ]
     },
     "metadata": {},
     "output_type": "display_data"
    }
   ],
   "source": [
    "gtex_gct_dataset = 'gene_tpm_2017-06-05_v8_breast_mammary_tissue.gct_2'\n",
    "interest_gene = 'ITGAL'\n",
    "correlation_method ='pearson'\n",
    "correlation_cutoff = 0.6\n",
    "tcga_hiseq_dataset = '/home/hshadman/integrins_expression/saghar_TCGA_Breast/TCGA_BRCA_HiSeqV2' \n",
    "tcga_hiseq_corresponding_sample_info = '/home/hshadman/integrins_expression/saghar_TCGA_Breast/TCGA.BRCA.sampleMap_BRCA_clinicalMatrix'\n",
    "opposing_corr_cutoff = 0.1\n",
    "\n",
    "make_data_presentable(interest_gene,correlation_method, correlation_cutoff,opposing_corr_cutoff,gtex_gct_dataset,\n",
    "                         tcga_hiseq_dataset,tcga_hiseq_corresponding_sample_info)\n",
    "    \n"
   ]
  },
  {
   "cell_type": "code",
   "execution_count": 74,
   "metadata": {},
   "outputs": [
    {
     "name": "stdout",
     "output_type": "stream",
     "text": [
      "no overlap between datasets\n"
     ]
    },
    {
     "data": {
      "text/html": [
       "<table border=\"1\" class=\"dataframe\">\n",
       "  <thead>\n",
       "    <tr style=\"text-align: right;\">\n",
       "      <th></th>\n",
       "      <th>gtex_all</th>\n",
       "      <th>tcga_normal_all</th>\n",
       "      <th>tcga_primtum_all</th>\n",
       "    </tr>\n",
       "  </thead>\n",
       "  <tbody>\n",
       "    <tr>\n",
       "      <th>corr_with_ITGAM</th>\n",
       "      <td>52502</td>\n",
       "      <td>19929</td>\n",
       "      <td>20248</td>\n",
       "    </tr>\n",
       "  </tbody>\n",
       "</table>"
      ],
      "text/plain": [
       "<IPython.core.display.HTML object>"
      ]
     },
     "metadata": {},
     "output_type": "display_data"
    },
    {
     "name": "stdout",
     "output_type": "stream",
     "text": [
      "1st: common genes identified for all 3 datasets\n",
      "2nd: they were counted\n"
     ]
    },
    {
     "data": {
      "text/html": [
       "<table border=\"1\" class=\"dataframe\">\n",
       "  <thead>\n",
       "    <tr style=\"text-align: right;\">\n",
       "      <th></th>\n",
       "      <th>gtex_all</th>\n",
       "      <th>tcga_normal_all</th>\n",
       "      <th>tcga_primtum_all</th>\n",
       "    </tr>\n",
       "  </thead>\n",
       "  <tbody>\n",
       "    <tr>\n",
       "      <th>corr_with_ITGAM_all_same_genes</th>\n",
       "      <td>17313</td>\n",
       "      <td>17313</td>\n",
       "      <td>17313</td>\n",
       "    </tr>\n",
       "  </tbody>\n",
       "</table>"
      ],
      "text/plain": [
       "<IPython.core.display.HTML object>"
      ]
     },
     "metadata": {},
     "output_type": "display_data"
    },
    {
     "name": "stdout",
     "output_type": "stream",
     "text": [
      "for 1th dataset ENTER: gtex_all\n",
      "for 2th dataset ENTER: tcga_normal_all\n",
      "no overlap between datasets\n",
      "insert name for 1th datasetgtex_all\n",
      "insert name for 2th datasettcga_normal_all\n"
     ]
    },
    {
     "data": {
      "text/html": [
       "<table border=\"1\" class=\"dataframe\">\n",
       "  <thead>\n",
       "    <tr style=\"text-align: right;\">\n",
       "      <th></th>\n",
       "      <th>gtex_all</th>\n",
       "      <th>tcga_normal_all</th>\n",
       "    </tr>\n",
       "  </thead>\n",
       "  <tbody>\n",
       "    <tr>\n",
       "      <th>HIGHLY_correlated_with_ITGAM</th>\n",
       "      <td>315</td>\n",
       "      <td>498</td>\n",
       "    </tr>\n",
       "  </tbody>\n",
       "</table>"
      ],
      "text/plain": [
       "<IPython.core.display.HTML object>"
      ]
     },
     "metadata": {},
     "output_type": "display_data"
    },
    {
     "name": "stdout",
     "output_type": "stream",
     "text": [
      "for dataset ENTER: tcga_normal_all\n",
      "insert name for other datasettcga_normal_all\n",
      "1st: high cutoff applied to gtex dataset\n",
      "2nd: common genes identified with other dataset\n",
      "3rd: both datasets combined\n",
      "4th: High cutoff applied to non-gtex dataset\n"
     ]
    },
    {
     "data": {
      "text/html": [
       "<table border=\"1\" class=\"dataframe\">\n",
       "  <thead>\n",
       "    <tr style=\"text-align: right;\">\n",
       "      <th></th>\n",
       "      <th>gtex_cutoffmet</th>\n",
       "      <th>tcga_normal_all</th>\n",
       "    </tr>\n",
       "  </thead>\n",
       "  <tbody>\n",
       "    <tr>\n",
       "      <th>high_corr_with_ITGAM_both_same_genes</th>\n",
       "      <td>138</td>\n",
       "      <td>138</td>\n",
       "    </tr>\n",
       "  </tbody>\n",
       "</table>"
      ],
      "text/plain": [
       "<IPython.core.display.HTML object>"
      ]
     },
     "metadata": {},
     "output_type": "display_data"
    },
    {
     "name": "stdout",
     "output_type": "stream",
     "text": [
      "for dataset ENTER: tcga_normal_all\n",
      "insert name for other datasettcga_normal_all\n",
      "1st: high cutoff applied to gtex dataset\n",
      "2nd: common genes identified with other dataset\n",
      "3rd: both datasets combined\n",
      "4th: low cutoff applied to non-gtex dataset\n"
     ]
    },
    {
     "data": {
      "text/html": [
       "<table border=\"1\" class=\"dataframe\">\n",
       "  <thead>\n",
       "    <tr style=\"text-align: right;\">\n",
       "      <th></th>\n",
       "      <th>gtex_cutoffmet</th>\n",
       "      <th>tcga_normal_all</th>\n",
       "    </tr>\n",
       "  </thead>\n",
       "  <tbody>\n",
       "    <tr>\n",
       "      <th>corr_with_ITGAM_highgtex_low_other</th>\n",
       "      <td>10</td>\n",
       "      <td>10</td>\n",
       "    </tr>\n",
       "  </tbody>\n",
       "</table>"
      ],
      "text/plain": [
       "<IPython.core.display.HTML object>"
      ]
     },
     "metadata": {},
     "output_type": "display_data"
    },
    {
     "name": "stdout",
     "output_type": "stream",
     "text": [
      "for dataset ENTER: tcga_primtum_all\n",
      "insert name for other datasettcga_primtum_all\n",
      "1st: high cutoff applied to gtex dataset\n",
      "2nd: common genes identified with other dataset\n",
      "3rd: both datasets combined\n",
      "4th: High cutoff applied to non-gtex dataset\n"
     ]
    },
    {
     "data": {
      "text/html": [
       "<table border=\"1\" class=\"dataframe\">\n",
       "  <thead>\n",
       "    <tr style=\"text-align: right;\">\n",
       "      <th></th>\n",
       "      <th>gtex_cutoffmet</th>\n",
       "      <th>tcga_primtum_all</th>\n",
       "    </tr>\n",
       "  </thead>\n",
       "  <tbody>\n",
       "    <tr>\n",
       "      <th>high_corr_with_ITGAM_both_same_genes</th>\n",
       "      <td>77</td>\n",
       "      <td>77</td>\n",
       "    </tr>\n",
       "  </tbody>\n",
       "</table>"
      ],
      "text/plain": [
       "<IPython.core.display.HTML object>"
      ]
     },
     "metadata": {},
     "output_type": "display_data"
    },
    {
     "name": "stdout",
     "output_type": "stream",
     "text": [
      "for dataset ENTER: tcga_primtum_all\n",
      "insert name for other datasettcga_primtum_all\n",
      "1st: high cutoff applied to gtex dataset\n",
      "2nd: common genes identified with other dataset\n",
      "3rd: both datasets combined\n",
      "4th: low cutoff applied to non-gtex dataset\n"
     ]
    },
    {
     "data": {
      "text/html": [
       "<table border=\"1\" class=\"dataframe\">\n",
       "  <thead>\n",
       "    <tr style=\"text-align: right;\">\n",
       "      <th></th>\n",
       "      <th>gtex_cutoffmet</th>\n",
       "      <th>tcga_primtum_all</th>\n",
       "    </tr>\n",
       "  </thead>\n",
       "  <tbody>\n",
       "    <tr>\n",
       "      <th>corr_with_ITGAM_highgtex_low_other</th>\n",
       "      <td>23</td>\n",
       "      <td>23</td>\n",
       "    </tr>\n",
       "  </tbody>\n",
       "</table>"
      ],
      "text/plain": [
       "<IPython.core.display.HTML object>"
      ]
     },
     "metadata": {},
     "output_type": "display_data"
    },
    {
     "name": "stdout",
     "output_type": "stream",
     "text": [
      "1st: high cutoff applied to tcga dataset\n",
      "2nd: common genes identified with gtex dataset\n",
      "3rd: both datasets combined\n",
      "4th: High cutoff applied to gtex dataset\n"
     ]
    },
    {
     "data": {
      "text/html": [
       "<table border=\"1\" class=\"dataframe\">\n",
       "  <thead>\n",
       "    <tr style=\"text-align: right;\">\n",
       "      <th></th>\n",
       "      <th>gtex_all</th>\n",
       "      <th>tcga_primtum_all_cutoffmet</th>\n",
       "    </tr>\n",
       "  </thead>\n",
       "  <tbody>\n",
       "    <tr>\n",
       "      <th>high_corr_with_ITGAM_both_same_genes</th>\n",
       "      <td>77</td>\n",
       "      <td>77</td>\n",
       "    </tr>\n",
       "  </tbody>\n",
       "</table>"
      ],
      "text/plain": [
       "<IPython.core.display.HTML object>"
      ]
     },
     "metadata": {},
     "output_type": "display_data"
    },
    {
     "name": "stdout",
     "output_type": "stream",
     "text": [
      "1st: high cutoff applied to tcga dataset\n",
      "2nd: common genes identified with gtex dataset\n",
      "3rd: both datasets combined\n",
      "4th: low cutoff applied to gtex dataset\n"
     ]
    },
    {
     "data": {
      "text/html": [
       "<table border=\"1\" class=\"dataframe\">\n",
       "  <thead>\n",
       "    <tr style=\"text-align: right;\">\n",
       "      <th></th>\n",
       "      <th>gtex_all</th>\n",
       "      <th>tcga_primtum_all_cutoffmet</th>\n",
       "    </tr>\n",
       "  </thead>\n",
       "  <tbody>\n",
       "    <tr>\n",
       "      <th>corr_with_ITGAM_both_same_genes</th>\n",
       "      <td>11</td>\n",
       "      <td>11</td>\n",
       "    </tr>\n",
       "  </tbody>\n",
       "</table>"
      ],
      "text/plain": [
       "<IPython.core.display.HTML object>"
      ]
     },
     "metadata": {},
     "output_type": "display_data"
    }
   ],
   "source": [
    "gtex_gct_dataset = 'gene_tpm_2017-06-05_v8_breast_mammary_tissue.gct_2'\n",
    "interest_gene = 'ITGAM'\n",
    "correlation_method ='pearson'\n",
    "correlation_cutoff = 0.6\n",
    "tcga_hiseq_dataset = '/home/hshadman/integrins_expression/saghar_TCGA_Breast/TCGA_BRCA_HiSeqV2' \n",
    "tcga_hiseq_corresponding_sample_info = '/home/hshadman/integrins_expression/saghar_TCGA_Breast/TCGA.BRCA.sampleMap_BRCA_clinicalMatrix'\n",
    "opposing_corr_cutoff = 0.1\n",
    "\n",
    "make_data_presentable(interest_gene,correlation_method, correlation_cutoff,opposing_corr_cutoff,gtex_gct_dataset,\n",
    "                         tcga_hiseq_dataset,tcga_hiseq_corresponding_sample_info)\n",
    "    \n"
   ]
  },
  {
   "cell_type": "code",
   "execution_count": 76,
   "metadata": {},
   "outputs": [
    {
     "name": "stdout",
     "output_type": "stream",
     "text": [
      "no overlap between datasets\n"
     ]
    },
    {
     "data": {
      "text/html": [
       "<table border=\"1\" class=\"dataframe\">\n",
       "  <thead>\n",
       "    <tr style=\"text-align: right;\">\n",
       "      <th></th>\n",
       "      <th>gtex_all</th>\n",
       "      <th>tcga_normal_all</th>\n",
       "      <th>tcga_primtum_all</th>\n",
       "    </tr>\n",
       "  </thead>\n",
       "  <tbody>\n",
       "    <tr>\n",
       "      <th>corr_with_ITGAX</th>\n",
       "      <td>52502</td>\n",
       "      <td>19929</td>\n",
       "      <td>20248</td>\n",
       "    </tr>\n",
       "  </tbody>\n",
       "</table>"
      ],
      "text/plain": [
       "<IPython.core.display.HTML object>"
      ]
     },
     "metadata": {},
     "output_type": "display_data"
    },
    {
     "name": "stdout",
     "output_type": "stream",
     "text": [
      "1st: common genes identified for all 3 datasets\n",
      "2nd: they were counted\n"
     ]
    },
    {
     "data": {
      "text/html": [
       "<table border=\"1\" class=\"dataframe\">\n",
       "  <thead>\n",
       "    <tr style=\"text-align: right;\">\n",
       "      <th></th>\n",
       "      <th>gtex_all</th>\n",
       "      <th>tcga_normal_all</th>\n",
       "      <th>tcga_primtum_all</th>\n",
       "    </tr>\n",
       "  </thead>\n",
       "  <tbody>\n",
       "    <tr>\n",
       "      <th>corr_with_ITGAX_all_same_genes</th>\n",
       "      <td>17313</td>\n",
       "      <td>17313</td>\n",
       "      <td>17313</td>\n",
       "    </tr>\n",
       "  </tbody>\n",
       "</table>"
      ],
      "text/plain": [
       "<IPython.core.display.HTML object>"
      ]
     },
     "metadata": {},
     "output_type": "display_data"
    },
    {
     "name": "stdout",
     "output_type": "stream",
     "text": [
      "for 1th dataset ENTER: gtex_all\n",
      "for 2th dataset ENTER: tcga_normal_all\n",
      "no overlap between datasets\n",
      "insert name for 1th datasetgtex_all\n",
      "insert name for 2th datasettcga_normal_all\n"
     ]
    },
    {
     "data": {
      "text/html": [
       "<table border=\"1\" class=\"dataframe\">\n",
       "  <thead>\n",
       "    <tr style=\"text-align: right;\">\n",
       "      <th></th>\n",
       "      <th>gtex_all</th>\n",
       "      <th>tcga_normal_all</th>\n",
       "    </tr>\n",
       "  </thead>\n",
       "  <tbody>\n",
       "    <tr>\n",
       "      <th>HIGHLY_correlated_with_ITGAX</th>\n",
       "      <td>258</td>\n",
       "      <td>197</td>\n",
       "    </tr>\n",
       "  </tbody>\n",
       "</table>"
      ],
      "text/plain": [
       "<IPython.core.display.HTML object>"
      ]
     },
     "metadata": {},
     "output_type": "display_data"
    },
    {
     "name": "stdout",
     "output_type": "stream",
     "text": [
      "for dataset ENTER: tcga_normal_all\n",
      "insert name for other datasettcga_normal_all\n",
      "1st: high cutoff applied to gtex dataset\n",
      "2nd: common genes identified with other dataset\n",
      "3rd: both datasets combined\n",
      "4th: High cutoff applied to non-gtex dataset\n"
     ]
    },
    {
     "data": {
      "text/html": [
       "<table border=\"1\" class=\"dataframe\">\n",
       "  <thead>\n",
       "    <tr style=\"text-align: right;\">\n",
       "      <th></th>\n",
       "      <th>gtex_cutoffmet</th>\n",
       "      <th>tcga_normal_all</th>\n",
       "    </tr>\n",
       "  </thead>\n",
       "  <tbody>\n",
       "    <tr>\n",
       "      <th>high_corr_with_ITGAX_both_same_genes</th>\n",
       "      <td>104</td>\n",
       "      <td>104</td>\n",
       "    </tr>\n",
       "  </tbody>\n",
       "</table>"
      ],
      "text/plain": [
       "<IPython.core.display.HTML object>"
      ]
     },
     "metadata": {},
     "output_type": "display_data"
    },
    {
     "name": "stdout",
     "output_type": "stream",
     "text": [
      "for dataset ENTER: tcga_normal_all\n",
      "insert name for other datasettcga_normal_all\n",
      "1st: high cutoff applied to gtex dataset\n",
      "2nd: common genes identified with other dataset\n",
      "3rd: both datasets combined\n",
      "4th: low cutoff applied to non-gtex dataset\n"
     ]
    },
    {
     "data": {
      "text/html": [
       "<table border=\"1\" class=\"dataframe\">\n",
       "  <thead>\n",
       "    <tr style=\"text-align: right;\">\n",
       "      <th></th>\n",
       "      <th>gtex_cutoffmet</th>\n",
       "      <th>tcga_normal_all</th>\n",
       "    </tr>\n",
       "  </thead>\n",
       "  <tbody>\n",
       "    <tr>\n",
       "      <th>corr_with_ITGAX_highgtex_low_other</th>\n",
       "      <td>4</td>\n",
       "      <td>4</td>\n",
       "    </tr>\n",
       "  </tbody>\n",
       "</table>"
      ],
      "text/plain": [
       "<IPython.core.display.HTML object>"
      ]
     },
     "metadata": {},
     "output_type": "display_data"
    },
    {
     "name": "stdout",
     "output_type": "stream",
     "text": [
      "for dataset ENTER: tcga_primtum_all\n",
      "insert name for other datasettcga_primtum_all\n",
      "1st: high cutoff applied to gtex dataset\n",
      "2nd: common genes identified with other dataset\n",
      "3rd: both datasets combined\n",
      "4th: High cutoff applied to non-gtex dataset\n"
     ]
    },
    {
     "data": {
      "text/html": [
       "<table border=\"1\" class=\"dataframe\">\n",
       "  <thead>\n",
       "    <tr style=\"text-align: right;\">\n",
       "      <th></th>\n",
       "      <th>gtex_cutoffmet</th>\n",
       "      <th>tcga_primtum_all</th>\n",
       "    </tr>\n",
       "  </thead>\n",
       "  <tbody>\n",
       "    <tr>\n",
       "      <th>high_corr_with_ITGAX_both_same_genes</th>\n",
       "      <td>96</td>\n",
       "      <td>96</td>\n",
       "    </tr>\n",
       "  </tbody>\n",
       "</table>"
      ],
      "text/plain": [
       "<IPython.core.display.HTML object>"
      ]
     },
     "metadata": {},
     "output_type": "display_data"
    },
    {
     "name": "stdout",
     "output_type": "stream",
     "text": [
      "for dataset ENTER: tcga_primtum_all\n",
      "insert name for other datasettcga_primtum_all\n",
      "1st: high cutoff applied to gtex dataset\n",
      "2nd: common genes identified with other dataset\n",
      "3rd: both datasets combined\n",
      "4th: low cutoff applied to non-gtex dataset\n"
     ]
    },
    {
     "data": {
      "text/html": [
       "<table border=\"1\" class=\"dataframe\">\n",
       "  <thead>\n",
       "    <tr style=\"text-align: right;\">\n",
       "      <th></th>\n",
       "      <th>gtex_cutoffmet</th>\n",
       "      <th>tcga_primtum_all</th>\n",
       "    </tr>\n",
       "  </thead>\n",
       "  <tbody>\n",
       "    <tr>\n",
       "      <th>corr_with_ITGAX_highgtex_low_other</th>\n",
       "      <td>22</td>\n",
       "      <td>22</td>\n",
       "    </tr>\n",
       "  </tbody>\n",
       "</table>"
      ],
      "text/plain": [
       "<IPython.core.display.HTML object>"
      ]
     },
     "metadata": {},
     "output_type": "display_data"
    },
    {
     "name": "stdout",
     "output_type": "stream",
     "text": [
      "1st: high cutoff applied to tcga dataset\n",
      "2nd: common genes identified with gtex dataset\n",
      "3rd: both datasets combined\n",
      "4th: High cutoff applied to gtex dataset\n"
     ]
    },
    {
     "data": {
      "text/html": [
       "<table border=\"1\" class=\"dataframe\">\n",
       "  <thead>\n",
       "    <tr style=\"text-align: right;\">\n",
       "      <th></th>\n",
       "      <th>gtex_all</th>\n",
       "      <th>tcga_primtum_all_cutoffmet</th>\n",
       "    </tr>\n",
       "  </thead>\n",
       "  <tbody>\n",
       "    <tr>\n",
       "      <th>high_corr_with_ITGAX_both_same_genes</th>\n",
       "      <td>96</td>\n",
       "      <td>96</td>\n",
       "    </tr>\n",
       "  </tbody>\n",
       "</table>"
      ],
      "text/plain": [
       "<IPython.core.display.HTML object>"
      ]
     },
     "metadata": {},
     "output_type": "display_data"
    },
    {
     "name": "stdout",
     "output_type": "stream",
     "text": [
      "1st: high cutoff applied to tcga dataset\n",
      "2nd: common genes identified with gtex dataset\n",
      "3rd: both datasets combined\n",
      "4th: low cutoff applied to gtex dataset\n"
     ]
    },
    {
     "data": {
      "text/html": [
       "<table border=\"1\" class=\"dataframe\">\n",
       "  <thead>\n",
       "    <tr style=\"text-align: right;\">\n",
       "      <th></th>\n",
       "      <th>gtex_all</th>\n",
       "      <th>tcga_primtum_all_cutoffmet</th>\n",
       "    </tr>\n",
       "  </thead>\n",
       "  <tbody>\n",
       "    <tr>\n",
       "      <th>corr_with_ITGAX_both_same_genes</th>\n",
       "      <td>58</td>\n",
       "      <td>58</td>\n",
       "    </tr>\n",
       "  </tbody>\n",
       "</table>"
      ],
      "text/plain": [
       "<IPython.core.display.HTML object>"
      ]
     },
     "metadata": {},
     "output_type": "display_data"
    }
   ],
   "source": [
    "gtex_gct_dataset = 'gene_tpm_2017-06-05_v8_breast_mammary_tissue.gct_2'\n",
    "interest_gene = 'ITGAX'\n",
    "correlation_method ='pearson'\n",
    "correlation_cutoff = 0.6\n",
    "tcga_hiseq_dataset = '/home/hshadman/integrins_expression/saghar_TCGA_Breast/TCGA_BRCA_HiSeqV2' \n",
    "tcga_hiseq_corresponding_sample_info = '/home/hshadman/integrins_expression/saghar_TCGA_Breast/TCGA.BRCA.sampleMap_BRCA_clinicalMatrix'\n",
    "opposing_corr_cutoff = 0.1\n",
    "\n",
    "make_data_presentable(interest_gene,correlation_method, correlation_cutoff,opposing_corr_cutoff,gtex_gct_dataset,\n",
    "                         tcga_hiseq_dataset,tcga_hiseq_corresponding_sample_info)\n",
    "    \n"
   ]
  },
  {
   "cell_type": "code",
   "execution_count": 77,
   "metadata": {},
   "outputs": [
    {
     "name": "stdout",
     "output_type": "stream",
     "text": [
      "no overlap between datasets\n"
     ]
    },
    {
     "data": {
      "text/html": [
       "<table border=\"1\" class=\"dataframe\">\n",
       "  <thead>\n",
       "    <tr style=\"text-align: right;\">\n",
       "      <th></th>\n",
       "      <th>gtex_all</th>\n",
       "      <th>tcga_normal_all</th>\n",
       "      <th>tcga_primtum_all</th>\n",
       "    </tr>\n",
       "  </thead>\n",
       "  <tbody>\n",
       "    <tr>\n",
       "      <th>corr_with_ITGAD</th>\n",
       "      <td>52502</td>\n",
       "      <td>19929</td>\n",
       "      <td>20248</td>\n",
       "    </tr>\n",
       "  </tbody>\n",
       "</table>"
      ],
      "text/plain": [
       "<IPython.core.display.HTML object>"
      ]
     },
     "metadata": {},
     "output_type": "display_data"
    },
    {
     "name": "stdout",
     "output_type": "stream",
     "text": [
      "1st: common genes identified for all 3 datasets\n",
      "2nd: they were counted\n"
     ]
    },
    {
     "data": {
      "text/html": [
       "<table border=\"1\" class=\"dataframe\">\n",
       "  <thead>\n",
       "    <tr style=\"text-align: right;\">\n",
       "      <th></th>\n",
       "      <th>gtex_all</th>\n",
       "      <th>tcga_normal_all</th>\n",
       "      <th>tcga_primtum_all</th>\n",
       "    </tr>\n",
       "  </thead>\n",
       "  <tbody>\n",
       "    <tr>\n",
       "      <th>corr_with_ITGAD_all_same_genes</th>\n",
       "      <td>17313</td>\n",
       "      <td>17313</td>\n",
       "      <td>17313</td>\n",
       "    </tr>\n",
       "  </tbody>\n",
       "</table>"
      ],
      "text/plain": [
       "<IPython.core.display.HTML object>"
      ]
     },
     "metadata": {},
     "output_type": "display_data"
    },
    {
     "name": "stdout",
     "output_type": "stream",
     "text": [
      "for 1th dataset ENTER: gtex_all\n",
      "for 2th dataset ENTER: tcga_normal_all\n",
      "no overlap between datasets\n",
      "insert name for 1th datasetgtex_all\n",
      "insert name for 2th datasettcga_normal_all\n"
     ]
    },
    {
     "data": {
      "text/html": [
       "<table border=\"1\" class=\"dataframe\">\n",
       "  <thead>\n",
       "    <tr style=\"text-align: right;\">\n",
       "      <th></th>\n",
       "      <th>gtex_all</th>\n",
       "      <th>tcga_normal_all</th>\n",
       "    </tr>\n",
       "  </thead>\n",
       "  <tbody>\n",
       "    <tr>\n",
       "      <th>HIGHLY_correlated_with_ITGAD</th>\n",
       "      <td>4</td>\n",
       "      <td>17</td>\n",
       "    </tr>\n",
       "  </tbody>\n",
       "</table>"
      ],
      "text/plain": [
       "<IPython.core.display.HTML object>"
      ]
     },
     "metadata": {},
     "output_type": "display_data"
    },
    {
     "name": "stdout",
     "output_type": "stream",
     "text": [
      "for dataset ENTER: tcga_normal_all\n",
      "insert name for other datasettcga_normal_all\n",
      "1st: high cutoff applied to gtex dataset\n",
      "2nd: common genes identified with other dataset\n",
      "3rd: both datasets combined\n",
      "4th: High cutoff applied to non-gtex dataset\n"
     ]
    },
    {
     "data": {
      "text/html": [
       "<table border=\"1\" class=\"dataframe\">\n",
       "  <thead>\n",
       "    <tr style=\"text-align: right;\">\n",
       "      <th></th>\n",
       "      <th>gtex_cutoffmet</th>\n",
       "      <th>tcga_normal_all</th>\n",
       "    </tr>\n",
       "  </thead>\n",
       "  <tbody>\n",
       "    <tr>\n",
       "      <th>high_corr_with_ITGAD_both_same_genes</th>\n",
       "      <td>1</td>\n",
       "      <td>1</td>\n",
       "    </tr>\n",
       "  </tbody>\n",
       "</table>"
      ],
      "text/plain": [
       "<IPython.core.display.HTML object>"
      ]
     },
     "metadata": {},
     "output_type": "display_data"
    },
    {
     "name": "stdout",
     "output_type": "stream",
     "text": [
      "for dataset ENTER: tcga_normal_all\n",
      "insert name for other datasettcga_normal_all\n",
      "1st: high cutoff applied to gtex dataset\n",
      "2nd: common genes identified with other dataset\n",
      "3rd: both datasets combined\n",
      "4th: low cutoff applied to non-gtex dataset\n"
     ]
    },
    {
     "data": {
      "text/html": [
       "<table border=\"1\" class=\"dataframe\">\n",
       "  <thead>\n",
       "    <tr style=\"text-align: right;\">\n",
       "      <th></th>\n",
       "      <th>gtex_cutoffmet</th>\n",
       "      <th>tcga_normal_all</th>\n",
       "    </tr>\n",
       "  </thead>\n",
       "  <tbody>\n",
       "    <tr>\n",
       "      <th>corr_with_ITGAD_highgtex_low_other</th>\n",
       "      <td>0</td>\n",
       "      <td>0</td>\n",
       "    </tr>\n",
       "  </tbody>\n",
       "</table>"
      ],
      "text/plain": [
       "<IPython.core.display.HTML object>"
      ]
     },
     "metadata": {},
     "output_type": "display_data"
    },
    {
     "name": "stdout",
     "output_type": "stream",
     "text": [
      "for dataset ENTER: tcga_primtum_all\n",
      "insert name for other datasettcga_primtum_all\n",
      "1st: high cutoff applied to gtex dataset\n",
      "2nd: common genes identified with other dataset\n",
      "3rd: both datasets combined\n",
      "4th: High cutoff applied to non-gtex dataset\n"
     ]
    },
    {
     "data": {
      "text/html": [
       "<table border=\"1\" class=\"dataframe\">\n",
       "  <thead>\n",
       "    <tr style=\"text-align: right;\">\n",
       "      <th></th>\n",
       "      <th>gtex_cutoffmet</th>\n",
       "      <th>tcga_primtum_all</th>\n",
       "    </tr>\n",
       "  </thead>\n",
       "  <tbody>\n",
       "    <tr>\n",
       "      <th>high_corr_with_ITGAD_both_same_genes</th>\n",
       "      <td>1</td>\n",
       "      <td>1</td>\n",
       "    </tr>\n",
       "  </tbody>\n",
       "</table>"
      ],
      "text/plain": [
       "<IPython.core.display.HTML object>"
      ]
     },
     "metadata": {},
     "output_type": "display_data"
    },
    {
     "name": "stdout",
     "output_type": "stream",
     "text": [
      "for dataset ENTER: tcga_primtum_all\n",
      "insert name for other datasettcga_primtum_all\n",
      "1st: high cutoff applied to gtex dataset\n",
      "2nd: common genes identified with other dataset\n",
      "3rd: both datasets combined\n",
      "4th: low cutoff applied to non-gtex dataset\n"
     ]
    },
    {
     "data": {
      "text/html": [
       "<table border=\"1\" class=\"dataframe\">\n",
       "  <thead>\n",
       "    <tr style=\"text-align: right;\">\n",
       "      <th></th>\n",
       "      <th>gtex_cutoffmet</th>\n",
       "      <th>tcga_primtum_all</th>\n",
       "    </tr>\n",
       "  </thead>\n",
       "  <tbody>\n",
       "    <tr>\n",
       "      <th>corr_with_ITGAD_highgtex_low_other</th>\n",
       "      <td>0</td>\n",
       "      <td>0</td>\n",
       "    </tr>\n",
       "  </tbody>\n",
       "</table>"
      ],
      "text/plain": [
       "<IPython.core.display.HTML object>"
      ]
     },
     "metadata": {},
     "output_type": "display_data"
    },
    {
     "name": "stdout",
     "output_type": "stream",
     "text": [
      "1st: high cutoff applied to tcga dataset\n",
      "2nd: common genes identified with gtex dataset\n",
      "3rd: both datasets combined\n",
      "4th: High cutoff applied to gtex dataset\n"
     ]
    },
    {
     "data": {
      "text/html": [
       "<table border=\"1\" class=\"dataframe\">\n",
       "  <thead>\n",
       "    <tr style=\"text-align: right;\">\n",
       "      <th></th>\n",
       "      <th>gtex_all</th>\n",
       "      <th>tcga_primtum_all_cutoffmet</th>\n",
       "    </tr>\n",
       "  </thead>\n",
       "  <tbody>\n",
       "    <tr>\n",
       "      <th>high_corr_with_ITGAD_both_same_genes</th>\n",
       "      <td>1</td>\n",
       "      <td>1</td>\n",
       "    </tr>\n",
       "  </tbody>\n",
       "</table>"
      ],
      "text/plain": [
       "<IPython.core.display.HTML object>"
      ]
     },
     "metadata": {},
     "output_type": "display_data"
    },
    {
     "name": "stdout",
     "output_type": "stream",
     "text": [
      "1st: high cutoff applied to tcga dataset\n",
      "2nd: common genes identified with gtex dataset\n",
      "3rd: both datasets combined\n",
      "4th: low cutoff applied to gtex dataset\n"
     ]
    },
    {
     "data": {
      "text/html": [
       "<table border=\"1\" class=\"dataframe\">\n",
       "  <thead>\n",
       "    <tr style=\"text-align: right;\">\n",
       "      <th></th>\n",
       "      <th>gtex_all</th>\n",
       "      <th>tcga_primtum_all_cutoffmet</th>\n",
       "    </tr>\n",
       "  </thead>\n",
       "  <tbody>\n",
       "    <tr>\n",
       "      <th>corr_with_ITGAD_both_same_genes</th>\n",
       "      <td>1</td>\n",
       "      <td>1</td>\n",
       "    </tr>\n",
       "  </tbody>\n",
       "</table>"
      ],
      "text/plain": [
       "<IPython.core.display.HTML object>"
      ]
     },
     "metadata": {},
     "output_type": "display_data"
    }
   ],
   "source": [
    "gtex_gct_dataset = 'gene_tpm_2017-06-05_v8_breast_mammary_tissue.gct_2'\n",
    "interest_gene = 'ITGAD'\n",
    "correlation_method ='pearson'\n",
    "correlation_cutoff = 0.6\n",
    "tcga_hiseq_dataset = '/home/hshadman/integrins_expression/saghar_TCGA_Breast/TCGA_BRCA_HiSeqV2' \n",
    "tcga_hiseq_corresponding_sample_info = '/home/hshadman/integrins_expression/saghar_TCGA_Breast/TCGA.BRCA.sampleMap_BRCA_clinicalMatrix'\n",
    "opposing_corr_cutoff = 0.1\n",
    "\n",
    "make_data_presentable(interest_gene,correlation_method, correlation_cutoff,opposing_corr_cutoff,gtex_gct_dataset,\n",
    "                         tcga_hiseq_dataset,tcga_hiseq_corresponding_sample_info)\n",
    "    \n"
   ]
  },
  {
   "cell_type": "code",
   "execution_count": 78,
   "metadata": {},
   "outputs": [
    {
     "name": "stdout",
     "output_type": "stream",
     "text": [
      "no overlap between datasets\n"
     ]
    },
    {
     "data": {
      "text/html": [
       "<table border=\"1\" class=\"dataframe\">\n",
       "  <thead>\n",
       "    <tr style=\"text-align: right;\">\n",
       "      <th></th>\n",
       "      <th>gtex_all</th>\n",
       "      <th>tcga_normal_all</th>\n",
       "      <th>tcga_primtum_all</th>\n",
       "    </tr>\n",
       "  </thead>\n",
       "  <tbody>\n",
       "    <tr>\n",
       "      <th>corr_with_ITGAE</th>\n",
       "      <td>52502</td>\n",
       "      <td>19929</td>\n",
       "      <td>20248</td>\n",
       "    </tr>\n",
       "  </tbody>\n",
       "</table>"
      ],
      "text/plain": [
       "<IPython.core.display.HTML object>"
      ]
     },
     "metadata": {},
     "output_type": "display_data"
    },
    {
     "name": "stdout",
     "output_type": "stream",
     "text": [
      "1st: common genes identified for all 3 datasets\n",
      "2nd: they were counted\n"
     ]
    },
    {
     "data": {
      "text/html": [
       "<table border=\"1\" class=\"dataframe\">\n",
       "  <thead>\n",
       "    <tr style=\"text-align: right;\">\n",
       "      <th></th>\n",
       "      <th>gtex_all</th>\n",
       "      <th>tcga_normal_all</th>\n",
       "      <th>tcga_primtum_all</th>\n",
       "    </tr>\n",
       "  </thead>\n",
       "  <tbody>\n",
       "    <tr>\n",
       "      <th>corr_with_ITGAE_all_same_genes</th>\n",
       "      <td>17313</td>\n",
       "      <td>17313</td>\n",
       "      <td>17313</td>\n",
       "    </tr>\n",
       "  </tbody>\n",
       "</table>"
      ],
      "text/plain": [
       "<IPython.core.display.HTML object>"
      ]
     },
     "metadata": {},
     "output_type": "display_data"
    },
    {
     "name": "stdout",
     "output_type": "stream",
     "text": [
      "for 1th dataset ENTER: gtex_all\n",
      "for 2th dataset ENTER: tcga_normal_all\n",
      "no overlap between datasets\n",
      "insert name for 1th datasetgtex_all\n",
      "insert name for 2th datasettcga_normal_all\n"
     ]
    },
    {
     "data": {
      "text/html": [
       "<table border=\"1\" class=\"dataframe\">\n",
       "  <thead>\n",
       "    <tr style=\"text-align: right;\">\n",
       "      <th></th>\n",
       "      <th>gtex_all</th>\n",
       "      <th>tcga_normal_all</th>\n",
       "    </tr>\n",
       "  </thead>\n",
       "  <tbody>\n",
       "    <tr>\n",
       "      <th>HIGHLY_correlated_with_ITGAE</th>\n",
       "      <td>25</td>\n",
       "      <td>142</td>\n",
       "    </tr>\n",
       "  </tbody>\n",
       "</table>"
      ],
      "text/plain": [
       "<IPython.core.display.HTML object>"
      ]
     },
     "metadata": {},
     "output_type": "display_data"
    },
    {
     "name": "stdout",
     "output_type": "stream",
     "text": [
      "for dataset ENTER: tcga_normal_all\n",
      "insert name for other datasettcga_normal_all\n",
      "1st: high cutoff applied to gtex dataset\n",
      "2nd: common genes identified with other dataset\n",
      "3rd: both datasets combined\n",
      "4th: High cutoff applied to non-gtex dataset\n"
     ]
    },
    {
     "data": {
      "text/html": [
       "<table border=\"1\" class=\"dataframe\">\n",
       "  <thead>\n",
       "    <tr style=\"text-align: right;\">\n",
       "      <th></th>\n",
       "      <th>gtex_cutoffmet</th>\n",
       "      <th>tcga_normal_all</th>\n",
       "    </tr>\n",
       "  </thead>\n",
       "  <tbody>\n",
       "    <tr>\n",
       "      <th>high_corr_with_ITGAE_both_same_genes</th>\n",
       "      <td>3</td>\n",
       "      <td>3</td>\n",
       "    </tr>\n",
       "  </tbody>\n",
       "</table>"
      ],
      "text/plain": [
       "<IPython.core.display.HTML object>"
      ]
     },
     "metadata": {},
     "output_type": "display_data"
    },
    {
     "name": "stdout",
     "output_type": "stream",
     "text": [
      "for dataset ENTER: tcga_normal_all\n",
      "insert name for other datasettcga_normal_all\n",
      "1st: high cutoff applied to gtex dataset\n",
      "2nd: common genes identified with other dataset\n",
      "3rd: both datasets combined\n",
      "4th: low cutoff applied to non-gtex dataset\n"
     ]
    },
    {
     "data": {
      "text/html": [
       "<table border=\"1\" class=\"dataframe\">\n",
       "  <thead>\n",
       "    <tr style=\"text-align: right;\">\n",
       "      <th></th>\n",
       "      <th>gtex_cutoffmet</th>\n",
       "      <th>tcga_normal_all</th>\n",
       "    </tr>\n",
       "  </thead>\n",
       "  <tbody>\n",
       "    <tr>\n",
       "      <th>corr_with_ITGAE_highgtex_low_other</th>\n",
       "      <td>0</td>\n",
       "      <td>0</td>\n",
       "    </tr>\n",
       "  </tbody>\n",
       "</table>"
      ],
      "text/plain": [
       "<IPython.core.display.HTML object>"
      ]
     },
     "metadata": {},
     "output_type": "display_data"
    },
    {
     "name": "stdout",
     "output_type": "stream",
     "text": [
      "for dataset ENTER: tcga_primtum_all\n",
      "insert name for other datasettcga_primtum_all\n",
      "1st: high cutoff applied to gtex dataset\n",
      "2nd: common genes identified with other dataset\n",
      "3rd: both datasets combined\n",
      "4th: High cutoff applied to non-gtex dataset\n"
     ]
    },
    {
     "data": {
      "text/html": [
       "<table border=\"1\" class=\"dataframe\">\n",
       "  <thead>\n",
       "    <tr style=\"text-align: right;\">\n",
       "      <th></th>\n",
       "      <th>gtex_cutoffmet</th>\n",
       "      <th>tcga_primtum_all</th>\n",
       "    </tr>\n",
       "  </thead>\n",
       "  <tbody>\n",
       "    <tr>\n",
       "      <th>high_corr_with_ITGAE_both_same_genes</th>\n",
       "      <td>1</td>\n",
       "      <td>1</td>\n",
       "    </tr>\n",
       "  </tbody>\n",
       "</table>"
      ],
      "text/plain": [
       "<IPython.core.display.HTML object>"
      ]
     },
     "metadata": {},
     "output_type": "display_data"
    },
    {
     "name": "stdout",
     "output_type": "stream",
     "text": [
      "for dataset ENTER: tcga_primtum_all\n",
      "insert name for other datasettcga_primtum_all\n",
      "1st: high cutoff applied to gtex dataset\n",
      "2nd: common genes identified with other dataset\n",
      "3rd: both datasets combined\n",
      "4th: low cutoff applied to non-gtex dataset\n"
     ]
    },
    {
     "data": {
      "text/html": [
       "<table border=\"1\" class=\"dataframe\">\n",
       "  <thead>\n",
       "    <tr style=\"text-align: right;\">\n",
       "      <th></th>\n",
       "      <th>gtex_cutoffmet</th>\n",
       "      <th>tcga_primtum_all</th>\n",
       "    </tr>\n",
       "  </thead>\n",
       "  <tbody>\n",
       "    <tr>\n",
       "      <th>corr_with_ITGAE_highgtex_low_other</th>\n",
       "      <td>1</td>\n",
       "      <td>1</td>\n",
       "    </tr>\n",
       "  </tbody>\n",
       "</table>"
      ],
      "text/plain": [
       "<IPython.core.display.HTML object>"
      ]
     },
     "metadata": {},
     "output_type": "display_data"
    },
    {
     "name": "stdout",
     "output_type": "stream",
     "text": [
      "1st: high cutoff applied to tcga dataset\n",
      "2nd: common genes identified with gtex dataset\n",
      "3rd: both datasets combined\n",
      "4th: High cutoff applied to gtex dataset\n"
     ]
    },
    {
     "data": {
      "text/html": [
       "<table border=\"1\" class=\"dataframe\">\n",
       "  <thead>\n",
       "    <tr style=\"text-align: right;\">\n",
       "      <th></th>\n",
       "      <th>gtex_all</th>\n",
       "      <th>tcga_primtum_all_cutoffmet</th>\n",
       "    </tr>\n",
       "  </thead>\n",
       "  <tbody>\n",
       "    <tr>\n",
       "      <th>high_corr_with_ITGAE_both_same_genes</th>\n",
       "      <td>1</td>\n",
       "      <td>1</td>\n",
       "    </tr>\n",
       "  </tbody>\n",
       "</table>"
      ],
      "text/plain": [
       "<IPython.core.display.HTML object>"
      ]
     },
     "metadata": {},
     "output_type": "display_data"
    },
    {
     "name": "stdout",
     "output_type": "stream",
     "text": [
      "1st: high cutoff applied to tcga dataset\n",
      "2nd: common genes identified with gtex dataset\n",
      "3rd: both datasets combined\n",
      "4th: low cutoff applied to gtex dataset\n"
     ]
    },
    {
     "data": {
      "text/html": [
       "<table border=\"1\" class=\"dataframe\">\n",
       "  <thead>\n",
       "    <tr style=\"text-align: right;\">\n",
       "      <th></th>\n",
       "      <th>gtex_all</th>\n",
       "      <th>tcga_primtum_all_cutoffmet</th>\n",
       "    </tr>\n",
       "  </thead>\n",
       "  <tbody>\n",
       "    <tr>\n",
       "      <th>corr_with_ITGAE_both_same_genes</th>\n",
       "      <td>0</td>\n",
       "      <td>0</td>\n",
       "    </tr>\n",
       "  </tbody>\n",
       "</table>"
      ],
      "text/plain": [
       "<IPython.core.display.HTML object>"
      ]
     },
     "metadata": {},
     "output_type": "display_data"
    }
   ],
   "source": [
    "gtex_gct_dataset = 'gene_tpm_2017-06-05_v8_breast_mammary_tissue.gct_2'\n",
    "interest_gene = 'ITGAE'\n",
    "correlation_method ='pearson'\n",
    "correlation_cutoff = 0.6\n",
    "tcga_hiseq_dataset = '/home/hshadman/integrins_expression/saghar_TCGA_Breast/TCGA_BRCA_HiSeqV2' \n",
    "tcga_hiseq_corresponding_sample_info = '/home/hshadman/integrins_expression/saghar_TCGA_Breast/TCGA.BRCA.sampleMap_BRCA_clinicalMatrix'\n",
    "opposing_corr_cutoff = 0.1\n",
    "\n",
    "make_data_presentable(interest_gene,correlation_method, correlation_cutoff,opposing_corr_cutoff,gtex_gct_dataset,\n",
    "                         tcga_hiseq_dataset,tcga_hiseq_corresponding_sample_info)\n",
    "    \n"
   ]
  },
  {
   "cell_type": "code",
   "execution_count": 79,
   "metadata": {},
   "outputs": [
    {
     "name": "stdout",
     "output_type": "stream",
     "text": [
      "no overlap between datasets\n"
     ]
    },
    {
     "data": {
      "text/html": [
       "<table border=\"1\" class=\"dataframe\">\n",
       "  <thead>\n",
       "    <tr style=\"text-align: right;\">\n",
       "      <th></th>\n",
       "      <th>gtex_all</th>\n",
       "      <th>tcga_normal_all</th>\n",
       "      <th>tcga_primtum_all</th>\n",
       "    </tr>\n",
       "  </thead>\n",
       "  <tbody>\n",
       "    <tr>\n",
       "      <th>corr_with_ITGA2B</th>\n",
       "      <td>52502</td>\n",
       "      <td>19929</td>\n",
       "      <td>20248</td>\n",
       "    </tr>\n",
       "  </tbody>\n",
       "</table>"
      ],
      "text/plain": [
       "<IPython.core.display.HTML object>"
      ]
     },
     "metadata": {},
     "output_type": "display_data"
    },
    {
     "name": "stdout",
     "output_type": "stream",
     "text": [
      "1st: common genes identified for all 3 datasets\n",
      "2nd: they were counted\n"
     ]
    },
    {
     "data": {
      "text/html": [
       "<table border=\"1\" class=\"dataframe\">\n",
       "  <thead>\n",
       "    <tr style=\"text-align: right;\">\n",
       "      <th></th>\n",
       "      <th>gtex_all</th>\n",
       "      <th>tcga_normal_all</th>\n",
       "      <th>tcga_primtum_all</th>\n",
       "    </tr>\n",
       "  </thead>\n",
       "  <tbody>\n",
       "    <tr>\n",
       "      <th>corr_with_ITGA2B_all_same_genes</th>\n",
       "      <td>17313</td>\n",
       "      <td>17313</td>\n",
       "      <td>17313</td>\n",
       "    </tr>\n",
       "  </tbody>\n",
       "</table>"
      ],
      "text/plain": [
       "<IPython.core.display.HTML object>"
      ]
     },
     "metadata": {},
     "output_type": "display_data"
    },
    {
     "name": "stdout",
     "output_type": "stream",
     "text": [
      "for 1th dataset ENTER: gtex_all\n",
      "for 2th dataset ENTER: tcga_normal_all\n",
      "no overlap between datasets\n",
      "insert name for 1th datasetgtex_all\n",
      "insert name for 2th datasettcga_normal_all\n"
     ]
    },
    {
     "data": {
      "text/html": [
       "<table border=\"1\" class=\"dataframe\">\n",
       "  <thead>\n",
       "    <tr style=\"text-align: right;\">\n",
       "      <th></th>\n",
       "      <th>gtex_all</th>\n",
       "      <th>tcga_normal_all</th>\n",
       "    </tr>\n",
       "  </thead>\n",
       "  <tbody>\n",
       "    <tr>\n",
       "      <th>HIGHLY_correlated_with_ITGA2B</th>\n",
       "      <td>6</td>\n",
       "      <td>1</td>\n",
       "    </tr>\n",
       "  </tbody>\n",
       "</table>"
      ],
      "text/plain": [
       "<IPython.core.display.HTML object>"
      ]
     },
     "metadata": {},
     "output_type": "display_data"
    },
    {
     "name": "stdout",
     "output_type": "stream",
     "text": [
      "for dataset ENTER: tcga_normal_all\n",
      "insert name for other datasettcga_normal_all\n",
      "1st: high cutoff applied to gtex dataset\n",
      "2nd: common genes identified with other dataset\n",
      "3rd: both datasets combined\n",
      "4th: High cutoff applied to non-gtex dataset\n"
     ]
    },
    {
     "data": {
      "text/html": [
       "<table border=\"1\" class=\"dataframe\">\n",
       "  <thead>\n",
       "    <tr style=\"text-align: right;\">\n",
       "      <th></th>\n",
       "      <th>gtex_cutoffmet</th>\n",
       "      <th>tcga_normal_all</th>\n",
       "    </tr>\n",
       "  </thead>\n",
       "  <tbody>\n",
       "    <tr>\n",
       "      <th>high_corr_with_ITGA2B_both_same_genes</th>\n",
       "      <td>1</td>\n",
       "      <td>1</td>\n",
       "    </tr>\n",
       "  </tbody>\n",
       "</table>"
      ],
      "text/plain": [
       "<IPython.core.display.HTML object>"
      ]
     },
     "metadata": {},
     "output_type": "display_data"
    },
    {
     "name": "stdout",
     "output_type": "stream",
     "text": [
      "for dataset ENTER: tcga_normal_all\n",
      "insert name for other datasettcga_normal_all\n",
      "1st: high cutoff applied to gtex dataset\n",
      "2nd: common genes identified with other dataset\n",
      "3rd: both datasets combined\n",
      "4th: low cutoff applied to non-gtex dataset\n"
     ]
    },
    {
     "data": {
      "text/html": [
       "<table border=\"1\" class=\"dataframe\">\n",
       "  <thead>\n",
       "    <tr style=\"text-align: right;\">\n",
       "      <th></th>\n",
       "      <th>gtex_cutoffmet</th>\n",
       "      <th>tcga_normal_all</th>\n",
       "    </tr>\n",
       "  </thead>\n",
       "  <tbody>\n",
       "    <tr>\n",
       "      <th>corr_with_ITGA2B_highgtex_low_other</th>\n",
       "      <td>0</td>\n",
       "      <td>0</td>\n",
       "    </tr>\n",
       "  </tbody>\n",
       "</table>"
      ],
      "text/plain": [
       "<IPython.core.display.HTML object>"
      ]
     },
     "metadata": {},
     "output_type": "display_data"
    },
    {
     "name": "stdout",
     "output_type": "stream",
     "text": [
      "for dataset ENTER: tcga_primtum_all\n",
      "insert name for other datasettcga_primtum_all\n",
      "1st: high cutoff applied to gtex dataset\n",
      "2nd: common genes identified with other dataset\n",
      "3rd: both datasets combined\n",
      "4th: High cutoff applied to non-gtex dataset\n"
     ]
    },
    {
     "data": {
      "text/html": [
       "<table border=\"1\" class=\"dataframe\">\n",
       "  <thead>\n",
       "    <tr style=\"text-align: right;\">\n",
       "      <th></th>\n",
       "      <th>gtex_cutoffmet</th>\n",
       "      <th>tcga_primtum_all</th>\n",
       "    </tr>\n",
       "  </thead>\n",
       "  <tbody>\n",
       "    <tr>\n",
       "      <th>high_corr_with_ITGA2B_both_same_genes</th>\n",
       "      <td>1</td>\n",
       "      <td>1</td>\n",
       "    </tr>\n",
       "  </tbody>\n",
       "</table>"
      ],
      "text/plain": [
       "<IPython.core.display.HTML object>"
      ]
     },
     "metadata": {},
     "output_type": "display_data"
    },
    {
     "name": "stdout",
     "output_type": "stream",
     "text": [
      "for dataset ENTER: tcga_primtum_all\n",
      "insert name for other datasettcga_primtum_all\n",
      "1st: high cutoff applied to gtex dataset\n",
      "2nd: common genes identified with other dataset\n",
      "3rd: both datasets combined\n",
      "4th: low cutoff applied to non-gtex dataset\n"
     ]
    },
    {
     "data": {
      "text/html": [
       "<table border=\"1\" class=\"dataframe\">\n",
       "  <thead>\n",
       "    <tr style=\"text-align: right;\">\n",
       "      <th></th>\n",
       "      <th>gtex_cutoffmet</th>\n",
       "      <th>tcga_primtum_all</th>\n",
       "    </tr>\n",
       "  </thead>\n",
       "  <tbody>\n",
       "    <tr>\n",
       "      <th>corr_with_ITGA2B_highgtex_low_other</th>\n",
       "      <td>3</td>\n",
       "      <td>3</td>\n",
       "    </tr>\n",
       "  </tbody>\n",
       "</table>"
      ],
      "text/plain": [
       "<IPython.core.display.HTML object>"
      ]
     },
     "metadata": {},
     "output_type": "display_data"
    },
    {
     "name": "stdout",
     "output_type": "stream",
     "text": [
      "1st: high cutoff applied to tcga dataset\n",
      "2nd: common genes identified with gtex dataset\n",
      "3rd: both datasets combined\n",
      "4th: High cutoff applied to gtex dataset\n"
     ]
    },
    {
     "data": {
      "text/html": [
       "<table border=\"1\" class=\"dataframe\">\n",
       "  <thead>\n",
       "    <tr style=\"text-align: right;\">\n",
       "      <th></th>\n",
       "      <th>gtex_all</th>\n",
       "      <th>tcga_primtum_all_cutoffmet</th>\n",
       "    </tr>\n",
       "  </thead>\n",
       "  <tbody>\n",
       "    <tr>\n",
       "      <th>high_corr_with_ITGA2B_both_same_genes</th>\n",
       "      <td>1</td>\n",
       "      <td>1</td>\n",
       "    </tr>\n",
       "  </tbody>\n",
       "</table>"
      ],
      "text/plain": [
       "<IPython.core.display.HTML object>"
      ]
     },
     "metadata": {},
     "output_type": "display_data"
    },
    {
     "name": "stdout",
     "output_type": "stream",
     "text": [
      "1st: high cutoff applied to tcga dataset\n",
      "2nd: common genes identified with gtex dataset\n",
      "3rd: both datasets combined\n",
      "4th: low cutoff applied to gtex dataset\n"
     ]
    },
    {
     "data": {
      "text/html": [
       "<table border=\"1\" class=\"dataframe\">\n",
       "  <thead>\n",
       "    <tr style=\"text-align: right;\">\n",
       "      <th></th>\n",
       "      <th>gtex_all</th>\n",
       "      <th>tcga_primtum_all_cutoffmet</th>\n",
       "    </tr>\n",
       "  </thead>\n",
       "  <tbody>\n",
       "    <tr>\n",
       "      <th>corr_with_ITGA2B_both_same_genes</th>\n",
       "      <td>0</td>\n",
       "      <td>0</td>\n",
       "    </tr>\n",
       "  </tbody>\n",
       "</table>"
      ],
      "text/plain": [
       "<IPython.core.display.HTML object>"
      ]
     },
     "metadata": {},
     "output_type": "display_data"
    }
   ],
   "source": [
    "gtex_gct_dataset = 'gene_tpm_2017-06-05_v8_breast_mammary_tissue.gct_2'\n",
    "interest_gene = 'ITGA2B'\n",
    "correlation_method ='pearson'\n",
    "correlation_cutoff = 0.6\n",
    "tcga_hiseq_dataset = '/home/hshadman/integrins_expression/saghar_TCGA_Breast/TCGA_BRCA_HiSeqV2' \n",
    "tcga_hiseq_corresponding_sample_info = '/home/hshadman/integrins_expression/saghar_TCGA_Breast/TCGA.BRCA.sampleMap_BRCA_clinicalMatrix'\n",
    "opposing_corr_cutoff = 0.1\n",
    "\n",
    "make_data_presentable(interest_gene,correlation_method, correlation_cutoff,opposing_corr_cutoff,gtex_gct_dataset,\n",
    "                         tcga_hiseq_dataset,tcga_hiseq_corresponding_sample_info)\n",
    "    \n"
   ]
  },
  {
   "cell_type": "code",
   "execution_count": 80,
   "metadata": {},
   "outputs": [
    {
     "name": "stdout",
     "output_type": "stream",
     "text": [
      "no overlap between datasets\n"
     ]
    },
    {
     "data": {
      "text/html": [
       "<table border=\"1\" class=\"dataframe\">\n",
       "  <thead>\n",
       "    <tr style=\"text-align: right;\">\n",
       "      <th></th>\n",
       "      <th>gtex_all</th>\n",
       "      <th>tcga_normal_all</th>\n",
       "      <th>tcga_primtum_all</th>\n",
       "    </tr>\n",
       "  </thead>\n",
       "  <tbody>\n",
       "    <tr>\n",
       "      <th>corr_with_ITGB3</th>\n",
       "      <td>52502</td>\n",
       "      <td>19929</td>\n",
       "      <td>20248</td>\n",
       "    </tr>\n",
       "  </tbody>\n",
       "</table>"
      ],
      "text/plain": [
       "<IPython.core.display.HTML object>"
      ]
     },
     "metadata": {},
     "output_type": "display_data"
    },
    {
     "name": "stdout",
     "output_type": "stream",
     "text": [
      "1st: common genes identified for all 3 datasets\n",
      "2nd: they were counted\n"
     ]
    },
    {
     "data": {
      "text/html": [
       "<table border=\"1\" class=\"dataframe\">\n",
       "  <thead>\n",
       "    <tr style=\"text-align: right;\">\n",
       "      <th></th>\n",
       "      <th>gtex_all</th>\n",
       "      <th>tcga_normal_all</th>\n",
       "      <th>tcga_primtum_all</th>\n",
       "    </tr>\n",
       "  </thead>\n",
       "  <tbody>\n",
       "    <tr>\n",
       "      <th>corr_with_ITGB3_all_same_genes</th>\n",
       "      <td>17313</td>\n",
       "      <td>17313</td>\n",
       "      <td>17313</td>\n",
       "    </tr>\n",
       "  </tbody>\n",
       "</table>"
      ],
      "text/plain": [
       "<IPython.core.display.HTML object>"
      ]
     },
     "metadata": {},
     "output_type": "display_data"
    },
    {
     "name": "stdout",
     "output_type": "stream",
     "text": [
      "for 1th dataset ENTER: gtex_all\n",
      "for 2th dataset ENTER: tcga_normal_all\n",
      "no overlap between datasets\n",
      "insert name for 1th datasetgtex_all\n",
      "insert name for 2th datasettcga_normal_all\n"
     ]
    },
    {
     "data": {
      "text/html": [
       "<table border=\"1\" class=\"dataframe\">\n",
       "  <thead>\n",
       "    <tr style=\"text-align: right;\">\n",
       "      <th></th>\n",
       "      <th>gtex_all</th>\n",
       "      <th>tcga_normal_all</th>\n",
       "    </tr>\n",
       "  </thead>\n",
       "  <tbody>\n",
       "    <tr>\n",
       "      <th>HIGHLY_correlated_with_ITGB3</th>\n",
       "      <td>58</td>\n",
       "      <td>551</td>\n",
       "    </tr>\n",
       "  </tbody>\n",
       "</table>"
      ],
      "text/plain": [
       "<IPython.core.display.HTML object>"
      ]
     },
     "metadata": {},
     "output_type": "display_data"
    },
    {
     "name": "stdout",
     "output_type": "stream",
     "text": [
      "for dataset ENTER: tcga_normal_all\n",
      "insert name for other datasettcga_normal_all\n",
      "1st: high cutoff applied to gtex dataset\n",
      "2nd: common genes identified with other dataset\n",
      "3rd: both datasets combined\n",
      "4th: High cutoff applied to non-gtex dataset\n"
     ]
    },
    {
     "data": {
      "text/html": [
       "<table border=\"1\" class=\"dataframe\">\n",
       "  <thead>\n",
       "    <tr style=\"text-align: right;\">\n",
       "      <th></th>\n",
       "      <th>gtex_cutoffmet</th>\n",
       "      <th>tcga_normal_all</th>\n",
       "    </tr>\n",
       "  </thead>\n",
       "  <tbody>\n",
       "    <tr>\n",
       "      <th>high_corr_with_ITGB3_both_same_genes</th>\n",
       "      <td>7</td>\n",
       "      <td>7</td>\n",
       "    </tr>\n",
       "  </tbody>\n",
       "</table>"
      ],
      "text/plain": [
       "<IPython.core.display.HTML object>"
      ]
     },
     "metadata": {},
     "output_type": "display_data"
    },
    {
     "name": "stdout",
     "output_type": "stream",
     "text": [
      "for dataset ENTER: tcga_normal_all\n",
      "insert name for other datasettcga_normal_all\n",
      "1st: high cutoff applied to gtex dataset\n",
      "2nd: common genes identified with other dataset\n",
      "3rd: both datasets combined\n",
      "4th: low cutoff applied to non-gtex dataset\n"
     ]
    },
    {
     "data": {
      "text/html": [
       "<table border=\"1\" class=\"dataframe\">\n",
       "  <thead>\n",
       "    <tr style=\"text-align: right;\">\n",
       "      <th></th>\n",
       "      <th>gtex_cutoffmet</th>\n",
       "      <th>tcga_normal_all</th>\n",
       "    </tr>\n",
       "  </thead>\n",
       "  <tbody>\n",
       "    <tr>\n",
       "      <th>corr_with_ITGB3_highgtex_low_other</th>\n",
       "      <td>8</td>\n",
       "      <td>8</td>\n",
       "    </tr>\n",
       "  </tbody>\n",
       "</table>"
      ],
      "text/plain": [
       "<IPython.core.display.HTML object>"
      ]
     },
     "metadata": {},
     "output_type": "display_data"
    },
    {
     "name": "stdout",
     "output_type": "stream",
     "text": [
      "for dataset ENTER: tcga_primtum_all\n",
      "insert name for other datasettcga_primtum_all\n",
      "1st: high cutoff applied to gtex dataset\n",
      "2nd: common genes identified with other dataset\n",
      "3rd: both datasets combined\n",
      "4th: High cutoff applied to non-gtex dataset\n"
     ]
    },
    {
     "data": {
      "text/html": [
       "<table border=\"1\" class=\"dataframe\">\n",
       "  <thead>\n",
       "    <tr style=\"text-align: right;\">\n",
       "      <th></th>\n",
       "      <th>gtex_cutoffmet</th>\n",
       "      <th>tcga_primtum_all</th>\n",
       "    </tr>\n",
       "  </thead>\n",
       "  <tbody>\n",
       "    <tr>\n",
       "      <th>high_corr_with_ITGB3_both_same_genes</th>\n",
       "      <td>1</td>\n",
       "      <td>1</td>\n",
       "    </tr>\n",
       "  </tbody>\n",
       "</table>"
      ],
      "text/plain": [
       "<IPython.core.display.HTML object>"
      ]
     },
     "metadata": {},
     "output_type": "display_data"
    },
    {
     "name": "stdout",
     "output_type": "stream",
     "text": [
      "for dataset ENTER: tcga_primtum_all\n",
      "insert name for other datasettcga_primtum_all\n",
      "1st: high cutoff applied to gtex dataset\n",
      "2nd: common genes identified with other dataset\n",
      "3rd: both datasets combined\n",
      "4th: low cutoff applied to non-gtex dataset\n"
     ]
    },
    {
     "data": {
      "text/html": [
       "<table border=\"1\" class=\"dataframe\">\n",
       "  <thead>\n",
       "    <tr style=\"text-align: right;\">\n",
       "      <th></th>\n",
       "      <th>gtex_cutoffmet</th>\n",
       "      <th>tcga_primtum_all</th>\n",
       "    </tr>\n",
       "  </thead>\n",
       "  <tbody>\n",
       "    <tr>\n",
       "      <th>corr_with_ITGB3_highgtex_low_other</th>\n",
       "      <td>8</td>\n",
       "      <td>8</td>\n",
       "    </tr>\n",
       "  </tbody>\n",
       "</table>"
      ],
      "text/plain": [
       "<IPython.core.display.HTML object>"
      ]
     },
     "metadata": {},
     "output_type": "display_data"
    },
    {
     "name": "stdout",
     "output_type": "stream",
     "text": [
      "1st: high cutoff applied to tcga dataset\n",
      "2nd: common genes identified with gtex dataset\n",
      "3rd: both datasets combined\n",
      "4th: High cutoff applied to gtex dataset\n"
     ]
    },
    {
     "data": {
      "text/html": [
       "<table border=\"1\" class=\"dataframe\">\n",
       "  <thead>\n",
       "    <tr style=\"text-align: right;\">\n",
       "      <th></th>\n",
       "      <th>gtex_all</th>\n",
       "      <th>tcga_primtum_all_cutoffmet</th>\n",
       "    </tr>\n",
       "  </thead>\n",
       "  <tbody>\n",
       "    <tr>\n",
       "      <th>high_corr_with_ITGB3_both_same_genes</th>\n",
       "      <td>1</td>\n",
       "      <td>1</td>\n",
       "    </tr>\n",
       "  </tbody>\n",
       "</table>"
      ],
      "text/plain": [
       "<IPython.core.display.HTML object>"
      ]
     },
     "metadata": {},
     "output_type": "display_data"
    },
    {
     "name": "stdout",
     "output_type": "stream",
     "text": [
      "1st: high cutoff applied to tcga dataset\n",
      "2nd: common genes identified with gtex dataset\n",
      "3rd: both datasets combined\n",
      "4th: low cutoff applied to gtex dataset\n"
     ]
    },
    {
     "data": {
      "text/html": [
       "<table border=\"1\" class=\"dataframe\">\n",
       "  <thead>\n",
       "    <tr style=\"text-align: right;\">\n",
       "      <th></th>\n",
       "      <th>gtex_all</th>\n",
       "      <th>tcga_primtum_all_cutoffmet</th>\n",
       "    </tr>\n",
       "  </thead>\n",
       "  <tbody>\n",
       "    <tr>\n",
       "      <th>corr_with_ITGB3_both_same_genes</th>\n",
       "      <td>10</td>\n",
       "      <td>10</td>\n",
       "    </tr>\n",
       "  </tbody>\n",
       "</table>"
      ],
      "text/plain": [
       "<IPython.core.display.HTML object>"
      ]
     },
     "metadata": {},
     "output_type": "display_data"
    }
   ],
   "source": [
    "gtex_gct_dataset = 'gene_tpm_2017-06-05_v8_breast_mammary_tissue.gct_2'\n",
    "interest_gene = 'ITGB3'\n",
    "correlation_method ='pearson'\n",
    "correlation_cutoff = 0.6\n",
    "tcga_hiseq_dataset = '/home/hshadman/integrins_expression/saghar_TCGA_Breast/TCGA_BRCA_HiSeqV2' \n",
    "tcga_hiseq_corresponding_sample_info = '/home/hshadman/integrins_expression/saghar_TCGA_Breast/TCGA.BRCA.sampleMap_BRCA_clinicalMatrix'\n",
    "opposing_corr_cutoff = 0.1\n",
    "\n",
    "make_data_presentable(interest_gene,correlation_method, correlation_cutoff,opposing_corr_cutoff,gtex_gct_dataset,\n",
    "                         tcga_hiseq_dataset,tcga_hiseq_corresponding_sample_info)\n",
    "    \n"
   ]
  },
  {
   "cell_type": "code",
   "execution_count": 81,
   "metadata": {},
   "outputs": [
    {
     "name": "stdout",
     "output_type": "stream",
     "text": [
      "no overlap between datasets\n"
     ]
    },
    {
     "data": {
      "text/html": [
       "<table border=\"1\" class=\"dataframe\">\n",
       "  <thead>\n",
       "    <tr style=\"text-align: right;\">\n",
       "      <th></th>\n",
       "      <th>gtex_all</th>\n",
       "      <th>tcga_normal_all</th>\n",
       "      <th>tcga_primtum_all</th>\n",
       "    </tr>\n",
       "  </thead>\n",
       "  <tbody>\n",
       "    <tr>\n",
       "      <th>corr_with_ITGA3</th>\n",
       "      <td>52502</td>\n",
       "      <td>19929</td>\n",
       "      <td>20248</td>\n",
       "    </tr>\n",
       "  </tbody>\n",
       "</table>"
      ],
      "text/plain": [
       "<IPython.core.display.HTML object>"
      ]
     },
     "metadata": {},
     "output_type": "display_data"
    },
    {
     "name": "stdout",
     "output_type": "stream",
     "text": [
      "1st: common genes identified for all 3 datasets\n",
      "2nd: they were counted\n"
     ]
    },
    {
     "data": {
      "text/html": [
       "<table border=\"1\" class=\"dataframe\">\n",
       "  <thead>\n",
       "    <tr style=\"text-align: right;\">\n",
       "      <th></th>\n",
       "      <th>gtex_all</th>\n",
       "      <th>tcga_normal_all</th>\n",
       "      <th>tcga_primtum_all</th>\n",
       "    </tr>\n",
       "  </thead>\n",
       "  <tbody>\n",
       "    <tr>\n",
       "      <th>corr_with_ITGA3_all_same_genes</th>\n",
       "      <td>17313</td>\n",
       "      <td>17313</td>\n",
       "      <td>17313</td>\n",
       "    </tr>\n",
       "  </tbody>\n",
       "</table>"
      ],
      "text/plain": [
       "<IPython.core.display.HTML object>"
      ]
     },
     "metadata": {},
     "output_type": "display_data"
    },
    {
     "name": "stdout",
     "output_type": "stream",
     "text": [
      "for 1th dataset ENTER: gtex_all\n",
      "for 2th dataset ENTER: tcga_normal_all\n",
      "no overlap between datasets\n",
      "insert name for 1th datasetgtex_all\n",
      "insert name for 2th datasettcga_normal_all\n"
     ]
    },
    {
     "data": {
      "text/html": [
       "<table border=\"1\" class=\"dataframe\">\n",
       "  <thead>\n",
       "    <tr style=\"text-align: right;\">\n",
       "      <th></th>\n",
       "      <th>gtex_all</th>\n",
       "      <th>tcga_normal_all</th>\n",
       "    </tr>\n",
       "  </thead>\n",
       "  <tbody>\n",
       "    <tr>\n",
       "      <th>HIGHLY_correlated_with_ITGA3</th>\n",
       "      <td>1431</td>\n",
       "      <td>2739</td>\n",
       "    </tr>\n",
       "  </tbody>\n",
       "</table>"
      ],
      "text/plain": [
       "<IPython.core.display.HTML object>"
      ]
     },
     "metadata": {},
     "output_type": "display_data"
    },
    {
     "name": "stdout",
     "output_type": "stream",
     "text": [
      "for dataset ENTER: tcga_normal_all\n",
      "insert name for other datasettcga_normal_all\n",
      "1st: high cutoff applied to gtex dataset\n",
      "2nd: common genes identified with other dataset\n",
      "3rd: both datasets combined\n",
      "4th: High cutoff applied to non-gtex dataset\n"
     ]
    },
    {
     "data": {
      "text/html": [
       "<table border=\"1\" class=\"dataframe\">\n",
       "  <thead>\n",
       "    <tr style=\"text-align: right;\">\n",
       "      <th></th>\n",
       "      <th>gtex_cutoffmet</th>\n",
       "      <th>tcga_normal_all</th>\n",
       "    </tr>\n",
       "  </thead>\n",
       "  <tbody>\n",
       "    <tr>\n",
       "      <th>high_corr_with_ITGA3_both_same_genes</th>\n",
       "      <td>700</td>\n",
       "      <td>700</td>\n",
       "    </tr>\n",
       "  </tbody>\n",
       "</table>"
      ],
      "text/plain": [
       "<IPython.core.display.HTML object>"
      ]
     },
     "metadata": {},
     "output_type": "display_data"
    },
    {
     "name": "stdout",
     "output_type": "stream",
     "text": [
      "for dataset ENTER: tcga_normal_all\n",
      "insert name for other datasettcga_normal_all\n",
      "1st: high cutoff applied to gtex dataset\n",
      "2nd: common genes identified with other dataset\n",
      "3rd: both datasets combined\n",
      "4th: low cutoff applied to non-gtex dataset\n"
     ]
    },
    {
     "data": {
      "text/html": [
       "<table border=\"1\" class=\"dataframe\">\n",
       "  <thead>\n",
       "    <tr style=\"text-align: right;\">\n",
       "      <th></th>\n",
       "      <th>gtex_cutoffmet</th>\n",
       "      <th>tcga_normal_all</th>\n",
       "    </tr>\n",
       "  </thead>\n",
       "  <tbody>\n",
       "    <tr>\n",
       "      <th>corr_with_ITGA3_highgtex_low_other</th>\n",
       "      <td>60</td>\n",
       "      <td>60</td>\n",
       "    </tr>\n",
       "  </tbody>\n",
       "</table>"
      ],
      "text/plain": [
       "<IPython.core.display.HTML object>"
      ]
     },
     "metadata": {},
     "output_type": "display_data"
    },
    {
     "name": "stdout",
     "output_type": "stream",
     "text": [
      "for dataset ENTER: tcga_primtum_all\n",
      "insert name for other datasettcga_primtum_all\n",
      "1st: high cutoff applied to gtex dataset\n",
      "2nd: common genes identified with other dataset\n",
      "3rd: both datasets combined\n",
      "4th: High cutoff applied to non-gtex dataset\n"
     ]
    },
    {
     "data": {
      "text/html": [
       "<table border=\"1\" class=\"dataframe\">\n",
       "  <thead>\n",
       "    <tr style=\"text-align: right;\">\n",
       "      <th></th>\n",
       "      <th>gtex_cutoffmet</th>\n",
       "      <th>tcga_primtum_all</th>\n",
       "    </tr>\n",
       "  </thead>\n",
       "  <tbody>\n",
       "    <tr>\n",
       "      <th>high_corr_with_ITGA3_both_same_genes</th>\n",
       "      <td>1</td>\n",
       "      <td>1</td>\n",
       "    </tr>\n",
       "  </tbody>\n",
       "</table>"
      ],
      "text/plain": [
       "<IPython.core.display.HTML object>"
      ]
     },
     "metadata": {},
     "output_type": "display_data"
    },
    {
     "name": "stdout",
     "output_type": "stream",
     "text": [
      "for dataset ENTER: tcga_primtum_all\n",
      "insert name for other datasettcga_primtum_all\n",
      "1st: high cutoff applied to gtex dataset\n",
      "2nd: common genes identified with other dataset\n",
      "3rd: both datasets combined\n",
      "4th: low cutoff applied to non-gtex dataset\n"
     ]
    },
    {
     "data": {
      "text/html": [
       "<table border=\"1\" class=\"dataframe\">\n",
       "  <thead>\n",
       "    <tr style=\"text-align: right;\">\n",
       "      <th></th>\n",
       "      <th>gtex_cutoffmet</th>\n",
       "      <th>tcga_primtum_all</th>\n",
       "    </tr>\n",
       "  </thead>\n",
       "  <tbody>\n",
       "    <tr>\n",
       "      <th>corr_with_ITGA3_highgtex_low_other</th>\n",
       "      <td>763</td>\n",
       "      <td>763</td>\n",
       "    </tr>\n",
       "  </tbody>\n",
       "</table>"
      ],
      "text/plain": [
       "<IPython.core.display.HTML object>"
      ]
     },
     "metadata": {},
     "output_type": "display_data"
    },
    {
     "name": "stdout",
     "output_type": "stream",
     "text": [
      "1st: high cutoff applied to tcga dataset\n",
      "2nd: common genes identified with gtex dataset\n",
      "3rd: both datasets combined\n",
      "4th: High cutoff applied to gtex dataset\n"
     ]
    },
    {
     "data": {
      "text/html": [
       "<table border=\"1\" class=\"dataframe\">\n",
       "  <thead>\n",
       "    <tr style=\"text-align: right;\">\n",
       "      <th></th>\n",
       "      <th>gtex_all</th>\n",
       "      <th>tcga_primtum_all_cutoffmet</th>\n",
       "    </tr>\n",
       "  </thead>\n",
       "  <tbody>\n",
       "    <tr>\n",
       "      <th>high_corr_with_ITGA3_both_same_genes</th>\n",
       "      <td>1</td>\n",
       "      <td>1</td>\n",
       "    </tr>\n",
       "  </tbody>\n",
       "</table>"
      ],
      "text/plain": [
       "<IPython.core.display.HTML object>"
      ]
     },
     "metadata": {},
     "output_type": "display_data"
    },
    {
     "name": "stdout",
     "output_type": "stream",
     "text": [
      "1st: high cutoff applied to tcga dataset\n",
      "2nd: common genes identified with gtex dataset\n",
      "3rd: both datasets combined\n",
      "4th: low cutoff applied to gtex dataset\n"
     ]
    },
    {
     "data": {
      "text/html": [
       "<table border=\"1\" class=\"dataframe\">\n",
       "  <thead>\n",
       "    <tr style=\"text-align: right;\">\n",
       "      <th></th>\n",
       "      <th>gtex_all</th>\n",
       "      <th>tcga_primtum_all_cutoffmet</th>\n",
       "    </tr>\n",
       "  </thead>\n",
       "  <tbody>\n",
       "    <tr>\n",
       "      <th>corr_with_ITGA3_both_same_genes</th>\n",
       "      <td>0</td>\n",
       "      <td>0</td>\n",
       "    </tr>\n",
       "  </tbody>\n",
       "</table>"
      ],
      "text/plain": [
       "<IPython.core.display.HTML object>"
      ]
     },
     "metadata": {},
     "output_type": "display_data"
    }
   ],
   "source": [
    "gtex_gct_dataset = 'gene_tpm_2017-06-05_v8_breast_mammary_tissue.gct_2'\n",
    "interest_gene = 'ITGA3'\n",
    "correlation_method ='pearson'\n",
    "correlation_cutoff = 0.6\n",
    "tcga_hiseq_dataset = '/home/hshadman/integrins_expression/saghar_TCGA_Breast/TCGA_BRCA_HiSeqV2' \n",
    "tcga_hiseq_corresponding_sample_info = '/home/hshadman/integrins_expression/saghar_TCGA_Breast/TCGA.BRCA.sampleMap_BRCA_clinicalMatrix'\n",
    "opposing_corr_cutoff = 0.1\n",
    "\n",
    "make_data_presentable(interest_gene,correlation_method, correlation_cutoff,opposing_corr_cutoff,gtex_gct_dataset,\n",
    "                         tcga_hiseq_dataset,tcga_hiseq_corresponding_sample_info)\n",
    "    \n"
   ]
  },
  {
   "cell_type": "code",
   "execution_count": 8,
   "metadata": {},
   "outputs": [
    {
     "name": "stdout",
     "output_type": "stream",
     "text": [
      "no overlap between datasets\n"
     ]
    },
    {
     "data": {
      "text/html": [
       "<table border=\"1\" class=\"dataframe\">\n",
       "  <thead>\n",
       "    <tr style=\"text-align: right;\">\n",
       "      <th></th>\n",
       "      <th>gtex_all</th>\n",
       "      <th>tcga_normal_all</th>\n",
       "      <th>tcga_primtum_all</th>\n",
       "    </tr>\n",
       "  </thead>\n",
       "  <tbody>\n",
       "    <tr>\n",
       "      <th>corr_with_ITGB4</th>\n",
       "      <td>52502</td>\n",
       "      <td>19929</td>\n",
       "      <td>20248</td>\n",
       "    </tr>\n",
       "  </tbody>\n",
       "</table>"
      ],
      "text/plain": [
       "<IPython.core.display.HTML object>"
      ]
     },
     "metadata": {},
     "output_type": "display_data"
    },
    {
     "name": "stdout",
     "output_type": "stream",
     "text": [
      "1st: common genes identified for all 3 datasets\n",
      "2nd: they were counted\n"
     ]
    },
    {
     "data": {
      "text/html": [
       "<table border=\"1\" class=\"dataframe\">\n",
       "  <thead>\n",
       "    <tr style=\"text-align: right;\">\n",
       "      <th></th>\n",
       "      <th>gtex_all</th>\n",
       "      <th>tcga_normal_all</th>\n",
       "      <th>tcga_primtum_all</th>\n",
       "    </tr>\n",
       "  </thead>\n",
       "  <tbody>\n",
       "    <tr>\n",
       "      <th>corr_with_ITGB4_all_same_genes</th>\n",
       "      <td>17313</td>\n",
       "      <td>17313</td>\n",
       "      <td>17313</td>\n",
       "    </tr>\n",
       "  </tbody>\n",
       "</table>"
      ],
      "text/plain": [
       "<IPython.core.display.HTML object>"
      ]
     },
     "metadata": {},
     "output_type": "display_data"
    },
    {
     "name": "stdout",
     "output_type": "stream",
     "text": [
      "for 1th dataset ENTER: gtex_all\n",
      "for 2th dataset ENTER: tcga_normal_all\n",
      "no overlap between datasets\n",
      "insert name for 1th datasetgtex_all\n",
      "insert name for 2th datasettcga_normal_all\n"
     ]
    },
    {
     "data": {
      "text/html": [
       "<table border=\"1\" class=\"dataframe\">\n",
       "  <thead>\n",
       "    <tr style=\"text-align: right;\">\n",
       "      <th></th>\n",
       "      <th>gtex_all</th>\n",
       "      <th>tcga_normal_all</th>\n",
       "    </tr>\n",
       "  </thead>\n",
       "  <tbody>\n",
       "    <tr>\n",
       "      <th>HIGHLY_correlated_with_ITGB4</th>\n",
       "      <td>1619</td>\n",
       "      <td>2732</td>\n",
       "    </tr>\n",
       "  </tbody>\n",
       "</table>"
      ],
      "text/plain": [
       "<IPython.core.display.HTML object>"
      ]
     },
     "metadata": {},
     "output_type": "display_data"
    },
    {
     "name": "stdout",
     "output_type": "stream",
     "text": [
      "for dataset ENTER: tcga_normal_all\n",
      "insert name for other datasettcga_normal_all\n",
      "1st: high cutoff applied to gtex dataset\n",
      "2nd: common genes identified with other dataset\n",
      "3rd: both datasets combined\n",
      "4th: High cutoff applied to non-gtex dataset\n"
     ]
    },
    {
     "data": {
      "text/html": [
       "<table border=\"1\" class=\"dataframe\">\n",
       "  <thead>\n",
       "    <tr style=\"text-align: right;\">\n",
       "      <th></th>\n",
       "      <th>gtex_cutoffmet</th>\n",
       "      <th>tcga_normal_all</th>\n",
       "    </tr>\n",
       "  </thead>\n",
       "  <tbody>\n",
       "    <tr>\n",
       "      <th>high_corr_with_ITGB4_both_same_genes</th>\n",
       "      <td>771</td>\n",
       "      <td>771</td>\n",
       "    </tr>\n",
       "  </tbody>\n",
       "</table>"
      ],
      "text/plain": [
       "<IPython.core.display.HTML object>"
      ]
     },
     "metadata": {},
     "output_type": "display_data"
    },
    {
     "name": "stdout",
     "output_type": "stream",
     "text": [
      "for dataset ENTER: tcga_normal_all\n",
      "insert name for other datasettcga_normal_all\n",
      "1st: high cutoff applied to gtex dataset\n",
      "2nd: common genes identified with other dataset\n",
      "3rd: both datasets combined\n",
      "4th: low cutoff applied to non-gtex dataset\n"
     ]
    },
    {
     "data": {
      "text/html": [
       "<table border=\"1\" class=\"dataframe\">\n",
       "  <thead>\n",
       "    <tr style=\"text-align: right;\">\n",
       "      <th></th>\n",
       "      <th>gtex_cutoffmet</th>\n",
       "      <th>tcga_normal_all</th>\n",
       "    </tr>\n",
       "  </thead>\n",
       "  <tbody>\n",
       "    <tr>\n",
       "      <th>corr_with_ITGB4_highgtex_low_other</th>\n",
       "      <td>60</td>\n",
       "      <td>60</td>\n",
       "    </tr>\n",
       "  </tbody>\n",
       "</table>"
      ],
      "text/plain": [
       "<IPython.core.display.HTML object>"
      ]
     },
     "metadata": {},
     "output_type": "display_data"
    },
    {
     "name": "stdout",
     "output_type": "stream",
     "text": [
      "for dataset ENTER: tcga_primtum_all\n",
      "insert name for other datasettcga_primtum_all\n",
      "1st: high cutoff applied to gtex dataset\n",
      "2nd: common genes identified with other dataset\n",
      "3rd: both datasets combined\n",
      "4th: High cutoff applied to non-gtex dataset\n"
     ]
    },
    {
     "data": {
      "text/html": [
       "<table border=\"1\" class=\"dataframe\">\n",
       "  <thead>\n",
       "    <tr style=\"text-align: right;\">\n",
       "      <th></th>\n",
       "      <th>gtex_cutoffmet</th>\n",
       "      <th>tcga_primtum_all</th>\n",
       "    </tr>\n",
       "  </thead>\n",
       "  <tbody>\n",
       "    <tr>\n",
       "      <th>high_corr_with_ITGB4_both_same_genes</th>\n",
       "      <td>1</td>\n",
       "      <td>1</td>\n",
       "    </tr>\n",
       "  </tbody>\n",
       "</table>"
      ],
      "text/plain": [
       "<IPython.core.display.HTML object>"
      ]
     },
     "metadata": {},
     "output_type": "display_data"
    },
    {
     "name": "stdout",
     "output_type": "stream",
     "text": [
      "for dataset ENTER: tcga_primtum_all\n",
      "insert name for other datasettcga_primtum_all\n",
      "1st: high cutoff applied to gtex dataset\n",
      "2nd: common genes identified with other dataset\n",
      "3rd: both datasets combined\n",
      "4th: low cutoff applied to non-gtex dataset\n"
     ]
    },
    {
     "data": {
      "text/html": [
       "<table border=\"1\" class=\"dataframe\">\n",
       "  <thead>\n",
       "    <tr style=\"text-align: right;\">\n",
       "      <th></th>\n",
       "      <th>gtex_cutoffmet</th>\n",
       "      <th>tcga_primtum_all</th>\n",
       "    </tr>\n",
       "  </thead>\n",
       "  <tbody>\n",
       "    <tr>\n",
       "      <th>corr_with_ITGB4_highgtex_low_other</th>\n",
       "      <td>798</td>\n",
       "      <td>798</td>\n",
       "    </tr>\n",
       "  </tbody>\n",
       "</table>"
      ],
      "text/plain": [
       "<IPython.core.display.HTML object>"
      ]
     },
     "metadata": {},
     "output_type": "display_data"
    },
    {
     "name": "stdout",
     "output_type": "stream",
     "text": [
      "1st: high cutoff applied to tcga dataset\n",
      "2nd: common genes identified with gtex dataset\n",
      "3rd: both datasets combined\n",
      "4th: High cutoff applied to gtex dataset\n"
     ]
    },
    {
     "data": {
      "text/html": [
       "<table border=\"1\" class=\"dataframe\">\n",
       "  <thead>\n",
       "    <tr style=\"text-align: right;\">\n",
       "      <th></th>\n",
       "      <th>gtex_all</th>\n",
       "      <th>tcga_primtum_all_cutoffmet</th>\n",
       "    </tr>\n",
       "  </thead>\n",
       "  <tbody>\n",
       "    <tr>\n",
       "      <th>high_corr_with_ITGB4_both_same_genes</th>\n",
       "      <td>1</td>\n",
       "      <td>1</td>\n",
       "    </tr>\n",
       "  </tbody>\n",
       "</table>"
      ],
      "text/plain": [
       "<IPython.core.display.HTML object>"
      ]
     },
     "metadata": {},
     "output_type": "display_data"
    },
    {
     "name": "stdout",
     "output_type": "stream",
     "text": [
      "1st: high cutoff applied to tcga dataset\n",
      "2nd: common genes identified with gtex dataset\n",
      "3rd: both datasets combined\n",
      "4th: low cutoff applied to gtex dataset\n"
     ]
    },
    {
     "data": {
      "text/html": [
       "<table border=\"1\" class=\"dataframe\">\n",
       "  <thead>\n",
       "    <tr style=\"text-align: right;\">\n",
       "      <th></th>\n",
       "      <th>gtex_all</th>\n",
       "      <th>tcga_primtum_all_cutoffmet</th>\n",
       "    </tr>\n",
       "  </thead>\n",
       "  <tbody>\n",
       "    <tr>\n",
       "      <th>corr_with_ITGB4_both_same_genes</th>\n",
       "      <td>0</td>\n",
       "      <td>0</td>\n",
       "    </tr>\n",
       "  </tbody>\n",
       "</table>"
      ],
      "text/plain": [
       "<IPython.core.display.HTML object>"
      ]
     },
     "metadata": {},
     "output_type": "display_data"
    }
   ],
   "source": [
    "gtex_gct_dataset = 'gene_tpm_2017-06-05_v8_breast_mammary_tissue.gct_2'\n",
    "interest_gene = 'ITGB4'\n",
    "correlation_method ='pearson'\n",
    "correlation_cutoff = 0.6\n",
    "tcga_hiseq_dataset = '/home/hshadman/integrins_expression/saghar_TCGA_Breast/TCGA_BRCA_HiSeqV2' \n",
    "tcga_hiseq_corresponding_sample_info = '/home/hshadman/integrins_expression/saghar_TCGA_Breast/TCGA.BRCA.sampleMap_BRCA_clinicalMatrix'\n",
    "opposing_corr_cutoff = 0.1\n",
    "\n",
    "make_data_presentable(interest_gene,correlation_method, correlation_cutoff,opposing_corr_cutoff,gtex_gct_dataset,\n",
    "                         tcga_hiseq_dataset,tcga_hiseq_corresponding_sample_info)\n",
    "    \n"
   ]
  },
  {
   "cell_type": "code",
   "execution_count": 9,
   "metadata": {},
   "outputs": [
    {
     "name": "stdout",
     "output_type": "stream",
     "text": [
      "no overlap between datasets\n"
     ]
    },
    {
     "data": {
      "text/html": [
       "<table border=\"1\" class=\"dataframe\">\n",
       "  <thead>\n",
       "    <tr style=\"text-align: right;\">\n",
       "      <th></th>\n",
       "      <th>gtex_all</th>\n",
       "      <th>tcga_normal_all</th>\n",
       "      <th>tcga_primtum_all</th>\n",
       "    </tr>\n",
       "  </thead>\n",
       "  <tbody>\n",
       "    <tr>\n",
       "      <th>corr_with_ITGB2</th>\n",
       "      <td>52502</td>\n",
       "      <td>19929</td>\n",
       "      <td>20248</td>\n",
       "    </tr>\n",
       "  </tbody>\n",
       "</table>"
      ],
      "text/plain": [
       "<IPython.core.display.HTML object>"
      ]
     },
     "metadata": {},
     "output_type": "display_data"
    },
    {
     "name": "stdout",
     "output_type": "stream",
     "text": [
      "1st: common genes identified for all 3 datasets\n",
      "2nd: they were counted\n"
     ]
    },
    {
     "data": {
      "text/html": [
       "<table border=\"1\" class=\"dataframe\">\n",
       "  <thead>\n",
       "    <tr style=\"text-align: right;\">\n",
       "      <th></th>\n",
       "      <th>gtex_all</th>\n",
       "      <th>tcga_normal_all</th>\n",
       "      <th>tcga_primtum_all</th>\n",
       "    </tr>\n",
       "  </thead>\n",
       "  <tbody>\n",
       "    <tr>\n",
       "      <th>corr_with_ITGB2_all_same_genes</th>\n",
       "      <td>17313</td>\n",
       "      <td>17313</td>\n",
       "      <td>17313</td>\n",
       "    </tr>\n",
       "  </tbody>\n",
       "</table>"
      ],
      "text/plain": [
       "<IPython.core.display.HTML object>"
      ]
     },
     "metadata": {},
     "output_type": "display_data"
    },
    {
     "name": "stdout",
     "output_type": "stream",
     "text": [
      "for 1th dataset ENTER: gtex_all\n",
      "for 2th dataset ENTER: tcga_normal_all\n",
      "no overlap between datasets\n",
      "insert name for 1th datasetgtex_all\n",
      "insert name for 2th datasettcga_normal_all\n"
     ]
    },
    {
     "data": {
      "text/html": [
       "<table border=\"1\" class=\"dataframe\">\n",
       "  <thead>\n",
       "    <tr style=\"text-align: right;\">\n",
       "      <th></th>\n",
       "      <th>gtex_all</th>\n",
       "      <th>tcga_normal_all</th>\n",
       "    </tr>\n",
       "  </thead>\n",
       "  <tbody>\n",
       "    <tr>\n",
       "      <th>HIGHLY_correlated_with_ITGB2</th>\n",
       "      <td>294</td>\n",
       "      <td>351</td>\n",
       "    </tr>\n",
       "  </tbody>\n",
       "</table>"
      ],
      "text/plain": [
       "<IPython.core.display.HTML object>"
      ]
     },
     "metadata": {},
     "output_type": "display_data"
    },
    {
     "name": "stdout",
     "output_type": "stream",
     "text": [
      "for dataset ENTER: tcga_normal_all\n",
      "insert name for other datasettcga_normal_all\n",
      "1st: high cutoff applied to gtex dataset\n",
      "2nd: common genes identified with other dataset\n",
      "3rd: both datasets combined\n",
      "4th: High cutoff applied to non-gtex dataset\n"
     ]
    },
    {
     "data": {
      "text/html": [
       "<table border=\"1\" class=\"dataframe\">\n",
       "  <thead>\n",
       "    <tr style=\"text-align: right;\">\n",
       "      <th></th>\n",
       "      <th>gtex_cutoffmet</th>\n",
       "      <th>tcga_normal_all</th>\n",
       "    </tr>\n",
       "  </thead>\n",
       "  <tbody>\n",
       "    <tr>\n",
       "      <th>high_corr_with_ITGB2_both_same_genes</th>\n",
       "      <td>135</td>\n",
       "      <td>135</td>\n",
       "    </tr>\n",
       "  </tbody>\n",
       "</table>"
      ],
      "text/plain": [
       "<IPython.core.display.HTML object>"
      ]
     },
     "metadata": {},
     "output_type": "display_data"
    },
    {
     "name": "stdout",
     "output_type": "stream",
     "text": [
      "for dataset ENTER: tcga_normal_all\n",
      "insert name for other datasettcga_normal_all\n",
      "1st: high cutoff applied to gtex dataset\n",
      "2nd: common genes identified with other dataset\n",
      "3rd: both datasets combined\n",
      "4th: low cutoff applied to non-gtex dataset\n"
     ]
    },
    {
     "data": {
      "text/html": [
       "<table border=\"1\" class=\"dataframe\">\n",
       "  <thead>\n",
       "    <tr style=\"text-align: right;\">\n",
       "      <th></th>\n",
       "      <th>gtex_cutoffmet</th>\n",
       "      <th>tcga_normal_all</th>\n",
       "    </tr>\n",
       "  </thead>\n",
       "  <tbody>\n",
       "    <tr>\n",
       "      <th>corr_with_ITGB2_highgtex_low_other</th>\n",
       "      <td>9</td>\n",
       "      <td>9</td>\n",
       "    </tr>\n",
       "  </tbody>\n",
       "</table>"
      ],
      "text/plain": [
       "<IPython.core.display.HTML object>"
      ]
     },
     "metadata": {},
     "output_type": "display_data"
    },
    {
     "name": "stdout",
     "output_type": "stream",
     "text": [
      "for dataset ENTER: tcga_primtum_all\n",
      "insert name for other datasettcga_primtum_all\n",
      "1st: high cutoff applied to gtex dataset\n",
      "2nd: common genes identified with other dataset\n",
      "3rd: both datasets combined\n",
      "4th: High cutoff applied to non-gtex dataset\n"
     ]
    },
    {
     "data": {
      "text/html": [
       "<table border=\"1\" class=\"dataframe\">\n",
       "  <thead>\n",
       "    <tr style=\"text-align: right;\">\n",
       "      <th></th>\n",
       "      <th>gtex_cutoffmet</th>\n",
       "      <th>tcga_primtum_all</th>\n",
       "    </tr>\n",
       "  </thead>\n",
       "  <tbody>\n",
       "    <tr>\n",
       "      <th>high_corr_with_ITGB2_both_same_genes</th>\n",
       "      <td>120</td>\n",
       "      <td>120</td>\n",
       "    </tr>\n",
       "  </tbody>\n",
       "</table>"
      ],
      "text/plain": [
       "<IPython.core.display.HTML object>"
      ]
     },
     "metadata": {},
     "output_type": "display_data"
    },
    {
     "name": "stdout",
     "output_type": "stream",
     "text": [
      "for dataset ENTER: tcga_primtum_all\n",
      "insert name for other datasettcga_primtum_all\n",
      "1st: high cutoff applied to gtex dataset\n",
      "2nd: common genes identified with other dataset\n",
      "3rd: both datasets combined\n",
      "4th: low cutoff applied to non-gtex dataset\n"
     ]
    },
    {
     "data": {
      "text/html": [
       "<table border=\"1\" class=\"dataframe\">\n",
       "  <thead>\n",
       "    <tr style=\"text-align: right;\">\n",
       "      <th></th>\n",
       "      <th>gtex_cutoffmet</th>\n",
       "      <th>tcga_primtum_all</th>\n",
       "    </tr>\n",
       "  </thead>\n",
       "  <tbody>\n",
       "    <tr>\n",
       "      <th>corr_with_ITGB2_highgtex_low_other</th>\n",
       "      <td>15</td>\n",
       "      <td>15</td>\n",
       "    </tr>\n",
       "  </tbody>\n",
       "</table>"
      ],
      "text/plain": [
       "<IPython.core.display.HTML object>"
      ]
     },
     "metadata": {},
     "output_type": "display_data"
    },
    {
     "name": "stdout",
     "output_type": "stream",
     "text": [
      "1st: high cutoff applied to tcga dataset\n",
      "2nd: common genes identified with gtex dataset\n",
      "3rd: both datasets combined\n",
      "4th: High cutoff applied to gtex dataset\n"
     ]
    },
    {
     "data": {
      "text/html": [
       "<table border=\"1\" class=\"dataframe\">\n",
       "  <thead>\n",
       "    <tr style=\"text-align: right;\">\n",
       "      <th></th>\n",
       "      <th>gtex_all</th>\n",
       "      <th>tcga_primtum_all_cutoffmet</th>\n",
       "    </tr>\n",
       "  </thead>\n",
       "  <tbody>\n",
       "    <tr>\n",
       "      <th>high_corr_with_ITGB2_both_same_genes</th>\n",
       "      <td>120</td>\n",
       "      <td>120</td>\n",
       "    </tr>\n",
       "  </tbody>\n",
       "</table>"
      ],
      "text/plain": [
       "<IPython.core.display.HTML object>"
      ]
     },
     "metadata": {},
     "output_type": "display_data"
    },
    {
     "name": "stdout",
     "output_type": "stream",
     "text": [
      "1st: high cutoff applied to tcga dataset\n",
      "2nd: common genes identified with gtex dataset\n",
      "3rd: both datasets combined\n",
      "4th: low cutoff applied to gtex dataset\n"
     ]
    },
    {
     "data": {
      "text/html": [
       "<table border=\"1\" class=\"dataframe\">\n",
       "  <thead>\n",
       "    <tr style=\"text-align: right;\">\n",
       "      <th></th>\n",
       "      <th>gtex_all</th>\n",
       "      <th>tcga_primtum_all_cutoffmet</th>\n",
       "    </tr>\n",
       "  </thead>\n",
       "  <tbody>\n",
       "    <tr>\n",
       "      <th>corr_with_ITGB2_both_same_genes</th>\n",
       "      <td>122</td>\n",
       "      <td>122</td>\n",
       "    </tr>\n",
       "  </tbody>\n",
       "</table>"
      ],
      "text/plain": [
       "<IPython.core.display.HTML object>"
      ]
     },
     "metadata": {},
     "output_type": "display_data"
    }
   ],
   "source": [
    "gtex_gct_dataset = 'gene_tpm_2017-06-05_v8_breast_mammary_tissue.gct_2'\n",
    "interest_gene = 'ITGB2'\n",
    "correlation_method ='pearson'\n",
    "correlation_cutoff = 0.6\n",
    "tcga_hiseq_dataset = '/home/hshadman/integrins_expression/saghar_TCGA_Breast/TCGA_BRCA_HiSeqV2' \n",
    "tcga_hiseq_corresponding_sample_info = '/home/hshadman/integrins_expression/saghar_TCGA_Breast/TCGA.BRCA.sampleMap_BRCA_clinicalMatrix'\n",
    "opposing_corr_cutoff = 0.1\n",
    "\n",
    "make_data_presentable(interest_gene,correlation_method, correlation_cutoff,opposing_corr_cutoff,gtex_gct_dataset,\n",
    "                         tcga_hiseq_dataset,tcga_hiseq_corresponding_sample_info)\n",
    "    \n"
   ]
  },
  {
   "cell_type": "code",
   "execution_count": null,
   "metadata": {},
   "outputs": [],
   "source": [
    "#unique dataframes:\n",
    "df_int,\n",
    "tcga_brca_df_normal_all,\n",
    "tcga_brca_df_primtum_all"
   ]
  },
  {
   "cell_type": "code",
   "execution_count": 4,
   "metadata": {},
   "outputs": [],
   "source": [
    "tcga_hiseq_dataset = '/home/hshadman/integrins_expression/saghar_TCGA_Breast/TCGA_BRCA_HiSeqV2' \n",
    "tcga_hiseq_corresponding_sample_info = '/home/hshadman/integrins_expression/saghar_TCGA_Breast/TCGA.BRCA.sampleMap_BRCA_clinicalMatrix'\n",
    "\n",
    "tcga_data=tcga_data_processing(tcga_hiseq_dataset,tcga_hiseq_corresponding_sample_info)\n",
    "\n",
    "\n"
   ]
  },
  {
   "cell_type": "markdown",
   "metadata": {},
   "source": [
    "# big function"
   ]
  },
  {
   "cell_type": "code",
   "execution_count": 46,
   "metadata": {},
   "outputs": [],
   "source": [
    "#create function\n",
    "def gtex_tcga_gene_correlation_analysis(gtex_gct_dataset,interest_gene,correlation_method,correlation_cutoff,\n",
    "                                       tcga_hiseq_dataset,tcga_hiseq_corresponding_sample_info,opposing_corr_cutoff):\n",
    "    pearson_cutoff=correlation_cutoff\n",
    "    opposing_corr_cutoff = opposing_corr_cutoff\n",
    "    gtex_breast_data_all=pd.read_csv(gtex_gct_dataset,sep='\\t')\n",
    "    gtex_breast_data_all=gtex_breast_data_all.T.copy()\n",
    "    gtex_breast_data_all.columns=gtex_breast_data_all.iloc[2]\n",
    "    df_int=gtex_breast_data_all.loc[(gtex_breast_data_all.index!='id')&(gtex_breast_data_all.index!='Name')&(gtex_breast_data_all.index!='Description')].astype('float').copy()\n",
    "    #correlations pearson for gtex\n",
    "    pearson_ITGA7_corr_gtex=df_int.corrwith(df_int[interest_gene],method=correlation_method)\n",
    "    #drop nan values\n",
    "    pearson_ITGA7_corr_gtex=pearson_ITGA7_corr_gtex.dropna(axis=0,how=any)\n",
    "\n",
    "    #gtex that meet cutoff. only focusing on positive correlations\n",
    "\n",
    "    pearson_gtex_cutoffmet=pearson_ITGA7_corr_gtex[pearson_ITGA7_corr_gtex>=pearson_cutoff]\n",
    "\n",
    "    #get and process tcga hiseqv2 data and sample info\n",
    "\n",
    "    tcga_brca_df = pd.read_csv(tcga_hiseq_dataset, sep = '\\t', index_col=0)\n",
    "    tcga_brca_sample_info = pd.read_csv(tcga_hiseq_corresponding_sample_info,sep=\"\\t\",index_col=0)\n",
    "    #drop metastatic from main sample type data frame\n",
    "    tcga_brca_sample_info = tcga_brca_sample_info[~(tcga_brca_sample_info.sample_type=='Metastatic')]\n",
    "\n",
    "    #separate normal and primtum\n",
    "    tcga_brca_normal_patients = tcga_brca_sample_info[tcga_brca_sample_info.sample_type=='Solid Tissue Normal']\n",
    "    tcga_brca_primtum_patients = tcga_brca_sample_info[tcga_brca_sample_info.sample_type=='Primary Tumor']\n",
    "\n",
    "    #drop index of samples not in tcga_brca_df\n",
    "    tcga_brca_normal_patients=  tcga_brca_normal_patients.drop(non_match for non_match in tcga_brca_normal_patients.index.values if non_match not in tcga_brca_df.columns)\n",
    "    tcga_brca_primtum_patients =tcga_brca_primtum_patients.drop(non_match for non_match in tcga_brca_primtum_patients.index.values if non_match not in tcga_brca_df.columns) \n",
    "\n",
    "    #make sure both normal and tumor patients match, and drop patients not in tcga_brca_df\n",
    "    matched_patient_index_list=[]\n",
    "    for patient in tcga_brca_primtum_patients.patient_id.values:\n",
    "        if patient in tcga_brca_normal_patients.patient_id.values and patient in [patient_id.split('-')[2] for patient_id in tcga_brca_df.columns]:\n",
    "            matched_patient_index_list.append(tcga_brca_sample_info[tcga_brca_sample_info.patient_id==patient].index.values)\n",
    "    matched_patient_list=tcga_brca_sample_info.loc[[x for l in matched_patient_index_list for x in l]].copy()\n",
    "\n",
    "\n",
    "    #separate normal and primary tumor\n",
    "    normal_matched_patient_list=matched_patient_list[matched_patient_list.sample_type=='Solid Tissue Normal']\n",
    "    primtum_matched_patient_list = matched_patient_list[matched_patient_list.sample_type=='Primary Tumor']\n",
    "\n",
    "    #matched normal and primary tumor samples\n",
    "    tcga_brca_df_normal_matched=tcga_brca_df[tcga_brca_df.columns[tcga_brca_df.columns.isin(normal_matched_patient_list.index.values)]]\n",
    "    tcga_brca_df_primtum_matched=tcga_brca_df[tcga_brca_df.columns[tcga_brca_df.columns.isin(primtum_matched_patient_list.index.values)]]\n",
    "\n",
    "    #test to see if normal and primary tumor patient IDs are a match\n",
    "    for i in [patient_id.split('-')[2] for patient_id in tcga_brca_df_normal_matched.columns]:\n",
    "        if i not in [patient_id.split('-')[2] for patient_id in tcga_brca_df_primtum_matched.columns]:\n",
    "            print('trouble')\n",
    "            \n",
    "    #TCGA brca normal ALL\n",
    "    tcga_brca_df_normal_all = tcga_brca_df.T.loc[tcga_brca_normal_patients.index.values].copy()\n",
    "    # dataframe with all TCGA primary tumor samples (not necessarily matched)\n",
    "    tcga_brca_df_primtum_all= tcga_brca_df.T.loc[tcga_brca_primtum_patients.index.values].copy()\n",
    "    #calculate pearson correlation \n",
    "    pearson_ITGA7_corr_tcga_brca_normal_all= tcga_brca_df_normal_all.corrwith(tcga_brca_df_normal_all[interest_gene],method=correlation_method)\n",
    "    #drop nan values\n",
    "    pearson_ITGA7_corr_tcga_brca_normal_all = pearson_ITGA7_corr_tcga_brca_normal_all.dropna(axis=0,how='any')\n",
    "    #calculate pearson correlation \n",
    "    pearson_ITGA7_corr_tcga_brca_primtum_all= tcga_brca_df_primtum_all.corrwith(tcga_brca_df_primtum_all[interest_gene],method=correlation_method)\n",
    "    #drop nan values\n",
    "    pearson_ITGA7_corr_tcga_brca_primtum_all = pearson_ITGA7_corr_tcga_brca_primtum_all.dropna(axis=0,how='any')\n",
    "\n",
    "    #pearson correlation with ITGA7, with normal/matched_primary_tumor\n",
    "    pearson_ITGA7_corr_tcga_brca_normal_match=tcga_brca_df_normal_matched.T.corrwith(tcga_brca_df_normal_matched.T[interest_gene],method=correlation_method)\n",
    "    #drop nan values\n",
    "    pearson_ITGA7_corr_tcga_brca_normal_match=pearson_ITGA7_corr_tcga_brca_normal_match.dropna(axis=0,how='any')\n",
    "    #pearson correlation with ITGA7, with normal/matched_primary_tumor\n",
    "    pearson_ITGA7_corr_tcga_brca_primtum_match=tcga_brca_df_primtum_matched.T.corrwith(tcga_brca_df_primtum_matched.T[interest_gene],method=correlation_method)\n",
    "    #drop nan values\n",
    "    pearson_ITGA7_corr_tcga_brca_primtum_match = pearson_ITGA7_corr_tcga_brca_primtum_match.dropna(axis=0,how='any')\n",
    "    \n",
    "    global gtex_cutoffmet_other_correlations\n",
    "    global tcga_primtum_cutoffmet_other_corr\n",
    "    global gtex_cutoffmet_other_corr_triple\n",
    "    global tcga_normal_cutoffmet_other_corr\n",
    "    \n",
    "    #gtex genes that meeet cutoff and those same genes in the tcga primary tumor samples, but cutoff only applied to gtex\n",
    "    gtex_cutoffmet_other_correlations=pd.concat([pearson_gtex_cutoffmet[[gene for gene in pearson_gtex_cutoffmet.index if (gene in pearson_ITGA7_corr_tcga_brca_primtum_all.index)]],\n",
    "              pearson_ITGA7_corr_tcga_brca_primtum_all[[gene for gene in pearson_gtex_cutoffmet.index if (gene in pearson_ITGA7_corr_tcga_brca_primtum_all.index)]]                                  ],axis=1)\n",
    "    gtex_cutoffmet_other_correlations.columns=['gtex_cutoffmet','TCGA_allprimtum']\n",
    "\n",
    "    #tcga normal that meet cutoff. only focusing on positive correlations\n",
    "    pearson_ITGA7_corr_tcga_brca_normal_all_cutoffmet=pearson_ITGA7_corr_tcga_brca_normal_all[pearson_ITGA7_corr_tcga_brca_normal_all>=pearson_cutoff]    \n",
    "    \n",
    "    #tcga primtum that meet cutoff. only focusing on positive correlations\n",
    "    pearson_ITGA7_corr_tcga_brca_primtum_all_cutoffmet=pearson_ITGA7_corr_tcga_brca_primtum_all[pearson_ITGA7_corr_tcga_brca_primtum_all>=pearson_cutoff]\n",
    "\n",
    "    #tcga primtum all genes that meet cutoff and corresponding gtex genes\n",
    "    tcga_primtum_cutoffmet_other_corr=pd.concat([pearson_ITGA7_corr_gtex[[gene for gene in pearson_ITGA7_corr_gtex.index if (gene in pearson_ITGA7_corr_tcga_brca_primtum_all_cutoffmet.index)]],\n",
    "              pearson_ITGA7_corr_tcga_brca_primtum_all_cutoffmet[[gene for gene in pearson_ITGA7_corr_gtex.index if (gene in pearson_ITGA7_corr_tcga_brca_primtum_all_cutoffmet.index)]]                                  ],axis=1)\n",
    "    tcga_primtum_cutoffmet_other_corr.columns=['gtex_corr','TCGA_allprimtum_cutoffmet']\n",
    "    \n",
    "    #drop genes with duplicate values in pearson_ITGA7_corr_gtex b/c they are causing problems (doing this towards the very end)\n",
    "    idx = pearson_ITGA7_corr_gtex.index.drop_duplicates(keep=False)\n",
    "    pearson_ITGA7_corr_gtex = pearson_ITGA7_corr_gtex.loc[idx]\n",
    "\n",
    "    #tcga normal all genes that meet cutoff and corresponding gtex genes\n",
    "    tcga_normal_cutoffmet_other_corr=pd.concat([pearson_ITGA7_corr_gtex[[gene for gene in pearson_ITGA7_corr_gtex.index if (gene in pearson_ITGA7_corr_tcga_brca_normal_all_cutoffmet.index)]],\n",
    "                                                pearson_ITGA7_corr_tcga_brca_normal_all_cutoffmet[[gene for gene in pearson_ITGA7_corr_gtex.index if (gene in pearson_ITGA7_corr_tcga_brca_normal_all_cutoffmet.index)]]],axis=1)\n",
    "    tcga_normal_cutoffmet_other_corr.columns=['gtex_corr','TCGA_allnormal_cutoffmet']\n",
    "    \n",
    "    #gtex normal all genes that meet cutoff and corresponding tcga normal AND corresponding TCGA primtum\n",
    "    gtex_cutoffmet_other_corr_triple=pd.concat([pearson_gtex_cutoffmet[[gene for gene in pearson_gtex_cutoffmet.index if (gene in pearson_ITGA7_corr_tcga_brca_normal_all.index)  and (gene in pearson_ITGA7_corr_tcga_brca_primtum_all.index)]],\n",
    "                                                pearson_ITGA7_corr_tcga_brca_normal_all[[gene for gene in pearson_gtex_cutoffmet.index if (gene in pearson_ITGA7_corr_tcga_brca_normal_all.index)  and (gene in pearson_ITGA7_corr_tcga_brca_primtum_all.index)]],\n",
    "                                                pearson_ITGA7_corr_tcga_brca_primtum_all[[gene for gene in pearson_gtex_cutoffmet.index if (gene in pearson_ITGA7_corr_tcga_brca_normal_all.index)  and (gene in pearson_ITGA7_corr_tcga_brca_primtum_all.index)]]                                  ],axis=1)\n",
    "    gtex_cutoffmet_other_corr_triple.columns=['ITGA7_gtex_cutoffmet','TCGA_normal_corresponding_toGTEX','TCGA_allprimtum']\n",
    "\n",
    "    \n",
    "    #table for gtex cutoffmet\n",
    "\n",
    "    total_genes_count=pd.DataFrame(data=[[gtex_cutoffmet_other_correlations.shape[0],\n",
    "                                          gtex_cutoffmet_other_correlations.shape[0]]],\n",
    "                                   index=['total_genes_each'],\n",
    "                 columns=['gtex_cutoffmet','TCGA_allprimtum'])\n",
    "    high_corr_both=pd.DataFrame(data=[[gtex_cutoffmet_other_correlations[(gtex_cutoffmet_other_correlations.TCGA_allprimtum>=pearson_cutoff)].shape[0],\n",
    "                                          gtex_cutoffmet_other_correlations[(gtex_cutoffmet_other_correlations.TCGA_allprimtum>=pearson_cutoff)].shape[0]]],\n",
    "                                   index=['high_pos_corr_both'],\n",
    "                 columns=['gtex_cutoffmet','TCGA_allprimtum'])\n",
    "    #here low includes negative tcga\n",
    "    high_gtex_low_tcga=pd.DataFrame(data=[[gtex_cutoffmet_other_correlations[(gtex_cutoffmet_other_correlations.TCGA_allprimtum<=opposing_corr_cutoff)].shape[0],\n",
    "                                          gtex_cutoffmet_other_correlations[(gtex_cutoffmet_other_correlations.TCGA_allprimtum<=opposing_corr_cutoff)].shape[0]]],\n",
    "                                   index=['high_gtex_low_tcga'],\n",
    "                 columns=['gtex_cutoffmet','TCGA_allprimtum'])\n",
    "\n",
    "    gtex_summary_df = pd.concat([total_genes_count,high_corr_both,high_gtex_low_tcga],axis=0)\n",
    "\n",
    "    del total_genes_count,high_corr_both, high_gtex_low_tcga\n",
    "\n",
    "\n",
    "    #table for tcga primtum cutoffmet\n",
    "\n",
    "    total_genes_count=pd.DataFrame(data=[[tcga_primtum_cutoffmet_other_corr.shape[0],\n",
    "                                          tcga_primtum_cutoffmet_other_corr.shape[0]]],\n",
    "                                   index=['total_genes_each'],\n",
    "                 columns=['pearson_gtex','TCGA_allprimtum_cutoffmet'])\n",
    "    high_corr_both=pd.DataFrame(data=[[tcga_primtum_cutoffmet_other_corr[(tcga_primtum_cutoffmet_other_corr.gtex_corr>=pearson_cutoff)].shape[0],\n",
    "                                          tcga_primtum_cutoffmet_other_corr[(tcga_primtum_cutoffmet_other_corr.gtex_corr>=pearson_cutoff)].shape[0]]],\n",
    "                                   index=['high_pos_corr_both'],\n",
    "                 columns=['pearson_gtex','TCGA_allprimtum_cutoffmet'])\n",
    "    #here low includes negative tcga\n",
    "    high_tcga_low_gtex=pd.DataFrame(data=[[tcga_primtum_cutoffmet_other_corr[(tcga_primtum_cutoffmet_other_corr.gtex_corr<=opposing_corr_cutoff)].shape[0],\n",
    "                                          tcga_primtum_cutoffmet_other_corr[(tcga_primtum_cutoffmet_other_corr.gtex_corr<=opposing_corr_cutoff)].shape[0]]],\n",
    "                                   index=['high_tcga_low_gtex'],\n",
    "                 columns=['pearson_gtex','TCGA_allprimtum_cutoffmet'])\n",
    "\n",
    "    tcga_summary_primtum_df = pd.concat([total_genes_count,high_corr_both,high_tcga_low_gtex],axis=0)\n",
    "\n",
    "    del total_genes_count,high_corr_both, high_tcga_low_gtex\n",
    "    \n",
    "    #table for tcga normal cutoffmet\n",
    "\n",
    "    total_genes_count=pd.DataFrame(data=[[tcga_normal_cutoffmet_other_corr.shape[0],\n",
    "                                          tcga_normal_cutoffmet_other_corr.shape[0]]],\n",
    "                                   index=['total_genes_each'],\n",
    "                 columns=['pearson_gtex','TCGA_allnormal_cutoffmet'])\n",
    "    high_corr_both=pd.DataFrame(data=[[tcga_normal_cutoffmet_other_corr[(tcga_normal_cutoffmet_other_corr.gtex_corr>=pearson_cutoff)].shape[0],\n",
    "                                          tcga_normal_cutoffmet_other_corr[(tcga_normal_cutoffmet_other_corr.gtex_corr>=pearson_cutoff)].shape[0]]],\n",
    "                                   index=['high_pos_corr_both'],\n",
    "                 columns=['pearson_gtex','TCGA_allnormal_cutoffmet'])\n",
    "    #here low includes negative tcga\n",
    "    high_tcga_low_gtex=pd.DataFrame(data=[[tcga_normal_cutoffmet_other_corr[(tcga_normal_cutoffmet_other_corr.gtex_corr<=opposing_corr_cutoff)].shape[0],\n",
    "                                          tcga_normal_cutoffmet_other_corr[(tcga_normal_cutoffmet_other_corr.gtex_corr<=opposing_corr_cutoff)].shape[0]]],\n",
    "                                   index=['high_tcga_low_gtex'],\n",
    "                 columns=['pearson_gtex','TCGA_allnormal_cutoffmet'])\n",
    "\n",
    "    tcga_summary_normal_df = pd.concat([total_genes_count,high_corr_both,high_tcga_low_gtex],axis=0)\n",
    "\n",
    "    del total_genes_count,high_corr_both, high_tcga_low_gtex\n",
    "    \n",
    "    #table for tcga normal cutoffmet\n",
    "\n",
    "    total_genes_count=pd.DataFrame(data=[[gtex_cutoffmet_other_corr_triple.shape[0],\n",
    "                                          gtex_cutoffmet_other_corr_triple.shape[0],\n",
    "                                         gtex_cutoffmet_other_corr_triple.shape[0]]],\n",
    "                                   index=['total_genes_each'],\n",
    "                 columns=['ITGA7_gtex_cutoffmet','TCGA_normal_corresponding_toGTEX','TCGA_allprimtum'])\n",
    "    high_corr_all=pd.DataFrame(data=[[gtex_cutoffmet_other_corr_triple[(gtex_cutoffmet_other_corr_triple.TCGA_normal_corresponding_toGTEX>=pearson_cutoff)  & (gtex_cutoffmet_other_corr_triple.TCGA_allprimtum>=pearson_cutoff)].shape[0],\n",
    "                                      gtex_cutoffmet_other_corr_triple[(gtex_cutoffmet_other_corr_triple.TCGA_normal_corresponding_toGTEX>=pearson_cutoff)  & (gtex_cutoffmet_other_corr_triple.TCGA_allprimtum>=pearson_cutoff)].shape[0],\n",
    "                                          gtex_cutoffmet_other_corr_triple[(gtex_cutoffmet_other_corr_triple.TCGA_normal_corresponding_toGTEX>=pearson_cutoff)  & (gtex_cutoffmet_other_corr_triple.TCGA_allprimtum>=pearson_cutoff)].shape[0]]],\n",
    "                                   index=['high_pos_corr_both'],\n",
    "                 columns=['ITGA7_gtex_cutoffmet','TCGA_normal_corresponding_toGTEX','TCGA_allprimtum'])\n",
    "\n",
    "    high_gtex_low_tcga_normal=pd.DataFrame(data=[[gtex_cutoffmet_other_corr_triple[(gtex_cutoffmet_other_corr_triple.TCGA_normal_corresponding_toGTEX<=opposing_corr_cutoff)].shape[0],\n",
    "                                      gtex_cutoffmet_other_corr_triple[(gtex_cutoffmet_other_corr_triple.TCGA_normal_corresponding_toGTEX<=opposing_corr_cutoff)].shape[0],\n",
    "                                          gtex_cutoffmet_other_corr_triple[(gtex_cutoffmet_other_corr_triple.TCGA_normal_corresponding_toGTEX<=opposing_corr_cutoff)].shape[0]]],\n",
    "                                   index=['high_gtex_tcga_normal_low_ignore_tcga_primtum'],\n",
    "                 columns=['ITGA7_gtex_cutoffmet','TCGA_normal_corresponding_toGTEX','TCGA_allprimtum'])\n",
    "\n",
    "\n",
    "    tcga_summary_normal_triple_df = pd.concat([total_genes_count,high_corr_all,high_gtex_low_tcga_normal],axis=0)\n",
    "\n",
    "    del total_genes_count,high_corr_all, high_gtex_low_tcga_normal\n",
    "    \n",
    "\n",
    "    return print(gtex_summary_df,'\\n',tcga_summary_primtum_df, '\\n', tcga_summary_normal_df,\n",
    "                '\\n',tcga_summary_normal_triple_df)\n",
    "\n",
    "\n",
    "\n",
    "    \n"
   ]
  },
  {
   "cell_type": "code",
   "execution_count": 14,
   "metadata": {},
   "outputs": [
    {
     "ename": "NameError",
     "evalue": "name 'gtex_tcga_gene_correlation_analysis' is not defined",
     "output_type": "error",
     "traceback": [
      "\u001b[0;31m---------------------------------------------------------------------------\u001b[0m",
      "\u001b[0;31mNameError\u001b[0m                                 Traceback (most recent call last)",
      "\u001b[0;32m<ipython-input-14-acec2a92d7a2>\u001b[0m in \u001b[0;36m<module>\u001b[0;34m()\u001b[0m\n\u001b[1;32m      7\u001b[0m \u001b[0mopposing_corr_cutoff\u001b[0m \u001b[0;34m=\u001b[0m \u001b[0;36m0.1\u001b[0m\u001b[0;34m\u001b[0m\u001b[0m\n\u001b[1;32m      8\u001b[0m \u001b[0;34m\u001b[0m\u001b[0m\n\u001b[0;32m----> 9\u001b[0;31m gtex_tcga_gene_correlation_analysis(gtex_gct_dataset,interest_gene,correlation_method,correlation_cutoff,\n\u001b[0m\u001b[1;32m     10\u001b[0m                                        tcga_hiseq_dataset,tcga_hiseq_corresponding_sample_info,opposing_corr_cutoff)\n",
      "\u001b[0;31mNameError\u001b[0m: name 'gtex_tcga_gene_correlation_analysis' is not defined"
     ]
    }
   ],
   "source": [
    "gtex_gct_dataset = 'gene_tpm_2017-06-05_v8_breast_mammary_tissue.gct_2'\n",
    "interest_gene = 'ITGA7'\n",
    "correlation_method ='pearson'\n",
    "correlation_cutoff = 0.6\n",
    "tcga_hiseq_dataset = '/home/hshadman/integrins_expression/saghar_TCGA_Breast/TCGA_BRCA_HiSeqV2' \n",
    "tcga_hiseq_corresponding_sample_info = '/home/hshadman/integrins_expression/saghar_TCGA_Breast/TCGA.BRCA.sampleMap_BRCA_clinicalMatrix'\n",
    "opposing_corr_cutoff = 0.1\n",
    "\n",
    "gtex_tcga_gene_correlation_analysis(gtex_gct_dataset,interest_gene,correlation_method,correlation_cutoff,\n",
    "                                       tcga_hiseq_dataset,tcga_hiseq_corresponding_sample_info,opposing_corr_cutoff)\n",
    "\n"
   ]
  },
  {
   "cell_type": "code",
   "execution_count": 33,
   "metadata": {},
   "outputs": [
    {
     "name": "stdout",
     "output_type": "stream",
     "text": [
      "                    gtex_cutoffmet  TCGA_allprimtum\n",
      "total_genes_each              1167             1167\n",
      "high_pos_corr_both               1                1\n",
      "high_gtex_low_tcga             711              711 \n",
      "                     pearson_gtex  TCGA_allprimtum_cutoffmet\n",
      "total_genes_each               1                          1\n",
      "high_pos_corr_both             1                          1\n",
      "high_tcga_low_gtex             0                          0 \n",
      "                     pearson_gtex  TCGA_allnormal_cutoffmet\n",
      "total_genes_each            1689                      1689\n",
      "high_pos_corr_both           649                       649\n",
      "high_tcga_low_gtex            25                        25 \n",
      "                                                ITGA7_gtex_cutoffmet  \\\n",
      "total_genes_each                                               1167   \n",
      "high_pos_corr_both                                                1   \n",
      "high_gtex_tcga_normal_low_ignore_tcga_primtum                    19   \n",
      "\n",
      "                                               TCGA_normal_corresponding_toGTEX  \\\n",
      "total_genes_each                                                           1167   \n",
      "high_pos_corr_both                                                            1   \n",
      "high_gtex_tcga_normal_low_ignore_tcga_primtum                                19   \n",
      "\n",
      "                                               TCGA_allprimtum  \n",
      "total_genes_each                                          1167  \n",
      "high_pos_corr_both                                           1  \n",
      "high_gtex_tcga_normal_low_ignore_tcga_primtum               19  \n"
     ]
    }
   ],
   "source": [
    "gtex_gct_dataset = 'gene_tpm_2017-06-05_v8_breast_mammary_tissue.gct_2'\n",
    "interest_gene = 'ITGB6'\n",
    "correlation_method ='pearson'\n",
    "correlation_cutoff = 0.6\n",
    "tcga_hiseq_dataset = '/home/hshadman/integrins_expression/saghar_TCGA_Breast/TCGA_BRCA_HiSeqV2' \n",
    "tcga_hiseq_corresponding_sample_info = '/home/hshadman/integrins_expression/saghar_TCGA_Breast/TCGA.BRCA.sampleMap_BRCA_clinicalMatrix'\n",
    "opposing_corr_cutoff = 0.1\n",
    "\n",
    "gtex_tcga_gene_correlation_analysis(gtex_gct_dataset,interest_gene,correlation_method,correlation_cutoff,\n",
    "                                       tcga_hiseq_dataset,tcga_hiseq_corresponding_sample_info,opposing_corr_cutoff)\n",
    "\n"
   ]
  },
  {
   "cell_type": "code",
   "execution_count": 10,
   "metadata": {},
   "outputs": [
    {
     "name": "stdout",
     "output_type": "stream",
     "text": [
      "AGRN\n",
      "C1orf159\n",
      "ATAD3C\n",
      "PRKCZ\n",
      "MORN1\n",
      "PLCH2\n",
      "TP73\n",
      "PHF13\n",
      "GPR157\n",
      "CASZ1\n",
      "FBXO44\n",
      "DNAJC16\n",
      "ARHGEF19\n",
      "TMCO4\n",
      "UBXN10\n",
      "PAQR7\n",
      "PDIK1L\n",
      "CNKSR1\n",
      "GPN2\n",
      "SLC9A1\n",
      "SYTL1\n",
      "IQCC\n",
      "DCDC2B\n",
      "BSDC1\n",
      "KIAA1522\n",
      "SFPQ\n",
      "KIAA0319L\n",
      "COL8A2\n",
      "MEAF6\n",
      "PPIEL\n",
      "HIVEP3\n",
      "CCDC30\n",
      "FAM183A\n",
      "TMEM125\n",
      "C1orf210\n",
      "DMAP1\n",
      "ZSWIM5\n",
      "FGGY\n",
      "HOOK1\n",
      "VAV3\n",
      "KIAA1324\n",
      "ST7L\n",
      "CD101\n",
      "NUDT17\n",
      "PIAS3\n",
      "PEX11B\n",
      "GNRHR2\n",
      "ACP6\n",
      "ZNF687\n",
      "CGN\n",
      "TUFT1\n",
      "RORC\n",
      "S100A14\n",
      "DCST2\n",
      "DCST1\n",
      "EFNA3\n",
      "MSTO2P\n",
      "RAB25\n",
      "IGSF9\n",
      "PIGM\n",
      "DCAF8\n",
      "USP21\n",
      "NOS1AP\n",
      "C1orf226\n",
      "SCYL3\n",
      "QSOX1\n",
      "ACBD6\n",
      "DDX59\n",
      "TMEM9\n",
      "CSRP1\n",
      "ELF3\n",
      "PLEKHA6\n",
      "LRRN2\n",
      "HHAT\n",
      "FLVCR1\n",
      "GPATCH2\n",
      "SUSD4\n",
      "NVL\n",
      "TRIM11\n",
      "KCNK1\n",
      "FAM110C\n",
      "MBOAT2\n",
      "KCNS3\n",
      "TTC32\n",
      "KRTCAP3\n",
      "C2orf16\n",
      "TTC27\n",
      "HEATR5B\n",
      "PREPL\n",
      "AHSA2\n",
      "AFTPH\n",
      "ATP6V1B1\n",
      "FBXO41\n",
      "STAMBP\n",
      "SLC4A5\n",
      "INO80B\n",
      "C2orf68\n",
      "PTCD3\n",
      "PROM2\n",
      "FAHD2A\n",
      "SNRNP200\n",
      "CNNM4\n",
      "CNNM3\n",
      "ANKRD39\n",
      "TMEM131\n",
      "C2orf15\n",
      "GCC2\n",
      "BCL2L11\n",
      "TMEM87B\n",
      "ZC3H8\n",
      "CBWD2\n",
      "RABL2A\n",
      "TMEM177\n",
      "EPB41L5\n",
      "ERCC3\n",
      "HS6ST1\n",
      "SMPD4\n",
      "SPOPL\n",
      "GPD2\n",
      "TTC21B\n",
      "LRP2\n",
      "CIR1\n",
      "TTC30B\n",
      "TTC30A\n",
      "DNAH7\n",
      "NOP58\n",
      "STK36\n",
      "ANKZF1\n",
      "OBSL1\n",
      "STK11IP\n",
      "ACSL3\n",
      "IRS1\n",
      "ARMC9\n",
      "DIS3L2\n",
      "TIGD1\n",
      "GIGYF2\n",
      "SH3BP4\n",
      "RAB17\n",
      "PER2\n",
      "ANKMY1\n",
      "PASK\n",
      "ING5\n",
      "D2HGDH\n",
      "EDEM1\n",
      "SRGAP3\n",
      "FANCD2\n",
      "TATDN2\n",
      "NUP210\n",
      "XPC\n",
      "CAPN7\n",
      "ZNF860\n",
      "CNOT10\n",
      "EPM2AIP1\n",
      "CTDSPL\n",
      "LZTFL1\n",
      "PRSS45\n",
      "NBEAL2\n",
      "DHX30\n",
      "PLXNB1\n",
      "IP6K2\n",
      "P4HTM\n",
      "WDR6\n",
      "QRICH1\n",
      "USP19\n",
      "AMT\n",
      "NICN1\n",
      "MST1R\n",
      "CYB561D2\n",
      "HEMK1\n",
      "NISCH\n",
      "FHIT\n",
      "SLC25A26\n",
      "GPR27\n",
      "NSUN3\n",
      "NFKBIZ\n",
      "GRAMD1C\n",
      "GOLGB1\n",
      "ILDR1\n",
      "WDR5B\n",
      "ZXDC\n",
      "PODXL2\n",
      "ALG1L2\n",
      "CEP70\n",
      "C3orf33\n",
      "LEKR1\n",
      "TNIK\n",
      "EIF2B5\n",
      "MAGEF1\n",
      "LIPH\n",
      "LMLN\n",
      "ZNF141\n",
      "ZNF721\n",
      "PIGG\n",
      "PDE6B\n",
      "PCGF3\n",
      "GAK\n",
      "RGS12\n",
      "DCAF16\n",
      "PCDH7\n",
      "RFC1\n",
      "N4BP2\n",
      "RBM47\n",
      "SLC30A9\n",
      "TEC\n",
      "USP46\n",
      "FIP1L1\n",
      "AASDH\n",
      "PPAT\n",
      "YTHDC1\n",
      "MTHFD2L\n",
      "RCHY1\n",
      "THAP6\n",
      "CDKL2\n",
      "SHROOM3\n",
      "CCNG2\n",
      "HNRNPD\n",
      "CDS1\n",
      "ARHGEF38\n",
      "AIMP1\n",
      "EGF\n",
      "AP1AR\n",
      "METTL14\n",
      "INTU\n",
      "MFSD8\n",
      "MAML3\n",
      "MMAA\n",
      "LRBA\n",
      "TIGD4\n",
      "FHDC1\n",
      "TMEM144\n",
      "CBR4\n",
      "CLCN3\n",
      "CDKN2AIP\n",
      "C4orf47\n",
      "EXOC3\n",
      "CEP72\n",
      "BRD9\n",
      "SDHAP3\n",
      "IRX2\n",
      "C5orf38\n",
      "SEMA5A\n",
      "MARCH6\n",
      "WDR70\n",
      "PARP8\n",
      "GPBP1\n",
      "MARVELD2\n",
      "ANKRA2\n",
      "FAM169A\n",
      "IQGAP2\n",
      "PAPD4\n",
      "CMYA5\n",
      "MTX3\n",
      "SSBP2\n",
      "TMEM161B\n",
      "MBLAC2\n",
      "PPIP5K2\n",
      "DCP2\n",
      "YTHDC2\n",
      "DMXL1\n",
      "ALDH7A1\n",
      "SLC12A2\n",
      "RAPGEF6\n",
      "SLC22A5\n",
      "RAD50\n",
      "KIF3A\n",
      "FAM13B\n",
      "BRD8\n",
      "CDC23\n",
      "KDM3B\n",
      "PSD2\n",
      "ANKHD1\n",
      "APBB3\n",
      "FCHSD1\n",
      "CSNK1A1\n",
      "ARHGEF37\n",
      "TIGD6\n",
      "RBM22\n",
      "WWC1\n",
      "RNF44\n",
      "ZNF346\n",
      "RAB24\n",
      "GRK6\n",
      "HNRNPH1\n",
      "ZFP62\n",
      "WRNIP1\n",
      "SNRNP48\n",
      "TFAP2A\n",
      "HIST1H2BN\n",
      "ZNF165\n",
      "TRIM27\n",
      "RNF39\n",
      "TRIM26\n",
      "TRIM39\n",
      "PRR3\n",
      "DHX16\n",
      "DDR1\n",
      "CCHCR1\n",
      "EHMT2\n",
      "ATF6B\n",
      "BRD2\n",
      "RXRB\n",
      "VPS52\n",
      "PHF1\n",
      "ZNF76\n",
      "DEF6\n",
      "TULP1\n",
      "MAPK13\n",
      "BRPF3\n",
      "BTBD9\n",
      "C6orf132\n",
      "KLC4\n",
      "CUL9\n",
      "ABCC10\n",
      "SLC35B2\n",
      "ENPP5\n",
      "EFHC1\n",
      "ICK\n",
      "MYO6\n",
      "SLC35A1\n",
      "KLHL32\n",
      "AIM1\n",
      "CD24\n",
      "PPIL6\n",
      "TSPYL4\n",
      "TSPYL1\n",
      "TPD52L1\n",
      "MAP7\n",
      "NUP43\n",
      "SYNJ2\n",
      "EZR\n",
      "RSPH3\n",
      "FGFR1OP\n",
      "WDR27\n",
      "TCTE3\n",
      "COX19\n",
      "MICALL2\n",
      "CARD11\n",
      "TNRC18\n",
      "PMS2\n",
      "GRID2IP\n",
      "PMS2CL\n",
      "TRA2A\n",
      "AVL9\n",
      "GLI3\n",
      "POLM\n",
      "TMED4\n",
      "COBL\n",
      "ZNF138\n",
      "CCT6P1\n",
      "TYW1\n",
      "ABHD11\n",
      "CLDN3\n",
      "CLDN4\n",
      "GTF2IRD1\n",
      "PCLO\n",
      "GATAD1\n",
      "PEX1\n",
      "ZNF655\n",
      "TRIM4\n",
      "ZNF3\n",
      "TSC22D4\n",
      "LRCH4\n",
      "SRRT\n",
      "FAM185A\n",
      "DUS4L\n",
      "TRIM24\n",
      "MKRN1\n",
      "TAS2R4\n",
      "TAS2R5\n",
      "EPHA1\n",
      "CTAGE4\n",
      "ZNF282\n",
      "ZNF212\n",
      "ZNF777\n",
      "KRBA1\n",
      "ACTR3C\n",
      "AGAP3\n",
      "PAXIP1\n",
      "FAM167A\n",
      "FBXO16\n",
      "KIF13B\n",
      "RAB11FIP1\n",
      "IKBKB\n",
      "TMEM68\n",
      "UBXN2B\n",
      "C8orf44\n",
      "CSPP1\n",
      "ARFGEF1\n",
      "TMEM67\n",
      "ESRP1\n",
      "GRHL2\n",
      "SAMD12\n",
      "MAL2\n",
      "ZHX2\n",
      "FAM84B\n",
      "PVT1\n",
      "TRAPPC9\n",
      "SLC45A4\n",
      "TSNARE1\n",
      "ZNF623\n",
      "MAPK15\n",
      "FAM83H\n",
      "SCRIB\n",
      "EPPK1\n",
      "ARHGAP39\n",
      "ZNF517\n",
      "ZNF7\n",
      "ZNF250\n",
      "IFT74\n",
      "APTX\n",
      "NFX1\n",
      "PIGO\n",
      "CDK20\n",
      "SECISBP2\n",
      "AUH\n",
      "ROR2\n",
      "ZNF782\n",
      "NCBP1\n",
      "STX17\n",
      "SNX30\n",
      "WDR31\n",
      "BSPRY\n",
      "HDHD3\n",
      "ZBTB26\n",
      "RABGAP1\n",
      "STRBP\n",
      "LMX1B\n",
      "RALGPS1\n",
      "PIP5KL1\n",
      "FAM102A\n",
      "COQ4\n",
      "ZER1\n",
      "ASB6\n",
      "USP20\n",
      "POMT1\n",
      "DDX31\n",
      "GTF3C5\n",
      "SNAPC4\n",
      "TRAF2\n",
      "ENTPD2\n",
      "MAN1B1\n",
      "ANAPC2\n",
      "NOXA1\n",
      "ARRDC1\n",
      "NEBL\n",
      "KIAA1217\n",
      "BAMBI\n",
      "PARG\n",
      "CCDC6\n",
      "RUFY2\n",
      "CCAR1\n",
      "C10orf35\n",
      "H2AFY2\n",
      "DNAJB12\n",
      "SEC24C\n",
      "DLG5\n",
      "POLR3A\n",
      "ATAD1\n",
      "HECTD2\n",
      "TNKS2\n",
      "CPEB3\n",
      "MARCH5\n",
      "MMS19\n",
      "MORN4\n",
      "ZFYVE27\n",
      "SEC31B\n",
      "POLL\n",
      "C10orf76\n",
      "LDB1\n",
      "GBF1\n",
      "GSTO2\n",
      "PDCD4\n",
      "ZDHHC6\n",
      "TIAL1\n",
      "FAM24B\n",
      "PSTK\n",
      "IKZF5\n",
      "CTBP2\n",
      "FANK1\n",
      "TUBGCP2\n",
      "BET1L\n",
      "PKP3\n",
      "ANO9\n",
      "RASSF7\n",
      "EPS8L2\n",
      "NAP1L4\n",
      "PGAP2\n",
      "TRIM68\n",
      "ZNF214\n",
      "PPFIBP2\n",
      "TMEM41B\n",
      "WEE1\n",
      "ZBED5\n",
      "SAAL1\n",
      "ZDHHC13\n",
      "FANCF\n",
      "SVIP\n",
      "CCDC34\n",
      "DCDC1\n",
      "PRRG4\n",
      "CSTF3\n",
      "FBXO3\n",
      "LRRC4C\n",
      "AMBRA1\n",
      "C11orf49\n",
      "PACSIN3\n",
      "DDB2\n",
      "KBTBD4\n",
      "OSBP\n",
      "STX3\n",
      "MARK2\n",
      "CCDC88B\n",
      "SF1\n",
      "MRPL49\n",
      "CAPN1\n",
      "DPF2\n",
      "KAT5\n",
      "PACS1\n",
      "BBS1\n",
      "RBM4B\n",
      "SPTBN2\n",
      "C11orf80\n",
      "SYT12\n",
      "KDM2A\n",
      "SSH3\n",
      "RAD9A\n",
      "CHKA\n",
      "ORAOV1\n",
      "ANO1\n",
      "RNF121\n",
      "NUMA1\n",
      "INPPL1\n",
      "C2CD3\n",
      "PAK1\n",
      "INTS4\n",
      "ANKRD42\n",
      "CREBZF\n",
      "AASDHPPT\n",
      "C11orf52\n",
      "TTC12\n",
      "ANKK1\n",
      "SORL1\n",
      "ARHGAP32\n",
      "SCNN1A\n",
      "VAMP1\n",
      "FAM66C\n",
      "MAGOHB\n",
      "ALG10\n",
      "ALG10B\n",
      "PPHLN1\n",
      "PUS7L\n",
      "ARID2\n",
      "RPAP3\n",
      "TMEM106C\n",
      "DDX23\n",
      "PRPF40B\n",
      "DIP2B\n",
      "LETMD1\n",
      "TFCP2\n",
      "SCN8A\n",
      "KRT8\n",
      "RARG\n",
      "COPZ1\n",
      "RAB5B\n",
      "ERBB3\n",
      "SMARCC2\n",
      "PAN2\n",
      "SPRYD4\n",
      "GLS2\n",
      "MBD6\n",
      "PIP4K2C\n",
      "DTX3\n",
      "C12orf66\n",
      "CAND1\n",
      "MDM1\n",
      "FRS2\n",
      "RAB3IP\n",
      "ZFC3H1\n",
      "ATXN7L3B\n",
      "KRR1\n",
      "ACTR6\n",
      "DEPDC4\n",
      "BTBD11\n",
      "SART3\n",
      "TCHP\n",
      "C12orf76\n",
      "ACAD10\n",
      "MAPKAPK5\n",
      "TMEM116\n",
      "TPCN1\n",
      "RBM19\n",
      "FBXO21\n",
      "RFC5\n",
      "SUDS3\n",
      "BCL7A\n",
      "ZCCHC8\n",
      "RSRC2\n",
      "VPS37B\n",
      "ABCB9\n",
      "OGFOD2\n",
      "C12orf65\n",
      "TCTN2\n",
      "EP400\n",
      "DDX51\n",
      "FBRSL1\n",
      "ZNF26\n",
      "ZNF84\n",
      "ZNF140\n",
      "ZNF10\n",
      "PSPC1\n",
      "COG3\n",
      "TRIM13\n",
      "NEK5\n",
      "VPS36\n",
      "GRTP1\n",
      "OSGEP\n",
      "CHD8\n",
      "METTL3\n",
      "SALL2\n",
      "RBM23\n",
      "PPP1R3E\n",
      "AP1G2\n",
      "RABGGTA\n",
      "DHRS1\n",
      "EAPP\n",
      "RALGAPA1\n",
      "TRAPPC6B\n",
      "PNN\n",
      "CTAGE5\n",
      "PRPF39\n",
      "TXNDC16\n",
      "NAA30\n",
      "SIX4\n",
      "TMEM30B\n",
      "ZBTB25\n",
      "PLEKHG3\n",
      "RAB15\n",
      "PLEKHH1\n",
      "EXD2\n",
      "MED6\n",
      "TTC9\n",
      "MLH3\n",
      "TTLL5\n",
      "POMT2\n",
      "ZC3H14\n",
      "EML5\n",
      "TTC8\n",
      "TDP1\n",
      "RPS6KA5\n",
      "CATSPERB\n",
      "TC2N\n",
      "CCDC85C\n",
      "SLC25A29\n",
      "BEGAIN\n",
      "ZNF839\n",
      "TECPR2\n",
      "PLD4\n",
      "C14orf79\n",
      "BRF1\n",
      "MTA1\n",
      "UBE3A\n",
      "FMN1\n",
      "GOLGA8B\n",
      "PAK6\n",
      "IVD\n",
      "BAHD1\n",
      "DNAJC17\n",
      "SPINT1\n",
      "INO80\n",
      "MAPKBP1\n",
      "TMEM87A\n",
      "CDAN1\n",
      "TP53BP1\n",
      "PPIP5K1\n",
      "CKMT1B\n",
      "STRC\n",
      "CATSPER2\n",
      "ELL3\n",
      "SPG11\n",
      "MYEF2\n",
      "USP8\n",
      "GNB5\n",
      "TEX9\n",
      "ZNF609\n",
      "PARP16\n",
      "FEM1B\n",
      "PARP6\n",
      "BBS4\n",
      "NPTN\n",
      "CLK3\n",
      "NEIL1\n",
      "SIN3A\n",
      "FBXO22\n",
      "WHAMM\n",
      "WDR73\n",
      "DET1\n",
      "SEMA4B\n",
      "IGF1R\n",
      "LINS1\n",
      "AXIN1\n",
      "RAB40C\n",
      "WDR90\n",
      "FBXL16\n",
      "LMF1\n",
      "UNKL\n",
      "IFT140\n",
      "TSC2\n",
      "TBC1D24\n",
      "SRRM2\n",
      "PRSS22\n",
      "ZNF213\n",
      "ZNF263\n",
      "TFAP4\n",
      "NMRAL1\n",
      "ZNF500\n",
      "PARN\n",
      "PDXDC1\n",
      "THUMPD1\n",
      "COG7\n",
      "GGA2\n",
      "KIAA0556\n",
      "SBK1\n",
      "ATXN2L\n",
      "NFATC2IP\n",
      "KIF22\n",
      "ZNF785\n",
      "FBRS\n",
      "SRCAP\n",
      "PHKG2\n",
      "RNF40\n",
      "FBXL19\n",
      "ZNF646\n",
      "PRSS8\n",
      "C16orf58\n",
      "ZNF720\n",
      "LONP2\n",
      "N4BP1\n",
      "FTO\n",
      "BBS2\n",
      "FAM192A\n",
      "RSPRY1\n",
      "KATNB1\n",
      "CCDC113\n",
      "SETD6\n",
      "CMTM4\n",
      "ELMO3\n",
      "CTCF\n",
      "EDC4\n",
      "ESRP2\n",
      "CDH1\n",
      "FUK\n",
      "WDR59\n",
      "MTHFSD\n",
      "KLHDC4\n",
      "BANP\n",
      "ACSF3\n",
      "GAS8\n",
      "DPH1\n",
      "SMG6\n",
      "SGSM2\n",
      "RAP1GAP2\n",
      "PELP1\n",
      "C17orf107\n",
      "GP1BA\n",
      "RPAIN\n",
      "C17orf100\n",
      "CLDN7\n",
      "NEURL4\n",
      "TNK1\n",
      "TP53\n",
      "ALOXE3\n",
      "MYH3\n",
      "TTC19\n",
      "RAI1\n",
      "SMCR8\n",
      "PRPSAP2\n",
      "SARM1\n",
      "SLC13A2\n",
      "NEK8\n",
      "TRAF4\n",
      "PHF12\n",
      "GOSR1\n",
      "ZNF830\n",
      "LIG3\n",
      "RFFL\n",
      "SYNRG\n",
      "MLLT6\n",
      "CACNB1\n",
      "CDK12\n",
      "GRB7\n",
      "JUP\n",
      "ATP6V0A1\n",
      "NBR2\n",
      "NBR1\n",
      "DCAKD\n",
      "SP2\n",
      "PNPO\n",
      "PRR15L\n",
      "CDK5RAP3\n",
      "SKAP1\n",
      "ITGA3\n",
      "XYLT2\n",
      "ABCC3\n",
      "LUC7L3\n",
      "MBTD1\n",
      "TOM1L1\n",
      "COIL\n",
      "AKAP1\n",
      "MSI2\n",
      "VEZF1\n",
      "MKS1\n",
      "RNF43\n",
      "MTMR4\n",
      "GDPD1\n",
      "TUBD1\n",
      "TLK2\n",
      "CYB561\n",
      "ERN1\n",
      "POLG2\n",
      "BPTF\n",
      "SLC16A5\n",
      "TSEN54\n",
      "LLGL2\n",
      "RECQL5\n",
      "SAP30BP\n",
      "H3F3B\n",
      "UNK\n",
      "EVPL\n",
      "UBE2O\n",
      "ST6GALNAC2\n",
      "SEPT9\n",
      "CBX4\n",
      "SGSH\n",
      "FSCN2\n",
      "CCDC57\n",
      "ENOSF1\n",
      "TGIF1\n",
      "VAPA\n",
      "LAMA3\n",
      "ZNF24\n",
      "ELP2\n",
      "MBD1\n",
      "NEDD4L\n",
      "SEC11C\n",
      "PIGN\n",
      "KIAA1468\n",
      "SOCS6\n",
      "ZNF516\n",
      "HSBP1L1\n",
      "CIRBP\n",
      "SCAMP4\n",
      "SF3A2\n",
      "SPPL2B\n",
      "ZNF554\n",
      "ZNF57\n",
      "GNA11\n",
      "CELF5\n",
      "FZR1\n",
      "C19orf71\n",
      "TJP3\n",
      "STAP2\n",
      "GTF2F1\n",
      "CRB3\n",
      "GPR108\n",
      "SH2D3A\n",
      "XAB2\n",
      "STXBP2\n",
      "LRRC8E\n",
      "MAP2K7\n",
      "ZNF266\n",
      "AP1M2\n",
      "SMARCA4\n",
      "ZNF653\n",
      "ZNF440\n",
      "ZNF433\n",
      "ZNF844\n",
      "ZNF20\n",
      "ZNF136\n",
      "ZNF709\n",
      "ZNF564\n",
      "FBXW9\n",
      "MAST1\n",
      "CCDC130\n",
      "C19orf57\n",
      "CC2D1A\n",
      "PODNL1\n",
      "DCAF15\n",
      "RFX1\n",
      "CHERP\n",
      "MED26\n",
      "UPF1\n",
      "ATP13A1\n",
      "ZNF14\n",
      "ZNF506\n",
      "ZNF253\n",
      "ZNF737\n",
      "ZNF85\n",
      "ZNF493\n",
      "ZNF429\n",
      "ZNF43\n",
      "ZNF91\n",
      "ZNF675\n",
      "ZNF681\n",
      "HAUS5\n",
      "ZFP14\n",
      "HKR1\n",
      "ZNF607\n",
      "SIPA1L3\n",
      "SPINT2\n",
      "MED29\n",
      "SUPT5H\n",
      "C19orf47\n",
      "CCDC97\n",
      "ZNF574\n",
      "DEDD2\n",
      "ZNF526\n",
      "CIC\n",
      "PHLDB3\n",
      "XRCC1\n",
      "IRGQ\n",
      "CADM4\n",
      "ZNF45\n",
      "ZNF230\n",
      "ZNF224\n",
      "ZNF226\n",
      "ZNF229\n",
      "CBLC\n",
      "ZNF296\n",
      "NKPD1\n",
      "ERCC2\n",
      "PPM1N\n",
      "EML2\n",
      "FBXO46\n",
      "SYMPK\n",
      "BBC3\n",
      "DHX34\n",
      "LIG1\n",
      "KCNJ14\n",
      "LMTK3\n",
      "NTN5\n",
      "SNRNP70\n",
      "PRRG2\n",
      "MED25\n",
      "ZNF841\n",
      "ZNF836\n",
      "ZNF766\n",
      "ZNF528\n",
      "ZNF83\n",
      "ZNF525\n",
      "CNOT3\n",
      "TMC4\n",
      "LENG8\n",
      "RDH13\n",
      "EPS8L1\n",
      "ZNF444\n",
      "VN1R1\n",
      "ZNF549\n",
      "ZNF550\n",
      "ZNF134\n",
      "ZNF776\n",
      "ZNF586\n",
      "ZNF587\n",
      "ZNF417\n",
      "ZNF418\n",
      "ZNF606\n",
      "ZSCAN18\n",
      "ZNF274\n",
      "ZNF544\n",
      "ZNF497\n",
      "ZNF837\n",
      "ZNF324B\n",
      "ZNF324\n",
      "ZNF446\n",
      "ZBTB45\n",
      "MZF1\n",
      "ZNF343\n",
      "UBOX5\n",
      "OVOL2\n",
      "ZNF133\n",
      "SEC23B\n",
      "ENTPD6\n",
      "TM9SF4\n",
      "C20orf203\n",
      "CDK5RAP1\n",
      "CBFA2T2\n",
      "NCOA6\n",
      "GGT7\n",
      "GSS\n",
      "MMP24\n",
      "CEP250\n",
      "RBM12\n",
      "RBM39\n",
      "TGIF2\n",
      "CHD6\n",
      "PABPC1L\n",
      "SDC4\n",
      "TP53TG5\n",
      "DNTTIP1\n",
      "ZNF335\n",
      "SLC35C2\n",
      "ARFGEF2\n",
      "DDX27\n",
      "RNF114\n",
      "ADNP\n",
      "CSTF1\n",
      "RAE1\n",
      "STX16\n",
      "LSM14B\n",
      "SS18L1\n",
      "OSBPL2\n",
      "CABLES2\n",
      "DIDO1\n",
      "GMEB2\n",
      "ZNF512B\n",
      "PRPF6\n",
      "RBM11\n",
      "SETD4\n",
      "CHAF1B\n",
      "HLCS\n",
      "HMGN1\n",
      "PRDM15\n",
      "RSPH1\n",
      "DGCR2\n",
      "C22orf29\n",
      "ARVCF\n",
      "TRMT2A\n",
      "ZDHHC8P1\n",
      "SLC2A11\n",
      "SGSM1\n",
      "HPS4\n",
      "NIPSNAP1\n",
      "OSBP2\n",
      "MORC2\n",
      "PATZ1\n",
      "EIF4ENIF1\n",
      "SFI1\n",
      "DEPDC5\n",
      "EIF3D\n",
      "GGA1\n",
      "H1F0\n",
      "POLR2F\n",
      "PICK1\n",
      "RPL3\n",
      "TAB1\n",
      "CACNA1I\n",
      "FAM83F\n",
      "SGSM3\n",
      "EFCAB6\n",
      "BRD1\n",
      "ALG12\n",
      "PANX2\n",
      "TRABD\n",
      "TUBGCP6\n",
      "PLXNB2\n",
      "RABL2B\n",
      "ARSD\n",
      "GPR143\n",
      "TRAPPC2\n",
      "GEMIN8\n",
      "ZRSR2\n",
      "CTPS2\n",
      "REPS2\n",
      "EIF2S3\n",
      "ZFX\n",
      "TAB3\n",
      "KDM6A\n",
      "USP11\n",
      "KDM5C\n",
      "SMC1A\n",
      "RIBC1\n",
      "SPIN3\n",
      "FAAH2\n",
      "ZXDB\n",
      "DLG3\n",
      "ZMYM3\n",
      "NONO\n",
      "CHIC1\n",
      "XIST\n",
      "KIAA2022\n",
      "RPS6KA6\n",
      "ARMCX5\n",
      "BEX4\n",
      "RNF128\n",
      "NUP62CL\n",
      "COL4A5\n",
      "ALG13\n",
      "SLC25A14\n",
      "FAM122B\n",
      "LDOC1\n",
      "BRCC3\n",
      "RAB39B\n"
     ]
    }
   ],
   "source": [
    "print(*gtex_cutoffmet_other_correlations[gtex_cutoffmet_other_correlations.TCGA_allprimtum<=0.1].index.values,sep='\\n')"
   ]
  },
  {
   "cell_type": "code",
   "execution_count": 7,
   "metadata": {},
   "outputs": [
    {
     "ename": "NameError",
     "evalue": "name 'gtex_tcga_gene_correlation_analysis' is not defined",
     "output_type": "error",
     "traceback": [
      "\u001b[0;31m---------------------------------------------------------------------------\u001b[0m",
      "\u001b[0;31mNameError\u001b[0m                                 Traceback (most recent call last)",
      "\u001b[0;32m<ipython-input-7-d43acf958f94>\u001b[0m in \u001b[0;36m<module>\u001b[0;34m()\u001b[0m\n\u001b[1;32m      7\u001b[0m \u001b[0mopposing_corr_cutoff\u001b[0m \u001b[0;34m=\u001b[0m \u001b[0;36m0.1\u001b[0m\u001b[0;34m\u001b[0m\u001b[0m\n\u001b[1;32m      8\u001b[0m \u001b[0;34m\u001b[0m\u001b[0m\n\u001b[0;32m----> 9\u001b[0;31m gtex_tcga_gene_correlation_analysis(gtex_gct_dataset,interest_gene,correlation_method,correlation_cutoff,\n\u001b[0m\u001b[1;32m     10\u001b[0m                                        tcga_hiseq_dataset,tcga_hiseq_corresponding_sample_info,opposing_corr_cutoff)\n",
      "\u001b[0;31mNameError\u001b[0m: name 'gtex_tcga_gene_correlation_analysis' is not defined"
     ]
    }
   ],
   "source": [
    "gtex_gct_dataset = 'gene_tpm_2017-06-05_v8_breast_mammary_tissue.gct_2'\n",
    "interest_gene = 'ITGB8'\n",
    "correlation_method ='pearson'\n",
    "correlation_cutoff = 0.6\n",
    "tcga_hiseq_dataset = '/home/hshadman/integrins_expression/saghar_TCGA_Breast/TCGA_BRCA_HiSeqV2' \n",
    "tcga_hiseq_corresponding_sample_info = '/home/hshadman/integrins_expression/saghar_TCGA_Breast/TCGA.BRCA.sampleMap_BRCA_clinicalMatrix'\n",
    "opposing_corr_cutoff = 0.1\n",
    "\n",
    "gtex_tcga_gene_correlation_analysis(gtex_gct_dataset,interest_gene,correlation_method,correlation_cutoff,\n",
    "                                       tcga_hiseq_dataset,tcga_hiseq_corresponding_sample_info,opposing_corr_cutoff)\n",
    "\n"
   ]
  },
  {
   "cell_type": "code",
   "execution_count": 5,
   "metadata": {},
   "outputs": [
    {
     "ename": "NameError",
     "evalue": "name 'gtex_cutoffmet_other_corr_triple' is not defined",
     "output_type": "error",
     "traceback": [
      "\u001b[0;31m---------------------------------------------------------------------------\u001b[0m",
      "\u001b[0;31mNameError\u001b[0m                                 Traceback (most recent call last)",
      "\u001b[0;32m<ipython-input-5-9850103878b0>\u001b[0m in \u001b[0;36m<module>\u001b[0;34m()\u001b[0m\n\u001b[1;32m      1\u001b[0m \u001b[0;31m#table for tcga normal cutoffmet\u001b[0m\u001b[0;34m\u001b[0m\u001b[0;34m\u001b[0m\u001b[0m\n\u001b[1;32m      2\u001b[0m \u001b[0;34m\u001b[0m\u001b[0m\n\u001b[0;32m----> 3\u001b[0;31m total_genes_count=pd.DataFrame(data=[[gtex_cutoffmet_other_corr_triple.shape[0],\n\u001b[0m\u001b[1;32m      4\u001b[0m                                       \u001b[0mgtex_cutoffmet_other_corr_triple\u001b[0m\u001b[0;34m.\u001b[0m\u001b[0mshape\u001b[0m\u001b[0;34m[\u001b[0m\u001b[0;36m0\u001b[0m\u001b[0;34m]\u001b[0m\u001b[0;34m,\u001b[0m\u001b[0;34m\u001b[0m\u001b[0m\n\u001b[1;32m      5\u001b[0m                                      gtex_cutoffmet_other_corr_triple.shape[0]]],\n",
      "\u001b[0;31mNameError\u001b[0m: name 'gtex_cutoffmet_other_corr_triple' is not defined"
     ]
    }
   ],
   "source": [
    "#table for tcga normal cutoffmet\n",
    "\n",
    "total_genes_count=pd.DataFrame(data=[[gtex_cutoffmet_other_corr_triple.shape[0],\n",
    "                                      gtex_cutoffmet_other_corr_triple.shape[0],\n",
    "                                     gtex_cutoffmet_other_corr_triple.shape[0]]],\n",
    "                               index=['total_genes_each'],\n",
    "             columns=['ITGA7_gtex_cutoffmet','TCGA_normal_corresponding_toGTEX','TCGA_allprimtum'])\n",
    "high_corr_all=pd.DataFrame(data=[[gtex_cutoffmet_other_corr_triple[(gtex_cutoffmet_other_corr_triple.TCGA_normal_corresponding_toGTEX>=pearson_cutoff)  & (gtex_cutoffmet_other_corr_triple.TCGA_allprimtum>=pearson_cutoff)].shape[0],\n",
    "                                  gtex_cutoffmet_other_corr_triple[(gtex_cutoffmet_other_corr_triple.TCGA_normal_corresponding_toGTEX>=pearson_cutoff)  & (gtex_cutoffmet_other_corr_triple.TCGA_allprimtum>=pearson_cutoff)].shape[0],\n",
    "                                      gtex_cutoffmet_other_corr_triple[(gtex_cutoffmet_other_corr_triple.TCGA_normal_corresponding_toGTEX>=pearson_cutoff)  & (gtex_cutoffmet_other_corr_triple.TCGA_allprimtum>=pearson_cutoff)].shape[0]]],\n",
    "                               index=['high_pos_corr_both'],\n",
    "             columns=['ITGA7_gtex_cutoffmet','TCGA_normal_corresponding_toGTEX','TCGA_allprimtum'])\n",
    "\n",
    "high_gtex_low_tcga_normal=pd.DataFrame(data=[[gtex_cutoffmet_other_corr_triple[(gtex_cutoffmet_other_corr_triple.TCGA_normal_corresponding_toGTEX<=opposing_corr_cutoff)].shape[0],\n",
    "                                  gtex_cutoffmet_other_corr_triple[(gtex_cutoffmet_other_corr_triple.TCGA_normal_corresponding_toGTEX<=opposing_corr_cutoff)].shape[0],\n",
    "                                      gtex_cutoffmet_other_corr_triple[(gtex_cutoffmet_other_corr_triple.TCGA_normal_corresponding_toGTEX<=opposing_corr_cutoff)].shape[0]]],\n",
    "                               index=['high_gtex_tcga_normal_low_ignore_tcga_primtum'],\n",
    "             columns=['ITGA7_gtex_cutoffmet','TCGA_normal_corresponding_toGTEX','TCGA_allprimtum'])\n",
    "\n",
    "\n",
    "tcga_summary_normal_triple_df = pd.concat([total_genes_count,high_corr_all,high_gtex_low_tcga_normal],axis=0)\n",
    "\n",
    "del total_genes_count,high_corr_all, high_gtex_low_tcga_normal\n"
   ]
  },
  {
   "cell_type": "code",
   "execution_count": 6,
   "metadata": {},
   "outputs": [
    {
     "ename": "NameError",
     "evalue": "name 'gtex_cutoffmet_other_corr_triple' is not defined",
     "output_type": "error",
     "traceback": [
      "\u001b[0;31m---------------------------------------------------------------------------\u001b[0m",
      "\u001b[0;31mNameError\u001b[0m                                 Traceback (most recent call last)",
      "\u001b[0;32m<ipython-input-6-7a476591177a>\u001b[0m in \u001b[0;36m<module>\u001b[0;34m()\u001b[0m\n\u001b[1;32m    165\u001b[0m \u001b[0;31m#table for tcga normal cutoffmet\u001b[0m\u001b[0;34m\u001b[0m\u001b[0;34m\u001b[0m\u001b[0m\n\u001b[1;32m    166\u001b[0m \u001b[0;34m\u001b[0m\u001b[0m\n\u001b[0;32m--> 167\u001b[0;31m total_genes_count=pd.DataFrame(data=[[gtex_cutoffmet_other_corr_triple.shape[0],\n\u001b[0m\u001b[1;32m    168\u001b[0m                                       \u001b[0mgtex_cutoffmet_other_corr_triple\u001b[0m\u001b[0;34m.\u001b[0m\u001b[0mshape\u001b[0m\u001b[0;34m[\u001b[0m\u001b[0;36m0\u001b[0m\u001b[0;34m]\u001b[0m\u001b[0;34m,\u001b[0m\u001b[0;34m\u001b[0m\u001b[0m\n\u001b[1;32m    169\u001b[0m                                      gtex_cutoffmet_other_corr_triple.shape[0]]],\n",
      "\u001b[0;31mNameError\u001b[0m: name 'gtex_cutoffmet_other_corr_triple' is not defined"
     ]
    }
   ],
   "source": [
    "#procedural, not object oriented\n",
    "pearson_cutoff=0.6\n",
    "opposing_corr_cutoff = 0.1\n",
    "gtex_breast_data_all=pd.read_csv('gene_tpm_2017-06-05_v8_breast_mammary_tissue.gct_2',sep='\\t')\n",
    "gtex_breast_data_all=gtex_breast_data_all.T.copy()\n",
    "gtex_breast_data_all.columns=gtex_breast_data_all.iloc[2]\n",
    "df_int=gtex_breast_data_all.loc[(gtex_breast_data_all.index!='id')&(gtex_breast_data_all.index!='Name')&(gtex_breast_data_all.index!='Description')].astype('float').copy()\n",
    "#correlations pearson for gtex\n",
    "pearson_ITGA7_corr_gtex=df_int.corrwith(df_int['ITGA7'],method='pearson')\n",
    "#drop nan values\n",
    "pearson_ITGA7_corr_gtex=pearson_ITGA7_corr_gtex.dropna(axis=0,how=any)\n",
    "\n",
    "#those that meet cutoff. only focusing on positive correlations\n",
    "\n",
    "pearson_gtex_cutoffmet=pearson_ITGA7_corr_gtex[pearson_ITGA7_corr_gtex>=pearson_cutoff]\n",
    "\n",
    "#get and process tcga hiseqv2 data and sample info\n",
    "\n",
    "tcga_brca_df = pd.read_csv('/home/hshadman/integrins_expression/saghar_TCGA_Breast/TCGA_BRCA_HiSeqV2', sep = '\\t', index_col=0)\n",
    "tcga_brca_sample_info = pd.read_csv('/home/hshadman/integrins_expression/saghar_TCGA_Breast/TCGA.BRCA.sampleMap_BRCA_clinicalMatrix',sep=\"\\t\",index_col=0)\n",
    "#drop metastatic from main sample type data frame\n",
    "tcga_brca_sample_info = tcga_brca_sample_info[~(tcga_brca_sample_info.sample_type=='Metastatic')]\n",
    "\n",
    "#separate normal and primtum\n",
    "tcga_brca_normal_patients = tcga_brca_sample_info[tcga_brca_sample_info.sample_type=='Solid Tissue Normal']\n",
    "tcga_brca_primtum_patients = tcga_brca_sample_info[tcga_brca_sample_info.sample_type=='Primary Tumor']\n",
    "\n",
    "#drop index of samples not in tcga_brca_df\n",
    "tcga_brca_normal_patients=  tcga_brca_normal_patients.drop(non_match for non_match in tcga_brca_normal_patients.index.values if non_match not in tcga_brca_df.columns)\n",
    "tcga_brca_primtum_patients =tcga_brca_primtum_patients.drop(non_match for non_match in tcga_brca_primtum_patients.index.values if non_match not in tcga_brca_df.columns) \n",
    "\n",
    "\n",
    "#make sure both normal and tumor patients match, and drop patients not in tcga_brca_df\n",
    "matched_patient_index_list=[]\n",
    "for patient in tcga_brca_primtum_patients.patient_id.values:\n",
    "    if patient in tcga_brca_normal_patients.patient_id.values and patient in [patient_id.split('-')[2] for patient_id in tcga_brca_df.columns]:\n",
    "        matched_patient_index_list.append(tcga_brca_sample_info[tcga_brca_sample_info.patient_id==patient].index.values)\n",
    "matched_patient_list=tcga_brca_sample_info.loc[[x for l in matched_patient_index_list for x in l]].copy()\n",
    "\n",
    "\n",
    "#separate normal and primary tumor\n",
    "normal_matched_patient_list=matched_patient_list[matched_patient_list.sample_type=='Solid Tissue Normal']\n",
    "primtum_matched_patient_list = matched_patient_list[matched_patient_list.sample_type=='Primary Tumor']\n",
    "\n",
    "#matched normal and primary tumor samples\n",
    "tcga_brca_df_normal_matched=tcga_brca_df[tcga_brca_df.columns[tcga_brca_df.columns.isin(normal_matched_patient_list.index.values)]]\n",
    "tcga_brca_df_primtum_matched=tcga_brca_df[tcga_brca_df.columns[tcga_brca_df.columns.isin(primtum_matched_patient_list.index.values)]]\n",
    "\n",
    "#test to see if normal and primary tumor patient IDs are a match\n",
    "for i in [patient_id.split('-')[2] for patient_id in tcga_brca_df_normal_matched.columns]:\n",
    "    if i not in [patient_id.split('-')[2] for patient_id in tcga_brca_df_primtum_matched.columns]:\n",
    "        print('trouble')\n",
    "\n",
    "#TCGA brca normal ALL\n",
    "tcga_brca_df_normal_all = tcga_brca_df.T.loc[tcga_brca_normal_patients.index.values].copy()\n",
    "# dataframe with all TCGA primary tumor samples (not necessarily matched)\n",
    "tcga_brca_df_primtum_all= tcga_brca_df.T.loc[tcga_brca_primtum_patients.index.values].copy()\n",
    "#calculate pearson correlation \n",
    "pearson_ITGA7_corr_tcga_brca_normal_all= tcga_brca_df_normal_all.corrwith(tcga_brca_df_normal_all['ITGA7'],method='pearson')\n",
    "#drop nan values\n",
    "pearson_ITGA7_corr_tcga_brca_normal_all = pearson_ITGA7_corr_tcga_brca_normal_all.dropna(axis=0,how='any')\n",
    "#calculate pearson correlation \n",
    "pearson_ITGA7_corr_tcga_brca_primtum_all= tcga_brca_df_primtum_all.corrwith(tcga_brca_df_primtum_all['ITGA7'],method='pearson')\n",
    "#drop nan values\n",
    "pearson_ITGA7_corr_tcga_brca_primtum_all = pearson_ITGA7_corr_tcga_brca_primtum_all.dropna(axis=0,how='any')\n",
    "\n",
    "\n",
    "#pearson correlation with ITGA7, with normal/matched_primary_tumor\n",
    "pearson_ITGA7_corr_tcga_brca_normal_match=tcga_brca_df_normal_matched.T.corrwith(tcga_brca_df_normal_matched.T['ITGA7'],method='pearson')\n",
    "#drop nan values\n",
    "pearson_ITGA7_corr_tcga_brca_normal_match=pearson_ITGA7_corr_tcga_brca_normal_match.dropna(axis=0,how='any')\n",
    "#pearson correlation with ITGA7, with normal/matched_primary_tumor\n",
    "pearson_ITGA7_corr_tcga_brca_primtum_match=tcga_brca_df_primtum_matched.T.corrwith(tcga_brca_df_primtum_matched.T['ITGA7'],method='pearson')\n",
    "#drop nan values\n",
    "pearson_ITGA7_corr_tcga_brca_primtum_match = pearson_ITGA7_corr_tcga_brca_primtum_match.dropna(axis=0,how='any')\n",
    "\n",
    "#gtex genes that meeet cutoff and those same genes in the tcga primary tumor samples, but cutoff only applied to gtex\n",
    "gtex_cutoffmet_other_correlations=pd.concat([pearson_gtex_cutoffmet[[gene for gene in pearson_gtex_cutoffmet.index if (gene in pearson_ITGA7_corr_tcga_brca_primtum_all.index)]],\n",
    "          pearson_ITGA7_corr_tcga_brca_primtum_all[[gene for gene in pearson_gtex_cutoffmet.index if (gene in pearson_ITGA7_corr_tcga_brca_primtum_all.index)]]                                  ],axis=1)\n",
    "gtex_cutoffmet_other_correlations.columns=['gtex_cutoffmet','TCGA_allprimtum']\n",
    "\n",
    "#tcga normal that meet cutoff. only focusing on positive correlations\n",
    "pearson_ITGA7_corr_tcga_brca_normal_all_cutoffmet=pearson_ITGA7_corr_tcga_brca_normal_all[pearson_ITGA7_corr_tcga_brca_normal_all>=pearson_cutoff]    \n",
    "\n",
    "#tcga primtum that meet cutoff. only focusing on positive correlations\n",
    "pearson_ITGA7_corr_tcga_brca_primtum_all_cutoffmet=pearson_ITGA7_corr_tcga_brca_primtum_all[pearson_ITGA7_corr_tcga_brca_primtum_all>=pearson_cutoff]\n",
    "\n",
    "\n",
    "#tcga primtum all genes that meet cutoff and corresponding gtex genes\n",
    "tcga_primtum_cutoffmet_other_corr=pd.concat([pearson_ITGA7_corr_gtex[[gene for gene in pearson_ITGA7_corr_gtex.index if (gene in pearson_ITGA7_corr_tcga_brca_primtum_all_cutoffmet.index)]],\n",
    "          pearson_ITGA7_corr_tcga_brca_primtum_all_cutoffmet[[gene for gene in pearson_ITGA7_corr_gtex.index if (gene in pearson_ITGA7_corr_tcga_brca_primtum_all_cutoffmet.index)]]                                  ],axis=1)\n",
    "tcga_primtum_cutoffmet_other_corr.columns=['gtex_corr','TCGA_allprimtum_cutoffmet']\n",
    "\n",
    "#drop genes with duplicate values in pearson_ITGA7_corr_gtex b/c they are causing problems\n",
    "idx = pearson_ITGA7_corr_gtex.index.drop_duplicates(keep=False)\n",
    "pearson_ITGA7_corr_gtex = pearson_ITGA7_corr_gtex.loc[idx]\n",
    "\n",
    "#tcga normal all genes that meet cutoff and corresponding gtex genes\n",
    "tcga_normal_cutoffmet_other_corr=pd.concat([pearson_ITGA7_corr_gtex[[gene for gene in pearson_ITGA7_corr_gtex.index if (gene in pearson_ITGA7_corr_tcga_brca_normal_all_cutoffmet.index)]],pearson_ITGA7_corr_tcga_brca_normal_all_cutoffmet[[gene for gene in pearson_ITGA7_corr_gtex.index if (gene in pearson_ITGA7_corr_tcga_brca_normal_all_cutoffmet.index)]]],axis=1)\n",
    "tcga_normal_cutoffmet_other_corr.columns=['gtex_corr','TCGA_allnormal_cutoffmet']\n",
    "\n",
    "\n",
    "#table for gtex cutoffmet\n",
    "\n",
    "total_genes_count=pd.DataFrame(data=[[gtex_cutoffmet_other_correlations.shape[0],\n",
    "                                      gtex_cutoffmet_other_correlations.shape[0]]],\n",
    "                               index=['total_genes_each'],\n",
    "             columns=['gtex_cutoffmet','TCGA_allprimtum'])\n",
    "high_corr_both=pd.DataFrame(data=[[gtex_cutoffmet_other_correlations[(gtex_cutoffmet_other_correlations.TCGA_allprimtum>=pearson_cutoff)].shape[0],\n",
    "                                      gtex_cutoffmet_other_correlations[(gtex_cutoffmet_other_correlations.TCGA_allprimtum>=pearson_cutoff)].shape[0]]],\n",
    "                               index=['high_pos_corr_both'],\n",
    "             columns=['gtex_cutoffmet','TCGA_allprimtum'])\n",
    "#here low includes negative tcga\n",
    "high_gtex_low_tcga=pd.DataFrame(data=[[gtex_cutoffmet_other_correlations[(gtex_cutoffmet_other_correlations.TCGA_allprimtum<=opposing_corr_cutoff)].shape[0],\n",
    "                                      gtex_cutoffmet_other_correlations[(gtex_cutoffmet_other_correlations.TCGA_allprimtum<=opposing_corr_cutoff)].shape[0]]],\n",
    "                               index=['high_gtex_low_tcga'],\n",
    "             columns=['gtex_cutoffmet','TCGA_allprimtum'])\n",
    "\n",
    "gtex_summary_df = pd.concat([total_genes_count,high_corr_both,high_gtex_low_tcga],axis=0)\n",
    "\n",
    "del total_genes_count,high_corr_both, high_gtex_low_tcga\n",
    "\n",
    "\n",
    "#table for tcga primtum cutoffmet\n",
    "\n",
    "total_genes_count=pd.DataFrame(data=[[tcga_primtum_cutoffmet_other_corr.shape[0],\n",
    "                                      tcga_primtum_cutoffmet_other_corr.shape[0]]],\n",
    "                               index=['total_genes_each'],\n",
    "             columns=['pearson_gtex','TCGA_allprimtum_cutoffmet'])\n",
    "high_corr_both=pd.DataFrame(data=[[tcga_primtum_cutoffmet_other_corr[(tcga_primtum_cutoffmet_other_corr.gtex_corr>=pearson_cutoff)].shape[0],\n",
    "                                      tcga_primtum_cutoffmet_other_corr[(tcga_primtum_cutoffmet_other_corr.gtex_corr>=pearson_cutoff)].shape[0]]],\n",
    "                               index=['high_pos_corr_both'],\n",
    "             columns=['pearson_gtex','TCGA_allprimtum_cutoffmet'])\n",
    "#here low includes negative tcga\n",
    "high_tcga_low_gtex=pd.DataFrame(data=[[tcga_primtum_cutoffmet_other_corr[(tcga_primtum_cutoffmet_other_corr.gtex_corr<=opposing_corr_cutoff)].shape[0],\n",
    "                                      tcga_primtum_cutoffmet_other_corr[(tcga_primtum_cutoffmet_other_corr.gtex_corr<=opposing_corr_cutoff)].shape[0]]],\n",
    "                               index=['high_tcga_low_gtex'],\n",
    "             columns=['pearson_gtex','TCGA_allprimtum_cutoffmet'])\n",
    "\n",
    "tcga_summary_primtum_df = pd.concat([total_genes_count,high_corr_both,high_tcga_low_gtex],axis=0)\n",
    "\n",
    "del total_genes_count,high_corr_both, high_tcga_low_gtex\n",
    "\n",
    "#table for tcga normal cutoffmet\n",
    "\n",
    "total_genes_count=pd.DataFrame(data=[[tcga_normal_cutoffmet_other_corr.shape[0],\n",
    "                                      tcga_normal_cutoffmet_other_corr.shape[0]]],\n",
    "                               index=['total_genes_each'],\n",
    "             columns=['pearson_gtex','TCGA_allnormal_cutoffmet'])\n",
    "high_corr_both=pd.DataFrame(data=[[tcga_normal_cutoffmet_other_corr[(tcga_normal_cutoffmet_other_corr.gtex_corr>=pearson_cutoff)].shape[0],\n",
    "                                      tcga_normal_cutoffmet_other_corr[(tcga_normal_cutoffmet_other_corr.gtex_corr>=pearson_cutoff)].shape[0]]],\n",
    "                               index=['high_pos_corr_both'],\n",
    "             columns=['pearson_gtex','TCGA_allnormal_cutoffmet'])\n",
    "#here low includes negative tcga\n",
    "high_tcga_low_gtex=pd.DataFrame(data=[[tcga_normal_cutoffmet_other_corr[(tcga_normal_cutoffmet_other_corr.gtex_corr<=opposing_corr_cutoff)].shape[0],\n",
    "                                      tcga_normal_cutoffmet_other_corr[(tcga_normal_cutoffmet_other_corr.gtex_corr<=opposing_corr_cutoff)].shape[0]]],\n",
    "                               index=['high_tcga_low_gtex'],\n",
    "             columns=['pearson_gtex','TCGA_allnormal_cutoffmet'])\n",
    "\n",
    "tcga_summary_normal_df = pd.concat([total_genes_count,high_corr_both,high_tcga_low_gtex],axis=0)\n",
    "\n",
    "\n",
    "del total_genes_count,high_corr_both, high_tcga_low_gtex\n",
    "\n",
    "#table for tcga normal cutoffmet\n",
    "\n",
    "total_genes_count=pd.DataFrame(data=[[gtex_cutoffmet_other_corr_triple.shape[0],\n",
    "                                      gtex_cutoffmet_other_corr_triple.shape[0],\n",
    "                                     gtex_cutoffmet_other_corr_triple.shape[0]]],\n",
    "                               index=['total_genes_each'],\n",
    "             columns=['ITGA7_gtex_cutoffmet','TCGA_normal_corresponding_toGTEX','TCGA_allprimtum'])\n",
    "high_corr_all=pd.DataFrame(data=[[gtex_cutoffmet_other_corr_triple[(gtex_cutoffmet_other_corr_triple.TCGA_normal_corresponding_toGTEX>=pearson_cutoff)  & (gtex_cutoffmet_other_corr_triple.TCGA_allprimtum>=pearson_cutoff)].shape[0],\n",
    "                                  gtex_cutoffmet_other_corr_triple[(gtex_cutoffmet_other_corr_triple.TCGA_normal_corresponding_toGTEX>=pearson_cutoff)  & (gtex_cutoffmet_other_corr_triple.TCGA_allprimtum>=pearson_cutoff)].shape[0],\n",
    "                                      gtex_cutoffmet_other_corr_triple[(gtex_cutoffmet_other_corr_triple.TCGA_normal_corresponding_toGTEX>=pearson_cutoff)  & (gtex_cutoffmet_other_corr_triple.TCGA_allprimtum>=pearson_cutoff)].shape[0]]],\n",
    "                               index=['high_pos_corr_both'],\n",
    "             columns=['ITGA7_gtex_cutoffmet','TCGA_normal_corresponding_toGTEX','TCGA_allprimtum'])\n",
    "\n",
    "high_gtex_low_tcga_normal=pd.DataFrame(data=[[gtex_cutoffmet_other_corr_triple[(gtex_cutoffmet_other_corr_triple.TCGA_normal_corresponding_toGTEX<=opposing_corr_cutoff)].shape[0],\n",
    "                                  gtex_cutoffmet_other_corr_triple[(gtex_cutoffmet_other_corr_triple.TCGA_normal_corresponding_toGTEX<=opposing_corr_cutoff)].shape[0],\n",
    "                                      gtex_cutoffmet_other_corr_triple[(gtex_cutoffmet_other_corr_triple.TCGA_normal_corresponding_toGTEX<=opposing_corr_cutoff)].shape[0]]],\n",
    "                               index=['high_gtex_tcga_normal_low_ignore_tcga_primtum'],\n",
    "             columns=['ITGA7_gtex_cutoffmet','TCGA_normal_corresponding_toGTEX','TCGA_allprimtum'])\n",
    "\n",
    "\n",
    "tcga_summary_normal_triple_df = pd.concat([total_genes_count,high_corr_all,high_gtex_low_tcga_normal],axis=0)\n",
    "\n",
    "del total_genes_count,high_corr_all, high_gtex_low_tcga_normal\n",
    "\n",
    "\n",
    "\n"
   ]
  },
  {
   "cell_type": "code",
   "execution_count": 53,
   "metadata": {},
   "outputs": [],
   "source": [
    "#table for gtex cutoffmet\n",
    "\n",
    "total_genes_count=pd.DataFrame(data=[[gtex_cutoffmet_other_correlations.shape[0],\n",
    "                                      gtex_cutoffmet_other_correlations.shape[0]]],\n",
    "                               index=['total_genes_each'],\n",
    "             columns=['gtex_cutoffmet','TCGA_allprimtum'])\n",
    "high_corr_both=pd.DataFrame(data=[[gtex_cutoffmet_other_correlations[(gtex_cutoffmet_other_correlations.TCGA_allprimtum>=pearson_cutoff)].shape[0],\n",
    "                                      gtex_cutoffmet_other_correlations[(gtex_cutoffmet_other_correlations.TCGA_allprimtum>=pearson_cutoff)].shape[0]]],\n",
    "                               index=['high_pos_corr_both'],\n",
    "             columns=['gtex_cutoffmet','TCGA_allprimtum'])\n",
    "#here low includes negative tcga\n",
    "high_gtex_low_tcga=pd.DataFrame(data=[[gtex_cutoffmet_other_correlations[(gtex_cutoffmet_other_correlations.TCGA_allprimtum<=opposing_corr_cutoff)].shape[0],\n",
    "                                      gtex_cutoffmet_other_correlations[(gtex_cutoffmet_other_correlations.TCGA_allprimtum<=opposing_corr_cutoff)].shape[0]]],\n",
    "                               index=['high_gtex_low_tcga'],\n",
    "             columns=['gtex_cutoffmet','TCGA_allprimtum'])\n",
    "\n",
    "gtex_summary_df = pd.concat([total_genes_count,high_corr_both,high_gtex_low_tcga],axis=0)\n",
    "\n",
    "del total_genes_count,high_corr_both, high_gtex_low_tcga\n",
    "\n"
   ]
  },
  {
   "cell_type": "code",
   "execution_count": 22,
   "metadata": {},
   "outputs": [
    {
     "name": "stdout",
     "output_type": "stream",
     "text": [
      "table that shows TCGA tumor genes that have high correlation with ITGA7\n"
     ]
    },
    {
     "data": {
      "text/html": [
       "<div>\n",
       "<style scoped>\n",
       "    .dataframe tbody tr th:only-of-type {\n",
       "        vertical-align: middle;\n",
       "    }\n",
       "\n",
       "    .dataframe tbody tr th {\n",
       "        vertical-align: top;\n",
       "    }\n",
       "\n",
       "    .dataframe thead th {\n",
       "        text-align: right;\n",
       "    }\n",
       "</style>\n",
       "<table border=\"1\" class=\"dataframe\">\n",
       "  <thead>\n",
       "    <tr style=\"text-align: right;\">\n",
       "      <th></th>\n",
       "      <th>gtex_cutoffmet</th>\n",
       "      <th>TCGA_normal_corresponding_toGTEX</th>\n",
       "      <th>TCGA_tumor_match</th>\n",
       "      <th>TCGA_allprimtum</th>\n",
       "    </tr>\n",
       "  </thead>\n",
       "  <tbody>\n",
       "    <tr>\n",
       "      <th>PGD</th>\n",
       "      <td>0.643282</td>\n",
       "      <td>0.728521</td>\n",
       "      <td>-0.054896</td>\n",
       "      <td>-0.132353</td>\n",
       "    </tr>\n",
       "    <tr>\n",
       "      <th>ALDH4A1</th>\n",
       "      <td>0.654665</td>\n",
       "      <td>0.779130</td>\n",
       "      <td>-0.016779</td>\n",
       "      <td>0.070603</td>\n",
       "    </tr>\n",
       "    <tr>\n",
       "      <th>SORT1</th>\n",
       "      <td>0.725939</td>\n",
       "      <td>0.777408</td>\n",
       "      <td>0.083804</td>\n",
       "      <td>-0.069169</td>\n",
       "    </tr>\n",
       "    <tr>\n",
       "      <th>PEX19</th>\n",
       "      <td>0.669230</td>\n",
       "      <td>0.837524</td>\n",
       "      <td>0.096492</td>\n",
       "      <td>-0.036779</td>\n",
       "    </tr>\n",
       "    <tr>\n",
       "      <th>MGST3</th>\n",
       "      <td>0.642366</td>\n",
       "      <td>0.853209</td>\n",
       "      <td>-0.068684</td>\n",
       "      <td>-0.040442</td>\n",
       "    </tr>\n",
       "    <tr>\n",
       "      <th>...</th>\n",
       "      <td>...</td>\n",
       "      <td>...</td>\n",
       "      <td>...</td>\n",
       "      <td>...</td>\n",
       "    </tr>\n",
       "    <tr>\n",
       "      <th>PDXK</th>\n",
       "      <td>0.609379</td>\n",
       "      <td>0.773694</td>\n",
       "      <td>0.069411</td>\n",
       "      <td>0.070250</td>\n",
       "    </tr>\n",
       "    <tr>\n",
       "      <th>SLC25A1</th>\n",
       "      <td>0.626092</td>\n",
       "      <td>0.643135</td>\n",
       "      <td>-0.066795</td>\n",
       "      <td>-0.017957</td>\n",
       "    </tr>\n",
       "    <tr>\n",
       "      <th>CDR1</th>\n",
       "      <td>0.633691</td>\n",
       "      <td>0.656973</td>\n",
       "      <td>0.023173</td>\n",
       "      <td>0.047713</td>\n",
       "    </tr>\n",
       "    <tr>\n",
       "      <th>BCAP31</th>\n",
       "      <td>0.670816</td>\n",
       "      <td>0.701794</td>\n",
       "      <td>-0.088046</td>\n",
       "      <td>-0.126229</td>\n",
       "    </tr>\n",
       "    <tr>\n",
       "      <th>ABCD1</th>\n",
       "      <td>0.661640</td>\n",
       "      <td>0.818443</td>\n",
       "      <td>-0.038825</td>\n",
       "      <td>-0.081302</td>\n",
       "    </tr>\n",
       "  </tbody>\n",
       "</table>\n",
       "<p>69 rows × 4 columns</p>\n",
       "</div>"
      ],
      "text/plain": [
       "         gtex_cutoffmet  TCGA_normal_corresponding_toGTEX  TCGA_tumor_match  \\\n",
       "PGD            0.643282                          0.728521         -0.054896   \n",
       "ALDH4A1        0.654665                          0.779130         -0.016779   \n",
       "SORT1          0.725939                          0.777408          0.083804   \n",
       "PEX19          0.669230                          0.837524          0.096492   \n",
       "MGST3          0.642366                          0.853209         -0.068684   \n",
       "...                 ...                               ...               ...   \n",
       "PDXK           0.609379                          0.773694          0.069411   \n",
       "SLC25A1        0.626092                          0.643135         -0.066795   \n",
       "CDR1           0.633691                          0.656973          0.023173   \n",
       "BCAP31         0.670816                          0.701794         -0.088046   \n",
       "ABCD1          0.661640                          0.818443         -0.038825   \n",
       "\n",
       "         TCGA_allprimtum  \n",
       "PGD            -0.132353  \n",
       "ALDH4A1         0.070603  \n",
       "SORT1          -0.069169  \n",
       "PEX19          -0.036779  \n",
       "MGST3          -0.040442  \n",
       "...                  ...  \n",
       "PDXK            0.070250  \n",
       "SLC25A1        -0.017957  \n",
       "CDR1            0.047713  \n",
       "BCAP31         -0.126229  \n",
       "ABCD1          -0.081302  \n",
       "\n",
       "[69 rows x 4 columns]"
      ]
     },
     "execution_count": 22,
     "metadata": {},
     "output_type": "execute_result"
    }
   ],
   "source": [
    "opposing_corr_cutoff = 0.1\n",
    "print('table that shows TCGA tumor genes that have high correlation with ITGA7')\n",
    "gtex_cutoffmet_other_correlations[(gtex_cutoffmet_other_correlations.TCGA_allprimtum<=opposing_corr_cutoff)]\n"
   ]
  },
  {
   "cell_type": "code",
   "execution_count": null,
   "metadata": {},
   "outputs": [],
   "source": []
  },
  {
   "cell_type": "code",
   "execution_count": 28,
   "metadata": {},
   "outputs": [],
   "source": [
    "# TCGA primary tumor meeting cutoff of 0.6\n",
    "\n",
    "pearson_ITGA7_corr_tcga_brca_primtum_all_cutoffmet=pearson_ITGA7_corr_tcga_brca_primtum_all[pearson_ITGA7_corr_tcga_brca_primtum_all>=pearson_cutoff]\n",
    "\n"
   ]
  },
  {
   "cell_type": "code",
   "execution_count": 31,
   "metadata": {},
   "outputs": [
    {
     "data": {
      "text/plain": [
       "sample\n",
       "IGFN1     0.600212\n",
       "FIGF      0.601616\n",
       "PLCXD3    0.601916\n",
       "VWF       0.602454\n",
       "GNG11     0.602828\n",
       "            ...   \n",
       "TNXB      0.726277\n",
       "KCNIP2    0.734879\n",
       "NPR1      0.744405\n",
       "RDH5      0.753178\n",
       "ITGA7     1.000000\n",
       "Length: 119, dtype: float64"
      ]
     },
     "execution_count": 31,
     "metadata": {},
     "output_type": "execute_result"
    }
   ],
   "source": [
    "pearson_ITGA7_corr_tcga_brca_primtum_all_cutoffmet.sort_values(ascending=True)"
   ]
  },
  {
   "cell_type": "code",
   "execution_count": 32,
   "metadata": {},
   "outputs": [],
   "source": []
  },
  {
   "cell_type": "code",
   "execution_count": 57,
   "metadata": {},
   "outputs": [
    {
     "name": "stdout",
     "output_type": "stream",
     "text": [
      "                    pearson_gtex  TCGA_allprimtum_cutoffmet\n",
      "total_genes_each             111                        111\n",
      "high_pos_corr_both            26                         26\n",
      "high_tcga_low_gtex            27                         27\n"
     ]
    }
   ],
   "source": [
    "print(tcga_summary_df)"
   ]
  },
  {
   "cell_type": "code",
   "execution_count": 55,
   "metadata": {},
   "outputs": [],
   "source": []
  },
  {
   "cell_type": "code",
   "execution_count": null,
   "metadata": {},
   "outputs": [],
   "source": []
  }
 ],
 "metadata": {
  "kernelspec": {
   "display_name": "Python 3",
   "language": "python",
   "name": "python3"
  },
  "language_info": {
   "codemirror_mode": {
    "name": "ipython",
    "version": 3
   },
   "file_extension": ".py",
   "mimetype": "text/x-python",
   "name": "python",
   "nbconvert_exporter": "python",
   "pygments_lexer": "ipython3",
   "version": "3.7.0"
  }
 },
 "nbformat": 4,
 "nbformat_minor": 2
}
