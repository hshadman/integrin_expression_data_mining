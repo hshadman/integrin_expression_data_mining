{
 "cells": [
  {
   "cell_type": "code",
   "execution_count": 1,
   "metadata": {},
   "outputs": [],
   "source": [
    "import matplotlib.pyplot as plt\n",
    "import numpy as np\n",
    "import matplotlib.pyplot as plt\n",
    "import numpy as np\n",
    "import pandas as pd\n",
    "import sys\n",
    "from os import system\n",
    "from IPython.display import clear_output\n",
    "from scipy.stats import pearsonr\n",
    "from scipy.stats import spearmanr\n",
    "import phik \n",
    "import seaborn as sns\n",
    "from phik import resources, report\n",
    "from phik.report import plot_correlation_matrix\n",
    "from itertools import combinations\n",
    "import random\n",
    "from tabulate import tabulate\n",
    "from IPython.display import display, HTML"
   ]
  },
  {
   "cell_type": "markdown",
   "metadata": {},
   "source": [
    "# this is PRAD not BRCA even though some of the variable names say BRCA"
   ]
  },
  {
   "cell_type": "code",
   "execution_count": 2,
   "metadata": {},
   "outputs": [],
   "source": [
    "interest_gene= 'ITGA2'\n",
    "correlation_method ='pearson'\n",
    "gtex_gct_dataset = './gene_tpm_2017-06-05_v8_prostate.gct'\n",
    "correlation_cutoff = 0.6\n",
    "tcga_hiseq_dataset = 'TCGA.PRAD.sampleMap_HiSeqV2' \n",
    "tcga_hiseq_corresponding_sample_info = '/home/hshadman/integrins_expression/saghar_TCGA_Breast/TCGAXena/TCGA.PRAD.sampleMap/PRAD_clinicalMatrix'\n",
    "opposing_corr_cutoff = 0.1\n"
   ]
  },
  {
   "cell_type": "code",
   "execution_count": 3,
   "metadata": {},
   "outputs": [],
   "source": [
    "#functions for data processing\n",
    "def gtex_data_processing(gtex_gct_dataset):\n",
    "    unwanted_integrins = ['ITGB3BP','ITGB1BP1','ITGB5-AS1','ITGA9-AS1','ITGB1P1','ITGB2-AS1', 'ITGB1BP2','ITGB1BP3']\n",
    "    gtex_breast_data_all=pd.read_csv(gtex_gct_dataset,sep='\\t')\n",
    "    gtex_breast_data_all=gtex_breast_data_all.T.copy()\n",
    "    gtex_breast_data_all.columns=gtex_breast_data_all.iloc[2]\n",
    "    df_int=gtex_breast_data_all.loc[(gtex_breast_data_all.index!='id')&(gtex_breast_data_all.index!='Name')&(gtex_breast_data_all.index!='Description')].astype('float').copy()\n",
    "    #drop unwanted integrins    \n",
    "    df_int=df_int.drop([undesired_integrin for undesired_integrin in df_int.columns if undesired_integrin in unwanted_integrins],axis=1)\n",
    "    #drop duplicate gene names (if any) \n",
    "    df_int=df_int.loc[:,~df_int.columns.duplicated()]    \n",
    "    return df_int\n",
    "\n",
    "def tcga_data_processing(tcga_hiseq_dataset,tcga_hiseq_corresponding_sample_info):\n",
    "    global tcga_brca_df, tcga_brca_sample_info\n",
    "    unwanted_integrins = ['ITGB3BP','ITGB1BP1','ITGB5-AS1','ITGA9-AS1','ITGB1P1','ITGB2-AS1', 'ITGB1BP2','ITGB1BP3']    \n",
    "    tcga_brca_df = pd.read_csv(tcga_hiseq_dataset, sep = '\\t', index_col=0)\n",
    "    #drop unwanted integrins    \n",
    "    tcga_brca_df=tcga_brca_df.loc[~tcga_brca_df.index.isin(unwanted_integrins)]\n",
    "    #drop duplicate gene names (if any)\n",
    "    tcga_brca_df=tcga_brca_df.loc[~tcga_brca_df.index.duplicated()]    \n",
    "    tcga_brca_sample_info = pd.read_csv(tcga_hiseq_corresponding_sample_info,sep=\"\\t\",index_col=0)\n",
    "    #drop metastatic from main sample type data frame\n",
    "    tcga_brca_sample_info = tcga_brca_sample_info[~(tcga_brca_sample_info.sample_type=='Metastatic')]\n",
    "\n",
    "    #separate normal and primtum\n",
    "    tcga_brca_normal_patients = tcga_brca_sample_info[tcga_brca_sample_info.sample_type=='Solid Tissue Normal']\n",
    "    tcga_brca_primtum_patients = tcga_brca_sample_info[tcga_brca_sample_info.sample_type=='Primary Tumor']\n",
    "\n",
    "    #drop index of samples not in tcga_brca_df\n",
    "    tcga_brca_normal_patients=  tcga_brca_normal_patients.drop(non_match for non_match in tcga_brca_normal_patients.index.values if non_match not in tcga_brca_df.columns)\n",
    "    tcga_brca_primtum_patients =tcga_brca_primtum_patients.drop(non_match for non_match in tcga_brca_primtum_patients.index.values if non_match not in tcga_brca_df.columns) \n",
    "\n",
    "    #make sure both normal and tumor patients match, and drop patients not in tcga_brca_df\n",
    "    matched_patient_index_list=[]\n",
    "    for patient in tcga_brca_primtum_patients.patient_id.values:\n",
    "        if patient in tcga_brca_normal_patients.patient_id.values and patient in [patient_id.split('-')[2] for patient_id in tcga_brca_df.columns]:\n",
    "            matched_patient_index_list.append(tcga_brca_sample_info[tcga_brca_sample_info.patient_id==patient].index.values)\n",
    "    matched_patient_list=tcga_brca_sample_info.loc[[x for l in matched_patient_index_list for x in l]].copy()\n",
    "\n",
    "\n",
    "    #separate normal and primary tumor\n",
    "    normal_matched_patient_list=matched_patient_list[matched_patient_list.sample_type=='Solid Tissue Normal']\n",
    "    primtum_matched_patient_list = matched_patient_list[matched_patient_list.sample_type=='Primary Tumor']\n",
    "\n",
    "    #matched normal and primary tumor samples\n",
    "    tcga_brca_df_normal_matched=tcga_brca_df[tcga_brca_df.columns[tcga_brca_df.columns.isin(normal_matched_patient_list.index.values)]]\n",
    "    tcga_brca_df_primtum_matched=tcga_brca_df[tcga_brca_df.columns[tcga_brca_df.columns.isin(primtum_matched_patient_list.index.values)]]\n",
    "\n",
    "    #test to see if normal and primary tumor patient IDs are a match\n",
    "    for i in [patient_id.split('-')[2] for patient_id in tcga_brca_df_normal_matched.columns]:\n",
    "        if i not in [patient_id.split('-')[2] for patient_id in tcga_brca_df_primtum_matched.columns]:\n",
    "            print('trouble')\n",
    "            \n",
    "    #TCGA brca normal ALL\n",
    "    tcga_brca_df_normal_all = tcga_brca_df.T.loc[tcga_brca_normal_patients.index.values].copy()\n",
    "    # dataframe with all TCGA primary tumor samples (not necessarily matched)\n",
    "    tcga_brca_df_primtum_all= tcga_brca_df.T.loc[tcga_brca_primtum_patients.index.values].copy()\n",
    "    \n",
    "    return {'tcga_brca_df_normal_matched':tcga_brca_df_normal_matched,\n",
    "           'tcga_brca_df_primtum_matched':tcga_brca_df_primtum_matched,\n",
    "           'tcga_brca_df_normal_all':tcga_brca_df_normal_all,\n",
    "           'tcga_brca_df_primtum_all':tcga_brca_df_primtum_all}\n",
    "\n",
    "def correlation_selected_gene(provided_dataset,interest_gene,correlation_method):\n",
    "    dataset_corr = provided_dataset.corrwith(provided_dataset[interest_gene],method=correlation_method).drop(interest_gene)\n",
    "    dataset_corr = dataset_corr.dropna(axis=0,how='any')\n",
    "    idx = dataset_corr.index.drop_duplicates(keep=False)\n",
    "    dataset_corr = dataset_corr.loc[idx]\n",
    "    return dataset_corr\n",
    "def pairwise_pearson_correlation(provided_dataset):\n",
    "    #columns have to be variables and rows have to be observations\n",
    "    pairwise_corr=pd.DataFrame(np.corrcoef(provided_dataset,rowvar=False),\n",
    "                               columns=provided_dataset.columns,index=provided_dataset.columns)\n",
    "\n"
   ]
  },
  {
   "cell_type": "code",
   "execution_count": 4,
   "metadata": {},
   "outputs": [],
   "source": [
    "#functions for counting\n",
    "def count_genes_3_no_overlap(interest_gene,correlation_method,gtex_dataset,dataset2,dataset3):\n",
    "#make sure to preprocess dataset\n",
    "#dictionary only takes unique values, careful about this\n",
    "    print('no overlap between datasets')\n",
    "    dict_empty={}\n",
    "    first_dataset_name = 'gtex_all'\n",
    "    second_dataset_name= 'tcga_normal_all'\n",
    "    third_dataset_name= 'tcga_primtum_all'\n",
    "    names = [first_dataset_name,second_dataset_name,third_dataset_name]\n",
    "    j=0\n",
    "    for dataset in [gtex_dataset,dataset2,dataset3]:\n",
    "        dataset=correlation_selected_gene(dataset,interest_gene,correlation_method)\n",
    "        dict_empty[names[j]]=dataset.shape[0]\n",
    "        j+=1\n",
    "    dict_pd_df = pd.DataFrame(dict_empty,index=[f'corr_with_{interest_gene}'])\n",
    "    return display(HTML(dict_pd_df.to_html()))    \n",
    "def count_genes_same_3(interest_gene,correlation_method,gtex_dataset,dataset2,dataset3):\n",
    "#make sure to preprocess dataset\n",
    "#dictionary only takes unique values, careful about this\n",
    "    gtex_dataset=correlation_selected_gene(gtex_dataset,interest_gene,correlation_method)\n",
    "    dataset2=correlation_selected_gene(dataset2,interest_gene,correlation_method)\n",
    "    dataset3=correlation_selected_gene(dataset3,interest_gene,correlation_method)\n",
    "    common_gene_list= gtex_dataset.index.intersection(dataset2.index).intersection(dataset3.index)\n",
    "    global new_dataset\n",
    "    new_dataset = pd.concat([gtex_dataset[common_gene_list],\n",
    "                             dataset2[common_gene_list],\n",
    "                             dataset3[common_gene_list]],axis=1)\n",
    "    first_dataset_name = 'gtex_all'\n",
    "    second_dataset_name= 'tcga_normal_all'\n",
    "    third_dataset_name= 'tcga_primtum_all'\n",
    "    new_dataset.columns=[first_dataset_name,second_dataset_name,third_dataset_name]\n",
    "    print(\"1st: common genes identified for all 3 datasets\\n2nd: they were counted\")\n",
    "    dict_pd_df = pd.DataFrame(data=[[new_dataset.shape[0],new_dataset.shape[0],new_dataset.shape[0]]],\n",
    "                             index=[f'corr_with_{interest_gene}_all_same_genes'],\n",
    "                             columns=[first_dataset_name,second_dataset_name,third_dataset_name])\n",
    "    return display(HTML(dict_pd_df.to_html()))\n",
    "def count_high_corr_genes_no_overlap(interest_gene,correlation_method,correlation_cutoff,*processed_datasets):\n",
    "#make sure to preprocess dataset\n",
    "#dictionary only takes unique values, careful about this\n",
    "    print('no overlap between datasets')\n",
    "    dict_empty={}\n",
    "    j=0\n",
    "    for dataset in processed_datasets:\n",
    "        dataset=correlation_selected_gene(dataset,interest_gene,correlation_method)\n",
    "        dict_empty[input(f'insert name for {j+1}th dataset')]=dataset[dataset>=correlation_cutoff].shape[0]\n",
    "        \n",
    "        j+=1\n",
    "    \n",
    "    dict_pd_df = pd.DataFrame(dict_empty,index=[f'HIGHLY_correlated_with_{interest_gene}'])\n",
    "    #return display(HTML(dict_pd_df.to_html()))\n",
    "    return dict_pd_df\n",
    "def cutoff_applied_togtex_2_high_both(interest_gene,correlation_method,correlation_cutoff,gtex_dataset,other_dataset):\n",
    "#make sure to preprocess dataset\n",
    "#dictionary only takes unique values, careful about this\n",
    "    gtex_dataset=correlation_selected_gene(gtex_dataset,interest_gene,correlation_method)\n",
    "    gtex_dataset = gtex_dataset[gtex_dataset>=correlation_cutoff]\n",
    "    dataset2=correlation_selected_gene(other_dataset,interest_gene,correlation_method)\n",
    "    common_gene_list= gtex_dataset.index.intersection(dataset2.index)\n",
    "    global new_dataset    \n",
    "    new_dataset = pd.concat([gtex_dataset[common_gene_list],dataset2[common_gene_list]],axis=1)\n",
    "    first_dataset_name = 'gtex_cutoffmet'\n",
    "    other_dataset_name=input('insert name for other dataset')\n",
    "    new_dataset.columns=[first_dataset_name,other_dataset_name]\n",
    "    print(\"1st: high cutoff applied to gtex dataset\\n2nd: common genes identified with other dataset\\n3rd: both datasets combined\\n4th: High cutoff applied to non-gtex dataset\")\n",
    "    \n",
    "    new_dataset = new_dataset[new_dataset[other_dataset_name]>=correlation_cutoff]\n",
    "    dict_pd_df = pd.DataFrame(data=[[new_dataset.shape[0],new_dataset.shape[0]]],\n",
    "                             index=[f'high_corr_with_{interest_gene}_both_same_genes'],\n",
    "                             columns=[first_dataset_name,other_dataset_name])\n",
    "    return dict_pd_df\n",
    "def cutoff_applied_togtex_2_high_low(interest_gene,correlation_method,correlation_cutoff,opposing_corr_cutoff,gtex_dataset,other_dataset):\n",
    "#make sure to preprocess dataset\n",
    "#dictionary only takes unique values, careful about this\n",
    "    gtex_dataset=correlation_selected_gene(gtex_dataset,interest_gene,correlation_method)\n",
    "    gtex_dataset = gtex_dataset[gtex_dataset>=correlation_cutoff]\n",
    "    dataset2=correlation_selected_gene(other_dataset,interest_gene,correlation_method)\n",
    "    common_gene_list= gtex_dataset.index.intersection(dataset2.index)\n",
    "    global new_dataset    \n",
    "    new_dataset = pd.concat([gtex_dataset[common_gene_list],dataset2[common_gene_list]],axis=1)\n",
    "    first_dataset_name = 'gtex_cutoffmet'\n",
    "    other_dataset_name=input('insert name for other dataset')\n",
    "    new_dataset.columns=[first_dataset_name,other_dataset_name]\n",
    "    print(\"1st: high cutoff applied to gtex dataset\\n2nd: common genes identified with other dataset\\n3rd: both datasets combined\\n4th: low cutoff applied to non-gtex dataset\")\n",
    "    \n",
    "    new_dataset = new_dataset[new_dataset[other_dataset_name]<=opposing_corr_cutoff]\n",
    "    dict_pd_df = pd.DataFrame(data=[[new_dataset.shape[0],new_dataset.shape[0]]],\n",
    "                             index=[f'corr_with_{interest_gene}_highgtex_low_other'],\n",
    "                             columns=[first_dataset_name,other_dataset_name])\n",
    "    return dict_pd_df\n",
    "def cutoff_applied_totcga_2_high_both(interest_gene,correlation_method,correlation_cutoff,gtex_dataset,other_dataset):\n",
    "#make sure to preprocess dataset\n",
    "#dictionary only takes unique values, careful about this\n",
    "    gtex_dataset=correlation_selected_gene(gtex_dataset,interest_gene,correlation_method)\n",
    "    dataset2=correlation_selected_gene(other_dataset,interest_gene,correlation_method)\n",
    "    dataset2 = dataset2[dataset2>=correlation_cutoff]\n",
    "    common_gene_list= gtex_dataset.index.intersection(dataset2.index)\n",
    "    global new_dataset    \n",
    "    new_dataset = pd.concat([gtex_dataset[common_gene_list],dataset2[common_gene_list]],axis=1)\n",
    "    first_dataset_name = 'gtex_all'\n",
    "    other_dataset_name='tcga_primtum_all_cutoffmet'\n",
    "    new_dataset.columns=[first_dataset_name,other_dataset_name]\n",
    "    print(\"1st: high cutoff applied to tcga dataset\\n2nd: common genes identified with gtex dataset\\n3rd: both datasets combined\\n4th: High cutoff applied to gtex dataset\")\n",
    "\n",
    "    new_dataset = new_dataset[new_dataset[first_dataset_name]>=correlation_cutoff]\n",
    "    dict_pd_df = pd.DataFrame(data=[[new_dataset.shape[0],new_dataset.shape[0]]],\n",
    "                             index=[f'high_corr_with_{interest_gene}_both_same_genes'],\n",
    "                             columns=[first_dataset_name,other_dataset_name])\n",
    "    return display(HTML(dict_pd_df.to_html()))\n",
    "def cutoff_applied_totcga_2_high_low(interest_gene,correlation_method,correlation_cutoff,opposing_corr_cutoff,gtex_dataset,other_dataset):\n",
    "#make sure to preprocess dataset\n",
    "#dictionary only takes unique values, careful about this\n",
    "    gtex_dataset=correlation_selected_gene(gtex_dataset,interest_gene,correlation_method)\n",
    "    dataset2=correlation_selected_gene(other_dataset,interest_gene,correlation_method)\n",
    "    dataset2 = dataset2[dataset2>=correlation_cutoff]\n",
    "    common_gene_list= gtex_dataset.index.intersection(dataset2.index)\n",
    "    global new_dataset    \n",
    "    new_dataset = pd.concat([gtex_dataset[common_gene_list],dataset2[common_gene_list]],axis=1)\n",
    "    first_dataset_name = 'gtex_all'\n",
    "    other_dataset_name='tcga_primtum_all_cutoffmet'\n",
    "    new_dataset.columns=[first_dataset_name,other_dataset_name]\n",
    "    print(\"1st: high cutoff applied to tcga dataset\\n2nd: common genes identified with gtex dataset\\n3rd: both datasets combined\\n4th: low cutoff applied to gtex dataset\")\n",
    "\n",
    "    new_dataset = new_dataset[new_dataset[first_dataset_name]<=opposing_corr_cutoff]\n",
    "    dict_pd_df = pd.DataFrame(data=[[new_dataset.shape[0],new_dataset.shape[0]]],\n",
    "                             index=[f'corr_with_{interest_gene}_both_same_genes'],\n",
    "                             columns=[first_dataset_name,other_dataset_name])\n",
    "    return display(HTML(dict_pd_df.to_html()))\n",
    "\n",
    "def cutoff_applied_togtex_3_high_all(interest_gene,correlation_method,correlation_cutoff,gtex_dataset,other_dataset,\n",
    "                                    dataset3):\n",
    "#dataset3 MUST BE tcga primtum all\n",
    "#make sure to preprocess dataset\n",
    "#dictionary only takes unique values, careful about this\n",
    "    gtex_dataset=correlation_selected_gene(gtex_dataset,interest_gene,correlation_method)\n",
    "    gtex_dataset = gtex_dataset[gtex_dataset>=correlation_cutoff]\n",
    "    dataset2=correlation_selected_gene(other_dataset,interest_gene,correlation_method)\n",
    "    dataset3=correlation_selected_gene(dataset3,interest_gene,correlation_method)\n",
    "    common_gene_list= (gtex_dataset.index.intersection(dataset2.index)).intersection(dataset3.index)\n",
    "    global new_dataset    \n",
    "    new_dataset = pd.concat([gtex_dataset[common_gene_list],\n",
    "                             dataset2[common_gene_list],\n",
    "                            dataset3[common_gene_list]],axis=1)\n",
    "    first_dataset_name = 'gtex_cutoffmet'\n",
    "    other_dataset_name='tcga_normal_all'\n",
    "    dataset3_name = 'tcga_primtum_all'\n",
    "    new_dataset.columns=[first_dataset_name,other_dataset_name,dataset3_name]\n",
    "    print(\"1st: high cutoff applied to gtex dataset\\n2nd: common genes identified with other datasets\\n3rd: all datasets combined\\n4th: High cutoff applied to non-gtex datasets\")\n",
    "    \n",
    "    new_dataset = new_dataset[(new_dataset[other_dataset_name]>=correlation_cutoff) & (new_dataset[dataset3_name]>=correlation_cutoff)]\n",
    "    dict_pd_df = pd.DataFrame(data=[[new_dataset.shape[0],new_dataset.shape[0],new_dataset.shape[0]]],\n",
    "                             index=[f'high_corr_with_{interest_gene}_all_same_genes'],\n",
    "                             columns=[first_dataset_name,other_dataset_name,dataset3_name])\n",
    "    return dict_pd_df\n",
    "\n"
   ]
  },
  {
   "cell_type": "code",
   "execution_count": 5,
   "metadata": {},
   "outputs": [],
   "source": [
    "#organize as a table (original way -- before Jesse finalized the presentation but i used this for table 2)\n",
    "# careful of the #ered data (e.g. #3 is #3 in both functions but presentation might be different)\n",
    "def make_data_presentable(interest_gene,correlation_method, correlation_cutoff,opposing_corr_cutoff,gtex_gct_dataset,\n",
    "                         tcga_hiseq_dataset,tcga_hiseq_corresponding_sample_info):\n",
    "    df_int=gtex_data_processing(gtex_gct_dataset)\n",
    "    tcga_data=tcga_data_processing(tcga_hiseq_dataset,tcga_hiseq_corresponding_sample_info)\n",
    "    tcga_brca_df_normal_all=tcga_data['tcga_brca_df_normal_all']\n",
    "    tcga_brca_df_primtum_all=tcga_data['tcga_brca_df_primtum_all']\n",
    "    #1\n",
    "    count_genes_3_no_overlap(interest_gene,correlation_method,df_int,tcga_brca_df_normal_all,tcga_brca_df_primtum_all)\n",
    "    #2\n",
    "    count_genes_same_3(interest_gene,correlation_method,df_int,tcga_brca_df_normal_all,tcga_brca_df_primtum_all)\n",
    "    #3\n",
    "    print('for 1th dataset ENTER: gtex_all')\n",
    "    print('for 2th dataset ENTER: tcga_normal_all')\n",
    "    count_high_corr_genes_no_overlap(interest_gene,correlation_method,correlation_cutoff,df_int,tcga_brca_df_normal_all)\n",
    "    #4\n",
    "    #print('for 1th dataset ENTER: gtex_all')\n",
    "    #print('for 2th dataset ENTER: tcga_normal_all')    \n",
    "    #4 is not very meaningful\n",
    "    #count_high_corr_genes_with_overlap(interest_gene,correlation_method,correlation_cutoff,df_int,tcga_brca_df_normal_all)\n",
    "    #5\n",
    "    print('for dataset ENTER: tcga_normal_all')    \n",
    "    cutoff_applied_togtex_2_high_both(interest_gene,correlation_method,correlation_cutoff,df_int,tcga_brca_df_normal_all)\n",
    "    #6\n",
    "    print('for dataset ENTER: tcga_normal_all')        \n",
    "    cutoff_applied_togtex_2_high_low(interest_gene,correlation_method,correlation_cutoff,opposing_corr_cutoff,df_int,tcga_brca_df_normal_all)\n",
    "    #7\n",
    "    print('for dataset ENTER: tcga_primtum_all')            \n",
    "    cutoff_applied_togtex_2_high_both(interest_gene,correlation_method,correlation_cutoff,df_int,tcga_brca_df_primtum_all)\n",
    "    #8\n",
    "    print('for dataset ENTER: tcga_primtum_all')                \n",
    "    cutoff_applied_togtex_2_high_low(interest_gene,correlation_method,correlation_cutoff,opposing_corr_cutoff,df_int,tcga_brca_df_primtum_all)\n",
    "    #9\n",
    "    cutoff_applied_totcga_2_high_both(interest_gene,correlation_method,correlation_cutoff,df_int,tcga_brca_df_primtum_all)\n",
    "    #10\n",
    "    cutoff_applied_totcga_2_high_low(interest_gene,correlation_method,correlation_cutoff,opposing_corr_cutoff,df_int,tcga_brca_df_primtum_all)\n",
    "    return"
   ]
  },
  {
   "cell_type": "code",
   "execution_count": 6,
   "metadata": {},
   "outputs": [],
   "source": [
    "#table 1\n",
    "def organize_gtex_tcga_table1(interest_gene,correlation_method, correlation_cutoff,opposing_corr_cutoff,gtex_gct_dataset,\n",
    "                         tcga_hiseq_dataset,tcga_hiseq_corresponding_sample_info):\n",
    "    df_int=gtex_data_processing(gtex_gct_dataset)\n",
    "    tcga_data=tcga_data_processing(tcga_hiseq_dataset,tcga_hiseq_corresponding_sample_info)\n",
    "    tcga_brca_df_normal_all=tcga_data['tcga_brca_df_normal_all']\n",
    "    tcga_brca_df_primtum_all=tcga_data['tcga_brca_df_primtum_all']\n",
    "    #3\n",
    "    print('for 1th dataset ENTER: gtex_all')\n",
    "    print('for 2th dataset ENTER: tcga_normal_all')\n",
    "    number_3=count_high_corr_genes_no_overlap(interest_gene,correlation_method,correlation_cutoff,df_int,tcga_brca_df_normal_all)\n",
    "    #4\n",
    "    #print('for 1th dataset ENTER: gtex_all')\n",
    "    #print('for 2th dataset ENTER: tcga_normal_all')    \n",
    "    #4 is not very meaningful\n",
    "    #count_high_corr_genes_with_overlap(interest_gene,correlation_method,correlation_cutoff,df_int,tcga_brca_df_normal_all)\n",
    "    #5\n",
    "    print('for dataset ENTER: tcga_normal_all')    \n",
    "    number_5=cutoff_applied_togtex_2_high_both(interest_gene,correlation_method,correlation_cutoff,df_int,tcga_brca_df_normal_all)\n",
    "    #7\n",
    "    print('for dataset ENTER: tcga_primtum_all')            \n",
    "    nnumber_7=cutoff_applied_togtex_2_high_both(interest_gene,correlation_method,correlation_cutoff,df_int,tcga_brca_df_primtum_all)\n",
    "    #10\n",
    "    number_10=cutoff_applied_togtex_3_high_all(interest_gene,correlation_method,correlation_cutoff,df_int,tcga_brca_df_normal_all,\n",
    "                                    tcga_brca_df_primtum_all)\n",
    "    first_column_name='Integrin' #index\n",
    "    second_column_name='GTEX_highly_correlated'\n",
    "    third_column_name='%also_highly_correlated_in_TCGA_normal'\n",
    "    fourth_column_name='%also_highly_correlated_in_TCGA_primtum'\n",
    "    fifth_column_name='%also_highly_correlated_in_all_three'\n",
    "    #ignoring first column name. setting index as integrin name (first column name)\n",
    "    dict_pd_df = pd.DataFrame(data=[[number_3.iloc[0,0],\n",
    "                                     str(format((number_5.iloc[0,0]/number_3.iloc[0,0])*100,'2f'))+f'({str(number_5.iloc[0,0])})',\n",
    "                                     str(format((nnumber_7.iloc[0,0]/number_3.iloc[0,0])*100,'2f'))+f'({str(nnumber_7.iloc[0,0])})',\n",
    "                                     str(format((number_10.iloc[0,0]/number_3.iloc[0,0])*100,'2f'))+f'({str(number_10.iloc[0,0])})',\n",
    "                                    ]],\n",
    "                              columns=[second_column_name,third_column_name,\n",
    "                                      fourth_column_name,fifth_column_name],\n",
    "                              index=[interest_gene])\n",
    "    return display(HTML(dict_pd_df.to_html()))\n",
    "\n",
    "def organize_gtex_tcga_table2(interest_gene,correlation_method, correlation_cutoff,opposing_corr_cutoff,gtex_gct_dataset,\n",
    "                         tcga_hiseq_dataset,tcga_hiseq_corresponding_sample_info):\n",
    "    df_int=gtex_data_processing(gtex_gct_dataset)\n",
    "    tcga_data=tcga_data_processing(tcga_hiseq_dataset,tcga_hiseq_corresponding_sample_info)\n",
    "    tcga_brca_df_normal_all=tcga_data['tcga_brca_df_normal_all']\n",
    "    tcga_brca_df_primtum_all=tcga_data['tcga_brca_df_primtum_all']\n",
    "    #3\n",
    "    print('for 1th dataset ENTER: gtex_all')\n",
    "    print('for 2th dataset ENTER: tcga_normal_all')\n",
    "    number_3=count_high_corr_genes_no_overlap(interest_gene,correlation_method,correlation_cutoff,df_int,tcga_brca_df_normal_all)\n",
    "    #4\n",
    "    #print('for 1th dataset ENTER: gtex_all')\n",
    "    #print('for 2th dataset ENTER: tcga_normal_all')    \n",
    "    #4 is not very meaningful\n",
    "    #count_high_corr_genes_with_overlap(interest_gene,correlation_method,correlation_cutoff,df_int,tcga_brca_df_normal_all)\n",
    "    #6\n",
    "    print('for dataset ENTER: tcga_normal_all')        \n",
    "    number_6=cutoff_applied_togtex_2_high_low(interest_gene,correlation_method,correlation_cutoff,opposing_corr_cutoff,df_int,tcga_brca_df_normal_all)\n",
    "    #8\n",
    "    print('for dataset ENTER: tcga_primtum_all')                \n",
    "    number_8=cutoff_applied_togtex_2_high_low(interest_gene,correlation_method,correlation_cutoff,opposing_corr_cutoff,df_int,tcga_brca_df_primtum_all)\n",
    "    first_column_name='Integrin' #index\n",
    "    second_column_name='GTEX_highly_correlated'\n",
    "    third_column_name='%lowly_correlated_in_TCGA_normal'\n",
    "    fourth_column_name='%lowly_correlated_in_TCGA_primtum'\n",
    "    #fifth_column_name='%also_highly_correlated_in_all_three'\n",
    "    #ignoring first column name. setting index as integrin name (first column name)\n",
    "    dict_pd_df = pd.DataFrame(data=[[number_3.iloc[0,0],\n",
    "                                     str(format((number_6.iloc[0,0]/number_3.iloc[0,0])*100,'2f'))+f'({str(number_6.iloc[0,0])})',\n",
    "                                     str(format((number_8.iloc[0,0]/number_3.iloc[0,0])*100,'2f'))+f'({str(number_8.iloc[0,0])})'\n",
    "                                    ]],\n",
    "                              columns=[second_column_name,third_column_name,\n",
    "                                      fourth_column_name],\n",
    "                              index=[interest_gene])\n",
    "    return display(HTML(dict_pd_df.to_html()))\n",
    "\n",
    "#table 3\n",
    "def organize_no_overlap_table3(interest_gene,correlation_method, correlation_cutoff,opposing_corr_cutoff,gtex_gct_dataset,\n",
    "                         tcga_hiseq_dataset,tcga_hiseq_corresponding_sample_info):\n",
    "    df_int=gtex_data_processing(gtex_gct_dataset)\n",
    "    tcga_data=tcga_data_processing(tcga_hiseq_dataset,tcga_hiseq_corresponding_sample_info)\n",
    "    tcga_brca_df_normal_all=tcga_data['tcga_brca_df_normal_all']\n",
    "    tcga_brca_df_primtum_all=tcga_data['tcga_brca_df_primtum_all']\n",
    "    \n",
    "    gtex_expression_mean = df_int[interest_gene].mean()\n",
    "    gtex_expression_stdev= df_int[interest_gene].std()\n",
    "    \n",
    "    #3\n",
    "    print('for 1th dataset ENTER: gtex_all')\n",
    "    print('for 2th dataset ENTER: tcga_normal_all')\n",
    "    number_3_tcga_normal=count_high_corr_genes_no_overlap(interest_gene,correlation_method,correlation_cutoff,df_int,tcga_brca_df_normal_all)\n",
    "    #3\n",
    "    print('for 1th dataset ENTER: gtex_all')\n",
    "    print('for 2th dataset ENTER: tcga_primtum_all')\n",
    "    number_3_tcga_primtum=count_high_corr_genes_no_overlap(interest_gene,correlation_method,correlation_cutoff,df_int,tcga_brca_df_primtum_all)\n",
    "    \n",
    "\n",
    "    first_column_name='Integrin' #index\n",
    "    second_column_name='GTEX_expression_mean_&_stdev'\n",
    "    third_column_name='GTEX_highly_correlated'\n",
    "    fourth_column_name='highly_correlated_in_TCGA_normal'\n",
    "    fifth_column_name='highly_corelated_in_TCGA_primtum'\n",
    "    #ignoring first column name. setting index as integrin name (first column name)\n",
    "    dict_pd_df = pd.DataFrame(data=[[f'{format(gtex_expression_mean,\"0.2f\")} + {format(gtex_expression_stdev,\"0.2f\")}',\n",
    "                                     str(number_3_tcga_normal.iloc[0,0]),\n",
    "                                     str(number_3_tcga_normal.iloc[0,1]),\n",
    "                                     str(number_3_tcga_primtum.iloc[0,1])]],\n",
    "                              columns=[second_column_name,third_column_name,\n",
    "                                      fourth_column_name,fifth_column_name],\n",
    "                              index=[interest_gene])\n",
    "    return display(HTML(dict_pd_df.to_html()))\n",
    "    \n",
    "def organize_tcga_gtex_table4(interest_gene,correlation_method, correlation_cutoff,opposing_corr_cutoff,gtex_gct_dataset,\n",
    "                         tcga_hiseq_dataset,tcga_hiseq_corresponding_sample_info):\n",
    "#designed for custom changes to helper functions in below cell (way down below)\n",
    "#some helper functions appear twice because too many input variables so i made changes \n",
    "#changes in same cell as table 4 function\n",
    "    df_int=gtex_data_processing(gtex_gct_dataset)\n",
    "    tcga_data=tcga_data_processing(tcga_hiseq_dataset,tcga_hiseq_corresponding_sample_info)\n",
    "    tcga_brca_df_normal_all=tcga_data['tcga_brca_df_normal_all']\n",
    "    tcga_brca_df_primtum_all=tcga_data['tcga_brca_df_primtum_all']\n",
    "    #3\n",
    "    print('its TCGA_primtum_all')\n",
    "\n",
    "    number_3=count_high_corr_genes_no_overlap(interest_gene,correlation_method,correlation_cutoff,'tcga_primtum',tcga_brca_df_primtum_all)\n",
    "    #4\n",
    "    #print('for 1th dataset ENTER: gtex_all')\n",
    "    #print('for 2th dataset ENTER: tcga_normal_all')    \n",
    "    #4 is not very meaningful\n",
    "    #count_high_corr_genes_with_overlap(interest_gene,correlation_method,correlation_cutoff,df_int,tcga_brca_df_normal_all)\n",
    "    #6\n",
    "    print('common gene list applied to all')\n",
    "    print('high tcga_primtum and low tcga normal')        \n",
    "    number_6=cutoff_applied_totcga_2_high_low(interest_gene,correlation_method,correlation_cutoff,opposing_corr_cutoff,\n",
    "                                              tcga_brca_df_normal_all,tcga_brca_df_primtum_all,'tcga_normal')\n",
    "    #8\n",
    "    print('high tcga_primtum and low gtex')                \n",
    "    number_8=cutoff_applied_totcga_2_high_low(interest_gene,correlation_method,correlation_cutoff,opposing_corr_cutoff,\n",
    "                                              df_int,tcga_brca_df_primtum_all,'gtex_all')\n",
    "    #9a\n",
    "    print('high tcga primtum, high gtex')\n",
    "    number_9a = cutoff_applied_totcga_2_high_both(interest_gene,correlation_method,correlation_cutoff,df_int,tcga_brca_df_primtum_all)\n",
    "    first_column_name='Integrin' #index\n",
    "    second_column_name='TCGA_tumor_highly_correlated'\n",
    "    third_column_name='%lowly_correlated_in_TCGA_normal'\n",
    "    fourth_column_name='%lowly_correlated_in_gtex'\n",
    "    fifth_column_name = '%highly_corelated_in_gtex'\n",
    "    #fifth_column_name='%also_highly_correlated_in_all_three'\n",
    "    #ignoring first column name. setting index as integrin name (first column name)\n",
    "    dict_pd_df = pd.DataFrame(data=[[number_3.iloc[0,0],\n",
    "                                     str(format((number_6.iloc[0,0]/number_3.iloc[0,0])*100,'2f'))+f'({str(number_6.iloc[0,0])})',\n",
    "                                     str(format((number_8.iloc[0,0]/number_3.iloc[0,0])*100,'2f'))+f'({str(number_8.iloc[0,0])})',\n",
    "                                     str(format((number_9a.iloc[0,0]/number_3.iloc[0,0])*100,'2f'))+f'({str(number_9a.iloc[0,0])})'\n",
    "                                    ]],\n",
    "                              columns=[second_column_name,third_column_name,\n",
    "                                      fourth_column_name,fifth_column_name],\n",
    "                              index=[interest_gene])\n",
    "    return display(HTML(dict_pd_df.to_html()))\n",
    "    \n",
    "    \n"
   ]
  },
  {
   "cell_type": "code",
   "execution_count": 7,
   "metadata": {},
   "outputs": [],
   "source": [
    "#test\n",
    "df_int=gtex_data_processing(gtex_gct_dataset)\n",
    "tcga_data=tcga_data_processing(tcga_hiseq_dataset,tcga_hiseq_corresponding_sample_info)\n",
    "tcga_brca_df_normal_all=tcga_data['tcga_brca_df_normal_all']\n",
    "tcga_brca_df_primtum_all=tcga_data['tcga_brca_df_primtum_all']\n",
    "tcga_brca_df_normal_matched=tcga_data['tcga_brca_df_normal_matched']\n",
    "tcga_brca_df_primtum_matched=tcga_data['tcga_brca_df_primtum_matched']\n",
    "\n"
   ]
  },
  {
   "cell_type": "code",
   "execution_count": 8,
   "metadata": {},
   "outputs": [],
   "source": [
    "#test\n",
    "test_df_int=correlation_selected_gene(df_int,interest_gene,correlation_method)\n",
    "test_tcga_brca_df_normal_all=correlation_selected_gene(tcga_brca_df_normal_all,interest_gene,correlation_method)\n",
    "test_tcga_brca_df_primtum_all=correlation_selected_gene(tcga_brca_df_primtum_all,interest_gene,correlation_method)"
   ]
  },
  {
   "cell_type": "markdown",
   "metadata": {},
   "source": [
    "# calculate pairwise correlation PEARSON"
   ]
  },
  {
   "cell_type": "code",
   "execution_count": 8,
   "metadata": {},
   "outputs": [
    {
     "name": "stderr",
     "output_type": "stream",
     "text": [
      "/public/apps/python/3.7.0/lib/python3.7/site-packages/numpy/lib/function_base.py:2559: RuntimeWarning: invalid value encountered in true_divide\n",
      "  c /= stddev[:, None]\n",
      "/public/apps/python/3.7.0/lib/python3.7/site-packages/numpy/lib/function_base.py:2560: RuntimeWarning: invalid value encountered in true_divide\n",
      "  c /= stddev[None, :]\n"
     ]
    }
   ],
   "source": [
    "#df_int is gtex dataframe. CAUTION multiple instances of dataframe variable in below codes per line\n",
    "gtex_pairwise_pearson_corr = pd.DataFrame(np.corrcoef(df_int,rowvar=False),\n",
    "                                          columns=df_int.columns,index=df_int.columns)\n",
    "#tcga_brca_df_normal_all is tcga normal dataframe\n",
    "tcga_normal_all_pearson_corr = pd.DataFrame(np.corrcoef(tcga_brca_df_normal_all,rowvar=False),\n",
    "                                          columns=tcga_brca_df_normal_all.columns,index=tcga_brca_df_normal_all.columns)\n",
    "#tcga_brca_df_primtum_all is tcga tumor dataframe\n",
    "\n",
    "tcga_primtum_all_pearson_corr = pd.DataFrame(np.corrcoef(tcga_brca_df_primtum_all,rowvar=False),\n",
    "                                          columns=tcga_brca_df_primtum_all.columns,index=tcga_brca_df_primtum_all.columns)\n",
    "\n",
    "\n"
   ]
  },
  {
   "cell_type": "code",
   "execution_count": 9,
   "metadata": {},
   "outputs": [],
   "source": [
    "list_gtex_corr=[]\n",
    "list_gtex_oppcorr=[]\n",
    "list_tcga_normal_all_corr=[]\n",
    "list_tcga_normal_all_oppcorr=[]\n",
    "list_tcga_primtum_all_corr=[]\n",
    "list_tcga_primtum_all_oppcorr=[]\n",
    "\n",
    "\n",
    "for col in np.arange(0,gtex_pairwise_pearson_corr.shape[1]):\n",
    "    list_gtex_corr.append((gtex_pairwise_pearson_corr.iloc[:,col]>=correlation_cutoff).sum())\n",
    "    list_gtex_oppcorr.append((gtex_pairwise_pearson_corr.iloc[:,col]<=opposing_corr_cutoff).sum())\n",
    "\n",
    "\n",
    "for col in np.arange(0,tcga_normal_all_pearson_corr.shape[1]):\n",
    "    list_tcga_normal_all_corr.append((tcga_normal_all_pearson_corr.iloc[:,col]>=correlation_cutoff).sum())\n",
    "    list_tcga_normal_all_oppcorr.append((tcga_normal_all_pearson_corr.iloc[:,col]<=opposing_corr_cutoff).sum())\n",
    "    \n",
    "for col in np.arange(0,tcga_primtum_all_pearson_corr.shape[1]):\n",
    "    list_tcga_primtum_all_corr.append((tcga_primtum_all_pearson_corr.iloc[:,col]>=correlation_cutoff).sum())\n",
    "    list_tcga_primtum_all_oppcorr.append((tcga_primtum_all_pearson_corr.iloc[:,col]<=opposing_corr_cutoff).sum())"
   ]
  },
  {
   "cell_type": "code",
   "execution_count": 10,
   "metadata": {},
   "outputs": [],
   "source": [
    "itg_gtex_corr=gtex_pairwise_pearson_corr[gtex_pairwise_pearson_corr.columns[gtex_pairwise_pearson_corr.columns.str.contains(\"ITG\")]].loc[gtex_pairwise_pearson_corr.columns[gtex_pairwise_pearson_corr.columns.str.contains(\"ITG\")],:]\n",
    "itg_tcga_normal_corr=tcga_normal_all_pearson_corr[tcga_normal_all_pearson_corr.columns[tcga_normal_all_pearson_corr.columns.str.contains(\"ITG\")]].loc[tcga_normal_all_pearson_corr.columns[tcga_normal_all_pearson_corr.columns.str.contains(\"ITG\")],:]\n",
    "itg_tcga_primtum_corr=tcga_primtum_all_pearson_corr[tcga_primtum_all_pearson_corr.columns[tcga_primtum_all_pearson_corr.columns.str.contains(\"ITG\")]].loc[tcga_primtum_all_pearson_corr.columns[tcga_primtum_all_pearson_corr.columns.str.contains(\"ITG\")],:]\n",
    "\n"
   ]
  },
  {
   "cell_type": "code",
   "execution_count": 11,
   "metadata": {},
   "outputs": [],
   "source": [
    "itg_gtex_corr_list=[]\n",
    "itg_tcga_normal_list=[]\n",
    "itg_tcga_primtum_list=[]\n",
    "\n",
    "for integrin in itg_gtex_corr.columns:\n",
    "    itg_gtex_corr_list.append([integrin+':',itg_gtex_corr[integrin][(itg_gtex_corr[integrin]>=correlation_cutoff) & (itg_gtex_corr[integrin].index!=integrin)].index.values])\n",
    "for integrin in itg_gtex_corr.columns:\n",
    "    itg_tcga_normal_list.append([integrin+':',itg_tcga_normal_corr[integrin][(itg_tcga_normal_corr[integrin]>=correlation_cutoff) & (itg_tcga_normal_corr[integrin].index!=integrin)].index.values])\n",
    "for integrin in itg_gtex_corr.columns:\n",
    "    itg_tcga_primtum_list.append([integrin+':',itg_tcga_primtum_corr[integrin][(itg_tcga_primtum_corr[integrin]>=correlation_cutoff) & (itg_tcga_primtum_corr[integrin].index!=integrin)].index.values])\n",
    "    \n"
   ]
  },
  {
   "cell_type": "code",
   "execution_count": 37,
   "metadata": {},
   "outputs": [
    {
     "data": {
      "text/plain": [
       "[['ITGA10:', array([], dtype=object)],\n",
       " ['ITGB6:', array(['ITGA6', 'ITGA2', 'ITGA3'], dtype=object)],\n",
       " ['ITGA6:', array(['ITGB6', 'ITGA2', 'ITGB4'], dtype=object)],\n",
       " ['ITGA4:', array(['ITGB7', 'ITGAL', 'ITGAX', 'ITGB2'], dtype=object)],\n",
       " ['ITGAV:', array(['ITGA1', 'ITGB1', 'ITGB3'], dtype=object)],\n",
       " ['ITGA9:', array(['ITGA1', 'ITGA8', 'ITGB1', 'ITGA7'], dtype=object)],\n",
       " ['ITGB5:', array([], dtype=object)],\n",
       " ['ITGA1:',\n",
       "  array(['ITGAV', 'ITGA9', 'ITGB1', 'ITGA5', 'ITGA7'], dtype=object)],\n",
       " ['ITGA2:', array(['ITGB6', 'ITGA6', 'ITGA3'], dtype=object)],\n",
       " ['ITGB8:', array([], dtype=object)],\n",
       " ['ITGA8:', array(['ITGA9'], dtype=object)],\n",
       " ['ITGB1:',\n",
       "  array(['ITGAV', 'ITGA9', 'ITGA1', 'ITGA5', 'ITGB3'], dtype=object)],\n",
       " ['ITGB7:', array(['ITGA4', 'ITGAL'], dtype=object)],\n",
       " ['ITGA5:', array(['ITGA1', 'ITGB1', 'ITGA7', 'ITGB3'], dtype=object)],\n",
       " ['ITGA7:', array(['ITGA9', 'ITGA1', 'ITGA5'], dtype=object)],\n",
       " ['ITGBL1:', array([], dtype=object)],\n",
       " ['ITGA11:', array([], dtype=object)],\n",
       " ['ITGAL:', array(['ITGA4', 'ITGB7'], dtype=object)],\n",
       " ['ITGAM:', array(['ITGAX', 'ITGB2'], dtype=object)],\n",
       " ['ITGAX:', array(['ITGA4', 'ITGAM'], dtype=object)],\n",
       " ['ITGAD:', array([], dtype=object)],\n",
       " ['ITGAE:', array([], dtype=object)],\n",
       " ['ITGA2B:', array([], dtype=object)],\n",
       " ['ITGB3:', array(['ITGAV', 'ITGB1', 'ITGA5'], dtype=object)],\n",
       " ['ITGA3:', array(['ITGB6', 'ITGA2', 'ITGB4'], dtype=object)],\n",
       " ['ITGB4:', array(['ITGA6', 'ITGA3'], dtype=object)],\n",
       " ['ITGB2:', array(['ITGA4', 'ITGAM'], dtype=object)]]"
      ]
     },
     "execution_count": 37,
     "metadata": {},
     "output_type": "execute_result"
    }
   ],
   "source": [
    "itg_gtex_corr_list"
   ]
  },
  {
   "cell_type": "code",
   "execution_count": 14,
   "metadata": {},
   "outputs": [
    {
     "data": {
      "text/plain": [
       "[['ITGA10:', array([], dtype=object)],\n",
       " ['ITGB6:',\n",
       "  array(['ITGA2', 'ITGA6', 'ITGB4', 'ITGB7', 'ITGB8'], dtype=object)],\n",
       " ['ITGA6:', array(['ITGA2', 'ITGB6', 'ITGB8'], dtype=object)],\n",
       " ['ITGA4:',\n",
       "  array(['ITGA8', 'ITGAX', 'ITGAV', 'ITGAL', 'ITGAM', 'ITGB2'], dtype=object)],\n",
       " ['ITGAV:', array(['ITGA4', 'ITGAM', 'ITGB2'], dtype=object)],\n",
       " ['ITGA9:',\n",
       "  array(['ITGA8', 'ITGA1', 'ITGA7', 'ITGAM', 'ITGB3'], dtype=object)],\n",
       " ['ITGB5:', array([], dtype=object)],\n",
       " ['ITGA1:',\n",
       "  array(['ITGA8', 'ITGA9', 'ITGA5', 'ITGA7', 'ITGB1', 'ITGB3'], dtype=object)],\n",
       " ['ITGA2:', array(['ITGA6', 'ITGB7', 'ITGB6', 'ITGB8'], dtype=object)],\n",
       " ['ITGB8:', array(['ITGA2', 'ITGA6', 'ITGB6'], dtype=object)],\n",
       " ['ITGA8:',\n",
       "  array(['ITGA9', 'ITGA1', 'ITGA4', 'ITGAM', 'ITGB2'], dtype=object)],\n",
       " ['ITGB1:', array(['ITGA1', 'ITGA5', 'ITGB3'], dtype=object)],\n",
       " ['ITGB7:', array(['ITGA2', 'ITGB6'], dtype=object)],\n",
       " ['ITGA5:', array(['ITGA1', 'ITGA7', 'ITGB1', 'ITGB3'], dtype=object)],\n",
       " ['ITGA7:', array(['ITGA9', 'ITGA1', 'ITGA5', 'ITGB3'], dtype=object)],\n",
       " ['ITGBL1:', array([], dtype=object)],\n",
       " ['ITGA11:', array(['ITGB3'], dtype=object)],\n",
       " ['ITGAL:', array(['ITGA4', 'ITGAX', 'ITGAM', 'ITGB2'], dtype=object)],\n",
       " ['ITGAM:',\n",
       "  array(['ITGA8', 'ITGA9', 'ITGA4', 'ITGAX', 'ITGAV', 'ITGAL', 'ITGB2'],\n",
       "        dtype=object)],\n",
       " ['ITGAX:', array(['ITGA4', 'ITGAL', 'ITGAM', 'ITGB2'], dtype=object)],\n",
       " ['ITGAD:', array([], dtype=object)],\n",
       " ['ITGAE:', array([], dtype=object)],\n",
       " ['ITGA2B:', array([], dtype=object)],\n",
       " ['ITGB3:', array(['ITGA9', 'ITGA1', 'ITGA5', 'ITGA7', 'ITGB1', 'ITGA11'],\n",
       "        dtype=object)],\n",
       " ['ITGA3:', array(['ITGB4'], dtype=object)],\n",
       " ['ITGB4:', array(['ITGA3', 'ITGB6'], dtype=object)],\n",
       " ['ITGB2:',\n",
       "  array(['ITGA8', 'ITGA4', 'ITGAX', 'ITGAV', 'ITGAL', 'ITGAM'], dtype=object)]]"
      ]
     },
     "execution_count": 14,
     "metadata": {},
     "output_type": "execute_result"
    }
   ],
   "source": [
    "itg_tcga_normal_list"
   ]
  },
  {
   "cell_type": "code",
   "execution_count": 15,
   "metadata": {},
   "outputs": [
    {
     "data": {
      "text/plain": [
       "[['ITGA10:', array([], dtype=object)],\n",
       " ['ITGB6:', array(['ITGA3', 'ITGB4', 'ITGB8'], dtype=object)],\n",
       " ['ITGA6:', array([], dtype=object)],\n",
       " ['ITGA4:',\n",
       "  array(['ITGA8', 'ITGA9', 'ITGA1', 'ITGAX', 'ITGAL', 'ITGAM', 'ITGB7',\n",
       "         'ITGB2'], dtype=object)],\n",
       " ['ITGAV:', array([], dtype=object)],\n",
       " ['ITGA9:',\n",
       "  array(['ITGA8', 'ITGA1', 'ITGA2', 'ITGA4', 'ITGA7', 'ITGB1', 'ITGB3'],\n",
       "        dtype=object)],\n",
       " ['ITGB5:', array([], dtype=object)],\n",
       " ['ITGA1:',\n",
       "  array(['ITGA8', 'ITGA9', 'ITGA4', 'ITGB1', 'ITGB3'], dtype=object)],\n",
       " ['ITGA2:', array(['ITGA9', 'ITGB3', 'ITGB8'], dtype=object)],\n",
       " ['ITGB8:', array(['ITGA2', 'ITGB4', 'ITGB6'], dtype=object)],\n",
       " ['ITGA8:',\n",
       "  array(['ITGA9', 'ITGA1', 'ITGA4', 'ITGB1', 'ITGB3'], dtype=object)],\n",
       " ['ITGB1:', array(['ITGA8', 'ITGA9', 'ITGA1', 'ITGB3'], dtype=object)],\n",
       " ['ITGB7:',\n",
       "  array(['ITGA4', 'ITGAX', 'ITGAL', 'ITGAM', 'ITGB2'], dtype=object)],\n",
       " ['ITGA5:', array(['ITGA7', 'ITGB3'], dtype=object)],\n",
       " ['ITGA7:', array(['ITGA9', 'ITGA5', 'ITGB3'], dtype=object)],\n",
       " ['ITGBL1:', array(['ITGA11'], dtype=object)],\n",
       " ['ITGA11:', array(['ITGBL1'], dtype=object)],\n",
       " ['ITGAL:',\n",
       "  array(['ITGA4', 'ITGAX', 'ITGAM', 'ITGB7', 'ITGB2'], dtype=object)],\n",
       " ['ITGAM:',\n",
       "  array(['ITGA4', 'ITGAX', 'ITGAL', 'ITGB7', 'ITGB2'], dtype=object)],\n",
       " ['ITGAX:',\n",
       "  array(['ITGA4', 'ITGAL', 'ITGAM', 'ITGB7', 'ITGB2'], dtype=object)],\n",
       " ['ITGAD:', array([], dtype=object)],\n",
       " ['ITGAE:', array([], dtype=object)],\n",
       " ['ITGA2B:', array([], dtype=object)],\n",
       " ['ITGB3:',\n",
       "  array(['ITGA8', 'ITGA9', 'ITGA1', 'ITGA2', 'ITGA5', 'ITGA7', 'ITGB1'],\n",
       "        dtype=object)],\n",
       " ['ITGA3:', array(['ITGB4', 'ITGB6'], dtype=object)],\n",
       " ['ITGB4:', array(['ITGA3', 'ITGB6', 'ITGB8'], dtype=object)],\n",
       " ['ITGB2:',\n",
       "  array(['ITGA4', 'ITGAX', 'ITGAL', 'ITGAM', 'ITGB7'], dtype=object)]]"
      ]
     },
     "execution_count": 15,
     "metadata": {},
     "output_type": "execute_result"
    }
   ],
   "source": [
    "itg_tcga_primtum_list"
   ]
  },
  {
   "cell_type": "code",
   "execution_count": 16,
   "metadata": {},
   "outputs": [
    {
     "data": {
      "text/plain": [
       "<matplotlib.legend.Legend at 0x2aabdf0c1c88>"
      ]
     },
     "execution_count": 16,
     "metadata": {},
     "output_type": "execute_result"
    },
    {
     "data": {
      "image/png": "[encoded data removed]",
      "text/plain": [
       "<Figure size 936x576 with 2 Axes>"
      ]
     },
     "metadata": {
      "needs_background": "light"
     },
     "output_type": "display_data"
    }
   ],
   "source": [
    "%matplotlib inline\n",
    "fig,axs= plt.subplots(figsize=(13,8))\n",
    "data=np.array(list_gtex_corr)  \n",
    "# getting data of the histogram\n",
    "count, bins_count = np.histogram(data, bins=np.arange(0,max(data),1))\n",
    "  \n",
    "# finding the PDF of the histogram using count values\n",
    "pdf = count / sum(count)\n",
    "  \n",
    "# using numpy np.cumsum to calculate the CDF\n",
    "# We can also find using the PDF values by looping and adding\n",
    "cdf = np.cumsum(pdf)\n",
    "  \n",
    "# plotting PDF and CDF\n",
    "plt.hist(data)\n",
    "plt.ylabel('Count')\n",
    "plt.xlabel('gtex')\n",
    "\n",
    "ax=plt.twinx()\n",
    "\n",
    "#plt.plot(bins_count[1:], pdf, color=\"red\", label=\"PDF\")\n",
    "ax.plot(cdf, label=\"CDF\",color='red',linewidth=3)\n",
    "ax.set_ylabel('cumulative', color='red',fontsize=12)\n",
    "ax.tick_params(axis=\"y\", colors=\"red\")\n",
    "plt.legend()"
   ]
  },
  {
   "cell_type": "code",
   "execution_count": 17,
   "metadata": {},
   "outputs": [
    {
     "data": {
      "text/plain": [
       "<matplotlib.legend.Legend at 0x2aabdf1e7dd8>"
      ]
     },
     "execution_count": 17,
     "metadata": {},
     "output_type": "execute_result"
    },
    {
     "data": {
      "image/png": "[encoded data removed]",
      "text/plain": [
       "<Figure size 432x288 with 2 Axes>"
      ]
     },
     "metadata": {
      "needs_background": "light"
     },
     "output_type": "display_data"
    }
   ],
   "source": [
    "%matplotlib inline\n",
    "data=np.array(list_tcga_normal_all_corr)  \n",
    "# getting data of the histogram\n",
    "count, bins_count = np.histogram(data, bins=np.arange(0,max(data),1))\n",
    "  \n",
    "# finding the PDF of the histogram using count values\n",
    "pdf = count / sum(count)\n",
    "  \n",
    "# using numpy np.cumsum to calculate the CDF\n",
    "# We can also find using the PDF values by looping and adding\n",
    "cdf = np.cumsum(pdf)\n",
    "  \n",
    "# plotting PDF and CDF\n",
    "plt.hist(data)\n",
    "plt.ylabel('Count')\n",
    "plt.xlabel('TCGA normal')\n",
    "ax=plt.twinx()\n",
    "\n",
    "#plt.plot(bins_count[1:], pdf, color=\"red\", label=\"PDF\")\n",
    "ax.plot(cdf, label=\"CDF\",color='red',linewidth=3)\n",
    "ax.set_ylabel('cumulative', color='red',fontsize=12)\n",
    "ax.tick_params(axis=\"y\", colors=\"red\")\n",
    "\n",
    "plt.legend()"
   ]
  },
  {
   "cell_type": "code",
   "execution_count": 18,
   "metadata": {},
   "outputs": [
    {
     "data": {
      "text/plain": [
       "<matplotlib.legend.Legend at 0x2aabdf309278>"
      ]
     },
     "execution_count": 18,
     "metadata": {},
     "output_type": "execute_result"
    },
    {
     "data": {
      "image/png": "[encoded data removed]",
      "text/plain": [
       "<Figure size 936x576 with 2 Axes>"
      ]
     },
     "metadata": {
      "needs_background": "light"
     },
     "output_type": "display_data"
    }
   ],
   "source": [
    "%matplotlib inline\n",
    "fig,axs= plt.subplots(figsize=(13,8))\n",
    "data=np.array(list_tcga_primtum_all_corr)  \n",
    "# getting data of the histogram\n",
    "count, bins_count = np.histogram(data, bins=np.arange(0,max(data),1))\n",
    "  \n",
    "# finding the PDF of the histogram using count values\n",
    "pdf = count / sum(count)\n",
    "  \n",
    "# using numpy np.cumsum to calculate the CDF\n",
    "# We can also find using the PDF values by looping and adding\n",
    "cdf = np.cumsum(pdf)\n",
    "  \n",
    "# plotting PDF and CDF\n",
    "plt.hist(data)\n",
    "plt.ylabel('Count')\n",
    "plt.xlabel('TCGA primtum')\n",
    "ax=plt.twinx()\n",
    "\n",
    "#plt.plot(bins_count[1:], pdf, color=\"red\", label=\"PDF\")\n",
    "ax.plot(cdf, label=\"CDF\",color='red',linewidth=3)\n",
    "ax.set_ylabel('cumulative', color='red',fontsize=12)\n",
    "ax.tick_params(axis=\"y\", colors=\"red\")\n",
    "\n",
    "plt.legend()"
   ]
  },
  {
   "cell_type": "markdown",
   "metadata": {},
   "source": [
    "# formally do all integrins, tables 1,2 and 3 using the functions"
   ]
  },
  {
   "cell_type": "code",
   "execution_count": 19,
   "metadata": {
    "scrolled": false
   },
   "outputs": [
    {
     "name": "stdout",
     "output_type": "stream",
     "text": [
      "for 1th dataset ENTER: gtex_all\n",
      "for 2th dataset ENTER: tcga_normal_all\n",
      "no overlap between datasets\n",
      "insert name for 1th datasetgtex_all\n",
      "insert name for 2th datasettcga_normal_all\n",
      "for dataset ENTER: tcga_normal_all\n",
      "insert name for other datasettcga_normal_all\n",
      "1st: high cutoff applied to gtex dataset\n",
      "2nd: common genes identified with other dataset\n",
      "3rd: both datasets combined\n",
      "4th: High cutoff applied to non-gtex dataset\n",
      "for dataset ENTER: tcga_primtum_all\n",
      "insert name for other datasettcga_primtum_all\n",
      "1st: high cutoff applied to gtex dataset\n",
      "2nd: common genes identified with other dataset\n",
      "3rd: both datasets combined\n",
      "4th: High cutoff applied to non-gtex dataset\n",
      "1st: high cutoff applied to gtex dataset\n",
      "2nd: common genes identified with other datasets\n",
      "3rd: all datasets combined\n",
      "4th: High cutoff applied to non-gtex datasets\n"
     ]
    },
    {
     "data": {
      "text/html": [
       "<table border=\"1\" class=\"dataframe\">\n",
       "  <thead>\n",
       "    <tr style=\"text-align: right;\">\n",
       "      <th></th>\n",
       "      <th>GTEX_highly_correlated</th>\n",
       "      <th>%also_highly_correlated_in_TCGA_normal</th>\n",
       "      <th>%also_highly_correlated_in_TCGA_primtum</th>\n",
       "      <th>%also_highly_correlated_in_all_three</th>\n",
       "    </tr>\n",
       "  </thead>\n",
       "  <tbody>\n",
       "    <tr>\n",
       "      <th>ITGA7</th>\n",
       "      <td>576</td>\n",
       "      <td>55.381944(319)</td>\n",
       "      <td>39.062500(225)</td>\n",
       "      <td>35.243056(203)</td>\n",
       "    </tr>\n",
       "  </tbody>\n",
       "</table>"
      ],
      "text/plain": [
       "<IPython.core.display.HTML object>"
      ]
     },
     "metadata": {},
     "output_type": "display_data"
    },
    {
     "name": "stdout",
     "output_type": "stream",
     "text": [
      "for 1th dataset ENTER: gtex_all\n",
      "for 2th dataset ENTER: tcga_normal_all\n",
      "no overlap between datasets\n",
      "insert name for 1th datasetgtex_all\n",
      "insert name for 2th datasettcga_normal_all\n",
      "for dataset ENTER: tcga_normal_all\n",
      "insert name for other datasettcga_normal_all\n",
      "1st: high cutoff applied to gtex dataset\n",
      "2nd: common genes identified with other dataset\n",
      "3rd: both datasets combined\n",
      "4th: High cutoff applied to non-gtex dataset\n",
      "for dataset ENTER: tcga_primtum_all\n",
      "insert name for other datasettcga_primtum_all\n",
      "1st: high cutoff applied to gtex dataset\n",
      "2nd: common genes identified with other dataset\n",
      "3rd: both datasets combined\n",
      "4th: High cutoff applied to non-gtex dataset\n",
      "1st: high cutoff applied to gtex dataset\n",
      "2nd: common genes identified with other datasets\n",
      "3rd: all datasets combined\n",
      "4th: High cutoff applied to non-gtex datasets\n"
     ]
    },
    {
     "data": {
      "text/html": [
       "<table border=\"1\" class=\"dataframe\">\n",
       "  <thead>\n",
       "    <tr style=\"text-align: right;\">\n",
       "      <th></th>\n",
       "      <th>GTEX_highly_correlated</th>\n",
       "      <th>%also_highly_correlated_in_TCGA_normal</th>\n",
       "      <th>%also_highly_correlated_in_TCGA_primtum</th>\n",
       "      <th>%also_highly_correlated_in_all_three</th>\n",
       "    </tr>\n",
       "  </thead>\n",
       "  <tbody>\n",
       "    <tr>\n",
       "      <th>ITGB8</th>\n",
       "      <td>202</td>\n",
       "      <td>5.940594(12)</td>\n",
       "      <td>1.980198(4)</td>\n",
       "      <td>0.990099(2)</td>\n",
       "    </tr>\n",
       "  </tbody>\n",
       "</table>"
      ],
      "text/plain": [
       "<IPython.core.display.HTML object>"
      ]
     },
     "metadata": {},
     "output_type": "display_data"
    },
    {
     "name": "stdout",
     "output_type": "stream",
     "text": [
      "for 1th dataset ENTER: gtex_all\n",
      "for 2th dataset ENTER: tcga_normal_all\n",
      "no overlap between datasets\n",
      "insert name for 1th datasetgtex_all\n",
      "insert name for 2th datasettcga_normal_all\n",
      "for dataset ENTER: tcga_normal_all\n",
      "insert name for other datasettcga_normal_all\n",
      "1st: high cutoff applied to gtex dataset\n",
      "2nd: common genes identified with other dataset\n",
      "3rd: both datasets combined\n",
      "4th: High cutoff applied to non-gtex dataset\n",
      "for dataset ENTER: tcga_primtum_all\n",
      "insert name for other datasettcga_primtum_all\n",
      "1st: high cutoff applied to gtex dataset\n",
      "2nd: common genes identified with other dataset\n",
      "3rd: both datasets combined\n",
      "4th: High cutoff applied to non-gtex dataset\n",
      "1st: high cutoff applied to gtex dataset\n",
      "2nd: common genes identified with other datasets\n",
      "3rd: all datasets combined\n",
      "4th: High cutoff applied to non-gtex datasets\n"
     ]
    },
    {
     "data": {
      "text/html": [
       "<table border=\"1\" class=\"dataframe\">\n",
       "  <thead>\n",
       "    <tr style=\"text-align: right;\">\n",
       "      <th></th>\n",
       "      <th>GTEX_highly_correlated</th>\n",
       "      <th>%also_highly_correlated_in_TCGA_normal</th>\n",
       "      <th>%also_highly_correlated_in_TCGA_primtum</th>\n",
       "      <th>%also_highly_correlated_in_all_three</th>\n",
       "    </tr>\n",
       "  </thead>\n",
       "  <tbody>\n",
       "    <tr>\n",
       "      <th>ITGB6</th>\n",
       "      <td>422</td>\n",
       "      <td>20.853081(88)</td>\n",
       "      <td>16.113744(68)</td>\n",
       "      <td>10.189573(43)</td>\n",
       "    </tr>\n",
       "  </tbody>\n",
       "</table>"
      ],
      "text/plain": [
       "<IPython.core.display.HTML object>"
      ]
     },
     "metadata": {},
     "output_type": "display_data"
    },
    {
     "name": "stdout",
     "output_type": "stream",
     "text": [
      "for 1th dataset ENTER: gtex_all\n",
      "for 2th dataset ENTER: tcga_normal_all\n",
      "no overlap between datasets\n",
      "insert name for 1th datasetgtex_all\n",
      "insert name for 2th datasettcga_normal_all\n",
      "for dataset ENTER: tcga_normal_all\n",
      "insert name for other datasettcga_normal_all\n",
      "1st: high cutoff applied to gtex dataset\n",
      "2nd: common genes identified with other dataset\n",
      "3rd: both datasets combined\n",
      "4th: High cutoff applied to non-gtex dataset\n",
      "for dataset ENTER: tcga_primtum_all\n",
      "insert name for other datasettcga_primtum_all\n",
      "1st: high cutoff applied to gtex dataset\n",
      "2nd: common genes identified with other dataset\n",
      "3rd: both datasets combined\n",
      "4th: High cutoff applied to non-gtex dataset\n",
      "1st: high cutoff applied to gtex dataset\n",
      "2nd: common genes identified with other datasets\n",
      "3rd: all datasets combined\n",
      "4th: High cutoff applied to non-gtex datasets\n"
     ]
    },
    {
     "name": "stderr",
     "output_type": "stream",
     "text": [
      "/public/apps/python/3.7.0/lib/python3.7/site-packages/ipykernel_launcher.py:33: RuntimeWarning: invalid value encountered in long_scalars\n",
      "/public/apps/python/3.7.0/lib/python3.7/site-packages/ipykernel_launcher.py:34: RuntimeWarning: invalid value encountered in long_scalars\n",
      "/public/apps/python/3.7.0/lib/python3.7/site-packages/ipykernel_launcher.py:35: RuntimeWarning: invalid value encountered in long_scalars\n"
     ]
    },
    {
     "data": {
      "text/html": [
       "<table border=\"1\" class=\"dataframe\">\n",
       "  <thead>\n",
       "    <tr style=\"text-align: right;\">\n",
       "      <th></th>\n",
       "      <th>GTEX_highly_correlated</th>\n",
       "      <th>%also_highly_correlated_in_TCGA_normal</th>\n",
       "      <th>%also_highly_correlated_in_TCGA_primtum</th>\n",
       "      <th>%also_highly_correlated_in_all_three</th>\n",
       "    </tr>\n",
       "  </thead>\n",
       "  <tbody>\n",
       "    <tr>\n",
       "      <th>ITGA10</th>\n",
       "      <td>0</td>\n",
       "      <td>nan(0)</td>\n",
       "      <td>nan(0)</td>\n",
       "      <td>nan(0)</td>\n",
       "    </tr>\n",
       "  </tbody>\n",
       "</table>"
      ],
      "text/plain": [
       "<IPython.core.display.HTML object>"
      ]
     },
     "metadata": {},
     "output_type": "display_data"
    },
    {
     "name": "stdout",
     "output_type": "stream",
     "text": [
      "for 1th dataset ENTER: gtex_all\n",
      "for 2th dataset ENTER: tcga_normal_all\n",
      "no overlap between datasets\n",
      "insert name for 1th datasetgtex_all\n",
      "insert name for 2th datasettcga_normal_all\n",
      "for dataset ENTER: tcga_normal_all\n",
      "insert name for other datasettcga_normal_all\n",
      "1st: high cutoff applied to gtex dataset\n",
      "2nd: common genes identified with other dataset\n",
      "3rd: both datasets combined\n",
      "4th: High cutoff applied to non-gtex dataset\n",
      "for dataset ENTER: tcga_primtum_all\n",
      "insert name for other datasettcga_primtum_all\n",
      "1st: high cutoff applied to gtex dataset\n",
      "2nd: common genes identified with other dataset\n",
      "3rd: both datasets combined\n",
      "4th: High cutoff applied to non-gtex dataset\n",
      "1st: high cutoff applied to gtex dataset\n",
      "2nd: common genes identified with other datasets\n",
      "3rd: all datasets combined\n",
      "4th: High cutoff applied to non-gtex datasets\n"
     ]
    },
    {
     "data": {
      "text/html": [
       "<table border=\"1\" class=\"dataframe\">\n",
       "  <thead>\n",
       "    <tr style=\"text-align: right;\">\n",
       "      <th></th>\n",
       "      <th>GTEX_highly_correlated</th>\n",
       "      <th>%also_highly_correlated_in_TCGA_normal</th>\n",
       "      <th>%also_highly_correlated_in_TCGA_primtum</th>\n",
       "      <th>%also_highly_correlated_in_all_three</th>\n",
       "    </tr>\n",
       "  </thead>\n",
       "  <tbody>\n",
       "    <tr>\n",
       "      <th>ITGA6</th>\n",
       "      <td>155</td>\n",
       "      <td>26.451613(41)</td>\n",
       "      <td>1.290323(2)</td>\n",
       "      <td>0.000000(0)</td>\n",
       "    </tr>\n",
       "  </tbody>\n",
       "</table>"
      ],
      "text/plain": [
       "<IPython.core.display.HTML object>"
      ]
     },
     "metadata": {},
     "output_type": "display_data"
    },
    {
     "name": "stdout",
     "output_type": "stream",
     "text": [
      "for 1th dataset ENTER: gtex_all\n",
      "for 2th dataset ENTER: tcga_normal_all\n",
      "no overlap between datasets\n",
      "insert name for 1th datasetgtex_all\n",
      "insert name for 2th datasettcga_normal_all\n",
      "for dataset ENTER: tcga_normal_all\n",
      "insert name for other datasettcga_normal_all\n",
      "1st: high cutoff applied to gtex dataset\n",
      "2nd: common genes identified with other dataset\n",
      "3rd: both datasets combined\n",
      "4th: High cutoff applied to non-gtex dataset\n",
      "for dataset ENTER: tcga_primtum_all\n",
      "insert name for other datasettcga_primtum_all\n",
      "1st: high cutoff applied to gtex dataset\n",
      "2nd: common genes identified with other dataset\n",
      "3rd: both datasets combined\n",
      "4th: High cutoff applied to non-gtex dataset\n",
      "1st: high cutoff applied to gtex dataset\n",
      "2nd: common genes identified with other datasets\n",
      "3rd: all datasets combined\n",
      "4th: High cutoff applied to non-gtex datasets\n"
     ]
    },
    {
     "data": {
      "text/html": [
       "<table border=\"1\" class=\"dataframe\">\n",
       "  <thead>\n",
       "    <tr style=\"text-align: right;\">\n",
       "      <th></th>\n",
       "      <th>GTEX_highly_correlated</th>\n",
       "      <th>%also_highly_correlated_in_TCGA_normal</th>\n",
       "      <th>%also_highly_correlated_in_TCGA_primtum</th>\n",
       "      <th>%also_highly_correlated_in_all_three</th>\n",
       "    </tr>\n",
       "  </thead>\n",
       "  <tbody>\n",
       "    <tr>\n",
       "      <th>ITGA4</th>\n",
       "      <td>281</td>\n",
       "      <td>60.142349(169)</td>\n",
       "      <td>45.195730(127)</td>\n",
       "      <td>40.925267(115)</td>\n",
       "    </tr>\n",
       "  </tbody>\n",
       "</table>"
      ],
      "text/plain": [
       "<IPython.core.display.HTML object>"
      ]
     },
     "metadata": {},
     "output_type": "display_data"
    },
    {
     "name": "stdout",
     "output_type": "stream",
     "text": [
      "for 1th dataset ENTER: gtex_all\n",
      "for 2th dataset ENTER: tcga_normal_all\n",
      "no overlap between datasets\n",
      "insert name for 1th datasetgtex_all\n",
      "insert name for 2th datasettcga_normal_all\n",
      "for dataset ENTER: tcga_normal_all\n",
      "insert name for other datasettcga_normal_all\n",
      "1st: high cutoff applied to gtex dataset\n",
      "2nd: common genes identified with other dataset\n",
      "3rd: both datasets combined\n",
      "4th: High cutoff applied to non-gtex dataset\n",
      "for dataset ENTER: tcga_primtum_all\n",
      "insert name for other datasettcga_primtum_all\n",
      "1st: high cutoff applied to gtex dataset\n",
      "2nd: common genes identified with other dataset\n",
      "3rd: both datasets combined\n",
      "4th: High cutoff applied to non-gtex dataset\n",
      "1st: high cutoff applied to gtex dataset\n",
      "2nd: common genes identified with other datasets\n",
      "3rd: all datasets combined\n",
      "4th: High cutoff applied to non-gtex datasets\n"
     ]
    },
    {
     "data": {
      "text/html": [
       "<table border=\"1\" class=\"dataframe\">\n",
       "  <thead>\n",
       "    <tr style=\"text-align: right;\">\n",
       "      <th></th>\n",
       "      <th>GTEX_highly_correlated</th>\n",
       "      <th>%also_highly_correlated_in_TCGA_normal</th>\n",
       "      <th>%also_highly_correlated_in_TCGA_primtum</th>\n",
       "      <th>%also_highly_correlated_in_all_three</th>\n",
       "    </tr>\n",
       "  </thead>\n",
       "  <tbody>\n",
       "    <tr>\n",
       "      <th>ITGAV</th>\n",
       "      <td>1525</td>\n",
       "      <td>16.655738(254)</td>\n",
       "      <td>7.672131(117)</td>\n",
       "      <td>6.098361(93)</td>\n",
       "    </tr>\n",
       "  </tbody>\n",
       "</table>"
      ],
      "text/plain": [
       "<IPython.core.display.HTML object>"
      ]
     },
     "metadata": {},
     "output_type": "display_data"
    },
    {
     "name": "stdout",
     "output_type": "stream",
     "text": [
      "for 1th dataset ENTER: gtex_all\n",
      "for 2th dataset ENTER: tcga_normal_all\n",
      "no overlap between datasets\n",
      "insert name for 1th datasetgtex_all\n",
      "insert name for 2th datasettcga_normal_all\n",
      "for dataset ENTER: tcga_normal_all\n",
      "insert name for other datasettcga_normal_all\n",
      "1st: high cutoff applied to gtex dataset\n",
      "2nd: common genes identified with other dataset\n",
      "3rd: both datasets combined\n",
      "4th: High cutoff applied to non-gtex dataset\n",
      "for dataset ENTER: tcga_primtum_all\n",
      "insert name for other datasettcga_primtum_all\n",
      "1st: high cutoff applied to gtex dataset\n",
      "2nd: common genes identified with other dataset\n",
      "3rd: both datasets combined\n",
      "4th: High cutoff applied to non-gtex dataset\n",
      "1st: high cutoff applied to gtex dataset\n",
      "2nd: common genes identified with other datasets\n",
      "3rd: all datasets combined\n",
      "4th: High cutoff applied to non-gtex datasets\n"
     ]
    },
    {
     "data": {
      "text/html": [
       "<table border=\"1\" class=\"dataframe\">\n",
       "  <thead>\n",
       "    <tr style=\"text-align: right;\">\n",
       "      <th></th>\n",
       "      <th>GTEX_highly_correlated</th>\n",
       "      <th>%also_highly_correlated_in_TCGA_normal</th>\n",
       "      <th>%also_highly_correlated_in_TCGA_primtum</th>\n",
       "      <th>%also_highly_correlated_in_all_three</th>\n",
       "    </tr>\n",
       "  </thead>\n",
       "  <tbody>\n",
       "    <tr>\n",
       "      <th>ITGA9</th>\n",
       "      <td>906</td>\n",
       "      <td>38.852097(352)</td>\n",
       "      <td>31.125828(282)</td>\n",
       "      <td>25.938190(235)</td>\n",
       "    </tr>\n",
       "  </tbody>\n",
       "</table>"
      ],
      "text/plain": [
       "<IPython.core.display.HTML object>"
      ]
     },
     "metadata": {},
     "output_type": "display_data"
    },
    {
     "name": "stdout",
     "output_type": "stream",
     "text": [
      "for 1th dataset ENTER: gtex_all\n",
      "for 2th dataset ENTER: tcga_normal_all\n",
      "no overlap between datasets\n",
      "insert name for 1th datasetgtex_all\n",
      "insert name for 2th datasettcga_normal_all\n",
      "for dataset ENTER: tcga_normal_all\n",
      "insert name for other datasettcga_normal_all\n",
      "1st: high cutoff applied to gtex dataset\n",
      "2nd: common genes identified with other dataset\n",
      "3rd: both datasets combined\n",
      "4th: High cutoff applied to non-gtex dataset\n",
      "for dataset ENTER: tcga_primtum_all\n",
      "insert name for other datasettcga_primtum_all\n",
      "1st: high cutoff applied to gtex dataset\n",
      "2nd: common genes identified with other dataset\n",
      "3rd: both datasets combined\n",
      "4th: High cutoff applied to non-gtex dataset\n",
      "1st: high cutoff applied to gtex dataset\n",
      "2nd: common genes identified with other datasets\n",
      "3rd: all datasets combined\n",
      "4th: High cutoff applied to non-gtex datasets\n"
     ]
    },
    {
     "data": {
      "text/html": [
       "<table border=\"1\" class=\"dataframe\">\n",
       "  <thead>\n",
       "    <tr style=\"text-align: right;\">\n",
       "      <th></th>\n",
       "      <th>GTEX_highly_correlated</th>\n",
       "      <th>%also_highly_correlated_in_TCGA_normal</th>\n",
       "      <th>%also_highly_correlated_in_TCGA_primtum</th>\n",
       "      <th>%also_highly_correlated_in_all_three</th>\n",
       "    </tr>\n",
       "  </thead>\n",
       "  <tbody>\n",
       "    <tr>\n",
       "      <th>ITGB5</th>\n",
       "      <td>8</td>\n",
       "      <td>12.500000(1)</td>\n",
       "      <td>0.000000(0)</td>\n",
       "      <td>0.000000(0)</td>\n",
       "    </tr>\n",
       "  </tbody>\n",
       "</table>"
      ],
      "text/plain": [
       "<IPython.core.display.HTML object>"
      ]
     },
     "metadata": {},
     "output_type": "display_data"
    },
    {
     "name": "stdout",
     "output_type": "stream",
     "text": [
      "for 1th dataset ENTER: gtex_all\n",
      "for 2th dataset ENTER: tcga_normal_all\n",
      "no overlap between datasets\n",
      "insert name for 1th datasetgtex_all\n",
      "insert name for 2th datasettcga_normal_all\n",
      "for dataset ENTER: tcga_normal_all\n",
      "insert name for other datasettcga_normal_all\n",
      "1st: high cutoff applied to gtex dataset\n",
      "2nd: common genes identified with other dataset\n",
      "3rd: both datasets combined\n",
      "4th: High cutoff applied to non-gtex dataset\n",
      "for dataset ENTER: tcga_primtum_all\n",
      "insert name for other datasettcga_primtum_all\n",
      "1st: high cutoff applied to gtex dataset\n",
      "2nd: common genes identified with other dataset\n",
      "3rd: both datasets combined\n",
      "4th: High cutoff applied to non-gtex dataset\n",
      "1st: high cutoff applied to gtex dataset\n",
      "2nd: common genes identified with other datasets\n",
      "3rd: all datasets combined\n",
      "4th: High cutoff applied to non-gtex datasets\n"
     ]
    },
    {
     "data": {
      "text/html": [
       "<table border=\"1\" class=\"dataframe\">\n",
       "  <thead>\n",
       "    <tr style=\"text-align: right;\">\n",
       "      <th></th>\n",
       "      <th>GTEX_highly_correlated</th>\n",
       "      <th>%also_highly_correlated_in_TCGA_normal</th>\n",
       "      <th>%also_highly_correlated_in_TCGA_primtum</th>\n",
       "      <th>%also_highly_correlated_in_all_three</th>\n",
       "    </tr>\n",
       "  </thead>\n",
       "  <tbody>\n",
       "    <tr>\n",
       "      <th>ITGA1</th>\n",
       "      <td>1263</td>\n",
       "      <td>39.350752(497)</td>\n",
       "      <td>22.961203(290)</td>\n",
       "      <td>19.873317(251)</td>\n",
       "    </tr>\n",
       "  </tbody>\n",
       "</table>"
      ],
      "text/plain": [
       "<IPython.core.display.HTML object>"
      ]
     },
     "metadata": {},
     "output_type": "display_data"
    },
    {
     "name": "stdout",
     "output_type": "stream",
     "text": [
      "for 1th dataset ENTER: gtex_all\n",
      "for 2th dataset ENTER: tcga_normal_all\n",
      "no overlap between datasets\n",
      "insert name for 1th datasetgtex_all\n",
      "insert name for 2th datasettcga_normal_all\n",
      "for dataset ENTER: tcga_normal_all\n",
      "insert name for other datasettcga_normal_all\n",
      "1st: high cutoff applied to gtex dataset\n",
      "2nd: common genes identified with other dataset\n",
      "3rd: both datasets combined\n",
      "4th: High cutoff applied to non-gtex dataset\n",
      "for dataset ENTER: tcga_primtum_all\n",
      "insert name for other datasettcga_primtum_all\n",
      "1st: high cutoff applied to gtex dataset\n",
      "2nd: common genes identified with other dataset\n",
      "3rd: both datasets combined\n",
      "4th: High cutoff applied to non-gtex dataset\n",
      "1st: high cutoff applied to gtex dataset\n",
      "2nd: common genes identified with other datasets\n",
      "3rd: all datasets combined\n",
      "4th: High cutoff applied to non-gtex datasets\n"
     ]
    },
    {
     "data": {
      "text/html": [
       "<table border=\"1\" class=\"dataframe\">\n",
       "  <thead>\n",
       "    <tr style=\"text-align: right;\">\n",
       "      <th></th>\n",
       "      <th>GTEX_highly_correlated</th>\n",
       "      <th>%also_highly_correlated_in_TCGA_normal</th>\n",
       "      <th>%also_highly_correlated_in_TCGA_primtum</th>\n",
       "      <th>%also_highly_correlated_in_all_three</th>\n",
       "    </tr>\n",
       "  </thead>\n",
       "  <tbody>\n",
       "    <tr>\n",
       "      <th>ITGA2</th>\n",
       "      <td>173</td>\n",
       "      <td>12.138728(21)</td>\n",
       "      <td>3.468208(6)</td>\n",
       "      <td>2.312139(4)</td>\n",
       "    </tr>\n",
       "  </tbody>\n",
       "</table>"
      ],
      "text/plain": [
       "<IPython.core.display.HTML object>"
      ]
     },
     "metadata": {},
     "output_type": "display_data"
    },
    {
     "name": "stdout",
     "output_type": "stream",
     "text": [
      "for 1th dataset ENTER: gtex_all\n",
      "for 2th dataset ENTER: tcga_normal_all\n",
      "no overlap between datasets\n",
      "insert name for 1th datasetgtex_all\n",
      "insert name for 2th datasettcga_normal_all\n",
      "for dataset ENTER: tcga_normal_all\n",
      "insert name for other datasettcga_normal_all\n",
      "1st: high cutoff applied to gtex dataset\n",
      "2nd: common genes identified with other dataset\n",
      "3rd: both datasets combined\n",
      "4th: High cutoff applied to non-gtex dataset\n",
      "for dataset ENTER: tcga_primtum_all\n",
      "insert name for other datasettcga_primtum_all\n",
      "1st: high cutoff applied to gtex dataset\n",
      "2nd: common genes identified with other dataset\n",
      "3rd: both datasets combined\n",
      "4th: High cutoff applied to non-gtex dataset\n",
      "1st: high cutoff applied to gtex dataset\n",
      "2nd: common genes identified with other datasets\n",
      "3rd: all datasets combined\n",
      "4th: High cutoff applied to non-gtex datasets\n"
     ]
    },
    {
     "data": {
      "text/html": [
       "<table border=\"1\" class=\"dataframe\">\n",
       "  <thead>\n",
       "    <tr style=\"text-align: right;\">\n",
       "      <th></th>\n",
       "      <th>GTEX_highly_correlated</th>\n",
       "      <th>%also_highly_correlated_in_TCGA_normal</th>\n",
       "      <th>%also_highly_correlated_in_TCGA_primtum</th>\n",
       "      <th>%also_highly_correlated_in_all_three</th>\n",
       "    </tr>\n",
       "  </thead>\n",
       "  <tbody>\n",
       "    <tr>\n",
       "      <th>ITGA8</th>\n",
       "      <td>184</td>\n",
       "      <td>33.695652(62)</td>\n",
       "      <td>30.434783(56)</td>\n",
       "      <td>19.565217(36)</td>\n",
       "    </tr>\n",
       "  </tbody>\n",
       "</table>"
      ],
      "text/plain": [
       "<IPython.core.display.HTML object>"
      ]
     },
     "metadata": {},
     "output_type": "display_data"
    },
    {
     "name": "stdout",
     "output_type": "stream",
     "text": [
      "for 1th dataset ENTER: gtex_all\n",
      "for 2th dataset ENTER: tcga_normal_all\n",
      "no overlap between datasets\n",
      "insert name for 1th datasetgtex_all\n",
      "insert name for 2th datasettcga_normal_all\n",
      "for dataset ENTER: tcga_normal_all\n",
      "insert name for other datasettcga_normal_all\n",
      "1st: high cutoff applied to gtex dataset\n",
      "2nd: common genes identified with other dataset\n",
      "3rd: both datasets combined\n",
      "4th: High cutoff applied to non-gtex dataset\n",
      "for dataset ENTER: tcga_primtum_all\n",
      "insert name for other datasettcga_primtum_all\n",
      "1st: high cutoff applied to gtex dataset\n",
      "2nd: common genes identified with other dataset\n",
      "3rd: both datasets combined\n",
      "4th: High cutoff applied to non-gtex dataset\n",
      "1st: high cutoff applied to gtex dataset\n",
      "2nd: common genes identified with other datasets\n",
      "3rd: all datasets combined\n",
      "4th: High cutoff applied to non-gtex datasets\n"
     ]
    },
    {
     "data": {
      "text/html": [
       "<table border=\"1\" class=\"dataframe\">\n",
       "  <thead>\n",
       "    <tr style=\"text-align: right;\">\n",
       "      <th></th>\n",
       "      <th>GTEX_highly_correlated</th>\n",
       "      <th>%also_highly_correlated_in_TCGA_normal</th>\n",
       "      <th>%also_highly_correlated_in_TCGA_primtum</th>\n",
       "      <th>%also_highly_correlated_in_all_three</th>\n",
       "    </tr>\n",
       "  </thead>\n",
       "  <tbody>\n",
       "    <tr>\n",
       "      <th>ITGB1</th>\n",
       "      <td>1027</td>\n",
       "      <td>28.334956(291)</td>\n",
       "      <td>12.658228(130)</td>\n",
       "      <td>8.373905(86)</td>\n",
       "    </tr>\n",
       "  </tbody>\n",
       "</table>"
      ],
      "text/plain": [
       "<IPython.core.display.HTML object>"
      ]
     },
     "metadata": {},
     "output_type": "display_data"
    },
    {
     "name": "stdout",
     "output_type": "stream",
     "text": [
      "for 1th dataset ENTER: gtex_all\n",
      "for 2th dataset ENTER: tcga_normal_all\n",
      "no overlap between datasets\n",
      "insert name for 1th datasetgtex_all\n",
      "insert name for 2th datasettcga_normal_all\n",
      "for dataset ENTER: tcga_normal_all\n",
      "insert name for other datasettcga_normal_all\n",
      "1st: high cutoff applied to gtex dataset\n",
      "2nd: common genes identified with other dataset\n",
      "3rd: both datasets combined\n",
      "4th: High cutoff applied to non-gtex dataset\n",
      "for dataset ENTER: tcga_primtum_all\n",
      "insert name for other datasettcga_primtum_all\n",
      "1st: high cutoff applied to gtex dataset\n",
      "2nd: common genes identified with other dataset\n",
      "3rd: both datasets combined\n",
      "4th: High cutoff applied to non-gtex dataset\n",
      "1st: high cutoff applied to gtex dataset\n",
      "2nd: common genes identified with other datasets\n",
      "3rd: all datasets combined\n",
      "4th: High cutoff applied to non-gtex datasets\n"
     ]
    },
    {
     "data": {
      "text/html": [
       "<table border=\"1\" class=\"dataframe\">\n",
       "  <thead>\n",
       "    <tr style=\"text-align: right;\">\n",
       "      <th></th>\n",
       "      <th>GTEX_highly_correlated</th>\n",
       "      <th>%also_highly_correlated_in_TCGA_normal</th>\n",
       "      <th>%also_highly_correlated_in_TCGA_primtum</th>\n",
       "      <th>%also_highly_correlated_in_all_three</th>\n",
       "    </tr>\n",
       "  </thead>\n",
       "  <tbody>\n",
       "    <tr>\n",
       "      <th>ITGB7</th>\n",
       "      <td>310</td>\n",
       "      <td>6.129032(19)</td>\n",
       "      <td>32.258065(100)</td>\n",
       "      <td>3.548387(11)</td>\n",
       "    </tr>\n",
       "  </tbody>\n",
       "</table>"
      ],
      "text/plain": [
       "<IPython.core.display.HTML object>"
      ]
     },
     "metadata": {},
     "output_type": "display_data"
    },
    {
     "name": "stdout",
     "output_type": "stream",
     "text": [
      "for 1th dataset ENTER: gtex_all\n",
      "for 2th dataset ENTER: tcga_normal_all\n",
      "no overlap between datasets\n",
      "insert name for 1th datasetgtex_all\n",
      "insert name for 2th datasettcga_normal_all\n",
      "for dataset ENTER: tcga_normal_all\n",
      "insert name for other datasettcga_normal_all\n",
      "1st: high cutoff applied to gtex dataset\n",
      "2nd: common genes identified with other dataset\n",
      "3rd: both datasets combined\n",
      "4th: High cutoff applied to non-gtex dataset\n",
      "for dataset ENTER: tcga_primtum_all\n",
      "insert name for other datasettcga_primtum_all\n",
      "1st: high cutoff applied to gtex dataset\n",
      "2nd: common genes identified with other dataset\n",
      "3rd: both datasets combined\n",
      "4th: High cutoff applied to non-gtex dataset\n",
      "1st: high cutoff applied to gtex dataset\n",
      "2nd: common genes identified with other datasets\n",
      "3rd: all datasets combined\n",
      "4th: High cutoff applied to non-gtex datasets\n"
     ]
    },
    {
     "data": {
      "text/html": [
       "<table border=\"1\" class=\"dataframe\">\n",
       "  <thead>\n",
       "    <tr style=\"text-align: right;\">\n",
       "      <th></th>\n",
       "      <th>GTEX_highly_correlated</th>\n",
       "      <th>%also_highly_correlated_in_TCGA_normal</th>\n",
       "      <th>%also_highly_correlated_in_TCGA_primtum</th>\n",
       "      <th>%also_highly_correlated_in_all_three</th>\n",
       "    </tr>\n",
       "  </thead>\n",
       "  <tbody>\n",
       "    <tr>\n",
       "      <th>ITGA5</th>\n",
       "      <td>400</td>\n",
       "      <td>41.000000(164)</td>\n",
       "      <td>28.500000(114)</td>\n",
       "      <td>25.750000(103)</td>\n",
       "    </tr>\n",
       "  </tbody>\n",
       "</table>"
      ],
      "text/plain": [
       "<IPython.core.display.HTML object>"
      ]
     },
     "metadata": {},
     "output_type": "display_data"
    },
    {
     "name": "stdout",
     "output_type": "stream",
     "text": [
      "for 1th dataset ENTER: gtex_all\n",
      "for 2th dataset ENTER: tcga_normal_all\n",
      "no overlap between datasets\n",
      "insert name for 1th datasetgtex_all\n",
      "insert name for 2th datasettcga_normal_all\n",
      "for dataset ENTER: tcga_normal_all\n",
      "insert name for other datasettcga_normal_all\n",
      "1st: high cutoff applied to gtex dataset\n",
      "2nd: common genes identified with other dataset\n",
      "3rd: both datasets combined\n",
      "4th: High cutoff applied to non-gtex dataset\n",
      "for dataset ENTER: tcga_primtum_all\n",
      "insert name for other datasettcga_primtum_all\n",
      "1st: high cutoff applied to gtex dataset\n",
      "2nd: common genes identified with other dataset\n",
      "3rd: both datasets combined\n",
      "4th: High cutoff applied to non-gtex dataset\n",
      "1st: high cutoff applied to gtex dataset\n",
      "2nd: common genes identified with other datasets\n",
      "3rd: all datasets combined\n",
      "4th: High cutoff applied to non-gtex datasets\n"
     ]
    },
    {
     "data": {
      "text/html": [
       "<table border=\"1\" class=\"dataframe\">\n",
       "  <thead>\n",
       "    <tr style=\"text-align: right;\">\n",
       "      <th></th>\n",
       "      <th>GTEX_highly_correlated</th>\n",
       "      <th>%also_highly_correlated_in_TCGA_normal</th>\n",
       "      <th>%also_highly_correlated_in_TCGA_primtum</th>\n",
       "      <th>%also_highly_correlated_in_all_three</th>\n",
       "    </tr>\n",
       "  </thead>\n",
       "  <tbody>\n",
       "    <tr>\n",
       "      <th>ITGBL1</th>\n",
       "      <td>30</td>\n",
       "      <td>26.666667(8)</td>\n",
       "      <td>33.333333(10)</td>\n",
       "      <td>16.666667(5)</td>\n",
       "    </tr>\n",
       "  </tbody>\n",
       "</table>"
      ],
      "text/plain": [
       "<IPython.core.display.HTML object>"
      ]
     },
     "metadata": {},
     "output_type": "display_data"
    },
    {
     "name": "stdout",
     "output_type": "stream",
     "text": [
      "for 1th dataset ENTER: gtex_all\n",
      "for 2th dataset ENTER: tcga_normal_all\n",
      "no overlap between datasets\n",
      "insert name for 1th datasetgtex_all\n",
      "insert name for 2th datasettcga_normal_all\n",
      "for dataset ENTER: tcga_normal_all\n",
      "insert name for other datasettcga_normal_all\n",
      "1st: high cutoff applied to gtex dataset\n",
      "2nd: common genes identified with other dataset\n",
      "3rd: both datasets combined\n",
      "4th: High cutoff applied to non-gtex dataset\n",
      "for dataset ENTER: tcga_primtum_all\n",
      "insert name for other datasettcga_primtum_all\n",
      "1st: high cutoff applied to gtex dataset\n",
      "2nd: common genes identified with other dataset\n",
      "3rd: both datasets combined\n",
      "4th: High cutoff applied to non-gtex dataset\n",
      "1st: high cutoff applied to gtex dataset\n",
      "2nd: common genes identified with other datasets\n",
      "3rd: all datasets combined\n",
      "4th: High cutoff applied to non-gtex datasets\n"
     ]
    },
    {
     "data": {
      "text/html": [
       "<table border=\"1\" class=\"dataframe\">\n",
       "  <thead>\n",
       "    <tr style=\"text-align: right;\">\n",
       "      <th></th>\n",
       "      <th>GTEX_highly_correlated</th>\n",
       "      <th>%also_highly_correlated_in_TCGA_normal</th>\n",
       "      <th>%also_highly_correlated_in_TCGA_primtum</th>\n",
       "      <th>%also_highly_correlated_in_all_three</th>\n",
       "    </tr>\n",
       "  </thead>\n",
       "  <tbody>\n",
       "    <tr>\n",
       "      <th>ITGA11</th>\n",
       "      <td>13</td>\n",
       "      <td>38.461538(5)</td>\n",
       "      <td>69.230769(9)</td>\n",
       "      <td>30.769231(4)</td>\n",
       "    </tr>\n",
       "  </tbody>\n",
       "</table>"
      ],
      "text/plain": [
       "<IPython.core.display.HTML object>"
      ]
     },
     "metadata": {},
     "output_type": "display_data"
    },
    {
     "name": "stdout",
     "output_type": "stream",
     "text": [
      "for 1th dataset ENTER: gtex_all\n",
      "for 2th dataset ENTER: tcga_normal_all\n",
      "no overlap between datasets\n",
      "insert name for 1th datasetgtex_all\n",
      "insert name for 2th datasettcga_normal_all\n",
      "for dataset ENTER: tcga_normal_all\n",
      "insert name for other datasettcga_normal_all\n",
      "1st: high cutoff applied to gtex dataset\n",
      "2nd: common genes identified with other dataset\n",
      "3rd: both datasets combined\n",
      "4th: High cutoff applied to non-gtex dataset\n",
      "for dataset ENTER: tcga_primtum_all\n",
      "insert name for other datasettcga_primtum_all\n",
      "1st: high cutoff applied to gtex dataset\n",
      "2nd: common genes identified with other dataset\n",
      "3rd: both datasets combined\n",
      "4th: High cutoff applied to non-gtex dataset\n",
      "1st: high cutoff applied to gtex dataset\n",
      "2nd: common genes identified with other datasets\n",
      "3rd: all datasets combined\n",
      "4th: High cutoff applied to non-gtex datasets\n"
     ]
    },
    {
     "data": {
      "text/html": [
       "<table border=\"1\" class=\"dataframe\">\n",
       "  <thead>\n",
       "    <tr style=\"text-align: right;\">\n",
       "      <th></th>\n",
       "      <th>GTEX_highly_correlated</th>\n",
       "      <th>%also_highly_correlated_in_TCGA_normal</th>\n",
       "      <th>%also_highly_correlated_in_TCGA_primtum</th>\n",
       "      <th>%also_highly_correlated_in_all_three</th>\n",
       "    </tr>\n",
       "  </thead>\n",
       "  <tbody>\n",
       "    <tr>\n",
       "      <th>ITGAL</th>\n",
       "      <td>347</td>\n",
       "      <td>52.161383(181)</td>\n",
       "      <td>57.348703(199)</td>\n",
       "      <td>47.262248(164)</td>\n",
       "    </tr>\n",
       "  </tbody>\n",
       "</table>"
      ],
      "text/plain": [
       "<IPython.core.display.HTML object>"
      ]
     },
     "metadata": {},
     "output_type": "display_data"
    },
    {
     "name": "stdout",
     "output_type": "stream",
     "text": [
      "for 1th dataset ENTER: gtex_all\n",
      "for 2th dataset ENTER: tcga_normal_all\n",
      "no overlap between datasets\n",
      "insert name for 1th datasetgtex_all\n",
      "insert name for 2th datasettcga_normal_all\n",
      "for dataset ENTER: tcga_normal_all\n",
      "insert name for other datasettcga_normal_all\n",
      "1st: high cutoff applied to gtex dataset\n",
      "2nd: common genes identified with other dataset\n",
      "3rd: both datasets combined\n",
      "4th: High cutoff applied to non-gtex dataset\n",
      "for dataset ENTER: tcga_primtum_all\n",
      "insert name for other datasettcga_primtum_all\n",
      "1st: high cutoff applied to gtex dataset\n",
      "2nd: common genes identified with other dataset\n",
      "3rd: both datasets combined\n",
      "4th: High cutoff applied to non-gtex dataset\n",
      "1st: high cutoff applied to gtex dataset\n",
      "2nd: common genes identified with other datasets\n",
      "3rd: all datasets combined\n",
      "4th: High cutoff applied to non-gtex datasets\n"
     ]
    },
    {
     "data": {
      "text/html": [
       "<table border=\"1\" class=\"dataframe\">\n",
       "  <thead>\n",
       "    <tr style=\"text-align: right;\">\n",
       "      <th></th>\n",
       "      <th>GTEX_highly_correlated</th>\n",
       "      <th>%also_highly_correlated_in_TCGA_normal</th>\n",
       "      <th>%also_highly_correlated_in_TCGA_primtum</th>\n",
       "      <th>%also_highly_correlated_in_all_three</th>\n",
       "    </tr>\n",
       "  </thead>\n",
       "  <tbody>\n",
       "    <tr>\n",
       "      <th>ITGAM</th>\n",
       "      <td>260</td>\n",
       "      <td>66.153846(172)</td>\n",
       "      <td>67.692308(176)</td>\n",
       "      <td>60.000000(156)</td>\n",
       "    </tr>\n",
       "  </tbody>\n",
       "</table>"
      ],
      "text/plain": [
       "<IPython.core.display.HTML object>"
      ]
     },
     "metadata": {},
     "output_type": "display_data"
    },
    {
     "name": "stdout",
     "output_type": "stream",
     "text": [
      "for 1th dataset ENTER: gtex_all\n",
      "for 2th dataset ENTER: tcga_normal_all\n",
      "no overlap between datasets\n",
      "insert name for 1th datasetgtex_all\n",
      "insert name for 2th datasettcga_normal_all\n",
      "for dataset ENTER: tcga_normal_all\n",
      "insert name for other datasettcga_normal_all\n",
      "1st: high cutoff applied to gtex dataset\n",
      "2nd: common genes identified with other dataset\n",
      "3rd: both datasets combined\n",
      "4th: High cutoff applied to non-gtex dataset\n",
      "for dataset ENTER: tcga_primtum_all\n",
      "insert name for other datasettcga_primtum_all\n",
      "1st: high cutoff applied to gtex dataset\n",
      "2nd: common genes identified with other dataset\n",
      "3rd: both datasets combined\n",
      "4th: High cutoff applied to non-gtex dataset\n",
      "1st: high cutoff applied to gtex dataset\n",
      "2nd: common genes identified with other datasets\n",
      "3rd: all datasets combined\n",
      "4th: High cutoff applied to non-gtex datasets\n"
     ]
    },
    {
     "data": {
      "text/html": [
       "<table border=\"1\" class=\"dataframe\">\n",
       "  <thead>\n",
       "    <tr style=\"text-align: right;\">\n",
       "      <th></th>\n",
       "      <th>GTEX_highly_correlated</th>\n",
       "      <th>%also_highly_correlated_in_TCGA_normal</th>\n",
       "      <th>%also_highly_correlated_in_TCGA_primtum</th>\n",
       "      <th>%also_highly_correlated_in_all_three</th>\n",
       "    </tr>\n",
       "  </thead>\n",
       "  <tbody>\n",
       "    <tr>\n",
       "      <th>ITGAX</th>\n",
       "      <td>107</td>\n",
       "      <td>83.177570(89)</td>\n",
       "      <td>80.373832(86)</td>\n",
       "      <td>73.831776(79)</td>\n",
       "    </tr>\n",
       "  </tbody>\n",
       "</table>"
      ],
      "text/plain": [
       "<IPython.core.display.HTML object>"
      ]
     },
     "metadata": {},
     "output_type": "display_data"
    },
    {
     "name": "stdout",
     "output_type": "stream",
     "text": [
      "for 1th dataset ENTER: gtex_all\n",
      "for 2th dataset ENTER: tcga_normal_all\n",
      "no overlap between datasets\n",
      "insert name for 1th datasetgtex_all\n",
      "insert name for 2th datasettcga_normal_all\n",
      "for dataset ENTER: tcga_normal_all\n",
      "insert name for other datasettcga_normal_all\n",
      "1st: high cutoff applied to gtex dataset\n",
      "2nd: common genes identified with other dataset\n",
      "3rd: both datasets combined\n",
      "4th: High cutoff applied to non-gtex dataset\n",
      "for dataset ENTER: tcga_primtum_all\n",
      "insert name for other datasettcga_primtum_all\n",
      "1st: high cutoff applied to gtex dataset\n",
      "2nd: common genes identified with other dataset\n",
      "3rd: both datasets combined\n",
      "4th: High cutoff applied to non-gtex dataset\n",
      "1st: high cutoff applied to gtex dataset\n",
      "2nd: common genes identified with other datasets\n",
      "3rd: all datasets combined\n",
      "4th: High cutoff applied to non-gtex datasets\n"
     ]
    },
    {
     "name": "stderr",
     "output_type": "stream",
     "text": [
      "/public/apps/python/3.7.0/lib/python3.7/site-packages/ipykernel_launcher.py:33: RuntimeWarning: invalid value encountered in long_scalars\n",
      "/public/apps/python/3.7.0/lib/python3.7/site-packages/ipykernel_launcher.py:34: RuntimeWarning: invalid value encountered in long_scalars\n",
      "/public/apps/python/3.7.0/lib/python3.7/site-packages/ipykernel_launcher.py:35: RuntimeWarning: invalid value encountered in long_scalars\n"
     ]
    },
    {
     "data": {
      "text/html": [
       "<table border=\"1\" class=\"dataframe\">\n",
       "  <thead>\n",
       "    <tr style=\"text-align: right;\">\n",
       "      <th></th>\n",
       "      <th>GTEX_highly_correlated</th>\n",
       "      <th>%also_highly_correlated_in_TCGA_normal</th>\n",
       "      <th>%also_highly_correlated_in_TCGA_primtum</th>\n",
       "      <th>%also_highly_correlated_in_all_three</th>\n",
       "    </tr>\n",
       "  </thead>\n",
       "  <tbody>\n",
       "    <tr>\n",
       "      <th>ITGAD</th>\n",
       "      <td>0</td>\n",
       "      <td>nan(0)</td>\n",
       "      <td>nan(0)</td>\n",
       "      <td>nan(0)</td>\n",
       "    </tr>\n",
       "  </tbody>\n",
       "</table>"
      ],
      "text/plain": [
       "<IPython.core.display.HTML object>"
      ]
     },
     "metadata": {},
     "output_type": "display_data"
    },
    {
     "name": "stdout",
     "output_type": "stream",
     "text": [
      "for 1th dataset ENTER: gtex_all\n",
      "for 2th dataset ENTER: tcga_normal_all\n",
      "no overlap between datasets\n",
      "insert name for 1th datasetgtex_all\n",
      "insert name for 2th datasettcga_normal_all\n",
      "for dataset ENTER: tcga_normal_all\n",
      "insert name for other datasettcga_normal_all\n",
      "1st: high cutoff applied to gtex dataset\n",
      "2nd: common genes identified with other dataset\n",
      "3rd: both datasets combined\n",
      "4th: High cutoff applied to non-gtex dataset\n",
      "for dataset ENTER: tcga_primtum_all\n",
      "insert name for other datasettcga_primtum_all\n",
      "1st: high cutoff applied to gtex dataset\n",
      "2nd: common genes identified with other dataset\n",
      "3rd: both datasets combined\n",
      "4th: High cutoff applied to non-gtex dataset\n",
      "1st: high cutoff applied to gtex dataset\n",
      "2nd: common genes identified with other datasets\n",
      "3rd: all datasets combined\n",
      "4th: High cutoff applied to non-gtex datasets\n"
     ]
    },
    {
     "data": {
      "text/html": [
       "<table border=\"1\" class=\"dataframe\">\n",
       "  <thead>\n",
       "    <tr style=\"text-align: right;\">\n",
       "      <th></th>\n",
       "      <th>GTEX_highly_correlated</th>\n",
       "      <th>%also_highly_correlated_in_TCGA_normal</th>\n",
       "      <th>%also_highly_correlated_in_TCGA_primtum</th>\n",
       "      <th>%also_highly_correlated_in_all_three</th>\n",
       "    </tr>\n",
       "  </thead>\n",
       "  <tbody>\n",
       "    <tr>\n",
       "      <th>ITGAE</th>\n",
       "      <td>292</td>\n",
       "      <td>9.931507(29)</td>\n",
       "      <td>2.739726(8)</td>\n",
       "      <td>1.027397(3)</td>\n",
       "    </tr>\n",
       "  </tbody>\n",
       "</table>"
      ],
      "text/plain": [
       "<IPython.core.display.HTML object>"
      ]
     },
     "metadata": {},
     "output_type": "display_data"
    },
    {
     "name": "stdout",
     "output_type": "stream",
     "text": [
      "for 1th dataset ENTER: gtex_all\n",
      "for 2th dataset ENTER: tcga_normal_all\n",
      "no overlap between datasets\n",
      "insert name for 1th datasetgtex_all\n",
      "insert name for 2th datasettcga_normal_all\n",
      "for dataset ENTER: tcga_normal_all\n",
      "insert name for other datasettcga_normal_all\n",
      "1st: high cutoff applied to gtex dataset\n",
      "2nd: common genes identified with other dataset\n",
      "3rd: both datasets combined\n",
      "4th: High cutoff applied to non-gtex dataset\n",
      "for dataset ENTER: tcga_primtum_all\n",
      "insert name for other datasettcga_primtum_all\n",
      "1st: high cutoff applied to gtex dataset\n",
      "2nd: common genes identified with other dataset\n",
      "3rd: both datasets combined\n",
      "4th: High cutoff applied to non-gtex dataset\n",
      "1st: high cutoff applied to gtex dataset\n",
      "2nd: common genes identified with other datasets\n",
      "3rd: all datasets combined\n",
      "4th: High cutoff applied to non-gtex datasets\n"
     ]
    },
    {
     "data": {
      "text/html": [
       "<table border=\"1\" class=\"dataframe\">\n",
       "  <thead>\n",
       "    <tr style=\"text-align: right;\">\n",
       "      <th></th>\n",
       "      <th>GTEX_highly_correlated</th>\n",
       "      <th>%also_highly_correlated_in_TCGA_normal</th>\n",
       "      <th>%also_highly_correlated_in_TCGA_primtum</th>\n",
       "      <th>%also_highly_correlated_in_all_three</th>\n",
       "    </tr>\n",
       "  </thead>\n",
       "  <tbody>\n",
       "    <tr>\n",
       "      <th>ITGA2B</th>\n",
       "      <td>349</td>\n",
       "      <td>6.590258(23)</td>\n",
       "      <td>0.859599(3)</td>\n",
       "      <td>0.573066(2)</td>\n",
       "    </tr>\n",
       "  </tbody>\n",
       "</table>"
      ],
      "text/plain": [
       "<IPython.core.display.HTML object>"
      ]
     },
     "metadata": {},
     "output_type": "display_data"
    },
    {
     "name": "stdout",
     "output_type": "stream",
     "text": [
      "for 1th dataset ENTER: gtex_all\n",
      "for 2th dataset ENTER: tcga_normal_all\n",
      "no overlap between datasets\n",
      "insert name for 1th datasetgtex_all\n",
      "insert name for 2th datasettcga_normal_all\n",
      "for dataset ENTER: tcga_normal_all\n",
      "insert name for other datasettcga_normal_all\n",
      "1st: high cutoff applied to gtex dataset\n",
      "2nd: common genes identified with other dataset\n",
      "3rd: both datasets combined\n",
      "4th: High cutoff applied to non-gtex dataset\n",
      "for dataset ENTER: tcga_primtum_all\n",
      "insert name for other datasettcga_primtum_all\n",
      "1st: high cutoff applied to gtex dataset\n",
      "2nd: common genes identified with other dataset\n",
      "3rd: both datasets combined\n",
      "4th: High cutoff applied to non-gtex dataset\n",
      "1st: high cutoff applied to gtex dataset\n",
      "2nd: common genes identified with other datasets\n",
      "3rd: all datasets combined\n",
      "4th: High cutoff applied to non-gtex datasets\n"
     ]
    },
    {
     "data": {
      "text/html": [
       "<table border=\"1\" class=\"dataframe\">\n",
       "  <thead>\n",
       "    <tr style=\"text-align: right;\">\n",
       "      <th></th>\n",
       "      <th>GTEX_highly_correlated</th>\n",
       "      <th>%also_highly_correlated_in_TCGA_normal</th>\n",
       "      <th>%also_highly_correlated_in_TCGA_primtum</th>\n",
       "      <th>%also_highly_correlated_in_all_three</th>\n",
       "    </tr>\n",
       "  </thead>\n",
       "  <tbody>\n",
       "    <tr>\n",
       "      <th>ITGB3</th>\n",
       "      <td>330</td>\n",
       "      <td>20.000000(66)</td>\n",
       "      <td>21.818182(72)</td>\n",
       "      <td>14.545455(48)</td>\n",
       "    </tr>\n",
       "  </tbody>\n",
       "</table>"
      ],
      "text/plain": [
       "<IPython.core.display.HTML object>"
      ]
     },
     "metadata": {},
     "output_type": "display_data"
    },
    {
     "name": "stdout",
     "output_type": "stream",
     "text": [
      "for 1th dataset ENTER: gtex_all\n",
      "for 2th dataset ENTER: tcga_normal_all\n",
      "no overlap between datasets\n",
      "insert name for 1th datasetgtex_all\n",
      "insert name for 2th datasettcga_normal_all\n",
      "for dataset ENTER: tcga_normal_all\n",
      "insert name for other datasettcga_normal_all\n",
      "1st: high cutoff applied to gtex dataset\n",
      "2nd: common genes identified with other dataset\n",
      "3rd: both datasets combined\n",
      "4th: High cutoff applied to non-gtex dataset\n",
      "for dataset ENTER: tcga_primtum_all\n",
      "insert name for other datasettcga_primtum_all\n",
      "1st: high cutoff applied to gtex dataset\n",
      "2nd: common genes identified with other dataset\n",
      "3rd: both datasets combined\n",
      "4th: High cutoff applied to non-gtex dataset\n",
      "1st: high cutoff applied to gtex dataset\n",
      "2nd: common genes identified with other datasets\n",
      "3rd: all datasets combined\n",
      "4th: High cutoff applied to non-gtex datasets\n"
     ]
    },
    {
     "data": {
      "text/html": [
       "<table border=\"1\" class=\"dataframe\">\n",
       "  <thead>\n",
       "    <tr style=\"text-align: right;\">\n",
       "      <th></th>\n",
       "      <th>GTEX_highly_correlated</th>\n",
       "      <th>%also_highly_correlated_in_TCGA_normal</th>\n",
       "      <th>%also_highly_correlated_in_TCGA_primtum</th>\n",
       "      <th>%also_highly_correlated_in_all_three</th>\n",
       "    </tr>\n",
       "  </thead>\n",
       "  <tbody>\n",
       "    <tr>\n",
       "      <th>ITGA3</th>\n",
       "      <td>217</td>\n",
       "      <td>8.755760(19)</td>\n",
       "      <td>10.138249(22)</td>\n",
       "      <td>3.686636(8)</td>\n",
       "    </tr>\n",
       "  </tbody>\n",
       "</table>"
      ],
      "text/plain": [
       "<IPython.core.display.HTML object>"
      ]
     },
     "metadata": {},
     "output_type": "display_data"
    },
    {
     "name": "stdout",
     "output_type": "stream",
     "text": [
      "for 1th dataset ENTER: gtex_all\n",
      "for 2th dataset ENTER: tcga_normal_all\n",
      "no overlap between datasets\n",
      "insert name for 1th datasetgtex_all\n",
      "insert name for 2th datasettcga_normal_all\n",
      "for dataset ENTER: tcga_normal_all\n",
      "insert name for other datasettcga_normal_all\n",
      "1st: high cutoff applied to gtex dataset\n",
      "2nd: common genes identified with other dataset\n",
      "3rd: both datasets combined\n",
      "4th: High cutoff applied to non-gtex dataset\n",
      "for dataset ENTER: tcga_primtum_all\n",
      "insert name for other datasettcga_primtum_all\n",
      "1st: high cutoff applied to gtex dataset\n",
      "2nd: common genes identified with other dataset\n",
      "3rd: both datasets combined\n",
      "4th: High cutoff applied to non-gtex dataset\n",
      "1st: high cutoff applied to gtex dataset\n",
      "2nd: common genes identified with other datasets\n",
      "3rd: all datasets combined\n",
      "4th: High cutoff applied to non-gtex datasets\n"
     ]
    },
    {
     "data": {
      "text/html": [
       "<table border=\"1\" class=\"dataframe\">\n",
       "  <thead>\n",
       "    <tr style=\"text-align: right;\">\n",
       "      <th></th>\n",
       "      <th>GTEX_highly_correlated</th>\n",
       "      <th>%also_highly_correlated_in_TCGA_normal</th>\n",
       "      <th>%also_highly_correlated_in_TCGA_primtum</th>\n",
       "      <th>%also_highly_correlated_in_all_three</th>\n",
       "    </tr>\n",
       "  </thead>\n",
       "  <tbody>\n",
       "    <tr>\n",
       "      <th>ITGB4</th>\n",
       "      <td>259</td>\n",
       "      <td>19.305019(50)</td>\n",
       "      <td>10.424710(27)</td>\n",
       "      <td>7.335907(19)</td>\n",
       "    </tr>\n",
       "  </tbody>\n",
       "</table>"
      ],
      "text/plain": [
       "<IPython.core.display.HTML object>"
      ]
     },
     "metadata": {},
     "output_type": "display_data"
    },
    {
     "name": "stdout",
     "output_type": "stream",
     "text": [
      "for 1th dataset ENTER: gtex_all\n",
      "for 2th dataset ENTER: tcga_normal_all\n",
      "no overlap between datasets\n",
      "insert name for 1th datasetgtex_all\n",
      "insert name for 2th datasettcga_normal_all\n",
      "for dataset ENTER: tcga_normal_all\n",
      "insert name for other datasettcga_normal_all\n",
      "1st: high cutoff applied to gtex dataset\n",
      "2nd: common genes identified with other dataset\n",
      "3rd: both datasets combined\n",
      "4th: High cutoff applied to non-gtex dataset\n",
      "for dataset ENTER: tcga_primtum_all\n",
      "insert name for other datasettcga_primtum_all\n",
      "1st: high cutoff applied to gtex dataset\n",
      "2nd: common genes identified with other dataset\n",
      "3rd: both datasets combined\n",
      "4th: High cutoff applied to non-gtex dataset\n",
      "1st: high cutoff applied to gtex dataset\n",
      "2nd: common genes identified with other datasets\n",
      "3rd: all datasets combined\n",
      "4th: High cutoff applied to non-gtex datasets\n"
     ]
    },
    {
     "data": {
      "text/html": [
       "<table border=\"1\" class=\"dataframe\">\n",
       "  <thead>\n",
       "    <tr style=\"text-align: right;\">\n",
       "      <th></th>\n",
       "      <th>GTEX_highly_correlated</th>\n",
       "      <th>%also_highly_correlated_in_TCGA_normal</th>\n",
       "      <th>%also_highly_correlated_in_TCGA_primtum</th>\n",
       "      <th>%also_highly_correlated_in_all_three</th>\n",
       "    </tr>\n",
       "  </thead>\n",
       "  <tbody>\n",
       "    <tr>\n",
       "      <th>ITGB2</th>\n",
       "      <td>274</td>\n",
       "      <td>68.248175(187)</td>\n",
       "      <td>66.423358(182)</td>\n",
       "      <td>61.313869(168)</td>\n",
       "    </tr>\n",
       "  </tbody>\n",
       "</table>"
      ],
      "text/plain": [
       "<IPython.core.display.HTML object>"
      ]
     },
     "metadata": {},
     "output_type": "display_data"
    }
   ],
   "source": [
    "#table 1\n",
    "integrins_list=['ITGA7','ITGB8','ITGB6','ITGA10','ITGA6','ITGA4','ITGAV','ITGA9','ITGB5','ITGA1','ITGA2','ITGA8',\n",
    "'ITGB1','ITGB7','ITGA5','ITGBL1','ITGA11','ITGAL','ITGAM','ITGAX','ITGAD','ITGAE','ITGA2B','ITGB3','ITGA3',\n",
    "                'ITGB4','ITGB2']\n",
    "\n",
    "\n",
    "correlation_method ='pearson'\n",
    "gtex_gct_dataset = './gene_tpm_2017-06-05_v8_prostate.gct'\n",
    "correlation_cutoff = 0.6\n",
    "tcga_hiseq_dataset = 'TCGA.PRAD.sampleMap_HiSeqV2' \n",
    "tcga_hiseq_corresponding_sample_info = '/home/hshadman/integrins_expression/saghar_TCGA_Breast/TCGAXena/TCGA.PRAD.sampleMap/PRAD_clinicalMatrix'\n",
    "opposing_corr_cutoff = 0.1\n",
    "\n",
    "\n",
    "# make_data_presentable(interest_gene,correlation_method, correlation_cutoff,opposing_corr_cutoff,gtex_gct_dataset,\n",
    "#                          tcga_hiseq_dataset,tcga_hiseq_corresponding_sample_info)\n",
    "\n",
    "for interest_gene in integrins_list:\n",
    "    organize_gtex_tcga_table1(interest_gene,correlation_method, correlation_cutoff,opposing_corr_cutoff,gtex_gct_dataset,\n",
    "                             tcga_hiseq_dataset,tcga_hiseq_corresponding_sample_info)\n",
    "\n"
   ]
  },
  {
   "cell_type": "code",
   "execution_count": 20,
   "metadata": {
    "scrolled": false
   },
   "outputs": [
    {
     "name": "stdout",
     "output_type": "stream",
     "text": [
      "for 1th dataset ENTER: gtex_all\n",
      "for 2th dataset ENTER: tcga_normal_all\n",
      "no overlap between datasets\n",
      "insert name for 1th datasetgtex_all\n",
      "insert name for 2th datasettcga_normal_all\n",
      "for dataset ENTER: tcga_normal_all\n",
      "insert name for other datasettcga_normal_all\n",
      "1st: high cutoff applied to gtex dataset\n",
      "2nd: common genes identified with other dataset\n",
      "3rd: both datasets combined\n",
      "4th: low cutoff applied to non-gtex dataset\n",
      "for dataset ENTER: tcga_primtum_all\n",
      "insert name for other datasettcga_primtum_all\n",
      "1st: high cutoff applied to gtex dataset\n",
      "2nd: common genes identified with other dataset\n",
      "3rd: both datasets combined\n",
      "4th: low cutoff applied to non-gtex dataset\n"
     ]
    },
    {
     "data": {
      "text/html": [
       "<table border=\"1\" class=\"dataframe\">\n",
       "  <thead>\n",
       "    <tr style=\"text-align: right;\">\n",
       "      <th></th>\n",
       "      <th>GTEX_highly_correlated</th>\n",
       "      <th>%lowly_correlated_in_TCGA_normal</th>\n",
       "      <th>%lowly_correlated_in_TCGA_primtum</th>\n",
       "    </tr>\n",
       "  </thead>\n",
       "  <tbody>\n",
       "    <tr>\n",
       "      <th>ITGA7</th>\n",
       "      <td>576</td>\n",
       "      <td>1.562500(9)</td>\n",
       "      <td>9.548611(55)</td>\n",
       "    </tr>\n",
       "  </tbody>\n",
       "</table>"
      ],
      "text/plain": [
       "<IPython.core.display.HTML object>"
      ]
     },
     "metadata": {},
     "output_type": "display_data"
    },
    {
     "name": "stdout",
     "output_type": "stream",
     "text": [
      "for 1th dataset ENTER: gtex_all\n",
      "for 2th dataset ENTER: tcga_normal_all\n",
      "no overlap between datasets\n",
      "insert name for 1th datasetgtex_all\n",
      "insert name for 2th datasettcga_normal_all\n",
      "for dataset ENTER: tcga_normal_all\n",
      "insert name for other datasettcga_normal_all\n",
      "1st: high cutoff applied to gtex dataset\n",
      "2nd: common genes identified with other dataset\n",
      "3rd: both datasets combined\n",
      "4th: low cutoff applied to non-gtex dataset\n",
      "for dataset ENTER: tcga_primtum_all\n",
      "insert name for other datasettcga_primtum_all\n",
      "1st: high cutoff applied to gtex dataset\n",
      "2nd: common genes identified with other dataset\n",
      "3rd: both datasets combined\n",
      "4th: low cutoff applied to non-gtex dataset\n"
     ]
    },
    {
     "data": {
      "text/html": [
       "<table border=\"1\" class=\"dataframe\">\n",
       "  <thead>\n",
       "    <tr style=\"text-align: right;\">\n",
       "      <th></th>\n",
       "      <th>GTEX_highly_correlated</th>\n",
       "      <th>%lowly_correlated_in_TCGA_normal</th>\n",
       "      <th>%lowly_correlated_in_TCGA_primtum</th>\n",
       "    </tr>\n",
       "  </thead>\n",
       "  <tbody>\n",
       "    <tr>\n",
       "      <th>ITGB8</th>\n",
       "      <td>202</td>\n",
       "      <td>27.227723(55)</td>\n",
       "      <td>5.445545(11)</td>\n",
       "    </tr>\n",
       "  </tbody>\n",
       "</table>"
      ],
      "text/plain": [
       "<IPython.core.display.HTML object>"
      ]
     },
     "metadata": {},
     "output_type": "display_data"
    },
    {
     "name": "stdout",
     "output_type": "stream",
     "text": [
      "for 1th dataset ENTER: gtex_all\n",
      "for 2th dataset ENTER: tcga_normal_all\n",
      "no overlap between datasets\n",
      "insert name for 1th datasetgtex_all\n",
      "insert name for 2th datasettcga_normal_all\n",
      "for dataset ENTER: tcga_normal_all\n",
      "insert name for other datasettcga_normal_all\n",
      "1st: high cutoff applied to gtex dataset\n",
      "2nd: common genes identified with other dataset\n",
      "3rd: both datasets combined\n",
      "4th: low cutoff applied to non-gtex dataset\n",
      "for dataset ENTER: tcga_primtum_all\n",
      "insert name for other datasettcga_primtum_all\n",
      "1st: high cutoff applied to gtex dataset\n",
      "2nd: common genes identified with other dataset\n",
      "3rd: both datasets combined\n",
      "4th: low cutoff applied to non-gtex dataset\n"
     ]
    },
    {
     "data": {
      "text/html": [
       "<table border=\"1\" class=\"dataframe\">\n",
       "  <thead>\n",
       "    <tr style=\"text-align: right;\">\n",
       "      <th></th>\n",
       "      <th>GTEX_highly_correlated</th>\n",
       "      <th>%lowly_correlated_in_TCGA_normal</th>\n",
       "      <th>%lowly_correlated_in_TCGA_primtum</th>\n",
       "    </tr>\n",
       "  </thead>\n",
       "  <tbody>\n",
       "    <tr>\n",
       "      <th>ITGB6</th>\n",
       "      <td>422</td>\n",
       "      <td>6.635071(28)</td>\n",
       "      <td>17.535545(74)</td>\n",
       "    </tr>\n",
       "  </tbody>\n",
       "</table>"
      ],
      "text/plain": [
       "<IPython.core.display.HTML object>"
      ]
     },
     "metadata": {},
     "output_type": "display_data"
    },
    {
     "name": "stdout",
     "output_type": "stream",
     "text": [
      "for 1th dataset ENTER: gtex_all\n",
      "for 2th dataset ENTER: tcga_normal_all\n",
      "no overlap between datasets\n",
      "insert name for 1th datasetgtex_all\n",
      "insert name for 2th datasettcga_normal_all\n",
      "for dataset ENTER: tcga_normal_all\n",
      "insert name for other datasettcga_normal_all\n",
      "1st: high cutoff applied to gtex dataset\n",
      "2nd: common genes identified with other dataset\n",
      "3rd: both datasets combined\n",
      "4th: low cutoff applied to non-gtex dataset\n",
      "for dataset ENTER: tcga_primtum_all\n",
      "insert name for other datasettcga_primtum_all\n",
      "1st: high cutoff applied to gtex dataset\n",
      "2nd: common genes identified with other dataset\n",
      "3rd: both datasets combined\n",
      "4th: low cutoff applied to non-gtex dataset\n"
     ]
    },
    {
     "name": "stderr",
     "output_type": "stream",
     "text": [
      "/public/apps/python/3.7.0/lib/python3.7/site-packages/ipykernel_launcher.py:70: RuntimeWarning: invalid value encountered in long_scalars\n",
      "/public/apps/python/3.7.0/lib/python3.7/site-packages/ipykernel_launcher.py:71: RuntimeWarning: invalid value encountered in long_scalars\n"
     ]
    },
    {
     "data": {
      "text/html": [
       "<table border=\"1\" class=\"dataframe\">\n",
       "  <thead>\n",
       "    <tr style=\"text-align: right;\">\n",
       "      <th></th>\n",
       "      <th>GTEX_highly_correlated</th>\n",
       "      <th>%lowly_correlated_in_TCGA_normal</th>\n",
       "      <th>%lowly_correlated_in_TCGA_primtum</th>\n",
       "    </tr>\n",
       "  </thead>\n",
       "  <tbody>\n",
       "    <tr>\n",
       "      <th>ITGA10</th>\n",
       "      <td>0</td>\n",
       "      <td>nan(0)</td>\n",
       "      <td>nan(0)</td>\n",
       "    </tr>\n",
       "  </tbody>\n",
       "</table>"
      ],
      "text/plain": [
       "<IPython.core.display.HTML object>"
      ]
     },
     "metadata": {},
     "output_type": "display_data"
    },
    {
     "name": "stdout",
     "output_type": "stream",
     "text": [
      "for 1th dataset ENTER: gtex_all\n",
      "for 2th dataset ENTER: tcga_normal_all\n",
      "no overlap between datasets\n",
      "insert name for 1th datasetgtex_all\n",
      "insert name for 2th datasettcga_normal_all\n",
      "for dataset ENTER: tcga_normal_all\n",
      "insert name for other datasettcga_normal_all\n",
      "1st: high cutoff applied to gtex dataset\n",
      "2nd: common genes identified with other dataset\n",
      "3rd: both datasets combined\n",
      "4th: low cutoff applied to non-gtex dataset\n",
      "for dataset ENTER: tcga_primtum_all\n",
      "insert name for other datasettcga_primtum_all\n",
      "1st: high cutoff applied to gtex dataset\n",
      "2nd: common genes identified with other dataset\n",
      "3rd: both datasets combined\n",
      "4th: low cutoff applied to non-gtex dataset\n"
     ]
    },
    {
     "data": {
      "text/html": [
       "<table border=\"1\" class=\"dataframe\">\n",
       "  <thead>\n",
       "    <tr style=\"text-align: right;\">\n",
       "      <th></th>\n",
       "      <th>GTEX_highly_correlated</th>\n",
       "      <th>%lowly_correlated_in_TCGA_normal</th>\n",
       "      <th>%lowly_correlated_in_TCGA_primtum</th>\n",
       "    </tr>\n",
       "  </thead>\n",
       "  <tbody>\n",
       "    <tr>\n",
       "      <th>ITGA6</th>\n",
       "      <td>155</td>\n",
       "      <td>10.322581(16)</td>\n",
       "      <td>18.064516(28)</td>\n",
       "    </tr>\n",
       "  </tbody>\n",
       "</table>"
      ],
      "text/plain": [
       "<IPython.core.display.HTML object>"
      ]
     },
     "metadata": {},
     "output_type": "display_data"
    },
    {
     "name": "stdout",
     "output_type": "stream",
     "text": [
      "for 1th dataset ENTER: gtex_all\n",
      "for 2th dataset ENTER: tcga_normal_all\n",
      "no overlap between datasets\n",
      "insert name for 1th datasetgtex_all\n",
      "insert name for 2th datasettcga_normal_all\n",
      "for dataset ENTER: tcga_normal_all\n",
      "insert name for other datasettcga_normal_all\n",
      "1st: high cutoff applied to gtex dataset\n",
      "2nd: common genes identified with other dataset\n",
      "3rd: both datasets combined\n",
      "4th: low cutoff applied to non-gtex dataset\n",
      "for dataset ENTER: tcga_primtum_all\n",
      "insert name for other datasettcga_primtum_all\n",
      "1st: high cutoff applied to gtex dataset\n",
      "2nd: common genes identified with other dataset\n",
      "3rd: both datasets combined\n",
      "4th: low cutoff applied to non-gtex dataset\n"
     ]
    },
    {
     "data": {
      "text/html": [
       "<table border=\"1\" class=\"dataframe\">\n",
       "  <thead>\n",
       "    <tr style=\"text-align: right;\">\n",
       "      <th></th>\n",
       "      <th>GTEX_highly_correlated</th>\n",
       "      <th>%lowly_correlated_in_TCGA_normal</th>\n",
       "      <th>%lowly_correlated_in_TCGA_primtum</th>\n",
       "    </tr>\n",
       "  </thead>\n",
       "  <tbody>\n",
       "    <tr>\n",
       "      <th>ITGA4</th>\n",
       "      <td>281</td>\n",
       "      <td>1.779359(5)</td>\n",
       "      <td>1.779359(5)</td>\n",
       "    </tr>\n",
       "  </tbody>\n",
       "</table>"
      ],
      "text/plain": [
       "<IPython.core.display.HTML object>"
      ]
     },
     "metadata": {},
     "output_type": "display_data"
    },
    {
     "name": "stdout",
     "output_type": "stream",
     "text": [
      "for 1th dataset ENTER: gtex_all\n",
      "for 2th dataset ENTER: tcga_normal_all\n",
      "no overlap between datasets\n",
      "insert name for 1th datasetgtex_all\n",
      "insert name for 2th datasettcga_normal_all\n",
      "for dataset ENTER: tcga_normal_all\n",
      "insert name for other datasettcga_normal_all\n",
      "1st: high cutoff applied to gtex dataset\n",
      "2nd: common genes identified with other dataset\n",
      "3rd: both datasets combined\n",
      "4th: low cutoff applied to non-gtex dataset\n",
      "for dataset ENTER: tcga_primtum_all\n",
      "insert name for other datasettcga_primtum_all\n",
      "1st: high cutoff applied to gtex dataset\n",
      "2nd: common genes identified with other dataset\n",
      "3rd: both datasets combined\n",
      "4th: low cutoff applied to non-gtex dataset\n"
     ]
    },
    {
     "data": {
      "text/html": [
       "<table border=\"1\" class=\"dataframe\">\n",
       "  <thead>\n",
       "    <tr style=\"text-align: right;\">\n",
       "      <th></th>\n",
       "      <th>GTEX_highly_correlated</th>\n",
       "      <th>%lowly_correlated_in_TCGA_normal</th>\n",
       "      <th>%lowly_correlated_in_TCGA_primtum</th>\n",
       "    </tr>\n",
       "  </thead>\n",
       "  <tbody>\n",
       "    <tr>\n",
       "      <th>ITGAV</th>\n",
       "      <td>1525</td>\n",
       "      <td>20.000000(305)</td>\n",
       "      <td>16.983607(259)</td>\n",
       "    </tr>\n",
       "  </tbody>\n",
       "</table>"
      ],
      "text/plain": [
       "<IPython.core.display.HTML object>"
      ]
     },
     "metadata": {},
     "output_type": "display_data"
    },
    {
     "name": "stdout",
     "output_type": "stream",
     "text": [
      "for 1th dataset ENTER: gtex_all\n",
      "for 2th dataset ENTER: tcga_normal_all\n",
      "no overlap between datasets\n",
      "insert name for 1th datasetgtex_all\n",
      "insert name for 2th datasettcga_normal_all\n",
      "for dataset ENTER: tcga_normal_all\n",
      "insert name for other datasettcga_normal_all\n",
      "1st: high cutoff applied to gtex dataset\n",
      "2nd: common genes identified with other dataset\n",
      "3rd: both datasets combined\n",
      "4th: low cutoff applied to non-gtex dataset\n",
      "for dataset ENTER: tcga_primtum_all\n",
      "insert name for other datasettcga_primtum_all\n",
      "1st: high cutoff applied to gtex dataset\n",
      "2nd: common genes identified with other dataset\n",
      "3rd: both datasets combined\n",
      "4th: low cutoff applied to non-gtex dataset\n"
     ]
    },
    {
     "data": {
      "text/html": [
       "<table border=\"1\" class=\"dataframe\">\n",
       "  <thead>\n",
       "    <tr style=\"text-align: right;\">\n",
       "      <th></th>\n",
       "      <th>GTEX_highly_correlated</th>\n",
       "      <th>%lowly_correlated_in_TCGA_normal</th>\n",
       "      <th>%lowly_correlated_in_TCGA_primtum</th>\n",
       "    </tr>\n",
       "  </thead>\n",
       "  <tbody>\n",
       "    <tr>\n",
       "      <th>ITGA9</th>\n",
       "      <td>906</td>\n",
       "      <td>6.843267(62)</td>\n",
       "      <td>10.044150(91)</td>\n",
       "    </tr>\n",
       "  </tbody>\n",
       "</table>"
      ],
      "text/plain": [
       "<IPython.core.display.HTML object>"
      ]
     },
     "metadata": {},
     "output_type": "display_data"
    },
    {
     "name": "stdout",
     "output_type": "stream",
     "text": [
      "for 1th dataset ENTER: gtex_all\n",
      "for 2th dataset ENTER: tcga_normal_all\n",
      "no overlap between datasets\n",
      "insert name for 1th datasetgtex_all\n",
      "insert name for 2th datasettcga_normal_all\n",
      "for dataset ENTER: tcga_normal_all\n",
      "insert name for other datasettcga_normal_all\n",
      "1st: high cutoff applied to gtex dataset\n",
      "2nd: common genes identified with other dataset\n",
      "3rd: both datasets combined\n",
      "4th: low cutoff applied to non-gtex dataset\n",
      "for dataset ENTER: tcga_primtum_all\n",
      "insert name for other datasettcga_primtum_all\n",
      "1st: high cutoff applied to gtex dataset\n",
      "2nd: common genes identified with other dataset\n",
      "3rd: both datasets combined\n",
      "4th: low cutoff applied to non-gtex dataset\n"
     ]
    },
    {
     "data": {
      "text/html": [
       "<table border=\"1\" class=\"dataframe\">\n",
       "  <thead>\n",
       "    <tr style=\"text-align: right;\">\n",
       "      <th></th>\n",
       "      <th>GTEX_highly_correlated</th>\n",
       "      <th>%lowly_correlated_in_TCGA_normal</th>\n",
       "      <th>%lowly_correlated_in_TCGA_primtum</th>\n",
       "    </tr>\n",
       "  </thead>\n",
       "  <tbody>\n",
       "    <tr>\n",
       "      <th>ITGB5</th>\n",
       "      <td>8</td>\n",
       "      <td>25.000000(2)</td>\n",
       "      <td>25.000000(2)</td>\n",
       "    </tr>\n",
       "  </tbody>\n",
       "</table>"
      ],
      "text/plain": [
       "<IPython.core.display.HTML object>"
      ]
     },
     "metadata": {},
     "output_type": "display_data"
    },
    {
     "name": "stdout",
     "output_type": "stream",
     "text": [
      "for 1th dataset ENTER: gtex_all\n",
      "for 2th dataset ENTER: tcga_normal_all\n",
      "no overlap between datasets\n",
      "insert name for 1th datasetgtex_all\n",
      "insert name for 2th datasettcga_normal_all\n",
      "for dataset ENTER: tcga_normal_all\n",
      "insert name for other datasettcga_normal_all\n",
      "1st: high cutoff applied to gtex dataset\n",
      "2nd: common genes identified with other dataset\n",
      "3rd: both datasets combined\n",
      "4th: low cutoff applied to non-gtex dataset\n",
      "for dataset ENTER: tcga_primtum_all\n",
      "insert name for other datasettcga_primtum_all\n",
      "1st: high cutoff applied to gtex dataset\n",
      "2nd: common genes identified with other dataset\n",
      "3rd: both datasets combined\n",
      "4th: low cutoff applied to non-gtex dataset\n"
     ]
    },
    {
     "data": {
      "text/html": [
       "<table border=\"1\" class=\"dataframe\">\n",
       "  <thead>\n",
       "    <tr style=\"text-align: right;\">\n",
       "      <th></th>\n",
       "      <th>GTEX_highly_correlated</th>\n",
       "      <th>%lowly_correlated_in_TCGA_normal</th>\n",
       "      <th>%lowly_correlated_in_TCGA_primtum</th>\n",
       "    </tr>\n",
       "  </thead>\n",
       "  <tbody>\n",
       "    <tr>\n",
       "      <th>ITGA1</th>\n",
       "      <td>1263</td>\n",
       "      <td>5.463183(69)</td>\n",
       "      <td>13.222486(167)</td>\n",
       "    </tr>\n",
       "  </tbody>\n",
       "</table>"
      ],
      "text/plain": [
       "<IPython.core.display.HTML object>"
      ]
     },
     "metadata": {},
     "output_type": "display_data"
    },
    {
     "name": "stdout",
     "output_type": "stream",
     "text": [
      "for 1th dataset ENTER: gtex_all\n",
      "for 2th dataset ENTER: tcga_normal_all\n",
      "no overlap between datasets\n",
      "insert name for 1th datasetgtex_all\n",
      "insert name for 2th datasettcga_normal_all\n",
      "for dataset ENTER: tcga_normal_all\n",
      "insert name for other datasettcga_normal_all\n",
      "1st: high cutoff applied to gtex dataset\n",
      "2nd: common genes identified with other dataset\n",
      "3rd: both datasets combined\n",
      "4th: low cutoff applied to non-gtex dataset\n",
      "for dataset ENTER: tcga_primtum_all\n",
      "insert name for other datasettcga_primtum_all\n",
      "1st: high cutoff applied to gtex dataset\n",
      "2nd: common genes identified with other dataset\n",
      "3rd: both datasets combined\n",
      "4th: low cutoff applied to non-gtex dataset\n"
     ]
    },
    {
     "data": {
      "text/html": [
       "<table border=\"1\" class=\"dataframe\">\n",
       "  <thead>\n",
       "    <tr style=\"text-align: right;\">\n",
       "      <th></th>\n",
       "      <th>GTEX_highly_correlated</th>\n",
       "      <th>%lowly_correlated_in_TCGA_normal</th>\n",
       "      <th>%lowly_correlated_in_TCGA_primtum</th>\n",
       "    </tr>\n",
       "  </thead>\n",
       "  <tbody>\n",
       "    <tr>\n",
       "      <th>ITGA2</th>\n",
       "      <td>173</td>\n",
       "      <td>27.745665(48)</td>\n",
       "      <td>28.901734(50)</td>\n",
       "    </tr>\n",
       "  </tbody>\n",
       "</table>"
      ],
      "text/plain": [
       "<IPython.core.display.HTML object>"
      ]
     },
     "metadata": {},
     "output_type": "display_data"
    },
    {
     "name": "stdout",
     "output_type": "stream",
     "text": [
      "for 1th dataset ENTER: gtex_all\n",
      "for 2th dataset ENTER: tcga_normal_all\n",
      "no overlap between datasets\n",
      "insert name for 1th datasetgtex_all\n",
      "insert name for 2th datasettcga_normal_all\n",
      "for dataset ENTER: tcga_normal_all\n",
      "insert name for other datasettcga_normal_all\n",
      "1st: high cutoff applied to gtex dataset\n",
      "2nd: common genes identified with other dataset\n",
      "3rd: both datasets combined\n",
      "4th: low cutoff applied to non-gtex dataset\n",
      "for dataset ENTER: tcga_primtum_all\n",
      "insert name for other datasettcga_primtum_all\n",
      "1st: high cutoff applied to gtex dataset\n",
      "2nd: common genes identified with other dataset\n",
      "3rd: both datasets combined\n",
      "4th: low cutoff applied to non-gtex dataset\n"
     ]
    },
    {
     "data": {
      "text/html": [
       "<table border=\"1\" class=\"dataframe\">\n",
       "  <thead>\n",
       "    <tr style=\"text-align: right;\">\n",
       "      <th></th>\n",
       "      <th>GTEX_highly_correlated</th>\n",
       "      <th>%lowly_correlated_in_TCGA_normal</th>\n",
       "      <th>%lowly_correlated_in_TCGA_primtum</th>\n",
       "    </tr>\n",
       "  </thead>\n",
       "  <tbody>\n",
       "    <tr>\n",
       "      <th>ITGA8</th>\n",
       "      <td>184</td>\n",
       "      <td>4.347826(8)</td>\n",
       "      <td>5.434783(10)</td>\n",
       "    </tr>\n",
       "  </tbody>\n",
       "</table>"
      ],
      "text/plain": [
       "<IPython.core.display.HTML object>"
      ]
     },
     "metadata": {},
     "output_type": "display_data"
    },
    {
     "name": "stdout",
     "output_type": "stream",
     "text": [
      "for 1th dataset ENTER: gtex_all\n",
      "for 2th dataset ENTER: tcga_normal_all\n",
      "no overlap between datasets\n",
      "insert name for 1th datasetgtex_all\n",
      "insert name for 2th datasettcga_normal_all\n",
      "for dataset ENTER: tcga_normal_all\n",
      "insert name for other datasettcga_normal_all\n",
      "1st: high cutoff applied to gtex dataset\n",
      "2nd: common genes identified with other dataset\n",
      "3rd: both datasets combined\n",
      "4th: low cutoff applied to non-gtex dataset\n",
      "for dataset ENTER: tcga_primtum_all\n",
      "insert name for other datasettcga_primtum_all\n",
      "1st: high cutoff applied to gtex dataset\n",
      "2nd: common genes identified with other dataset\n",
      "3rd: both datasets combined\n",
      "4th: low cutoff applied to non-gtex dataset\n"
     ]
    },
    {
     "data": {
      "text/html": [
       "<table border=\"1\" class=\"dataframe\">\n",
       "  <thead>\n",
       "    <tr style=\"text-align: right;\">\n",
       "      <th></th>\n",
       "      <th>GTEX_highly_correlated</th>\n",
       "      <th>%lowly_correlated_in_TCGA_normal</th>\n",
       "      <th>%lowly_correlated_in_TCGA_primtum</th>\n",
       "    </tr>\n",
       "  </thead>\n",
       "  <tbody>\n",
       "    <tr>\n",
       "      <th>ITGB1</th>\n",
       "      <td>1027</td>\n",
       "      <td>9.737098(100)</td>\n",
       "      <td>16.163583(166)</td>\n",
       "    </tr>\n",
       "  </tbody>\n",
       "</table>"
      ],
      "text/plain": [
       "<IPython.core.display.HTML object>"
      ]
     },
     "metadata": {},
     "output_type": "display_data"
    },
    {
     "name": "stdout",
     "output_type": "stream",
     "text": [
      "for 1th dataset ENTER: gtex_all\n",
      "for 2th dataset ENTER: tcga_normal_all\n",
      "no overlap between datasets\n",
      "insert name for 1th datasetgtex_all\n",
      "insert name for 2th datasettcga_normal_all\n",
      "for dataset ENTER: tcga_normal_all\n",
      "insert name for other datasettcga_normal_all\n",
      "1st: high cutoff applied to gtex dataset\n",
      "2nd: common genes identified with other dataset\n",
      "3rd: both datasets combined\n",
      "4th: low cutoff applied to non-gtex dataset\n",
      "for dataset ENTER: tcga_primtum_all\n",
      "insert name for other datasettcga_primtum_all\n",
      "1st: high cutoff applied to gtex dataset\n",
      "2nd: common genes identified with other dataset\n",
      "3rd: both datasets combined\n",
      "4th: low cutoff applied to non-gtex dataset\n"
     ]
    },
    {
     "data": {
      "text/html": [
       "<table border=\"1\" class=\"dataframe\">\n",
       "  <thead>\n",
       "    <tr style=\"text-align: right;\">\n",
       "      <th></th>\n",
       "      <th>GTEX_highly_correlated</th>\n",
       "      <th>%lowly_correlated_in_TCGA_normal</th>\n",
       "      <th>%lowly_correlated_in_TCGA_primtum</th>\n",
       "    </tr>\n",
       "  </thead>\n",
       "  <tbody>\n",
       "    <tr>\n",
       "      <th>ITGB7</th>\n",
       "      <td>310</td>\n",
       "      <td>4.838710(15)</td>\n",
       "      <td>4.193548(13)</td>\n",
       "    </tr>\n",
       "  </tbody>\n",
       "</table>"
      ],
      "text/plain": [
       "<IPython.core.display.HTML object>"
      ]
     },
     "metadata": {},
     "output_type": "display_data"
    },
    {
     "name": "stdout",
     "output_type": "stream",
     "text": [
      "for 1th dataset ENTER: gtex_all\n",
      "for 2th dataset ENTER: tcga_normal_all\n",
      "no overlap between datasets\n",
      "insert name for 1th datasetgtex_all\n",
      "insert name for 2th datasettcga_normal_all\n",
      "for dataset ENTER: tcga_normal_all\n",
      "insert name for other datasettcga_normal_all\n",
      "1st: high cutoff applied to gtex dataset\n",
      "2nd: common genes identified with other dataset\n",
      "3rd: both datasets combined\n",
      "4th: low cutoff applied to non-gtex dataset\n",
      "for dataset ENTER: tcga_primtum_all\n",
      "insert name for other datasettcga_primtum_all\n",
      "1st: high cutoff applied to gtex dataset\n",
      "2nd: common genes identified with other dataset\n",
      "3rd: both datasets combined\n",
      "4th: low cutoff applied to non-gtex dataset\n"
     ]
    },
    {
     "data": {
      "text/html": [
       "<table border=\"1\" class=\"dataframe\">\n",
       "  <thead>\n",
       "    <tr style=\"text-align: right;\">\n",
       "      <th></th>\n",
       "      <th>GTEX_highly_correlated</th>\n",
       "      <th>%lowly_correlated_in_TCGA_normal</th>\n",
       "      <th>%lowly_correlated_in_TCGA_primtum</th>\n",
       "    </tr>\n",
       "  </thead>\n",
       "  <tbody>\n",
       "    <tr>\n",
       "      <th>ITGA5</th>\n",
       "      <td>400</td>\n",
       "      <td>3.000000(12)</td>\n",
       "      <td>17.250000(69)</td>\n",
       "    </tr>\n",
       "  </tbody>\n",
       "</table>"
      ],
      "text/plain": [
       "<IPython.core.display.HTML object>"
      ]
     },
     "metadata": {},
     "output_type": "display_data"
    },
    {
     "name": "stdout",
     "output_type": "stream",
     "text": [
      "for 1th dataset ENTER: gtex_all\n",
      "for 2th dataset ENTER: tcga_normal_all\n",
      "no overlap between datasets\n",
      "insert name for 1th datasetgtex_all\n",
      "insert name for 2th datasettcga_normal_all\n",
      "for dataset ENTER: tcga_normal_all\n",
      "insert name for other datasettcga_normal_all\n",
      "1st: high cutoff applied to gtex dataset\n",
      "2nd: common genes identified with other dataset\n",
      "3rd: both datasets combined\n",
      "4th: low cutoff applied to non-gtex dataset\n",
      "for dataset ENTER: tcga_primtum_all\n",
      "insert name for other datasettcga_primtum_all\n",
      "1st: high cutoff applied to gtex dataset\n",
      "2nd: common genes identified with other dataset\n",
      "3rd: both datasets combined\n",
      "4th: low cutoff applied to non-gtex dataset\n"
     ]
    },
    {
     "data": {
      "text/html": [
       "<table border=\"1\" class=\"dataframe\">\n",
       "  <thead>\n",
       "    <tr style=\"text-align: right;\">\n",
       "      <th></th>\n",
       "      <th>GTEX_highly_correlated</th>\n",
       "      <th>%lowly_correlated_in_TCGA_normal</th>\n",
       "      <th>%lowly_correlated_in_TCGA_primtum</th>\n",
       "    </tr>\n",
       "  </thead>\n",
       "  <tbody>\n",
       "    <tr>\n",
       "      <th>ITGBL1</th>\n",
       "      <td>30</td>\n",
       "      <td>0.000000(0)</td>\n",
       "      <td>3.333333(1)</td>\n",
       "    </tr>\n",
       "  </tbody>\n",
       "</table>"
      ],
      "text/plain": [
       "<IPython.core.display.HTML object>"
      ]
     },
     "metadata": {},
     "output_type": "display_data"
    },
    {
     "name": "stdout",
     "output_type": "stream",
     "text": [
      "for 1th dataset ENTER: gtex_all\n",
      "for 2th dataset ENTER: tcga_normal_all\n",
      "no overlap between datasets\n",
      "insert name for 1th datasetgtex_all\n",
      "insert name for 2th datasettcga_normal_all\n",
      "for dataset ENTER: tcga_normal_all\n",
      "insert name for other datasettcga_normal_all\n",
      "1st: high cutoff applied to gtex dataset\n",
      "2nd: common genes identified with other dataset\n",
      "3rd: both datasets combined\n",
      "4th: low cutoff applied to non-gtex dataset\n",
      "for dataset ENTER: tcga_primtum_all\n",
      "insert name for other datasettcga_primtum_all\n",
      "1st: high cutoff applied to gtex dataset\n",
      "2nd: common genes identified with other dataset\n",
      "3rd: both datasets combined\n",
      "4th: low cutoff applied to non-gtex dataset\n"
     ]
    },
    {
     "data": {
      "text/html": [
       "<table border=\"1\" class=\"dataframe\">\n",
       "  <thead>\n",
       "    <tr style=\"text-align: right;\">\n",
       "      <th></th>\n",
       "      <th>GTEX_highly_correlated</th>\n",
       "      <th>%lowly_correlated_in_TCGA_normal</th>\n",
       "      <th>%lowly_correlated_in_TCGA_primtum</th>\n",
       "    </tr>\n",
       "  </thead>\n",
       "  <tbody>\n",
       "    <tr>\n",
       "      <th>ITGA11</th>\n",
       "      <td>13</td>\n",
       "      <td>0.000000(0)</td>\n",
       "      <td>0.000000(0)</td>\n",
       "    </tr>\n",
       "  </tbody>\n",
       "</table>"
      ],
      "text/plain": [
       "<IPython.core.display.HTML object>"
      ]
     },
     "metadata": {},
     "output_type": "display_data"
    },
    {
     "name": "stdout",
     "output_type": "stream",
     "text": [
      "for 1th dataset ENTER: gtex_all\n",
      "for 2th dataset ENTER: tcga_normal_all\n",
      "no overlap between datasets\n",
      "insert name for 1th datasetgtex_all\n",
      "insert name for 2th datasettcga_normal_all\n",
      "for dataset ENTER: tcga_normal_all\n",
      "insert name for other datasettcga_normal_all\n",
      "1st: high cutoff applied to gtex dataset\n",
      "2nd: common genes identified with other dataset\n",
      "3rd: both datasets combined\n",
      "4th: low cutoff applied to non-gtex dataset\n",
      "for dataset ENTER: tcga_primtum_all\n",
      "insert name for other datasettcga_primtum_all\n",
      "1st: high cutoff applied to gtex dataset\n",
      "2nd: common genes identified with other dataset\n",
      "3rd: both datasets combined\n",
      "4th: low cutoff applied to non-gtex dataset\n"
     ]
    },
    {
     "data": {
      "text/html": [
       "<table border=\"1\" class=\"dataframe\">\n",
       "  <thead>\n",
       "    <tr style=\"text-align: right;\">\n",
       "      <th></th>\n",
       "      <th>GTEX_highly_correlated</th>\n",
       "      <th>%lowly_correlated_in_TCGA_normal</th>\n",
       "      <th>%lowly_correlated_in_TCGA_primtum</th>\n",
       "    </tr>\n",
       "  </thead>\n",
       "  <tbody>\n",
       "    <tr>\n",
       "      <th>ITGAL</th>\n",
       "      <td>347</td>\n",
       "      <td>2.017291(7)</td>\n",
       "      <td>0.576369(2)</td>\n",
       "    </tr>\n",
       "  </tbody>\n",
       "</table>"
      ],
      "text/plain": [
       "<IPython.core.display.HTML object>"
      ]
     },
     "metadata": {},
     "output_type": "display_data"
    },
    {
     "name": "stdout",
     "output_type": "stream",
     "text": [
      "for 1th dataset ENTER: gtex_all\n",
      "for 2th dataset ENTER: tcga_normal_all\n",
      "no overlap between datasets\n",
      "insert name for 1th datasetgtex_all\n",
      "insert name for 2th datasettcga_normal_all\n",
      "for dataset ENTER: tcga_normal_all\n",
      "insert name for other datasettcga_normal_all\n",
      "1st: high cutoff applied to gtex dataset\n",
      "2nd: common genes identified with other dataset\n",
      "3rd: both datasets combined\n",
      "4th: low cutoff applied to non-gtex dataset\n",
      "for dataset ENTER: tcga_primtum_all\n",
      "insert name for other datasettcga_primtum_all\n",
      "1st: high cutoff applied to gtex dataset\n",
      "2nd: common genes identified with other dataset\n",
      "3rd: both datasets combined\n",
      "4th: low cutoff applied to non-gtex dataset\n"
     ]
    },
    {
     "data": {
      "text/html": [
       "<table border=\"1\" class=\"dataframe\">\n",
       "  <thead>\n",
       "    <tr style=\"text-align: right;\">\n",
       "      <th></th>\n",
       "      <th>GTEX_highly_correlated</th>\n",
       "      <th>%lowly_correlated_in_TCGA_normal</th>\n",
       "      <th>%lowly_correlated_in_TCGA_primtum</th>\n",
       "    </tr>\n",
       "  </thead>\n",
       "  <tbody>\n",
       "    <tr>\n",
       "      <th>ITGAM</th>\n",
       "      <td>260</td>\n",
       "      <td>3.076923(8)</td>\n",
       "      <td>1.923077(5)</td>\n",
       "    </tr>\n",
       "  </tbody>\n",
       "</table>"
      ],
      "text/plain": [
       "<IPython.core.display.HTML object>"
      ]
     },
     "metadata": {},
     "output_type": "display_data"
    },
    {
     "name": "stdout",
     "output_type": "stream",
     "text": [
      "for 1th dataset ENTER: gtex_all\n",
      "for 2th dataset ENTER: tcga_normal_all\n",
      "no overlap between datasets\n",
      "insert name for 1th datasetgtex_all\n",
      "insert name for 2th datasettcga_normal_all\n",
      "for dataset ENTER: tcga_normal_all\n",
      "insert name for other datasettcga_normal_all\n",
      "1st: high cutoff applied to gtex dataset\n",
      "2nd: common genes identified with other dataset\n",
      "3rd: both datasets combined\n",
      "4th: low cutoff applied to non-gtex dataset\n",
      "for dataset ENTER: tcga_primtum_all\n",
      "insert name for other datasettcga_primtum_all\n",
      "1st: high cutoff applied to gtex dataset\n",
      "2nd: common genes identified with other dataset\n",
      "3rd: both datasets combined\n",
      "4th: low cutoff applied to non-gtex dataset\n"
     ]
    },
    {
     "data": {
      "text/html": [
       "<table border=\"1\" class=\"dataframe\">\n",
       "  <thead>\n",
       "    <tr style=\"text-align: right;\">\n",
       "      <th></th>\n",
       "      <th>GTEX_highly_correlated</th>\n",
       "      <th>%lowly_correlated_in_TCGA_normal</th>\n",
       "      <th>%lowly_correlated_in_TCGA_primtum</th>\n",
       "    </tr>\n",
       "  </thead>\n",
       "  <tbody>\n",
       "    <tr>\n",
       "      <th>ITGAX</th>\n",
       "      <td>107</td>\n",
       "      <td>1.869159(2)</td>\n",
       "      <td>0.000000(0)</td>\n",
       "    </tr>\n",
       "  </tbody>\n",
       "</table>"
      ],
      "text/plain": [
       "<IPython.core.display.HTML object>"
      ]
     },
     "metadata": {},
     "output_type": "display_data"
    },
    {
     "name": "stdout",
     "output_type": "stream",
     "text": [
      "for 1th dataset ENTER: gtex_all\n",
      "for 2th dataset ENTER: tcga_normal_all\n",
      "no overlap between datasets\n",
      "insert name for 1th datasetgtex_all\n",
      "insert name for 2th datasettcga_normal_all\n",
      "for dataset ENTER: tcga_normal_all\n",
      "insert name for other datasettcga_normal_all\n",
      "1st: high cutoff applied to gtex dataset\n",
      "2nd: common genes identified with other dataset\n",
      "3rd: both datasets combined\n",
      "4th: low cutoff applied to non-gtex dataset\n",
      "for dataset ENTER: tcga_primtum_all\n",
      "insert name for other datasettcga_primtum_all\n",
      "1st: high cutoff applied to gtex dataset\n",
      "2nd: common genes identified with other dataset\n",
      "3rd: both datasets combined\n",
      "4th: low cutoff applied to non-gtex dataset\n"
     ]
    },
    {
     "name": "stderr",
     "output_type": "stream",
     "text": [
      "/public/apps/python/3.7.0/lib/python3.7/site-packages/ipykernel_launcher.py:70: RuntimeWarning: invalid value encountered in long_scalars\n",
      "/public/apps/python/3.7.0/lib/python3.7/site-packages/ipykernel_launcher.py:71: RuntimeWarning: invalid value encountered in long_scalars\n"
     ]
    },
    {
     "data": {
      "text/html": [
       "<table border=\"1\" class=\"dataframe\">\n",
       "  <thead>\n",
       "    <tr style=\"text-align: right;\">\n",
       "      <th></th>\n",
       "      <th>GTEX_highly_correlated</th>\n",
       "      <th>%lowly_correlated_in_TCGA_normal</th>\n",
       "      <th>%lowly_correlated_in_TCGA_primtum</th>\n",
       "    </tr>\n",
       "  </thead>\n",
       "  <tbody>\n",
       "    <tr>\n",
       "      <th>ITGAD</th>\n",
       "      <td>0</td>\n",
       "      <td>nan(0)</td>\n",
       "      <td>nan(0)</td>\n",
       "    </tr>\n",
       "  </tbody>\n",
       "</table>"
      ],
      "text/plain": [
       "<IPython.core.display.HTML object>"
      ]
     },
     "metadata": {},
     "output_type": "display_data"
    },
    {
     "name": "stdout",
     "output_type": "stream",
     "text": [
      "for 1th dataset ENTER: gtex_all\n",
      "for 2th dataset ENTER: tcga_normal_all\n",
      "no overlap between datasets\n",
      "insert name for 1th datasetgtex_all\n",
      "insert name for 2th datasettcga_normal_all\n",
      "for dataset ENTER: tcga_normal_all\n",
      "insert name for other datasettcga_normal_all\n",
      "1st: high cutoff applied to gtex dataset\n",
      "2nd: common genes identified with other dataset\n",
      "3rd: both datasets combined\n",
      "4th: low cutoff applied to non-gtex dataset\n",
      "for dataset ENTER: tcga_primtum_all\n",
      "insert name for other datasettcga_primtum_all\n",
      "1st: high cutoff applied to gtex dataset\n",
      "2nd: common genes identified with other dataset\n",
      "3rd: both datasets combined\n",
      "4th: low cutoff applied to non-gtex dataset\n"
     ]
    },
    {
     "data": {
      "text/html": [
       "<table border=\"1\" class=\"dataframe\">\n",
       "  <thead>\n",
       "    <tr style=\"text-align: right;\">\n",
       "      <th></th>\n",
       "      <th>GTEX_highly_correlated</th>\n",
       "      <th>%lowly_correlated_in_TCGA_normal</th>\n",
       "      <th>%lowly_correlated_in_TCGA_primtum</th>\n",
       "    </tr>\n",
       "  </thead>\n",
       "  <tbody>\n",
       "    <tr>\n",
       "      <th>ITGAE</th>\n",
       "      <td>292</td>\n",
       "      <td>14.726027(43)</td>\n",
       "      <td>27.397260(80)</td>\n",
       "    </tr>\n",
       "  </tbody>\n",
       "</table>"
      ],
      "text/plain": [
       "<IPython.core.display.HTML object>"
      ]
     },
     "metadata": {},
     "output_type": "display_data"
    },
    {
     "name": "stdout",
     "output_type": "stream",
     "text": [
      "for 1th dataset ENTER: gtex_all\n",
      "for 2th dataset ENTER: tcga_normal_all\n",
      "no overlap between datasets\n",
      "insert name for 1th datasetgtex_all\n",
      "insert name for 2th datasettcga_normal_all\n",
      "for dataset ENTER: tcga_normal_all\n",
      "insert name for other datasettcga_normal_all\n",
      "1st: high cutoff applied to gtex dataset\n",
      "2nd: common genes identified with other dataset\n",
      "3rd: both datasets combined\n",
      "4th: low cutoff applied to non-gtex dataset\n",
      "for dataset ENTER: tcga_primtum_all\n",
      "insert name for other datasettcga_primtum_all\n",
      "1st: high cutoff applied to gtex dataset\n",
      "2nd: common genes identified with other dataset\n",
      "3rd: both datasets combined\n",
      "4th: low cutoff applied to non-gtex dataset\n"
     ]
    },
    {
     "data": {
      "text/html": [
       "<table border=\"1\" class=\"dataframe\">\n",
       "  <thead>\n",
       "    <tr style=\"text-align: right;\">\n",
       "      <th></th>\n",
       "      <th>GTEX_highly_correlated</th>\n",
       "      <th>%lowly_correlated_in_TCGA_normal</th>\n",
       "      <th>%lowly_correlated_in_TCGA_primtum</th>\n",
       "    </tr>\n",
       "  </thead>\n",
       "  <tbody>\n",
       "    <tr>\n",
       "      <th>ITGA2B</th>\n",
       "      <td>349</td>\n",
       "      <td>18.911175(66)</td>\n",
       "      <td>9.455587(33)</td>\n",
       "    </tr>\n",
       "  </tbody>\n",
       "</table>"
      ],
      "text/plain": [
       "<IPython.core.display.HTML object>"
      ]
     },
     "metadata": {},
     "output_type": "display_data"
    },
    {
     "name": "stdout",
     "output_type": "stream",
     "text": [
      "for 1th dataset ENTER: gtex_all\n",
      "for 2th dataset ENTER: tcga_normal_all\n",
      "no overlap between datasets\n",
      "insert name for 1th datasetgtex_all\n",
      "insert name for 2th datasettcga_normal_all\n",
      "for dataset ENTER: tcga_normal_all\n",
      "insert name for other datasettcga_normal_all\n",
      "1st: high cutoff applied to gtex dataset\n",
      "2nd: common genes identified with other dataset\n",
      "3rd: both datasets combined\n",
      "4th: low cutoff applied to non-gtex dataset\n",
      "for dataset ENTER: tcga_primtum_all\n",
      "insert name for other datasettcga_primtum_all\n",
      "1st: high cutoff applied to gtex dataset\n",
      "2nd: common genes identified with other dataset\n",
      "3rd: both datasets combined\n",
      "4th: low cutoff applied to non-gtex dataset\n"
     ]
    },
    {
     "data": {
      "text/html": [
       "<table border=\"1\" class=\"dataframe\">\n",
       "  <thead>\n",
       "    <tr style=\"text-align: right;\">\n",
       "      <th></th>\n",
       "      <th>GTEX_highly_correlated</th>\n",
       "      <th>%lowly_correlated_in_TCGA_normal</th>\n",
       "      <th>%lowly_correlated_in_TCGA_primtum</th>\n",
       "    </tr>\n",
       "  </thead>\n",
       "  <tbody>\n",
       "    <tr>\n",
       "      <th>ITGB3</th>\n",
       "      <td>330</td>\n",
       "      <td>21.818182(72)</td>\n",
       "      <td>20.606061(68)</td>\n",
       "    </tr>\n",
       "  </tbody>\n",
       "</table>"
      ],
      "text/plain": [
       "<IPython.core.display.HTML object>"
      ]
     },
     "metadata": {},
     "output_type": "display_data"
    },
    {
     "name": "stdout",
     "output_type": "stream",
     "text": [
      "for 1th dataset ENTER: gtex_all\n",
      "for 2th dataset ENTER: tcga_normal_all\n",
      "no overlap between datasets\n",
      "insert name for 1th datasetgtex_all\n",
      "insert name for 2th datasettcga_normal_all\n",
      "for dataset ENTER: tcga_normal_all\n",
      "insert name for other datasettcga_normal_all\n",
      "1st: high cutoff applied to gtex dataset\n",
      "2nd: common genes identified with other dataset\n",
      "3rd: both datasets combined\n",
      "4th: low cutoff applied to non-gtex dataset\n",
      "for dataset ENTER: tcga_primtum_all\n",
      "insert name for other datasettcga_primtum_all\n",
      "1st: high cutoff applied to gtex dataset\n",
      "2nd: common genes identified with other dataset\n",
      "3rd: both datasets combined\n",
      "4th: low cutoff applied to non-gtex dataset\n"
     ]
    },
    {
     "data": {
      "text/html": [
       "<table border=\"1\" class=\"dataframe\">\n",
       "  <thead>\n",
       "    <tr style=\"text-align: right;\">\n",
       "      <th></th>\n",
       "      <th>GTEX_highly_correlated</th>\n",
       "      <th>%lowly_correlated_in_TCGA_normal</th>\n",
       "      <th>%lowly_correlated_in_TCGA_primtum</th>\n",
       "    </tr>\n",
       "  </thead>\n",
       "  <tbody>\n",
       "    <tr>\n",
       "      <th>ITGA3</th>\n",
       "      <td>217</td>\n",
       "      <td>16.129032(35)</td>\n",
       "      <td>32.258065(70)</td>\n",
       "    </tr>\n",
       "  </tbody>\n",
       "</table>"
      ],
      "text/plain": [
       "<IPython.core.display.HTML object>"
      ]
     },
     "metadata": {},
     "output_type": "display_data"
    },
    {
     "name": "stdout",
     "output_type": "stream",
     "text": [
      "for 1th dataset ENTER: gtex_all\n",
      "for 2th dataset ENTER: tcga_normal_all\n",
      "no overlap between datasets\n",
      "insert name for 1th datasetgtex_all\n",
      "insert name for 2th datasettcga_normal_all\n",
      "for dataset ENTER: tcga_normal_all\n",
      "insert name for other datasettcga_normal_all\n",
      "1st: high cutoff applied to gtex dataset\n",
      "2nd: common genes identified with other dataset\n",
      "3rd: both datasets combined\n",
      "4th: low cutoff applied to non-gtex dataset\n",
      "for dataset ENTER: tcga_primtum_all\n",
      "insert name for other datasettcga_primtum_all\n",
      "1st: high cutoff applied to gtex dataset\n",
      "2nd: common genes identified with other dataset\n",
      "3rd: both datasets combined\n",
      "4th: low cutoff applied to non-gtex dataset\n"
     ]
    },
    {
     "data": {
      "text/html": [
       "<table border=\"1\" class=\"dataframe\">\n",
       "  <thead>\n",
       "    <tr style=\"text-align: right;\">\n",
       "      <th></th>\n",
       "      <th>GTEX_highly_correlated</th>\n",
       "      <th>%lowly_correlated_in_TCGA_normal</th>\n",
       "      <th>%lowly_correlated_in_TCGA_primtum</th>\n",
       "    </tr>\n",
       "  </thead>\n",
       "  <tbody>\n",
       "    <tr>\n",
       "      <th>ITGB4</th>\n",
       "      <td>259</td>\n",
       "      <td>8.108108(21)</td>\n",
       "      <td>31.660232(82)</td>\n",
       "    </tr>\n",
       "  </tbody>\n",
       "</table>"
      ],
      "text/plain": [
       "<IPython.core.display.HTML object>"
      ]
     },
     "metadata": {},
     "output_type": "display_data"
    },
    {
     "name": "stdout",
     "output_type": "stream",
     "text": [
      "for 1th dataset ENTER: gtex_all\n",
      "for 2th dataset ENTER: tcga_normal_all\n",
      "no overlap between datasets\n",
      "insert name for 1th datasetgtex_all\n",
      "insert name for 2th datasettcga_normal_all\n",
      "for dataset ENTER: tcga_normal_all\n",
      "insert name for other datasettcga_normal_all\n",
      "1st: high cutoff applied to gtex dataset\n",
      "2nd: common genes identified with other dataset\n",
      "3rd: both datasets combined\n",
      "4th: low cutoff applied to non-gtex dataset\n",
      "for dataset ENTER: tcga_primtum_all\n",
      "insert name for other datasettcga_primtum_all\n",
      "1st: high cutoff applied to gtex dataset\n",
      "2nd: common genes identified with other dataset\n",
      "3rd: both datasets combined\n",
      "4th: low cutoff applied to non-gtex dataset\n"
     ]
    },
    {
     "data": {
      "text/html": [
       "<table border=\"1\" class=\"dataframe\">\n",
       "  <thead>\n",
       "    <tr style=\"text-align: right;\">\n",
       "      <th></th>\n",
       "      <th>GTEX_highly_correlated</th>\n",
       "      <th>%lowly_correlated_in_TCGA_normal</th>\n",
       "      <th>%lowly_correlated_in_TCGA_primtum</th>\n",
       "    </tr>\n",
       "  </thead>\n",
       "  <tbody>\n",
       "    <tr>\n",
       "      <th>ITGB2</th>\n",
       "      <td>274</td>\n",
       "      <td>4.014599(11)</td>\n",
       "      <td>1.094891(3)</td>\n",
       "    </tr>\n",
       "  </tbody>\n",
       "</table>"
      ],
      "text/plain": [
       "<IPython.core.display.HTML object>"
      ]
     },
     "metadata": {},
     "output_type": "display_data"
    }
   ],
   "source": [
    "#table 2\n",
    "integrins_list=['ITGA7','ITGB8','ITGB6','ITGA10','ITGA6','ITGA4','ITGAV','ITGA9','ITGB5','ITGA1','ITGA2','ITGA8',\n",
    "'ITGB1','ITGB7','ITGA5','ITGBL1','ITGA11','ITGAL','ITGAM','ITGAX','ITGAD','ITGAE','ITGA2B','ITGB3','ITGA3',\n",
    "                'ITGB4','ITGB2']\n",
    "\n",
    "correlation_method ='pearson'\n",
    "gtex_gct_dataset = './gene_tpm_2017-06-05_v8_prostate.gct'\n",
    "correlation_cutoff = 0.6\n",
    "tcga_hiseq_dataset = 'TCGA.PRAD.sampleMap_HiSeqV2' \n",
    "tcga_hiseq_corresponding_sample_info = '/home/hshadman/integrins_expression/saghar_TCGA_Breast/TCGAXena/TCGA.PRAD.sampleMap/PRAD_clinicalMatrix'\n",
    "opposing_corr_cutoff = 0.1\n",
    "\n",
    "# make_data_presentable(interest_gene,correlation_method, correlation_cutoff,opposing_corr_cutoff,gtex_gct_dataset,\n",
    "#                          tcga_hiseq_dataset,tcga_hiseq_corresponding_sample_info)\n",
    "\n",
    "for interest_gene in integrins_list:\n",
    "    organize_gtex_tcga_table2(interest_gene,correlation_method, correlation_cutoff,opposing_corr_cutoff,gtex_gct_dataset,\n",
    "                         tcga_hiseq_dataset,tcga_hiseq_corresponding_sample_info)\n",
    "\n"
   ]
  },
  {
   "cell_type": "code",
   "execution_count": 19,
   "metadata": {
    "scrolled": false
   },
   "outputs": [
    {
     "name": "stdout",
     "output_type": "stream",
     "text": [
      "for 1th dataset ENTER: gtex_all\n",
      "for 2th dataset ENTER: tcga_normal_all\n",
      "no overlap between datasets\n",
      "insert name for 1th datasetgtex_all\n",
      "insert name for 2th datasettcga_normal_all\n",
      "for 1th dataset ENTER: gtex_all\n",
      "for 2th dataset ENTER: tcga_primtum_all\n",
      "no overlap between datasets\n",
      "insert name for 1th datasetgtex_all\n",
      "insert name for 2th datasettcga_primtum_all\n"
     ]
    },
    {
     "data": {
      "text/html": [
       "<table border=\"1\" class=\"dataframe\">\n",
       "  <thead>\n",
       "    <tr style=\"text-align: right;\">\n",
       "      <th></th>\n",
       "      <th>GTEX_expression_mean_&amp;_stdev</th>\n",
       "      <th>GTEX_highly_correlated</th>\n",
       "      <th>highly_correlated_in_TCGA_normal</th>\n",
       "      <th>highly_corelated_in_TCGA_primtum</th>\n",
       "    </tr>\n",
       "  </thead>\n",
       "  <tbody>\n",
       "    <tr>\n",
       "      <th>ITGA7</th>\n",
       "      <td>89.33 + 68.74</td>\n",
       "      <td>576</td>\n",
       "      <td>881</td>\n",
       "      <td>812</td>\n",
       "    </tr>\n",
       "  </tbody>\n",
       "</table>"
      ],
      "text/plain": [
       "<IPython.core.display.HTML object>"
      ]
     },
     "metadata": {},
     "output_type": "display_data"
    },
    {
     "name": "stdout",
     "output_type": "stream",
     "text": [
      "for 1th dataset ENTER: gtex_all\n",
      "for 2th dataset ENTER: tcga_normal_all\n",
      "no overlap between datasets\n",
      "insert name for 1th datasetgtex_all\n",
      "insert name for 2th datasettcga_normal_all\n",
      "for 1th dataset ENTER: gtex_all\n",
      "for 2th dataset ENTER: tcga_primtum_all\n",
      "no overlap between datasets\n",
      "insert name for 1th datasetgtex_all\n",
      "insert name for 2th datasettcga_primtum_all\n"
     ]
    },
    {
     "data": {
      "text/html": [
       "<table border=\"1\" class=\"dataframe\">\n",
       "  <thead>\n",
       "    <tr style=\"text-align: right;\">\n",
       "      <th></th>\n",
       "      <th>GTEX_expression_mean_&amp;_stdev</th>\n",
       "      <th>GTEX_highly_correlated</th>\n",
       "      <th>highly_correlated_in_TCGA_normal</th>\n",
       "      <th>highly_corelated_in_TCGA_primtum</th>\n",
       "    </tr>\n",
       "  </thead>\n",
       "  <tbody>\n",
       "    <tr>\n",
       "      <th>ITGB8</th>\n",
       "      <td>11.87 + 8.16</td>\n",
       "      <td>202</td>\n",
       "      <td>212</td>\n",
       "      <td>196</td>\n",
       "    </tr>\n",
       "  </tbody>\n",
       "</table>"
      ],
      "text/plain": [
       "<IPython.core.display.HTML object>"
      ]
     },
     "metadata": {},
     "output_type": "display_data"
    },
    {
     "name": "stdout",
     "output_type": "stream",
     "text": [
      "for 1th dataset ENTER: gtex_all\n",
      "for 2th dataset ENTER: tcga_normal_all\n",
      "no overlap between datasets\n",
      "insert name for 1th datasetgtex_all\n",
      "insert name for 2th datasettcga_normal_all\n",
      "for 1th dataset ENTER: gtex_all\n",
      "for 2th dataset ENTER: tcga_primtum_all\n",
      "no overlap between datasets\n",
      "insert name for 1th datasetgtex_all\n",
      "insert name for 2th datasettcga_primtum_all\n"
     ]
    },
    {
     "data": {
      "text/html": [
       "<table border=\"1\" class=\"dataframe\">\n",
       "  <thead>\n",
       "    <tr style=\"text-align: right;\">\n",
       "      <th></th>\n",
       "      <th>GTEX_expression_mean_&amp;_stdev</th>\n",
       "      <th>GTEX_highly_correlated</th>\n",
       "      <th>highly_correlated_in_TCGA_normal</th>\n",
       "      <th>highly_corelated_in_TCGA_primtum</th>\n",
       "    </tr>\n",
       "  </thead>\n",
       "  <tbody>\n",
       "    <tr>\n",
       "      <th>ITGB6</th>\n",
       "      <td>7.55 + 8.15</td>\n",
       "      <td>422</td>\n",
       "      <td>306</td>\n",
       "      <td>256</td>\n",
       "    </tr>\n",
       "  </tbody>\n",
       "</table>"
      ],
      "text/plain": [
       "<IPython.core.display.HTML object>"
      ]
     },
     "metadata": {},
     "output_type": "display_data"
    },
    {
     "name": "stdout",
     "output_type": "stream",
     "text": [
      "for 1th dataset ENTER: gtex_all\n",
      "for 2th dataset ENTER: tcga_normal_all\n",
      "no overlap between datasets\n",
      "insert name for 1th datasetgtex_all\n",
      "insert name for 2th datasettcga_normal_all\n",
      "for 1th dataset ENTER: gtex_all\n",
      "for 2th dataset ENTER: tcga_primtum_all\n",
      "no overlap between datasets\n",
      "insert name for 1th datasetgtex_all\n",
      "insert name for 2th datasettcga_primtum_all\n"
     ]
    },
    {
     "data": {
      "text/html": [
       "<table border=\"1\" class=\"dataframe\">\n",
       "  <thead>\n",
       "    <tr style=\"text-align: right;\">\n",
       "      <th></th>\n",
       "      <th>GTEX_expression_mean_&amp;_stdev</th>\n",
       "      <th>GTEX_highly_correlated</th>\n",
       "      <th>highly_correlated_in_TCGA_normal</th>\n",
       "      <th>highly_corelated_in_TCGA_primtum</th>\n",
       "    </tr>\n",
       "  </thead>\n",
       "  <tbody>\n",
       "    <tr>\n",
       "      <th>ITGA10</th>\n",
       "      <td>10.80 + 9.75</td>\n",
       "      <td>0</td>\n",
       "      <td>23</td>\n",
       "      <td>0</td>\n",
       "    </tr>\n",
       "  </tbody>\n",
       "</table>"
      ],
      "text/plain": [
       "<IPython.core.display.HTML object>"
      ]
     },
     "metadata": {},
     "output_type": "display_data"
    },
    {
     "name": "stdout",
     "output_type": "stream",
     "text": [
      "for 1th dataset ENTER: gtex_all\n",
      "for 2th dataset ENTER: tcga_normal_all\n",
      "no overlap between datasets\n",
      "insert name for 1th datasetgtex_all\n",
      "insert name for 2th datasettcga_normal_all\n",
      "for 1th dataset ENTER: gtex_all\n",
      "for 2th dataset ENTER: tcga_primtum_all\n",
      "no overlap between datasets\n",
      "insert name for 1th datasetgtex_all\n",
      "insert name for 2th datasettcga_primtum_all\n"
     ]
    },
    {
     "data": {
      "text/html": [
       "<table border=\"1\" class=\"dataframe\">\n",
       "  <thead>\n",
       "    <tr style=\"text-align: right;\">\n",
       "      <th></th>\n",
       "      <th>GTEX_expression_mean_&amp;_stdev</th>\n",
       "      <th>GTEX_highly_correlated</th>\n",
       "      <th>highly_correlated_in_TCGA_normal</th>\n",
       "      <th>highly_corelated_in_TCGA_primtum</th>\n",
       "    </tr>\n",
       "  </thead>\n",
       "  <tbody>\n",
       "    <tr>\n",
       "      <th>ITGA6</th>\n",
       "      <td>43.58 + 23.71</td>\n",
       "      <td>155</td>\n",
       "      <td>439</td>\n",
       "      <td>43</td>\n",
       "    </tr>\n",
       "  </tbody>\n",
       "</table>"
      ],
      "text/plain": [
       "<IPython.core.display.HTML object>"
      ]
     },
     "metadata": {},
     "output_type": "display_data"
    },
    {
     "name": "stdout",
     "output_type": "stream",
     "text": [
      "for 1th dataset ENTER: gtex_all\n",
      "for 2th dataset ENTER: tcga_normal_all\n",
      "no overlap between datasets\n",
      "insert name for 1th datasetgtex_all\n",
      "insert name for 2th datasettcga_normal_all\n",
      "for 1th dataset ENTER: gtex_all\n",
      "for 2th dataset ENTER: tcga_primtum_all\n",
      "no overlap between datasets\n",
      "insert name for 1th datasetgtex_all\n",
      "insert name for 2th datasettcga_primtum_all\n"
     ]
    },
    {
     "data": {
      "text/html": [
       "<table border=\"1\" class=\"dataframe\">\n",
       "  <thead>\n",
       "    <tr style=\"text-align: right;\">\n",
       "      <th></th>\n",
       "      <th>GTEX_expression_mean_&amp;_stdev</th>\n",
       "      <th>GTEX_highly_correlated</th>\n",
       "      <th>highly_correlated_in_TCGA_normal</th>\n",
       "      <th>highly_corelated_in_TCGA_primtum</th>\n",
       "    </tr>\n",
       "  </thead>\n",
       "  <tbody>\n",
       "    <tr>\n",
       "      <th>ITGA4</th>\n",
       "      <td>1.91 + 1.48</td>\n",
       "      <td>281</td>\n",
       "      <td>1124</td>\n",
       "      <td>619</td>\n",
       "    </tr>\n",
       "  </tbody>\n",
       "</table>"
      ],
      "text/plain": [
       "<IPython.core.display.HTML object>"
      ]
     },
     "metadata": {},
     "output_type": "display_data"
    },
    {
     "name": "stdout",
     "output_type": "stream",
     "text": [
      "for 1th dataset ENTER: gtex_all\n",
      "for 2th dataset ENTER: tcga_normal_all\n",
      "no overlap between datasets\n",
      "insert name for 1th datasetgtex_all\n",
      "insert name for 2th datasettcga_normal_all\n",
      "for 1th dataset ENTER: gtex_all\n",
      "for 2th dataset ENTER: tcga_primtum_all\n",
      "no overlap between datasets\n",
      "insert name for 1th datasetgtex_all\n",
      "insert name for 2th datasettcga_primtum_all\n"
     ]
    },
    {
     "data": {
      "text/html": [
       "<table border=\"1\" class=\"dataframe\">\n",
       "  <thead>\n",
       "    <tr style=\"text-align: right;\">\n",
       "      <th></th>\n",
       "      <th>GTEX_expression_mean_&amp;_stdev</th>\n",
       "      <th>GTEX_highly_correlated</th>\n",
       "      <th>highly_correlated_in_TCGA_normal</th>\n",
       "      <th>highly_corelated_in_TCGA_primtum</th>\n",
       "    </tr>\n",
       "  </thead>\n",
       "  <tbody>\n",
       "    <tr>\n",
       "      <th>ITGAV</th>\n",
       "      <td>29.20 + 13.94</td>\n",
       "      <td>1525</td>\n",
       "      <td>706</td>\n",
       "      <td>232</td>\n",
       "    </tr>\n",
       "  </tbody>\n",
       "</table>"
      ],
      "text/plain": [
       "<IPython.core.display.HTML object>"
      ]
     },
     "metadata": {},
     "output_type": "display_data"
    },
    {
     "name": "stdout",
     "output_type": "stream",
     "text": [
      "for 1th dataset ENTER: gtex_all\n",
      "for 2th dataset ENTER: tcga_normal_all\n",
      "no overlap between datasets\n",
      "insert name for 1th datasetgtex_all\n",
      "insert name for 2th datasettcga_normal_all\n",
      "for 1th dataset ENTER: gtex_all\n",
      "for 2th dataset ENTER: tcga_primtum_all\n",
      "no overlap between datasets\n",
      "insert name for 1th datasetgtex_all\n",
      "insert name for 2th datasettcga_primtum_all\n"
     ]
    },
    {
     "data": {
      "text/html": [
       "<table border=\"1\" class=\"dataframe\">\n",
       "  <thead>\n",
       "    <tr style=\"text-align: right;\">\n",
       "      <th></th>\n",
       "      <th>GTEX_expression_mean_&amp;_stdev</th>\n",
       "      <th>GTEX_highly_correlated</th>\n",
       "      <th>highly_correlated_in_TCGA_normal</th>\n",
       "      <th>highly_corelated_in_TCGA_primtum</th>\n",
       "    </tr>\n",
       "  </thead>\n",
       "  <tbody>\n",
       "    <tr>\n",
       "      <th>ITGA9</th>\n",
       "      <td>13.83 + 9.43</td>\n",
       "      <td>906</td>\n",
       "      <td>1337</td>\n",
       "      <td>879</td>\n",
       "    </tr>\n",
       "  </tbody>\n",
       "</table>"
      ],
      "text/plain": [
       "<IPython.core.display.HTML object>"
      ]
     },
     "metadata": {},
     "output_type": "display_data"
    },
    {
     "name": "stdout",
     "output_type": "stream",
     "text": [
      "for 1th dataset ENTER: gtex_all\n",
      "for 2th dataset ENTER: tcga_normal_all\n",
      "no overlap between datasets\n",
      "insert name for 1th datasetgtex_all\n",
      "insert name for 2th datasettcga_normal_all\n",
      "for 1th dataset ENTER: gtex_all\n",
      "for 2th dataset ENTER: tcga_primtum_all\n",
      "no overlap between datasets\n",
      "insert name for 1th datasetgtex_all\n",
      "insert name for 2th datasettcga_primtum_all\n"
     ]
    },
    {
     "data": {
      "text/html": [
       "<table border=\"1\" class=\"dataframe\">\n",
       "  <thead>\n",
       "    <tr style=\"text-align: right;\">\n",
       "      <th></th>\n",
       "      <th>GTEX_expression_mean_&amp;_stdev</th>\n",
       "      <th>GTEX_highly_correlated</th>\n",
       "      <th>highly_correlated_in_TCGA_normal</th>\n",
       "      <th>highly_corelated_in_TCGA_primtum</th>\n",
       "    </tr>\n",
       "  </thead>\n",
       "  <tbody>\n",
       "    <tr>\n",
       "      <th>ITGB5</th>\n",
       "      <td>67.05 + 18.24</td>\n",
       "      <td>8</td>\n",
       "      <td>161</td>\n",
       "      <td>0</td>\n",
       "    </tr>\n",
       "  </tbody>\n",
       "</table>"
      ],
      "text/plain": [
       "<IPython.core.display.HTML object>"
      ]
     },
     "metadata": {},
     "output_type": "display_data"
    },
    {
     "name": "stdout",
     "output_type": "stream",
     "text": [
      "for 1th dataset ENTER: gtex_all\n",
      "for 2th dataset ENTER: tcga_normal_all\n",
      "no overlap between datasets\n",
      "insert name for 1th datasetgtex_all\n",
      "insert name for 2th datasettcga_normal_all\n",
      "for 1th dataset ENTER: gtex_all\n",
      "for 2th dataset ENTER: tcga_primtum_all\n",
      "no overlap between datasets\n",
      "insert name for 1th datasetgtex_all\n",
      "insert name for 2th datasettcga_primtum_all\n"
     ]
    },
    {
     "data": {
      "text/html": [
       "<table border=\"1\" class=\"dataframe\">\n",
       "  <thead>\n",
       "    <tr style=\"text-align: right;\">\n",
       "      <th></th>\n",
       "      <th>GTEX_expression_mean_&amp;_stdev</th>\n",
       "      <th>GTEX_highly_correlated</th>\n",
       "      <th>highly_correlated_in_TCGA_normal</th>\n",
       "      <th>highly_corelated_in_TCGA_primtum</th>\n",
       "    </tr>\n",
       "  </thead>\n",
       "  <tbody>\n",
       "    <tr>\n",
       "      <th>ITGA1</th>\n",
       "      <td>39.66 + 27.60</td>\n",
       "      <td>1263</td>\n",
       "      <td>1126</td>\n",
       "      <td>651</td>\n",
       "    </tr>\n",
       "  </tbody>\n",
       "</table>"
      ],
      "text/plain": [
       "<IPython.core.display.HTML object>"
      ]
     },
     "metadata": {},
     "output_type": "display_data"
    },
    {
     "name": "stdout",
     "output_type": "stream",
     "text": [
      "for 1th dataset ENTER: gtex_all\n",
      "for 2th dataset ENTER: tcga_normal_all\n",
      "no overlap between datasets\n",
      "insert name for 1th datasetgtex_all\n",
      "insert name for 2th datasettcga_normal_all\n",
      "for 1th dataset ENTER: gtex_all\n",
      "for 2th dataset ENTER: tcga_primtum_all\n",
      "no overlap between datasets\n",
      "insert name for 1th datasetgtex_all\n",
      "insert name for 2th datasettcga_primtum_all\n"
     ]
    },
    {
     "data": {
      "text/html": [
       "<table border=\"1\" class=\"dataframe\">\n",
       "  <thead>\n",
       "    <tr style=\"text-align: right;\">\n",
       "      <th></th>\n",
       "      <th>GTEX_expression_mean_&amp;_stdev</th>\n",
       "      <th>GTEX_highly_correlated</th>\n",
       "      <th>highly_correlated_in_TCGA_normal</th>\n",
       "      <th>highly_corelated_in_TCGA_primtum</th>\n",
       "    </tr>\n",
       "  </thead>\n",
       "  <tbody>\n",
       "    <tr>\n",
       "      <th>ITGA2</th>\n",
       "      <td>11.02 + 9.56</td>\n",
       "      <td>173</td>\n",
       "      <td>381</td>\n",
       "      <td>277</td>\n",
       "    </tr>\n",
       "  </tbody>\n",
       "</table>"
      ],
      "text/plain": [
       "<IPython.core.display.HTML object>"
      ]
     },
     "metadata": {},
     "output_type": "display_data"
    },
    {
     "name": "stdout",
     "output_type": "stream",
     "text": [
      "for 1th dataset ENTER: gtex_all\n",
      "for 2th dataset ENTER: tcga_normal_all\n",
      "no overlap between datasets\n",
      "insert name for 1th datasetgtex_all\n",
      "insert name for 2th datasettcga_normal_all\n",
      "for 1th dataset ENTER: gtex_all\n",
      "for 2th dataset ENTER: tcga_primtum_all\n",
      "no overlap between datasets\n",
      "insert name for 1th datasetgtex_all\n",
      "insert name for 2th datasettcga_primtum_all\n"
     ]
    },
    {
     "data": {
      "text/html": [
       "<table border=\"1\" class=\"dataframe\">\n",
       "  <thead>\n",
       "    <tr style=\"text-align: right;\">\n",
       "      <th></th>\n",
       "      <th>GTEX_expression_mean_&amp;_stdev</th>\n",
       "      <th>GTEX_highly_correlated</th>\n",
       "      <th>highly_correlated_in_TCGA_normal</th>\n",
       "      <th>highly_corelated_in_TCGA_primtum</th>\n",
       "    </tr>\n",
       "  </thead>\n",
       "  <tbody>\n",
       "    <tr>\n",
       "      <th>ITGA8</th>\n",
       "      <td>39.13 + 63.02</td>\n",
       "      <td>184</td>\n",
       "      <td>722</td>\n",
       "      <td>596</td>\n",
       "    </tr>\n",
       "  </tbody>\n",
       "</table>"
      ],
      "text/plain": [
       "<IPython.core.display.HTML object>"
      ]
     },
     "metadata": {},
     "output_type": "display_data"
    },
    {
     "name": "stdout",
     "output_type": "stream",
     "text": [
      "for 1th dataset ENTER: gtex_all\n",
      "for 2th dataset ENTER: tcga_normal_all\n",
      "no overlap between datasets\n",
      "insert name for 1th datasetgtex_all\n",
      "insert name for 2th datasettcga_normal_all\n",
      "for 1th dataset ENTER: gtex_all\n",
      "for 2th dataset ENTER: tcga_primtum_all\n",
      "no overlap between datasets\n",
      "insert name for 1th datasetgtex_all\n",
      "insert name for 2th datasettcga_primtum_all\n"
     ]
    },
    {
     "data": {
      "text/html": [
       "<table border=\"1\" class=\"dataframe\">\n",
       "  <thead>\n",
       "    <tr style=\"text-align: right;\">\n",
       "      <th></th>\n",
       "      <th>GTEX_expression_mean_&amp;_stdev</th>\n",
       "      <th>GTEX_highly_correlated</th>\n",
       "      <th>highly_correlated_in_TCGA_normal</th>\n",
       "      <th>highly_corelated_in_TCGA_primtum</th>\n",
       "    </tr>\n",
       "  </thead>\n",
       "  <tbody>\n",
       "    <tr>\n",
       "      <th>ITGB1</th>\n",
       "      <td>99.20 + 86.15</td>\n",
       "      <td>1027</td>\n",
       "      <td>831</td>\n",
       "      <td>254</td>\n",
       "    </tr>\n",
       "  </tbody>\n",
       "</table>"
      ],
      "text/plain": [
       "<IPython.core.display.HTML object>"
      ]
     },
     "metadata": {},
     "output_type": "display_data"
    },
    {
     "name": "stdout",
     "output_type": "stream",
     "text": [
      "for 1th dataset ENTER: gtex_all\n",
      "for 2th dataset ENTER: tcga_normal_all\n",
      "no overlap between datasets\n",
      "insert name for 1th datasetgtex_all\n",
      "insert name for 2th datasettcga_normal_all\n",
      "for 1th dataset ENTER: gtex_all\n",
      "for 2th dataset ENTER: tcga_primtum_all\n",
      "no overlap between datasets\n",
      "insert name for 1th datasetgtex_all\n",
      "insert name for 2th datasettcga_primtum_all\n"
     ]
    },
    {
     "data": {
      "text/html": [
       "<table border=\"1\" class=\"dataframe\">\n",
       "  <thead>\n",
       "    <tr style=\"text-align: right;\">\n",
       "      <th></th>\n",
       "      <th>GTEX_expression_mean_&amp;_stdev</th>\n",
       "      <th>GTEX_highly_correlated</th>\n",
       "      <th>highly_correlated_in_TCGA_normal</th>\n",
       "      <th>highly_corelated_in_TCGA_primtum</th>\n",
       "    </tr>\n",
       "  </thead>\n",
       "  <tbody>\n",
       "    <tr>\n",
       "      <th>ITGB7</th>\n",
       "      <td>2.37 + 2.28</td>\n",
       "      <td>310</td>\n",
       "      <td>165</td>\n",
       "      <td>436</td>\n",
       "    </tr>\n",
       "  </tbody>\n",
       "</table>"
      ],
      "text/plain": [
       "<IPython.core.display.HTML object>"
      ]
     },
     "metadata": {},
     "output_type": "display_data"
    },
    {
     "name": "stdout",
     "output_type": "stream",
     "text": [
      "for 1th dataset ENTER: gtex_all\n",
      "for 2th dataset ENTER: tcga_normal_all\n",
      "no overlap between datasets\n",
      "insert name for 1th datasetgtex_all\n",
      "insert name for 2th datasettcga_normal_all\n",
      "for 1th dataset ENTER: gtex_all\n",
      "for 2th dataset ENTER: tcga_primtum_all\n",
      "no overlap between datasets\n",
      "insert name for 1th datasetgtex_all\n",
      "insert name for 2th datasettcga_primtum_all\n"
     ]
    },
    {
     "data": {
      "text/html": [
       "<table border=\"1\" class=\"dataframe\">\n",
       "  <thead>\n",
       "    <tr style=\"text-align: right;\">\n",
       "      <th></th>\n",
       "      <th>GTEX_expression_mean_&amp;_stdev</th>\n",
       "      <th>GTEX_highly_correlated</th>\n",
       "      <th>highly_correlated_in_TCGA_normal</th>\n",
       "      <th>highly_corelated_in_TCGA_primtum</th>\n",
       "    </tr>\n",
       "  </thead>\n",
       "  <tbody>\n",
       "    <tr>\n",
       "      <th>ITGA5</th>\n",
       "      <td>233.37 + 247.60</td>\n",
       "      <td>400</td>\n",
       "      <td>501</td>\n",
       "      <td>380</td>\n",
       "    </tr>\n",
       "  </tbody>\n",
       "</table>"
      ],
      "text/plain": [
       "<IPython.core.display.HTML object>"
      ]
     },
     "metadata": {},
     "output_type": "display_data"
    },
    {
     "name": "stdout",
     "output_type": "stream",
     "text": [
      "for 1th dataset ENTER: gtex_all\n",
      "for 2th dataset ENTER: tcga_normal_all\n",
      "no overlap between datasets\n",
      "insert name for 1th datasetgtex_all\n",
      "insert name for 2th datasettcga_normal_all\n",
      "for 1th dataset ENTER: gtex_all\n",
      "for 2th dataset ENTER: tcga_primtum_all\n",
      "no overlap between datasets\n",
      "insert name for 1th datasetgtex_all\n",
      "insert name for 2th datasettcga_primtum_all\n"
     ]
    },
    {
     "data": {
      "text/html": [
       "<table border=\"1\" class=\"dataframe\">\n",
       "  <thead>\n",
       "    <tr style=\"text-align: right;\">\n",
       "      <th></th>\n",
       "      <th>GTEX_expression_mean_&amp;_stdev</th>\n",
       "      <th>GTEX_highly_correlated</th>\n",
       "      <th>highly_correlated_in_TCGA_normal</th>\n",
       "      <th>highly_corelated_in_TCGA_primtum</th>\n",
       "    </tr>\n",
       "  </thead>\n",
       "  <tbody>\n",
       "    <tr>\n",
       "      <th>ITGBL1</th>\n",
       "      <td>4.55 + 6.56</td>\n",
       "      <td>30</td>\n",
       "      <td>79</td>\n",
       "      <td>43</td>\n",
       "    </tr>\n",
       "  </tbody>\n",
       "</table>"
      ],
      "text/plain": [
       "<IPython.core.display.HTML object>"
      ]
     },
     "metadata": {},
     "output_type": "display_data"
    },
    {
     "name": "stdout",
     "output_type": "stream",
     "text": [
      "for 1th dataset ENTER: gtex_all\n",
      "for 2th dataset ENTER: tcga_normal_all\n",
      "no overlap between datasets\n",
      "insert name for 1th datasetgtex_all\n",
      "insert name for 2th datasettcga_normal_all\n",
      "for 1th dataset ENTER: gtex_all\n",
      "for 2th dataset ENTER: tcga_primtum_all\n",
      "no overlap between datasets\n",
      "insert name for 1th datasetgtex_all\n",
      "insert name for 2th datasettcga_primtum_all\n"
     ]
    },
    {
     "data": {
      "text/html": [
       "<table border=\"1\" class=\"dataframe\">\n",
       "  <thead>\n",
       "    <tr style=\"text-align: right;\">\n",
       "      <th></th>\n",
       "      <th>GTEX_expression_mean_&amp;_stdev</th>\n",
       "      <th>GTEX_highly_correlated</th>\n",
       "      <th>highly_correlated_in_TCGA_normal</th>\n",
       "      <th>highly_corelated_in_TCGA_primtum</th>\n",
       "    </tr>\n",
       "  </thead>\n",
       "  <tbody>\n",
       "    <tr>\n",
       "      <th>ITGA11</th>\n",
       "      <td>8.29 + 6.30</td>\n",
       "      <td>13</td>\n",
       "      <td>136</td>\n",
       "      <td>166</td>\n",
       "    </tr>\n",
       "  </tbody>\n",
       "</table>"
      ],
      "text/plain": [
       "<IPython.core.display.HTML object>"
      ]
     },
     "metadata": {},
     "output_type": "display_data"
    },
    {
     "name": "stdout",
     "output_type": "stream",
     "text": [
      "for 1th dataset ENTER: gtex_all\n",
      "for 2th dataset ENTER: tcga_normal_all\n",
      "no overlap between datasets\n",
      "insert name for 1th datasetgtex_all\n",
      "insert name for 2th datasettcga_normal_all\n",
      "for 1th dataset ENTER: gtex_all\n",
      "for 2th dataset ENTER: tcga_primtum_all\n",
      "no overlap between datasets\n",
      "insert name for 1th datasetgtex_all\n",
      "insert name for 2th datasettcga_primtum_all\n"
     ]
    },
    {
     "data": {
      "text/html": [
       "<table border=\"1\" class=\"dataframe\">\n",
       "  <thead>\n",
       "    <tr style=\"text-align: right;\">\n",
       "      <th></th>\n",
       "      <th>GTEX_expression_mean_&amp;_stdev</th>\n",
       "      <th>GTEX_highly_correlated</th>\n",
       "      <th>highly_correlated_in_TCGA_normal</th>\n",
       "      <th>highly_corelated_in_TCGA_primtum</th>\n",
       "    </tr>\n",
       "  </thead>\n",
       "  <tbody>\n",
       "    <tr>\n",
       "      <th>ITGAL</th>\n",
       "      <td>5.63 + 5.45</td>\n",
       "      <td>347</td>\n",
       "      <td>800</td>\n",
       "      <td>589</td>\n",
       "    </tr>\n",
       "  </tbody>\n",
       "</table>"
      ],
      "text/plain": [
       "<IPython.core.display.HTML object>"
      ]
     },
     "metadata": {},
     "output_type": "display_data"
    },
    {
     "name": "stdout",
     "output_type": "stream",
     "text": [
      "for 1th dataset ENTER: gtex_all\n",
      "for 2th dataset ENTER: tcga_normal_all\n",
      "no overlap between datasets\n",
      "insert name for 1th datasetgtex_all\n",
      "insert name for 2th datasettcga_normal_all\n",
      "for 1th dataset ENTER: gtex_all\n",
      "for 2th dataset ENTER: tcga_primtum_all\n",
      "no overlap between datasets\n",
      "insert name for 1th datasetgtex_all\n",
      "insert name for 2th datasettcga_primtum_all\n"
     ]
    },
    {
     "data": {
      "text/html": [
       "<table border=\"1\" class=\"dataframe\">\n",
       "  <thead>\n",
       "    <tr style=\"text-align: right;\">\n",
       "      <th></th>\n",
       "      <th>GTEX_expression_mean_&amp;_stdev</th>\n",
       "      <th>GTEX_highly_correlated</th>\n",
       "      <th>highly_correlated_in_TCGA_normal</th>\n",
       "      <th>highly_corelated_in_TCGA_primtum</th>\n",
       "    </tr>\n",
       "  </thead>\n",
       "  <tbody>\n",
       "    <tr>\n",
       "      <th>ITGAM</th>\n",
       "      <td>4.23 + 3.18</td>\n",
       "      <td>260</td>\n",
       "      <td>856</td>\n",
       "      <td>637</td>\n",
       "    </tr>\n",
       "  </tbody>\n",
       "</table>"
      ],
      "text/plain": [
       "<IPython.core.display.HTML object>"
      ]
     },
     "metadata": {},
     "output_type": "display_data"
    },
    {
     "name": "stdout",
     "output_type": "stream",
     "text": [
      "for 1th dataset ENTER: gtex_all\n",
      "for 2th dataset ENTER: tcga_normal_all\n",
      "no overlap between datasets\n",
      "insert name for 1th datasetgtex_all\n",
      "insert name for 2th datasettcga_normal_all\n",
      "for 1th dataset ENTER: gtex_all\n",
      "for 2th dataset ENTER: tcga_primtum_all\n",
      "no overlap between datasets\n",
      "insert name for 1th datasetgtex_all\n",
      "insert name for 2th datasettcga_primtum_all\n"
     ]
    },
    {
     "data": {
      "text/html": [
       "<table border=\"1\" class=\"dataframe\">\n",
       "  <thead>\n",
       "    <tr style=\"text-align: right;\">\n",
       "      <th></th>\n",
       "      <th>GTEX_expression_mean_&amp;_stdev</th>\n",
       "      <th>GTEX_highly_correlated</th>\n",
       "      <th>highly_correlated_in_TCGA_normal</th>\n",
       "      <th>highly_corelated_in_TCGA_primtum</th>\n",
       "    </tr>\n",
       "  </thead>\n",
       "  <tbody>\n",
       "    <tr>\n",
       "      <th>ITGAX</th>\n",
       "      <td>8.71 + 9.29</td>\n",
       "      <td>107</td>\n",
       "      <td>719</td>\n",
       "      <td>421</td>\n",
       "    </tr>\n",
       "  </tbody>\n",
       "</table>"
      ],
      "text/plain": [
       "<IPython.core.display.HTML object>"
      ]
     },
     "metadata": {},
     "output_type": "display_data"
    },
    {
     "name": "stdout",
     "output_type": "stream",
     "text": [
      "for 1th dataset ENTER: gtex_all\n",
      "for 2th dataset ENTER: tcga_normal_all\n",
      "no overlap between datasets\n",
      "insert name for 1th datasetgtex_all\n",
      "insert name for 2th datasettcga_normal_all\n",
      "for 1th dataset ENTER: gtex_all\n",
      "for 2th dataset ENTER: tcga_primtum_all\n",
      "no overlap between datasets\n",
      "insert name for 1th datasetgtex_all\n",
      "insert name for 2th datasettcga_primtum_all\n"
     ]
    },
    {
     "data": {
      "text/html": [
       "<table border=\"1\" class=\"dataframe\">\n",
       "  <thead>\n",
       "    <tr style=\"text-align: right;\">\n",
       "      <th></th>\n",
       "      <th>GTEX_expression_mean_&amp;_stdev</th>\n",
       "      <th>GTEX_highly_correlated</th>\n",
       "      <th>highly_correlated_in_TCGA_normal</th>\n",
       "      <th>highly_corelated_in_TCGA_primtum</th>\n",
       "    </tr>\n",
       "  </thead>\n",
       "  <tbody>\n",
       "    <tr>\n",
       "      <th>ITGAD</th>\n",
       "      <td>0.14 + 0.14</td>\n",
       "      <td>0</td>\n",
       "      <td>0</td>\n",
       "      <td>2</td>\n",
       "    </tr>\n",
       "  </tbody>\n",
       "</table>"
      ],
      "text/plain": [
       "<IPython.core.display.HTML object>"
      ]
     },
     "metadata": {},
     "output_type": "display_data"
    },
    {
     "name": "stdout",
     "output_type": "stream",
     "text": [
      "for 1th dataset ENTER: gtex_all\n",
      "for 2th dataset ENTER: tcga_normal_all\n",
      "no overlap between datasets\n",
      "insert name for 1th datasetgtex_all\n",
      "insert name for 2th datasettcga_normal_all\n",
      "for 1th dataset ENTER: gtex_all\n",
      "for 2th dataset ENTER: tcga_primtum_all\n",
      "no overlap between datasets\n",
      "insert name for 1th datasetgtex_all\n",
      "insert name for 2th datasettcga_primtum_all\n"
     ]
    },
    {
     "data": {
      "text/html": [
       "<table border=\"1\" class=\"dataframe\">\n",
       "  <thead>\n",
       "    <tr style=\"text-align: right;\">\n",
       "      <th></th>\n",
       "      <th>GTEX_expression_mean_&amp;_stdev</th>\n",
       "      <th>GTEX_highly_correlated</th>\n",
       "      <th>highly_correlated_in_TCGA_normal</th>\n",
       "      <th>highly_corelated_in_TCGA_primtum</th>\n",
       "    </tr>\n",
       "  </thead>\n",
       "  <tbody>\n",
       "    <tr>\n",
       "      <th>ITGAE</th>\n",
       "      <td>9.27 + 2.47</td>\n",
       "      <td>292</td>\n",
       "      <td>253</td>\n",
       "      <td>92</td>\n",
       "    </tr>\n",
       "  </tbody>\n",
       "</table>"
      ],
      "text/plain": [
       "<IPython.core.display.HTML object>"
      ]
     },
     "metadata": {},
     "output_type": "display_data"
    },
    {
     "name": "stdout",
     "output_type": "stream",
     "text": [
      "for 1th dataset ENTER: gtex_all\n",
      "for 2th dataset ENTER: tcga_normal_all\n",
      "no overlap between datasets\n",
      "insert name for 1th datasetgtex_all\n",
      "insert name for 2th datasettcga_normal_all\n",
      "for 1th dataset ENTER: gtex_all\n",
      "for 2th dataset ENTER: tcga_primtum_all\n",
      "no overlap between datasets\n",
      "insert name for 1th datasetgtex_all\n",
      "insert name for 2th datasettcga_primtum_all\n"
     ]
    },
    {
     "data": {
      "text/html": [
       "<table border=\"1\" class=\"dataframe\">\n",
       "  <thead>\n",
       "    <tr style=\"text-align: right;\">\n",
       "      <th></th>\n",
       "      <th>GTEX_expression_mean_&amp;_stdev</th>\n",
       "      <th>GTEX_highly_correlated</th>\n",
       "      <th>highly_correlated_in_TCGA_normal</th>\n",
       "      <th>highly_corelated_in_TCGA_primtum</th>\n",
       "    </tr>\n",
       "  </thead>\n",
       "  <tbody>\n",
       "    <tr>\n",
       "      <th>ITGA2B</th>\n",
       "      <td>2.11 + 1.52</td>\n",
       "      <td>349</td>\n",
       "      <td>605</td>\n",
       "      <td>14</td>\n",
       "    </tr>\n",
       "  </tbody>\n",
       "</table>"
      ],
      "text/plain": [
       "<IPython.core.display.HTML object>"
      ]
     },
     "metadata": {},
     "output_type": "display_data"
    },
    {
     "name": "stdout",
     "output_type": "stream",
     "text": [
      "for 1th dataset ENTER: gtex_all\n",
      "for 2th dataset ENTER: tcga_normal_all\n",
      "no overlap between datasets\n",
      "insert name for 1th datasetgtex_all\n",
      "insert name for 2th datasettcga_normal_all\n",
      "for 1th dataset ENTER: gtex_all\n",
      "for 2th dataset ENTER: tcga_primtum_all\n",
      "no overlap between datasets\n",
      "insert name for 1th datasetgtex_all\n",
      "insert name for 2th datasettcga_primtum_all\n"
     ]
    },
    {
     "data": {
      "text/html": [
       "<table border=\"1\" class=\"dataframe\">\n",
       "  <thead>\n",
       "    <tr style=\"text-align: right;\">\n",
       "      <th></th>\n",
       "      <th>GTEX_expression_mean_&amp;_stdev</th>\n",
       "      <th>GTEX_highly_correlated</th>\n",
       "      <th>highly_correlated_in_TCGA_normal</th>\n",
       "      <th>highly_corelated_in_TCGA_primtum</th>\n",
       "    </tr>\n",
       "  </thead>\n",
       "  <tbody>\n",
       "    <tr>\n",
       "      <th>ITGB3</th>\n",
       "      <td>8.12 + 10.05</td>\n",
       "      <td>330</td>\n",
       "      <td>737</td>\n",
       "      <td>758</td>\n",
       "    </tr>\n",
       "  </tbody>\n",
       "</table>"
      ],
      "text/plain": [
       "<IPython.core.display.HTML object>"
      ]
     },
     "metadata": {},
     "output_type": "display_data"
    },
    {
     "name": "stdout",
     "output_type": "stream",
     "text": [
      "for 1th dataset ENTER: gtex_all\n",
      "for 2th dataset ENTER: tcga_normal_all\n",
      "no overlap between datasets\n",
      "insert name for 1th datasetgtex_all\n",
      "insert name for 2th datasettcga_normal_all\n",
      "for 1th dataset ENTER: gtex_all\n",
      "for 2th dataset ENTER: tcga_primtum_all\n",
      "no overlap between datasets\n",
      "insert name for 1th datasetgtex_all\n",
      "insert name for 2th datasettcga_primtum_all\n"
     ]
    },
    {
     "data": {
      "text/html": [
       "<table border=\"1\" class=\"dataframe\">\n",
       "  <thead>\n",
       "    <tr style=\"text-align: right;\">\n",
       "      <th></th>\n",
       "      <th>GTEX_expression_mean_&amp;_stdev</th>\n",
       "      <th>GTEX_highly_correlated</th>\n",
       "      <th>highly_correlated_in_TCGA_normal</th>\n",
       "      <th>highly_corelated_in_TCGA_primtum</th>\n",
       "    </tr>\n",
       "  </thead>\n",
       "  <tbody>\n",
       "    <tr>\n",
       "      <th>ITGA3</th>\n",
       "      <td>66.15 + 37.70</td>\n",
       "      <td>217</td>\n",
       "      <td>74</td>\n",
       "      <td>297</td>\n",
       "    </tr>\n",
       "  </tbody>\n",
       "</table>"
      ],
      "text/plain": [
       "<IPython.core.display.HTML object>"
      ]
     },
     "metadata": {},
     "output_type": "display_data"
    },
    {
     "name": "stdout",
     "output_type": "stream",
     "text": [
      "for 1th dataset ENTER: gtex_all\n",
      "for 2th dataset ENTER: tcga_normal_all\n",
      "no overlap between datasets\n",
      "insert name for 1th datasetgtex_all\n",
      "insert name for 2th datasettcga_normal_all\n",
      "for 1th dataset ENTER: gtex_all\n",
      "for 2th dataset ENTER: tcga_primtum_all\n",
      "no overlap between datasets\n",
      "insert name for 1th datasetgtex_all\n",
      "insert name for 2th datasettcga_primtum_all\n"
     ]
    },
    {
     "data": {
      "text/html": [
       "<table border=\"1\" class=\"dataframe\">\n",
       "  <thead>\n",
       "    <tr style=\"text-align: right;\">\n",
       "      <th></th>\n",
       "      <th>GTEX_expression_mean_&amp;_stdev</th>\n",
       "      <th>GTEX_highly_correlated</th>\n",
       "      <th>highly_correlated_in_TCGA_normal</th>\n",
       "      <th>highly_corelated_in_TCGA_primtum</th>\n",
       "    </tr>\n",
       "  </thead>\n",
       "  <tbody>\n",
       "    <tr>\n",
       "      <th>ITGB4</th>\n",
       "      <td>87.85 + 49.62</td>\n",
       "      <td>259</td>\n",
       "      <td>298</td>\n",
       "      <td>529</td>\n",
       "    </tr>\n",
       "  </tbody>\n",
       "</table>"
      ],
      "text/plain": [
       "<IPython.core.display.HTML object>"
      ]
     },
     "metadata": {},
     "output_type": "display_data"
    },
    {
     "name": "stdout",
     "output_type": "stream",
     "text": [
      "for 1th dataset ENTER: gtex_all\n",
      "for 2th dataset ENTER: tcga_normal_all\n",
      "no overlap between datasets\n",
      "insert name for 1th datasetgtex_all\n",
      "insert name for 2th datasettcga_normal_all\n",
      "for 1th dataset ENTER: gtex_all\n",
      "for 2th dataset ENTER: tcga_primtum_all\n",
      "no overlap between datasets\n",
      "insert name for 1th datasetgtex_all\n",
      "insert name for 2th datasettcga_primtum_all\n"
     ]
    },
    {
     "data": {
      "text/html": [
       "<table border=\"1\" class=\"dataframe\">\n",
       "  <thead>\n",
       "    <tr style=\"text-align: right;\">\n",
       "      <th></th>\n",
       "      <th>GTEX_expression_mean_&amp;_stdev</th>\n",
       "      <th>GTEX_highly_correlated</th>\n",
       "      <th>highly_correlated_in_TCGA_normal</th>\n",
       "      <th>highly_corelated_in_TCGA_primtum</th>\n",
       "    </tr>\n",
       "  </thead>\n",
       "  <tbody>\n",
       "    <tr>\n",
       "      <th>ITGB2</th>\n",
       "      <td>12.48 + 10.89</td>\n",
       "      <td>274</td>\n",
       "      <td>1003</td>\n",
       "      <td>595</td>\n",
       "    </tr>\n",
       "  </tbody>\n",
       "</table>"
      ],
      "text/plain": [
       "<IPython.core.display.HTML object>"
      ]
     },
     "metadata": {},
     "output_type": "display_data"
    }
   ],
   "source": [
    "#table 3\n",
    "integrins_list=['ITGA7','ITGB8','ITGB6','ITGA10','ITGA6','ITGA4','ITGAV','ITGA9','ITGB5','ITGA1','ITGA2','ITGA8',\n",
    "'ITGB1','ITGB7','ITGA5','ITGBL1','ITGA11','ITGAL','ITGAM','ITGAX','ITGAD','ITGAE','ITGA2B','ITGB3','ITGA3',\n",
    "                'ITGB4','ITGB2']\n",
    "\n",
    "correlation_method ='pearson'\n",
    "gtex_gct_dataset = './gene_tpm_2017-06-05_v8_prostate.gct'\n",
    "correlation_cutoff = 0.6\n",
    "tcga_hiseq_dataset = 'TCGA.PRAD.sampleMap_HiSeqV2' \n",
    "tcga_hiseq_corresponding_sample_info = '/home/hshadman/integrins_expression/saghar_TCGA_Breast/TCGAXena/TCGA.PRAD.sampleMap/PRAD_clinicalMatrix'\n",
    "opposing_corr_cutoff = 0.1\n",
    "\n",
    "# make_data_presentable(interest_gene,correlation_method, correlation_cutoff,opposing_corr_cutoff,gtex_gct_dataset,\n",
    "#                          tcga_hiseq_dataset,tcga_hiseq_corresponding_sample_info)\n",
    "\n",
    "for interest_gene in integrins_list:\n",
    "    organize_no_overlap_table3(interest_gene,correlation_method, correlation_cutoff,opposing_corr_cutoff,gtex_gct_dataset,\n",
    "                         tcga_hiseq_dataset,tcga_hiseq_corresponding_sample_info)\n",
    "\n"
   ]
  },
  {
   "cell_type": "code",
   "execution_count": 20,
   "metadata": {
    "scrolled": false
   },
   "outputs": [
    {
     "name": "stdout",
     "output_type": "stream",
     "text": [
      "its TCGA_primtum_all\n",
      "no overlap between datasets\n",
      "common gene list applied to all\n",
      "high tcga_primtum and low tcga normal\n",
      "1st: high cutoff applied to tcga dataset\n",
      "2nd: common genes identified with gtex dataset\n",
      "3rd: both datasets combined\n",
      "4th: low cutoff applied to gtex dataset\n",
      "high tcga_primtum and low gtex\n",
      "1st: high cutoff applied to tcga dataset\n",
      "2nd: common genes identified with gtex dataset\n",
      "3rd: both datasets combined\n",
      "4th: low cutoff applied to gtex dataset\n",
      "high tcga primtum, high gtex\n",
      "1st: high cutoff applied to tcga dataset\n",
      "2nd: common genes identified with gtex dataset\n",
      "3rd: both datasets combined\n",
      "4th: High cutoff applied to gtex dataset\n"
     ]
    },
    {
     "data": {
      "text/html": [
       "<table border=\"1\" class=\"dataframe\">\n",
       "  <thead>\n",
       "    <tr style=\"text-align: right;\">\n",
       "      <th></th>\n",
       "      <th>TCGA_tumor_highly_correlated</th>\n",
       "      <th>%lowly_correlated_in_TCGA_normal</th>\n",
       "      <th>%lowly_correlated_in_gtex</th>\n",
       "      <th>%highly_corelated_in_gtex</th>\n",
       "    </tr>\n",
       "  </thead>\n",
       "  <tbody>\n",
       "    <tr>\n",
       "      <th>ITGA7</th>\n",
       "      <td>812</td>\n",
       "      <td>2.709360(22)</td>\n",
       "      <td>6.773399(55)</td>\n",
       "      <td>27.709360(225)</td>\n",
       "    </tr>\n",
       "  </tbody>\n",
       "</table>"
      ],
      "text/plain": [
       "<IPython.core.display.HTML object>"
      ]
     },
     "metadata": {},
     "output_type": "display_data"
    },
    {
     "name": "stdout",
     "output_type": "stream",
     "text": [
      "its TCGA_primtum_all\n",
      "no overlap between datasets\n",
      "common gene list applied to all\n",
      "high tcga_primtum and low tcga normal\n",
      "1st: high cutoff applied to tcga dataset\n",
      "2nd: common genes identified with gtex dataset\n",
      "3rd: both datasets combined\n",
      "4th: low cutoff applied to gtex dataset\n",
      "high tcga_primtum and low gtex\n",
      "1st: high cutoff applied to tcga dataset\n",
      "2nd: common genes identified with gtex dataset\n",
      "3rd: both datasets combined\n",
      "4th: low cutoff applied to gtex dataset\n",
      "high tcga primtum, high gtex\n",
      "1st: high cutoff applied to tcga dataset\n",
      "2nd: common genes identified with gtex dataset\n",
      "3rd: both datasets combined\n",
      "4th: High cutoff applied to gtex dataset\n"
     ]
    },
    {
     "data": {
      "text/html": [
       "<table border=\"1\" class=\"dataframe\">\n",
       "  <thead>\n",
       "    <tr style=\"text-align: right;\">\n",
       "      <th></th>\n",
       "      <th>TCGA_tumor_highly_correlated</th>\n",
       "      <th>%lowly_correlated_in_TCGA_normal</th>\n",
       "      <th>%lowly_correlated_in_gtex</th>\n",
       "      <th>%highly_corelated_in_gtex</th>\n",
       "    </tr>\n",
       "  </thead>\n",
       "  <tbody>\n",
       "    <tr>\n",
       "      <th>ITGB8</th>\n",
       "      <td>196</td>\n",
       "      <td>19.387755(38)</td>\n",
       "      <td>6.122449(12)</td>\n",
       "      <td>2.040816(4)</td>\n",
       "    </tr>\n",
       "  </tbody>\n",
       "</table>"
      ],
      "text/plain": [
       "<IPython.core.display.HTML object>"
      ]
     },
     "metadata": {},
     "output_type": "display_data"
    },
    {
     "name": "stdout",
     "output_type": "stream",
     "text": [
      "its TCGA_primtum_all\n",
      "no overlap between datasets\n",
      "common gene list applied to all\n",
      "high tcga_primtum and low tcga normal\n",
      "1st: high cutoff applied to tcga dataset\n",
      "2nd: common genes identified with gtex dataset\n",
      "3rd: both datasets combined\n",
      "4th: low cutoff applied to gtex dataset\n",
      "high tcga_primtum and low gtex\n",
      "1st: high cutoff applied to tcga dataset\n",
      "2nd: common genes identified with gtex dataset\n",
      "3rd: both datasets combined\n",
      "4th: low cutoff applied to gtex dataset\n",
      "high tcga primtum, high gtex\n",
      "1st: high cutoff applied to tcga dataset\n",
      "2nd: common genes identified with gtex dataset\n",
      "3rd: both datasets combined\n",
      "4th: High cutoff applied to gtex dataset\n"
     ]
    },
    {
     "data": {
      "text/html": [
       "<table border=\"1\" class=\"dataframe\">\n",
       "  <thead>\n",
       "    <tr style=\"text-align: right;\">\n",
       "      <th></th>\n",
       "      <th>TCGA_tumor_highly_correlated</th>\n",
       "      <th>%lowly_correlated_in_TCGA_normal</th>\n",
       "      <th>%lowly_correlated_in_gtex</th>\n",
       "      <th>%highly_corelated_in_gtex</th>\n",
       "    </tr>\n",
       "  </thead>\n",
       "  <tbody>\n",
       "    <tr>\n",
       "      <th>ITGB6</th>\n",
       "      <td>256</td>\n",
       "      <td>1.171875(3)</td>\n",
       "      <td>6.250000(16)</td>\n",
       "      <td>26.562500(68)</td>\n",
       "    </tr>\n",
       "  </tbody>\n",
       "</table>"
      ],
      "text/plain": [
       "<IPython.core.display.HTML object>"
      ]
     },
     "metadata": {},
     "output_type": "display_data"
    },
    {
     "name": "stdout",
     "output_type": "stream",
     "text": [
      "its TCGA_primtum_all\n",
      "no overlap between datasets\n",
      "common gene list applied to all\n",
      "high tcga_primtum and low tcga normal\n",
      "1st: high cutoff applied to tcga dataset\n",
      "2nd: common genes identified with gtex dataset\n",
      "3rd: both datasets combined\n",
      "4th: low cutoff applied to gtex dataset\n",
      "high tcga_primtum and low gtex\n",
      "1st: high cutoff applied to tcga dataset\n",
      "2nd: common genes identified with gtex dataset\n",
      "3rd: both datasets combined\n",
      "4th: low cutoff applied to gtex dataset\n",
      "high tcga primtum, high gtex\n",
      "1st: high cutoff applied to tcga dataset\n",
      "2nd: common genes identified with gtex dataset\n",
      "3rd: both datasets combined\n",
      "4th: High cutoff applied to gtex dataset\n"
     ]
    },
    {
     "name": "stderr",
     "output_type": "stream",
     "text": [
      "/public/apps/python/3.7.0/lib/python3.7/site-packages/ipykernel_launcher.py:152: RuntimeWarning: invalid value encountered in long_scalars\n",
      "/public/apps/python/3.7.0/lib/python3.7/site-packages/ipykernel_launcher.py:153: RuntimeWarning: invalid value encountered in long_scalars\n",
      "/public/apps/python/3.7.0/lib/python3.7/site-packages/ipykernel_launcher.py:154: RuntimeWarning: invalid value encountered in long_scalars\n"
     ]
    },
    {
     "data": {
      "text/html": [
       "<table border=\"1\" class=\"dataframe\">\n",
       "  <thead>\n",
       "    <tr style=\"text-align: right;\">\n",
       "      <th></th>\n",
       "      <th>TCGA_tumor_highly_correlated</th>\n",
       "      <th>%lowly_correlated_in_TCGA_normal</th>\n",
       "      <th>%lowly_correlated_in_gtex</th>\n",
       "      <th>%highly_corelated_in_gtex</th>\n",
       "    </tr>\n",
       "  </thead>\n",
       "  <tbody>\n",
       "    <tr>\n",
       "      <th>ITGA10</th>\n",
       "      <td>0</td>\n",
       "      <td>nan(0)</td>\n",
       "      <td>nan(0)</td>\n",
       "      <td>nan(0)</td>\n",
       "    </tr>\n",
       "  </tbody>\n",
       "</table>"
      ],
      "text/plain": [
       "<IPython.core.display.HTML object>"
      ]
     },
     "metadata": {},
     "output_type": "display_data"
    },
    {
     "name": "stdout",
     "output_type": "stream",
     "text": [
      "its TCGA_primtum_all\n",
      "no overlap between datasets\n",
      "common gene list applied to all\n",
      "high tcga_primtum and low tcga normal\n",
      "1st: high cutoff applied to tcga dataset\n",
      "2nd: common genes identified with gtex dataset\n",
      "3rd: both datasets combined\n",
      "4th: low cutoff applied to gtex dataset\n",
      "high tcga_primtum and low gtex\n",
      "1st: high cutoff applied to tcga dataset\n",
      "2nd: common genes identified with gtex dataset\n",
      "3rd: both datasets combined\n",
      "4th: low cutoff applied to gtex dataset\n",
      "high tcga primtum, high gtex\n",
      "1st: high cutoff applied to tcga dataset\n",
      "2nd: common genes identified with gtex dataset\n",
      "3rd: both datasets combined\n",
      "4th: High cutoff applied to gtex dataset\n"
     ]
    },
    {
     "data": {
      "text/html": [
       "<table border=\"1\" class=\"dataframe\">\n",
       "  <thead>\n",
       "    <tr style=\"text-align: right;\">\n",
       "      <th></th>\n",
       "      <th>TCGA_tumor_highly_correlated</th>\n",
       "      <th>%lowly_correlated_in_TCGA_normal</th>\n",
       "      <th>%lowly_correlated_in_gtex</th>\n",
       "      <th>%highly_corelated_in_gtex</th>\n",
       "    </tr>\n",
       "  </thead>\n",
       "  <tbody>\n",
       "    <tr>\n",
       "      <th>ITGA6</th>\n",
       "      <td>43</td>\n",
       "      <td>4.651163(2)</td>\n",
       "      <td>0.000000(0)</td>\n",
       "      <td>4.651163(2)</td>\n",
       "    </tr>\n",
       "  </tbody>\n",
       "</table>"
      ],
      "text/plain": [
       "<IPython.core.display.HTML object>"
      ]
     },
     "metadata": {},
     "output_type": "display_data"
    },
    {
     "name": "stdout",
     "output_type": "stream",
     "text": [
      "its TCGA_primtum_all\n",
      "no overlap between datasets\n",
      "common gene list applied to all\n",
      "high tcga_primtum and low tcga normal\n",
      "1st: high cutoff applied to tcga dataset\n",
      "2nd: common genes identified with gtex dataset\n",
      "3rd: both datasets combined\n",
      "4th: low cutoff applied to gtex dataset\n",
      "high tcga_primtum and low gtex\n",
      "1st: high cutoff applied to tcga dataset\n",
      "2nd: common genes identified with gtex dataset\n",
      "3rd: both datasets combined\n",
      "4th: low cutoff applied to gtex dataset\n",
      "high tcga primtum, high gtex\n",
      "1st: high cutoff applied to tcga dataset\n",
      "2nd: common genes identified with gtex dataset\n",
      "3rd: both datasets combined\n",
      "4th: High cutoff applied to gtex dataset\n"
     ]
    },
    {
     "data": {
      "text/html": [
       "<table border=\"1\" class=\"dataframe\">\n",
       "  <thead>\n",
       "    <tr style=\"text-align: right;\">\n",
       "      <th></th>\n",
       "      <th>TCGA_tumor_highly_correlated</th>\n",
       "      <th>%lowly_correlated_in_TCGA_normal</th>\n",
       "      <th>%lowly_correlated_in_gtex</th>\n",
       "      <th>%highly_corelated_in_gtex</th>\n",
       "    </tr>\n",
       "  </thead>\n",
       "  <tbody>\n",
       "    <tr>\n",
       "      <th>ITGA4</th>\n",
       "      <td>619</td>\n",
       "      <td>3.392569(21)</td>\n",
       "      <td>1.130856(7)</td>\n",
       "      <td>20.516963(127)</td>\n",
       "    </tr>\n",
       "  </tbody>\n",
       "</table>"
      ],
      "text/plain": [
       "<IPython.core.display.HTML object>"
      ]
     },
     "metadata": {},
     "output_type": "display_data"
    },
    {
     "name": "stdout",
     "output_type": "stream",
     "text": [
      "its TCGA_primtum_all\n",
      "no overlap between datasets\n",
      "common gene list applied to all\n",
      "high tcga_primtum and low tcga normal\n",
      "1st: high cutoff applied to tcga dataset\n",
      "2nd: common genes identified with gtex dataset\n",
      "3rd: both datasets combined\n",
      "4th: low cutoff applied to gtex dataset\n",
      "high tcga_primtum and low gtex\n",
      "1st: high cutoff applied to tcga dataset\n",
      "2nd: common genes identified with gtex dataset\n",
      "3rd: both datasets combined\n",
      "4th: low cutoff applied to gtex dataset\n",
      "high tcga primtum, high gtex\n",
      "1st: high cutoff applied to tcga dataset\n",
      "2nd: common genes identified with gtex dataset\n",
      "3rd: both datasets combined\n",
      "4th: High cutoff applied to gtex dataset\n"
     ]
    },
    {
     "data": {
      "text/html": [
       "<table border=\"1\" class=\"dataframe\">\n",
       "  <thead>\n",
       "    <tr style=\"text-align: right;\">\n",
       "      <th></th>\n",
       "      <th>TCGA_tumor_highly_correlated</th>\n",
       "      <th>%lowly_correlated_in_TCGA_normal</th>\n",
       "      <th>%lowly_correlated_in_gtex</th>\n",
       "      <th>%highly_corelated_in_gtex</th>\n",
       "    </tr>\n",
       "  </thead>\n",
       "  <tbody>\n",
       "    <tr>\n",
       "      <th>ITGAV</th>\n",
       "      <td>232</td>\n",
       "      <td>0.862069(2)</td>\n",
       "      <td>2.586207(6)</td>\n",
       "      <td>50.431034(117)</td>\n",
       "    </tr>\n",
       "  </tbody>\n",
       "</table>"
      ],
      "text/plain": [
       "<IPython.core.display.HTML object>"
      ]
     },
     "metadata": {},
     "output_type": "display_data"
    },
    {
     "name": "stdout",
     "output_type": "stream",
     "text": [
      "its TCGA_primtum_all\n",
      "no overlap between datasets\n",
      "common gene list applied to all\n",
      "high tcga_primtum and low tcga normal\n",
      "1st: high cutoff applied to tcga dataset\n",
      "2nd: common genes identified with gtex dataset\n",
      "3rd: both datasets combined\n",
      "4th: low cutoff applied to gtex dataset\n",
      "high tcga_primtum and low gtex\n",
      "1st: high cutoff applied to tcga dataset\n",
      "2nd: common genes identified with gtex dataset\n",
      "3rd: both datasets combined\n",
      "4th: low cutoff applied to gtex dataset\n",
      "high tcga primtum, high gtex\n",
      "1st: high cutoff applied to tcga dataset\n",
      "2nd: common genes identified with gtex dataset\n",
      "3rd: both datasets combined\n",
      "4th: High cutoff applied to gtex dataset\n"
     ]
    },
    {
     "data": {
      "text/html": [
       "<table border=\"1\" class=\"dataframe\">\n",
       "  <thead>\n",
       "    <tr style=\"text-align: right;\">\n",
       "      <th></th>\n",
       "      <th>TCGA_tumor_highly_correlated</th>\n",
       "      <th>%lowly_correlated_in_TCGA_normal</th>\n",
       "      <th>%lowly_correlated_in_gtex</th>\n",
       "      <th>%highly_corelated_in_gtex</th>\n",
       "    </tr>\n",
       "  </thead>\n",
       "  <tbody>\n",
       "    <tr>\n",
       "      <th>ITGA9</th>\n",
       "      <td>879</td>\n",
       "      <td>0.682594(6)</td>\n",
       "      <td>8.077361(71)</td>\n",
       "      <td>32.081911(282)</td>\n",
       "    </tr>\n",
       "  </tbody>\n",
       "</table>"
      ],
      "text/plain": [
       "<IPython.core.display.HTML object>"
      ]
     },
     "metadata": {},
     "output_type": "display_data"
    },
    {
     "name": "stdout",
     "output_type": "stream",
     "text": [
      "its TCGA_primtum_all\n",
      "no overlap between datasets\n",
      "common gene list applied to all\n",
      "high tcga_primtum and low tcga normal\n",
      "1st: high cutoff applied to tcga dataset\n",
      "2nd: common genes identified with gtex dataset\n",
      "3rd: both datasets combined\n",
      "4th: low cutoff applied to gtex dataset\n",
      "high tcga_primtum and low gtex\n",
      "1st: high cutoff applied to tcga dataset\n",
      "2nd: common genes identified with gtex dataset\n",
      "3rd: both datasets combined\n",
      "4th: low cutoff applied to gtex dataset\n",
      "high tcga primtum, high gtex\n",
      "1st: high cutoff applied to tcga dataset\n",
      "2nd: common genes identified with gtex dataset\n",
      "3rd: both datasets combined\n",
      "4th: High cutoff applied to gtex dataset\n"
     ]
    },
    {
     "name": "stderr",
     "output_type": "stream",
     "text": [
      "/public/apps/python/3.7.0/lib/python3.7/site-packages/ipykernel_launcher.py:152: RuntimeWarning: invalid value encountered in long_scalars\n",
      "/public/apps/python/3.7.0/lib/python3.7/site-packages/ipykernel_launcher.py:153: RuntimeWarning: invalid value encountered in long_scalars\n",
      "/public/apps/python/3.7.0/lib/python3.7/site-packages/ipykernel_launcher.py:154: RuntimeWarning: invalid value encountered in long_scalars\n"
     ]
    },
    {
     "data": {
      "text/html": [
       "<table border=\"1\" class=\"dataframe\">\n",
       "  <thead>\n",
       "    <tr style=\"text-align: right;\">\n",
       "      <th></th>\n",
       "      <th>TCGA_tumor_highly_correlated</th>\n",
       "      <th>%lowly_correlated_in_TCGA_normal</th>\n",
       "      <th>%lowly_correlated_in_gtex</th>\n",
       "      <th>%highly_corelated_in_gtex</th>\n",
       "    </tr>\n",
       "  </thead>\n",
       "  <tbody>\n",
       "    <tr>\n",
       "      <th>ITGB5</th>\n",
       "      <td>0</td>\n",
       "      <td>nan(0)</td>\n",
       "      <td>nan(0)</td>\n",
       "      <td>nan(0)</td>\n",
       "    </tr>\n",
       "  </tbody>\n",
       "</table>"
      ],
      "text/plain": [
       "<IPython.core.display.HTML object>"
      ]
     },
     "metadata": {},
     "output_type": "display_data"
    },
    {
     "name": "stdout",
     "output_type": "stream",
     "text": [
      "its TCGA_primtum_all\n",
      "no overlap between datasets\n",
      "common gene list applied to all\n",
      "high tcga_primtum and low tcga normal\n",
      "1st: high cutoff applied to tcga dataset\n",
      "2nd: common genes identified with gtex dataset\n",
      "3rd: both datasets combined\n",
      "4th: low cutoff applied to gtex dataset\n",
      "high tcga_primtum and low gtex\n",
      "1st: high cutoff applied to tcga dataset\n",
      "2nd: common genes identified with gtex dataset\n",
      "3rd: both datasets combined\n",
      "4th: low cutoff applied to gtex dataset\n",
      "high tcga primtum, high gtex\n",
      "1st: high cutoff applied to tcga dataset\n",
      "2nd: common genes identified with gtex dataset\n",
      "3rd: both datasets combined\n",
      "4th: High cutoff applied to gtex dataset\n"
     ]
    },
    {
     "data": {
      "text/html": [
       "<table border=\"1\" class=\"dataframe\">\n",
       "  <thead>\n",
       "    <tr style=\"text-align: right;\">\n",
       "      <th></th>\n",
       "      <th>TCGA_tumor_highly_correlated</th>\n",
       "      <th>%lowly_correlated_in_TCGA_normal</th>\n",
       "      <th>%lowly_correlated_in_gtex</th>\n",
       "      <th>%highly_corelated_in_gtex</th>\n",
       "    </tr>\n",
       "  </thead>\n",
       "  <tbody>\n",
       "    <tr>\n",
       "      <th>ITGA1</th>\n",
       "      <td>651</td>\n",
       "      <td>1.228879(8)</td>\n",
       "      <td>2.304147(15)</td>\n",
       "      <td>44.546851(290)</td>\n",
       "    </tr>\n",
       "  </tbody>\n",
       "</table>"
      ],
      "text/plain": [
       "<IPython.core.display.HTML object>"
      ]
     },
     "metadata": {},
     "output_type": "display_data"
    },
    {
     "name": "stdout",
     "output_type": "stream",
     "text": [
      "its TCGA_primtum_all\n",
      "no overlap between datasets\n",
      "common gene list applied to all\n",
      "high tcga_primtum and low tcga normal\n",
      "1st: high cutoff applied to tcga dataset\n",
      "2nd: common genes identified with gtex dataset\n",
      "3rd: both datasets combined\n",
      "4th: low cutoff applied to gtex dataset\n",
      "high tcga_primtum and low gtex\n",
      "1st: high cutoff applied to tcga dataset\n",
      "2nd: common genes identified with gtex dataset\n",
      "3rd: both datasets combined\n",
      "4th: low cutoff applied to gtex dataset\n",
      "high tcga primtum, high gtex\n",
      "1st: high cutoff applied to tcga dataset\n",
      "2nd: common genes identified with gtex dataset\n",
      "3rd: both datasets combined\n",
      "4th: High cutoff applied to gtex dataset\n"
     ]
    },
    {
     "data": {
      "text/html": [
       "<table border=\"1\" class=\"dataframe\">\n",
       "  <thead>\n",
       "    <tr style=\"text-align: right;\">\n",
       "      <th></th>\n",
       "      <th>TCGA_tumor_highly_correlated</th>\n",
       "      <th>%lowly_correlated_in_TCGA_normal</th>\n",
       "      <th>%lowly_correlated_in_gtex</th>\n",
       "      <th>%highly_corelated_in_gtex</th>\n",
       "    </tr>\n",
       "  </thead>\n",
       "  <tbody>\n",
       "    <tr>\n",
       "      <th>ITGA2</th>\n",
       "      <td>277</td>\n",
       "      <td>3.249097(9)</td>\n",
       "      <td>24.909747(69)</td>\n",
       "      <td>2.166065(6)</td>\n",
       "    </tr>\n",
       "  </tbody>\n",
       "</table>"
      ],
      "text/plain": [
       "<IPython.core.display.HTML object>"
      ]
     },
     "metadata": {},
     "output_type": "display_data"
    },
    {
     "name": "stdout",
     "output_type": "stream",
     "text": [
      "its TCGA_primtum_all\n",
      "no overlap between datasets\n",
      "common gene list applied to all\n",
      "high tcga_primtum and low tcga normal\n",
      "1st: high cutoff applied to tcga dataset\n",
      "2nd: common genes identified with gtex dataset\n",
      "3rd: both datasets combined\n",
      "4th: low cutoff applied to gtex dataset\n",
      "high tcga_primtum and low gtex\n",
      "1st: high cutoff applied to tcga dataset\n",
      "2nd: common genes identified with gtex dataset\n",
      "3rd: both datasets combined\n",
      "4th: low cutoff applied to gtex dataset\n",
      "high tcga primtum, high gtex\n",
      "1st: high cutoff applied to tcga dataset\n",
      "2nd: common genes identified with gtex dataset\n",
      "3rd: both datasets combined\n",
      "4th: High cutoff applied to gtex dataset\n"
     ]
    },
    {
     "data": {
      "text/html": [
       "<table border=\"1\" class=\"dataframe\">\n",
       "  <thead>\n",
       "    <tr style=\"text-align: right;\">\n",
       "      <th></th>\n",
       "      <th>TCGA_tumor_highly_correlated</th>\n",
       "      <th>%lowly_correlated_in_TCGA_normal</th>\n",
       "      <th>%lowly_correlated_in_gtex</th>\n",
       "      <th>%highly_corelated_in_gtex</th>\n",
       "    </tr>\n",
       "  </thead>\n",
       "  <tbody>\n",
       "    <tr>\n",
       "      <th>ITGA8</th>\n",
       "      <td>596</td>\n",
       "      <td>2.013423(12)</td>\n",
       "      <td>11.241611(67)</td>\n",
       "      <td>9.395973(56)</td>\n",
       "    </tr>\n",
       "  </tbody>\n",
       "</table>"
      ],
      "text/plain": [
       "<IPython.core.display.HTML object>"
      ]
     },
     "metadata": {},
     "output_type": "display_data"
    },
    {
     "name": "stdout",
     "output_type": "stream",
     "text": [
      "its TCGA_primtum_all\n",
      "no overlap between datasets\n",
      "common gene list applied to all\n",
      "high tcga_primtum and low tcga normal\n",
      "1st: high cutoff applied to tcga dataset\n",
      "2nd: common genes identified with gtex dataset\n",
      "3rd: both datasets combined\n",
      "4th: low cutoff applied to gtex dataset\n",
      "high tcga_primtum and low gtex\n",
      "1st: high cutoff applied to tcga dataset\n",
      "2nd: common genes identified with gtex dataset\n",
      "3rd: both datasets combined\n",
      "4th: low cutoff applied to gtex dataset\n",
      "high tcga primtum, high gtex\n",
      "1st: high cutoff applied to tcga dataset\n",
      "2nd: common genes identified with gtex dataset\n",
      "3rd: both datasets combined\n",
      "4th: High cutoff applied to gtex dataset\n"
     ]
    },
    {
     "data": {
      "text/html": [
       "<table border=\"1\" class=\"dataframe\">\n",
       "  <thead>\n",
       "    <tr style=\"text-align: right;\">\n",
       "      <th></th>\n",
       "      <th>TCGA_tumor_highly_correlated</th>\n",
       "      <th>%lowly_correlated_in_TCGA_normal</th>\n",
       "      <th>%lowly_correlated_in_gtex</th>\n",
       "      <th>%highly_corelated_in_gtex</th>\n",
       "    </tr>\n",
       "  </thead>\n",
       "  <tbody>\n",
       "    <tr>\n",
       "      <th>ITGB1</th>\n",
       "      <td>254</td>\n",
       "      <td>1.181102(3)</td>\n",
       "      <td>1.574803(4)</td>\n",
       "      <td>51.181102(130)</td>\n",
       "    </tr>\n",
       "  </tbody>\n",
       "</table>"
      ],
      "text/plain": [
       "<IPython.core.display.HTML object>"
      ]
     },
     "metadata": {},
     "output_type": "display_data"
    },
    {
     "name": "stdout",
     "output_type": "stream",
     "text": [
      "its TCGA_primtum_all\n",
      "no overlap between datasets\n",
      "common gene list applied to all\n",
      "high tcga_primtum and low tcga normal\n",
      "1st: high cutoff applied to tcga dataset\n",
      "2nd: common genes identified with gtex dataset\n",
      "3rd: both datasets combined\n",
      "4th: low cutoff applied to gtex dataset\n",
      "high tcga_primtum and low gtex\n",
      "1st: high cutoff applied to tcga dataset\n",
      "2nd: common genes identified with gtex dataset\n",
      "3rd: both datasets combined\n",
      "4th: low cutoff applied to gtex dataset\n",
      "high tcga primtum, high gtex\n",
      "1st: high cutoff applied to tcga dataset\n",
      "2nd: common genes identified with gtex dataset\n",
      "3rd: both datasets combined\n",
      "4th: High cutoff applied to gtex dataset\n"
     ]
    },
    {
     "data": {
      "text/html": [
       "<table border=\"1\" class=\"dataframe\">\n",
       "  <thead>\n",
       "    <tr style=\"text-align: right;\">\n",
       "      <th></th>\n",
       "      <th>TCGA_tumor_highly_correlated</th>\n",
       "      <th>%lowly_correlated_in_TCGA_normal</th>\n",
       "      <th>%lowly_correlated_in_gtex</th>\n",
       "      <th>%highly_corelated_in_gtex</th>\n",
       "    </tr>\n",
       "  </thead>\n",
       "  <tbody>\n",
       "    <tr>\n",
       "      <th>ITGB7</th>\n",
       "      <td>436</td>\n",
       "      <td>2.293578(10)</td>\n",
       "      <td>3.440367(15)</td>\n",
       "      <td>22.935780(100)</td>\n",
       "    </tr>\n",
       "  </tbody>\n",
       "</table>"
      ],
      "text/plain": [
       "<IPython.core.display.HTML object>"
      ]
     },
     "metadata": {},
     "output_type": "display_data"
    },
    {
     "name": "stdout",
     "output_type": "stream",
     "text": [
      "its TCGA_primtum_all\n",
      "no overlap between datasets\n",
      "common gene list applied to all\n",
      "high tcga_primtum and low tcga normal\n",
      "1st: high cutoff applied to tcga dataset\n",
      "2nd: common genes identified with gtex dataset\n",
      "3rd: both datasets combined\n",
      "4th: low cutoff applied to gtex dataset\n",
      "high tcga_primtum and low gtex\n",
      "1st: high cutoff applied to tcga dataset\n",
      "2nd: common genes identified with gtex dataset\n",
      "3rd: both datasets combined\n",
      "4th: low cutoff applied to gtex dataset\n",
      "high tcga primtum, high gtex\n",
      "1st: high cutoff applied to tcga dataset\n",
      "2nd: common genes identified with gtex dataset\n",
      "3rd: both datasets combined\n",
      "4th: High cutoff applied to gtex dataset\n"
     ]
    },
    {
     "data": {
      "text/html": [
       "<table border=\"1\" class=\"dataframe\">\n",
       "  <thead>\n",
       "    <tr style=\"text-align: right;\">\n",
       "      <th></th>\n",
       "      <th>TCGA_tumor_highly_correlated</th>\n",
       "      <th>%lowly_correlated_in_TCGA_normal</th>\n",
       "      <th>%lowly_correlated_in_gtex</th>\n",
       "      <th>%highly_corelated_in_gtex</th>\n",
       "    </tr>\n",
       "  </thead>\n",
       "  <tbody>\n",
       "    <tr>\n",
       "      <th>ITGA5</th>\n",
       "      <td>380</td>\n",
       "      <td>1.052632(4)</td>\n",
       "      <td>5.789474(22)</td>\n",
       "      <td>30.000000(114)</td>\n",
       "    </tr>\n",
       "  </tbody>\n",
       "</table>"
      ],
      "text/plain": [
       "<IPython.core.display.HTML object>"
      ]
     },
     "metadata": {},
     "output_type": "display_data"
    },
    {
     "name": "stdout",
     "output_type": "stream",
     "text": [
      "its TCGA_primtum_all\n",
      "no overlap between datasets\n",
      "common gene list applied to all\n",
      "high tcga_primtum and low tcga normal\n",
      "1st: high cutoff applied to tcga dataset\n",
      "2nd: common genes identified with gtex dataset\n",
      "3rd: both datasets combined\n",
      "4th: low cutoff applied to gtex dataset\n",
      "high tcga_primtum and low gtex\n",
      "1st: high cutoff applied to tcga dataset\n",
      "2nd: common genes identified with gtex dataset\n",
      "3rd: both datasets combined\n",
      "4th: low cutoff applied to gtex dataset\n",
      "high tcga primtum, high gtex\n",
      "1st: high cutoff applied to tcga dataset\n",
      "2nd: common genes identified with gtex dataset\n",
      "3rd: both datasets combined\n",
      "4th: High cutoff applied to gtex dataset\n"
     ]
    },
    {
     "data": {
      "text/html": [
       "<table border=\"1\" class=\"dataframe\">\n",
       "  <thead>\n",
       "    <tr style=\"text-align: right;\">\n",
       "      <th></th>\n",
       "      <th>TCGA_tumor_highly_correlated</th>\n",
       "      <th>%lowly_correlated_in_TCGA_normal</th>\n",
       "      <th>%lowly_correlated_in_gtex</th>\n",
       "      <th>%highly_corelated_in_gtex</th>\n",
       "    </tr>\n",
       "  </thead>\n",
       "  <tbody>\n",
       "    <tr>\n",
       "      <th>ITGBL1</th>\n",
       "      <td>43</td>\n",
       "      <td>0.000000(0)</td>\n",
       "      <td>2.325581(1)</td>\n",
       "      <td>23.255814(10)</td>\n",
       "    </tr>\n",
       "  </tbody>\n",
       "</table>"
      ],
      "text/plain": [
       "<IPython.core.display.HTML object>"
      ]
     },
     "metadata": {},
     "output_type": "display_data"
    },
    {
     "name": "stdout",
     "output_type": "stream",
     "text": [
      "its TCGA_primtum_all\n",
      "no overlap between datasets\n",
      "common gene list applied to all\n",
      "high tcga_primtum and low tcga normal\n",
      "1st: high cutoff applied to tcga dataset\n",
      "2nd: common genes identified with gtex dataset\n",
      "3rd: both datasets combined\n",
      "4th: low cutoff applied to gtex dataset\n",
      "high tcga_primtum and low gtex\n",
      "1st: high cutoff applied to tcga dataset\n",
      "2nd: common genes identified with gtex dataset\n",
      "3rd: both datasets combined\n",
      "4th: low cutoff applied to gtex dataset\n",
      "high tcga primtum, high gtex\n",
      "1st: high cutoff applied to tcga dataset\n",
      "2nd: common genes identified with gtex dataset\n",
      "3rd: both datasets combined\n",
      "4th: High cutoff applied to gtex dataset\n"
     ]
    },
    {
     "data": {
      "text/html": [
       "<table border=\"1\" class=\"dataframe\">\n",
       "  <thead>\n",
       "    <tr style=\"text-align: right;\">\n",
       "      <th></th>\n",
       "      <th>TCGA_tumor_highly_correlated</th>\n",
       "      <th>%lowly_correlated_in_TCGA_normal</th>\n",
       "      <th>%lowly_correlated_in_gtex</th>\n",
       "      <th>%highly_corelated_in_gtex</th>\n",
       "    </tr>\n",
       "  </thead>\n",
       "  <tbody>\n",
       "    <tr>\n",
       "      <th>ITGA11</th>\n",
       "      <td>166</td>\n",
       "      <td>3.012048(5)</td>\n",
       "      <td>0.000000(0)</td>\n",
       "      <td>5.421687(9)</td>\n",
       "    </tr>\n",
       "  </tbody>\n",
       "</table>"
      ],
      "text/plain": [
       "<IPython.core.display.HTML object>"
      ]
     },
     "metadata": {},
     "output_type": "display_data"
    },
    {
     "name": "stdout",
     "output_type": "stream",
     "text": [
      "its TCGA_primtum_all\n",
      "no overlap between datasets\n",
      "common gene list applied to all\n",
      "high tcga_primtum and low tcga normal\n",
      "1st: high cutoff applied to tcga dataset\n",
      "2nd: common genes identified with gtex dataset\n",
      "3rd: both datasets combined\n",
      "4th: low cutoff applied to gtex dataset\n",
      "high tcga_primtum and low gtex\n",
      "1st: high cutoff applied to tcga dataset\n",
      "2nd: common genes identified with gtex dataset\n",
      "3rd: both datasets combined\n",
      "4th: low cutoff applied to gtex dataset\n",
      "high tcga primtum, high gtex\n",
      "1st: high cutoff applied to tcga dataset\n",
      "2nd: common genes identified with gtex dataset\n",
      "3rd: both datasets combined\n",
      "4th: High cutoff applied to gtex dataset\n"
     ]
    },
    {
     "data": {
      "text/html": [
       "<table border=\"1\" class=\"dataframe\">\n",
       "  <thead>\n",
       "    <tr style=\"text-align: right;\">\n",
       "      <th></th>\n",
       "      <th>TCGA_tumor_highly_correlated</th>\n",
       "      <th>%lowly_correlated_in_TCGA_normal</th>\n",
       "      <th>%lowly_correlated_in_gtex</th>\n",
       "      <th>%highly_corelated_in_gtex</th>\n",
       "    </tr>\n",
       "  </thead>\n",
       "  <tbody>\n",
       "    <tr>\n",
       "      <th>ITGAL</th>\n",
       "      <td>589</td>\n",
       "      <td>4.244482(25)</td>\n",
       "      <td>2.716469(16)</td>\n",
       "      <td>33.786078(199)</td>\n",
       "    </tr>\n",
       "  </tbody>\n",
       "</table>"
      ],
      "text/plain": [
       "<IPython.core.display.HTML object>"
      ]
     },
     "metadata": {},
     "output_type": "display_data"
    },
    {
     "name": "stdout",
     "output_type": "stream",
     "text": [
      "its TCGA_primtum_all\n",
      "no overlap between datasets\n",
      "common gene list applied to all\n",
      "high tcga_primtum and low tcga normal\n",
      "1st: high cutoff applied to tcga dataset\n",
      "2nd: common genes identified with gtex dataset\n",
      "3rd: both datasets combined\n",
      "4th: low cutoff applied to gtex dataset\n",
      "high tcga_primtum and low gtex\n",
      "1st: high cutoff applied to tcga dataset\n",
      "2nd: common genes identified with gtex dataset\n",
      "3rd: both datasets combined\n",
      "4th: low cutoff applied to gtex dataset\n",
      "high tcga primtum, high gtex\n",
      "1st: high cutoff applied to tcga dataset\n",
      "2nd: common genes identified with gtex dataset\n",
      "3rd: both datasets combined\n",
      "4th: High cutoff applied to gtex dataset\n"
     ]
    },
    {
     "data": {
      "text/html": [
       "<table border=\"1\" class=\"dataframe\">\n",
       "  <thead>\n",
       "    <tr style=\"text-align: right;\">\n",
       "      <th></th>\n",
       "      <th>TCGA_tumor_highly_correlated</th>\n",
       "      <th>%lowly_correlated_in_TCGA_normal</th>\n",
       "      <th>%lowly_correlated_in_gtex</th>\n",
       "      <th>%highly_corelated_in_gtex</th>\n",
       "    </tr>\n",
       "  </thead>\n",
       "  <tbody>\n",
       "    <tr>\n",
       "      <th>ITGAM</th>\n",
       "      <td>637</td>\n",
       "      <td>2.668760(17)</td>\n",
       "      <td>0.627943(4)</td>\n",
       "      <td>27.629513(176)</td>\n",
       "    </tr>\n",
       "  </tbody>\n",
       "</table>"
      ],
      "text/plain": [
       "<IPython.core.display.HTML object>"
      ]
     },
     "metadata": {},
     "output_type": "display_data"
    },
    {
     "name": "stdout",
     "output_type": "stream",
     "text": [
      "its TCGA_primtum_all\n",
      "no overlap between datasets\n",
      "common gene list applied to all\n",
      "high tcga_primtum and low tcga normal\n",
      "1st: high cutoff applied to tcga dataset\n",
      "2nd: common genes identified with gtex dataset\n",
      "3rd: both datasets combined\n",
      "4th: low cutoff applied to gtex dataset\n",
      "high tcga_primtum and low gtex\n",
      "1st: high cutoff applied to tcga dataset\n",
      "2nd: common genes identified with gtex dataset\n",
      "3rd: both datasets combined\n",
      "4th: low cutoff applied to gtex dataset\n",
      "high tcga primtum, high gtex\n",
      "1st: high cutoff applied to tcga dataset\n",
      "2nd: common genes identified with gtex dataset\n",
      "3rd: both datasets combined\n",
      "4th: High cutoff applied to gtex dataset\n"
     ]
    },
    {
     "data": {
      "text/html": [
       "<table border=\"1\" class=\"dataframe\">\n",
       "  <thead>\n",
       "    <tr style=\"text-align: right;\">\n",
       "      <th></th>\n",
       "      <th>TCGA_tumor_highly_correlated</th>\n",
       "      <th>%lowly_correlated_in_TCGA_normal</th>\n",
       "      <th>%lowly_correlated_in_gtex</th>\n",
       "      <th>%highly_corelated_in_gtex</th>\n",
       "    </tr>\n",
       "  </thead>\n",
       "  <tbody>\n",
       "    <tr>\n",
       "      <th>ITGAX</th>\n",
       "      <td>421</td>\n",
       "      <td>1.662708(7)</td>\n",
       "      <td>0.712589(3)</td>\n",
       "      <td>20.427553(86)</td>\n",
       "    </tr>\n",
       "  </tbody>\n",
       "</table>"
      ],
      "text/plain": [
       "<IPython.core.display.HTML object>"
      ]
     },
     "metadata": {},
     "output_type": "display_data"
    },
    {
     "name": "stdout",
     "output_type": "stream",
     "text": [
      "its TCGA_primtum_all\n",
      "no overlap between datasets\n",
      "common gene list applied to all\n",
      "high tcga_primtum and low tcga normal\n",
      "1st: high cutoff applied to tcga dataset\n",
      "2nd: common genes identified with gtex dataset\n",
      "3rd: both datasets combined\n",
      "4th: low cutoff applied to gtex dataset\n",
      "high tcga_primtum and low gtex\n",
      "1st: high cutoff applied to tcga dataset\n",
      "2nd: common genes identified with gtex dataset\n",
      "3rd: both datasets combined\n",
      "4th: low cutoff applied to gtex dataset\n",
      "high tcga primtum, high gtex\n",
      "1st: high cutoff applied to tcga dataset\n",
      "2nd: common genes identified with gtex dataset\n",
      "3rd: both datasets combined\n",
      "4th: High cutoff applied to gtex dataset\n"
     ]
    },
    {
     "data": {
      "text/html": [
       "<table border=\"1\" class=\"dataframe\">\n",
       "  <thead>\n",
       "    <tr style=\"text-align: right;\">\n",
       "      <th></th>\n",
       "      <th>TCGA_tumor_highly_correlated</th>\n",
       "      <th>%lowly_correlated_in_TCGA_normal</th>\n",
       "      <th>%lowly_correlated_in_gtex</th>\n",
       "      <th>%highly_corelated_in_gtex</th>\n",
       "    </tr>\n",
       "  </thead>\n",
       "  <tbody>\n",
       "    <tr>\n",
       "      <th>ITGAD</th>\n",
       "      <td>2</td>\n",
       "      <td>50.000000(1)</td>\n",
       "      <td>0.000000(0)</td>\n",
       "      <td>0.000000(0)</td>\n",
       "    </tr>\n",
       "  </tbody>\n",
       "</table>"
      ],
      "text/plain": [
       "<IPython.core.display.HTML object>"
      ]
     },
     "metadata": {},
     "output_type": "display_data"
    },
    {
     "name": "stdout",
     "output_type": "stream",
     "text": [
      "its TCGA_primtum_all\n",
      "no overlap between datasets\n",
      "common gene list applied to all\n",
      "high tcga_primtum and low tcga normal\n",
      "1st: high cutoff applied to tcga dataset\n",
      "2nd: common genes identified with gtex dataset\n",
      "3rd: both datasets combined\n",
      "4th: low cutoff applied to gtex dataset\n",
      "high tcga_primtum and low gtex\n",
      "1st: high cutoff applied to tcga dataset\n",
      "2nd: common genes identified with gtex dataset\n",
      "3rd: both datasets combined\n",
      "4th: low cutoff applied to gtex dataset\n",
      "high tcga primtum, high gtex\n",
      "1st: high cutoff applied to tcga dataset\n",
      "2nd: common genes identified with gtex dataset\n",
      "3rd: both datasets combined\n",
      "4th: High cutoff applied to gtex dataset\n"
     ]
    },
    {
     "data": {
      "text/html": [
       "<table border=\"1\" class=\"dataframe\">\n",
       "  <thead>\n",
       "    <tr style=\"text-align: right;\">\n",
       "      <th></th>\n",
       "      <th>TCGA_tumor_highly_correlated</th>\n",
       "      <th>%lowly_correlated_in_TCGA_normal</th>\n",
       "      <th>%lowly_correlated_in_gtex</th>\n",
       "      <th>%highly_corelated_in_gtex</th>\n",
       "    </tr>\n",
       "  </thead>\n",
       "  <tbody>\n",
       "    <tr>\n",
       "      <th>ITGAE</th>\n",
       "      <td>92</td>\n",
       "      <td>5.434783(5)</td>\n",
       "      <td>1.086957(1)</td>\n",
       "      <td>8.695652(8)</td>\n",
       "    </tr>\n",
       "  </tbody>\n",
       "</table>"
      ],
      "text/plain": [
       "<IPython.core.display.HTML object>"
      ]
     },
     "metadata": {},
     "output_type": "display_data"
    },
    {
     "name": "stdout",
     "output_type": "stream",
     "text": [
      "its TCGA_primtum_all\n",
      "no overlap between datasets\n",
      "common gene list applied to all\n",
      "high tcga_primtum and low tcga normal\n",
      "1st: high cutoff applied to tcga dataset\n",
      "2nd: common genes identified with gtex dataset\n",
      "3rd: both datasets combined\n",
      "4th: low cutoff applied to gtex dataset\n",
      "high tcga_primtum and low gtex\n",
      "1st: high cutoff applied to tcga dataset\n",
      "2nd: common genes identified with gtex dataset\n",
      "3rd: both datasets combined\n",
      "4th: low cutoff applied to gtex dataset\n",
      "high tcga primtum, high gtex\n",
      "1st: high cutoff applied to tcga dataset\n",
      "2nd: common genes identified with gtex dataset\n",
      "3rd: both datasets combined\n",
      "4th: High cutoff applied to gtex dataset\n"
     ]
    },
    {
     "data": {
      "text/html": [
       "<table border=\"1\" class=\"dataframe\">\n",
       "  <thead>\n",
       "    <tr style=\"text-align: right;\">\n",
       "      <th></th>\n",
       "      <th>TCGA_tumor_highly_correlated</th>\n",
       "      <th>%lowly_correlated_in_TCGA_normal</th>\n",
       "      <th>%lowly_correlated_in_gtex</th>\n",
       "      <th>%highly_corelated_in_gtex</th>\n",
       "    </tr>\n",
       "  </thead>\n",
       "  <tbody>\n",
       "    <tr>\n",
       "      <th>ITGA2B</th>\n",
       "      <td>14</td>\n",
       "      <td>0.000000(0)</td>\n",
       "      <td>0.000000(0)</td>\n",
       "      <td>21.428571(3)</td>\n",
       "    </tr>\n",
       "  </tbody>\n",
       "</table>"
      ],
      "text/plain": [
       "<IPython.core.display.HTML object>"
      ]
     },
     "metadata": {},
     "output_type": "display_data"
    },
    {
     "name": "stdout",
     "output_type": "stream",
     "text": [
      "its TCGA_primtum_all\n",
      "no overlap between datasets\n",
      "common gene list applied to all\n",
      "high tcga_primtum and low tcga normal\n",
      "1st: high cutoff applied to tcga dataset\n",
      "2nd: common genes identified with gtex dataset\n",
      "3rd: both datasets combined\n",
      "4th: low cutoff applied to gtex dataset\n",
      "high tcga_primtum and low gtex\n",
      "1st: high cutoff applied to tcga dataset\n",
      "2nd: common genes identified with gtex dataset\n",
      "3rd: both datasets combined\n",
      "4th: low cutoff applied to gtex dataset\n",
      "high tcga primtum, high gtex\n",
      "1st: high cutoff applied to tcga dataset\n",
      "2nd: common genes identified with gtex dataset\n",
      "3rd: both datasets combined\n",
      "4th: High cutoff applied to gtex dataset\n"
     ]
    },
    {
     "data": {
      "text/html": [
       "<table border=\"1\" class=\"dataframe\">\n",
       "  <thead>\n",
       "    <tr style=\"text-align: right;\">\n",
       "      <th></th>\n",
       "      <th>TCGA_tumor_highly_correlated</th>\n",
       "      <th>%lowly_correlated_in_TCGA_normal</th>\n",
       "      <th>%lowly_correlated_in_gtex</th>\n",
       "      <th>%highly_corelated_in_gtex</th>\n",
       "    </tr>\n",
       "  </thead>\n",
       "  <tbody>\n",
       "    <tr>\n",
       "      <th>ITGB3</th>\n",
       "      <td>758</td>\n",
       "      <td>1.055409(8)</td>\n",
       "      <td>15.435356(117)</td>\n",
       "      <td>9.498681(72)</td>\n",
       "    </tr>\n",
       "  </tbody>\n",
       "</table>"
      ],
      "text/plain": [
       "<IPython.core.display.HTML object>"
      ]
     },
     "metadata": {},
     "output_type": "display_data"
    },
    {
     "name": "stdout",
     "output_type": "stream",
     "text": [
      "its TCGA_primtum_all\n",
      "no overlap between datasets\n",
      "common gene list applied to all\n",
      "high tcga_primtum and low tcga normal\n",
      "1st: high cutoff applied to tcga dataset\n",
      "2nd: common genes identified with gtex dataset\n",
      "3rd: both datasets combined\n",
      "4th: low cutoff applied to gtex dataset\n",
      "high tcga_primtum and low gtex\n",
      "1st: high cutoff applied to tcga dataset\n",
      "2nd: common genes identified with gtex dataset\n",
      "3rd: both datasets combined\n",
      "4th: low cutoff applied to gtex dataset\n",
      "high tcga primtum, high gtex\n",
      "1st: high cutoff applied to tcga dataset\n",
      "2nd: common genes identified with gtex dataset\n",
      "3rd: both datasets combined\n",
      "4th: High cutoff applied to gtex dataset\n"
     ]
    },
    {
     "data": {
      "text/html": [
       "<table border=\"1\" class=\"dataframe\">\n",
       "  <thead>\n",
       "    <tr style=\"text-align: right;\">\n",
       "      <th></th>\n",
       "      <th>TCGA_tumor_highly_correlated</th>\n",
       "      <th>%lowly_correlated_in_TCGA_normal</th>\n",
       "      <th>%lowly_correlated_in_gtex</th>\n",
       "      <th>%highly_corelated_in_gtex</th>\n",
       "    </tr>\n",
       "  </thead>\n",
       "  <tbody>\n",
       "    <tr>\n",
       "      <th>ITGA3</th>\n",
       "      <td>297</td>\n",
       "      <td>12.457912(37)</td>\n",
       "      <td>19.191919(57)</td>\n",
       "      <td>7.407407(22)</td>\n",
       "    </tr>\n",
       "  </tbody>\n",
       "</table>"
      ],
      "text/plain": [
       "<IPython.core.display.HTML object>"
      ]
     },
     "metadata": {},
     "output_type": "display_data"
    },
    {
     "name": "stdout",
     "output_type": "stream",
     "text": [
      "its TCGA_primtum_all\n",
      "no overlap between datasets\n",
      "common gene list applied to all\n",
      "high tcga_primtum and low tcga normal\n",
      "1st: high cutoff applied to tcga dataset\n",
      "2nd: common genes identified with gtex dataset\n",
      "3rd: both datasets combined\n",
      "4th: low cutoff applied to gtex dataset\n",
      "high tcga_primtum and low gtex\n",
      "1st: high cutoff applied to tcga dataset\n",
      "2nd: common genes identified with gtex dataset\n",
      "3rd: both datasets combined\n",
      "4th: low cutoff applied to gtex dataset\n",
      "high tcga primtum, high gtex\n",
      "1st: high cutoff applied to tcga dataset\n",
      "2nd: common genes identified with gtex dataset\n",
      "3rd: both datasets combined\n",
      "4th: High cutoff applied to gtex dataset\n"
     ]
    },
    {
     "data": {
      "text/html": [
       "<table border=\"1\" class=\"dataframe\">\n",
       "  <thead>\n",
       "    <tr style=\"text-align: right;\">\n",
       "      <th></th>\n",
       "      <th>TCGA_tumor_highly_correlated</th>\n",
       "      <th>%lowly_correlated_in_TCGA_normal</th>\n",
       "      <th>%lowly_correlated_in_gtex</th>\n",
       "      <th>%highly_corelated_in_gtex</th>\n",
       "    </tr>\n",
       "  </thead>\n",
       "  <tbody>\n",
       "    <tr>\n",
       "      <th>ITGB4</th>\n",
       "      <td>529</td>\n",
       "      <td>8.695652(46)</td>\n",
       "      <td>21.361059(113)</td>\n",
       "      <td>5.103970(27)</td>\n",
       "    </tr>\n",
       "  </tbody>\n",
       "</table>"
      ],
      "text/plain": [
       "<IPython.core.display.HTML object>"
      ]
     },
     "metadata": {},
     "output_type": "display_data"
    },
    {
     "name": "stdout",
     "output_type": "stream",
     "text": [
      "its TCGA_primtum_all\n",
      "no overlap between datasets\n",
      "common gene list applied to all\n",
      "high tcga_primtum and low tcga normal\n",
      "1st: high cutoff applied to tcga dataset\n",
      "2nd: common genes identified with gtex dataset\n",
      "3rd: both datasets combined\n",
      "4th: low cutoff applied to gtex dataset\n",
      "high tcga_primtum and low gtex\n",
      "1st: high cutoff applied to tcga dataset\n",
      "2nd: common genes identified with gtex dataset\n",
      "3rd: both datasets combined\n",
      "4th: low cutoff applied to gtex dataset\n",
      "high tcga primtum, high gtex\n",
      "1st: high cutoff applied to tcga dataset\n",
      "2nd: common genes identified with gtex dataset\n",
      "3rd: both datasets combined\n",
      "4th: High cutoff applied to gtex dataset\n"
     ]
    },
    {
     "data": {
      "text/html": [
       "<table border=\"1\" class=\"dataframe\">\n",
       "  <thead>\n",
       "    <tr style=\"text-align: right;\">\n",
       "      <th></th>\n",
       "      <th>TCGA_tumor_highly_correlated</th>\n",
       "      <th>%lowly_correlated_in_TCGA_normal</th>\n",
       "      <th>%lowly_correlated_in_gtex</th>\n",
       "      <th>%highly_corelated_in_gtex</th>\n",
       "    </tr>\n",
       "  </thead>\n",
       "  <tbody>\n",
       "    <tr>\n",
       "      <th>ITGB2</th>\n",
       "      <td>595</td>\n",
       "      <td>4.033613(24)</td>\n",
       "      <td>1.848739(11)</td>\n",
       "      <td>30.588235(182)</td>\n",
       "    </tr>\n",
       "  </tbody>\n",
       "</table>"
      ],
      "text/plain": [
       "<IPython.core.display.HTML object>"
      ]
     },
     "metadata": {},
     "output_type": "display_data"
    }
   ],
   "source": [
    "#just putting the same functions as above in this cell so there's not too many input variables. creating table 4\n",
    "#below helper functions (i.e. all except the last one) have some modifications and only apply to table 4\n",
    "#helper functions also appear above in jp notebook so don't touch those\n",
    "def cutoff_applied_totcga_2_high_low(interest_gene,correlation_method,correlation_cutoff,opposing_corr_cutoff,gtex_dataset,other_dataset,first_dataset_name):\n",
    "#make sure to preprocess dataset\n",
    "#dictionary only takes unique values, careful about this\n",
    "    gtex_dataset=correlation_selected_gene(gtex_dataset,interest_gene,correlation_method)\n",
    "    dataset2=correlation_selected_gene(other_dataset,interest_gene,correlation_method)\n",
    "    dataset2 = dataset2[dataset2>=correlation_cutoff]\n",
    "    common_gene_list= gtex_dataset.index.intersection(dataset2.index)\n",
    "    global new_dataset    \n",
    "    new_dataset = pd.concat([gtex_dataset[common_gene_list],dataset2[common_gene_list]],axis=1)\n",
    "#    first_dataset_name = 'gtex_all'\n",
    "    other_dataset_name='tcga_primtum_all_cutoffmet'\n",
    "    new_dataset.columns=[first_dataset_name,other_dataset_name]\n",
    "    print(\"1st: high cutoff applied to tcga dataset\\n2nd: common genes identified with gtex dataset\\n3rd: both datasets combined\\n4th: low cutoff applied to gtex dataset\")\n",
    "\n",
    "    new_dataset = new_dataset[new_dataset[first_dataset_name]<=opposing_corr_cutoff]\n",
    "    dict_pd_df = pd.DataFrame(data=[[new_dataset.shape[0],new_dataset.shape[0]]],\n",
    "                             index=[f'corr_with_{interest_gene}_both_same_genes'],\n",
    "                             columns=[first_dataset_name,other_dataset_name])\n",
    "    return dict_pd_df\n",
    "def cutoff_applied_totcga_2_high_both(interest_gene,correlation_method,correlation_cutoff,gtex_dataset,other_dataset):\n",
    "#make sure to preprocess dataset\n",
    "#dictionary only takes unique values, careful about this\n",
    "    gtex_dataset=correlation_selected_gene(gtex_dataset,interest_gene,correlation_method)\n",
    "    dataset2=correlation_selected_gene(other_dataset,interest_gene,correlation_method)\n",
    "    dataset2 = dataset2[dataset2>=correlation_cutoff]\n",
    "    common_gene_list= gtex_dataset.index.intersection(dataset2.index)\n",
    "    global new_dataset    \n",
    "    new_dataset = pd.concat([gtex_dataset[common_gene_list],dataset2[common_gene_list]],axis=1)\n",
    "    first_dataset_name = 'gtex_all'\n",
    "    other_dataset_name='tcga_primtum_all_cutoffmet'\n",
    "    new_dataset.columns=[first_dataset_name,other_dataset_name]\n",
    "    print(\"1st: high cutoff applied to tcga dataset\\n2nd: common genes identified with gtex dataset\\n3rd: both datasets combined\\n4th: High cutoff applied to gtex dataset\")\n",
    "\n",
    "    new_dataset = new_dataset[new_dataset[first_dataset_name]>=correlation_cutoff]\n",
    "    dict_pd_df = pd.DataFrame(data=[[new_dataset.shape[0],new_dataset.shape[0]]],\n",
    "                             index=[f'high_corr_with_{interest_gene}_both_same_genes'],\n",
    "                             columns=[first_dataset_name,other_dataset_name])\n",
    "    return dict_pd_df\n",
    "def count_high_corr_genes_no_overlap(interest_gene,correlation_method,correlation_cutoff,dataset_name,*processed_datasets):\n",
    "#make sure to preprocess dataset\n",
    "#dictionary only takes unique values, careful about this\n",
    "    print('no overlap between datasets')\n",
    "    dict_empty={}\n",
    "    j=0\n",
    "    for dataset in processed_datasets:\n",
    "        dataset=correlation_selected_gene(dataset,interest_gene,correlation_method)\n",
    "        dict_empty[dataset_name]=dataset[dataset>=correlation_cutoff].shape[0]\n",
    "        \n",
    "        j+=1\n",
    "    \n",
    "    dict_pd_df = pd.DataFrame(dict_empty,index=[f'HIGHLY_correlated_with_{interest_gene}'])\n",
    "    #return display(HTML(dict_pd_df.to_html()))\n",
    "    return dict_pd_df\n",
    "\n",
    "\n",
    "#table 4\n",
    "integrins_list=['ITGA7','ITGB8','ITGB6','ITGA10','ITGA6','ITGA4','ITGAV','ITGA9','ITGB5','ITGA1','ITGA2','ITGA8',\n",
    "'ITGB1','ITGB7','ITGA5','ITGBL1','ITGA11','ITGAL','ITGAM','ITGAX','ITGAD','ITGAE','ITGA2B','ITGB3','ITGA3',\n",
    "                'ITGB4','ITGB2']\n",
    "\n",
    "correlation_method ='pearson'\n",
    "gtex_gct_dataset = './gene_tpm_2017-06-05_v8_prostate.gct'\n",
    "correlation_cutoff = 0.6\n",
    "tcga_hiseq_dataset = 'TCGA.PRAD.sampleMap_HiSeqV2' \n",
    "tcga_hiseq_corresponding_sample_info = '/home/hshadman/integrins_expression/saghar_TCGA_Breast/TCGAXena/TCGA.PRAD.sampleMap/PRAD_clinicalMatrix'\n",
    "opposing_corr_cutoff = 0.1\n",
    "\n",
    "for interest_gene in integrins_list:\n",
    "    organize_tcga_gtex_table4(interest_gene,correlation_method, correlation_cutoff,opposing_corr_cutoff,gtex_gct_dataset,\n",
    "                             tcga_hiseq_dataset,tcga_hiseq_corresponding_sample_info)\n",
    "\n",
    "\n"
   ]
  },
  {
   "cell_type": "code",
   "execution_count": null,
   "metadata": {},
   "outputs": [],
   "source": []
  }
 ],
 "metadata": {
  "kernelspec": {
   "display_name": "Python 3",
   "language": "python",
   "name": "python3"
  },
  "language_info": {
   "codemirror_mode": {
    "name": "ipython",
    "version": 3
   },
   "file_extension": ".py",
   "mimetype": "text/x-python",
   "name": "python",
   "nbconvert_exporter": "python",
   "pygments_lexer": "ipython3",
   "version": "3.7.0"
  }
 },
 "nbformat": 4,
 "nbformat_minor": 2
}
