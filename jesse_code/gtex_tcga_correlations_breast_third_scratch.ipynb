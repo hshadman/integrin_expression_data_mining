{
 "cells": [
  {
   "cell_type": "code",
   "execution_count": 1,
   "metadata": {},
   "outputs": [],
   "source": [
    "import matplotlib.pyplot as plt\n",
    "import numpy as np\n",
    "import matplotlib.pyplot as plt\n",
    "import numpy as np\n",
    "import pandas as pd\n",
    "import sys\n",
    "from os import system\n",
    "from IPython.display import clear_output\n",
    "from scipy.stats import pearsonr\n",
    "from scipy.stats import spearmanr\n",
    "import phik \n",
    "import seaborn as sns\n",
    "from phik import resources, report\n",
    "from phik.report import plot_correlation_matrix\n",
    "from itertools import combinations\n",
    "import random\n",
    "from tabulate import tabulate\n",
    "from IPython.display import display, HTML"
   ]
  },
  {
   "cell_type": "markdown",
   "metadata": {},
   "source": [
    "# load functions \n",
    "# load the datasets, set cutoff values, correlation method (these are done individually so the system saves them globallly)"
   ]
  },
  {
   "cell_type": "code",
   "execution_count": 2,
   "metadata": {},
   "outputs": [],
   "source": [
    "gtex_gct_dataset = 'gene_tpm_2017-06-05_v8_breast_mammary_tissue.gct_2'\n",
    "correlation_method ='pearson'\n",
    "interest_gene='ITGA2'\n",
    "correlation_cutoff = 0.6\n",
    "tcga_hiseq_dataset = '/home/hshadman/integrins_expression/saghar_TCGA_Breast/TCGA_BRCA_HiSeqV2' \n",
    "tcga_hiseq_corresponding_sample_info = '/home/hshadman/integrins_expression/saghar_TCGA_Breast/TCGA.BRCA.sampleMap_BRCA_clinicalMatrix'\n",
    "opposing_corr_cutoff = 0.1\n"
   ]
  },
  {
   "cell_type": "code",
   "execution_count": 3,
   "metadata": {},
   "outputs": [],
   "source": [
    "#functions for data processing\n",
    "def gtex_data_processing(gtex_gct_dataset):\n",
    "    unwanted_integrins = ['ITGB3BP','ITGB1BP1','ITGB5-AS1','ITGA9-AS1','ITGB1P1','ITGB2-AS1', 'ITGB1BP2','ITGB1BP3']\n",
    "    gtex_breast_data_all=pd.read_csv(gtex_gct_dataset,sep='\\t')\n",
    "    gtex_breast_data_all=gtex_breast_data_all.T.copy()\n",
    "    gtex_breast_data_all.columns=gtex_breast_data_all.iloc[2]\n",
    "    df_int=gtex_breast_data_all.loc[(gtex_breast_data_all.index!='id')&(gtex_breast_data_all.index!='Name')&(gtex_breast_data_all.index!='Description')].astype('float').copy()\n",
    "    #drop unwanted integrins    \n",
    "    df_int=df_int.drop([undesired_integrin for undesired_integrin in df_int.columns if undesired_integrin in unwanted_integrins],axis=1)\n",
    "    #drop duplicate gene names (if any) \n",
    "    df_int=df_int.loc[:,~df_int.columns.duplicated()]    \n",
    "    return df_int\n",
    "\n",
    "def tcga_data_processing(tcga_hiseq_dataset,tcga_hiseq_corresponding_sample_info):\n",
    "    global tcga_brca_df, tcga_brca_sample_info\n",
    "    unwanted_integrins = ['ITGB3BP','ITGB1BP1','ITGB5-AS1','ITGA9-AS1','ITGB1P1','ITGB2-AS1', 'ITGB1BP2','ITGB1BP3']    \n",
    "    tcga_brca_df = pd.read_csv(tcga_hiseq_dataset, sep = '\\t', index_col=0)\n",
    "    #drop unwanted integrins    \n",
    "    tcga_brca_df=tcga_brca_df.loc[~tcga_brca_df.index.isin(unwanted_integrins)]\n",
    "    #drop duplicate gene names (if any)\n",
    "    tcga_brca_df=tcga_brca_df.loc[~tcga_brca_df.index.duplicated()]    \n",
    "    tcga_brca_sample_info = pd.read_csv(tcga_hiseq_corresponding_sample_info,sep=\"\\t\",index_col=0)\n",
    "    #drop metastatic from main sample type data frame\n",
    "    tcga_brca_sample_info = tcga_brca_sample_info[~(tcga_brca_sample_info.sample_type=='Metastatic')]\n",
    "\n",
    "    #separate normal and primtum\n",
    "    tcga_brca_normal_patients = tcga_brca_sample_info[tcga_brca_sample_info.sample_type=='Solid Tissue Normal']\n",
    "    tcga_brca_primtum_patients = tcga_brca_sample_info[tcga_brca_sample_info.sample_type=='Primary Tumor']\n",
    "\n",
    "    #drop index of samples not in tcga_brca_df\n",
    "    tcga_brca_normal_patients=  tcga_brca_normal_patients.drop(non_match for non_match in tcga_brca_normal_patients.index.values if non_match not in tcga_brca_df.columns)\n",
    "    tcga_brca_primtum_patients =tcga_brca_primtum_patients.drop(non_match for non_match in tcga_brca_primtum_patients.index.values if non_match not in tcga_brca_df.columns) \n",
    "\n",
    "    #make sure both normal and tumor patients match, and drop patients not in tcga_brca_df\n",
    "    matched_patient_index_list=[]\n",
    "    for patient in tcga_brca_primtum_patients.patient_id.values:\n",
    "        if patient in tcga_brca_normal_patients.patient_id.values and patient in [patient_id.split('-')[2] for patient_id in tcga_brca_df.columns]:\n",
    "            matched_patient_index_list.append(tcga_brca_sample_info[tcga_brca_sample_info.patient_id==patient].index.values)\n",
    "    matched_patient_list=tcga_brca_sample_info.loc[[x for l in matched_patient_index_list for x in l]].copy()\n",
    "\n",
    "\n",
    "    #separate normal and primary tumor\n",
    "    normal_matched_patient_list=matched_patient_list[matched_patient_list.sample_type=='Solid Tissue Normal']\n",
    "    primtum_matched_patient_list = matched_patient_list[matched_patient_list.sample_type=='Primary Tumor']\n",
    "\n",
    "    #matched normal and primary tumor samples\n",
    "    tcga_brca_df_normal_matched=tcga_brca_df[tcga_brca_df.columns[tcga_brca_df.columns.isin(normal_matched_patient_list.index.values)]]\n",
    "    tcga_brca_df_primtum_matched=tcga_brca_df[tcga_brca_df.columns[tcga_brca_df.columns.isin(primtum_matched_patient_list.index.values)]]\n",
    "\n",
    "    #test to see if normal and primary tumor patient IDs are a match\n",
    "    for i in [patient_id.split('-')[2] for patient_id in tcga_brca_df_normal_matched.columns]:\n",
    "        if i not in [patient_id.split('-')[2] for patient_id in tcga_brca_df_primtum_matched.columns]:\n",
    "            print('trouble')\n",
    "            \n",
    "    #TCGA brca normal ALL\n",
    "    tcga_brca_df_normal_all = tcga_brca_df.T.loc[tcga_brca_normal_patients.index.values].copy()\n",
    "    # dataframe with all TCGA primary tumor samples (not necessarily matched)\n",
    "    tcga_brca_df_primtum_all= tcga_brca_df.T.loc[tcga_brca_primtum_patients.index.values].copy()\n",
    "    \n",
    "    return {'tcga_brca_df_normal_matched':tcga_brca_df_normal_matched,\n",
    "           'tcga_brca_df_primtum_matched':tcga_brca_df_primtum_matched,\n",
    "           'tcga_brca_df_normal_all':tcga_brca_df_normal_all,\n",
    "           'tcga_brca_df_primtum_all':tcga_brca_df_primtum_all}\n",
    "\n",
    "def correlation_selected_gene(provided_dataset,interest_gene,correlation_method):\n",
    "    dataset_corr = provided_dataset.corrwith(provided_dataset[interest_gene],method=correlation_method).drop(interest_gene)\n",
    "    dataset_corr = dataset_corr.dropna(axis=0,how='any')\n",
    "    idx = dataset_corr.index.drop_duplicates(keep=False)\n",
    "    dataset_corr = dataset_corr.loc[idx]\n",
    "    return dataset_corr\n",
    "def pairwise_pearson_correlation(provided_dataset):\n",
    "    #columns have to be variables and rows have to be observations\n",
    "    pairwise_corr=pd.DataFrame(np.corrcoef(provided_dataset,rowvar=False),\n",
    "                               columns=provided_dataset.columns,index=provided_dataset.columns)\n",
    "\n"
   ]
  },
  {
   "cell_type": "code",
   "execution_count": 4,
   "metadata": {},
   "outputs": [],
   "source": [
    "#functions for counting\n",
    "def count_genes_3_no_overlap(interest_gene,correlation_method,gtex_dataset,dataset2,dataset3):\n",
    "#make sure to preprocess dataset\n",
    "#dictionary only takes unique values, careful about this\n",
    "    print('no overlap between datasets')\n",
    "    dict_empty={}\n",
    "    first_dataset_name = 'gtex_all'\n",
    "    second_dataset_name= 'tcga_normal_all'\n",
    "    third_dataset_name= 'tcga_primtum_all'\n",
    "    names = [first_dataset_name,second_dataset_name,third_dataset_name]\n",
    "    j=0\n",
    "    for dataset in [gtex_dataset,dataset2,dataset3]:\n",
    "        dataset=correlation_selected_gene(dataset,interest_gene,correlation_method)\n",
    "        dict_empty[names[j]]=dataset.shape[0]\n",
    "        j+=1\n",
    "    dict_pd_df = pd.DataFrame(dict_empty,index=[f'corr_with_{interest_gene}'])\n",
    "    return display(HTML(dict_pd_df.to_html()))    \n",
    "def count_genes_same_3(interest_gene,correlation_method,gtex_dataset,dataset2,dataset3):\n",
    "#make sure to preprocess dataset\n",
    "#dictionary only takes unique values, careful about this\n",
    "    gtex_dataset=correlation_selected_gene(gtex_dataset,interest_gene,correlation_method)\n",
    "    dataset2=correlation_selected_gene(dataset2,interest_gene,correlation_method)\n",
    "    dataset3=correlation_selected_gene(dataset3,interest_gene,correlation_method)\n",
    "    common_gene_list= gtex_dataset.index.intersection(dataset2.index).intersection(dataset3.index)\n",
    "    global new_dataset\n",
    "    new_dataset = pd.concat([gtex_dataset[common_gene_list],\n",
    "                             dataset2[common_gene_list],\n",
    "                             dataset3[common_gene_list]],axis=1)\n",
    "    first_dataset_name = 'gtex_all'\n",
    "    second_dataset_name= 'tcga_normal_all'\n",
    "    third_dataset_name= 'tcga_primtum_all'\n",
    "    new_dataset.columns=[first_dataset_name,second_dataset_name,third_dataset_name]\n",
    "    print(\"1st: common genes identified for all 3 datasets\\n2nd: they were counted\")\n",
    "    dict_pd_df = pd.DataFrame(data=[[new_dataset.shape[0],new_dataset.shape[0],new_dataset.shape[0]]],\n",
    "                             index=[f'corr_with_{interest_gene}_all_same_genes'],\n",
    "                             columns=[first_dataset_name,second_dataset_name,third_dataset_name])\n",
    "    return display(HTML(dict_pd_df.to_html()))\n",
    "def count_high_corr_genes_no_overlap(interest_gene,correlation_method,correlation_cutoff,*processed_datasets):\n",
    "#make sure to preprocess dataset\n",
    "#dictionary only takes unique values, careful about this\n",
    "    print('no overlap between datasets')\n",
    "    dict_empty={}\n",
    "    j=0\n",
    "    for dataset in processed_datasets:\n",
    "        dataset=correlation_selected_gene(dataset,interest_gene,correlation_method)\n",
    "        dict_empty[input(f'insert name for {j+1}th dataset')]=dataset[dataset>=correlation_cutoff].shape[0]\n",
    "        \n",
    "        j+=1\n",
    "    \n",
    "    dict_pd_df = pd.DataFrame(dict_empty,index=[f'HIGHLY_correlated_with_{interest_gene}'])\n",
    "    #return display(HTML(dict_pd_df.to_html()))\n",
    "    return dict_pd_df\n",
    "def cutoff_applied_togtex_2_high_both(interest_gene,correlation_method,correlation_cutoff,gtex_dataset,other_dataset):\n",
    "#make sure to preprocess dataset\n",
    "#dictionary only takes unique values, careful about this\n",
    "    gtex_dataset=correlation_selected_gene(gtex_dataset,interest_gene,correlation_method)\n",
    "    gtex_dataset = gtex_dataset[gtex_dataset>=correlation_cutoff]\n",
    "    dataset2=correlation_selected_gene(other_dataset,interest_gene,correlation_method)\n",
    "    common_gene_list= gtex_dataset.index.intersection(dataset2.index)\n",
    "    global new_dataset    \n",
    "    new_dataset = pd.concat([gtex_dataset[common_gene_list],dataset2[common_gene_list]],axis=1)\n",
    "    first_dataset_name = 'gtex_cutoffmet'\n",
    "    other_dataset_name=input('insert name for other dataset')\n",
    "    new_dataset.columns=[first_dataset_name,other_dataset_name]\n",
    "    print(\"1st: high cutoff applied to gtex dataset\\n2nd: common genes identified with other dataset\\n3rd: both datasets combined\\n4th: High cutoff applied to non-gtex dataset\")\n",
    "    \n",
    "    new_dataset = new_dataset[new_dataset[other_dataset_name]>=correlation_cutoff]\n",
    "    dict_pd_df = pd.DataFrame(data=[[new_dataset.shape[0],new_dataset.shape[0]]],\n",
    "                             index=[f'high_corr_with_{interest_gene}_both_same_genes'],\n",
    "                             columns=[first_dataset_name,other_dataset_name])\n",
    "    return dict_pd_df\n",
    "def cutoff_applied_togtex_2_high_low(interest_gene,correlation_method,correlation_cutoff,opposing_corr_cutoff,gtex_dataset,other_dataset):\n",
    "#make sure to preprocess dataset\n",
    "#dictionary only takes unique values, careful about this\n",
    "    gtex_dataset=correlation_selected_gene(gtex_dataset,interest_gene,correlation_method)\n",
    "    gtex_dataset = gtex_dataset[gtex_dataset>=correlation_cutoff]\n",
    "    dataset2=correlation_selected_gene(other_dataset,interest_gene,correlation_method)\n",
    "    common_gene_list= gtex_dataset.index.intersection(dataset2.index)\n",
    "    global new_dataset    \n",
    "    new_dataset = pd.concat([gtex_dataset[common_gene_list],dataset2[common_gene_list]],axis=1)\n",
    "    first_dataset_name = 'gtex_cutoffmet'\n",
    "    other_dataset_name=input('insert name for other dataset')\n",
    "    new_dataset.columns=[first_dataset_name,other_dataset_name]\n",
    "    print(\"1st: high cutoff applied to gtex dataset\\n2nd: common genes identified with other dataset\\n3rd: both datasets combined\\n4th: low cutoff applied to non-gtex dataset\")\n",
    "    \n",
    "    new_dataset = new_dataset[new_dataset[other_dataset_name]<=opposing_corr_cutoff]\n",
    "    dict_pd_df = pd.DataFrame(data=[[new_dataset.shape[0],new_dataset.shape[0]]],\n",
    "                             index=[f'corr_with_{interest_gene}_highgtex_low_other'],\n",
    "                             columns=[first_dataset_name,other_dataset_name])\n",
    "    return dict_pd_df\n",
    "def cutoff_applied_totcga_2_high_both(interest_gene,correlation_method,correlation_cutoff,gtex_dataset,other_dataset):\n",
    "#make sure to preprocess dataset\n",
    "#dictionary only takes unique values, careful about this\n",
    "    gtex_dataset=correlation_selected_gene(gtex_dataset,interest_gene,correlation_method)\n",
    "    dataset2=correlation_selected_gene(other_dataset,interest_gene,correlation_method)\n",
    "    dataset2 = dataset2[dataset2>=correlation_cutoff]\n",
    "    common_gene_list= gtex_dataset.index.intersection(dataset2.index)\n",
    "    global new_dataset    \n",
    "    new_dataset = pd.concat([gtex_dataset[common_gene_list],dataset2[common_gene_list]],axis=1)\n",
    "    first_dataset_name = 'gtex_all'\n",
    "    other_dataset_name='tcga_primtum_all_cutoffmet'\n",
    "    new_dataset.columns=[first_dataset_name,other_dataset_name]\n",
    "    print(\"1st: high cutoff applied to tcga dataset\\n2nd: common genes identified with gtex dataset\\n3rd: both datasets combined\\n4th: High cutoff applied to gtex dataset\")\n",
    "\n",
    "    new_dataset = new_dataset[new_dataset[first_dataset_name]>=correlation_cutoff]\n",
    "    dict_pd_df = pd.DataFrame(data=[[new_dataset.shape[0],new_dataset.shape[0]]],\n",
    "                             index=[f'high_corr_with_{interest_gene}_both_same_genes'],\n",
    "                             columns=[first_dataset_name,other_dataset_name])\n",
    "    return display(HTML(dict_pd_df.to_html()))\n",
    "def cutoff_applied_totcga_2_high_low(interest_gene,correlation_method,correlation_cutoff,opposing_corr_cutoff,gtex_dataset,other_dataset):\n",
    "#make sure to preprocess dataset\n",
    "#dictionary only takes unique values, careful about this\n",
    "    gtex_dataset=correlation_selected_gene(gtex_dataset,interest_gene,correlation_method)\n",
    "    dataset2=correlation_selected_gene(other_dataset,interest_gene,correlation_method)\n",
    "    dataset2 = dataset2[dataset2>=correlation_cutoff]\n",
    "    common_gene_list= gtex_dataset.index.intersection(dataset2.index)\n",
    "    global new_dataset    \n",
    "    new_dataset = pd.concat([gtex_dataset[common_gene_list],dataset2[common_gene_list]],axis=1)\n",
    "    first_dataset_name = 'gtex_all'\n",
    "    other_dataset_name='tcga_primtum_all_cutoffmet'\n",
    "    new_dataset.columns=[first_dataset_name,other_dataset_name]\n",
    "    print(\"1st: high cutoff applied to tcga dataset\\n2nd: common genes identified with gtex dataset\\n3rd: both datasets combined\\n4th: low cutoff applied to gtex dataset\")\n",
    "\n",
    "    new_dataset = new_dataset[new_dataset[first_dataset_name]<=opposing_corr_cutoff]\n",
    "    dict_pd_df = pd.DataFrame(data=[[new_dataset.shape[0],new_dataset.shape[0]]],\n",
    "                             index=[f'corr_with_{interest_gene}_both_same_genes'],\n",
    "                             columns=[first_dataset_name,other_dataset_name])\n",
    "    return display(HTML(dict_pd_df.to_html()))\n",
    "\n",
    "def cutoff_applied_togtex_3_high_all(interest_gene,correlation_method,correlation_cutoff,gtex_dataset,other_dataset,\n",
    "                                    dataset3):\n",
    "#dataset3 MUST BE tcga primtum all\n",
    "#make sure to preprocess dataset\n",
    "#dictionary only takes unique values, careful about this\n",
    "    gtex_dataset=correlation_selected_gene(gtex_dataset,interest_gene,correlation_method)\n",
    "    gtex_dataset = gtex_dataset[gtex_dataset>=correlation_cutoff]\n",
    "    dataset2=correlation_selected_gene(other_dataset,interest_gene,correlation_method)\n",
    "    dataset3=correlation_selected_gene(dataset3,interest_gene,correlation_method)\n",
    "    common_gene_list= (gtex_dataset.index.intersection(dataset2.index)).intersection(dataset3.index)\n",
    "    global new_dataset    \n",
    "    new_dataset = pd.concat([gtex_dataset[common_gene_list],\n",
    "                             dataset2[common_gene_list],\n",
    "                            dataset3[common_gene_list]],axis=1)\n",
    "    first_dataset_name = 'gtex_cutoffmet'\n",
    "    other_dataset_name='tcga_normal_all'\n",
    "    dataset3_name = 'tcga_primtum_all'\n",
    "    new_dataset.columns=[first_dataset_name,other_dataset_name,dataset3_name]\n",
    "    print(\"1st: high cutoff applied to gtex dataset\\n2nd: common genes identified with other datasets\\n3rd: all datasets combined\\n4th: High cutoff applied to non-gtex datasets\")\n",
    "    \n",
    "    new_dataset = new_dataset[(new_dataset[other_dataset_name]>=correlation_cutoff) & (new_dataset[dataset3_name]>=correlation_cutoff)]\n",
    "    dict_pd_df = pd.DataFrame(data=[[new_dataset.shape[0],new_dataset.shape[0],new_dataset.shape[0]]],\n",
    "                             index=[f'high_corr_with_{interest_gene}_all_same_genes'],\n",
    "                             columns=[first_dataset_name,other_dataset_name,dataset3_name])\n",
    "    return dict_pd_df\n",
    "\n"
   ]
  },
  {
   "cell_type": "code",
   "execution_count": 5,
   "metadata": {},
   "outputs": [],
   "source": [
    "#organize as a table (original way -- before Jesse finalized the presentation but i used this for table 2)\n",
    "# careful of the #ered data (e.g. #3 is #3 in both functions but presentation might be different)\n",
    "def make_data_presentable(interest_gene,correlation_method, correlation_cutoff,opposing_corr_cutoff,gtex_gct_dataset,\n",
    "                         tcga_hiseq_dataset,tcga_hiseq_corresponding_sample_info):\n",
    "    df_int=gtex_data_processing(gtex_gct_dataset)\n",
    "    tcga_data=tcga_data_processing(tcga_hiseq_dataset,tcga_hiseq_corresponding_sample_info)\n",
    "    tcga_brca_df_normal_all=tcga_data['tcga_brca_df_normal_all']\n",
    "    tcga_brca_df_primtum_all=tcga_data['tcga_brca_df_primtum_all']\n",
    "    #1\n",
    "    count_genes_3_no_overlap(interest_gene,correlation_method,df_int,tcga_brca_df_normal_all,tcga_brca_df_primtum_all)\n",
    "    #2\n",
    "    count_genes_same_3(interest_gene,correlation_method,df_int,tcga_brca_df_normal_all,tcga_brca_df_primtum_all)\n",
    "    #3\n",
    "    print('for 1th dataset ENTER: gtex_all')\n",
    "    print('for 2th dataset ENTER: tcga_normal_all')\n",
    "    count_high_corr_genes_no_overlap(interest_gene,correlation_method,correlation_cutoff,df_int,tcga_brca_df_normal_all)\n",
    "    #4\n",
    "    #print('for 1th dataset ENTER: gtex_all')\n",
    "    #print('for 2th dataset ENTER: tcga_normal_all')    \n",
    "    #4 is not very meaningful\n",
    "    #count_high_corr_genes_with_overlap(interest_gene,correlation_method,correlation_cutoff,df_int,tcga_brca_df_normal_all)\n",
    "    #5\n",
    "    print('for dataset ENTER: tcga_normal_all')    \n",
    "    cutoff_applied_togtex_2_high_both(interest_gene,correlation_method,correlation_cutoff,df_int,tcga_brca_df_normal_all)\n",
    "    #6\n",
    "    print('for dataset ENTER: tcga_normal_all')        \n",
    "    cutoff_applied_togtex_2_high_low(interest_gene,correlation_method,correlation_cutoff,opposing_corr_cutoff,df_int,tcga_brca_df_normal_all)\n",
    "    #7\n",
    "    print('for dataset ENTER: tcga_primtum_all')            \n",
    "    cutoff_applied_togtex_2_high_both(interest_gene,correlation_method,correlation_cutoff,df_int,tcga_brca_df_primtum_all)\n",
    "    #8\n",
    "    print('for dataset ENTER: tcga_primtum_all')                \n",
    "    cutoff_applied_togtex_2_high_low(interest_gene,correlation_method,correlation_cutoff,opposing_corr_cutoff,df_int,tcga_brca_df_primtum_all)\n",
    "    #9\n",
    "    cutoff_applied_totcga_2_high_both(interest_gene,correlation_method,correlation_cutoff,df_int,tcga_brca_df_primtum_all)\n",
    "    #10\n",
    "    cutoff_applied_totcga_2_high_low(interest_gene,correlation_method,correlation_cutoff,opposing_corr_cutoff,df_int,tcga_brca_df_primtum_all)\n",
    "    return"
   ]
  },
  {
   "cell_type": "code",
   "execution_count": 6,
   "metadata": {},
   "outputs": [],
   "source": [
    "#table 1\n",
    "def organize_gtex_tcga_table1(interest_gene,correlation_method, correlation_cutoff,opposing_corr_cutoff,gtex_gct_dataset,\n",
    "                         tcga_hiseq_dataset,tcga_hiseq_corresponding_sample_info):\n",
    "    df_int=gtex_data_processing(gtex_gct_dataset)\n",
    "    tcga_data=tcga_data_processing(tcga_hiseq_dataset,tcga_hiseq_corresponding_sample_info)\n",
    "    tcga_brca_df_normal_all=tcga_data['tcga_brca_df_normal_all']\n",
    "    tcga_brca_df_primtum_all=tcga_data['tcga_brca_df_primtum_all']\n",
    "    #3\n",
    "    print('for 1th dataset ENTER: gtex_all')\n",
    "    print('for 2th dataset ENTER: tcga_normal_all')\n",
    "    number_3=count_high_corr_genes_no_overlap(interest_gene,correlation_method,correlation_cutoff,df_int,tcga_brca_df_normal_all)\n",
    "    #4\n",
    "    #print('for 1th dataset ENTER: gtex_all')\n",
    "    #print('for 2th dataset ENTER: tcga_normal_all')    \n",
    "    #4 is not very meaningful\n",
    "    #count_high_corr_genes_with_overlap(interest_gene,correlation_method,correlation_cutoff,df_int,tcga_brca_df_normal_all)\n",
    "    #5\n",
    "    print('for dataset ENTER: tcga_normal_all')    \n",
    "    number_5=cutoff_applied_togtex_2_high_both(interest_gene,correlation_method,correlation_cutoff,df_int,tcga_brca_df_normal_all)\n",
    "    #7\n",
    "    print('for dataset ENTER: tcga_primtum_all')            \n",
    "    nnumber_7=cutoff_applied_togtex_2_high_both(interest_gene,correlation_method,correlation_cutoff,df_int,tcga_brca_df_primtum_all)\n",
    "    #10\n",
    "    number_10=cutoff_applied_togtex_3_high_all(interest_gene,correlation_method,correlation_cutoff,df_int,tcga_brca_df_normal_all,\n",
    "                                    tcga_brca_df_primtum_all)\n",
    "    first_column_name='Integrin' #index\n",
    "    second_column_name='GTEX_highly_correlated'\n",
    "    third_column_name='%also_highly_correlated_in_TCGA_normal'\n",
    "    fourth_column_name='%also_highly_correlated_in_TCGA_primtum'\n",
    "    fifth_column_name='%also_highly_correlated_in_all_three'\n",
    "    #ignoring first column name. setting index as integrin name (first column name)\n",
    "    dict_pd_df = pd.DataFrame(data=[[number_3.iloc[0,0],\n",
    "                                     str(format((number_5.iloc[0,0]/number_3.iloc[0,0])*100,'2f'))+f'({str(number_5.iloc[0,0])})',\n",
    "                                     str(format((nnumber_7.iloc[0,0]/number_3.iloc[0,0])*100,'2f'))+f'({str(nnumber_7.iloc[0,0])})',\n",
    "                                     str(format((number_10.iloc[0,0]/number_3.iloc[0,0])*100,'2f'))+f'({str(number_10.iloc[0,0])})',\n",
    "                                    ]],\n",
    "                              columns=[second_column_name,third_column_name,\n",
    "                                      fourth_column_name,fifth_column_name],\n",
    "                              index=[interest_gene])\n",
    "    return display(HTML(dict_pd_df.to_html()))\n",
    "\n",
    "def organize_gtex_tcga_table2(interest_gene,correlation_method, correlation_cutoff,opposing_corr_cutoff,gtex_gct_dataset,\n",
    "                         tcga_hiseq_dataset,tcga_hiseq_corresponding_sample_info):\n",
    "    df_int=gtex_data_processing(gtex_gct_dataset)\n",
    "    tcga_data=tcga_data_processing(tcga_hiseq_dataset,tcga_hiseq_corresponding_sample_info)\n",
    "    tcga_brca_df_normal_all=tcga_data['tcga_brca_df_normal_all']\n",
    "    tcga_brca_df_primtum_all=tcga_data['tcga_brca_df_primtum_all']\n",
    "    #3\n",
    "    print('for 1th dataset ENTER: gtex_all')\n",
    "    print('for 2th dataset ENTER: tcga_normal_all')\n",
    "    number_3=count_high_corr_genes_no_overlap(interest_gene,correlation_method,correlation_cutoff,df_int,tcga_brca_df_normal_all)\n",
    "    #4\n",
    "    #print('for 1th dataset ENTER: gtex_all')\n",
    "    #print('for 2th dataset ENTER: tcga_normal_all')    \n",
    "    #4 is not very meaningful\n",
    "    #count_high_corr_genes_with_overlap(interest_gene,correlation_method,correlation_cutoff,df_int,tcga_brca_df_normal_all)\n",
    "    #6\n",
    "    print('for dataset ENTER: tcga_normal_all')        \n",
    "    number_6=cutoff_applied_togtex_2_high_low(interest_gene,correlation_method,correlation_cutoff,opposing_corr_cutoff,df_int,tcga_brca_df_normal_all)\n",
    "    #8\n",
    "    print('for dataset ENTER: tcga_primtum_all')                \n",
    "    number_8=cutoff_applied_togtex_2_high_low(interest_gene,correlation_method,correlation_cutoff,opposing_corr_cutoff,df_int,tcga_brca_df_primtum_all)\n",
    "    first_column_name='Integrin' #index\n",
    "    second_column_name='GTEX_highly_correlated'\n",
    "    third_column_name='%lowly_correlated_in_TCGA_normal'\n",
    "    fourth_column_name='%lowly_correlated_in_TCGA_primtum'\n",
    "    #fifth_column_name='%also_highly_correlated_in_all_three'\n",
    "    #ignoring first column name. setting index as integrin name (first column name)\n",
    "    dict_pd_df = pd.DataFrame(data=[[number_3.iloc[0,0],\n",
    "                                     str(format((number_6.iloc[0,0]/number_3.iloc[0,0])*100,'2f'))+f'({str(number_6.iloc[0,0])})',\n",
    "                                     str(format((number_8.iloc[0,0]/number_3.iloc[0,0])*100,'2f'))+f'({str(number_8.iloc[0,0])})'\n",
    "                                    ]],\n",
    "                              columns=[second_column_name,third_column_name,\n",
    "                                      fourth_column_name],\n",
    "                              index=[interest_gene])\n",
    "    return display(HTML(dict_pd_df.to_html()))\n",
    "\n",
    "#table 3\n",
    "def organize_no_overlap_table3(interest_gene,correlation_method, correlation_cutoff,opposing_corr_cutoff,gtex_gct_dataset,\n",
    "                         tcga_hiseq_dataset,tcga_hiseq_corresponding_sample_info):\n",
    "    df_int=gtex_data_processing(gtex_gct_dataset)\n",
    "    tcga_data=tcga_data_processing(tcga_hiseq_dataset,tcga_hiseq_corresponding_sample_info)\n",
    "    tcga_brca_df_normal_all=tcga_data['tcga_brca_df_normal_all']\n",
    "    tcga_brca_df_primtum_all=tcga_data['tcga_brca_df_primtum_all']\n",
    "    \n",
    "    gtex_expression_mean = df_int[interest_gene].mean()\n",
    "    gtex_expression_stdev= df_int[interest_gene].std()\n",
    "    \n",
    "    #3\n",
    "    print('for 1th dataset ENTER: gtex_all')\n",
    "    print('for 2th dataset ENTER: tcga_normal_all')\n",
    "    number_3_tcga_normal=count_high_corr_genes_no_overlap(interest_gene,correlation_method,correlation_cutoff,df_int,tcga_brca_df_normal_all)\n",
    "    #3\n",
    "    print('for 1th dataset ENTER: gtex_all')\n",
    "    print('for 2th dataset ENTER: tcga_primtum_all')\n",
    "    number_3_tcga_primtum=count_high_corr_genes_no_overlap(interest_gene,correlation_method,correlation_cutoff,df_int,tcga_brca_df_primtum_all)\n",
    "    \n",
    "\n",
    "    first_column_name='Integrin' #index\n",
    "    second_column_name='GTEX_expression_mean_&_stdev'\n",
    "    third_column_name='GTEX_highly_correlated'\n",
    "    fourth_column_name='highly_correlated_in_TCGA_normal'\n",
    "    fifth_column_name='highly_corelated_in_TCGA_primtum'\n",
    "    #ignoring first column name. setting index as integrin name (first column name)\n",
    "    dict_pd_df = pd.DataFrame(data=[[f'{format(gtex_expression_mean,\"0.2f\")} + {format(gtex_expression_stdev,\"0.2f\")}',\n",
    "                                     str(number_3_tcga_normal.iloc[0,0]),\n",
    "                                     str(number_3_tcga_normal.iloc[0,1]),\n",
    "                                     str(number_3_tcga_primtum.iloc[0,1])]],\n",
    "                              columns=[second_column_name,third_column_name,\n",
    "                                      fourth_column_name,fifth_column_name],\n",
    "                              index=[interest_gene])\n",
    "    return display(HTML(dict_pd_df.to_html()))\n",
    "    \n",
    "    \n",
    "    \n"
   ]
  },
  {
   "cell_type": "code",
   "execution_count": 7,
   "metadata": {},
   "outputs": [],
   "source": [
    "#test\n",
    "df_int=gtex_data_processing(gtex_gct_dataset)\n",
    "tcga_data=tcga_data_processing(tcga_hiseq_dataset,tcga_hiseq_corresponding_sample_info)\n",
    "tcga_brca_df_normal_all=tcga_data['tcga_brca_df_normal_all']\n",
    "tcga_brca_df_primtum_all=tcga_data['tcga_brca_df_primtum_all']\n"
   ]
  },
  {
   "cell_type": "code",
   "execution_count": 8,
   "metadata": {},
   "outputs": [],
   "source": [
    "#test\n",
    "test_df_int=correlation_selected_gene(df_int,interest_gene,correlation_method)\n",
    "test_tcga_brca_df_normal_all=correlation_selected_gene(tcga_brca_df_normal_all,interest_gene,correlation_method)\n",
    "test_tcga_brca_df_primtum_all=correlation_selected_gene(tcga_brca_df_primtum_all,interest_gene,correlation_method)"
   ]
  },
  {
   "cell_type": "code",
   "execution_count": 9,
   "metadata": {},
   "outputs": [
    {
     "data": {
      "text/plain": [
       "Description\n",
       "PLEKHN1          0.737729\n",
       "AGRN             0.832636\n",
       "RP11-465B22.3    0.614809\n",
       "C1orf159         0.626508\n",
       "INTS11           0.667310\n",
       "                   ...   \n",
       "MTM1             0.617390\n",
       "MTMR1            0.785413\n",
       "ZNF185           0.803545\n",
       "BRCC3            0.616336\n",
       "RAB39B           0.667438\n",
       "Length: 4047, dtype: float64"
      ]
     },
     "execution_count": 9,
     "metadata": {},
     "output_type": "execute_result"
    }
   ],
   "source": [
    "test_df_int[test_df_int>=correlation_cutoff]"
   ]
  },
  {
   "cell_type": "code",
   "execution_count": null,
   "metadata": {},
   "outputs": [],
   "source": [
    "#dataset_corr = dataset_corr.dropna(axis=0,how='any')\n",
    "    #idx = dataset_corr.index.drop_duplicates(keep=False)\n",
    "    #dataset_corr = dataset_corr.loc[idx]"
   ]
  },
  {
   "cell_type": "markdown",
   "metadata": {},
   "source": [
    "# calculate pairwise correlation PEARSON\n"
   ]
  },
  {
   "cell_type": "code",
   "execution_count": 10,
   "metadata": {},
   "outputs": [
    {
     "ename": "MemoryError",
     "evalue": "Unable to allocate 22.2 GiB for an array with shape (54585, 54585) and data type float64",
     "output_type": "error",
     "traceback": [
      "\u001b[0;31m---------------------------------------------------------------------------\u001b[0m",
      "\u001b[0;31mMemoryError\u001b[0m                               Traceback (most recent call last)",
      "\u001b[0;32m<ipython-input-10-a1646c01bffa>\u001b[0m in \u001b[0;36m<module>\u001b[0;34m()\u001b[0m\n\u001b[1;32m      1\u001b[0m \u001b[0;31m#df_int is gtex dataframe. CAUTION multiple instances of dataframe variable in below codes per line\u001b[0m\u001b[0;34m\u001b[0m\u001b[0;34m\u001b[0m\u001b[0m\n\u001b[0;32m----> 2\u001b[0;31m gtex_pairwise_pearson_corr = pd.DataFrame(np.corrcoef(df_int,rowvar=False),\n\u001b[0m\u001b[1;32m      3\u001b[0m                                           columns=df_int.columns,index=df_int.columns)\n\u001b[1;32m      4\u001b[0m \u001b[0;31m#tcga_brca_df_normal_all is tcga normal dataframe\u001b[0m\u001b[0;34m\u001b[0m\u001b[0;34m\u001b[0m\u001b[0m\n\u001b[1;32m      5\u001b[0m tcga_normal_all_pearson_corr = pd.DataFrame(np.corrcoef(tcga_brca_df_normal_all,rowvar=False),\n",
      "\u001b[0;32m<__array_function__ internals>\u001b[0m in \u001b[0;36mcorrcoef\u001b[0;34m(*args, **kwargs)\u001b[0m\n",
      "\u001b[0;32m/public/apps/python/3.7.0/lib/python3.7/site-packages/numpy/lib/function_base.py\u001b[0m in \u001b[0;36mcorrcoef\u001b[0;34m(x, y, rowvar, bias, ddof)\u001b[0m\n\u001b[1;32m   2549\u001b[0m         warnings.warn('bias and ddof have no effect and are deprecated',\n\u001b[1;32m   2550\u001b[0m                       DeprecationWarning, stacklevel=3)\n\u001b[0;32m-> 2551\u001b[0;31m     \u001b[0mc\u001b[0m \u001b[0;34m=\u001b[0m \u001b[0mcov\u001b[0m\u001b[0;34m(\u001b[0m\u001b[0mx\u001b[0m\u001b[0;34m,\u001b[0m \u001b[0my\u001b[0m\u001b[0;34m,\u001b[0m \u001b[0mrowvar\u001b[0m\u001b[0;34m)\u001b[0m\u001b[0;34m\u001b[0m\u001b[0m\n\u001b[0m\u001b[1;32m   2552\u001b[0m     \u001b[0;32mtry\u001b[0m\u001b[0;34m:\u001b[0m\u001b[0;34m\u001b[0m\u001b[0m\n\u001b[1;32m   2553\u001b[0m         \u001b[0md\u001b[0m \u001b[0;34m=\u001b[0m \u001b[0mdiag\u001b[0m\u001b[0;34m(\u001b[0m\u001b[0mc\u001b[0m\u001b[0;34m)\u001b[0m\u001b[0;34m\u001b[0m\u001b[0m\n",
      "\u001b[0;32m<__array_function__ internals>\u001b[0m in \u001b[0;36mcov\u001b[0;34m(*args, **kwargs)\u001b[0m\n",
      "\u001b[0;32m/public/apps/python/3.7.0/lib/python3.7/site-packages/numpy/lib/function_base.py\u001b[0m in \u001b[0;36mcov\u001b[0;34m(m, y, rowvar, bias, ddof, fweights, aweights)\u001b[0m\n\u001b[1;32m   2477\u001b[0m     \u001b[0;32melse\u001b[0m\u001b[0;34m:\u001b[0m\u001b[0;34m\u001b[0m\u001b[0m\n\u001b[1;32m   2478\u001b[0m         \u001b[0mX_T\u001b[0m \u001b[0;34m=\u001b[0m \u001b[0;34m(\u001b[0m\u001b[0mX\u001b[0m\u001b[0;34m*\u001b[0m\u001b[0mw\u001b[0m\u001b[0;34m)\u001b[0m\u001b[0;34m.\u001b[0m\u001b[0mT\u001b[0m\u001b[0;34m\u001b[0m\u001b[0m\n\u001b[0;32m-> 2479\u001b[0;31m     \u001b[0mc\u001b[0m \u001b[0;34m=\u001b[0m \u001b[0mdot\u001b[0m\u001b[0;34m(\u001b[0m\u001b[0mX\u001b[0m\u001b[0;34m,\u001b[0m \u001b[0mX_T\u001b[0m\u001b[0;34m.\u001b[0m\u001b[0mconj\u001b[0m\u001b[0;34m(\u001b[0m\u001b[0;34m)\u001b[0m\u001b[0;34m)\u001b[0m\u001b[0;34m\u001b[0m\u001b[0m\n\u001b[0m\u001b[1;32m   2480\u001b[0m     \u001b[0mc\u001b[0m \u001b[0;34m*=\u001b[0m \u001b[0mnp\u001b[0m\u001b[0;34m.\u001b[0m\u001b[0mtrue_divide\u001b[0m\u001b[0;34m(\u001b[0m\u001b[0;36m1\u001b[0m\u001b[0;34m,\u001b[0m \u001b[0mfact\u001b[0m\u001b[0;34m)\u001b[0m\u001b[0;34m\u001b[0m\u001b[0m\n\u001b[1;32m   2481\u001b[0m     \u001b[0;32mreturn\u001b[0m \u001b[0mc\u001b[0m\u001b[0;34m.\u001b[0m\u001b[0msqueeze\u001b[0m\u001b[0;34m(\u001b[0m\u001b[0;34m)\u001b[0m\u001b[0;34m\u001b[0m\u001b[0m\n",
      "\u001b[0;32m<__array_function__ internals>\u001b[0m in \u001b[0;36mdot\u001b[0;34m(*args, **kwargs)\u001b[0m\n",
      "\u001b[0;31mMemoryError\u001b[0m: Unable to allocate 22.2 GiB for an array with shape (54585, 54585) and data type float64"
     ]
    }
   ],
   "source": [
    "#df_int is gtex dataframe. CAUTION multiple instances of dataframe variable in below codes per line\n",
    "gtex_pairwise_pearson_corr = pd.DataFrame(np.corrcoef(df_int,rowvar=False),\n",
    "                                          columns=df_int.columns,index=df_int.columns)\n",
    "#tcga_brca_df_normal_all is tcga normal dataframe\n",
    "tcga_normal_all_pearson_corr = pd.DataFrame(np.corrcoef(tcga_brca_df_normal_all,rowvar=False),\n",
    "                                          columns=tcga_brca_df_normal_all.columns,index=tcga_brca_df_normal_all.columns)\n",
    "#tcga_brca_df_primtum_all is tcga tumor dataframe\n",
    "\n",
    "tcga_primtum_all_pearson_corr = pd.DataFrame(np.corrcoef(tcga_brca_df_primtum_all,rowvar=False),\n",
    "                                          columns=tcga_brca_df_primtum_all.columns,index=tcga_brca_df_primtum_all.columns)\n",
    "\n",
    "\n"
   ]
  },
  {
   "cell_type": "code",
   "execution_count": 10,
   "metadata": {},
   "outputs": [
    {
     "name": "stderr",
     "output_type": "stream",
     "text": [
      "/public/apps/python/3.7.0/lib/python3.7/site-packages/numpy/lib/function_base.py:2559: RuntimeWarning: invalid value encountered in true_divide\n",
      "  c /= stddev[:, None]\n",
      "/public/apps/python/3.7.0/lib/python3.7/site-packages/numpy/lib/function_base.py:2560: RuntimeWarning: invalid value encountered in true_divide\n",
      "  c /= stddev[None, :]\n"
     ]
    }
   ],
   "source": [
    "#df_int is gtex dataframe. CAUTION multiple instances of dataframe variable in below codes per line\n",
    "gtex_pairwise_pearson_corr = np.corrcoef(df_int,rowvar=False)\n",
    "                                          \n",
    "#tcga_brca_df_normal_all is tcga normal dataframe\n",
    "tcga_normal_all_pearson_corr = np.corrcoef(tcga_brca_df_normal_all,rowvar=False)\n",
    "#tcga_brca_df_primtum_all is tcga tumor dataframe\n",
    "\n",
    "tcga_primtum_all_pearson_corr = np.corrcoef(tcga_brca_df_primtum_all,rowvar=False)\n",
    "                                          \n",
    "\n",
    "\n"
   ]
  },
  {
   "cell_type": "code",
   "execution_count": 36,
   "metadata": {},
   "outputs": [],
   "source": [
    "list_gtex_corr=[]\n",
    "list_gtex_oppcorr=[]\n",
    "list_tcga_normal_all_corr=[]\n",
    "list_tcga_normal_all_oppcorr=[]\n",
    "list_tcga_primtum_all_corr=[]\n",
    "list_tcga_primtum_all_oppcorr=[]\n",
    "\n",
    "\n",
    "for col in np.arange(0,gtex_pairwise_pearson_corr.shape[1]):\n",
    "    list_gtex_corr.append((gtex_pairwise_pearson_corr[:,col]>=correlation_cutoff).sum())\n",
    "    list_gtex_oppcorr.append((gtex_pairwise_pearson_corr[:,col]<=opposing_corr_cutoff).sum())\n",
    "\n",
    "\n",
    "for col in np.arange(0,tcga_normal_all_pearson_corr.shape[1]):\n",
    "    list_tcga_normal_all_corr.append((tcga_normal_all_pearson_corr[:,col]>=correlation_cutoff).sum())\n",
    "    list_tcga_normal_all_oppcorr.append((tcga_normal_all_pearson_corr[:,col]<=opposing_corr_cutoff).sum())\n",
    "    \n",
    "for col in np.arange(0,tcga_primtum_all_pearson_corr.shape[1]):\n",
    "    list_tcga_primtum_all_corr.append((tcga_primtum_all_pearson_corr[:,col]>=correlation_cutoff).sum())\n",
    "    list_tcga_primtum_all_oppcorr.append((tcga_primtum_all_pearson_corr[:,col]<=opposing_corr_cutoff).sum())\n"
   ]
  },
  {
   "cell_type": "code",
   "execution_count": 35,
   "metadata": {},
   "outputs": [],
   "source": [
    "\n"
   ]
  },
  {
   "cell_type": "code",
   "execution_count": 40,
   "metadata": {},
   "outputs": [
    {
     "ename": "MemoryError",
     "evalue": "Unable to allocate 2.77 GiB for an array with shape (54585, 54585) and data type bool",
     "output_type": "error",
     "traceback": [
      "\u001b[0;31m---------------------------------------------------------------------------\u001b[0m",
      "\u001b[0;31mMemoryError\u001b[0m                               Traceback (most recent call last)",
      "\u001b[0;32m<ipython-input-40-a5ce5ae01808>\u001b[0m in \u001b[0;36m<module>\u001b[0;34m()\u001b[0m\n\u001b[1;32m      1\u001b[0m \u001b[0;31m#gtex_pairwise_pearson_corr.to_csv('gtex_pairwise_pearson_corr.csv')\u001b[0m\u001b[0;34m\u001b[0m\u001b[0;34m\u001b[0m\u001b[0m\n\u001b[1;32m      2\u001b[0m \u001b[0;31m#pd.read_csv('gtex_pairwise_pearson_corr.csv')\u001b[0m\u001b[0;34m\u001b[0m\u001b[0;34m\u001b[0m\u001b[0m\n\u001b[0;32m----> 3\u001b[0;31m \u001b[0mgtex_pairwise_pearson_corr\u001b[0m\u001b[0;34m[\u001b[0m\u001b[0mgtex_pairwise_pearson_corr\u001b[0m\u001b[0;34m[\u001b[0m\u001b[0mgtex_pairwise_pearson_corr\u001b[0m\u001b[0;34m.\u001b[0m\u001b[0mcolumns\u001b[0m\u001b[0;34m]\u001b[0m\u001b[0;34m>=\u001b[0m\u001b[0mcorrelation_cutoff\u001b[0m\u001b[0;34m]\u001b[0m\u001b[0;34m.\u001b[0m\u001b[0mcount\u001b[0m\u001b[0;34m(\u001b[0m\u001b[0;34m)\u001b[0m\u001b[0;34m.\u001b[0m\u001b[0mmax\u001b[0m\u001b[0;34m(\u001b[0m\u001b[0;34m)\u001b[0m\u001b[0;34m\u001b[0m\u001b[0m\n\u001b[0m",
      "\u001b[0;32m/public/apps/python/3.7.0/lib/python3.7/site-packages/pandas/core/frame.py\u001b[0m in \u001b[0;36m__getitem__\u001b[0;34m(self, key)\u001b[0m\n\u001b[1;32m   2891\u001b[0m         \u001b[0;31m# Do we have a (boolean) DataFrame?\u001b[0m\u001b[0;34m\u001b[0m\u001b[0;34m\u001b[0m\u001b[0m\n\u001b[1;32m   2892\u001b[0m         \u001b[0;32mif\u001b[0m \u001b[0misinstance\u001b[0m\u001b[0;34m(\u001b[0m\u001b[0mkey\u001b[0m\u001b[0;34m,\u001b[0m \u001b[0mDataFrame\u001b[0m\u001b[0;34m)\u001b[0m\u001b[0;34m:\u001b[0m\u001b[0;34m\u001b[0m\u001b[0m\n\u001b[0;32m-> 2893\u001b[0;31m             \u001b[0;32mreturn\u001b[0m \u001b[0mself\u001b[0m\u001b[0;34m.\u001b[0m\u001b[0mwhere\u001b[0m\u001b[0;34m(\u001b[0m\u001b[0mkey\u001b[0m\u001b[0;34m)\u001b[0m\u001b[0;34m\u001b[0m\u001b[0m\n\u001b[0m\u001b[1;32m   2894\u001b[0m \u001b[0;34m\u001b[0m\u001b[0m\n\u001b[1;32m   2895\u001b[0m         \u001b[0;31m# Do we have a (boolean) 1d indexer?\u001b[0m\u001b[0;34m\u001b[0m\u001b[0;34m\u001b[0m\u001b[0m\n",
      "\u001b[0;32m/public/apps/python/3.7.0/lib/python3.7/site-packages/pandas/core/generic.py\u001b[0m in \u001b[0;36mwhere\u001b[0;34m(self, cond, other, inplace, axis, level, errors, try_cast)\u001b[0m\n\u001b[1;32m   9009\u001b[0m         \u001b[0mother\u001b[0m \u001b[0;34m=\u001b[0m \u001b[0mcom\u001b[0m\u001b[0;34m.\u001b[0m\u001b[0mapply_if_callable\u001b[0m\u001b[0;34m(\u001b[0m\u001b[0mother\u001b[0m\u001b[0;34m,\u001b[0m \u001b[0mself\u001b[0m\u001b[0;34m)\u001b[0m\u001b[0;34m\u001b[0m\u001b[0m\n\u001b[1;32m   9010\u001b[0m         return self._where(\n\u001b[0;32m-> 9011\u001b[0;31m             \u001b[0mcond\u001b[0m\u001b[0;34m,\u001b[0m \u001b[0mother\u001b[0m\u001b[0;34m,\u001b[0m \u001b[0minplace\u001b[0m\u001b[0;34m,\u001b[0m \u001b[0maxis\u001b[0m\u001b[0;34m,\u001b[0m \u001b[0mlevel\u001b[0m\u001b[0;34m,\u001b[0m \u001b[0merrors\u001b[0m\u001b[0;34m=\u001b[0m\u001b[0merrors\u001b[0m\u001b[0;34m,\u001b[0m \u001b[0mtry_cast\u001b[0m\u001b[0;34m=\u001b[0m\u001b[0mtry_cast\u001b[0m\u001b[0;34m\u001b[0m\u001b[0m\n\u001b[0m\u001b[1;32m   9012\u001b[0m         )\n\u001b[1;32m   9013\u001b[0m \u001b[0;34m\u001b[0m\u001b[0m\n",
      "\u001b[0;32m/public/apps/python/3.7.0/lib/python3.7/site-packages/pandas/core/generic.py\u001b[0m in \u001b[0;36m_where\u001b[0;34m(self, cond, other, inplace, axis, level, errors, try_cast)\u001b[0m\n\u001b[1;32m   8758\u001b[0m         \u001b[0;31m# make sure we are boolean\u001b[0m\u001b[0;34m\u001b[0m\u001b[0;34m\u001b[0m\u001b[0m\n\u001b[1;32m   8759\u001b[0m         \u001b[0mfill_value\u001b[0m \u001b[0;34m=\u001b[0m \u001b[0mbool\u001b[0m\u001b[0;34m(\u001b[0m\u001b[0minplace\u001b[0m\u001b[0;34m)\u001b[0m\u001b[0;34m\u001b[0m\u001b[0m\n\u001b[0;32m-> 8760\u001b[0;31m         \u001b[0mcond\u001b[0m \u001b[0;34m=\u001b[0m \u001b[0mcond\u001b[0m\u001b[0;34m.\u001b[0m\u001b[0mfillna\u001b[0m\u001b[0;34m(\u001b[0m\u001b[0mfill_value\u001b[0m\u001b[0;34m)\u001b[0m\u001b[0;34m\u001b[0m\u001b[0m\n\u001b[0m\u001b[1;32m   8761\u001b[0m \u001b[0;34m\u001b[0m\u001b[0m\n\u001b[1;32m   8762\u001b[0m         \u001b[0mmsg\u001b[0m \u001b[0;34m=\u001b[0m \u001b[0;34m\"Boolean array expected for the condition, not {dtype}\"\u001b[0m\u001b[0;34m\u001b[0m\u001b[0m\n",
      "\u001b[0;32m/public/apps/python/3.7.0/lib/python3.7/site-packages/pandas/core/frame.py\u001b[0m in \u001b[0;36mfillna\u001b[0;34m(self, value, method, axis, inplace, limit, downcast)\u001b[0m\n\u001b[1;32m   4325\u001b[0m             \u001b[0minplace\u001b[0m\u001b[0;34m=\u001b[0m\u001b[0minplace\u001b[0m\u001b[0;34m,\u001b[0m\u001b[0;34m\u001b[0m\u001b[0m\n\u001b[1;32m   4326\u001b[0m             \u001b[0mlimit\u001b[0m\u001b[0;34m=\u001b[0m\u001b[0mlimit\u001b[0m\u001b[0;34m,\u001b[0m\u001b[0;34m\u001b[0m\u001b[0m\n\u001b[0;32m-> 4327\u001b[0;31m             \u001b[0mdowncast\u001b[0m\u001b[0;34m=\u001b[0m\u001b[0mdowncast\u001b[0m\u001b[0;34m,\u001b[0m\u001b[0;34m\u001b[0m\u001b[0m\n\u001b[0m\u001b[1;32m   4328\u001b[0m         )\n\u001b[1;32m   4329\u001b[0m \u001b[0;34m\u001b[0m\u001b[0m\n",
      "\u001b[0;32m/public/apps/python/3.7.0/lib/python3.7/site-packages/pandas/core/generic.py\u001b[0m in \u001b[0;36mfillna\u001b[0;34m(self, value, method, axis, inplace, limit, downcast)\u001b[0m\n\u001b[1;32m   6081\u001b[0m             \u001b[0;32melif\u001b[0m \u001b[0;32mnot\u001b[0m \u001b[0mis_list_like\u001b[0m\u001b[0;34m(\u001b[0m\u001b[0mvalue\u001b[0m\u001b[0;34m)\u001b[0m\u001b[0;34m:\u001b[0m\u001b[0;34m\u001b[0m\u001b[0m\n\u001b[1;32m   6082\u001b[0m                 new_data = self._mgr.fillna(\n\u001b[0;32m-> 6083\u001b[0;31m                     \u001b[0mvalue\u001b[0m\u001b[0;34m=\u001b[0m\u001b[0mvalue\u001b[0m\u001b[0;34m,\u001b[0m \u001b[0mlimit\u001b[0m\u001b[0;34m=\u001b[0m\u001b[0mlimit\u001b[0m\u001b[0;34m,\u001b[0m \u001b[0minplace\u001b[0m\u001b[0;34m=\u001b[0m\u001b[0minplace\u001b[0m\u001b[0;34m,\u001b[0m \u001b[0mdowncast\u001b[0m\u001b[0;34m=\u001b[0m\u001b[0mdowncast\u001b[0m\u001b[0;34m\u001b[0m\u001b[0m\n\u001b[0m\u001b[1;32m   6084\u001b[0m                 )\n\u001b[1;32m   6085\u001b[0m             \u001b[0;32melif\u001b[0m \u001b[0misinstance\u001b[0m\u001b[0;34m(\u001b[0m\u001b[0mvalue\u001b[0m\u001b[0;34m,\u001b[0m \u001b[0mABCDataFrame\u001b[0m\u001b[0;34m)\u001b[0m \u001b[0;32mand\u001b[0m \u001b[0mself\u001b[0m\u001b[0;34m.\u001b[0m\u001b[0mndim\u001b[0m \u001b[0;34m==\u001b[0m \u001b[0;36m2\u001b[0m\u001b[0;34m:\u001b[0m\u001b[0;34m\u001b[0m\u001b[0m\n",
      "\u001b[0;32m/public/apps/python/3.7.0/lib/python3.7/site-packages/pandas/core/internals/managers.py\u001b[0m in \u001b[0;36mfillna\u001b[0;34m(self, value, limit, inplace, downcast)\u001b[0m\n\u001b[1;32m    593\u001b[0m     \u001b[0;32mdef\u001b[0m \u001b[0mfillna\u001b[0m\u001b[0;34m(\u001b[0m\u001b[0mself\u001b[0m\u001b[0;34m,\u001b[0m \u001b[0mvalue\u001b[0m\u001b[0;34m,\u001b[0m \u001b[0mlimit\u001b[0m\u001b[0;34m,\u001b[0m \u001b[0minplace\u001b[0m\u001b[0;34m:\u001b[0m \u001b[0mbool\u001b[0m\u001b[0;34m,\u001b[0m \u001b[0mdowncast\u001b[0m\u001b[0;34m)\u001b[0m \u001b[0;34m->\u001b[0m \u001b[0;34m\"BlockManager\"\u001b[0m\u001b[0;34m:\u001b[0m\u001b[0;34m\u001b[0m\u001b[0m\n\u001b[1;32m    594\u001b[0m         return self.apply(\n\u001b[0;32m--> 595\u001b[0;31m             \u001b[0;34m\"fillna\"\u001b[0m\u001b[0;34m,\u001b[0m \u001b[0mvalue\u001b[0m\u001b[0;34m=\u001b[0m\u001b[0mvalue\u001b[0m\u001b[0;34m,\u001b[0m \u001b[0mlimit\u001b[0m\u001b[0;34m=\u001b[0m\u001b[0mlimit\u001b[0m\u001b[0;34m,\u001b[0m \u001b[0minplace\u001b[0m\u001b[0;34m=\u001b[0m\u001b[0minplace\u001b[0m\u001b[0;34m,\u001b[0m \u001b[0mdowncast\u001b[0m\u001b[0;34m=\u001b[0m\u001b[0mdowncast\u001b[0m\u001b[0;34m\u001b[0m\u001b[0m\n\u001b[0m\u001b[1;32m    596\u001b[0m         )\n\u001b[1;32m    597\u001b[0m \u001b[0;34m\u001b[0m\u001b[0m\n",
      "\u001b[0;32m/public/apps/python/3.7.0/lib/python3.7/site-packages/pandas/core/internals/managers.py\u001b[0m in \u001b[0;36mapply\u001b[0;34m(self, f, align_keys, **kwargs)\u001b[0m\n\u001b[1;32m    407\u001b[0m                 \u001b[0mapplied\u001b[0m \u001b[0;34m=\u001b[0m \u001b[0mb\u001b[0m\u001b[0;34m.\u001b[0m\u001b[0mapply\u001b[0m\u001b[0;34m(\u001b[0m\u001b[0mf\u001b[0m\u001b[0;34m,\u001b[0m \u001b[0;34m**\u001b[0m\u001b[0mkwargs\u001b[0m\u001b[0;34m)\u001b[0m\u001b[0;34m\u001b[0m\u001b[0m\n\u001b[1;32m    408\u001b[0m             \u001b[0;32melse\u001b[0m\u001b[0;34m:\u001b[0m\u001b[0;34m\u001b[0m\u001b[0m\n\u001b[0;32m--> 409\u001b[0;31m                 \u001b[0mapplied\u001b[0m \u001b[0;34m=\u001b[0m \u001b[0mgetattr\u001b[0m\u001b[0;34m(\u001b[0m\u001b[0mb\u001b[0m\u001b[0;34m,\u001b[0m \u001b[0mf\u001b[0m\u001b[0;34m)\u001b[0m\u001b[0;34m(\u001b[0m\u001b[0;34m**\u001b[0m\u001b[0mkwargs\u001b[0m\u001b[0;34m)\u001b[0m\u001b[0;34m\u001b[0m\u001b[0m\n\u001b[0m\u001b[1;32m    410\u001b[0m             \u001b[0mresult_blocks\u001b[0m \u001b[0;34m=\u001b[0m \u001b[0m_extend_blocks\u001b[0m\u001b[0;34m(\u001b[0m\u001b[0mapplied\u001b[0m\u001b[0;34m,\u001b[0m \u001b[0mresult_blocks\u001b[0m\u001b[0;34m)\u001b[0m\u001b[0;34m\u001b[0m\u001b[0m\n\u001b[1;32m    411\u001b[0m \u001b[0;34m\u001b[0m\u001b[0m\n",
      "\u001b[0;32m/public/apps/python/3.7.0/lib/python3.7/site-packages/pandas/core/internals/blocks.py\u001b[0m in \u001b[0;36mfillna\u001b[0;34m(self, value, limit, inplace, downcast)\u001b[0m\n\u001b[1;32m    374\u001b[0m         \u001b[0minplace\u001b[0m \u001b[0;34m=\u001b[0m \u001b[0mvalidate_bool_kwarg\u001b[0m\u001b[0;34m(\u001b[0m\u001b[0minplace\u001b[0m\u001b[0;34m,\u001b[0m \u001b[0;34m\"inplace\"\u001b[0m\u001b[0;34m)\u001b[0m\u001b[0;34m\u001b[0m\u001b[0m\n\u001b[1;32m    375\u001b[0m \u001b[0;34m\u001b[0m\u001b[0m\n\u001b[0;32m--> 376\u001b[0;31m         \u001b[0mmask\u001b[0m \u001b[0;34m=\u001b[0m \u001b[0misna\u001b[0m\u001b[0;34m(\u001b[0m\u001b[0mself\u001b[0m\u001b[0;34m.\u001b[0m\u001b[0mvalues\u001b[0m\u001b[0;34m)\u001b[0m\u001b[0;34m\u001b[0m\u001b[0m\n\u001b[0m\u001b[1;32m    377\u001b[0m         \u001b[0;32mif\u001b[0m \u001b[0mlimit\u001b[0m \u001b[0;32mis\u001b[0m \u001b[0;32mnot\u001b[0m \u001b[0;32mNone\u001b[0m\u001b[0;34m:\u001b[0m\u001b[0;34m\u001b[0m\u001b[0m\n\u001b[1;32m    378\u001b[0m             \u001b[0mlimit\u001b[0m \u001b[0;34m=\u001b[0m \u001b[0mlibalgos\u001b[0m\u001b[0;34m.\u001b[0m\u001b[0m_validate_limit\u001b[0m\u001b[0;34m(\u001b[0m\u001b[0;32mNone\u001b[0m\u001b[0;34m,\u001b[0m \u001b[0mlimit\u001b[0m\u001b[0;34m=\u001b[0m\u001b[0mlimit\u001b[0m\u001b[0;34m)\u001b[0m\u001b[0;34m\u001b[0m\u001b[0m\n",
      "\u001b[0;32m/public/apps/python/3.7.0/lib/python3.7/site-packages/pandas/core/dtypes/missing.py\u001b[0m in \u001b[0;36misna\u001b[0;34m(obj)\u001b[0m\n\u001b[1;32m    122\u001b[0m     \u001b[0mName\u001b[0m\u001b[0;34m:\u001b[0m \u001b[0;36m1\u001b[0m\u001b[0;34m,\u001b[0m \u001b[0mdtype\u001b[0m\u001b[0;34m:\u001b[0m \u001b[0mbool\u001b[0m\u001b[0;34m\u001b[0m\u001b[0m\n\u001b[1;32m    123\u001b[0m     \"\"\"\n\u001b[0;32m--> 124\u001b[0;31m     \u001b[0;32mreturn\u001b[0m \u001b[0m_isna\u001b[0m\u001b[0;34m(\u001b[0m\u001b[0mobj\u001b[0m\u001b[0;34m)\u001b[0m\u001b[0;34m\u001b[0m\u001b[0m\n\u001b[0m\u001b[1;32m    125\u001b[0m \u001b[0;34m\u001b[0m\u001b[0m\n\u001b[1;32m    126\u001b[0m \u001b[0;34m\u001b[0m\u001b[0m\n",
      "\u001b[0;32m/public/apps/python/3.7.0/lib/python3.7/site-packages/pandas/core/dtypes/missing.py\u001b[0m in \u001b[0;36m_isna\u001b[0;34m(obj, inf_as_na)\u001b[0m\n\u001b[1;32m    155\u001b[0m         \u001b[0;32mreturn\u001b[0m \u001b[0;32mFalse\u001b[0m\u001b[0;34m\u001b[0m\u001b[0m\n\u001b[1;32m    156\u001b[0m     \u001b[0;32melif\u001b[0m \u001b[0misinstance\u001b[0m\u001b[0;34m(\u001b[0m\u001b[0mobj\u001b[0m\u001b[0;34m,\u001b[0m \u001b[0;34m(\u001b[0m\u001b[0mABCSeries\u001b[0m\u001b[0;34m,\u001b[0m \u001b[0mnp\u001b[0m\u001b[0;34m.\u001b[0m\u001b[0mndarray\u001b[0m\u001b[0;34m,\u001b[0m \u001b[0mABCIndexClass\u001b[0m\u001b[0;34m,\u001b[0m \u001b[0mABCExtensionArray\u001b[0m\u001b[0;34m)\u001b[0m\u001b[0;34m)\u001b[0m\u001b[0;34m:\u001b[0m\u001b[0;34m\u001b[0m\u001b[0m\n\u001b[0;32m--> 157\u001b[0;31m         \u001b[0;32mreturn\u001b[0m \u001b[0m_isna_ndarraylike\u001b[0m\u001b[0;34m(\u001b[0m\u001b[0mobj\u001b[0m\u001b[0;34m,\u001b[0m \u001b[0minf_as_na\u001b[0m\u001b[0;34m=\u001b[0m\u001b[0minf_as_na\u001b[0m\u001b[0;34m)\u001b[0m\u001b[0;34m\u001b[0m\u001b[0m\n\u001b[0m\u001b[1;32m    158\u001b[0m     \u001b[0;32melif\u001b[0m \u001b[0misinstance\u001b[0m\u001b[0;34m(\u001b[0m\u001b[0mobj\u001b[0m\u001b[0;34m,\u001b[0m \u001b[0mABCDataFrame\u001b[0m\u001b[0;34m)\u001b[0m\u001b[0;34m:\u001b[0m\u001b[0;34m\u001b[0m\u001b[0m\n\u001b[1;32m    159\u001b[0m         \u001b[0;32mreturn\u001b[0m \u001b[0mobj\u001b[0m\u001b[0;34m.\u001b[0m\u001b[0misna\u001b[0m\u001b[0;34m(\u001b[0m\u001b[0;34m)\u001b[0m\u001b[0;34m\u001b[0m\u001b[0m\n",
      "\u001b[0;32m/public/apps/python/3.7.0/lib/python3.7/site-packages/pandas/core/dtypes/missing.py\u001b[0m in \u001b[0;36m_isna_ndarraylike\u001b[0;34m(obj, inf_as_na)\u001b[0m\n\u001b[1;32m    224\u001b[0m             \u001b[0mresult\u001b[0m \u001b[0;34m=\u001b[0m \u001b[0;34m~\u001b[0m\u001b[0mnp\u001b[0m\u001b[0;34m.\u001b[0m\u001b[0misfinite\u001b[0m\u001b[0;34m(\u001b[0m\u001b[0mvalues\u001b[0m\u001b[0;34m)\u001b[0m\u001b[0;34m\u001b[0m\u001b[0m\n\u001b[1;32m    225\u001b[0m         \u001b[0;32melse\u001b[0m\u001b[0;34m:\u001b[0m\u001b[0;34m\u001b[0m\u001b[0m\n\u001b[0;32m--> 226\u001b[0;31m             \u001b[0mresult\u001b[0m \u001b[0;34m=\u001b[0m \u001b[0mnp\u001b[0m\u001b[0;34m.\u001b[0m\u001b[0misnan\u001b[0m\u001b[0;34m(\u001b[0m\u001b[0mvalues\u001b[0m\u001b[0;34m)\u001b[0m\u001b[0;34m\u001b[0m\u001b[0m\n\u001b[0m\u001b[1;32m    227\u001b[0m \u001b[0;34m\u001b[0m\u001b[0m\n\u001b[1;32m    228\u001b[0m     \u001b[0;31m# box\u001b[0m\u001b[0;34m\u001b[0m\u001b[0;34m\u001b[0m\u001b[0m\n",
      "\u001b[0;31mMemoryError\u001b[0m: Unable to allocate 2.77 GiB for an array with shape (54585, 54585) and data type bool"
     ]
    }
   ],
   "source": [
    "chunk_size=1000\n",
    "\n",
    "temp_gtex_pairwise_pearson_corr\n",
    "gtex_pairwise_pearson_corr[gtex_pairwise_pearson_corr[gtex_pairwise_pearson_corr.columns]>=correlation_cutoff].count().max()"
   ]
  },
  {
   "cell_type": "code",
   "execution_count": 111,
   "metadata": {},
   "outputs": [
    {
     "data": {
      "text/plain": [
       "<generator object chunkify at 0x2ab975d0a660>"
      ]
     },
     "execution_count": 111,
     "metadata": {},
     "output_type": "execute_result"
    }
   ],
   "source": [
    "\n",
    "def chunkify(df: pd.DataFrame, chunk_size: int):\n",
    "    global chunk_list\n",
    "    chunk_list=[] \n",
    "    start = 0\n",
    "    length = df.shape[0]\n",
    "\n",
    "    # If DF is smaller than the chunk, return the DF\n",
    "    if length <= chunk_size:\n",
    "        chunk_list.append(df[:])\n",
    "        yield df[:]\n",
    "        return\n",
    "\n",
    "    # Yield individual chunks\n",
    "    while start + chunk_size <= length:\n",
    "        chunk_list.append(df[start:chunk_size + start])\n",
    "        yield df[start:chunk_size + start]\n",
    "        start = start + chunk_size\n",
    "\n",
    "    # Yield the remainder chunk, if needed\n",
    "    if start < length:\n",
    "        chunk_list.append(df[start:])\n",
    "        yield df[start:]\n",
    "    return chunk_list\n",
    "\n"
   ]
  },
  {
   "cell_type": "code",
   "execution_count": null,
   "metadata": {},
   "outputs": [],
   "source": [
    "#df is gtex data\n",
    "df=gtex_pairwise_pearson_corr\n",
    "chunkify(df,1000)\n",
    "max_list_gtex_corr=[]\n",
    "min_list_gtex_corr=[]\n",
    "max_list_gtex_oppcorr=[]\n",
    "min_list_gtex_oppcorr=[]\n",
    "for chunk in chunk_list:\n",
    "    max_list_gtex_corr.append(chunk[chunk[chunk.index]>=correlation_cutoff].count().max())\n",
    "    min_list_gtex_corr.append(chunk[chunk[chunk.index]>=correlation_cutoff].count().min())\n",
    "    max_list_gtex_oppcorr.append(chunk[chunk[chunk.index]<=opposing_corr_cutoff].count().max())\n",
    "    min_list_gtex_oppcorr.append(chunk[chunk[chunk.index]<=opposing_corr_cutoff].count().min())    \n",
    "del df"
   ]
  },
  {
   "cell_type": "code",
   "execution_count": null,
   "metadata": {},
   "outputs": [],
   "source": [
    "#df is tcga_normal_all data\n",
    "df=tcga_normal_all_pearson_corr\n",
    "chunkify(df,1000)\n",
    "max_list_tcga_normal_all_corr=[]\n",
    "min_list_tcga_normal_all_corr=[]\n",
    "max_list_tcga_normal_all_oppcorr=[]\n",
    "min_list_tcga_normal_all_oppcorr=[]\n",
    "\n",
    "for chunk in chunk_list:\n",
    "    max_list_tcga_normal_all_corr.append(chunk[chunk[chunk.index]>=correlation_cutoff].count().max())\n",
    "    min_list_tcga_normal_all_corr.append(chunk[chunk[chunk.index]>=correlation_cutoff].count().min())\n",
    "    max_list_tcga_normal_all_oppcorr.append(chunk[chunk[chunk.index]<=opposing_corr_cutoff].count().max())\n",
    "    min_list_tcga_normal_all_oppcorr.append(chunk[chunk[chunk.index]<=opposing_corr_cutoff].count().min())    \n",
    "del df"
   ]
  },
  {
   "cell_type": "code",
   "execution_count": null,
   "metadata": {},
   "outputs": [],
   "source": [
    "#df is tcga_primtum_all data\n",
    "df=tcga_primtum_all_pearson_corr\n",
    "chunkify(df,1000)\n",
    "max_list_tcga_primtum_all_corr=[]\n",
    "min_list_tcga_primtum_all_corr=[]\n",
    "max_list_tcga_primtum_all_oppcorr=[]\n",
    "min_list_tcga_primtum_all_oppcorr=[]\n",
    "for chunk in chunk_list:\n",
    "    max_list_tcga_primtum_all_corr.append(chunk[chunk[chunk.index]>=correlation_cutoff].count().max())\n",
    "    min_list_tcga_primtum_all_corr.append(chunk[chunk[chunk.index]>=correlation_cutoff].count().min())\n",
    "    max_list_tcga_primtum_all_oppcorr.append(chunk[chunk[chunk.index]<=opposing_corr_cutoff].count().max())\n",
    "    min_list_tcga_primtum_all_oppcorr.append(chunk[chunk[chunk.index]<=opposing_corr_cutoff].count().min())    \n",
    "del df"
   ]
  },
  {
   "cell_type": "markdown",
   "metadata": {},
   "source": [
    "# formally do all integrins, tables 1, 2 and 3 using the functions"
   ]
  },
  {
   "cell_type": "code",
   "execution_count": 7,
   "metadata": {
    "scrolled": false
   },
   "outputs": [
    {
     "name": "stdout",
     "output_type": "stream",
     "text": [
      "for 1th dataset ENTER: gtex_all\n",
      "for 2th dataset ENTER: tcga_normal_all\n",
      "no overlap between datasets\n",
      "insert name for 1th datasetgtex_all\n",
      "insert name for 2th datasettcga_normal_all\n",
      "for dataset ENTER: tcga_normal_all\n",
      "insert name for other datasettcga_normal_all\n",
      "1st: high cutoff applied to gtex dataset\n",
      "2nd: common genes identified with other dataset\n",
      "3rd: both datasets combined\n",
      "4th: High cutoff applied to non-gtex dataset\n",
      "for dataset ENTER: tcga_primtum_all\n",
      "insert name for other datasettcga_primtum_all\n",
      "1st: high cutoff applied to gtex dataset\n",
      "2nd: common genes identified with other dataset\n",
      "3rd: both datasets combined\n",
      "4th: High cutoff applied to non-gtex dataset\n",
      "1st: high cutoff applied to gtex dataset\n",
      "2nd: common genes identified with other datasets\n",
      "3rd: all datasets combined\n",
      "4th: High cutoff applied to non-gtex datasets\n"
     ]
    },
    {
     "data": {
      "text/html": [
       "<table border=\"1\" class=\"dataframe\">\n",
       "  <thead>\n",
       "    <tr style=\"text-align: right;\">\n",
       "      <th></th>\n",
       "      <th>GTEX_highly_correlated</th>\n",
       "      <th>%also_highly_correlated_in_TCGA_normal</th>\n",
       "      <th>%also_highly_correlated_in_TCGA_primtum</th>\n",
       "      <th>%also_highly_correlated_in_all_three</th>\n",
       "    </tr>\n",
       "  </thead>\n",
       "  <tbody>\n",
       "    <tr>\n",
       "      <th>ITGA7</th>\n",
       "      <td>317</td>\n",
       "      <td>77.287066(245)</td>\n",
       "      <td>7.886435(25)</td>\n",
       "      <td>7.886435(25)</td>\n",
       "    </tr>\n",
       "  </tbody>\n",
       "</table>"
      ],
      "text/plain": [
       "<IPython.core.display.HTML object>"
      ]
     },
     "metadata": {},
     "output_type": "display_data"
    },
    {
     "name": "stdout",
     "output_type": "stream",
     "text": [
      "for 1th dataset ENTER: gtex_all\n",
      "for 2th dataset ENTER: tcga_normal_all\n",
      "no overlap between datasets\n",
      "insert name for 1th datasetgtex_all\n",
      "insert name for 2th datasettcga_normal_all\n",
      "for dataset ENTER: tcga_normal_all\n",
      "insert name for other datasettcga_normal_all\n",
      "1st: high cutoff applied to gtex dataset\n",
      "2nd: common genes identified with other dataset\n",
      "3rd: both datasets combined\n",
      "4th: High cutoff applied to non-gtex dataset\n",
      "for dataset ENTER: tcga_primtum_all\n",
      "insert name for other datasettcga_primtum_all\n",
      "1st: high cutoff applied to gtex dataset\n",
      "2nd: common genes identified with other dataset\n",
      "3rd: both datasets combined\n",
      "4th: High cutoff applied to non-gtex dataset\n",
      "1st: high cutoff applied to gtex dataset\n",
      "2nd: common genes identified with other datasets\n",
      "3rd: all datasets combined\n",
      "4th: High cutoff applied to non-gtex datasets\n"
     ]
    },
    {
     "data": {
      "text/html": [
       "<table border=\"1\" class=\"dataframe\">\n",
       "  <thead>\n",
       "    <tr style=\"text-align: right;\">\n",
       "      <th></th>\n",
       "      <th>GTEX_highly_correlated</th>\n",
       "      <th>%also_highly_correlated_in_TCGA_normal</th>\n",
       "      <th>%also_highly_correlated_in_TCGA_primtum</th>\n",
       "      <th>%also_highly_correlated_in_all_three</th>\n",
       "    </tr>\n",
       "  </thead>\n",
       "  <tbody>\n",
       "    <tr>\n",
       "      <th>ITGB8</th>\n",
       "      <td>2784</td>\n",
       "      <td>40.696839(1133)</td>\n",
       "      <td>0.000000(0)</td>\n",
       "      <td>0.000000(0)</td>\n",
       "    </tr>\n",
       "  </tbody>\n",
       "</table>"
      ],
      "text/plain": [
       "<IPython.core.display.HTML object>"
      ]
     },
     "metadata": {},
     "output_type": "display_data"
    },
    {
     "name": "stdout",
     "output_type": "stream",
     "text": [
      "for 1th dataset ENTER: gtex_all\n",
      "for 2th dataset ENTER: tcga_normal_all\n",
      "no overlap between datasets\n",
      "insert name for 1th datasetgtex_all\n",
      "insert name for 2th datasettcga_normal_all\n",
      "for dataset ENTER: tcga_normal_all\n",
      "insert name for other datasettcga_normal_all\n",
      "1st: high cutoff applied to gtex dataset\n",
      "2nd: common genes identified with other dataset\n",
      "3rd: both datasets combined\n",
      "4th: High cutoff applied to non-gtex dataset\n",
      "for dataset ENTER: tcga_primtum_all\n",
      "insert name for other datasettcga_primtum_all\n",
      "1st: high cutoff applied to gtex dataset\n",
      "2nd: common genes identified with other dataset\n",
      "3rd: both datasets combined\n",
      "4th: High cutoff applied to non-gtex dataset\n",
      "1st: high cutoff applied to gtex dataset\n",
      "2nd: common genes identified with other datasets\n",
      "3rd: all datasets combined\n",
      "4th: High cutoff applied to non-gtex datasets\n"
     ]
    },
    {
     "data": {
      "text/html": [
       "<table border=\"1\" class=\"dataframe\">\n",
       "  <thead>\n",
       "    <tr style=\"text-align: right;\">\n",
       "      <th></th>\n",
       "      <th>GTEX_highly_correlated</th>\n",
       "      <th>%also_highly_correlated_in_TCGA_normal</th>\n",
       "      <th>%also_highly_correlated_in_TCGA_primtum</th>\n",
       "      <th>%also_highly_correlated_in_all_three</th>\n",
       "    </tr>\n",
       "  </thead>\n",
       "  <tbody>\n",
       "    <tr>\n",
       "      <th>ITGB6</th>\n",
       "      <td>1612</td>\n",
       "      <td>40.198511(648)</td>\n",
       "      <td>0.000000(0)</td>\n",
       "      <td>0.000000(0)</td>\n",
       "    </tr>\n",
       "  </tbody>\n",
       "</table>"
      ],
      "text/plain": [
       "<IPython.core.display.HTML object>"
      ]
     },
     "metadata": {},
     "output_type": "display_data"
    },
    {
     "name": "stdout",
     "output_type": "stream",
     "text": [
      "for 1th dataset ENTER: gtex_all\n",
      "for 2th dataset ENTER: tcga_normal_all\n",
      "no overlap between datasets\n",
      "insert name for 1th datasetgtex_all\n",
      "insert name for 2th datasettcga_normal_all\n",
      "for dataset ENTER: tcga_normal_all\n",
      "insert name for other datasettcga_normal_all\n",
      "1st: high cutoff applied to gtex dataset\n",
      "2nd: common genes identified with other dataset\n",
      "3rd: both datasets combined\n",
      "4th: High cutoff applied to non-gtex dataset\n",
      "for dataset ENTER: tcga_primtum_all\n",
      "insert name for other datasettcga_primtum_all\n",
      "1st: high cutoff applied to gtex dataset\n",
      "2nd: common genes identified with other dataset\n",
      "3rd: both datasets combined\n",
      "4th: High cutoff applied to non-gtex dataset\n",
      "1st: high cutoff applied to gtex dataset\n",
      "2nd: common genes identified with other datasets\n",
      "3rd: all datasets combined\n",
      "4th: High cutoff applied to non-gtex datasets\n"
     ]
    },
    {
     "data": {
      "text/html": [
       "<table border=\"1\" class=\"dataframe\">\n",
       "  <thead>\n",
       "    <tr style=\"text-align: right;\">\n",
       "      <th></th>\n",
       "      <th>GTEX_highly_correlated</th>\n",
       "      <th>%also_highly_correlated_in_TCGA_normal</th>\n",
       "      <th>%also_highly_correlated_in_TCGA_primtum</th>\n",
       "      <th>%also_highly_correlated_in_all_three</th>\n",
       "    </tr>\n",
       "  </thead>\n",
       "  <tbody>\n",
       "    <tr>\n",
       "      <th>ITGA10</th>\n",
       "      <td>378</td>\n",
       "      <td>38.095238(144)</td>\n",
       "      <td>0.000000(0)</td>\n",
       "      <td>0.000000(0)</td>\n",
       "    </tr>\n",
       "  </tbody>\n",
       "</table>"
      ],
      "text/plain": [
       "<IPython.core.display.HTML object>"
      ]
     },
     "metadata": {},
     "output_type": "display_data"
    },
    {
     "name": "stdout",
     "output_type": "stream",
     "text": [
      "for 1th dataset ENTER: gtex_all\n",
      "for 2th dataset ENTER: tcga_normal_all\n",
      "no overlap between datasets\n",
      "insert name for 1th datasetgtex_all\n",
      "insert name for 2th datasettcga_normal_all\n",
      "for dataset ENTER: tcga_normal_all\n",
      "insert name for other datasettcga_normal_all\n",
      "1st: high cutoff applied to gtex dataset\n",
      "2nd: common genes identified with other dataset\n",
      "3rd: both datasets combined\n",
      "4th: High cutoff applied to non-gtex dataset\n",
      "for dataset ENTER: tcga_primtum_all\n",
      "insert name for other datasettcga_primtum_all\n",
      "1st: high cutoff applied to gtex dataset\n",
      "2nd: common genes identified with other dataset\n",
      "3rd: both datasets combined\n",
      "4th: High cutoff applied to non-gtex dataset\n",
      "1st: high cutoff applied to gtex dataset\n",
      "2nd: common genes identified with other datasets\n",
      "3rd: all datasets combined\n",
      "4th: High cutoff applied to non-gtex datasets\n"
     ]
    },
    {
     "data": {
      "text/html": [
       "<table border=\"1\" class=\"dataframe\">\n",
       "  <thead>\n",
       "    <tr style=\"text-align: right;\">\n",
       "      <th></th>\n",
       "      <th>GTEX_highly_correlated</th>\n",
       "      <th>%also_highly_correlated_in_TCGA_normal</th>\n",
       "      <th>%also_highly_correlated_in_TCGA_primtum</th>\n",
       "      <th>%also_highly_correlated_in_all_three</th>\n",
       "    </tr>\n",
       "  </thead>\n",
       "  <tbody>\n",
       "    <tr>\n",
       "      <th>ITGA6</th>\n",
       "      <td>43</td>\n",
       "      <td>16.279070(7)</td>\n",
       "      <td>0.000000(0)</td>\n",
       "      <td>0.000000(0)</td>\n",
       "    </tr>\n",
       "  </tbody>\n",
       "</table>"
      ],
      "text/plain": [
       "<IPython.core.display.HTML object>"
      ]
     },
     "metadata": {},
     "output_type": "display_data"
    },
    {
     "name": "stdout",
     "output_type": "stream",
     "text": [
      "for 1th dataset ENTER: gtex_all\n",
      "for 2th dataset ENTER: tcga_normal_all\n",
      "no overlap between datasets\n",
      "insert name for 1th datasetgtex_all\n",
      "insert name for 2th datasettcga_normal_all\n",
      "for dataset ENTER: tcga_normal_all\n",
      "insert name for other datasettcga_normal_all\n",
      "1st: high cutoff applied to gtex dataset\n",
      "2nd: common genes identified with other dataset\n",
      "3rd: both datasets combined\n",
      "4th: High cutoff applied to non-gtex dataset\n",
      "for dataset ENTER: tcga_primtum_all\n",
      "insert name for other datasettcga_primtum_all\n",
      "1st: high cutoff applied to gtex dataset\n",
      "2nd: common genes identified with other dataset\n",
      "3rd: both datasets combined\n",
      "4th: High cutoff applied to non-gtex dataset\n",
      "1st: high cutoff applied to gtex dataset\n",
      "2nd: common genes identified with other datasets\n",
      "3rd: all datasets combined\n",
      "4th: High cutoff applied to non-gtex datasets\n"
     ]
    },
    {
     "data": {
      "text/html": [
       "<table border=\"1\" class=\"dataframe\">\n",
       "  <thead>\n",
       "    <tr style=\"text-align: right;\">\n",
       "      <th></th>\n",
       "      <th>GTEX_highly_correlated</th>\n",
       "      <th>%also_highly_correlated_in_TCGA_normal</th>\n",
       "      <th>%also_highly_correlated_in_TCGA_primtum</th>\n",
       "      <th>%also_highly_correlated_in_all_three</th>\n",
       "    </tr>\n",
       "  </thead>\n",
       "  <tbody>\n",
       "    <tr>\n",
       "      <th>ITGA4</th>\n",
       "      <td>115</td>\n",
       "      <td>37.391304(43)</td>\n",
       "      <td>20.000000(23)</td>\n",
       "      <td>17.391304(20)</td>\n",
       "    </tr>\n",
       "  </tbody>\n",
       "</table>"
      ],
      "text/plain": [
       "<IPython.core.display.HTML object>"
      ]
     },
     "metadata": {},
     "output_type": "display_data"
    },
    {
     "name": "stdout",
     "output_type": "stream",
     "text": [
      "for 1th dataset ENTER: gtex_all\n",
      "for 2th dataset ENTER: tcga_normal_all\n",
      "no overlap between datasets\n",
      "insert name for 1th datasetgtex_all\n",
      "insert name for 2th datasettcga_normal_all\n",
      "for dataset ENTER: tcga_normal_all\n",
      "insert name for other datasettcga_normal_all\n",
      "1st: high cutoff applied to gtex dataset\n",
      "2nd: common genes identified with other dataset\n",
      "3rd: both datasets combined\n",
      "4th: High cutoff applied to non-gtex dataset\n",
      "for dataset ENTER: tcga_primtum_all\n",
      "insert name for other datasettcga_primtum_all\n",
      "1st: high cutoff applied to gtex dataset\n",
      "2nd: common genes identified with other dataset\n",
      "3rd: both datasets combined\n",
      "4th: High cutoff applied to non-gtex dataset\n",
      "1st: high cutoff applied to gtex dataset\n",
      "2nd: common genes identified with other datasets\n",
      "3rd: all datasets combined\n",
      "4th: High cutoff applied to non-gtex datasets\n"
     ]
    },
    {
     "data": {
      "text/html": [
       "<table border=\"1\" class=\"dataframe\">\n",
       "  <thead>\n",
       "    <tr style=\"text-align: right;\">\n",
       "      <th></th>\n",
       "      <th>GTEX_highly_correlated</th>\n",
       "      <th>%also_highly_correlated_in_TCGA_normal</th>\n",
       "      <th>%also_highly_correlated_in_TCGA_primtum</th>\n",
       "      <th>%also_highly_correlated_in_all_three</th>\n",
       "    </tr>\n",
       "  </thead>\n",
       "  <tbody>\n",
       "    <tr>\n",
       "      <th>ITGAV</th>\n",
       "      <td>161</td>\n",
       "      <td>73.291925(118)</td>\n",
       "      <td>1.863354(3)</td>\n",
       "      <td>1.863354(3)</td>\n",
       "    </tr>\n",
       "  </tbody>\n",
       "</table>"
      ],
      "text/plain": [
       "<IPython.core.display.HTML object>"
      ]
     },
     "metadata": {},
     "output_type": "display_data"
    },
    {
     "name": "stdout",
     "output_type": "stream",
     "text": [
      "for 1th dataset ENTER: gtex_all\n",
      "for 2th dataset ENTER: tcga_normal_all\n",
      "no overlap between datasets\n",
      "insert name for 1th datasetgtex_all\n",
      "insert name for 2th datasettcga_normal_all\n",
      "for dataset ENTER: tcga_normal_all\n",
      "insert name for other datasettcga_normal_all\n",
      "1st: high cutoff applied to gtex dataset\n",
      "2nd: common genes identified with other dataset\n",
      "3rd: both datasets combined\n",
      "4th: High cutoff applied to non-gtex dataset\n",
      "for dataset ENTER: tcga_primtum_all\n",
      "insert name for other datasettcga_primtum_all\n",
      "1st: high cutoff applied to gtex dataset\n",
      "2nd: common genes identified with other dataset\n",
      "3rd: both datasets combined\n",
      "4th: High cutoff applied to non-gtex dataset\n",
      "1st: high cutoff applied to gtex dataset\n",
      "2nd: common genes identified with other datasets\n",
      "3rd: all datasets combined\n",
      "4th: High cutoff applied to non-gtex datasets\n"
     ]
    },
    {
     "data": {
      "text/html": [
       "<table border=\"1\" class=\"dataframe\">\n",
       "  <thead>\n",
       "    <tr style=\"text-align: right;\">\n",
       "      <th></th>\n",
       "      <th>GTEX_highly_correlated</th>\n",
       "      <th>%also_highly_correlated_in_TCGA_normal</th>\n",
       "      <th>%also_highly_correlated_in_TCGA_primtum</th>\n",
       "      <th>%also_highly_correlated_in_all_three</th>\n",
       "    </tr>\n",
       "  </thead>\n",
       "  <tbody>\n",
       "    <tr>\n",
       "      <th>ITGA9</th>\n",
       "      <td>3</td>\n",
       "      <td>33.333333(1)</td>\n",
       "      <td>0.000000(0)</td>\n",
       "      <td>0.000000(0)</td>\n",
       "    </tr>\n",
       "  </tbody>\n",
       "</table>"
      ],
      "text/plain": [
       "<IPython.core.display.HTML object>"
      ]
     },
     "metadata": {},
     "output_type": "display_data"
    },
    {
     "name": "stdout",
     "output_type": "stream",
     "text": [
      "for 1th dataset ENTER: gtex_all\n",
      "for 2th dataset ENTER: tcga_normal_all\n",
      "no overlap between datasets\n",
      "insert name for 1th datasetgtex_all\n",
      "insert name for 2th datasettcga_normal_all\n",
      "for dataset ENTER: tcga_normal_all\n",
      "insert name for other datasettcga_normal_all\n",
      "1st: high cutoff applied to gtex dataset\n",
      "2nd: common genes identified with other dataset\n",
      "3rd: both datasets combined\n",
      "4th: High cutoff applied to non-gtex dataset\n",
      "for dataset ENTER: tcga_primtum_all\n",
      "insert name for other datasettcga_primtum_all\n",
      "1st: high cutoff applied to gtex dataset\n",
      "2nd: common genes identified with other dataset\n",
      "3rd: both datasets combined\n",
      "4th: High cutoff applied to non-gtex dataset\n",
      "1st: high cutoff applied to gtex dataset\n",
      "2nd: common genes identified with other datasets\n",
      "3rd: all datasets combined\n",
      "4th: High cutoff applied to non-gtex datasets\n"
     ]
    },
    {
     "data": {
      "text/html": [
       "<table border=\"1\" class=\"dataframe\">\n",
       "  <thead>\n",
       "    <tr style=\"text-align: right;\">\n",
       "      <th></th>\n",
       "      <th>GTEX_highly_correlated</th>\n",
       "      <th>%also_highly_correlated_in_TCGA_normal</th>\n",
       "      <th>%also_highly_correlated_in_TCGA_primtum</th>\n",
       "      <th>%also_highly_correlated_in_all_three</th>\n",
       "    </tr>\n",
       "  </thead>\n",
       "  <tbody>\n",
       "    <tr>\n",
       "      <th>ITGB5</th>\n",
       "      <td>22</td>\n",
       "      <td>68.181818(15)</td>\n",
       "      <td>0.000000(0)</td>\n",
       "      <td>0.000000(0)</td>\n",
       "    </tr>\n",
       "  </tbody>\n",
       "</table>"
      ],
      "text/plain": [
       "<IPython.core.display.HTML object>"
      ]
     },
     "metadata": {},
     "output_type": "display_data"
    },
    {
     "name": "stdout",
     "output_type": "stream",
     "text": [
      "for 1th dataset ENTER: gtex_all\n",
      "for 2th dataset ENTER: tcga_normal_all\n",
      "no overlap between datasets\n",
      "insert name for 1th datasetgtex_all\n",
      "insert name for 2th datasettcga_normal_all\n",
      "for dataset ENTER: tcga_normal_all\n",
      "insert name for other datasettcga_normal_all\n",
      "1st: high cutoff applied to gtex dataset\n",
      "2nd: common genes identified with other dataset\n",
      "3rd: both datasets combined\n",
      "4th: High cutoff applied to non-gtex dataset\n",
      "for dataset ENTER: tcga_primtum_all\n",
      "insert name for other datasettcga_primtum_all\n",
      "1st: high cutoff applied to gtex dataset\n",
      "2nd: common genes identified with other dataset\n",
      "3rd: both datasets combined\n",
      "4th: High cutoff applied to non-gtex dataset\n",
      "1st: high cutoff applied to gtex dataset\n",
      "2nd: common genes identified with other datasets\n",
      "3rd: all datasets combined\n",
      "4th: High cutoff applied to non-gtex datasets\n"
     ]
    },
    {
     "data": {
      "text/html": [
       "<table border=\"1\" class=\"dataframe\">\n",
       "  <thead>\n",
       "    <tr style=\"text-align: right;\">\n",
       "      <th></th>\n",
       "      <th>GTEX_highly_correlated</th>\n",
       "      <th>%also_highly_correlated_in_TCGA_normal</th>\n",
       "      <th>%also_highly_correlated_in_TCGA_primtum</th>\n",
       "      <th>%also_highly_correlated_in_all_three</th>\n",
       "    </tr>\n",
       "  </thead>\n",
       "  <tbody>\n",
       "    <tr>\n",
       "      <th>ITGA1</th>\n",
       "      <td>67</td>\n",
       "      <td>71.641791(48)</td>\n",
       "      <td>34.328358(23)</td>\n",
       "      <td>34.328358(23)</td>\n",
       "    </tr>\n",
       "  </tbody>\n",
       "</table>"
      ],
      "text/plain": [
       "<IPython.core.display.HTML object>"
      ]
     },
     "metadata": {},
     "output_type": "display_data"
    },
    {
     "name": "stdout",
     "output_type": "stream",
     "text": [
      "for 1th dataset ENTER: gtex_all\n",
      "for 2th dataset ENTER: tcga_normal_all\n",
      "no overlap between datasets\n",
      "insert name for 1th datasetgtex_all\n",
      "insert name for 2th datasettcga_normal_all\n",
      "for dataset ENTER: tcga_normal_all\n",
      "insert name for other datasettcga_normal_all\n",
      "1st: high cutoff applied to gtex dataset\n",
      "2nd: common genes identified with other dataset\n",
      "3rd: both datasets combined\n",
      "4th: High cutoff applied to non-gtex dataset\n",
      "for dataset ENTER: tcga_primtum_all\n",
      "insert name for other datasettcga_primtum_all\n",
      "1st: high cutoff applied to gtex dataset\n",
      "2nd: common genes identified with other dataset\n",
      "3rd: both datasets combined\n",
      "4th: High cutoff applied to non-gtex dataset\n",
      "1st: high cutoff applied to gtex dataset\n",
      "2nd: common genes identified with other datasets\n",
      "3rd: all datasets combined\n",
      "4th: High cutoff applied to non-gtex datasets\n"
     ]
    },
    {
     "data": {
      "text/html": [
       "<table border=\"1\" class=\"dataframe\">\n",
       "  <thead>\n",
       "    <tr style=\"text-align: right;\">\n",
       "      <th></th>\n",
       "      <th>GTEX_highly_correlated</th>\n",
       "      <th>%also_highly_correlated_in_TCGA_normal</th>\n",
       "      <th>%also_highly_correlated_in_TCGA_primtum</th>\n",
       "      <th>%also_highly_correlated_in_all_three</th>\n",
       "    </tr>\n",
       "  </thead>\n",
       "  <tbody>\n",
       "    <tr>\n",
       "      <th>ITGA2</th>\n",
       "      <td>4047</td>\n",
       "      <td>37.385718(1513)</td>\n",
       "      <td>0.000000(0)</td>\n",
       "      <td>0.000000(0)</td>\n",
       "    </tr>\n",
       "  </tbody>\n",
       "</table>"
      ],
      "text/plain": [
       "<IPython.core.display.HTML object>"
      ]
     },
     "metadata": {},
     "output_type": "display_data"
    },
    {
     "name": "stdout",
     "output_type": "stream",
     "text": [
      "for 1th dataset ENTER: gtex_all\n",
      "for 2th dataset ENTER: tcga_normal_all\n",
      "no overlap between datasets\n",
      "insert name for 1th datasetgtex_all\n",
      "insert name for 2th datasettcga_normal_all\n",
      "for dataset ENTER: tcga_normal_all\n",
      "insert name for other datasettcga_normal_all\n",
      "1st: high cutoff applied to gtex dataset\n",
      "2nd: common genes identified with other dataset\n",
      "3rd: both datasets combined\n",
      "4th: High cutoff applied to non-gtex dataset\n",
      "for dataset ENTER: tcga_primtum_all\n",
      "insert name for other datasettcga_primtum_all\n",
      "1st: high cutoff applied to gtex dataset\n",
      "2nd: common genes identified with other dataset\n",
      "3rd: both datasets combined\n",
      "4th: High cutoff applied to non-gtex dataset\n",
      "1st: high cutoff applied to gtex dataset\n",
      "2nd: common genes identified with other datasets\n",
      "3rd: all datasets combined\n",
      "4th: High cutoff applied to non-gtex datasets\n"
     ]
    },
    {
     "data": {
      "text/html": [
       "<table border=\"1\" class=\"dataframe\">\n",
       "  <thead>\n",
       "    <tr style=\"text-align: right;\">\n",
       "      <th></th>\n",
       "      <th>GTEX_highly_correlated</th>\n",
       "      <th>%also_highly_correlated_in_TCGA_normal</th>\n",
       "      <th>%also_highly_correlated_in_TCGA_primtum</th>\n",
       "      <th>%also_highly_correlated_in_all_three</th>\n",
       "    </tr>\n",
       "  </thead>\n",
       "  <tbody>\n",
       "    <tr>\n",
       "      <th>ITGA8</th>\n",
       "      <td>31</td>\n",
       "      <td>6.451613(2)</td>\n",
       "      <td>0.000000(0)</td>\n",
       "      <td>0.000000(0)</td>\n",
       "    </tr>\n",
       "  </tbody>\n",
       "</table>"
      ],
      "text/plain": [
       "<IPython.core.display.HTML object>"
      ]
     },
     "metadata": {},
     "output_type": "display_data"
    },
    {
     "name": "stdout",
     "output_type": "stream",
     "text": [
      "for 1th dataset ENTER: gtex_all\n",
      "for 2th dataset ENTER: tcga_normal_all\n",
      "no overlap between datasets\n",
      "insert name for 1th datasetgtex_all\n",
      "insert name for 2th datasettcga_normal_all\n",
      "for dataset ENTER: tcga_normal_all\n",
      "insert name for other datasettcga_normal_all\n",
      "1st: high cutoff applied to gtex dataset\n",
      "2nd: common genes identified with other dataset\n",
      "3rd: both datasets combined\n",
      "4th: High cutoff applied to non-gtex dataset\n",
      "for dataset ENTER: tcga_primtum_all\n",
      "insert name for other datasettcga_primtum_all\n",
      "1st: high cutoff applied to gtex dataset\n",
      "2nd: common genes identified with other dataset\n",
      "3rd: both datasets combined\n",
      "4th: High cutoff applied to non-gtex dataset\n",
      "1st: high cutoff applied to gtex dataset\n",
      "2nd: common genes identified with other datasets\n",
      "3rd: all datasets combined\n",
      "4th: High cutoff applied to non-gtex datasets\n"
     ]
    },
    {
     "data": {
      "text/html": [
       "<table border=\"1\" class=\"dataframe\">\n",
       "  <thead>\n",
       "    <tr style=\"text-align: right;\">\n",
       "      <th></th>\n",
       "      <th>GTEX_highly_correlated</th>\n",
       "      <th>%also_highly_correlated_in_TCGA_normal</th>\n",
       "      <th>%also_highly_correlated_in_TCGA_primtum</th>\n",
       "      <th>%also_highly_correlated_in_all_three</th>\n",
       "    </tr>\n",
       "  </thead>\n",
       "  <tbody>\n",
       "    <tr>\n",
       "      <th>ITGB1</th>\n",
       "      <td>70</td>\n",
       "      <td>91.428571(64)</td>\n",
       "      <td>2.857143(2)</td>\n",
       "      <td>2.857143(2)</td>\n",
       "    </tr>\n",
       "  </tbody>\n",
       "</table>"
      ],
      "text/plain": [
       "<IPython.core.display.HTML object>"
      ]
     },
     "metadata": {},
     "output_type": "display_data"
    },
    {
     "name": "stdout",
     "output_type": "stream",
     "text": [
      "for 1th dataset ENTER: gtex_all\n",
      "for 2th dataset ENTER: tcga_normal_all\n",
      "no overlap between datasets\n",
      "insert name for 1th datasetgtex_all\n",
      "insert name for 2th datasettcga_normal_all\n",
      "for dataset ENTER: tcga_normal_all\n",
      "insert name for other datasettcga_normal_all\n",
      "1st: high cutoff applied to gtex dataset\n",
      "2nd: common genes identified with other dataset\n",
      "3rd: both datasets combined\n",
      "4th: High cutoff applied to non-gtex dataset\n",
      "for dataset ENTER: tcga_primtum_all\n",
      "insert name for other datasettcga_primtum_all\n",
      "1st: high cutoff applied to gtex dataset\n",
      "2nd: common genes identified with other dataset\n",
      "3rd: both datasets combined\n",
      "4th: High cutoff applied to non-gtex dataset\n",
      "1st: high cutoff applied to gtex dataset\n",
      "2nd: common genes identified with other datasets\n",
      "3rd: all datasets combined\n",
      "4th: High cutoff applied to non-gtex datasets\n"
     ]
    },
    {
     "data": {
      "text/html": [
       "<table border=\"1\" class=\"dataframe\">\n",
       "  <thead>\n",
       "    <tr style=\"text-align: right;\">\n",
       "      <th></th>\n",
       "      <th>GTEX_highly_correlated</th>\n",
       "      <th>%also_highly_correlated_in_TCGA_normal</th>\n",
       "      <th>%also_highly_correlated_in_TCGA_primtum</th>\n",
       "      <th>%also_highly_correlated_in_all_three</th>\n",
       "    </tr>\n",
       "  </thead>\n",
       "  <tbody>\n",
       "    <tr>\n",
       "      <th>ITGB7</th>\n",
       "      <td>83</td>\n",
       "      <td>33.734940(28)</td>\n",
       "      <td>48.192771(40)</td>\n",
       "      <td>31.325301(26)</td>\n",
       "    </tr>\n",
       "  </tbody>\n",
       "</table>"
      ],
      "text/plain": [
       "<IPython.core.display.HTML object>"
      ]
     },
     "metadata": {},
     "output_type": "display_data"
    },
    {
     "name": "stdout",
     "output_type": "stream",
     "text": [
      "for 1th dataset ENTER: gtex_all\n",
      "for 2th dataset ENTER: tcga_normal_all\n",
      "no overlap between datasets\n",
      "insert name for 1th datasetgtex_all\n",
      "insert name for 2th datasettcga_normal_all\n",
      "for dataset ENTER: tcga_normal_all\n",
      "insert name for other datasettcga_normal_all\n",
      "1st: high cutoff applied to gtex dataset\n",
      "2nd: common genes identified with other dataset\n",
      "3rd: both datasets combined\n",
      "4th: High cutoff applied to non-gtex dataset\n",
      "for dataset ENTER: tcga_primtum_all\n",
      "insert name for other datasettcga_primtum_all\n",
      "1st: high cutoff applied to gtex dataset\n",
      "2nd: common genes identified with other dataset\n",
      "3rd: both datasets combined\n",
      "4th: High cutoff applied to non-gtex dataset\n",
      "1st: high cutoff applied to gtex dataset\n",
      "2nd: common genes identified with other datasets\n",
      "3rd: all datasets combined\n",
      "4th: High cutoff applied to non-gtex datasets\n"
     ]
    },
    {
     "data": {
      "text/html": [
       "<table border=\"1\" class=\"dataframe\">\n",
       "  <thead>\n",
       "    <tr style=\"text-align: right;\">\n",
       "      <th></th>\n",
       "      <th>GTEX_highly_correlated</th>\n",
       "      <th>%also_highly_correlated_in_TCGA_normal</th>\n",
       "      <th>%also_highly_correlated_in_TCGA_primtum</th>\n",
       "      <th>%also_highly_correlated_in_all_three</th>\n",
       "    </tr>\n",
       "  </thead>\n",
       "  <tbody>\n",
       "    <tr>\n",
       "      <th>ITGA5</th>\n",
       "      <td>59</td>\n",
       "      <td>18.644068(11)</td>\n",
       "      <td>3.389831(2)</td>\n",
       "      <td>1.694915(1)</td>\n",
       "    </tr>\n",
       "  </tbody>\n",
       "</table>"
      ],
      "text/plain": [
       "<IPython.core.display.HTML object>"
      ]
     },
     "metadata": {},
     "output_type": "display_data"
    },
    {
     "name": "stdout",
     "output_type": "stream",
     "text": [
      "for 1th dataset ENTER: gtex_all\n",
      "for 2th dataset ENTER: tcga_normal_all\n",
      "no overlap between datasets\n",
      "insert name for 1th datasetgtex_all\n",
      "insert name for 2th datasettcga_normal_all\n",
      "for dataset ENTER: tcga_normal_all\n",
      "insert name for other datasettcga_normal_all\n",
      "1st: high cutoff applied to gtex dataset\n",
      "2nd: common genes identified with other dataset\n",
      "3rd: both datasets combined\n",
      "4th: High cutoff applied to non-gtex dataset\n",
      "for dataset ENTER: tcga_primtum_all\n",
      "insert name for other datasettcga_primtum_all\n",
      "1st: high cutoff applied to gtex dataset\n",
      "2nd: common genes identified with other dataset\n",
      "3rd: both datasets combined\n",
      "4th: High cutoff applied to non-gtex dataset\n",
      "1st: high cutoff applied to gtex dataset\n",
      "2nd: common genes identified with other datasets\n",
      "3rd: all datasets combined\n",
      "4th: High cutoff applied to non-gtex datasets\n"
     ]
    },
    {
     "data": {
      "text/html": [
       "<table border=\"1\" class=\"dataframe\">\n",
       "  <thead>\n",
       "    <tr style=\"text-align: right;\">\n",
       "      <th></th>\n",
       "      <th>GTEX_highly_correlated</th>\n",
       "      <th>%also_highly_correlated_in_TCGA_normal</th>\n",
       "      <th>%also_highly_correlated_in_TCGA_primtum</th>\n",
       "      <th>%also_highly_correlated_in_all_three</th>\n",
       "    </tr>\n",
       "  </thead>\n",
       "  <tbody>\n",
       "    <tr>\n",
       "      <th>ITGBL1</th>\n",
       "      <td>7</td>\n",
       "      <td>14.285714(1)</td>\n",
       "      <td>57.142857(4)</td>\n",
       "      <td>14.285714(1)</td>\n",
       "    </tr>\n",
       "  </tbody>\n",
       "</table>"
      ],
      "text/plain": [
       "<IPython.core.display.HTML object>"
      ]
     },
     "metadata": {},
     "output_type": "display_data"
    },
    {
     "name": "stdout",
     "output_type": "stream",
     "text": [
      "for 1th dataset ENTER: gtex_all\n",
      "for 2th dataset ENTER: tcga_normal_all\n",
      "no overlap between datasets\n",
      "insert name for 1th datasetgtex_all\n",
      "insert name for 2th datasettcga_normal_all\n",
      "for dataset ENTER: tcga_normal_all\n",
      "insert name for other datasettcga_normal_all\n",
      "1st: high cutoff applied to gtex dataset\n",
      "2nd: common genes identified with other dataset\n",
      "3rd: both datasets combined\n",
      "4th: High cutoff applied to non-gtex dataset\n",
      "for dataset ENTER: tcga_primtum_all\n",
      "insert name for other datasettcga_primtum_all\n",
      "1st: high cutoff applied to gtex dataset\n",
      "2nd: common genes identified with other dataset\n",
      "3rd: both datasets combined\n",
      "4th: High cutoff applied to non-gtex dataset\n",
      "1st: high cutoff applied to gtex dataset\n",
      "2nd: common genes identified with other datasets\n",
      "3rd: all datasets combined\n",
      "4th: High cutoff applied to non-gtex datasets\n"
     ]
    },
    {
     "data": {
      "text/html": [
       "<table border=\"1\" class=\"dataframe\">\n",
       "  <thead>\n",
       "    <tr style=\"text-align: right;\">\n",
       "      <th></th>\n",
       "      <th>GTEX_highly_correlated</th>\n",
       "      <th>%also_highly_correlated_in_TCGA_normal</th>\n",
       "      <th>%also_highly_correlated_in_TCGA_primtum</th>\n",
       "      <th>%also_highly_correlated_in_all_three</th>\n",
       "    </tr>\n",
       "  </thead>\n",
       "  <tbody>\n",
       "    <tr>\n",
       "      <th>ITGA11</th>\n",
       "      <td>27</td>\n",
       "      <td>18.518519(5)</td>\n",
       "      <td>14.814815(4)</td>\n",
       "      <td>3.703704(1)</td>\n",
       "    </tr>\n",
       "  </tbody>\n",
       "</table>"
      ],
      "text/plain": [
       "<IPython.core.display.HTML object>"
      ]
     },
     "metadata": {},
     "output_type": "display_data"
    },
    {
     "name": "stdout",
     "output_type": "stream",
     "text": [
      "for 1th dataset ENTER: gtex_all\n",
      "for 2th dataset ENTER: tcga_normal_all\n",
      "no overlap between datasets\n",
      "insert name for 1th datasetgtex_all\n",
      "insert name for 2th datasettcga_normal_all\n",
      "for dataset ENTER: tcga_normal_all\n",
      "insert name for other datasettcga_normal_all\n",
      "1st: high cutoff applied to gtex dataset\n",
      "2nd: common genes identified with other dataset\n",
      "3rd: both datasets combined\n",
      "4th: High cutoff applied to non-gtex dataset\n",
      "for dataset ENTER: tcga_primtum_all\n",
      "insert name for other datasettcga_primtum_all\n",
      "1st: high cutoff applied to gtex dataset\n",
      "2nd: common genes identified with other dataset\n",
      "3rd: both datasets combined\n",
      "4th: High cutoff applied to non-gtex dataset\n",
      "1st: high cutoff applied to gtex dataset\n",
      "2nd: common genes identified with other datasets\n",
      "3rd: all datasets combined\n",
      "4th: High cutoff applied to non-gtex datasets\n"
     ]
    },
    {
     "data": {
      "text/html": [
       "<table border=\"1\" class=\"dataframe\">\n",
       "  <thead>\n",
       "    <tr style=\"text-align: right;\">\n",
       "      <th></th>\n",
       "      <th>GTEX_highly_correlated</th>\n",
       "      <th>%also_highly_correlated_in_TCGA_normal</th>\n",
       "      <th>%also_highly_correlated_in_TCGA_primtum</th>\n",
       "      <th>%also_highly_correlated_in_all_three</th>\n",
       "    </tr>\n",
       "  </thead>\n",
       "  <tbody>\n",
       "    <tr>\n",
       "      <th>ITGAL</th>\n",
       "      <td>101</td>\n",
       "      <td>77.227723(78)</td>\n",
       "      <td>75.247525(76)</td>\n",
       "      <td>66.336634(67)</td>\n",
       "    </tr>\n",
       "  </tbody>\n",
       "</table>"
      ],
      "text/plain": [
       "<IPython.core.display.HTML object>"
      ]
     },
     "metadata": {},
     "output_type": "display_data"
    },
    {
     "name": "stdout",
     "output_type": "stream",
     "text": [
      "for 1th dataset ENTER: gtex_all\n",
      "for 2th dataset ENTER: tcga_normal_all\n",
      "no overlap between datasets\n",
      "insert name for 1th datasetgtex_all\n",
      "insert name for 2th datasettcga_normal_all\n",
      "for dataset ENTER: tcga_normal_all\n",
      "insert name for other datasettcga_normal_all\n",
      "1st: high cutoff applied to gtex dataset\n",
      "2nd: common genes identified with other dataset\n",
      "3rd: both datasets combined\n",
      "4th: High cutoff applied to non-gtex dataset\n",
      "for dataset ENTER: tcga_primtum_all\n",
      "insert name for other datasettcga_primtum_all\n",
      "1st: high cutoff applied to gtex dataset\n",
      "2nd: common genes identified with other dataset\n",
      "3rd: both datasets combined\n",
      "4th: High cutoff applied to non-gtex dataset\n",
      "1st: high cutoff applied to gtex dataset\n",
      "2nd: common genes identified with other datasets\n",
      "3rd: all datasets combined\n",
      "4th: High cutoff applied to non-gtex datasets\n"
     ]
    },
    {
     "data": {
      "text/html": [
       "<table border=\"1\" class=\"dataframe\">\n",
       "  <thead>\n",
       "    <tr style=\"text-align: right;\">\n",
       "      <th></th>\n",
       "      <th>GTEX_highly_correlated</th>\n",
       "      <th>%also_highly_correlated_in_TCGA_normal</th>\n",
       "      <th>%also_highly_correlated_in_TCGA_primtum</th>\n",
       "      <th>%also_highly_correlated_in_all_three</th>\n",
       "    </tr>\n",
       "  </thead>\n",
       "  <tbody>\n",
       "    <tr>\n",
       "      <th>ITGAM</th>\n",
       "      <td>314</td>\n",
       "      <td>43.630573(137)</td>\n",
       "      <td>24.203822(76)</td>\n",
       "      <td>21.337580(67)</td>\n",
       "    </tr>\n",
       "  </tbody>\n",
       "</table>"
      ],
      "text/plain": [
       "<IPython.core.display.HTML object>"
      ]
     },
     "metadata": {},
     "output_type": "display_data"
    },
    {
     "name": "stdout",
     "output_type": "stream",
     "text": [
      "for 1th dataset ENTER: gtex_all\n",
      "for 2th dataset ENTER: tcga_normal_all\n",
      "no overlap between datasets\n",
      "insert name for 1th datasetgtex_all\n",
      "insert name for 2th datasettcga_normal_all\n",
      "for dataset ENTER: tcga_normal_all\n",
      "insert name for other datasettcga_normal_all\n",
      "1st: high cutoff applied to gtex dataset\n",
      "2nd: common genes identified with other dataset\n",
      "3rd: both datasets combined\n",
      "4th: High cutoff applied to non-gtex dataset\n",
      "for dataset ENTER: tcga_primtum_all\n",
      "insert name for other datasettcga_primtum_all\n",
      "1st: high cutoff applied to gtex dataset\n",
      "2nd: common genes identified with other dataset\n",
      "3rd: both datasets combined\n",
      "4th: High cutoff applied to non-gtex dataset\n",
      "1st: high cutoff applied to gtex dataset\n",
      "2nd: common genes identified with other datasets\n",
      "3rd: all datasets combined\n",
      "4th: High cutoff applied to non-gtex datasets\n"
     ]
    },
    {
     "data": {
      "text/html": [
       "<table border=\"1\" class=\"dataframe\">\n",
       "  <thead>\n",
       "    <tr style=\"text-align: right;\">\n",
       "      <th></th>\n",
       "      <th>GTEX_highly_correlated</th>\n",
       "      <th>%also_highly_correlated_in_TCGA_normal</th>\n",
       "      <th>%also_highly_correlated_in_TCGA_primtum</th>\n",
       "      <th>%also_highly_correlated_in_all_three</th>\n",
       "    </tr>\n",
       "  </thead>\n",
       "  <tbody>\n",
       "    <tr>\n",
       "      <th>ITGAX</th>\n",
       "      <td>257</td>\n",
       "      <td>40.077821(103)</td>\n",
       "      <td>36.964981(95)</td>\n",
       "      <td>30.350195(78)</td>\n",
       "    </tr>\n",
       "  </tbody>\n",
       "</table>"
      ],
      "text/plain": [
       "<IPython.core.display.HTML object>"
      ]
     },
     "metadata": {},
     "output_type": "display_data"
    },
    {
     "name": "stdout",
     "output_type": "stream",
     "text": [
      "for 1th dataset ENTER: gtex_all\n",
      "for 2th dataset ENTER: tcga_normal_all\n",
      "no overlap between datasets\n",
      "insert name for 1th datasetgtex_all\n",
      "insert name for 2th datasettcga_normal_all\n",
      "for dataset ENTER: tcga_normal_all\n",
      "insert name for other datasettcga_normal_all\n",
      "1st: high cutoff applied to gtex dataset\n",
      "2nd: common genes identified with other dataset\n",
      "3rd: both datasets combined\n",
      "4th: High cutoff applied to non-gtex dataset\n",
      "for dataset ENTER: tcga_primtum_all\n",
      "insert name for other datasettcga_primtum_all\n",
      "1st: high cutoff applied to gtex dataset\n",
      "2nd: common genes identified with other dataset\n",
      "3rd: both datasets combined\n",
      "4th: High cutoff applied to non-gtex dataset\n",
      "1st: high cutoff applied to gtex dataset\n",
      "2nd: common genes identified with other datasets\n",
      "3rd: all datasets combined\n",
      "4th: High cutoff applied to non-gtex datasets\n"
     ]
    },
    {
     "data": {
      "text/html": [
       "<table border=\"1\" class=\"dataframe\">\n",
       "  <thead>\n",
       "    <tr style=\"text-align: right;\">\n",
       "      <th></th>\n",
       "      <th>GTEX_highly_correlated</th>\n",
       "      <th>%also_highly_correlated_in_TCGA_normal</th>\n",
       "      <th>%also_highly_correlated_in_TCGA_primtum</th>\n",
       "      <th>%also_highly_correlated_in_all_three</th>\n",
       "    </tr>\n",
       "  </thead>\n",
       "  <tbody>\n",
       "    <tr>\n",
       "      <th>ITGAD</th>\n",
       "      <td>4</td>\n",
       "      <td>0.000000(0)</td>\n",
       "      <td>0.000000(0)</td>\n",
       "      <td>0.000000(0)</td>\n",
       "    </tr>\n",
       "  </tbody>\n",
       "</table>"
      ],
      "text/plain": [
       "<IPython.core.display.HTML object>"
      ]
     },
     "metadata": {},
     "output_type": "display_data"
    },
    {
     "name": "stdout",
     "output_type": "stream",
     "text": [
      "for 1th dataset ENTER: gtex_all\n",
      "for 2th dataset ENTER: tcga_normal_all\n",
      "no overlap between datasets\n",
      "insert name for 1th datasetgtex_all\n",
      "insert name for 2th datasettcga_normal_all\n",
      "for dataset ENTER: tcga_normal_all\n",
      "insert name for other datasettcga_normal_all\n",
      "1st: high cutoff applied to gtex dataset\n",
      "2nd: common genes identified with other dataset\n",
      "3rd: both datasets combined\n",
      "4th: High cutoff applied to non-gtex dataset\n",
      "for dataset ENTER: tcga_primtum_all\n",
      "insert name for other datasettcga_primtum_all\n",
      "1st: high cutoff applied to gtex dataset\n",
      "2nd: common genes identified with other dataset\n",
      "3rd: both datasets combined\n",
      "4th: High cutoff applied to non-gtex dataset\n",
      "1st: high cutoff applied to gtex dataset\n",
      "2nd: common genes identified with other datasets\n",
      "3rd: all datasets combined\n",
      "4th: High cutoff applied to non-gtex datasets\n"
     ]
    },
    {
     "data": {
      "text/html": [
       "<table border=\"1\" class=\"dataframe\">\n",
       "  <thead>\n",
       "    <tr style=\"text-align: right;\">\n",
       "      <th></th>\n",
       "      <th>GTEX_highly_correlated</th>\n",
       "      <th>%also_highly_correlated_in_TCGA_normal</th>\n",
       "      <th>%also_highly_correlated_in_TCGA_primtum</th>\n",
       "      <th>%also_highly_correlated_in_all_three</th>\n",
       "    </tr>\n",
       "  </thead>\n",
       "  <tbody>\n",
       "    <tr>\n",
       "      <th>ITGAE</th>\n",
       "      <td>24</td>\n",
       "      <td>8.333333(2)</td>\n",
       "      <td>0.000000(0)</td>\n",
       "      <td>0.000000(0)</td>\n",
       "    </tr>\n",
       "  </tbody>\n",
       "</table>"
      ],
      "text/plain": [
       "<IPython.core.display.HTML object>"
      ]
     },
     "metadata": {},
     "output_type": "display_data"
    },
    {
     "name": "stdout",
     "output_type": "stream",
     "text": [
      "for 1th dataset ENTER: gtex_all\n",
      "for 2th dataset ENTER: tcga_normal_all\n",
      "no overlap between datasets\n",
      "insert name for 1th datasetgtex_all\n",
      "insert name for 2th datasettcga_normal_all\n",
      "for dataset ENTER: tcga_normal_all\n",
      "insert name for other datasettcga_normal_all\n",
      "1st: high cutoff applied to gtex dataset\n",
      "2nd: common genes identified with other dataset\n",
      "3rd: both datasets combined\n",
      "4th: High cutoff applied to non-gtex dataset\n",
      "for dataset ENTER: tcga_primtum_all\n",
      "insert name for other datasettcga_primtum_all\n",
      "1st: high cutoff applied to gtex dataset\n",
      "2nd: common genes identified with other dataset\n",
      "3rd: both datasets combined\n",
      "4th: High cutoff applied to non-gtex dataset\n",
      "1st: high cutoff applied to gtex dataset\n",
      "2nd: common genes identified with other datasets\n",
      "3rd: all datasets combined\n",
      "4th: High cutoff applied to non-gtex datasets\n"
     ]
    },
    {
     "data": {
      "text/html": [
       "<table border=\"1\" class=\"dataframe\">\n",
       "  <thead>\n",
       "    <tr style=\"text-align: right;\">\n",
       "      <th></th>\n",
       "      <th>GTEX_highly_correlated</th>\n",
       "      <th>%also_highly_correlated_in_TCGA_normal</th>\n",
       "      <th>%also_highly_correlated_in_TCGA_primtum</th>\n",
       "      <th>%also_highly_correlated_in_all_three</th>\n",
       "    </tr>\n",
       "  </thead>\n",
       "  <tbody>\n",
       "    <tr>\n",
       "      <th>ITGA2B</th>\n",
       "      <td>5</td>\n",
       "      <td>0.000000(0)</td>\n",
       "      <td>0.000000(0)</td>\n",
       "      <td>0.000000(0)</td>\n",
       "    </tr>\n",
       "  </tbody>\n",
       "</table>"
      ],
      "text/plain": [
       "<IPython.core.display.HTML object>"
      ]
     },
     "metadata": {},
     "output_type": "display_data"
    },
    {
     "name": "stdout",
     "output_type": "stream",
     "text": [
      "for 1th dataset ENTER: gtex_all\n",
      "for 2th dataset ENTER: tcga_normal_all\n",
      "no overlap between datasets\n",
      "insert name for 1th datasetgtex_all\n",
      "insert name for 2th datasettcga_normal_all\n",
      "for dataset ENTER: tcga_normal_all\n",
      "insert name for other datasettcga_normal_all\n",
      "1st: high cutoff applied to gtex dataset\n",
      "2nd: common genes identified with other dataset\n",
      "3rd: both datasets combined\n",
      "4th: High cutoff applied to non-gtex dataset\n",
      "for dataset ENTER: tcga_primtum_all\n",
      "insert name for other datasettcga_primtum_all\n",
      "1st: high cutoff applied to gtex dataset\n",
      "2nd: common genes identified with other dataset\n",
      "3rd: both datasets combined\n",
      "4th: High cutoff applied to non-gtex dataset\n",
      "1st: high cutoff applied to gtex dataset\n",
      "2nd: common genes identified with other datasets\n",
      "3rd: all datasets combined\n",
      "4th: High cutoff applied to non-gtex datasets\n"
     ]
    },
    {
     "data": {
      "text/html": [
       "<table border=\"1\" class=\"dataframe\">\n",
       "  <thead>\n",
       "    <tr style=\"text-align: right;\">\n",
       "      <th></th>\n",
       "      <th>GTEX_highly_correlated</th>\n",
       "      <th>%also_highly_correlated_in_TCGA_normal</th>\n",
       "      <th>%also_highly_correlated_in_TCGA_primtum</th>\n",
       "      <th>%also_highly_correlated_in_all_three</th>\n",
       "    </tr>\n",
       "  </thead>\n",
       "  <tbody>\n",
       "    <tr>\n",
       "      <th>ITGB3</th>\n",
       "      <td>57</td>\n",
       "      <td>10.526316(6)</td>\n",
       "      <td>0.000000(0)</td>\n",
       "      <td>0.000000(0)</td>\n",
       "    </tr>\n",
       "  </tbody>\n",
       "</table>"
      ],
      "text/plain": [
       "<IPython.core.display.HTML object>"
      ]
     },
     "metadata": {},
     "output_type": "display_data"
    },
    {
     "name": "stdout",
     "output_type": "stream",
     "text": [
      "for 1th dataset ENTER: gtex_all\n",
      "for 2th dataset ENTER: tcga_normal_all\n",
      "no overlap between datasets\n",
      "insert name for 1th datasetgtex_all\n",
      "insert name for 2th datasettcga_normal_all\n",
      "for dataset ENTER: tcga_normal_all\n",
      "insert name for other datasettcga_normal_all\n",
      "1st: high cutoff applied to gtex dataset\n",
      "2nd: common genes identified with other dataset\n",
      "3rd: both datasets combined\n",
      "4th: High cutoff applied to non-gtex dataset\n",
      "for dataset ENTER: tcga_primtum_all\n",
      "insert name for other datasettcga_primtum_all\n",
      "1st: high cutoff applied to gtex dataset\n",
      "2nd: common genes identified with other dataset\n",
      "3rd: both datasets combined\n",
      "4th: High cutoff applied to non-gtex dataset\n",
      "1st: high cutoff applied to gtex dataset\n",
      "2nd: common genes identified with other datasets\n",
      "3rd: all datasets combined\n",
      "4th: High cutoff applied to non-gtex datasets\n"
     ]
    },
    {
     "data": {
      "text/html": [
       "<table border=\"1\" class=\"dataframe\">\n",
       "  <thead>\n",
       "    <tr style=\"text-align: right;\">\n",
       "      <th></th>\n",
       "      <th>GTEX_highly_correlated</th>\n",
       "      <th>%also_highly_correlated_in_TCGA_normal</th>\n",
       "      <th>%also_highly_correlated_in_TCGA_primtum</th>\n",
       "      <th>%also_highly_correlated_in_all_three</th>\n",
       "    </tr>\n",
       "  </thead>\n",
       "  <tbody>\n",
       "    <tr>\n",
       "      <th>ITGA3</th>\n",
       "      <td>1430</td>\n",
       "      <td>48.881119(699)</td>\n",
       "      <td>0.000000(0)</td>\n",
       "      <td>0.000000(0)</td>\n",
       "    </tr>\n",
       "  </tbody>\n",
       "</table>"
      ],
      "text/plain": [
       "<IPython.core.display.HTML object>"
      ]
     },
     "metadata": {},
     "output_type": "display_data"
    },
    {
     "name": "stdout",
     "output_type": "stream",
     "text": [
      "for 1th dataset ENTER: gtex_all\n",
      "for 2th dataset ENTER: tcga_normal_all\n",
      "no overlap between datasets\n",
      "insert name for 1th datasetgtex_all\n",
      "insert name for 2th datasettcga_normal_all\n",
      "for dataset ENTER: tcga_normal_all\n",
      "insert name for other datasettcga_normal_all\n",
      "1st: high cutoff applied to gtex dataset\n",
      "2nd: common genes identified with other dataset\n",
      "3rd: both datasets combined\n",
      "4th: High cutoff applied to non-gtex dataset\n",
      "for dataset ENTER: tcga_primtum_all\n",
      "insert name for other datasettcga_primtum_all\n",
      "1st: high cutoff applied to gtex dataset\n",
      "2nd: common genes identified with other dataset\n",
      "3rd: both datasets combined\n",
      "4th: High cutoff applied to non-gtex dataset\n",
      "1st: high cutoff applied to gtex dataset\n",
      "2nd: common genes identified with other datasets\n",
      "3rd: all datasets combined\n",
      "4th: High cutoff applied to non-gtex datasets\n"
     ]
    },
    {
     "data": {
      "text/html": [
       "<table border=\"1\" class=\"dataframe\">\n",
       "  <thead>\n",
       "    <tr style=\"text-align: right;\">\n",
       "      <th></th>\n",
       "      <th>GTEX_highly_correlated</th>\n",
       "      <th>%also_highly_correlated_in_TCGA_normal</th>\n",
       "      <th>%also_highly_correlated_in_TCGA_primtum</th>\n",
       "      <th>%also_highly_correlated_in_all_three</th>\n",
       "    </tr>\n",
       "  </thead>\n",
       "  <tbody>\n",
       "    <tr>\n",
       "      <th>ITGB4</th>\n",
       "      <td>1617</td>\n",
       "      <td>47.619048(770)</td>\n",
       "      <td>0.000000(0)</td>\n",
       "      <td>0.000000(0)</td>\n",
       "    </tr>\n",
       "  </tbody>\n",
       "</table>"
      ],
      "text/plain": [
       "<IPython.core.display.HTML object>"
      ]
     },
     "metadata": {},
     "output_type": "display_data"
    },
    {
     "name": "stdout",
     "output_type": "stream",
     "text": [
      "for 1th dataset ENTER: gtex_all\n",
      "for 2th dataset ENTER: tcga_normal_all\n",
      "no overlap between datasets\n",
      "insert name for 1th datasetgtex_all\n",
      "insert name for 2th datasettcga_normal_all\n",
      "for dataset ENTER: tcga_normal_all\n",
      "insert name for other datasettcga_normal_all\n",
      "1st: high cutoff applied to gtex dataset\n",
      "2nd: common genes identified with other dataset\n",
      "3rd: both datasets combined\n",
      "4th: High cutoff applied to non-gtex dataset\n",
      "for dataset ENTER: tcga_primtum_all\n",
      "insert name for other datasettcga_primtum_all\n",
      "1st: high cutoff applied to gtex dataset\n",
      "2nd: common genes identified with other dataset\n",
      "3rd: both datasets combined\n",
      "4th: High cutoff applied to non-gtex dataset\n",
      "1st: high cutoff applied to gtex dataset\n",
      "2nd: common genes identified with other datasets\n",
      "3rd: all datasets combined\n",
      "4th: High cutoff applied to non-gtex datasets\n"
     ]
    },
    {
     "data": {
      "text/html": [
       "<table border=\"1\" class=\"dataframe\">\n",
       "  <thead>\n",
       "    <tr style=\"text-align: right;\">\n",
       "      <th></th>\n",
       "      <th>GTEX_highly_correlated</th>\n",
       "      <th>%also_highly_correlated_in_TCGA_normal</th>\n",
       "      <th>%also_highly_correlated_in_TCGA_primtum</th>\n",
       "      <th>%also_highly_correlated_in_all_three</th>\n",
       "    </tr>\n",
       "  </thead>\n",
       "  <tbody>\n",
       "    <tr>\n",
       "      <th>ITGB2</th>\n",
       "      <td>293</td>\n",
       "      <td>45.733788(134)</td>\n",
       "      <td>40.614334(119)</td>\n",
       "      <td>32.764505(96)</td>\n",
       "    </tr>\n",
       "  </tbody>\n",
       "</table>"
      ],
      "text/plain": [
       "<IPython.core.display.HTML object>"
      ]
     },
     "metadata": {},
     "output_type": "display_data"
    }
   ],
   "source": [
    "#table 1\n",
    "integrins_list=['ITGA7','ITGB8','ITGB6','ITGA10','ITGA6','ITGA4','ITGAV','ITGA9','ITGB5','ITGA1','ITGA2','ITGA8',\n",
    "'ITGB1','ITGB7','ITGA5','ITGBL1','ITGA11','ITGAL','ITGAM','ITGAX','ITGAD','ITGAE','ITGA2B','ITGB3','ITGA3',\n",
    "                'ITGB4','ITGB2']\n",
    "\n",
    "gtex_gct_dataset = 'gene_tpm_2017-06-05_v8_breast_mammary_tissue.gct_2'\n",
    "correlation_method ='pearson'\n",
    "correlation_cutoff = 0.6\n",
    "tcga_hiseq_dataset = '/home/hshadman/integrins_expression/saghar_TCGA_Breast/TCGA_BRCA_HiSeqV2' \n",
    "tcga_hiseq_corresponding_sample_info = '/home/hshadman/integrins_expression/saghar_TCGA_Breast/TCGA.BRCA.sampleMap_BRCA_clinicalMatrix'\n",
    "opposing_corr_cutoff = 0.1\n",
    "\n",
    "# make_data_presentable(interest_gene,correlation_method, correlation_cutoff,opposing_corr_cutoff,gtex_gct_dataset,\n",
    "#                          tcga_hiseq_dataset,tcga_hiseq_corresponding_sample_info)\n",
    "\n",
    "for interest_gene in integrins_list:\n",
    "    organize_gtex_tcga_table1(interest_gene,correlation_method, correlation_cutoff,opposing_corr_cutoff,gtex_gct_dataset,\n",
    "                             tcga_hiseq_dataset,tcga_hiseq_corresponding_sample_info)\n",
    "\n"
   ]
  },
  {
   "cell_type": "code",
   "execution_count": 11,
   "metadata": {
    "scrolled": false
   },
   "outputs": [
    {
     "name": "stdout",
     "output_type": "stream",
     "text": [
      "for 1th dataset ENTER: gtex_all\n",
      "for 2th dataset ENTER: tcga_normal_all\n",
      "no overlap between datasets\n",
      "insert name for 1th datasetgtex_all\n",
      "insert name for 2th datasettcga_normal_all\n",
      "for dataset ENTER: tcga_normal_all\n",
      "insert name for other datasettcga_normal_all\n",
      "1st: high cutoff applied to gtex dataset\n",
      "2nd: common genes identified with other dataset\n",
      "3rd: both datasets combined\n",
      "4th: low cutoff applied to non-gtex dataset\n",
      "for dataset ENTER: tcga_primtum_all\n",
      "insert name for other datasettcga_primtum_all\n",
      "1st: high cutoff applied to gtex dataset\n",
      "2nd: common genes identified with other dataset\n",
      "3rd: both datasets combined\n",
      "4th: low cutoff applied to non-gtex dataset\n"
     ]
    },
    {
     "data": {
      "text/html": [
       "<table border=\"1\" class=\"dataframe\">\n",
       "  <thead>\n",
       "    <tr style=\"text-align: right;\">\n",
       "      <th></th>\n",
       "      <th>GTEX_highly_correlated</th>\n",
       "      <th>%lowly_correlated_in_TCGA_normal</th>\n",
       "      <th>%lowly_correlated_in_TCGA_primtum</th>\n",
       "    </tr>\n",
       "  </thead>\n",
       "  <tbody>\n",
       "    <tr>\n",
       "      <th>ITGA7</th>\n",
       "      <td>317</td>\n",
       "      <td>0.000000(0)</td>\n",
       "      <td>21.766562(69)</td>\n",
       "    </tr>\n",
       "  </tbody>\n",
       "</table>"
      ],
      "text/plain": [
       "<IPython.core.display.HTML object>"
      ]
     },
     "metadata": {},
     "output_type": "display_data"
    },
    {
     "name": "stdout",
     "output_type": "stream",
     "text": [
      "for 1th dataset ENTER: gtex_all\n",
      "for 2th dataset ENTER: tcga_normal_all\n",
      "no overlap between datasets\n",
      "insert name for 1th datasetgtex_all\n",
      "insert name for 2th datasettcga_normal_all\n",
      "for dataset ENTER: tcga_normal_all\n",
      "insert name for other datasettcga_normal_all\n",
      "1st: high cutoff applied to gtex dataset\n",
      "2nd: common genes identified with other dataset\n",
      "3rd: both datasets combined\n",
      "4th: low cutoff applied to non-gtex dataset\n",
      "for dataset ENTER: tcga_primtum_all\n",
      "insert name for other datasettcga_primtum_all\n",
      "1st: high cutoff applied to gtex dataset\n",
      "2nd: common genes identified with other dataset\n",
      "3rd: both datasets combined\n",
      "4th: low cutoff applied to non-gtex dataset\n"
     ]
    },
    {
     "data": {
      "text/html": [
       "<table border=\"1\" class=\"dataframe\">\n",
       "  <thead>\n",
       "    <tr style=\"text-align: right;\">\n",
       "      <th></th>\n",
       "      <th>GTEX_highly_correlated</th>\n",
       "      <th>%lowly_correlated_in_TCGA_normal</th>\n",
       "      <th>%lowly_correlated_in_TCGA_primtum</th>\n",
       "    </tr>\n",
       "  </thead>\n",
       "  <tbody>\n",
       "    <tr>\n",
       "      <th>ITGB8</th>\n",
       "      <td>2784</td>\n",
       "      <td>3.268678(91)</td>\n",
       "      <td>39.152299(1090)</td>\n",
       "    </tr>\n",
       "  </tbody>\n",
       "</table>"
      ],
      "text/plain": [
       "<IPython.core.display.HTML object>"
      ]
     },
     "metadata": {},
     "output_type": "display_data"
    },
    {
     "name": "stdout",
     "output_type": "stream",
     "text": [
      "for 1th dataset ENTER: gtex_all\n",
      "for 2th dataset ENTER: tcga_normal_all\n",
      "no overlap between datasets\n",
      "insert name for 1th datasetgtex_all\n",
      "insert name for 2th datasettcga_normal_all\n",
      "for dataset ENTER: tcga_normal_all\n",
      "insert name for other datasettcga_normal_all\n",
      "1st: high cutoff applied to gtex dataset\n",
      "2nd: common genes identified with other dataset\n",
      "3rd: both datasets combined\n",
      "4th: low cutoff applied to non-gtex dataset\n",
      "for dataset ENTER: tcga_primtum_all\n",
      "insert name for other datasettcga_primtum_all\n",
      "1st: high cutoff applied to gtex dataset\n",
      "2nd: common genes identified with other dataset\n",
      "3rd: both datasets combined\n",
      "4th: low cutoff applied to non-gtex dataset\n"
     ]
    },
    {
     "data": {
      "text/html": [
       "<table border=\"1\" class=\"dataframe\">\n",
       "  <thead>\n",
       "    <tr style=\"text-align: right;\">\n",
       "      <th></th>\n",
       "      <th>GTEX_highly_correlated</th>\n",
       "      <th>%lowly_correlated_in_TCGA_normal</th>\n",
       "      <th>%lowly_correlated_in_TCGA_primtum</th>\n",
       "    </tr>\n",
       "  </thead>\n",
       "  <tbody>\n",
       "    <tr>\n",
       "      <th>ITGB6</th>\n",
       "      <td>1612</td>\n",
       "      <td>1.116625(18)</td>\n",
       "      <td>44.044665(710)</td>\n",
       "    </tr>\n",
       "  </tbody>\n",
       "</table>"
      ],
      "text/plain": [
       "<IPython.core.display.HTML object>"
      ]
     },
     "metadata": {},
     "output_type": "display_data"
    },
    {
     "name": "stdout",
     "output_type": "stream",
     "text": [
      "for 1th dataset ENTER: gtex_all\n",
      "for 2th dataset ENTER: tcga_normal_all\n",
      "no overlap between datasets\n",
      "insert name for 1th datasetgtex_all\n",
      "insert name for 2th datasettcga_normal_all\n",
      "for dataset ENTER: tcga_normal_all\n",
      "insert name for other datasettcga_normal_all\n",
      "1st: high cutoff applied to gtex dataset\n",
      "2nd: common genes identified with other dataset\n",
      "3rd: both datasets combined\n",
      "4th: low cutoff applied to non-gtex dataset\n",
      "for dataset ENTER: tcga_primtum_all\n",
      "insert name for other datasettcga_primtum_all\n",
      "1st: high cutoff applied to gtex dataset\n",
      "2nd: common genes identified with other dataset\n",
      "3rd: both datasets combined\n",
      "4th: low cutoff applied to non-gtex dataset\n"
     ]
    },
    {
     "data": {
      "text/html": [
       "<table border=\"1\" class=\"dataframe\">\n",
       "  <thead>\n",
       "    <tr style=\"text-align: right;\">\n",
       "      <th></th>\n",
       "      <th>GTEX_highly_correlated</th>\n",
       "      <th>%lowly_correlated_in_TCGA_normal</th>\n",
       "      <th>%lowly_correlated_in_TCGA_primtum</th>\n",
       "    </tr>\n",
       "  </thead>\n",
       "  <tbody>\n",
       "    <tr>\n",
       "      <th>ITGA10</th>\n",
       "      <td>378</td>\n",
       "      <td>0.793651(3)</td>\n",
       "      <td>40.476190(153)</td>\n",
       "    </tr>\n",
       "  </tbody>\n",
       "</table>"
      ],
      "text/plain": [
       "<IPython.core.display.HTML object>"
      ]
     },
     "metadata": {},
     "output_type": "display_data"
    },
    {
     "name": "stdout",
     "output_type": "stream",
     "text": [
      "for 1th dataset ENTER: gtex_all\n",
      "for 2th dataset ENTER: tcga_normal_all\n",
      "no overlap between datasets\n",
      "insert name for 1th datasetgtex_all\n",
      "insert name for 2th datasettcga_normal_all\n",
      "for dataset ENTER: tcga_normal_all\n",
      "insert name for other datasettcga_normal_all\n",
      "1st: high cutoff applied to gtex dataset\n",
      "2nd: common genes identified with other dataset\n",
      "3rd: both datasets combined\n",
      "4th: low cutoff applied to non-gtex dataset\n",
      "for dataset ENTER: tcga_primtum_all\n",
      "insert name for other datasettcga_primtum_all\n",
      "1st: high cutoff applied to gtex dataset\n",
      "2nd: common genes identified with other dataset\n",
      "3rd: both datasets combined\n",
      "4th: low cutoff applied to non-gtex dataset\n"
     ]
    },
    {
     "data": {
      "text/html": [
       "<table border=\"1\" class=\"dataframe\">\n",
       "  <thead>\n",
       "    <tr style=\"text-align: right;\">\n",
       "      <th></th>\n",
       "      <th>GTEX_highly_correlated</th>\n",
       "      <th>%lowly_correlated_in_TCGA_normal</th>\n",
       "      <th>%lowly_correlated_in_TCGA_primtum</th>\n",
       "    </tr>\n",
       "  </thead>\n",
       "  <tbody>\n",
       "    <tr>\n",
       "      <th>ITGA6</th>\n",
       "      <td>43</td>\n",
       "      <td>16.279070(7)</td>\n",
       "      <td>11.627907(5)</td>\n",
       "    </tr>\n",
       "  </tbody>\n",
       "</table>"
      ],
      "text/plain": [
       "<IPython.core.display.HTML object>"
      ]
     },
     "metadata": {},
     "output_type": "display_data"
    },
    {
     "name": "stdout",
     "output_type": "stream",
     "text": [
      "for 1th dataset ENTER: gtex_all\n",
      "for 2th dataset ENTER: tcga_normal_all\n",
      "no overlap between datasets\n",
      "insert name for 1th datasetgtex_all\n",
      "insert name for 2th datasettcga_normal_all\n",
      "for dataset ENTER: tcga_normal_all\n",
      "insert name for other datasettcga_normal_all\n",
      "1st: high cutoff applied to gtex dataset\n",
      "2nd: common genes identified with other dataset\n",
      "3rd: both datasets combined\n",
      "4th: low cutoff applied to non-gtex dataset\n",
      "for dataset ENTER: tcga_primtum_all\n",
      "insert name for other datasettcga_primtum_all\n",
      "1st: high cutoff applied to gtex dataset\n",
      "2nd: common genes identified with other dataset\n",
      "3rd: both datasets combined\n",
      "4th: low cutoff applied to non-gtex dataset\n"
     ]
    },
    {
     "data": {
      "text/html": [
       "<table border=\"1\" class=\"dataframe\">\n",
       "  <thead>\n",
       "    <tr style=\"text-align: right;\">\n",
       "      <th></th>\n",
       "      <th>GTEX_highly_correlated</th>\n",
       "      <th>%lowly_correlated_in_TCGA_normal</th>\n",
       "      <th>%lowly_correlated_in_TCGA_primtum</th>\n",
       "    </tr>\n",
       "  </thead>\n",
       "  <tbody>\n",
       "    <tr>\n",
       "      <th>ITGA4</th>\n",
       "      <td>115</td>\n",
       "      <td>0.869565(1)</td>\n",
       "      <td>0.869565(1)</td>\n",
       "    </tr>\n",
       "  </tbody>\n",
       "</table>"
      ],
      "text/plain": [
       "<IPython.core.display.HTML object>"
      ]
     },
     "metadata": {},
     "output_type": "display_data"
    },
    {
     "name": "stdout",
     "output_type": "stream",
     "text": [
      "for 1th dataset ENTER: gtex_all\n",
      "for 2th dataset ENTER: tcga_normal_all\n",
      "no overlap between datasets\n",
      "insert name for 1th datasetgtex_all\n",
      "insert name for 2th datasettcga_normal_all\n",
      "for dataset ENTER: tcga_normal_all\n",
      "insert name for other datasettcga_normal_all\n",
      "1st: high cutoff applied to gtex dataset\n",
      "2nd: common genes identified with other dataset\n",
      "3rd: both datasets combined\n",
      "4th: low cutoff applied to non-gtex dataset\n",
      "for dataset ENTER: tcga_primtum_all\n",
      "insert name for other datasettcga_primtum_all\n",
      "1st: high cutoff applied to gtex dataset\n",
      "2nd: common genes identified with other dataset\n",
      "3rd: both datasets combined\n",
      "4th: low cutoff applied to non-gtex dataset\n"
     ]
    },
    {
     "data": {
      "text/html": [
       "<table border=\"1\" class=\"dataframe\">\n",
       "  <thead>\n",
       "    <tr style=\"text-align: right;\">\n",
       "      <th></th>\n",
       "      <th>GTEX_highly_correlated</th>\n",
       "      <th>%lowly_correlated_in_TCGA_normal</th>\n",
       "      <th>%lowly_correlated_in_TCGA_primtum</th>\n",
       "    </tr>\n",
       "  </thead>\n",
       "  <tbody>\n",
       "    <tr>\n",
       "      <th>ITGAV</th>\n",
       "      <td>161</td>\n",
       "      <td>0.000000(0)</td>\n",
       "      <td>0.000000(0)</td>\n",
       "    </tr>\n",
       "  </tbody>\n",
       "</table>"
      ],
      "text/plain": [
       "<IPython.core.display.HTML object>"
      ]
     },
     "metadata": {},
     "output_type": "display_data"
    },
    {
     "name": "stdout",
     "output_type": "stream",
     "text": [
      "for 1th dataset ENTER: gtex_all\n",
      "for 2th dataset ENTER: tcga_normal_all\n",
      "no overlap between datasets\n",
      "insert name for 1th datasetgtex_all\n",
      "insert name for 2th datasettcga_normal_all\n",
      "for dataset ENTER: tcga_normal_all\n",
      "insert name for other datasettcga_normal_all\n",
      "1st: high cutoff applied to gtex dataset\n",
      "2nd: common genes identified with other dataset\n",
      "3rd: both datasets combined\n",
      "4th: low cutoff applied to non-gtex dataset\n",
      "for dataset ENTER: tcga_primtum_all\n",
      "insert name for other datasettcga_primtum_all\n",
      "1st: high cutoff applied to gtex dataset\n",
      "2nd: common genes identified with other dataset\n",
      "3rd: both datasets combined\n",
      "4th: low cutoff applied to non-gtex dataset\n"
     ]
    },
    {
     "data": {
      "text/html": [
       "<table border=\"1\" class=\"dataframe\">\n",
       "  <thead>\n",
       "    <tr style=\"text-align: right;\">\n",
       "      <th></th>\n",
       "      <th>GTEX_highly_correlated</th>\n",
       "      <th>%lowly_correlated_in_TCGA_normal</th>\n",
       "      <th>%lowly_correlated_in_TCGA_primtum</th>\n",
       "    </tr>\n",
       "  </thead>\n",
       "  <tbody>\n",
       "    <tr>\n",
       "      <th>ITGA9</th>\n",
       "      <td>3</td>\n",
       "      <td>0.000000(0)</td>\n",
       "      <td>0.000000(0)</td>\n",
       "    </tr>\n",
       "  </tbody>\n",
       "</table>"
      ],
      "text/plain": [
       "<IPython.core.display.HTML object>"
      ]
     },
     "metadata": {},
     "output_type": "display_data"
    },
    {
     "name": "stdout",
     "output_type": "stream",
     "text": [
      "for 1th dataset ENTER: gtex_all\n",
      "for 2th dataset ENTER: tcga_normal_all\n",
      "no overlap between datasets\n",
      "insert name for 1th datasetgtex_all\n",
      "insert name for 2th datasettcga_normal_all\n",
      "for dataset ENTER: tcga_normal_all\n",
      "insert name for other datasettcga_normal_all\n",
      "1st: high cutoff applied to gtex dataset\n",
      "2nd: common genes identified with other dataset\n",
      "3rd: both datasets combined\n",
      "4th: low cutoff applied to non-gtex dataset\n",
      "for dataset ENTER: tcga_primtum_all\n",
      "insert name for other datasettcga_primtum_all\n",
      "1st: high cutoff applied to gtex dataset\n",
      "2nd: common genes identified with other dataset\n",
      "3rd: both datasets combined\n",
      "4th: low cutoff applied to non-gtex dataset\n"
     ]
    },
    {
     "data": {
      "text/html": [
       "<table border=\"1\" class=\"dataframe\">\n",
       "  <thead>\n",
       "    <tr style=\"text-align: right;\">\n",
       "      <th></th>\n",
       "      <th>GTEX_highly_correlated</th>\n",
       "      <th>%lowly_correlated_in_TCGA_normal</th>\n",
       "      <th>%lowly_correlated_in_TCGA_primtum</th>\n",
       "    </tr>\n",
       "  </thead>\n",
       "  <tbody>\n",
       "    <tr>\n",
       "      <th>ITGB5</th>\n",
       "      <td>22</td>\n",
       "      <td>0.000000(0)</td>\n",
       "      <td>22.727273(5)</td>\n",
       "    </tr>\n",
       "  </tbody>\n",
       "</table>"
      ],
      "text/plain": [
       "<IPython.core.display.HTML object>"
      ]
     },
     "metadata": {},
     "output_type": "display_data"
    },
    {
     "name": "stdout",
     "output_type": "stream",
     "text": [
      "for 1th dataset ENTER: gtex_all\n",
      "for 2th dataset ENTER: tcga_normal_all\n",
      "no overlap between datasets\n",
      "insert name for 1th datasetgtex_all\n",
      "insert name for 2th datasettcga_normal_all\n",
      "for dataset ENTER: tcga_normal_all\n",
      "insert name for other datasettcga_normal_all\n",
      "1st: high cutoff applied to gtex dataset\n",
      "2nd: common genes identified with other dataset\n",
      "3rd: both datasets combined\n",
      "4th: low cutoff applied to non-gtex dataset\n",
      "for dataset ENTER: tcga_primtum_all\n",
      "insert name for other datasettcga_primtum_all\n",
      "1st: high cutoff applied to gtex dataset\n",
      "2nd: common genes identified with other dataset\n",
      "3rd: both datasets combined\n",
      "4th: low cutoff applied to non-gtex dataset\n"
     ]
    },
    {
     "data": {
      "text/html": [
       "<table border=\"1\" class=\"dataframe\">\n",
       "  <thead>\n",
       "    <tr style=\"text-align: right;\">\n",
       "      <th></th>\n",
       "      <th>GTEX_highly_correlated</th>\n",
       "      <th>%lowly_correlated_in_TCGA_normal</th>\n",
       "      <th>%lowly_correlated_in_TCGA_primtum</th>\n",
       "    </tr>\n",
       "  </thead>\n",
       "  <tbody>\n",
       "    <tr>\n",
       "      <th>ITGA1</th>\n",
       "      <td>67</td>\n",
       "      <td>0.000000(0)</td>\n",
       "      <td>0.000000(0)</td>\n",
       "    </tr>\n",
       "  </tbody>\n",
       "</table>"
      ],
      "text/plain": [
       "<IPython.core.display.HTML object>"
      ]
     },
     "metadata": {},
     "output_type": "display_data"
    },
    {
     "name": "stdout",
     "output_type": "stream",
     "text": [
      "for 1th dataset ENTER: gtex_all\n",
      "for 2th dataset ENTER: tcga_normal_all\n",
      "no overlap between datasets\n",
      "insert name for 1th datasetgtex_all\n",
      "insert name for 2th datasettcga_normal_all\n",
      "for dataset ENTER: tcga_normal_all\n",
      "insert name for other datasettcga_normal_all\n",
      "1st: high cutoff applied to gtex dataset\n",
      "2nd: common genes identified with other dataset\n",
      "3rd: both datasets combined\n",
      "4th: low cutoff applied to non-gtex dataset\n",
      "for dataset ENTER: tcga_primtum_all\n",
      "insert name for other datasettcga_primtum_all\n",
      "1st: high cutoff applied to gtex dataset\n",
      "2nd: common genes identified with other dataset\n",
      "3rd: both datasets combined\n",
      "4th: low cutoff applied to non-gtex dataset\n"
     ]
    },
    {
     "data": {
      "text/html": [
       "<table border=\"1\" class=\"dataframe\">\n",
       "  <thead>\n",
       "    <tr style=\"text-align: right;\">\n",
       "      <th></th>\n",
       "      <th>GTEX_highly_correlated</th>\n",
       "      <th>%lowly_correlated_in_TCGA_normal</th>\n",
       "      <th>%lowly_correlated_in_TCGA_primtum</th>\n",
       "    </tr>\n",
       "  </thead>\n",
       "  <tbody>\n",
       "    <tr>\n",
       "      <th>ITGA2</th>\n",
       "      <td>4047</td>\n",
       "      <td>3.187546(129)</td>\n",
       "      <td>35.211268(1425)</td>\n",
       "    </tr>\n",
       "  </tbody>\n",
       "</table>"
      ],
      "text/plain": [
       "<IPython.core.display.HTML object>"
      ]
     },
     "metadata": {},
     "output_type": "display_data"
    },
    {
     "name": "stdout",
     "output_type": "stream",
     "text": [
      "for 1th dataset ENTER: gtex_all\n",
      "for 2th dataset ENTER: tcga_normal_all\n",
      "no overlap between datasets\n",
      "insert name for 1th datasetgtex_all\n",
      "insert name for 2th datasettcga_normal_all\n",
      "for dataset ENTER: tcga_normal_all\n",
      "insert name for other datasettcga_normal_all\n",
      "1st: high cutoff applied to gtex dataset\n",
      "2nd: common genes identified with other dataset\n",
      "3rd: both datasets combined\n",
      "4th: low cutoff applied to non-gtex dataset\n",
      "for dataset ENTER: tcga_primtum_all\n",
      "insert name for other datasettcga_primtum_all\n",
      "1st: high cutoff applied to gtex dataset\n",
      "2nd: common genes identified with other dataset\n",
      "3rd: both datasets combined\n",
      "4th: low cutoff applied to non-gtex dataset\n"
     ]
    },
    {
     "data": {
      "text/html": [
       "<table border=\"1\" class=\"dataframe\">\n",
       "  <thead>\n",
       "    <tr style=\"text-align: right;\">\n",
       "      <th></th>\n",
       "      <th>GTEX_highly_correlated</th>\n",
       "      <th>%lowly_correlated_in_TCGA_normal</th>\n",
       "      <th>%lowly_correlated_in_TCGA_primtum</th>\n",
       "    </tr>\n",
       "  </thead>\n",
       "  <tbody>\n",
       "    <tr>\n",
       "      <th>ITGA8</th>\n",
       "      <td>31</td>\n",
       "      <td>32.258065(10)</td>\n",
       "      <td>32.258065(10)</td>\n",
       "    </tr>\n",
       "  </tbody>\n",
       "</table>"
      ],
      "text/plain": [
       "<IPython.core.display.HTML object>"
      ]
     },
     "metadata": {},
     "output_type": "display_data"
    },
    {
     "name": "stdout",
     "output_type": "stream",
     "text": [
      "for 1th dataset ENTER: gtex_all\n",
      "for 2th dataset ENTER: tcga_normal_all\n",
      "no overlap between datasets\n",
      "insert name for 1th datasetgtex_all\n",
      "insert name for 2th datasettcga_normal_all\n",
      "for dataset ENTER: tcga_normal_all\n",
      "insert name for other datasettcga_normal_all\n",
      "1st: high cutoff applied to gtex dataset\n",
      "2nd: common genes identified with other dataset\n",
      "3rd: both datasets combined\n",
      "4th: low cutoff applied to non-gtex dataset\n",
      "for dataset ENTER: tcga_primtum_all\n",
      "insert name for other datasettcga_primtum_all\n",
      "1st: high cutoff applied to gtex dataset\n",
      "2nd: common genes identified with other dataset\n",
      "3rd: both datasets combined\n",
      "4th: low cutoff applied to non-gtex dataset\n"
     ]
    },
    {
     "data": {
      "text/html": [
       "<table border=\"1\" class=\"dataframe\">\n",
       "  <thead>\n",
       "    <tr style=\"text-align: right;\">\n",
       "      <th></th>\n",
       "      <th>GTEX_highly_correlated</th>\n",
       "      <th>%lowly_correlated_in_TCGA_normal</th>\n",
       "      <th>%lowly_correlated_in_TCGA_primtum</th>\n",
       "    </tr>\n",
       "  </thead>\n",
       "  <tbody>\n",
       "    <tr>\n",
       "      <th>ITGB1</th>\n",
       "      <td>70</td>\n",
       "      <td>0.000000(0)</td>\n",
       "      <td>7.142857(5)</td>\n",
       "    </tr>\n",
       "  </tbody>\n",
       "</table>"
      ],
      "text/plain": [
       "<IPython.core.display.HTML object>"
      ]
     },
     "metadata": {},
     "output_type": "display_data"
    },
    {
     "name": "stdout",
     "output_type": "stream",
     "text": [
      "for 1th dataset ENTER: gtex_all\n",
      "for 2th dataset ENTER: tcga_normal_all\n",
      "no overlap between datasets\n",
      "insert name for 1th datasetgtex_all\n",
      "insert name for 2th datasettcga_normal_all\n",
      "for dataset ENTER: tcga_normal_all\n",
      "insert name for other datasettcga_normal_all\n",
      "1st: high cutoff applied to gtex dataset\n",
      "2nd: common genes identified with other dataset\n",
      "3rd: both datasets combined\n",
      "4th: low cutoff applied to non-gtex dataset\n",
      "for dataset ENTER: tcga_primtum_all\n",
      "insert name for other datasettcga_primtum_all\n",
      "1st: high cutoff applied to gtex dataset\n",
      "2nd: common genes identified with other dataset\n",
      "3rd: both datasets combined\n",
      "4th: low cutoff applied to non-gtex dataset\n"
     ]
    },
    {
     "data": {
      "text/html": [
       "<table border=\"1\" class=\"dataframe\">\n",
       "  <thead>\n",
       "    <tr style=\"text-align: right;\">\n",
       "      <th></th>\n",
       "      <th>GTEX_highly_correlated</th>\n",
       "      <th>%lowly_correlated_in_TCGA_normal</th>\n",
       "      <th>%lowly_correlated_in_TCGA_primtum</th>\n",
       "    </tr>\n",
       "  </thead>\n",
       "  <tbody>\n",
       "    <tr>\n",
       "      <th>ITGB7</th>\n",
       "      <td>83</td>\n",
       "      <td>1.204819(1)</td>\n",
       "      <td>7.228916(6)</td>\n",
       "    </tr>\n",
       "  </tbody>\n",
       "</table>"
      ],
      "text/plain": [
       "<IPython.core.display.HTML object>"
      ]
     },
     "metadata": {},
     "output_type": "display_data"
    },
    {
     "name": "stdout",
     "output_type": "stream",
     "text": [
      "for 1th dataset ENTER: gtex_all\n",
      "for 2th dataset ENTER: tcga_normal_all\n",
      "no overlap between datasets\n",
      "insert name for 1th datasetgtex_all\n",
      "insert name for 2th datasettcga_normal_all\n",
      "for dataset ENTER: tcga_normal_all\n",
      "insert name for other datasettcga_normal_all\n",
      "1st: high cutoff applied to gtex dataset\n",
      "2nd: common genes identified with other dataset\n",
      "3rd: both datasets combined\n",
      "4th: low cutoff applied to non-gtex dataset\n",
      "for dataset ENTER: tcga_primtum_all\n",
      "insert name for other datasettcga_primtum_all\n",
      "1st: high cutoff applied to gtex dataset\n",
      "2nd: common genes identified with other dataset\n",
      "3rd: both datasets combined\n",
      "4th: low cutoff applied to non-gtex dataset\n"
     ]
    },
    {
     "data": {
      "text/html": [
       "<table border=\"1\" class=\"dataframe\">\n",
       "  <thead>\n",
       "    <tr style=\"text-align: right;\">\n",
       "      <th></th>\n",
       "      <th>GTEX_highly_correlated</th>\n",
       "      <th>%lowly_correlated_in_TCGA_normal</th>\n",
       "      <th>%lowly_correlated_in_TCGA_primtum</th>\n",
       "    </tr>\n",
       "  </thead>\n",
       "  <tbody>\n",
       "    <tr>\n",
       "      <th>ITGA5</th>\n",
       "      <td>59</td>\n",
       "      <td>11.864407(7)</td>\n",
       "      <td>3.389831(2)</td>\n",
       "    </tr>\n",
       "  </tbody>\n",
       "</table>"
      ],
      "text/plain": [
       "<IPython.core.display.HTML object>"
      ]
     },
     "metadata": {},
     "output_type": "display_data"
    },
    {
     "name": "stdout",
     "output_type": "stream",
     "text": [
      "for 1th dataset ENTER: gtex_all\n",
      "for 2th dataset ENTER: tcga_normal_all\n",
      "no overlap between datasets\n",
      "insert name for 1th datasetgtex_all\n",
      "insert name for 2th datasettcga_normal_all\n",
      "for dataset ENTER: tcga_normal_all\n",
      "insert name for other datasettcga_normal_all\n",
      "1st: high cutoff applied to gtex dataset\n",
      "2nd: common genes identified with other dataset\n",
      "3rd: both datasets combined\n",
      "4th: low cutoff applied to non-gtex dataset\n",
      "for dataset ENTER: tcga_primtum_all\n",
      "insert name for other datasettcga_primtum_all\n",
      "1st: high cutoff applied to gtex dataset\n",
      "2nd: common genes identified with other dataset\n",
      "3rd: both datasets combined\n",
      "4th: low cutoff applied to non-gtex dataset\n"
     ]
    },
    {
     "data": {
      "text/html": [
       "<table border=\"1\" class=\"dataframe\">\n",
       "  <thead>\n",
       "    <tr style=\"text-align: right;\">\n",
       "      <th></th>\n",
       "      <th>GTEX_highly_correlated</th>\n",
       "      <th>%lowly_correlated_in_TCGA_normal</th>\n",
       "      <th>%lowly_correlated_in_TCGA_primtum</th>\n",
       "    </tr>\n",
       "  </thead>\n",
       "  <tbody>\n",
       "    <tr>\n",
       "      <th>ITGBL1</th>\n",
       "      <td>7</td>\n",
       "      <td>0.000000(0)</td>\n",
       "      <td>0.000000(0)</td>\n",
       "    </tr>\n",
       "  </tbody>\n",
       "</table>"
      ],
      "text/plain": [
       "<IPython.core.display.HTML object>"
      ]
     },
     "metadata": {},
     "output_type": "display_data"
    },
    {
     "name": "stdout",
     "output_type": "stream",
     "text": [
      "for 1th dataset ENTER: gtex_all\n",
      "for 2th dataset ENTER: tcga_normal_all\n",
      "no overlap between datasets\n",
      "insert name for 1th datasetgtex_all\n",
      "insert name for 2th datasettcga_normal_all\n",
      "for dataset ENTER: tcga_normal_all\n",
      "insert name for other datasettcga_normal_all\n",
      "1st: high cutoff applied to gtex dataset\n",
      "2nd: common genes identified with other dataset\n",
      "3rd: both datasets combined\n",
      "4th: low cutoff applied to non-gtex dataset\n",
      "for dataset ENTER: tcga_primtum_all\n",
      "insert name for other datasettcga_primtum_all\n",
      "1st: high cutoff applied to gtex dataset\n",
      "2nd: common genes identified with other dataset\n",
      "3rd: both datasets combined\n",
      "4th: low cutoff applied to non-gtex dataset\n"
     ]
    },
    {
     "data": {
      "text/html": [
       "<table border=\"1\" class=\"dataframe\">\n",
       "  <thead>\n",
       "    <tr style=\"text-align: right;\">\n",
       "      <th></th>\n",
       "      <th>GTEX_highly_correlated</th>\n",
       "      <th>%lowly_correlated_in_TCGA_normal</th>\n",
       "      <th>%lowly_correlated_in_TCGA_primtum</th>\n",
       "    </tr>\n",
       "  </thead>\n",
       "  <tbody>\n",
       "    <tr>\n",
       "      <th>ITGA11</th>\n",
       "      <td>27</td>\n",
       "      <td>0.000000(0)</td>\n",
       "      <td>11.111111(3)</td>\n",
       "    </tr>\n",
       "  </tbody>\n",
       "</table>"
      ],
      "text/plain": [
       "<IPython.core.display.HTML object>"
      ]
     },
     "metadata": {},
     "output_type": "display_data"
    },
    {
     "name": "stdout",
     "output_type": "stream",
     "text": [
      "for 1th dataset ENTER: gtex_all\n",
      "for 2th dataset ENTER: tcga_normal_all\n",
      "no overlap between datasets\n",
      "insert name for 1th datasetgtex_all\n",
      "insert name for 2th datasettcga_normal_all\n",
      "for dataset ENTER: tcga_normal_all\n",
      "insert name for other datasettcga_normal_all\n",
      "1st: high cutoff applied to gtex dataset\n",
      "2nd: common genes identified with other dataset\n",
      "3rd: both datasets combined\n",
      "4th: low cutoff applied to non-gtex dataset\n",
      "for dataset ENTER: tcga_primtum_all\n",
      "insert name for other datasettcga_primtum_all\n",
      "1st: high cutoff applied to gtex dataset\n",
      "2nd: common genes identified with other dataset\n",
      "3rd: both datasets combined\n",
      "4th: low cutoff applied to non-gtex dataset\n"
     ]
    },
    {
     "data": {
      "text/html": [
       "<table border=\"1\" class=\"dataframe\">\n",
       "  <thead>\n",
       "    <tr style=\"text-align: right;\">\n",
       "      <th></th>\n",
       "      <th>GTEX_highly_correlated</th>\n",
       "      <th>%lowly_correlated_in_TCGA_normal</th>\n",
       "      <th>%lowly_correlated_in_TCGA_primtum</th>\n",
       "    </tr>\n",
       "  </thead>\n",
       "  <tbody>\n",
       "    <tr>\n",
       "      <th>ITGAL</th>\n",
       "      <td>101</td>\n",
       "      <td>0.000000(0)</td>\n",
       "      <td>0.000000(0)</td>\n",
       "    </tr>\n",
       "  </tbody>\n",
       "</table>"
      ],
      "text/plain": [
       "<IPython.core.display.HTML object>"
      ]
     },
     "metadata": {},
     "output_type": "display_data"
    },
    {
     "name": "stdout",
     "output_type": "stream",
     "text": [
      "for 1th dataset ENTER: gtex_all\n",
      "for 2th dataset ENTER: tcga_normal_all\n",
      "no overlap between datasets\n",
      "insert name for 1th datasetgtex_all\n",
      "insert name for 2th datasettcga_normal_all\n",
      "for dataset ENTER: tcga_normal_all\n",
      "insert name for other datasettcga_normal_all\n",
      "1st: high cutoff applied to gtex dataset\n",
      "2nd: common genes identified with other dataset\n",
      "3rd: both datasets combined\n",
      "4th: low cutoff applied to non-gtex dataset\n",
      "for dataset ENTER: tcga_primtum_all\n",
      "insert name for other datasettcga_primtum_all\n",
      "1st: high cutoff applied to gtex dataset\n",
      "2nd: common genes identified with other dataset\n",
      "3rd: both datasets combined\n",
      "4th: low cutoff applied to non-gtex dataset\n"
     ]
    },
    {
     "data": {
      "text/html": [
       "<table border=\"1\" class=\"dataframe\">\n",
       "  <thead>\n",
       "    <tr style=\"text-align: right;\">\n",
       "      <th></th>\n",
       "      <th>GTEX_highly_correlated</th>\n",
       "      <th>%lowly_correlated_in_TCGA_normal</th>\n",
       "      <th>%lowly_correlated_in_TCGA_primtum</th>\n",
       "    </tr>\n",
       "  </thead>\n",
       "  <tbody>\n",
       "    <tr>\n",
       "      <th>ITGAM</th>\n",
       "      <td>314</td>\n",
       "      <td>3.184713(10)</td>\n",
       "      <td>7.324841(23)</td>\n",
       "    </tr>\n",
       "  </tbody>\n",
       "</table>"
      ],
      "text/plain": [
       "<IPython.core.display.HTML object>"
      ]
     },
     "metadata": {},
     "output_type": "display_data"
    },
    {
     "name": "stdout",
     "output_type": "stream",
     "text": [
      "for 1th dataset ENTER: gtex_all\n",
      "for 2th dataset ENTER: tcga_normal_all\n",
      "no overlap between datasets\n",
      "insert name for 1th datasetgtex_all\n",
      "insert name for 2th datasettcga_normal_all\n",
      "for dataset ENTER: tcga_normal_all\n",
      "insert name for other datasettcga_normal_all\n",
      "1st: high cutoff applied to gtex dataset\n",
      "2nd: common genes identified with other dataset\n",
      "3rd: both datasets combined\n",
      "4th: low cutoff applied to non-gtex dataset\n",
      "for dataset ENTER: tcga_primtum_all\n",
      "insert name for other datasettcga_primtum_all\n",
      "1st: high cutoff applied to gtex dataset\n",
      "2nd: common genes identified with other dataset\n",
      "3rd: both datasets combined\n",
      "4th: low cutoff applied to non-gtex dataset\n"
     ]
    },
    {
     "data": {
      "text/html": [
       "<table border=\"1\" class=\"dataframe\">\n",
       "  <thead>\n",
       "    <tr style=\"text-align: right;\">\n",
       "      <th></th>\n",
       "      <th>GTEX_highly_correlated</th>\n",
       "      <th>%lowly_correlated_in_TCGA_normal</th>\n",
       "      <th>%lowly_correlated_in_TCGA_primtum</th>\n",
       "    </tr>\n",
       "  </thead>\n",
       "  <tbody>\n",
       "    <tr>\n",
       "      <th>ITGAX</th>\n",
       "      <td>257</td>\n",
       "      <td>1.556420(4)</td>\n",
       "      <td>8.560311(22)</td>\n",
       "    </tr>\n",
       "  </tbody>\n",
       "</table>"
      ],
      "text/plain": [
       "<IPython.core.display.HTML object>"
      ]
     },
     "metadata": {},
     "output_type": "display_data"
    },
    {
     "name": "stdout",
     "output_type": "stream",
     "text": [
      "for 1th dataset ENTER: gtex_all\n",
      "for 2th dataset ENTER: tcga_normal_all\n",
      "no overlap between datasets\n",
      "insert name for 1th datasetgtex_all\n",
      "insert name for 2th datasettcga_normal_all\n",
      "for dataset ENTER: tcga_normal_all\n",
      "insert name for other datasettcga_normal_all\n",
      "1st: high cutoff applied to gtex dataset\n",
      "2nd: common genes identified with other dataset\n",
      "3rd: both datasets combined\n",
      "4th: low cutoff applied to non-gtex dataset\n",
      "for dataset ENTER: tcga_primtum_all\n",
      "insert name for other datasettcga_primtum_all\n",
      "1st: high cutoff applied to gtex dataset\n",
      "2nd: common genes identified with other dataset\n",
      "3rd: both datasets combined\n",
      "4th: low cutoff applied to non-gtex dataset\n"
     ]
    },
    {
     "data": {
      "text/html": [
       "<table border=\"1\" class=\"dataframe\">\n",
       "  <thead>\n",
       "    <tr style=\"text-align: right;\">\n",
       "      <th></th>\n",
       "      <th>GTEX_highly_correlated</th>\n",
       "      <th>%lowly_correlated_in_TCGA_normal</th>\n",
       "      <th>%lowly_correlated_in_TCGA_primtum</th>\n",
       "    </tr>\n",
       "  </thead>\n",
       "  <tbody>\n",
       "    <tr>\n",
       "      <th>ITGAD</th>\n",
       "      <td>4</td>\n",
       "      <td>0.000000(0)</td>\n",
       "      <td>0.000000(0)</td>\n",
       "    </tr>\n",
       "  </tbody>\n",
       "</table>"
      ],
      "text/plain": [
       "<IPython.core.display.HTML object>"
      ]
     },
     "metadata": {},
     "output_type": "display_data"
    },
    {
     "name": "stdout",
     "output_type": "stream",
     "text": [
      "for 1th dataset ENTER: gtex_all\n",
      "for 2th dataset ENTER: tcga_normal_all\n",
      "no overlap between datasets\n",
      "insert name for 1th datasetgtex_all\n",
      "insert name for 2th datasettcga_normal_all\n",
      "for dataset ENTER: tcga_normal_all\n",
      "insert name for other datasettcga_normal_all\n",
      "1st: high cutoff applied to gtex dataset\n",
      "2nd: common genes identified with other dataset\n",
      "3rd: both datasets combined\n",
      "4th: low cutoff applied to non-gtex dataset\n",
      "for dataset ENTER: tcga_primtum_all\n",
      "insert name for other datasettcga_primtum_all\n",
      "1st: high cutoff applied to gtex dataset\n",
      "2nd: common genes identified with other dataset\n",
      "3rd: both datasets combined\n",
      "4th: low cutoff applied to non-gtex dataset\n"
     ]
    },
    {
     "data": {
      "text/html": [
       "<table border=\"1\" class=\"dataframe\">\n",
       "  <thead>\n",
       "    <tr style=\"text-align: right;\">\n",
       "      <th></th>\n",
       "      <th>GTEX_highly_correlated</th>\n",
       "      <th>%lowly_correlated_in_TCGA_normal</th>\n",
       "      <th>%lowly_correlated_in_TCGA_primtum</th>\n",
       "    </tr>\n",
       "  </thead>\n",
       "  <tbody>\n",
       "    <tr>\n",
       "      <th>ITGAE</th>\n",
       "      <td>24</td>\n",
       "      <td>0.000000(0)</td>\n",
       "      <td>4.166667(1)</td>\n",
       "    </tr>\n",
       "  </tbody>\n",
       "</table>"
      ],
      "text/plain": [
       "<IPython.core.display.HTML object>"
      ]
     },
     "metadata": {},
     "output_type": "display_data"
    },
    {
     "name": "stdout",
     "output_type": "stream",
     "text": [
      "for 1th dataset ENTER: gtex_all\n",
      "for 2th dataset ENTER: tcga_normal_all\n",
      "no overlap between datasets\n",
      "insert name for 1th datasetgtex_all\n",
      "insert name for 2th datasettcga_normal_all\n",
      "for dataset ENTER: tcga_normal_all\n",
      "insert name for other datasettcga_normal_all\n",
      "1st: high cutoff applied to gtex dataset\n",
      "2nd: common genes identified with other dataset\n",
      "3rd: both datasets combined\n",
      "4th: low cutoff applied to non-gtex dataset\n",
      "for dataset ENTER: tcga_primtum_all\n",
      "insert name for other datasettcga_primtum_all\n",
      "1st: high cutoff applied to gtex dataset\n",
      "2nd: common genes identified with other dataset\n",
      "3rd: both datasets combined\n",
      "4th: low cutoff applied to non-gtex dataset\n"
     ]
    },
    {
     "data": {
      "text/html": [
       "<table border=\"1\" class=\"dataframe\">\n",
       "  <thead>\n",
       "    <tr style=\"text-align: right;\">\n",
       "      <th></th>\n",
       "      <th>GTEX_highly_correlated</th>\n",
       "      <th>%lowly_correlated_in_TCGA_normal</th>\n",
       "      <th>%lowly_correlated_in_TCGA_primtum</th>\n",
       "    </tr>\n",
       "  </thead>\n",
       "  <tbody>\n",
       "    <tr>\n",
       "      <th>ITGA2B</th>\n",
       "      <td>5</td>\n",
       "      <td>0.000000(0)</td>\n",
       "      <td>60.000000(3)</td>\n",
       "    </tr>\n",
       "  </tbody>\n",
       "</table>"
      ],
      "text/plain": [
       "<IPython.core.display.HTML object>"
      ]
     },
     "metadata": {},
     "output_type": "display_data"
    },
    {
     "name": "stdout",
     "output_type": "stream",
     "text": [
      "for 1th dataset ENTER: gtex_all\n",
      "for 2th dataset ENTER: tcga_normal_all\n",
      "no overlap between datasets\n",
      "insert name for 1th datasetgtex_all\n",
      "insert name for 2th datasettcga_normal_all\n",
      "for dataset ENTER: tcga_normal_all\n",
      "insert name for other datasettcga_normal_all\n",
      "1st: high cutoff applied to gtex dataset\n",
      "2nd: common genes identified with other dataset\n",
      "3rd: both datasets combined\n",
      "4th: low cutoff applied to non-gtex dataset\n",
      "for dataset ENTER: tcga_primtum_all\n",
      "insert name for other datasettcga_primtum_all\n",
      "1st: high cutoff applied to gtex dataset\n",
      "2nd: common genes identified with other dataset\n",
      "3rd: both datasets combined\n",
      "4th: low cutoff applied to non-gtex dataset\n"
     ]
    },
    {
     "data": {
      "text/html": [
       "<table border=\"1\" class=\"dataframe\">\n",
       "  <thead>\n",
       "    <tr style=\"text-align: right;\">\n",
       "      <th></th>\n",
       "      <th>GTEX_highly_correlated</th>\n",
       "      <th>%lowly_correlated_in_TCGA_normal</th>\n",
       "      <th>%lowly_correlated_in_TCGA_primtum</th>\n",
       "    </tr>\n",
       "  </thead>\n",
       "  <tbody>\n",
       "    <tr>\n",
       "      <th>ITGB3</th>\n",
       "      <td>57</td>\n",
       "      <td>14.035088(8)</td>\n",
       "      <td>14.035088(8)</td>\n",
       "    </tr>\n",
       "  </tbody>\n",
       "</table>"
      ],
      "text/plain": [
       "<IPython.core.display.HTML object>"
      ]
     },
     "metadata": {},
     "output_type": "display_data"
    },
    {
     "name": "stdout",
     "output_type": "stream",
     "text": [
      "for 1th dataset ENTER: gtex_all\n",
      "for 2th dataset ENTER: tcga_normal_all\n",
      "no overlap between datasets\n",
      "insert name for 1th datasetgtex_all\n",
      "insert name for 2th datasettcga_normal_all\n",
      "for dataset ENTER: tcga_normal_all\n",
      "insert name for other datasettcga_normal_all\n",
      "1st: high cutoff applied to gtex dataset\n",
      "2nd: common genes identified with other dataset\n",
      "3rd: both datasets combined\n",
      "4th: low cutoff applied to non-gtex dataset\n",
      "for dataset ENTER: tcga_primtum_all\n",
      "insert name for other datasettcga_primtum_all\n",
      "1st: high cutoff applied to gtex dataset\n",
      "2nd: common genes identified with other dataset\n",
      "3rd: both datasets combined\n",
      "4th: low cutoff applied to non-gtex dataset\n"
     ]
    },
    {
     "data": {
      "text/html": [
       "<table border=\"1\" class=\"dataframe\">\n",
       "  <thead>\n",
       "    <tr style=\"text-align: right;\">\n",
       "      <th></th>\n",
       "      <th>GTEX_highly_correlated</th>\n",
       "      <th>%lowly_correlated_in_TCGA_normal</th>\n",
       "      <th>%lowly_correlated_in_TCGA_primtum</th>\n",
       "    </tr>\n",
       "  </thead>\n",
       "  <tbody>\n",
       "    <tr>\n",
       "      <th>ITGA3</th>\n",
       "      <td>1430</td>\n",
       "      <td>4.195804(60)</td>\n",
       "      <td>53.356643(763)</td>\n",
       "    </tr>\n",
       "  </tbody>\n",
       "</table>"
      ],
      "text/plain": [
       "<IPython.core.display.HTML object>"
      ]
     },
     "metadata": {},
     "output_type": "display_data"
    },
    {
     "name": "stdout",
     "output_type": "stream",
     "text": [
      "for 1th dataset ENTER: gtex_all\n",
      "for 2th dataset ENTER: tcga_normal_all\n",
      "no overlap between datasets\n",
      "insert name for 1th datasetgtex_all\n",
      "insert name for 2th datasettcga_normal_all\n",
      "for dataset ENTER: tcga_normal_all\n",
      "insert name for other datasettcga_normal_all\n",
      "1st: high cutoff applied to gtex dataset\n",
      "2nd: common genes identified with other dataset\n",
      "3rd: both datasets combined\n",
      "4th: low cutoff applied to non-gtex dataset\n",
      "for dataset ENTER: tcga_primtum_all\n",
      "insert name for other datasettcga_primtum_all\n",
      "1st: high cutoff applied to gtex dataset\n",
      "2nd: common genes identified with other dataset\n",
      "3rd: both datasets combined\n",
      "4th: low cutoff applied to non-gtex dataset\n"
     ]
    },
    {
     "data": {
      "text/html": [
       "<table border=\"1\" class=\"dataframe\">\n",
       "  <thead>\n",
       "    <tr style=\"text-align: right;\">\n",
       "      <th></th>\n",
       "      <th>GTEX_highly_correlated</th>\n",
       "      <th>%lowly_correlated_in_TCGA_normal</th>\n",
       "      <th>%lowly_correlated_in_TCGA_primtum</th>\n",
       "    </tr>\n",
       "  </thead>\n",
       "  <tbody>\n",
       "    <tr>\n",
       "      <th>ITGB4</th>\n",
       "      <td>1617</td>\n",
       "      <td>3.710575(60)</td>\n",
       "      <td>49.350649(798)</td>\n",
       "    </tr>\n",
       "  </tbody>\n",
       "</table>"
      ],
      "text/plain": [
       "<IPython.core.display.HTML object>"
      ]
     },
     "metadata": {},
     "output_type": "display_data"
    },
    {
     "name": "stdout",
     "output_type": "stream",
     "text": [
      "for 1th dataset ENTER: gtex_all\n",
      "for 2th dataset ENTER: tcga_normal_all\n",
      "no overlap between datasets\n",
      "insert name for 1th datasetgtex_all\n",
      "insert name for 2th datasettcga_normal_all\n",
      "for dataset ENTER: tcga_normal_all\n",
      "insert name for other datasettcga_normal_all\n",
      "1st: high cutoff applied to gtex dataset\n",
      "2nd: common genes identified with other dataset\n",
      "3rd: both datasets combined\n",
      "4th: low cutoff applied to non-gtex dataset\n",
      "for dataset ENTER: tcga_primtum_all\n",
      "insert name for other datasettcga_primtum_all\n",
      "1st: high cutoff applied to gtex dataset\n",
      "2nd: common genes identified with other dataset\n",
      "3rd: both datasets combined\n",
      "4th: low cutoff applied to non-gtex dataset\n"
     ]
    },
    {
     "data": {
      "text/html": [
       "<table border=\"1\" class=\"dataframe\">\n",
       "  <thead>\n",
       "    <tr style=\"text-align: right;\">\n",
       "      <th></th>\n",
       "      <th>GTEX_highly_correlated</th>\n",
       "      <th>%lowly_correlated_in_TCGA_normal</th>\n",
       "      <th>%lowly_correlated_in_TCGA_primtum</th>\n",
       "    </tr>\n",
       "  </thead>\n",
       "  <tbody>\n",
       "    <tr>\n",
       "      <th>ITGB2</th>\n",
       "      <td>293</td>\n",
       "      <td>3.071672(9)</td>\n",
       "      <td>5.119454(15)</td>\n",
       "    </tr>\n",
       "  </tbody>\n",
       "</table>"
      ],
      "text/plain": [
       "<IPython.core.display.HTML object>"
      ]
     },
     "metadata": {},
     "output_type": "display_data"
    }
   ],
   "source": [
    "#table 2\n",
    "integrins_list=['ITGA7','ITGB8','ITGB6','ITGA10','ITGA6','ITGA4','ITGAV','ITGA9','ITGB5','ITGA1','ITGA2','ITGA8',\n",
    "'ITGB1','ITGB7','ITGA5','ITGBL1','ITGA11','ITGAL','ITGAM','ITGAX','ITGAD','ITGAE','ITGA2B','ITGB3','ITGA3',\n",
    "                'ITGB4','ITGB2']\n",
    "\n",
    "gtex_gct_dataset = 'gene_tpm_2017-06-05_v8_breast_mammary_tissue.gct_2'\n",
    "correlation_method ='pearson'\n",
    "correlation_cutoff = 0.6\n",
    "tcga_hiseq_dataset = '/home/hshadman/integrins_expression/saghar_TCGA_Breast/TCGA_BRCA_HiSeqV2' \n",
    "tcga_hiseq_corresponding_sample_info = '/home/hshadman/integrins_expression/saghar_TCGA_Breast/TCGA.BRCA.sampleMap_BRCA_clinicalMatrix'\n",
    "opposing_corr_cutoff = 0.1\n",
    "\n",
    "# make_data_presentable(interest_gene,correlation_method, correlation_cutoff,opposing_corr_cutoff,gtex_gct_dataset,\n",
    "#                          tcga_hiseq_dataset,tcga_hiseq_corresponding_sample_info)\n",
    "\n",
    "for interest_gene in integrins_list:\n",
    "    organize_gtex_tcga_table2(interest_gene,correlation_method, correlation_cutoff,opposing_corr_cutoff,gtex_gct_dataset,\n",
    "                         tcga_hiseq_dataset,tcga_hiseq_corresponding_sample_info)\n",
    "\n"
   ]
  },
  {
   "cell_type": "code",
   "execution_count": 13,
   "metadata": {
    "scrolled": false
   },
   "outputs": [
    {
     "name": "stdout",
     "output_type": "stream",
     "text": [
      "for 1th dataset ENTER: gtex_all\n",
      "for 2th dataset ENTER: tcga_normal_all\n",
      "no overlap between datasets\n",
      "insert name for 1th datasetgtex_all\n",
      "insert name for 2th datasettcga_normal_all\n",
      "for 1th dataset ENTER: gtex_all\n",
      "for 2th dataset ENTER: tcga_primtum_all\n",
      "no overlap between datasets\n",
      "insert name for 1th datasetgtex_all\n",
      "insert name for 2th datasettcga_primtum_all\n"
     ]
    },
    {
     "data": {
      "text/html": [
       "<table border=\"1\" class=\"dataframe\">\n",
       "  <thead>\n",
       "    <tr style=\"text-align: right;\">\n",
       "      <th></th>\n",
       "      <th>GTEX_expression_mean_&amp;_stdev</th>\n",
       "      <th>GTEX_highly_correlated</th>\n",
       "      <th>highly_correlated_in_TCGA_normal</th>\n",
       "      <th>highly_corelated_in_TCGA_primtum</th>\n",
       "    </tr>\n",
       "  </thead>\n",
       "  <tbody>\n",
       "    <tr>\n",
       "      <th>ITGA7</th>\n",
       "      <td>152.55 + 102.06</td>\n",
       "      <td>317</td>\n",
       "      <td>1467</td>\n",
       "      <td>118</td>\n",
       "    </tr>\n",
       "  </tbody>\n",
       "</table>"
      ],
      "text/plain": [
       "<IPython.core.display.HTML object>"
      ]
     },
     "metadata": {},
     "output_type": "display_data"
    },
    {
     "name": "stdout",
     "output_type": "stream",
     "text": [
      "for 1th dataset ENTER: gtex_all\n",
      "for 2th dataset ENTER: tcga_normal_all\n",
      "no overlap between datasets\n",
      "insert name for 1th datasetgtex_all\n",
      "insert name for 2th datasettcga_normal_all\n",
      "for 1th dataset ENTER: gtex_all\n",
      "for 2th dataset ENTER: tcga_primtum_all\n",
      "no overlap between datasets\n",
      "insert name for 1th datasetgtex_all\n",
      "insert name for 2th datasettcga_primtum_all\n"
     ]
    },
    {
     "data": {
      "text/html": [
       "<table border=\"1\" class=\"dataframe\">\n",
       "  <thead>\n",
       "    <tr style=\"text-align: right;\">\n",
       "      <th></th>\n",
       "      <th>GTEX_expression_mean_&amp;_stdev</th>\n",
       "      <th>GTEX_highly_correlated</th>\n",
       "      <th>highly_correlated_in_TCGA_normal</th>\n",
       "      <th>highly_corelated_in_TCGA_primtum</th>\n",
       "    </tr>\n",
       "  </thead>\n",
       "  <tbody>\n",
       "    <tr>\n",
       "      <th>ITGB8</th>\n",
       "      <td>8.35 + 8.82</td>\n",
       "      <td>2784</td>\n",
       "      <td>2772</td>\n",
       "      <td>0</td>\n",
       "    </tr>\n",
       "  </tbody>\n",
       "</table>"
      ],
      "text/plain": [
       "<IPython.core.display.HTML object>"
      ]
     },
     "metadata": {},
     "output_type": "display_data"
    },
    {
     "name": "stdout",
     "output_type": "stream",
     "text": [
      "for 1th dataset ENTER: gtex_all\n",
      "for 2th dataset ENTER: tcga_normal_all\n",
      "no overlap between datasets\n",
      "insert name for 1th datasetgtex_all\n",
      "insert name for 2th datasettcga_normal_all\n",
      "for 1th dataset ENTER: gtex_all\n",
      "for 2th dataset ENTER: tcga_primtum_all\n",
      "no overlap between datasets\n",
      "insert name for 1th datasetgtex_all\n",
      "insert name for 2th datasettcga_primtum_all\n"
     ]
    },
    {
     "data": {
      "text/html": [
       "<table border=\"1\" class=\"dataframe\">\n",
       "  <thead>\n",
       "    <tr style=\"text-align: right;\">\n",
       "      <th></th>\n",
       "      <th>GTEX_expression_mean_&amp;_stdev</th>\n",
       "      <th>GTEX_highly_correlated</th>\n",
       "      <th>highly_correlated_in_TCGA_normal</th>\n",
       "      <th>highly_corelated_in_TCGA_primtum</th>\n",
       "    </tr>\n",
       "  </thead>\n",
       "  <tbody>\n",
       "    <tr>\n",
       "      <th>ITGB6</th>\n",
       "      <td>8.01 + 10.91</td>\n",
       "      <td>1612</td>\n",
       "      <td>1905</td>\n",
       "      <td>0</td>\n",
       "    </tr>\n",
       "  </tbody>\n",
       "</table>"
      ],
      "text/plain": [
       "<IPython.core.display.HTML object>"
      ]
     },
     "metadata": {},
     "output_type": "display_data"
    },
    {
     "name": "stdout",
     "output_type": "stream",
     "text": [
      "for 1th dataset ENTER: gtex_all\n",
      "for 2th dataset ENTER: tcga_normal_all\n",
      "no overlap between datasets\n",
      "insert name for 1th datasetgtex_all\n",
      "insert name for 2th datasettcga_normal_all\n",
      "for 1th dataset ENTER: gtex_all\n",
      "for 2th dataset ENTER: tcga_primtum_all\n",
      "no overlap between datasets\n",
      "insert name for 1th datasetgtex_all\n",
      "insert name for 2th datasettcga_primtum_all\n"
     ]
    },
    {
     "data": {
      "text/html": [
       "<table border=\"1\" class=\"dataframe\">\n",
       "  <thead>\n",
       "    <tr style=\"text-align: right;\">\n",
       "      <th></th>\n",
       "      <th>GTEX_expression_mean_&amp;_stdev</th>\n",
       "      <th>GTEX_highly_correlated</th>\n",
       "      <th>highly_correlated_in_TCGA_normal</th>\n",
       "      <th>highly_corelated_in_TCGA_primtum</th>\n",
       "    </tr>\n",
       "  </thead>\n",
       "  <tbody>\n",
       "    <tr>\n",
       "      <th>ITGA10</th>\n",
       "      <td>18.64 + 21.48</td>\n",
       "      <td>378</td>\n",
       "      <td>2255</td>\n",
       "      <td>0</td>\n",
       "    </tr>\n",
       "  </tbody>\n",
       "</table>"
      ],
      "text/plain": [
       "<IPython.core.display.HTML object>"
      ]
     },
     "metadata": {},
     "output_type": "display_data"
    },
    {
     "name": "stdout",
     "output_type": "stream",
     "text": [
      "for 1th dataset ENTER: gtex_all\n",
      "for 2th dataset ENTER: tcga_normal_all\n",
      "no overlap between datasets\n",
      "insert name for 1th datasetgtex_all\n",
      "insert name for 2th datasettcga_normal_all\n",
      "for 1th dataset ENTER: gtex_all\n",
      "for 2th dataset ENTER: tcga_primtum_all\n",
      "no overlap between datasets\n",
      "insert name for 1th datasetgtex_all\n",
      "insert name for 2th datasettcga_primtum_all\n"
     ]
    },
    {
     "data": {
      "text/html": [
       "<table border=\"1\" class=\"dataframe\">\n",
       "  <thead>\n",
       "    <tr style=\"text-align: right;\">\n",
       "      <th></th>\n",
       "      <th>GTEX_expression_mean_&amp;_stdev</th>\n",
       "      <th>GTEX_highly_correlated</th>\n",
       "      <th>highly_correlated_in_TCGA_normal</th>\n",
       "      <th>highly_corelated_in_TCGA_primtum</th>\n",
       "    </tr>\n",
       "  </thead>\n",
       "  <tbody>\n",
       "    <tr>\n",
       "      <th>ITGA6</th>\n",
       "      <td>74.20 + 27.93</td>\n",
       "      <td>43</td>\n",
       "      <td>945</td>\n",
       "      <td>0</td>\n",
       "    </tr>\n",
       "  </tbody>\n",
       "</table>"
      ],
      "text/plain": [
       "<IPython.core.display.HTML object>"
      ]
     },
     "metadata": {},
     "output_type": "display_data"
    },
    {
     "name": "stdout",
     "output_type": "stream",
     "text": [
      "for 1th dataset ENTER: gtex_all\n",
      "for 2th dataset ENTER: tcga_normal_all\n",
      "no overlap between datasets\n",
      "insert name for 1th datasetgtex_all\n",
      "insert name for 2th datasettcga_normal_all\n",
      "for 1th dataset ENTER: gtex_all\n",
      "for 2th dataset ENTER: tcga_primtum_all\n",
      "no overlap between datasets\n",
      "insert name for 1th datasetgtex_all\n",
      "insert name for 2th datasettcga_primtum_all\n"
     ]
    },
    {
     "data": {
      "text/html": [
       "<table border=\"1\" class=\"dataframe\">\n",
       "  <thead>\n",
       "    <tr style=\"text-align: right;\">\n",
       "      <th></th>\n",
       "      <th>GTEX_expression_mean_&amp;_stdev</th>\n",
       "      <th>GTEX_highly_correlated</th>\n",
       "      <th>highly_correlated_in_TCGA_normal</th>\n",
       "      <th>highly_corelated_in_TCGA_primtum</th>\n",
       "    </tr>\n",
       "  </thead>\n",
       "  <tbody>\n",
       "    <tr>\n",
       "      <th>ITGA4</th>\n",
       "      <td>2.54 + 1.81</td>\n",
       "      <td>115</td>\n",
       "      <td>415</td>\n",
       "      <td>186</td>\n",
       "    </tr>\n",
       "  </tbody>\n",
       "</table>"
      ],
      "text/plain": [
       "<IPython.core.display.HTML object>"
      ]
     },
     "metadata": {},
     "output_type": "display_data"
    },
    {
     "name": "stdout",
     "output_type": "stream",
     "text": [
      "for 1th dataset ENTER: gtex_all\n",
      "for 2th dataset ENTER: tcga_normal_all\n",
      "no overlap between datasets\n",
      "insert name for 1th datasetgtex_all\n",
      "insert name for 2th datasettcga_normal_all\n",
      "for 1th dataset ENTER: gtex_all\n",
      "for 2th dataset ENTER: tcga_primtum_all\n",
      "no overlap between datasets\n",
      "insert name for 1th datasetgtex_all\n",
      "insert name for 2th datasettcga_primtum_all\n"
     ]
    },
    {
     "data": {
      "text/html": [
       "<table border=\"1\" class=\"dataframe\">\n",
       "  <thead>\n",
       "    <tr style=\"text-align: right;\">\n",
       "      <th></th>\n",
       "      <th>GTEX_expression_mean_&amp;_stdev</th>\n",
       "      <th>GTEX_highly_correlated</th>\n",
       "      <th>highly_correlated_in_TCGA_normal</th>\n",
       "      <th>highly_corelated_in_TCGA_primtum</th>\n",
       "    </tr>\n",
       "  </thead>\n",
       "  <tbody>\n",
       "    <tr>\n",
       "      <th>ITGAV</th>\n",
       "      <td>33.55 + 10.38</td>\n",
       "      <td>161</td>\n",
       "      <td>942</td>\n",
       "      <td>81</td>\n",
       "    </tr>\n",
       "  </tbody>\n",
       "</table>"
      ],
      "text/plain": [
       "<IPython.core.display.HTML object>"
      ]
     },
     "metadata": {},
     "output_type": "display_data"
    },
    {
     "name": "stdout",
     "output_type": "stream",
     "text": [
      "for 1th dataset ENTER: gtex_all\n",
      "for 2th dataset ENTER: tcga_normal_all\n",
      "no overlap between datasets\n",
      "insert name for 1th datasetgtex_all\n",
      "insert name for 2th datasettcga_normal_all\n",
      "for 1th dataset ENTER: gtex_all\n",
      "for 2th dataset ENTER: tcga_primtum_all\n",
      "no overlap between datasets\n",
      "insert name for 1th datasetgtex_all\n",
      "insert name for 2th datasettcga_primtum_all\n"
     ]
    },
    {
     "data": {
      "text/html": [
       "<table border=\"1\" class=\"dataframe\">\n",
       "  <thead>\n",
       "    <tr style=\"text-align: right;\">\n",
       "      <th></th>\n",
       "      <th>GTEX_expression_mean_&amp;_stdev</th>\n",
       "      <th>GTEX_highly_correlated</th>\n",
       "      <th>highly_correlated_in_TCGA_normal</th>\n",
       "      <th>highly_corelated_in_TCGA_primtum</th>\n",
       "    </tr>\n",
       "  </thead>\n",
       "  <tbody>\n",
       "    <tr>\n",
       "      <th>ITGA9</th>\n",
       "      <td>10.79 + 4.00</td>\n",
       "      <td>3</td>\n",
       "      <td>666</td>\n",
       "      <td>9</td>\n",
       "    </tr>\n",
       "  </tbody>\n",
       "</table>"
      ],
      "text/plain": [
       "<IPython.core.display.HTML object>"
      ]
     },
     "metadata": {},
     "output_type": "display_data"
    },
    {
     "name": "stdout",
     "output_type": "stream",
     "text": [
      "for 1th dataset ENTER: gtex_all\n",
      "for 2th dataset ENTER: tcga_normal_all\n",
      "no overlap between datasets\n",
      "insert name for 1th datasetgtex_all\n",
      "insert name for 2th datasettcga_normal_all\n",
      "for 1th dataset ENTER: gtex_all\n",
      "for 2th dataset ENTER: tcga_primtum_all\n",
      "no overlap between datasets\n",
      "insert name for 1th datasetgtex_all\n",
      "insert name for 2th datasettcga_primtum_all\n"
     ]
    },
    {
     "data": {
      "text/html": [
       "<table border=\"1\" class=\"dataframe\">\n",
       "  <thead>\n",
       "    <tr style=\"text-align: right;\">\n",
       "      <th></th>\n",
       "      <th>GTEX_expression_mean_&amp;_stdev</th>\n",
       "      <th>GTEX_highly_correlated</th>\n",
       "      <th>highly_correlated_in_TCGA_normal</th>\n",
       "      <th>highly_corelated_in_TCGA_primtum</th>\n",
       "    </tr>\n",
       "  </thead>\n",
       "  <tbody>\n",
       "    <tr>\n",
       "      <th>ITGB5</th>\n",
       "      <td>105.48 + 37.79</td>\n",
       "      <td>22</td>\n",
       "      <td>527</td>\n",
       "      <td>3</td>\n",
       "    </tr>\n",
       "  </tbody>\n",
       "</table>"
      ],
      "text/plain": [
       "<IPython.core.display.HTML object>"
      ]
     },
     "metadata": {},
     "output_type": "display_data"
    },
    {
     "name": "stdout",
     "output_type": "stream",
     "text": [
      "for 1th dataset ENTER: gtex_all\n",
      "for 2th dataset ENTER: tcga_normal_all\n",
      "no overlap between datasets\n",
      "insert name for 1th datasetgtex_all\n",
      "insert name for 2th datasettcga_normal_all\n",
      "for 1th dataset ENTER: gtex_all\n",
      "for 2th dataset ENTER: tcga_primtum_all\n",
      "no overlap between datasets\n",
      "insert name for 1th datasetgtex_all\n",
      "insert name for 2th datasettcga_primtum_all\n"
     ]
    },
    {
     "data": {
      "text/html": [
       "<table border=\"1\" class=\"dataframe\">\n",
       "  <thead>\n",
       "    <tr style=\"text-align: right;\">\n",
       "      <th></th>\n",
       "      <th>GTEX_expression_mean_&amp;_stdev</th>\n",
       "      <th>GTEX_highly_correlated</th>\n",
       "      <th>highly_correlated_in_TCGA_normal</th>\n",
       "      <th>highly_corelated_in_TCGA_primtum</th>\n",
       "    </tr>\n",
       "  </thead>\n",
       "  <tbody>\n",
       "    <tr>\n",
       "      <th>ITGA1</th>\n",
       "      <td>25.24 + 11.05</td>\n",
       "      <td>67</td>\n",
       "      <td>1192</td>\n",
       "      <td>176</td>\n",
       "    </tr>\n",
       "  </tbody>\n",
       "</table>"
      ],
      "text/plain": [
       "<IPython.core.display.HTML object>"
      ]
     },
     "metadata": {},
     "output_type": "display_data"
    },
    {
     "name": "stdout",
     "output_type": "stream",
     "text": [
      "for 1th dataset ENTER: gtex_all\n",
      "for 2th dataset ENTER: tcga_normal_all\n",
      "no overlap between datasets\n",
      "insert name for 1th datasetgtex_all\n",
      "insert name for 2th datasettcga_normal_all\n",
      "for 1th dataset ENTER: gtex_all\n",
      "for 2th dataset ENTER: tcga_primtum_all\n",
      "no overlap between datasets\n",
      "insert name for 1th datasetgtex_all\n",
      "insert name for 2th datasettcga_primtum_all\n"
     ]
    },
    {
     "data": {
      "text/html": [
       "<table border=\"1\" class=\"dataframe\">\n",
       "  <thead>\n",
       "    <tr style=\"text-align: right;\">\n",
       "      <th></th>\n",
       "      <th>GTEX_expression_mean_&amp;_stdev</th>\n",
       "      <th>GTEX_highly_correlated</th>\n",
       "      <th>highly_correlated_in_TCGA_normal</th>\n",
       "      <th>highly_corelated_in_TCGA_primtum</th>\n",
       "    </tr>\n",
       "  </thead>\n",
       "  <tbody>\n",
       "    <tr>\n",
       "      <th>ITGA2</th>\n",
       "      <td>6.58 + 6.18</td>\n",
       "      <td>4047</td>\n",
       "      <td>2959</td>\n",
       "      <td>0</td>\n",
       "    </tr>\n",
       "  </tbody>\n",
       "</table>"
      ],
      "text/plain": [
       "<IPython.core.display.HTML object>"
      ]
     },
     "metadata": {},
     "output_type": "display_data"
    },
    {
     "name": "stdout",
     "output_type": "stream",
     "text": [
      "for 1th dataset ENTER: gtex_all\n",
      "for 2th dataset ENTER: tcga_normal_all\n",
      "no overlap between datasets\n",
      "insert name for 1th datasetgtex_all\n",
      "insert name for 2th datasettcga_normal_all\n",
      "for 1th dataset ENTER: gtex_all\n",
      "for 2th dataset ENTER: tcga_primtum_all\n",
      "no overlap between datasets\n",
      "insert name for 1th datasetgtex_all\n",
      "insert name for 2th datasettcga_primtum_all\n"
     ]
    },
    {
     "data": {
      "text/html": [
       "<table border=\"1\" class=\"dataframe\">\n",
       "  <thead>\n",
       "    <tr style=\"text-align: right;\">\n",
       "      <th></th>\n",
       "      <th>GTEX_expression_mean_&amp;_stdev</th>\n",
       "      <th>GTEX_highly_correlated</th>\n",
       "      <th>highly_correlated_in_TCGA_normal</th>\n",
       "      <th>highly_corelated_in_TCGA_primtum</th>\n",
       "    </tr>\n",
       "  </thead>\n",
       "  <tbody>\n",
       "    <tr>\n",
       "      <th>ITGA8</th>\n",
       "      <td>5.36 + 10.32</td>\n",
       "      <td>31</td>\n",
       "      <td>233</td>\n",
       "      <td>93</td>\n",
       "    </tr>\n",
       "  </tbody>\n",
       "</table>"
      ],
      "text/plain": [
       "<IPython.core.display.HTML object>"
      ]
     },
     "metadata": {},
     "output_type": "display_data"
    },
    {
     "name": "stdout",
     "output_type": "stream",
     "text": [
      "for 1th dataset ENTER: gtex_all\n",
      "for 2th dataset ENTER: tcga_normal_all\n",
      "no overlap between datasets\n",
      "insert name for 1th datasetgtex_all\n",
      "insert name for 2th datasettcga_normal_all\n",
      "for 1th dataset ENTER: gtex_all\n",
      "for 2th dataset ENTER: tcga_primtum_all\n",
      "no overlap between datasets\n",
      "insert name for 1th datasetgtex_all\n",
      "insert name for 2th datasettcga_primtum_all\n"
     ]
    },
    {
     "data": {
      "text/html": [
       "<table border=\"1\" class=\"dataframe\">\n",
       "  <thead>\n",
       "    <tr style=\"text-align: right;\">\n",
       "      <th></th>\n",
       "      <th>GTEX_expression_mean_&amp;_stdev</th>\n",
       "      <th>GTEX_highly_correlated</th>\n",
       "      <th>highly_correlated_in_TCGA_normal</th>\n",
       "      <th>highly_corelated_in_TCGA_primtum</th>\n",
       "    </tr>\n",
       "  </thead>\n",
       "  <tbody>\n",
       "    <tr>\n",
       "      <th>ITGB1</th>\n",
       "      <td>165.20 + 60.53</td>\n",
       "      <td>70</td>\n",
       "      <td>1363</td>\n",
       "      <td>58</td>\n",
       "    </tr>\n",
       "  </tbody>\n",
       "</table>"
      ],
      "text/plain": [
       "<IPython.core.display.HTML object>"
      ]
     },
     "metadata": {},
     "output_type": "display_data"
    },
    {
     "name": "stdout",
     "output_type": "stream",
     "text": [
      "for 1th dataset ENTER: gtex_all\n",
      "for 2th dataset ENTER: tcga_normal_all\n",
      "no overlap between datasets\n",
      "insert name for 1th datasetgtex_all\n",
      "insert name for 2th datasettcga_normal_all\n",
      "for 1th dataset ENTER: gtex_all\n",
      "for 2th dataset ENTER: tcga_primtum_all\n",
      "no overlap between datasets\n",
      "insert name for 1th datasetgtex_all\n",
      "insert name for 2th datasettcga_primtum_all\n"
     ]
    },
    {
     "data": {
      "text/html": [
       "<table border=\"1\" class=\"dataframe\">\n",
       "  <thead>\n",
       "    <tr style=\"text-align: right;\">\n",
       "      <th></th>\n",
       "      <th>GTEX_expression_mean_&amp;_stdev</th>\n",
       "      <th>GTEX_highly_correlated</th>\n",
       "      <th>highly_correlated_in_TCGA_normal</th>\n",
       "      <th>highly_corelated_in_TCGA_primtum</th>\n",
       "    </tr>\n",
       "  </thead>\n",
       "  <tbody>\n",
       "    <tr>\n",
       "      <th>ITGB7</th>\n",
       "      <td>1.77 + 1.30</td>\n",
       "      <td>83</td>\n",
       "      <td>123</td>\n",
       "      <td>369</td>\n",
       "    </tr>\n",
       "  </tbody>\n",
       "</table>"
      ],
      "text/plain": [
       "<IPython.core.display.HTML object>"
      ]
     },
     "metadata": {},
     "output_type": "display_data"
    },
    {
     "name": "stdout",
     "output_type": "stream",
     "text": [
      "for 1th dataset ENTER: gtex_all\n",
      "for 2th dataset ENTER: tcga_normal_all\n",
      "no overlap between datasets\n",
      "insert name for 1th datasetgtex_all\n",
      "insert name for 2th datasettcga_normal_all\n",
      "for 1th dataset ENTER: gtex_all\n",
      "for 2th dataset ENTER: tcga_primtum_all\n",
      "no overlap between datasets\n",
      "insert name for 1th datasetgtex_all\n",
      "insert name for 2th datasettcga_primtum_all\n"
     ]
    },
    {
     "data": {
      "text/html": [
       "<table border=\"1\" class=\"dataframe\">\n",
       "  <thead>\n",
       "    <tr style=\"text-align: right;\">\n",
       "      <th></th>\n",
       "      <th>GTEX_expression_mean_&amp;_stdev</th>\n",
       "      <th>GTEX_highly_correlated</th>\n",
       "      <th>highly_correlated_in_TCGA_normal</th>\n",
       "      <th>highly_corelated_in_TCGA_primtum</th>\n",
       "    </tr>\n",
       "  </thead>\n",
       "  <tbody>\n",
       "    <tr>\n",
       "      <th>ITGA5</th>\n",
       "      <td>101.97 + 69.01</td>\n",
       "      <td>59</td>\n",
       "      <td>771</td>\n",
       "      <td>122</td>\n",
       "    </tr>\n",
       "  </tbody>\n",
       "</table>"
      ],
      "text/plain": [
       "<IPython.core.display.HTML object>"
      ]
     },
     "metadata": {},
     "output_type": "display_data"
    },
    {
     "name": "stdout",
     "output_type": "stream",
     "text": [
      "for 1th dataset ENTER: gtex_all\n",
      "for 2th dataset ENTER: tcga_normal_all\n",
      "no overlap between datasets\n",
      "insert name for 1th datasetgtex_all\n",
      "insert name for 2th datasettcga_normal_all\n",
      "for 1th dataset ENTER: gtex_all\n",
      "for 2th dataset ENTER: tcga_primtum_all\n",
      "no overlap between datasets\n",
      "insert name for 1th datasetgtex_all\n",
      "insert name for 2th datasettcga_primtum_all\n"
     ]
    },
    {
     "data": {
      "text/html": [
       "<table border=\"1\" class=\"dataframe\">\n",
       "  <thead>\n",
       "    <tr style=\"text-align: right;\">\n",
       "      <th></th>\n",
       "      <th>GTEX_expression_mean_&amp;_stdev</th>\n",
       "      <th>GTEX_highly_correlated</th>\n",
       "      <th>highly_correlated_in_TCGA_normal</th>\n",
       "      <th>highly_corelated_in_TCGA_primtum</th>\n",
       "    </tr>\n",
       "  </thead>\n",
       "  <tbody>\n",
       "    <tr>\n",
       "      <th>ITGBL1</th>\n",
       "      <td>12.98 + 10.20</td>\n",
       "      <td>7</td>\n",
       "      <td>1</td>\n",
       "      <td>190</td>\n",
       "    </tr>\n",
       "  </tbody>\n",
       "</table>"
      ],
      "text/plain": [
       "<IPython.core.display.HTML object>"
      ]
     },
     "metadata": {},
     "output_type": "display_data"
    },
    {
     "name": "stdout",
     "output_type": "stream",
     "text": [
      "for 1th dataset ENTER: gtex_all\n",
      "for 2th dataset ENTER: tcga_normal_all\n",
      "no overlap between datasets\n",
      "insert name for 1th datasetgtex_all\n",
      "insert name for 2th datasettcga_normal_all\n",
      "for 1th dataset ENTER: gtex_all\n",
      "for 2th dataset ENTER: tcga_primtum_all\n",
      "no overlap between datasets\n",
      "insert name for 1th datasetgtex_all\n",
      "insert name for 2th datasettcga_primtum_all\n"
     ]
    },
    {
     "data": {
      "text/html": [
       "<table border=\"1\" class=\"dataframe\">\n",
       "  <thead>\n",
       "    <tr style=\"text-align: right;\">\n",
       "      <th></th>\n",
       "      <th>GTEX_expression_mean_&amp;_stdev</th>\n",
       "      <th>GTEX_highly_correlated</th>\n",
       "      <th>highly_correlated_in_TCGA_normal</th>\n",
       "      <th>highly_corelated_in_TCGA_primtum</th>\n",
       "    </tr>\n",
       "  </thead>\n",
       "  <tbody>\n",
       "    <tr>\n",
       "      <th>ITGA11</th>\n",
       "      <td>4.76 + 4.56</td>\n",
       "      <td>27</td>\n",
       "      <td>12</td>\n",
       "      <td>187</td>\n",
       "    </tr>\n",
       "  </tbody>\n",
       "</table>"
      ],
      "text/plain": [
       "<IPython.core.display.HTML object>"
      ]
     },
     "metadata": {},
     "output_type": "display_data"
    },
    {
     "name": "stdout",
     "output_type": "stream",
     "text": [
      "for 1th dataset ENTER: gtex_all\n",
      "for 2th dataset ENTER: tcga_normal_all\n",
      "no overlap between datasets\n",
      "insert name for 1th datasetgtex_all\n",
      "insert name for 2th datasettcga_normal_all\n",
      "for 1th dataset ENTER: gtex_all\n",
      "for 2th dataset ENTER: tcga_primtum_all\n",
      "no overlap between datasets\n",
      "insert name for 1th datasetgtex_all\n",
      "insert name for 2th datasettcga_primtum_all\n"
     ]
    },
    {
     "data": {
      "text/html": [
       "<table border=\"1\" class=\"dataframe\">\n",
       "  <thead>\n",
       "    <tr style=\"text-align: right;\">\n",
       "      <th></th>\n",
       "      <th>GTEX_expression_mean_&amp;_stdev</th>\n",
       "      <th>GTEX_highly_correlated</th>\n",
       "      <th>highly_correlated_in_TCGA_normal</th>\n",
       "      <th>highly_corelated_in_TCGA_primtum</th>\n",
       "    </tr>\n",
       "  </thead>\n",
       "  <tbody>\n",
       "    <tr>\n",
       "      <th>ITGAL</th>\n",
       "      <td>4.35 + 3.46</td>\n",
       "      <td>101</td>\n",
       "      <td>284</td>\n",
       "      <td>279</td>\n",
       "    </tr>\n",
       "  </tbody>\n",
       "</table>"
      ],
      "text/plain": [
       "<IPython.core.display.HTML object>"
      ]
     },
     "metadata": {},
     "output_type": "display_data"
    },
    {
     "name": "stdout",
     "output_type": "stream",
     "text": [
      "for 1th dataset ENTER: gtex_all\n",
      "for 2th dataset ENTER: tcga_normal_all\n",
      "no overlap between datasets\n",
      "insert name for 1th datasetgtex_all\n",
      "insert name for 2th datasettcga_normal_all\n",
      "for 1th dataset ENTER: gtex_all\n",
      "for 2th dataset ENTER: tcga_primtum_all\n",
      "no overlap between datasets\n",
      "insert name for 1th datasetgtex_all\n",
      "insert name for 2th datasettcga_primtum_all\n"
     ]
    },
    {
     "data": {
      "text/html": [
       "<table border=\"1\" class=\"dataframe\">\n",
       "  <thead>\n",
       "    <tr style=\"text-align: right;\">\n",
       "      <th></th>\n",
       "      <th>GTEX_expression_mean_&amp;_stdev</th>\n",
       "      <th>GTEX_highly_correlated</th>\n",
       "      <th>highly_correlated_in_TCGA_normal</th>\n",
       "      <th>highly_corelated_in_TCGA_primtum</th>\n",
       "    </tr>\n",
       "  </thead>\n",
       "  <tbody>\n",
       "    <tr>\n",
       "      <th>ITGAM</th>\n",
       "      <td>6.86 + 8.57</td>\n",
       "      <td>314</td>\n",
       "      <td>497</td>\n",
       "      <td>124</td>\n",
       "    </tr>\n",
       "  </tbody>\n",
       "</table>"
      ],
      "text/plain": [
       "<IPython.core.display.HTML object>"
      ]
     },
     "metadata": {},
     "output_type": "display_data"
    },
    {
     "name": "stdout",
     "output_type": "stream",
     "text": [
      "for 1th dataset ENTER: gtex_all\n",
      "for 2th dataset ENTER: tcga_normal_all\n",
      "no overlap between datasets\n",
      "insert name for 1th datasetgtex_all\n",
      "insert name for 2th datasettcga_normal_all\n",
      "for 1th dataset ENTER: gtex_all\n",
      "for 2th dataset ENTER: tcga_primtum_all\n",
      "no overlap between datasets\n",
      "insert name for 1th datasetgtex_all\n",
      "insert name for 2th datasettcga_primtum_all\n"
     ]
    },
    {
     "data": {
      "text/html": [
       "<table border=\"1\" class=\"dataframe\">\n",
       "  <thead>\n",
       "    <tr style=\"text-align: right;\">\n",
       "      <th></th>\n",
       "      <th>GTEX_expression_mean_&amp;_stdev</th>\n",
       "      <th>GTEX_highly_correlated</th>\n",
       "      <th>highly_correlated_in_TCGA_normal</th>\n",
       "      <th>highly_corelated_in_TCGA_primtum</th>\n",
       "    </tr>\n",
       "  </thead>\n",
       "  <tbody>\n",
       "    <tr>\n",
       "      <th>ITGAX</th>\n",
       "      <td>8.94 + 23.17</td>\n",
       "      <td>257</td>\n",
       "      <td>196</td>\n",
       "      <td>342</td>\n",
       "    </tr>\n",
       "  </tbody>\n",
       "</table>"
      ],
      "text/plain": [
       "<IPython.core.display.HTML object>"
      ]
     },
     "metadata": {},
     "output_type": "display_data"
    },
    {
     "name": "stdout",
     "output_type": "stream",
     "text": [
      "for 1th dataset ENTER: gtex_all\n",
      "for 2th dataset ENTER: tcga_normal_all\n",
      "no overlap between datasets\n",
      "insert name for 1th datasetgtex_all\n",
      "insert name for 2th datasettcga_normal_all\n",
      "for 1th dataset ENTER: gtex_all\n",
      "for 2th dataset ENTER: tcga_primtum_all\n",
      "no overlap between datasets\n",
      "insert name for 1th datasetgtex_all\n",
      "insert name for 2th datasettcga_primtum_all\n"
     ]
    },
    {
     "data": {
      "text/html": [
       "<table border=\"1\" class=\"dataframe\">\n",
       "  <thead>\n",
       "    <tr style=\"text-align: right;\">\n",
       "      <th></th>\n",
       "      <th>GTEX_expression_mean_&amp;_stdev</th>\n",
       "      <th>GTEX_highly_correlated</th>\n",
       "      <th>highly_correlated_in_TCGA_normal</th>\n",
       "      <th>highly_corelated_in_TCGA_primtum</th>\n",
       "    </tr>\n",
       "  </thead>\n",
       "  <tbody>\n",
       "    <tr>\n",
       "      <th>ITGAD</th>\n",
       "      <td>0.19 + 0.25</td>\n",
       "      <td>4</td>\n",
       "      <td>16</td>\n",
       "      <td>9</td>\n",
       "    </tr>\n",
       "  </tbody>\n",
       "</table>"
      ],
      "text/plain": [
       "<IPython.core.display.HTML object>"
      ]
     },
     "metadata": {},
     "output_type": "display_data"
    },
    {
     "name": "stdout",
     "output_type": "stream",
     "text": [
      "for 1th dataset ENTER: gtex_all\n",
      "for 2th dataset ENTER: tcga_normal_all\n",
      "no overlap between datasets\n",
      "insert name for 1th datasetgtex_all\n",
      "insert name for 2th datasettcga_normal_all\n",
      "for 1th dataset ENTER: gtex_all\n",
      "for 2th dataset ENTER: tcga_primtum_all\n",
      "no overlap between datasets\n",
      "insert name for 1th datasetgtex_all\n",
      "insert name for 2th datasettcga_primtum_all\n"
     ]
    },
    {
     "data": {
      "text/html": [
       "<table border=\"1\" class=\"dataframe\">\n",
       "  <thead>\n",
       "    <tr style=\"text-align: right;\">\n",
       "      <th></th>\n",
       "      <th>GTEX_expression_mean_&amp;_stdev</th>\n",
       "      <th>GTEX_highly_correlated</th>\n",
       "      <th>highly_correlated_in_TCGA_normal</th>\n",
       "      <th>highly_corelated_in_TCGA_primtum</th>\n",
       "    </tr>\n",
       "  </thead>\n",
       "  <tbody>\n",
       "    <tr>\n",
       "      <th>ITGAE</th>\n",
       "      <td>8.23 + 2.10</td>\n",
       "      <td>24</td>\n",
       "      <td>140</td>\n",
       "      <td>0</td>\n",
       "    </tr>\n",
       "  </tbody>\n",
       "</table>"
      ],
      "text/plain": [
       "<IPython.core.display.HTML object>"
      ]
     },
     "metadata": {},
     "output_type": "display_data"
    },
    {
     "name": "stdout",
     "output_type": "stream",
     "text": [
      "for 1th dataset ENTER: gtex_all\n",
      "for 2th dataset ENTER: tcga_normal_all\n",
      "no overlap between datasets\n",
      "insert name for 1th datasetgtex_all\n",
      "insert name for 2th datasettcga_normal_all\n",
      "for 1th dataset ENTER: gtex_all\n",
      "for 2th dataset ENTER: tcga_primtum_all\n",
      "no overlap between datasets\n",
      "insert name for 1th datasetgtex_all\n",
      "insert name for 2th datasettcga_primtum_all\n"
     ]
    },
    {
     "data": {
      "text/html": [
       "<table border=\"1\" class=\"dataframe\">\n",
       "  <thead>\n",
       "    <tr style=\"text-align: right;\">\n",
       "      <th></th>\n",
       "      <th>GTEX_expression_mean_&amp;_stdev</th>\n",
       "      <th>GTEX_highly_correlated</th>\n",
       "      <th>highly_correlated_in_TCGA_normal</th>\n",
       "      <th>highly_corelated_in_TCGA_primtum</th>\n",
       "    </tr>\n",
       "  </thead>\n",
       "  <tbody>\n",
       "    <tr>\n",
       "      <th>ITGA2B</th>\n",
       "      <td>1.35 + 0.72</td>\n",
       "      <td>5</td>\n",
       "      <td>0</td>\n",
       "      <td>0</td>\n",
       "    </tr>\n",
       "  </tbody>\n",
       "</table>"
      ],
      "text/plain": [
       "<IPython.core.display.HTML object>"
      ]
     },
     "metadata": {},
     "output_type": "display_data"
    },
    {
     "name": "stdout",
     "output_type": "stream",
     "text": [
      "for 1th dataset ENTER: gtex_all\n",
      "for 2th dataset ENTER: tcga_normal_all\n",
      "no overlap between datasets\n",
      "insert name for 1th datasetgtex_all\n",
      "insert name for 2th datasettcga_normal_all\n",
      "for 1th dataset ENTER: gtex_all\n",
      "for 2th dataset ENTER: tcga_primtum_all\n",
      "no overlap between datasets\n",
      "insert name for 1th datasetgtex_all\n",
      "insert name for 2th datasettcga_primtum_all\n"
     ]
    },
    {
     "data": {
      "text/html": [
       "<table border=\"1\" class=\"dataframe\">\n",
       "  <thead>\n",
       "    <tr style=\"text-align: right;\">\n",
       "      <th></th>\n",
       "      <th>GTEX_expression_mean_&amp;_stdev</th>\n",
       "      <th>GTEX_highly_correlated</th>\n",
       "      <th>highly_correlated_in_TCGA_normal</th>\n",
       "      <th>highly_corelated_in_TCGA_primtum</th>\n",
       "    </tr>\n",
       "  </thead>\n",
       "  <tbody>\n",
       "    <tr>\n",
       "      <th>ITGB3</th>\n",
       "      <td>9.45 + 7.85</td>\n",
       "      <td>57</td>\n",
       "      <td>550</td>\n",
       "      <td>33</td>\n",
       "    </tr>\n",
       "  </tbody>\n",
       "</table>"
      ],
      "text/plain": [
       "<IPython.core.display.HTML object>"
      ]
     },
     "metadata": {},
     "output_type": "display_data"
    },
    {
     "name": "stdout",
     "output_type": "stream",
     "text": [
      "for 1th dataset ENTER: gtex_all\n",
      "for 2th dataset ENTER: tcga_normal_all\n",
      "no overlap between datasets\n",
      "insert name for 1th datasetgtex_all\n",
      "insert name for 2th datasettcga_normal_all\n",
      "for 1th dataset ENTER: gtex_all\n",
      "for 2th dataset ENTER: tcga_primtum_all\n",
      "no overlap between datasets\n",
      "insert name for 1th datasetgtex_all\n",
      "insert name for 2th datasettcga_primtum_all\n"
     ]
    },
    {
     "data": {
      "text/html": [
       "<table border=\"1\" class=\"dataframe\">\n",
       "  <thead>\n",
       "    <tr style=\"text-align: right;\">\n",
       "      <th></th>\n",
       "      <th>GTEX_expression_mean_&amp;_stdev</th>\n",
       "      <th>GTEX_highly_correlated</th>\n",
       "      <th>highly_correlated_in_TCGA_normal</th>\n",
       "      <th>highly_corelated_in_TCGA_primtum</th>\n",
       "    </tr>\n",
       "  </thead>\n",
       "  <tbody>\n",
       "    <tr>\n",
       "      <th>ITGA3</th>\n",
       "      <td>42.66 + 23.39</td>\n",
       "      <td>1430</td>\n",
       "      <td>2738</td>\n",
       "      <td>0</td>\n",
       "    </tr>\n",
       "  </tbody>\n",
       "</table>"
      ],
      "text/plain": [
       "<IPython.core.display.HTML object>"
      ]
     },
     "metadata": {},
     "output_type": "display_data"
    },
    {
     "name": "stdout",
     "output_type": "stream",
     "text": [
      "for 1th dataset ENTER: gtex_all\n",
      "for 2th dataset ENTER: tcga_normal_all\n",
      "no overlap between datasets\n",
      "insert name for 1th datasetgtex_all\n",
      "insert name for 2th datasettcga_normal_all\n",
      "for 1th dataset ENTER: gtex_all\n",
      "for 2th dataset ENTER: tcga_primtum_all\n",
      "no overlap between datasets\n",
      "insert name for 1th datasetgtex_all\n",
      "insert name for 2th datasettcga_primtum_all\n"
     ]
    },
    {
     "data": {
      "text/html": [
       "<table border=\"1\" class=\"dataframe\">\n",
       "  <thead>\n",
       "    <tr style=\"text-align: right;\">\n",
       "      <th></th>\n",
       "      <th>GTEX_expression_mean_&amp;_stdev</th>\n",
       "      <th>GTEX_highly_correlated</th>\n",
       "      <th>highly_correlated_in_TCGA_normal</th>\n",
       "      <th>highly_corelated_in_TCGA_primtum</th>\n",
       "    </tr>\n",
       "  </thead>\n",
       "  <tbody>\n",
       "    <tr>\n",
       "      <th>ITGB4</th>\n",
       "      <td>79.55 + 62.63</td>\n",
       "      <td>1617</td>\n",
       "      <td>2731</td>\n",
       "      <td>0</td>\n",
       "    </tr>\n",
       "  </tbody>\n",
       "</table>"
      ],
      "text/plain": [
       "<IPython.core.display.HTML object>"
      ]
     },
     "metadata": {},
     "output_type": "display_data"
    },
    {
     "name": "stdout",
     "output_type": "stream",
     "text": [
      "for 1th dataset ENTER: gtex_all\n",
      "for 2th dataset ENTER: tcga_normal_all\n",
      "no overlap between datasets\n",
      "insert name for 1th datasetgtex_all\n",
      "insert name for 2th datasettcga_normal_all\n",
      "for 1th dataset ENTER: gtex_all\n",
      "for 2th dataset ENTER: tcga_primtum_all\n",
      "no overlap between datasets\n",
      "insert name for 1th datasetgtex_all\n",
      "insert name for 2th datasettcga_primtum_all\n"
     ]
    },
    {
     "data": {
      "text/html": [
       "<table border=\"1\" class=\"dataframe\">\n",
       "  <thead>\n",
       "    <tr style=\"text-align: right;\">\n",
       "      <th></th>\n",
       "      <th>GTEX_expression_mean_&amp;_stdev</th>\n",
       "      <th>GTEX_highly_correlated</th>\n",
       "      <th>highly_correlated_in_TCGA_normal</th>\n",
       "      <th>highly_corelated_in_TCGA_primtum</th>\n",
       "    </tr>\n",
       "  </thead>\n",
       "  <tbody>\n",
       "    <tr>\n",
       "      <th>ITGB2</th>\n",
       "      <td>22.76 + 42.35</td>\n",
       "      <td>293</td>\n",
       "      <td>350</td>\n",
       "      <td>449</td>\n",
       "    </tr>\n",
       "  </tbody>\n",
       "</table>"
      ],
      "text/plain": [
       "<IPython.core.display.HTML object>"
      ]
     },
     "metadata": {},
     "output_type": "display_data"
    }
   ],
   "source": [
    "#table 3\n",
    "integrins_list=['ITGA7','ITGB8','ITGB6','ITGA10','ITGA6','ITGA4','ITGAV','ITGA9','ITGB5','ITGA1','ITGA2','ITGA8',\n",
    "'ITGB1','ITGB7','ITGA5','ITGBL1','ITGA11','ITGAL','ITGAM','ITGAX','ITGAD','ITGAE','ITGA2B','ITGB3','ITGA3',\n",
    "                'ITGB4','ITGB2']\n",
    "\n",
    "gtex_gct_dataset = 'gene_tpm_2017-06-05_v8_breast_mammary_tissue.gct_2'\n",
    "correlation_method ='pearson'\n",
    "correlation_cutoff = 0.6\n",
    "tcga_hiseq_dataset = '/home/hshadman/integrins_expression/saghar_TCGA_Breast/TCGA_BRCA_HiSeqV2' \n",
    "tcga_hiseq_corresponding_sample_info = '/home/hshadman/integrins_expression/saghar_TCGA_Breast/TCGA.BRCA.sampleMap_BRCA_clinicalMatrix'\n",
    "opposing_corr_cutoff = 0.1\n",
    "\n",
    "# make_data_presentable(interest_gene,correlation_method, correlation_cutoff,opposing_corr_cutoff,gtex_gct_dataset,\n",
    "#                          tcga_hiseq_dataset,tcga_hiseq_corresponding_sample_info)\n",
    "\n",
    "for interest_gene in integrins_list:\n",
    "    organize_no_overlap_table3(interest_gene,correlation_method, correlation_cutoff,opposing_corr_cutoff,gtex_gct_dataset,\n",
    "                         tcga_hiseq_dataset,tcga_hiseq_corresponding_sample_info)\n",
    "\n"
   ]
  },
  {
   "cell_type": "markdown",
   "metadata": {},
   "source": [
    "# scratch work"
   ]
  },
  {
   "cell_type": "code",
   "execution_count": 77,
   "metadata": {},
   "outputs": [
    {
     "name": "stdout",
     "output_type": "stream",
     "text": [
      "for 1th dataset ENTER: gtex_all\n",
      "for 2th dataset ENTER: tcga_normal_all\n",
      "no overlap between datasets\n",
      "insert name for 1th datasetgtex_all\n",
      "insert name for 2th datasettcga_normal_all\n",
      "for dataset ENTER: tcga_normal_all\n",
      "insert name for other datasettcga_normal_all\n",
      "1st: high cutoff applied to gtex dataset\n",
      "2nd: common genes identified with other dataset\n",
      "3rd: both datasets combined\n",
      "4th: High cutoff applied to non-gtex dataset\n",
      "for dataset ENTER: tcga_primtum_all\n",
      "insert name for other datasettcga_primtum_all\n",
      "1st: high cutoff applied to gtex dataset\n",
      "2nd: common genes identified with other dataset\n",
      "3rd: both datasets combined\n",
      "4th: High cutoff applied to non-gtex dataset\n",
      "1st: high cutoff applied to gtex dataset\n",
      "2nd: common genes identified with other datasets\n",
      "3rd: all datasets combined\n",
      "4th: High cutoff applied to non-gtex datasets\n"
     ]
    },
    {
     "data": {
      "text/html": [
       "<table border=\"1\" class=\"dataframe\">\n",
       "  <thead>\n",
       "    <tr style=\"text-align: right;\">\n",
       "      <th></th>\n",
       "      <th>GTEX_highly_correlated</th>\n",
       "      <th>%also_highly_correlated_in_TCGA_normal</th>\n",
       "      <th>%also_highly_correlated_in_TCGA_primtum</th>\n",
       "      <th>%also_highly_correlated_in_all_three</th>\n",
       "    </tr>\n",
       "  </thead>\n",
       "  <tbody>\n",
       "    <tr>\n",
       "      <th>ITGAX</th>\n",
       "      <td>257</td>\n",
       "      <td>40.077821(103)</td>\n",
       "      <td>36.964981(95)</td>\n",
       "      <td>30.350195(78)</td>\n",
       "    </tr>\n",
       "  </tbody>\n",
       "</table>"
      ],
      "text/plain": [
       "<IPython.core.display.HTML object>"
      ]
     },
     "metadata": {},
     "output_type": "display_data"
    }
   ],
   "source": [
    "organize_gtex_tcga_table1(interest_gene,correlation_method, correlation_cutoff,opposing_corr_cutoff,gtex_gct_dataset,\n",
    "                         tcga_hiseq_dataset,tcga_hiseq_corresponding_sample_info)"
   ]
  },
  {
   "cell_type": "code",
   "execution_count": 32,
   "metadata": {},
   "outputs": [
    {
     "name": "stdout",
     "output_type": "stream",
     "text": [
      "for 1th dataset ENTER: gtex_all\n",
      "for 2th dataset ENTER: tcga_normal_all\n",
      "no overlap between datasets\n",
      "insert name for 1th datasetgtex_all\n",
      "insert name for 2th datasettcga_normal_all\n",
      "for dataset ENTER: tcga_normal_all\n",
      "insert name for other datasettcga_normal_all\n",
      "1st: high cutoff applied to gtex dataset\n",
      "2nd: common genes identified with other dataset\n",
      "3rd: both datasets combined\n",
      "4th: low cutoff applied to non-gtex dataset\n",
      "for dataset ENTER: tcga_primtum_all\n",
      "insert name for other datasettcga_primtum_all\n",
      "1st: high cutoff applied to gtex dataset\n",
      "2nd: common genes identified with other dataset\n",
      "3rd: both datasets combined\n",
      "4th: low cutoff applied to non-gtex dataset\n"
     ]
    },
    {
     "data": {
      "text/html": [
       "<table border=\"1\" class=\"dataframe\">\n",
       "  <thead>\n",
       "    <tr style=\"text-align: right;\">\n",
       "      <th></th>\n",
       "      <th>GTEX_highly_correlated</th>\n",
       "      <th>%lowly_correlated_in_TCGA_normal</th>\n",
       "      <th>%lowly_correlated_in_TCGA_primtum</th>\n",
       "    </tr>\n",
       "  </thead>\n",
       "  <tbody>\n",
       "    <tr>\n",
       "      <th>ITGA7</th>\n",
       "      <td>317</td>\n",
       "      <td>0.000000(0)</td>\n",
       "      <td>21.766562(69)</td>\n",
       "    </tr>\n",
       "  </tbody>\n",
       "</table>"
      ],
      "text/plain": [
       "<IPython.core.display.HTML object>"
      ]
     },
     "metadata": {},
     "output_type": "display_data"
    }
   ],
   "source": [
    "organize_gtex_tcga_table2(interest_gene,correlation_method, correlation_cutoff,opposing_corr_cutoff,gtex_gct_dataset,\n",
    "                         tcga_hiseq_dataset,tcga_hiseq_corresponding_sample_info)"
   ]
  },
  {
   "cell_type": "code",
   "execution_count": 78,
   "metadata": {},
   "outputs": [
    {
     "name": "stdout",
     "output_type": "stream",
     "text": [
      "for 1th dataset ENTER: gtex_all\n",
      "for 2th dataset ENTER: tcga_normal_all\n",
      "no overlap between datasets\n",
      "insert name for 1th datasetgtex_all\n",
      "insert name for 2th datasettcga_normal_all\n",
      "for 1th dataset ENTER: gtex_all\n",
      "for 2th dataset ENTER: tcga_primtum_all\n",
      "no overlap between datasets\n",
      "insert name for 1th datasetgtex_all\n",
      "insert name for 2th datasettcga_primtum_all\n"
     ]
    },
    {
     "data": {
      "text/html": [
       "<table border=\"1\" class=\"dataframe\">\n",
       "  <thead>\n",
       "    <tr style=\"text-align: right;\">\n",
       "      <th></th>\n",
       "      <th>GTEX_expression_mean_&amp;_stdev</th>\n",
       "      <th>GTEX_highly_correlated</th>\n",
       "      <th>highly_correlated_in_TCGA_normal</th>\n",
       "      <th>highly_corelated_in_TCGA_primtum</th>\n",
       "    </tr>\n",
       "  </thead>\n",
       "  <tbody>\n",
       "    <tr>\n",
       "      <th>ITGAX</th>\n",
       "      <td>8.94 + 23.17</td>\n",
       "      <td>257</td>\n",
       "      <td>196</td>\n",
       "      <td>342</td>\n",
       "    </tr>\n",
       "  </tbody>\n",
       "</table>"
      ],
      "text/plain": [
       "<IPython.core.display.HTML object>"
      ]
     },
     "metadata": {},
     "output_type": "display_data"
    }
   ],
   "source": [
    "organize_no_overlap_table3(interest_gene,correlation_method, correlation_cutoff,opposing_corr_cutoff,gtex_gct_dataset,\n",
    "                         tcga_hiseq_dataset,tcga_hiseq_corresponding_sample_info)\n"
   ]
  },
  {
   "cell_type": "code",
   "execution_count": 75,
   "metadata": {},
   "outputs": [
    {
     "data": {
      "text/html": [
       "<div>\n",
       "<style scoped>\n",
       "    .dataframe tbody tr th:only-of-type {\n",
       "        vertical-align: middle;\n",
       "    }\n",
       "\n",
       "    .dataframe tbody tr th {\n",
       "        vertical-align: top;\n",
       "    }\n",
       "\n",
       "    .dataframe thead th {\n",
       "        text-align: right;\n",
       "    }\n",
       "</style>\n",
       "<table border=\"1\" class=\"dataframe\">\n",
       "  <thead>\n",
       "    <tr style=\"text-align: right;\">\n",
       "      <th>Description</th>\n",
       "      <th>ITGA10</th>\n",
       "      <th>ITGB6</th>\n",
       "      <th>ITGA6</th>\n",
       "      <th>ITGA4</th>\n",
       "      <th>ITGAV</th>\n",
       "      <th>ITGA9</th>\n",
       "      <th>ITGB5</th>\n",
       "      <th>ITGA1</th>\n",
       "      <th>ITGA2</th>\n",
       "      <th>ITGB8</th>\n",
       "      <th>...</th>\n",
       "      <th>ITGAL</th>\n",
       "      <th>ITGAM</th>\n",
       "      <th>ITGAX</th>\n",
       "      <th>ITGAD</th>\n",
       "      <th>ITGAE</th>\n",
       "      <th>ITGA2B</th>\n",
       "      <th>ITGB3</th>\n",
       "      <th>ITGA3</th>\n",
       "      <th>ITGB4</th>\n",
       "      <th>ITGB2</th>\n",
       "    </tr>\n",
       "  </thead>\n",
       "  <tbody>\n",
       "    <tr>\n",
       "      <th>GTEX-1117F-2826-SM-5GZXL</th>\n",
       "      <td>26.660</td>\n",
       "      <td>4.0630</td>\n",
       "      <td>64.53</td>\n",
       "      <td>1.0940</td>\n",
       "      <td>30.85</td>\n",
       "      <td>9.045</td>\n",
       "      <td>161.50</td>\n",
       "      <td>24.31</td>\n",
       "      <td>4.8800</td>\n",
       "      <td>6.5180</td>\n",
       "      <td>...</td>\n",
       "      <td>2.856</td>\n",
       "      <td>2.9380</td>\n",
       "      <td>6.4620</td>\n",
       "      <td>0.0619</td>\n",
       "      <td>6.577</td>\n",
       "      <td>2.0960</td>\n",
       "      <td>17.700</td>\n",
       "      <td>44.29</td>\n",
       "      <td>48.63</td>\n",
       "      <td>5.644</td>\n",
       "    </tr>\n",
       "    <tr>\n",
       "      <th>GTEX-111YS-1926-SM-5GICC</th>\n",
       "      <td>40.580</td>\n",
       "      <td>8.6670</td>\n",
       "      <td>80.77</td>\n",
       "      <td>2.3370</td>\n",
       "      <td>41.52</td>\n",
       "      <td>11.730</td>\n",
       "      <td>84.21</td>\n",
       "      <td>26.15</td>\n",
       "      <td>8.6830</td>\n",
       "      <td>12.4000</td>\n",
       "      <td>...</td>\n",
       "      <td>3.977</td>\n",
       "      <td>1.6610</td>\n",
       "      <td>3.3690</td>\n",
       "      <td>0.0219</td>\n",
       "      <td>5.686</td>\n",
       "      <td>0.8640</td>\n",
       "      <td>6.213</td>\n",
       "      <td>38.93</td>\n",
       "      <td>77.83</td>\n",
       "      <td>7.989</td>\n",
       "    </tr>\n",
       "    <tr>\n",
       "      <th>GTEX-1122O-1226-SM-5H113</th>\n",
       "      <td>25.150</td>\n",
       "      <td>4.4230</td>\n",
       "      <td>62.86</td>\n",
       "      <td>4.9140</td>\n",
       "      <td>35.61</td>\n",
       "      <td>11.150</td>\n",
       "      <td>90.79</td>\n",
       "      <td>22.51</td>\n",
       "      <td>4.1400</td>\n",
       "      <td>8.1060</td>\n",
       "      <td>...</td>\n",
       "      <td>2.816</td>\n",
       "      <td>10.6300</td>\n",
       "      <td>3.1200</td>\n",
       "      <td>0.3853</td>\n",
       "      <td>8.283</td>\n",
       "      <td>0.8111</td>\n",
       "      <td>9.594</td>\n",
       "      <td>33.19</td>\n",
       "      <td>96.58</td>\n",
       "      <td>27.590</td>\n",
       "    </tr>\n",
       "    <tr>\n",
       "      <th>GTEX-117XS-1926-SM-5GICO</th>\n",
       "      <td>3.131</td>\n",
       "      <td>0.0799</td>\n",
       "      <td>83.15</td>\n",
       "      <td>2.3110</td>\n",
       "      <td>30.58</td>\n",
       "      <td>6.013</td>\n",
       "      <td>118.90</td>\n",
       "      <td>39.59</td>\n",
       "      <td>2.2420</td>\n",
       "      <td>0.8251</td>\n",
       "      <td>...</td>\n",
       "      <td>6.755</td>\n",
       "      <td>9.2130</td>\n",
       "      <td>17.1400</td>\n",
       "      <td>0.3599</td>\n",
       "      <td>10.170</td>\n",
       "      <td>1.8370</td>\n",
       "      <td>6.471</td>\n",
       "      <td>28.82</td>\n",
       "      <td>70.39</td>\n",
       "      <td>48.720</td>\n",
       "    </tr>\n",
       "    <tr>\n",
       "      <th>GTEX-117YX-1426-SM-5H12H</th>\n",
       "      <td>4.192</td>\n",
       "      <td>0.0649</td>\n",
       "      <td>28.96</td>\n",
       "      <td>1.3680</td>\n",
       "      <td>24.32</td>\n",
       "      <td>8.683</td>\n",
       "      <td>68.26</td>\n",
       "      <td>10.97</td>\n",
       "      <td>0.6376</td>\n",
       "      <td>1.3710</td>\n",
       "      <td>...</td>\n",
       "      <td>1.849</td>\n",
       "      <td>15.4200</td>\n",
       "      <td>2.1920</td>\n",
       "      <td>0.0731</td>\n",
       "      <td>5.879</td>\n",
       "      <td>0.6185</td>\n",
       "      <td>6.386</td>\n",
       "      <td>10.60</td>\n",
       "      <td>19.44</td>\n",
       "      <td>43.780</td>\n",
       "    </tr>\n",
       "    <tr>\n",
       "      <th>...</th>\n",
       "      <td>...</td>\n",
       "      <td>...</td>\n",
       "      <td>...</td>\n",
       "      <td>...</td>\n",
       "      <td>...</td>\n",
       "      <td>...</td>\n",
       "      <td>...</td>\n",
       "      <td>...</td>\n",
       "      <td>...</td>\n",
       "      <td>...</td>\n",
       "      <td>...</td>\n",
       "      <td>...</td>\n",
       "      <td>...</td>\n",
       "      <td>...</td>\n",
       "      <td>...</td>\n",
       "      <td>...</td>\n",
       "      <td>...</td>\n",
       "      <td>...</td>\n",
       "      <td>...</td>\n",
       "      <td>...</td>\n",
       "      <td>...</td>\n",
       "    </tr>\n",
       "    <tr>\n",
       "      <th>GTEX-ZYFC-0826-SM-5E44K</th>\n",
       "      <td>2.070</td>\n",
       "      <td>0.5010</td>\n",
       "      <td>100.90</td>\n",
       "      <td>1.9830</td>\n",
       "      <td>29.83</td>\n",
       "      <td>4.940</td>\n",
       "      <td>118.00</td>\n",
       "      <td>54.48</td>\n",
       "      <td>1.1100</td>\n",
       "      <td>0.8023</td>\n",
       "      <td>...</td>\n",
       "      <td>5.253</td>\n",
       "      <td>6.1100</td>\n",
       "      <td>7.0290</td>\n",
       "      <td>0.2819</td>\n",
       "      <td>9.798</td>\n",
       "      <td>2.0110</td>\n",
       "      <td>10.490</td>\n",
       "      <td>30.41</td>\n",
       "      <td>31.50</td>\n",
       "      <td>11.210</td>\n",
       "    </tr>\n",
       "    <tr>\n",
       "      <th>GTEX-ZYT6-0126-SM-5E45J</th>\n",
       "      <td>3.779</td>\n",
       "      <td>0.1647</td>\n",
       "      <td>98.94</td>\n",
       "      <td>1.4730</td>\n",
       "      <td>21.16</td>\n",
       "      <td>10.800</td>\n",
       "      <td>96.98</td>\n",
       "      <td>31.49</td>\n",
       "      <td>1.6630</td>\n",
       "      <td>0.6112</td>\n",
       "      <td>...</td>\n",
       "      <td>5.823</td>\n",
       "      <td>4.1250</td>\n",
       "      <td>2.5420</td>\n",
       "      <td>0.1390</td>\n",
       "      <td>9.708</td>\n",
       "      <td>2.2600</td>\n",
       "      <td>6.521</td>\n",
       "      <td>21.96</td>\n",
       "      <td>40.66</td>\n",
       "      <td>8.177</td>\n",
       "    </tr>\n",
       "    <tr>\n",
       "      <th>GTEX-ZYW4-0826-SM-5GIDG</th>\n",
       "      <td>8.663</td>\n",
       "      <td>0.2067</td>\n",
       "      <td>22.88</td>\n",
       "      <td>1.0020</td>\n",
       "      <td>26.08</td>\n",
       "      <td>6.079</td>\n",
       "      <td>122.30</td>\n",
       "      <td>21.21</td>\n",
       "      <td>0.8370</td>\n",
       "      <td>2.5160</td>\n",
       "      <td>...</td>\n",
       "      <td>2.145</td>\n",
       "      <td>4.7770</td>\n",
       "      <td>3.7860</td>\n",
       "      <td>0.1476</td>\n",
       "      <td>5.169</td>\n",
       "      <td>0.9999</td>\n",
       "      <td>13.310</td>\n",
       "      <td>27.05</td>\n",
       "      <td>33.45</td>\n",
       "      <td>11.200</td>\n",
       "    </tr>\n",
       "    <tr>\n",
       "      <th>GTEX-ZZ64-1226-SM-5E43R</th>\n",
       "      <td>3.342</td>\n",
       "      <td>0.0537</td>\n",
       "      <td>31.63</td>\n",
       "      <td>0.2916</td>\n",
       "      <td>26.81</td>\n",
       "      <td>15.360</td>\n",
       "      <td>98.44</td>\n",
       "      <td>24.32</td>\n",
       "      <td>0.4011</td>\n",
       "      <td>0.2316</td>\n",
       "      <td>...</td>\n",
       "      <td>0.262</td>\n",
       "      <td>0.9996</td>\n",
       "      <td>0.8714</td>\n",
       "      <td>0.0000</td>\n",
       "      <td>5.824</td>\n",
       "      <td>1.7490</td>\n",
       "      <td>2.966</td>\n",
       "      <td>19.83</td>\n",
       "      <td>16.93</td>\n",
       "      <td>3.777</td>\n",
       "    </tr>\n",
       "    <tr>\n",
       "      <th>GTEX-ZZPU-0626-SM-5E43T</th>\n",
       "      <td>38.800</td>\n",
       "      <td>18.8700</td>\n",
       "      <td>78.66</td>\n",
       "      <td>4.3070</td>\n",
       "      <td>37.20</td>\n",
       "      <td>10.950</td>\n",
       "      <td>102.70</td>\n",
       "      <td>20.83</td>\n",
       "      <td>11.9000</td>\n",
       "      <td>19.0100</td>\n",
       "      <td>...</td>\n",
       "      <td>4.702</td>\n",
       "      <td>16.0600</td>\n",
       "      <td>2.4040</td>\n",
       "      <td>0.0981</td>\n",
       "      <td>7.693</td>\n",
       "      <td>0.5315</td>\n",
       "      <td>7.347</td>\n",
       "      <td>60.80</td>\n",
       "      <td>199.50</td>\n",
       "      <td>53.810</td>\n",
       "    </tr>\n",
       "  </tbody>\n",
       "</table>\n",
       "<p>459 rows × 27 columns</p>\n",
       "</div>"
      ],
      "text/plain": [
       "Description               ITGA10    ITGB6   ITGA6   ITGA4  ITGAV   ITGA9  \\\n",
       "GTEX-1117F-2826-SM-5GZXL  26.660   4.0630   64.53  1.0940  30.85   9.045   \n",
       "GTEX-111YS-1926-SM-5GICC  40.580   8.6670   80.77  2.3370  41.52  11.730   \n",
       "GTEX-1122O-1226-SM-5H113  25.150   4.4230   62.86  4.9140  35.61  11.150   \n",
       "GTEX-117XS-1926-SM-5GICO   3.131   0.0799   83.15  2.3110  30.58   6.013   \n",
       "GTEX-117YX-1426-SM-5H12H   4.192   0.0649   28.96  1.3680  24.32   8.683   \n",
       "...                          ...      ...     ...     ...    ...     ...   \n",
       "GTEX-ZYFC-0826-SM-5E44K    2.070   0.5010  100.90  1.9830  29.83   4.940   \n",
       "GTEX-ZYT6-0126-SM-5E45J    3.779   0.1647   98.94  1.4730  21.16  10.800   \n",
       "GTEX-ZYW4-0826-SM-5GIDG    8.663   0.2067   22.88  1.0020  26.08   6.079   \n",
       "GTEX-ZZ64-1226-SM-5E43R    3.342   0.0537   31.63  0.2916  26.81  15.360   \n",
       "GTEX-ZZPU-0626-SM-5E43T   38.800  18.8700   78.66  4.3070  37.20  10.950   \n",
       "\n",
       "Description                ITGB5  ITGA1    ITGA2    ITGB8  ...  ITGAL  \\\n",
       "GTEX-1117F-2826-SM-5GZXL  161.50  24.31   4.8800   6.5180  ...  2.856   \n",
       "GTEX-111YS-1926-SM-5GICC   84.21  26.15   8.6830  12.4000  ...  3.977   \n",
       "GTEX-1122O-1226-SM-5H113   90.79  22.51   4.1400   8.1060  ...  2.816   \n",
       "GTEX-117XS-1926-SM-5GICO  118.90  39.59   2.2420   0.8251  ...  6.755   \n",
       "GTEX-117YX-1426-SM-5H12H   68.26  10.97   0.6376   1.3710  ...  1.849   \n",
       "...                          ...    ...      ...      ...  ...    ...   \n",
       "GTEX-ZYFC-0826-SM-5E44K   118.00  54.48   1.1100   0.8023  ...  5.253   \n",
       "GTEX-ZYT6-0126-SM-5E45J    96.98  31.49   1.6630   0.6112  ...  5.823   \n",
       "GTEX-ZYW4-0826-SM-5GIDG   122.30  21.21   0.8370   2.5160  ...  2.145   \n",
       "GTEX-ZZ64-1226-SM-5E43R    98.44  24.32   0.4011   0.2316  ...  0.262   \n",
       "GTEX-ZZPU-0626-SM-5E43T   102.70  20.83  11.9000  19.0100  ...  4.702   \n",
       "\n",
       "Description                 ITGAM    ITGAX   ITGAD   ITGAE  ITGA2B   ITGB3  \\\n",
       "GTEX-1117F-2826-SM-5GZXL   2.9380   6.4620  0.0619   6.577  2.0960  17.700   \n",
       "GTEX-111YS-1926-SM-5GICC   1.6610   3.3690  0.0219   5.686  0.8640   6.213   \n",
       "GTEX-1122O-1226-SM-5H113  10.6300   3.1200  0.3853   8.283  0.8111   9.594   \n",
       "GTEX-117XS-1926-SM-5GICO   9.2130  17.1400  0.3599  10.170  1.8370   6.471   \n",
       "GTEX-117YX-1426-SM-5H12H  15.4200   2.1920  0.0731   5.879  0.6185   6.386   \n",
       "...                           ...      ...     ...     ...     ...     ...   \n",
       "GTEX-ZYFC-0826-SM-5E44K    6.1100   7.0290  0.2819   9.798  2.0110  10.490   \n",
       "GTEX-ZYT6-0126-SM-5E45J    4.1250   2.5420  0.1390   9.708  2.2600   6.521   \n",
       "GTEX-ZYW4-0826-SM-5GIDG    4.7770   3.7860  0.1476   5.169  0.9999  13.310   \n",
       "GTEX-ZZ64-1226-SM-5E43R    0.9996   0.8714  0.0000   5.824  1.7490   2.966   \n",
       "GTEX-ZZPU-0626-SM-5E43T   16.0600   2.4040  0.0981   7.693  0.5315   7.347   \n",
       "\n",
       "Description               ITGA3   ITGB4   ITGB2  \n",
       "GTEX-1117F-2826-SM-5GZXL  44.29   48.63   5.644  \n",
       "GTEX-111YS-1926-SM-5GICC  38.93   77.83   7.989  \n",
       "GTEX-1122O-1226-SM-5H113  33.19   96.58  27.590  \n",
       "GTEX-117XS-1926-SM-5GICO  28.82   70.39  48.720  \n",
       "GTEX-117YX-1426-SM-5H12H  10.60   19.44  43.780  \n",
       "...                         ...     ...     ...  \n",
       "GTEX-ZYFC-0826-SM-5E44K   30.41   31.50  11.210  \n",
       "GTEX-ZYT6-0126-SM-5E45J   21.96   40.66   8.177  \n",
       "GTEX-ZYW4-0826-SM-5GIDG   27.05   33.45  11.200  \n",
       "GTEX-ZZ64-1226-SM-5E43R   19.83   16.93   3.777  \n",
       "GTEX-ZZPU-0626-SM-5E43T   60.80  199.50  53.810  \n",
       "\n",
       "[459 rows x 27 columns]"
      ]
     },
     "execution_count": 75,
     "metadata": {},
     "output_type": "execute_result"
    }
   ],
   "source": [
    "gtex_test[gtex_test.columns[gtex_test.columns.str.contains(\"ITG\")]]"
   ]
  },
  {
   "cell_type": "code",
   "execution_count": null,
   "metadata": {},
   "outputs": [],
   "source": []
  }
 ],
 "metadata": {
  "kernelspec": {
   "display_name": "Python 3",
   "language": "python",
   "name": "python3"
  },
  "language_info": {
   "codemirror_mode": {
    "name": "ipython",
    "version": 3
   },
   "file_extension": ".py",
   "mimetype": "text/x-python",
   "name": "python",
   "nbconvert_exporter": "python",
   "pygments_lexer": "ipython3",
   "version": "3.7.0"
  }
 },
 "nbformat": 4,
 "nbformat_minor": 5
}
